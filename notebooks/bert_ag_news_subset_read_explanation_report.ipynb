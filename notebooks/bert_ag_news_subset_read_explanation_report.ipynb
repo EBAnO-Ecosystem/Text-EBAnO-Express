{
 "cells": [
  {
   "cell_type": "code",
   "execution_count": 1,
   "metadata": {},
   "outputs": [],
   "source": [
    "from IPython.display import display,HTML,clear_output\n",
    "import json"
   ]
  },
  {
   "cell_type": "markdown",
   "metadata": {},
   "source": [
    "# Read explanation report"
   ]
  },
  {
   "cell_type": "code",
   "execution_count": 2,
   "metadata": {},
   "outputs": [],
   "source": [
    "explanation_report_filepath = \"/Users/salvatore/PycharmProjects/T-EBAnO-Express/outputs/20201128_bert_model_ag_news_subset_exp0/local_explanations_experiments/20201206_012332/local_explanations/local_explanation_report_4.json\"\n",
    "\n",
    "\n"
   ]
  },
  {
   "cell_type": "code",
   "execution_count": 3,
   "metadata": {},
   "outputs": [],
   "source": [
    "with open(explanation_report_filepath) as json_file:\n",
    "    explanation_report = json.load(json_file)"
   ]
  },
  {
   "cell_type": "markdown",
   "metadata": {},
   "source": [
    "# Parse explanation report"
   ]
  },
  {
   "cell_type": "code",
   "execution_count": 4,
   "metadata": {},
   "outputs": [],
   "source": [
    "input_info = explanation_report[\"input_info\"]\n",
    "input_positions_tokens = input_info[\"positions_tokens\"]\n",
    "raw_text = input_info[\"raw_text\"]\n",
    "cleaned_text = input_info[\"cleaned_text\"]\n",
    "preprocessed_text = input_info[\"preprocessed_text\"]"
   ]
  },
  {
   "cell_type": "code",
   "execution_count": 5,
   "metadata": {},
   "outputs": [],
   "source": [
    "pos_local_explanations = []  # pos features without combinations\n",
    "sen_local_explanations = []  # sen features without combinations\n",
    "mlwe_local_explanations = []  # mlwe features without combinations\n",
    "pos_local_explanations_comb = []  # All pos features (also combinations)\n",
    "sen_local_explanations_comb = []  # All sen features (also combinations)\n",
    "mlwe_local_explanations_comb = []  # All mlwe features (also combinations)\n",
    "\n",
    "for le in explanation_report[\"local_explanations\"]:\n",
    "    if le[\"feature_type\"] == \"POS\" and le[\"combination\"] == 1:\n",
    "        pos_local_explanations.append(le)\n",
    "    if le[\"feature_type\"] == \"SEN\" and le[\"combination\"] == 1:\n",
    "        sen_local_explanations.append(le)\n",
    "    if le[\"feature_type\"] == \"MLWE\" and le[\"combination\"] == 1:\n",
    "        mlwe_local_explanations.append(le)\n",
    "    if le[\"feature_type\"] == \"POS\":\n",
    "        pos_local_explanations_comb.append(le)\n",
    "    if le[\"feature_type\"] == \"SEN\":  \n",
    "        sen_local_explanations_comb.append(le)\n",
    "    if le[\"feature_type\"] == \"MLWE\":\n",
    "        mlwe_local_explanations_comb.append(le)\n",
    "        "
   ]
  },
  {
   "cell_type": "code",
   "execution_count": 6,
   "metadata": {},
   "outputs": [],
   "source": [
    "pos_positions_tokens_score = {} # Dictionary for pos features with position as key and as value the tuple (token, nPIR)\n",
    "sen_positions_tokens_score = {}#  Dictionary for sen features with position as key and as value the tuple (token, nPIR)\n",
    "mlwe_positions_tokens_score = {} # Dictionary for mlwe features with position as key and as value the tuple (token, nPIR)\n",
    "\n",
    "for le in pos_local_explanations:\n",
    "    for position, token in le[\"positions_tokens\"].items():\n",
    "        pos_positions_tokens_score[position] = (token, round(le[\"nPIR_original_top_class\"],4))\n",
    "        \n",
    "for le in sen_local_explanations:\n",
    "    for position, token in le[\"positions_tokens\"].items():\n",
    "        sen_positions_tokens_score[position] = (token, round(le[\"nPIR_original_top_class\"],4))\n",
    "\n",
    "for le in mlwe_local_explanations:\n",
    "    for position, token in le[\"positions_tokens\"].items():\n",
    "        mlwe_positions_tokens_score[position] = (token, round(le[\"nPIR_original_top_class\"],4))\n",
    "    "
   ]
  },
  {
   "cell_type": "markdown",
   "metadata": {},
   "source": [
    "# Utility functions\n"
   ]
  },
  {
   "cell_type": "code",
   "execution_count": 7,
   "metadata": {},
   "outputs": [],
   "source": [
    "def label_name(label):\n",
    "    return [\"World\", \"Sports\", \"Business\", \"Sci/Tech\"][label]\n",
    "\n",
    "def get_summary_string(position_token_score):\n",
    "    positive_color = \"background-color:#00FF00\"\n",
    "    negative_color = \"background-color:#FF00FF\"\n",
    "    html_string = \"\"\n",
    "\n",
    "    for position in sorted(position_token_score.keys(), key=lambda k: int(k)):\n",
    "        token_score = position_token_score[position]\n",
    "        if token_score[1] >= 0:\n",
    "            positive_color = \"background-color:rgba(124, 252, 0, {})\".format(token_score[1])\n",
    "            html_string = html_string + '<span style=\"{}\"><b>{}</b></span> '.format(positive_color,token_score[0])\n",
    "        else:\n",
    "            negative_color = \"background-color:rgba(255, 99, 71, {})\".format(token_score[1])\n",
    "            html_string = html_string + '<span style=\"{}\"><b>{}</b></span> '.format(negative_color,token_score[0])\n",
    "            \n",
    "    return html_string\n",
    "\n",
    "def get_feature_colored_html_string(input_positions_tokens, feature_positions_tokens):\n",
    "    html_string = \"\"\n",
    "    feature_color = \"background-color:rgba(0, 255, 255, 1)\"\n",
    "    for position in range(len(input_positions_tokens)):\n",
    "        if str(position) in feature_positions_tokens:\n",
    "            html_string = html_string + '<span style=\"{}\"><b>{}</b></span> '.format(feature_color,input_positions_tokens[position])\n",
    "        else:\n",
    "            html_string = html_string + '<span><b>{}</b></span> '.format(input_positions_tokens[position])\n",
    "    return html_string\n",
    "    \n",
    "\n",
    "def print_local_explanation(le, input_positions_tokens):\n",
    "    if len(le[\"positions_tokens\"]) == 0:\n",
    "        return\n",
    "    print(\"LocalExplanationId: {}, FeatureId: {}\".format(le[\"local_explanation_id\"], le[\"feature_id\"]))\n",
    "    print(\"feature type: \",le[\"feature_type\"])\n",
    "    print(\"feature description: \", le[\"feature_description\"])\n",
    "    print(\"feature (position,token): \" ,le[\"positions_tokens\"])\n",
    "    print(\"Perturbed Text:  \",le[\"perturbed_text\"])\n",
    "    print(\"perturbed probabilities: \",le[\"perturbed_probabilities\"])\n",
    "    print(\"nPIR Original Class: \" ,round(le[\"nPIR_original_top_class\"],3))\n",
    "    display(HTML(get_feature_colored_html_string(input_positions_tokens,le[\"positions_tokens\"])))\n",
    "    print(\"\\n\")\n",
    "    print(\"\\n\")\n",
    "    return"
   ]
  },
  {
   "cell_type": "code",
   "execution_count": 8,
   "metadata": {},
   "outputs": [
    {
     "data": {
      "text/html": [
       "<h1>Input Text info</h1>"
      ],
      "text/plain": [
       "<IPython.core.display.HTML object>"
      ]
     },
     "metadata": {},
     "output_type": "display_data"
    },
    {
     "data": {
      "text/html": [
       "Raw Text:   <b>.Mac bumps up storage capacity, improves mail (MacCentral). MacCentral - Apple has improved the services offered to subscribers of .Mac. Previously, the amount of storage for a basic .Mac account was 100MB, with a maximum of 15MB for e-mail. The service's base online storage has been increased to 250MB, e-mail service has been enhanced, and the cost of upgrading has been reduced. .Mac's basic subscription price remains the same -- US per year. </b>"
      ],
      "text/plain": [
       "<IPython.core.display.HTML object>"
      ]
     },
     "metadata": {},
     "output_type": "display_data"
    },
    {
     "data": {
      "text/html": [
       "Clean Text:   <b>.Mac bumps up storage capacity, improves mail (MacCentral). MacCentral - Apple has improved the services offered to subscribers of .Mac. Previously, the amount of storage for a basic .Mac account was 100MB, with a maximum of 15MB for e-mail. The service's base online storage has been increased to 250MB, e-mail service has been enhanced, and the cost of upgrading has been reduced. .Mac's basic subscription price remains the same -- US per year. </b>"
      ],
      "text/plain": [
       "<IPython.core.display.HTML object>"
      ]
     },
     "metadata": {},
     "output_type": "display_data"
    },
    {
     "data": {
      "text/html": [
       "Preprocessed Text:   <b>. mac bumps up storage capacity , improves mail ( maccentral ) . maccentral - apple has improved the services offered to subscribers of . mac . previously , the amount of storage for a basic . mac account was 100mb , with a maximum of 15mb for e - mail . the service ' s base online storage has been increased to 250mb , e - mail service has been enhanced , and the cost of upgrading has been reduced . . mac ' s basic subscription price remains the same - - us per year . </b>"
      ],
      "text/plain": [
       "<IPython.core.display.HTML object>"
      ]
     },
     "metadata": {},
     "output_type": "display_data"
    }
   ],
   "source": [
    "display(HTML('<h1>Input Text info</h1>'))\n",
    "display(HTML('Raw Text:   <b>{} </b>'.format(raw_text)))\n",
    "display(HTML('Clean Text:   <b>{} </b>'.format(cleaned_text)))\n",
    "display(HTML('Preprocessed Text:   <b>{} </b>'.format(preprocessed_text)))"
   ]
  },
  {
   "cell_type": "code",
   "execution_count": 9,
   "metadata": {
    "scrolled": false
   },
   "outputs": [
    {
     "data": {
      "text/html": [
       "<h1>Multi-Layer Word Embedding Features Summary</h1>"
      ],
      "text/plain": [
       "<IPython.core.display.HTML object>"
      ]
     },
     "metadata": {},
     "output_type": "display_data"
    },
    {
     "data": {
      "text/html": [
       "Predicted Class: <b>Sci/Tech </b>"
      ],
      "text/plain": [
       "<IPython.core.display.HTML object>"
      ]
     },
     "metadata": {},
     "output_type": "display_data"
    },
    {
     "data": {
      "text/html": [
       "Original Probability: <b>[0.00030222180066630244, 1.179747505375417e-05, 0.00014384924725163728, 0.9995421171188354] </b>"
      ],
      "text/plain": [
       "<IPython.core.display.HTML object>"
      ]
     },
     "metadata": {},
     "output_type": "display_data"
    },
    {
     "data": {
      "text/html": [
       "<span style=\"background-color:rgba(124, 252, 0, 0.7741)\"><b>.</b></span> <span style=\"background-color:rgba(124, 252, 0, 0.7741)\"><b>mac</b></span> <span style=\"background-color:rgba(124, 252, 0, 0.7741)\"><b>bumps</b></span> <span style=\"background-color:rgba(124, 252, 0, 0.7741)\"><b>up</b></span> <span style=\"background-color:rgba(124, 252, 0, 0.7741)\"><b>storage</b></span> <span style=\"background-color:rgba(124, 252, 0, 0.7741)\"><b>capacity</b></span> <span style=\"background-color:rgba(124, 252, 0, 0.7741)\"><b>,</b></span> <span style=\"background-color:rgba(124, 252, 0, 0.7741)\"><b>improves</b></span> <span style=\"background-color:rgba(124, 252, 0, 0.7741)\"><b>mail</b></span> <span style=\"background-color:rgba(124, 252, 0, 0.7741)\"><b>(</b></span> <span style=\"background-color:rgba(124, 252, 0, 0.7741)\"><b>maccentral</b></span> <span style=\"background-color:rgba(255, 99, 71, -0.0006)\"><b>)</b></span> <span style=\"background-color:rgba(255, 99, 71, -0.0006)\"><b>.</b></span> <span style=\"background-color:rgba(124, 252, 0, 0.7741)\"><b>maccentral</b></span> <span style=\"background-color:rgba(124, 252, 0, 0.7741)\"><b>-</b></span> <span style=\"background-color:rgba(124, 252, 0, 0.7741)\"><b>apple</b></span> <span style=\"background-color:rgba(124, 252, 0, 0.7741)\"><b>has</b></span> <span style=\"background-color:rgba(124, 252, 0, 0.7741)\"><b>improved</b></span> <span style=\"background-color:rgba(124, 252, 0, 0.7741)\"><b>the</b></span> <span style=\"background-color:rgba(124, 252, 0, 0.7741)\"><b>services</b></span> <span style=\"background-color:rgba(124, 252, 0, 0.7741)\"><b>offered</b></span> <span style=\"background-color:rgba(124, 252, 0, 0.7741)\"><b>to</b></span> <span style=\"background-color:rgba(124, 252, 0, 0.7741)\"><b>subscribers</b></span> <span style=\"background-color:rgba(124, 252, 0, 0.7741)\"><b>of</b></span> <span style=\"background-color:rgba(124, 252, 0, 0.7741)\"><b>.</b></span> <span style=\"background-color:rgba(124, 252, 0, 0.7741)\"><b>mac</b></span> <span style=\"background-color:rgba(124, 252, 0, 0.7741)\"><b>.</b></span> <span style=\"background-color:rgba(124, 252, 0, 0.7741)\"><b>previously</b></span> <span style=\"background-color:rgba(124, 252, 0, 0.7741)\"><b>,</b></span> <span style=\"background-color:rgba(124, 252, 0, 0.7741)\"><b>the</b></span> <span style=\"background-color:rgba(124, 252, 0, 0.7741)\"><b>amount</b></span> <span style=\"background-color:rgba(124, 252, 0, 0.7741)\"><b>of</b></span> <span style=\"background-color:rgba(124, 252, 0, 0.7741)\"><b>storage</b></span> <span style=\"background-color:rgba(124, 252, 0, 0.7741)\"><b>for</b></span> <span style=\"background-color:rgba(124, 252, 0, 0.7741)\"><b>a</b></span> <span style=\"background-color:rgba(124, 252, 0, 0.7741)\"><b>basic</b></span> <span style=\"background-color:rgba(124, 252, 0, 0.7741)\"><b>.</b></span> <span style=\"background-color:rgba(124, 252, 0, 0.7741)\"><b>mac</b></span> <span style=\"background-color:rgba(124, 252, 0, 0.7741)\"><b>account</b></span> <span style=\"background-color:rgba(124, 252, 0, 0.7741)\"><b>was</b></span> <span style=\"background-color:rgba(124, 252, 0, 0.7741)\"><b>100mb</b></span> <span style=\"background-color:rgba(255, 99, 71, -0.0006)\"><b>,</b></span> <span style=\"background-color:rgba(124, 252, 0, 0.7741)\"><b>with</b></span> <span style=\"background-color:rgba(124, 252, 0, 0.7741)\"><b>a</b></span> <span style=\"background-color:rgba(124, 252, 0, 0.7741)\"><b>maximum</b></span> <span style=\"background-color:rgba(124, 252, 0, 0.7741)\"><b>of</b></span> <span style=\"background-color:rgba(124, 252, 0, 0.7741)\"><b>15mb</b></span> <span style=\"background-color:rgba(124, 252, 0, 0.7741)\"><b>for</b></span> <span style=\"background-color:rgba(124, 252, 0, 0.7741)\"><b>e</b></span> <span style=\"background-color:rgba(255, 99, 71, -0.0006)\"><b>-</b></span> <span style=\"background-color:rgba(124, 252, 0, 0.7741)\"><b>mail</b></span> <span style=\"background-color:rgba(255, 99, 71, -0.0006)\"><b>.</b></span> <span style=\"background-color:rgba(124, 252, 0, 0.7741)\"><b>the</b></span> <span style=\"background-color:rgba(124, 252, 0, 0.7741)\"><b>service</b></span> <span style=\"background-color:rgba(255, 99, 71, -0.0006)\"><b>'</b></span> <span style=\"background-color:rgba(255, 99, 71, -0.0006)\"><b>s</b></span> <span style=\"background-color:rgba(124, 252, 0, 0.7741)\"><b>base</b></span> <span style=\"background-color:rgba(124, 252, 0, 0.7741)\"><b>online</b></span> <span style=\"background-color:rgba(124, 252, 0, 0.7741)\"><b>storage</b></span> <span style=\"background-color:rgba(124, 252, 0, 0.7741)\"><b>has</b></span> <span style=\"background-color:rgba(124, 252, 0, 0.7741)\"><b>been</b></span> <span style=\"background-color:rgba(124, 252, 0, 0.7741)\"><b>increased</b></span> <span style=\"background-color:rgba(124, 252, 0, 0.7741)\"><b>to</b></span> <span style=\"background-color:rgba(124, 252, 0, 0.7741)\"><b>250mb</b></span> <span style=\"background-color:rgba(255, 99, 71, -0.0006)\"><b>,</b></span> <span style=\"background-color:rgba(124, 252, 0, 0.7741)\"><b>e</b></span> <span style=\"background-color:rgba(255, 99, 71, -0.0006)\"><b>-</b></span> <span style=\"background-color:rgba(124, 252, 0, 0.7741)\"><b>mail</b></span> <span style=\"background-color:rgba(124, 252, 0, 0.7741)\"><b>service</b></span> <span style=\"background-color:rgba(124, 252, 0, 0.7741)\"><b>has</b></span> <span style=\"background-color:rgba(124, 252, 0, 0.7741)\"><b>been</b></span> <span style=\"background-color:rgba(124, 252, 0, 0.7741)\"><b>enhanced</b></span> <span style=\"background-color:rgba(255, 99, 71, -0.0006)\"><b>,</b></span> <span style=\"background-color:rgba(124, 252, 0, 0.7741)\"><b>and</b></span> <span style=\"background-color:rgba(124, 252, 0, 0.7741)\"><b>the</b></span> <span style=\"background-color:rgba(124, 252, 0, 0.7741)\"><b>cost</b></span> <span style=\"background-color:rgba(124, 252, 0, 0.7741)\"><b>of</b></span> <span style=\"background-color:rgba(124, 252, 0, 0.7741)\"><b>upgrading</b></span> <span style=\"background-color:rgba(124, 252, 0, 0.7741)\"><b>has</b></span> <span style=\"background-color:rgba(124, 252, 0, 0.7741)\"><b>been</b></span> <span style=\"background-color:rgba(124, 252, 0, 0.7741)\"><b>reduced</b></span> <span style=\"background-color:rgba(124, 252, 0, 0.7741)\"><b>.</b></span> <span style=\"background-color:rgba(124, 252, 0, 0.7741)\"><b>.</b></span> <span style=\"background-color:rgba(124, 252, 0, 0.7741)\"><b>mac</b></span> <span style=\"background-color:rgba(255, 99, 71, -0.0006)\"><b>'</b></span> <span style=\"background-color:rgba(124, 252, 0, 0.7741)\"><b>s</b></span> <span style=\"background-color:rgba(124, 252, 0, 0.7741)\"><b>basic</b></span> <span style=\"background-color:rgba(124, 252, 0, 0.7741)\"><b>subscription</b></span> <span style=\"background-color:rgba(124, 252, 0, 0.7741)\"><b>price</b></span> <span style=\"background-color:rgba(124, 252, 0, 0.7741)\"><b>remains</b></span> <span style=\"background-color:rgba(124, 252, 0, 0.7741)\"><b>the</b></span> <span style=\"background-color:rgba(124, 252, 0, 0.7741)\"><b>same</b></span> <span style=\"background-color:rgba(124, 252, 0, 0.7741)\"><b>-</b></span> <span style=\"background-color:rgba(124, 252, 0, 0.7741)\"><b>-</b></span> <span style=\"background-color:rgba(124, 252, 0, 0.7741)\"><b>us</b></span> <span style=\"background-color:rgba(124, 252, 0, 0.7741)\"><b>per</b></span> <span style=\"background-color:rgba(124, 252, 0, 0.7741)\"><b>year</b></span> <span style=\"background-color:rgba(255, 99, 71, -0.0006)\"><b>.</b></span> "
      ],
      "text/plain": [
       "<IPython.core.display.HTML object>"
      ]
     },
     "metadata": {},
     "output_type": "display_data"
    },
    {
     "data": {
      "text/html": [
       "(Features are highlighted in green if are positively influential for the predicted class, red otherwise. The intensity of the color is proportional to the nPIR score obtained by the word.) "
      ],
      "text/plain": [
       "<IPython.core.display.HTML object>"
      ]
     },
     "metadata": {},
     "output_type": "display_data"
    }
   ],
   "source": [
    "display(HTML('<h1>Multi-Layer Word Embedding Features Summary</h1>'))\n",
    "display(HTML('Predicted Class: <b>{} </b>'.format(label_name(input_info[\"original_label\"]))))\n",
    "display(HTML('Original Probability: <b>{} </b>'.format(input_info[\"original_probabilities\"])))\n",
    "\n",
    "html_string = get_summary_string(mlwe_positions_tokens_score)\n",
    "        \n",
    "display(HTML(html_string))\n",
    "\n",
    "display(HTML('(Features are highlighted in green if are positively influential for the predicted class, red otherwise. The intensity of the color is proportional to the nPIR score obtained by the word.) '))  \n"
   ]
  },
  {
   "cell_type": "markdown",
   "metadata": {},
   "source": [
    "# MLWE Most influential feature\n",
    "\n",
    "Feature with highest nPIR "
   ]
  },
  {
   "cell_type": "code",
   "execution_count": 10,
   "metadata": {
    "scrolled": false
   },
   "outputs": [
    {
     "name": "stdout",
     "output_type": "stream",
     "text": [
      "LocalExplanationId: 45, FeatureId: 2\n",
      "feature type:  MLWE\n",
      "feature description:  Combination of Cluster 0 and Cluster 1\n",
      "feature (position,token):  {'11': ')', '12': '.', '41': ',', '49': '-', '51': '.', '54': \"'\", '55': 's', '64': ',', '66': '-', '72': ',', '84': \"'\", '97': '.', '0': '.', '1': 'mac', '2': 'bumps', '3': 'up', '4': 'storage', '5': 'capacity', '6': ',', '7': 'improves', '8': 'mail', '9': '(', '10': 'maccentral', '13': 'maccentral', '14': '-', '15': 'apple', '16': 'has', '17': 'improved', '18': 'the', '19': 'services', '20': 'offered', '21': 'to', '22': 'subscribers', '23': 'of', '24': '.', '25': 'mac', '26': '.', '27': 'previously', '28': ',', '29': 'the', '30': 'amount', '31': 'of', '32': 'storage', '33': 'for', '34': 'a', '35': 'basic', '36': '.', '37': 'mac', '38': 'account', '39': 'was', '40': '100mb', '42': 'with', '43': 'a', '44': 'maximum', '45': 'of', '46': '15mb', '47': 'for', '48': 'e', '50': 'mail', '52': 'the', '53': 'service', '56': 'base', '57': 'online', '58': 'storage', '59': 'has', '60': 'been', '61': 'increased', '62': 'to', '63': '250mb', '65': 'e', '67': 'mail', '68': 'service', '69': 'has', '70': 'been', '71': 'enhanced', '73': 'and', '74': 'the', '75': 'cost', '76': 'of', '77': 'upgrading', '78': 'has', '79': 'been', '80': 'reduced', '81': '.', '82': '.', '83': 'mac', '85': 's', '86': 'basic', '87': 'subscription', '88': 'price', '89': 'remains', '90': 'the', '91': 'same', '92': '-', '93': '-', '94': 'us', '95': 'per', '96': 'year'}\n",
      "Perturbed Text:   \n",
      "perturbed probabilities:  [0.9882957935333252, 0.0014468542067334056, 0.002561635570600629, 0.007695757783949375]\n",
      "nPIR Original Class:  0.992\n"
     ]
    },
    {
     "data": {
      "text/html": [
       "<span style=\"background-color:rgba(0, 255, 255, 1)\"><b>.</b></span> <span style=\"background-color:rgba(0, 255, 255, 1)\"><b>mac</b></span> <span style=\"background-color:rgba(0, 255, 255, 1)\"><b>bumps</b></span> <span style=\"background-color:rgba(0, 255, 255, 1)\"><b>up</b></span> <span style=\"background-color:rgba(0, 255, 255, 1)\"><b>storage</b></span> <span style=\"background-color:rgba(0, 255, 255, 1)\"><b>capacity</b></span> <span style=\"background-color:rgba(0, 255, 255, 1)\"><b>,</b></span> <span style=\"background-color:rgba(0, 255, 255, 1)\"><b>improves</b></span> <span style=\"background-color:rgba(0, 255, 255, 1)\"><b>mail</b></span> <span style=\"background-color:rgba(0, 255, 255, 1)\"><b>(</b></span> <span style=\"background-color:rgba(0, 255, 255, 1)\"><b>maccentral</b></span> <span style=\"background-color:rgba(0, 255, 255, 1)\"><b>)</b></span> <span style=\"background-color:rgba(0, 255, 255, 1)\"><b>.</b></span> <span style=\"background-color:rgba(0, 255, 255, 1)\"><b>maccentral</b></span> <span style=\"background-color:rgba(0, 255, 255, 1)\"><b>-</b></span> <span style=\"background-color:rgba(0, 255, 255, 1)\"><b>apple</b></span> <span style=\"background-color:rgba(0, 255, 255, 1)\"><b>has</b></span> <span style=\"background-color:rgba(0, 255, 255, 1)\"><b>improved</b></span> <span style=\"background-color:rgba(0, 255, 255, 1)\"><b>the</b></span> <span style=\"background-color:rgba(0, 255, 255, 1)\"><b>services</b></span> <span style=\"background-color:rgba(0, 255, 255, 1)\"><b>offered</b></span> <span style=\"background-color:rgba(0, 255, 255, 1)\"><b>to</b></span> <span style=\"background-color:rgba(0, 255, 255, 1)\"><b>subscribers</b></span> <span style=\"background-color:rgba(0, 255, 255, 1)\"><b>of</b></span> <span style=\"background-color:rgba(0, 255, 255, 1)\"><b>.</b></span> <span style=\"background-color:rgba(0, 255, 255, 1)\"><b>mac</b></span> <span style=\"background-color:rgba(0, 255, 255, 1)\"><b>.</b></span> <span style=\"background-color:rgba(0, 255, 255, 1)\"><b>previously</b></span> <span style=\"background-color:rgba(0, 255, 255, 1)\"><b>,</b></span> <span style=\"background-color:rgba(0, 255, 255, 1)\"><b>the</b></span> <span style=\"background-color:rgba(0, 255, 255, 1)\"><b>amount</b></span> <span style=\"background-color:rgba(0, 255, 255, 1)\"><b>of</b></span> <span style=\"background-color:rgba(0, 255, 255, 1)\"><b>storage</b></span> <span style=\"background-color:rgba(0, 255, 255, 1)\"><b>for</b></span> <span style=\"background-color:rgba(0, 255, 255, 1)\"><b>a</b></span> <span style=\"background-color:rgba(0, 255, 255, 1)\"><b>basic</b></span> <span style=\"background-color:rgba(0, 255, 255, 1)\"><b>.</b></span> <span style=\"background-color:rgba(0, 255, 255, 1)\"><b>mac</b></span> <span style=\"background-color:rgba(0, 255, 255, 1)\"><b>account</b></span> <span style=\"background-color:rgba(0, 255, 255, 1)\"><b>was</b></span> <span style=\"background-color:rgba(0, 255, 255, 1)\"><b>100mb</b></span> <span style=\"background-color:rgba(0, 255, 255, 1)\"><b>,</b></span> <span style=\"background-color:rgba(0, 255, 255, 1)\"><b>with</b></span> <span style=\"background-color:rgba(0, 255, 255, 1)\"><b>a</b></span> <span style=\"background-color:rgba(0, 255, 255, 1)\"><b>maximum</b></span> <span style=\"background-color:rgba(0, 255, 255, 1)\"><b>of</b></span> <span style=\"background-color:rgba(0, 255, 255, 1)\"><b>15mb</b></span> <span style=\"background-color:rgba(0, 255, 255, 1)\"><b>for</b></span> <span style=\"background-color:rgba(0, 255, 255, 1)\"><b>e</b></span> <span style=\"background-color:rgba(0, 255, 255, 1)\"><b>-</b></span> <span style=\"background-color:rgba(0, 255, 255, 1)\"><b>mail</b></span> <span style=\"background-color:rgba(0, 255, 255, 1)\"><b>.</b></span> <span style=\"background-color:rgba(0, 255, 255, 1)\"><b>the</b></span> <span style=\"background-color:rgba(0, 255, 255, 1)\"><b>service</b></span> <span style=\"background-color:rgba(0, 255, 255, 1)\"><b>'</b></span> <span style=\"background-color:rgba(0, 255, 255, 1)\"><b>s</b></span> <span style=\"background-color:rgba(0, 255, 255, 1)\"><b>base</b></span> <span style=\"background-color:rgba(0, 255, 255, 1)\"><b>online</b></span> <span style=\"background-color:rgba(0, 255, 255, 1)\"><b>storage</b></span> <span style=\"background-color:rgba(0, 255, 255, 1)\"><b>has</b></span> <span style=\"background-color:rgba(0, 255, 255, 1)\"><b>been</b></span> <span style=\"background-color:rgba(0, 255, 255, 1)\"><b>increased</b></span> <span style=\"background-color:rgba(0, 255, 255, 1)\"><b>to</b></span> <span style=\"background-color:rgba(0, 255, 255, 1)\"><b>250mb</b></span> <span style=\"background-color:rgba(0, 255, 255, 1)\"><b>,</b></span> <span style=\"background-color:rgba(0, 255, 255, 1)\"><b>e</b></span> <span style=\"background-color:rgba(0, 255, 255, 1)\"><b>-</b></span> <span style=\"background-color:rgba(0, 255, 255, 1)\"><b>mail</b></span> <span style=\"background-color:rgba(0, 255, 255, 1)\"><b>service</b></span> <span style=\"background-color:rgba(0, 255, 255, 1)\"><b>has</b></span> <span style=\"background-color:rgba(0, 255, 255, 1)\"><b>been</b></span> <span style=\"background-color:rgba(0, 255, 255, 1)\"><b>enhanced</b></span> <span style=\"background-color:rgba(0, 255, 255, 1)\"><b>,</b></span> <span style=\"background-color:rgba(0, 255, 255, 1)\"><b>and</b></span> <span style=\"background-color:rgba(0, 255, 255, 1)\"><b>the</b></span> <span style=\"background-color:rgba(0, 255, 255, 1)\"><b>cost</b></span> <span style=\"background-color:rgba(0, 255, 255, 1)\"><b>of</b></span> <span style=\"background-color:rgba(0, 255, 255, 1)\"><b>upgrading</b></span> <span style=\"background-color:rgba(0, 255, 255, 1)\"><b>has</b></span> <span style=\"background-color:rgba(0, 255, 255, 1)\"><b>been</b></span> <span style=\"background-color:rgba(0, 255, 255, 1)\"><b>reduced</b></span> <span style=\"background-color:rgba(0, 255, 255, 1)\"><b>.</b></span> <span style=\"background-color:rgba(0, 255, 255, 1)\"><b>.</b></span> <span style=\"background-color:rgba(0, 255, 255, 1)\"><b>mac</b></span> <span style=\"background-color:rgba(0, 255, 255, 1)\"><b>'</b></span> <span style=\"background-color:rgba(0, 255, 255, 1)\"><b>s</b></span> <span style=\"background-color:rgba(0, 255, 255, 1)\"><b>basic</b></span> <span style=\"background-color:rgba(0, 255, 255, 1)\"><b>subscription</b></span> <span style=\"background-color:rgba(0, 255, 255, 1)\"><b>price</b></span> <span style=\"background-color:rgba(0, 255, 255, 1)\"><b>remains</b></span> <span style=\"background-color:rgba(0, 255, 255, 1)\"><b>the</b></span> <span style=\"background-color:rgba(0, 255, 255, 1)\"><b>same</b></span> <span style=\"background-color:rgba(0, 255, 255, 1)\"><b>-</b></span> <span style=\"background-color:rgba(0, 255, 255, 1)\"><b>-</b></span> <span style=\"background-color:rgba(0, 255, 255, 1)\"><b>us</b></span> <span style=\"background-color:rgba(0, 255, 255, 1)\"><b>per</b></span> <span style=\"background-color:rgba(0, 255, 255, 1)\"><b>year</b></span> <span style=\"background-color:rgba(0, 255, 255, 1)\"><b>.</b></span> "
      ],
      "text/plain": [
       "<IPython.core.display.HTML object>"
      ]
     },
     "metadata": {},
     "output_type": "display_data"
    },
    {
     "name": "stdout",
     "output_type": "stream",
     "text": [
      "\n",
      "\n",
      "\n",
      "\n"
     ]
    }
   ],
   "source": [
    "most_influnetial_mlwe_feature =max(mlwe_local_explanations_comb, key= lambda le: le[\"nPIR_original_top_class\"])\n",
    "print_local_explanation(most_influnetial_mlwe_feature,input_positions_tokens)"
   ]
  },
  {
   "cell_type": "markdown",
   "metadata": {},
   "source": [
    "<h2>Query Multi-Layer Word Embedding features</h2>"
   ]
  },
  {
   "cell_type": "code",
   "execution_count": 11,
   "metadata": {
    "scrolled": false
   },
   "outputs": [
    {
     "name": "stdout",
     "output_type": "stream",
     "text": [
      "Original Probabilities: [0.00030222180066630244, 1.179747505375417e-05, 0.00014384924725163728, 0.9995421171188354]\n",
      "Original label: 3\n",
      "\n",
      "\n",
      "\n",
      "LocalExplanationId: 45, FeatureId: 2\n",
      "feature type:  MLWE\n",
      "feature description:  Combination of Cluster 0 and Cluster 1\n",
      "feature (position,token):  {'11': ')', '12': '.', '41': ',', '49': '-', '51': '.', '54': \"'\", '55': 's', '64': ',', '66': '-', '72': ',', '84': \"'\", '97': '.', '0': '.', '1': 'mac', '2': 'bumps', '3': 'up', '4': 'storage', '5': 'capacity', '6': ',', '7': 'improves', '8': 'mail', '9': '(', '10': 'maccentral', '13': 'maccentral', '14': '-', '15': 'apple', '16': 'has', '17': 'improved', '18': 'the', '19': 'services', '20': 'offered', '21': 'to', '22': 'subscribers', '23': 'of', '24': '.', '25': 'mac', '26': '.', '27': 'previously', '28': ',', '29': 'the', '30': 'amount', '31': 'of', '32': 'storage', '33': 'for', '34': 'a', '35': 'basic', '36': '.', '37': 'mac', '38': 'account', '39': 'was', '40': '100mb', '42': 'with', '43': 'a', '44': 'maximum', '45': 'of', '46': '15mb', '47': 'for', '48': 'e', '50': 'mail', '52': 'the', '53': 'service', '56': 'base', '57': 'online', '58': 'storage', '59': 'has', '60': 'been', '61': 'increased', '62': 'to', '63': '250mb', '65': 'e', '67': 'mail', '68': 'service', '69': 'has', '70': 'been', '71': 'enhanced', '73': 'and', '74': 'the', '75': 'cost', '76': 'of', '77': 'upgrading', '78': 'has', '79': 'been', '80': 'reduced', '81': '.', '82': '.', '83': 'mac', '85': 's', '86': 'basic', '87': 'subscription', '88': 'price', '89': 'remains', '90': 'the', '91': 'same', '92': '-', '93': '-', '94': 'us', '95': 'per', '96': 'year'}\n",
      "Perturbed Text:   \n",
      "perturbed probabilities:  [0.9882957935333252, 0.0014468542067334056, 0.002561635570600629, 0.007695757783949375]\n",
      "nPIR Original Class:  0.992\n"
     ]
    },
    {
     "data": {
      "text/html": [
       "<span style=\"background-color:rgba(0, 255, 255, 1)\"><b>.</b></span> <span style=\"background-color:rgba(0, 255, 255, 1)\"><b>mac</b></span> <span style=\"background-color:rgba(0, 255, 255, 1)\"><b>bumps</b></span> <span style=\"background-color:rgba(0, 255, 255, 1)\"><b>up</b></span> <span style=\"background-color:rgba(0, 255, 255, 1)\"><b>storage</b></span> <span style=\"background-color:rgba(0, 255, 255, 1)\"><b>capacity</b></span> <span style=\"background-color:rgba(0, 255, 255, 1)\"><b>,</b></span> <span style=\"background-color:rgba(0, 255, 255, 1)\"><b>improves</b></span> <span style=\"background-color:rgba(0, 255, 255, 1)\"><b>mail</b></span> <span style=\"background-color:rgba(0, 255, 255, 1)\"><b>(</b></span> <span style=\"background-color:rgba(0, 255, 255, 1)\"><b>maccentral</b></span> <span style=\"background-color:rgba(0, 255, 255, 1)\"><b>)</b></span> <span style=\"background-color:rgba(0, 255, 255, 1)\"><b>.</b></span> <span style=\"background-color:rgba(0, 255, 255, 1)\"><b>maccentral</b></span> <span style=\"background-color:rgba(0, 255, 255, 1)\"><b>-</b></span> <span style=\"background-color:rgba(0, 255, 255, 1)\"><b>apple</b></span> <span style=\"background-color:rgba(0, 255, 255, 1)\"><b>has</b></span> <span style=\"background-color:rgba(0, 255, 255, 1)\"><b>improved</b></span> <span style=\"background-color:rgba(0, 255, 255, 1)\"><b>the</b></span> <span style=\"background-color:rgba(0, 255, 255, 1)\"><b>services</b></span> <span style=\"background-color:rgba(0, 255, 255, 1)\"><b>offered</b></span> <span style=\"background-color:rgba(0, 255, 255, 1)\"><b>to</b></span> <span style=\"background-color:rgba(0, 255, 255, 1)\"><b>subscribers</b></span> <span style=\"background-color:rgba(0, 255, 255, 1)\"><b>of</b></span> <span style=\"background-color:rgba(0, 255, 255, 1)\"><b>.</b></span> <span style=\"background-color:rgba(0, 255, 255, 1)\"><b>mac</b></span> <span style=\"background-color:rgba(0, 255, 255, 1)\"><b>.</b></span> <span style=\"background-color:rgba(0, 255, 255, 1)\"><b>previously</b></span> <span style=\"background-color:rgba(0, 255, 255, 1)\"><b>,</b></span> <span style=\"background-color:rgba(0, 255, 255, 1)\"><b>the</b></span> <span style=\"background-color:rgba(0, 255, 255, 1)\"><b>amount</b></span> <span style=\"background-color:rgba(0, 255, 255, 1)\"><b>of</b></span> <span style=\"background-color:rgba(0, 255, 255, 1)\"><b>storage</b></span> <span style=\"background-color:rgba(0, 255, 255, 1)\"><b>for</b></span> <span style=\"background-color:rgba(0, 255, 255, 1)\"><b>a</b></span> <span style=\"background-color:rgba(0, 255, 255, 1)\"><b>basic</b></span> <span style=\"background-color:rgba(0, 255, 255, 1)\"><b>.</b></span> <span style=\"background-color:rgba(0, 255, 255, 1)\"><b>mac</b></span> <span style=\"background-color:rgba(0, 255, 255, 1)\"><b>account</b></span> <span style=\"background-color:rgba(0, 255, 255, 1)\"><b>was</b></span> <span style=\"background-color:rgba(0, 255, 255, 1)\"><b>100mb</b></span> <span style=\"background-color:rgba(0, 255, 255, 1)\"><b>,</b></span> <span style=\"background-color:rgba(0, 255, 255, 1)\"><b>with</b></span> <span style=\"background-color:rgba(0, 255, 255, 1)\"><b>a</b></span> <span style=\"background-color:rgba(0, 255, 255, 1)\"><b>maximum</b></span> <span style=\"background-color:rgba(0, 255, 255, 1)\"><b>of</b></span> <span style=\"background-color:rgba(0, 255, 255, 1)\"><b>15mb</b></span> <span style=\"background-color:rgba(0, 255, 255, 1)\"><b>for</b></span> <span style=\"background-color:rgba(0, 255, 255, 1)\"><b>e</b></span> <span style=\"background-color:rgba(0, 255, 255, 1)\"><b>-</b></span> <span style=\"background-color:rgba(0, 255, 255, 1)\"><b>mail</b></span> <span style=\"background-color:rgba(0, 255, 255, 1)\"><b>.</b></span> <span style=\"background-color:rgba(0, 255, 255, 1)\"><b>the</b></span> <span style=\"background-color:rgba(0, 255, 255, 1)\"><b>service</b></span> <span style=\"background-color:rgba(0, 255, 255, 1)\"><b>'</b></span> <span style=\"background-color:rgba(0, 255, 255, 1)\"><b>s</b></span> <span style=\"background-color:rgba(0, 255, 255, 1)\"><b>base</b></span> <span style=\"background-color:rgba(0, 255, 255, 1)\"><b>online</b></span> <span style=\"background-color:rgba(0, 255, 255, 1)\"><b>storage</b></span> <span style=\"background-color:rgba(0, 255, 255, 1)\"><b>has</b></span> <span style=\"background-color:rgba(0, 255, 255, 1)\"><b>been</b></span> <span style=\"background-color:rgba(0, 255, 255, 1)\"><b>increased</b></span> <span style=\"background-color:rgba(0, 255, 255, 1)\"><b>to</b></span> <span style=\"background-color:rgba(0, 255, 255, 1)\"><b>250mb</b></span> <span style=\"background-color:rgba(0, 255, 255, 1)\"><b>,</b></span> <span style=\"background-color:rgba(0, 255, 255, 1)\"><b>e</b></span> <span style=\"background-color:rgba(0, 255, 255, 1)\"><b>-</b></span> <span style=\"background-color:rgba(0, 255, 255, 1)\"><b>mail</b></span> <span style=\"background-color:rgba(0, 255, 255, 1)\"><b>service</b></span> <span style=\"background-color:rgba(0, 255, 255, 1)\"><b>has</b></span> <span style=\"background-color:rgba(0, 255, 255, 1)\"><b>been</b></span> <span style=\"background-color:rgba(0, 255, 255, 1)\"><b>enhanced</b></span> <span style=\"background-color:rgba(0, 255, 255, 1)\"><b>,</b></span> <span style=\"background-color:rgba(0, 255, 255, 1)\"><b>and</b></span> <span style=\"background-color:rgba(0, 255, 255, 1)\"><b>the</b></span> <span style=\"background-color:rgba(0, 255, 255, 1)\"><b>cost</b></span> <span style=\"background-color:rgba(0, 255, 255, 1)\"><b>of</b></span> <span style=\"background-color:rgba(0, 255, 255, 1)\"><b>upgrading</b></span> <span style=\"background-color:rgba(0, 255, 255, 1)\"><b>has</b></span> <span style=\"background-color:rgba(0, 255, 255, 1)\"><b>been</b></span> <span style=\"background-color:rgba(0, 255, 255, 1)\"><b>reduced</b></span> <span style=\"background-color:rgba(0, 255, 255, 1)\"><b>.</b></span> <span style=\"background-color:rgba(0, 255, 255, 1)\"><b>.</b></span> <span style=\"background-color:rgba(0, 255, 255, 1)\"><b>mac</b></span> <span style=\"background-color:rgba(0, 255, 255, 1)\"><b>'</b></span> <span style=\"background-color:rgba(0, 255, 255, 1)\"><b>s</b></span> <span style=\"background-color:rgba(0, 255, 255, 1)\"><b>basic</b></span> <span style=\"background-color:rgba(0, 255, 255, 1)\"><b>subscription</b></span> <span style=\"background-color:rgba(0, 255, 255, 1)\"><b>price</b></span> <span style=\"background-color:rgba(0, 255, 255, 1)\"><b>remains</b></span> <span style=\"background-color:rgba(0, 255, 255, 1)\"><b>the</b></span> <span style=\"background-color:rgba(0, 255, 255, 1)\"><b>same</b></span> <span style=\"background-color:rgba(0, 255, 255, 1)\"><b>-</b></span> <span style=\"background-color:rgba(0, 255, 255, 1)\"><b>-</b></span> <span style=\"background-color:rgba(0, 255, 255, 1)\"><b>us</b></span> <span style=\"background-color:rgba(0, 255, 255, 1)\"><b>per</b></span> <span style=\"background-color:rgba(0, 255, 255, 1)\"><b>year</b></span> <span style=\"background-color:rgba(0, 255, 255, 1)\"><b>.</b></span> "
      ],
      "text/plain": [
       "<IPython.core.display.HTML object>"
      ]
     },
     "metadata": {},
     "output_type": "display_data"
    },
    {
     "name": "stdout",
     "output_type": "stream",
     "text": [
      "\n",
      "\n",
      "\n",
      "\n",
      "LocalExplanationId: 44, FeatureId: 1\n",
      "feature type:  MLWE\n",
      "feature description:  Cluster 1\n",
      "feature (position,token):  {'0': '.', '1': 'mac', '2': 'bumps', '3': 'up', '4': 'storage', '5': 'capacity', '6': ',', '7': 'improves', '8': 'mail', '9': '(', '10': 'maccentral', '13': 'maccentral', '14': '-', '15': 'apple', '16': 'has', '17': 'improved', '18': 'the', '19': 'services', '20': 'offered', '21': 'to', '22': 'subscribers', '23': 'of', '24': '.', '25': 'mac', '26': '.', '27': 'previously', '28': ',', '29': 'the', '30': 'amount', '31': 'of', '32': 'storage', '33': 'for', '34': 'a', '35': 'basic', '36': '.', '37': 'mac', '38': 'account', '39': 'was', '40': '100mb', '42': 'with', '43': 'a', '44': 'maximum', '45': 'of', '46': '15mb', '47': 'for', '48': 'e', '50': 'mail', '52': 'the', '53': 'service', '56': 'base', '57': 'online', '58': 'storage', '59': 'has', '60': 'been', '61': 'increased', '62': 'to', '63': '250mb', '65': 'e', '67': 'mail', '68': 'service', '69': 'has', '70': 'been', '71': 'enhanced', '73': 'and', '74': 'the', '75': 'cost', '76': 'of', '77': 'upgrading', '78': 'has', '79': 'been', '80': 'reduced', '81': '.', '82': '.', '83': 'mac', '85': 's', '86': 'basic', '87': 'subscription', '88': 'price', '89': 'remains', '90': 'the', '91': 'same', '92': '-', '93': '-', '94': 'us', '95': 'per', '96': 'year'}\n",
      "Perturbed Text:   )., -. ' s, -, '.\n",
      "perturbed probabilities:  [0.45159080624580383, 0.30702245235443115, 0.006053877528756857, 0.23533287644386292]\n",
      "nPIR Original Class:  0.774\n"
     ]
    },
    {
     "data": {
      "text/html": [
       "<span style=\"background-color:rgba(0, 255, 255, 1)\"><b>.</b></span> <span style=\"background-color:rgba(0, 255, 255, 1)\"><b>mac</b></span> <span style=\"background-color:rgba(0, 255, 255, 1)\"><b>bumps</b></span> <span style=\"background-color:rgba(0, 255, 255, 1)\"><b>up</b></span> <span style=\"background-color:rgba(0, 255, 255, 1)\"><b>storage</b></span> <span style=\"background-color:rgba(0, 255, 255, 1)\"><b>capacity</b></span> <span style=\"background-color:rgba(0, 255, 255, 1)\"><b>,</b></span> <span style=\"background-color:rgba(0, 255, 255, 1)\"><b>improves</b></span> <span style=\"background-color:rgba(0, 255, 255, 1)\"><b>mail</b></span> <span style=\"background-color:rgba(0, 255, 255, 1)\"><b>(</b></span> <span style=\"background-color:rgba(0, 255, 255, 1)\"><b>maccentral</b></span> <span><b>)</b></span> <span><b>.</b></span> <span style=\"background-color:rgba(0, 255, 255, 1)\"><b>maccentral</b></span> <span style=\"background-color:rgba(0, 255, 255, 1)\"><b>-</b></span> <span style=\"background-color:rgba(0, 255, 255, 1)\"><b>apple</b></span> <span style=\"background-color:rgba(0, 255, 255, 1)\"><b>has</b></span> <span style=\"background-color:rgba(0, 255, 255, 1)\"><b>improved</b></span> <span style=\"background-color:rgba(0, 255, 255, 1)\"><b>the</b></span> <span style=\"background-color:rgba(0, 255, 255, 1)\"><b>services</b></span> <span style=\"background-color:rgba(0, 255, 255, 1)\"><b>offered</b></span> <span style=\"background-color:rgba(0, 255, 255, 1)\"><b>to</b></span> <span style=\"background-color:rgba(0, 255, 255, 1)\"><b>subscribers</b></span> <span style=\"background-color:rgba(0, 255, 255, 1)\"><b>of</b></span> <span style=\"background-color:rgba(0, 255, 255, 1)\"><b>.</b></span> <span style=\"background-color:rgba(0, 255, 255, 1)\"><b>mac</b></span> <span style=\"background-color:rgba(0, 255, 255, 1)\"><b>.</b></span> <span style=\"background-color:rgba(0, 255, 255, 1)\"><b>previously</b></span> <span style=\"background-color:rgba(0, 255, 255, 1)\"><b>,</b></span> <span style=\"background-color:rgba(0, 255, 255, 1)\"><b>the</b></span> <span style=\"background-color:rgba(0, 255, 255, 1)\"><b>amount</b></span> <span style=\"background-color:rgba(0, 255, 255, 1)\"><b>of</b></span> <span style=\"background-color:rgba(0, 255, 255, 1)\"><b>storage</b></span> <span style=\"background-color:rgba(0, 255, 255, 1)\"><b>for</b></span> <span style=\"background-color:rgba(0, 255, 255, 1)\"><b>a</b></span> <span style=\"background-color:rgba(0, 255, 255, 1)\"><b>basic</b></span> <span style=\"background-color:rgba(0, 255, 255, 1)\"><b>.</b></span> <span style=\"background-color:rgba(0, 255, 255, 1)\"><b>mac</b></span> <span style=\"background-color:rgba(0, 255, 255, 1)\"><b>account</b></span> <span style=\"background-color:rgba(0, 255, 255, 1)\"><b>was</b></span> <span style=\"background-color:rgba(0, 255, 255, 1)\"><b>100mb</b></span> <span><b>,</b></span> <span style=\"background-color:rgba(0, 255, 255, 1)\"><b>with</b></span> <span style=\"background-color:rgba(0, 255, 255, 1)\"><b>a</b></span> <span style=\"background-color:rgba(0, 255, 255, 1)\"><b>maximum</b></span> <span style=\"background-color:rgba(0, 255, 255, 1)\"><b>of</b></span> <span style=\"background-color:rgba(0, 255, 255, 1)\"><b>15mb</b></span> <span style=\"background-color:rgba(0, 255, 255, 1)\"><b>for</b></span> <span style=\"background-color:rgba(0, 255, 255, 1)\"><b>e</b></span> <span><b>-</b></span> <span style=\"background-color:rgba(0, 255, 255, 1)\"><b>mail</b></span> <span><b>.</b></span> <span style=\"background-color:rgba(0, 255, 255, 1)\"><b>the</b></span> <span style=\"background-color:rgba(0, 255, 255, 1)\"><b>service</b></span> <span><b>'</b></span> <span><b>s</b></span> <span style=\"background-color:rgba(0, 255, 255, 1)\"><b>base</b></span> <span style=\"background-color:rgba(0, 255, 255, 1)\"><b>online</b></span> <span style=\"background-color:rgba(0, 255, 255, 1)\"><b>storage</b></span> <span style=\"background-color:rgba(0, 255, 255, 1)\"><b>has</b></span> <span style=\"background-color:rgba(0, 255, 255, 1)\"><b>been</b></span> <span style=\"background-color:rgba(0, 255, 255, 1)\"><b>increased</b></span> <span style=\"background-color:rgba(0, 255, 255, 1)\"><b>to</b></span> <span style=\"background-color:rgba(0, 255, 255, 1)\"><b>250mb</b></span> <span><b>,</b></span> <span style=\"background-color:rgba(0, 255, 255, 1)\"><b>e</b></span> <span><b>-</b></span> <span style=\"background-color:rgba(0, 255, 255, 1)\"><b>mail</b></span> <span style=\"background-color:rgba(0, 255, 255, 1)\"><b>service</b></span> <span style=\"background-color:rgba(0, 255, 255, 1)\"><b>has</b></span> <span style=\"background-color:rgba(0, 255, 255, 1)\"><b>been</b></span> <span style=\"background-color:rgba(0, 255, 255, 1)\"><b>enhanced</b></span> <span><b>,</b></span> <span style=\"background-color:rgba(0, 255, 255, 1)\"><b>and</b></span> <span style=\"background-color:rgba(0, 255, 255, 1)\"><b>the</b></span> <span style=\"background-color:rgba(0, 255, 255, 1)\"><b>cost</b></span> <span style=\"background-color:rgba(0, 255, 255, 1)\"><b>of</b></span> <span style=\"background-color:rgba(0, 255, 255, 1)\"><b>upgrading</b></span> <span style=\"background-color:rgba(0, 255, 255, 1)\"><b>has</b></span> <span style=\"background-color:rgba(0, 255, 255, 1)\"><b>been</b></span> <span style=\"background-color:rgba(0, 255, 255, 1)\"><b>reduced</b></span> <span style=\"background-color:rgba(0, 255, 255, 1)\"><b>.</b></span> <span style=\"background-color:rgba(0, 255, 255, 1)\"><b>.</b></span> <span style=\"background-color:rgba(0, 255, 255, 1)\"><b>mac</b></span> <span><b>'</b></span> <span style=\"background-color:rgba(0, 255, 255, 1)\"><b>s</b></span> <span style=\"background-color:rgba(0, 255, 255, 1)\"><b>basic</b></span> <span style=\"background-color:rgba(0, 255, 255, 1)\"><b>subscription</b></span> <span style=\"background-color:rgba(0, 255, 255, 1)\"><b>price</b></span> <span style=\"background-color:rgba(0, 255, 255, 1)\"><b>remains</b></span> <span style=\"background-color:rgba(0, 255, 255, 1)\"><b>the</b></span> <span style=\"background-color:rgba(0, 255, 255, 1)\"><b>same</b></span> <span style=\"background-color:rgba(0, 255, 255, 1)\"><b>-</b></span> <span style=\"background-color:rgba(0, 255, 255, 1)\"><b>-</b></span> <span style=\"background-color:rgba(0, 255, 255, 1)\"><b>us</b></span> <span style=\"background-color:rgba(0, 255, 255, 1)\"><b>per</b></span> <span style=\"background-color:rgba(0, 255, 255, 1)\"><b>year</b></span> <span><b>.</b></span> "
      ],
      "text/plain": [
       "<IPython.core.display.HTML object>"
      ]
     },
     "metadata": {},
     "output_type": "display_data"
    },
    {
     "name": "stdout",
     "output_type": "stream",
     "text": [
      "\n",
      "\n",
      "\n",
      "\n",
      "LocalExplanationId: 43, FeatureId: 0\n",
      "feature type:  MLWE\n",
      "feature description:  Cluster 0\n",
      "feature (position,token):  {'11': ')', '12': '.', '41': ',', '49': '-', '51': '.', '54': \"'\", '55': 's', '64': ',', '66': '-', '72': ',', '84': \"'\", '97': '.'}\n",
      "Perturbed Text:   . mac bumps up storage capacity, improves mail ( maccentral maccentral - apple has improved the services offered to subscribers of. mac. previously, the amount of storage for a basic. mac account was 100mb with a maximum of 15mb for e mail the service base online storage has been increased to 250mb e mail service has been enhanced and the cost of upgrading has been reduced.. mac s basic subscription price remains the same - - us per year\n",
      "perturbed probabilities:  [2.4350423700525425e-05, 4.222318693791749e-06, 0.00011563351290533319, 0.9998557567596436]\n",
      "nPIR Original Class:  -0.001\n"
     ]
    },
    {
     "data": {
      "text/html": [
       "<span><b>.</b></span> <span><b>mac</b></span> <span><b>bumps</b></span> <span><b>up</b></span> <span><b>storage</b></span> <span><b>capacity</b></span> <span><b>,</b></span> <span><b>improves</b></span> <span><b>mail</b></span> <span><b>(</b></span> <span><b>maccentral</b></span> <span style=\"background-color:rgba(0, 255, 255, 1)\"><b>)</b></span> <span style=\"background-color:rgba(0, 255, 255, 1)\"><b>.</b></span> <span><b>maccentral</b></span> <span><b>-</b></span> <span><b>apple</b></span> <span><b>has</b></span> <span><b>improved</b></span> <span><b>the</b></span> <span><b>services</b></span> <span><b>offered</b></span> <span><b>to</b></span> <span><b>subscribers</b></span> <span><b>of</b></span> <span><b>.</b></span> <span><b>mac</b></span> <span><b>.</b></span> <span><b>previously</b></span> <span><b>,</b></span> <span><b>the</b></span> <span><b>amount</b></span> <span><b>of</b></span> <span><b>storage</b></span> <span><b>for</b></span> <span><b>a</b></span> <span><b>basic</b></span> <span><b>.</b></span> <span><b>mac</b></span> <span><b>account</b></span> <span><b>was</b></span> <span><b>100mb</b></span> <span style=\"background-color:rgba(0, 255, 255, 1)\"><b>,</b></span> <span><b>with</b></span> <span><b>a</b></span> <span><b>maximum</b></span> <span><b>of</b></span> <span><b>15mb</b></span> <span><b>for</b></span> <span><b>e</b></span> <span style=\"background-color:rgba(0, 255, 255, 1)\"><b>-</b></span> <span><b>mail</b></span> <span style=\"background-color:rgba(0, 255, 255, 1)\"><b>.</b></span> <span><b>the</b></span> <span><b>service</b></span> <span style=\"background-color:rgba(0, 255, 255, 1)\"><b>'</b></span> <span style=\"background-color:rgba(0, 255, 255, 1)\"><b>s</b></span> <span><b>base</b></span> <span><b>online</b></span> <span><b>storage</b></span> <span><b>has</b></span> <span><b>been</b></span> <span><b>increased</b></span> <span><b>to</b></span> <span><b>250mb</b></span> <span style=\"background-color:rgba(0, 255, 255, 1)\"><b>,</b></span> <span><b>e</b></span> <span style=\"background-color:rgba(0, 255, 255, 1)\"><b>-</b></span> <span><b>mail</b></span> <span><b>service</b></span> <span><b>has</b></span> <span><b>been</b></span> <span><b>enhanced</b></span> <span style=\"background-color:rgba(0, 255, 255, 1)\"><b>,</b></span> <span><b>and</b></span> <span><b>the</b></span> <span><b>cost</b></span> <span><b>of</b></span> <span><b>upgrading</b></span> <span><b>has</b></span> <span><b>been</b></span> <span><b>reduced</b></span> <span><b>.</b></span> <span><b>.</b></span> <span><b>mac</b></span> <span style=\"background-color:rgba(0, 255, 255, 1)\"><b>'</b></span> <span><b>s</b></span> <span><b>basic</b></span> <span><b>subscription</b></span> <span><b>price</b></span> <span><b>remains</b></span> <span><b>the</b></span> <span><b>same</b></span> <span><b>-</b></span> <span><b>-</b></span> <span><b>us</b></span> <span><b>per</b></span> <span><b>year</b></span> <span style=\"background-color:rgba(0, 255, 255, 1)\"><b>.</b></span> "
      ],
      "text/plain": [
       "<IPython.core.display.HTML object>"
      ]
     },
     "metadata": {},
     "output_type": "display_data"
    },
    {
     "name": "stdout",
     "output_type": "stream",
     "text": [
      "\n",
      "\n",
      "\n",
      "\n"
     ]
    }
   ],
   "source": [
    "print(\"Original Probabilities: {}\".format(input_info[\"original_probabilities\"]))\n",
    "print(\"Original label: {}\".format(input_info[\"original_label\"]))\n",
    "print(\"\\n\\n\")\n",
    "min_nPIR_mlwe = -1\n",
    "max_nPIR_mlwe = 1\n",
    "\n",
    "for le in sorted(mlwe_local_explanations_comb, key=lambda le: le[\"nPIR_original_top_class\"], reverse=True ):\n",
    "    if le[\"nPIR_original_top_class\"] >= min_nPIR_mlwe and le[\"nPIR_original_top_class\"] <= max_nPIR_mlwe:\n",
    "        print_local_explanation(le, input_positions_tokens)\n",
    "        "
   ]
  },
  {
   "cell_type": "code",
   "execution_count": 12,
   "metadata": {
    "scrolled": false
   },
   "outputs": [
    {
     "data": {
      "text/html": [
       "<h1>Parts-of-speech Features Summary</h1>"
      ],
      "text/plain": [
       "<IPython.core.display.HTML object>"
      ]
     },
     "metadata": {},
     "output_type": "display_data"
    },
    {
     "data": {
      "text/html": [
       "<b>Predicted Class: Sci/Tech </b>"
      ],
      "text/plain": [
       "<IPython.core.display.HTML object>"
      ]
     },
     "metadata": {},
     "output_type": "display_data"
    },
    {
     "data": {
      "text/html": [
       "<b>Original Probability: [0.00030222180066630244, 1.179747505375417e-05, 0.00014384924725163728, 0.9995421171188354] </b>"
      ],
      "text/plain": [
       "<IPython.core.display.HTML object>"
      ]
     },
     "metadata": {},
     "output_type": "display_data"
    },
    {
     "data": {
      "text/html": [
       "<span style=\"background-color:rgba(255, 99, 71, -0.0004)\"><b>mac</b></span> <span style=\"background-color:rgba(255, 99, 71, -0.0001)\"><b>bumps</b></span> <span style=\"background-color:rgba(255, 99, 71, -0.0001)\"><b>up</b></span> <span style=\"background-color:rgba(255, 99, 71, -0.0004)\"><b>storage</b></span> <span style=\"background-color:rgba(255, 99, 71, -0.0004)\"><b>capacity</b></span> <span style=\"background-color:rgba(255, 99, 71, -0.0001)\"><b>improves</b></span> <span style=\"background-color:rgba(255, 99, 71, -0.0004)\"><b>mail</b></span> <span style=\"background-color:rgba(255, 99, 71, -0.0004)\"><b>maccentral</b></span> <span style=\"background-color:rgba(255, 99, 71, -0.0004)\"><b>maccentral</b></span> <span style=\"background-color:rgba(255, 99, 71, -0.0004)\"><b>apple</b></span> <span style=\"background-color:rgba(255, 99, 71, -0.0001)\"><b>has</b></span> <span style=\"background-color:rgba(255, 99, 71, -0.0001)\"><b>improved</b></span> <span style=\"background-color:rgba(255, 99, 71, -0.0004)\"><b>services</b></span> <span style=\"background-color:rgba(255, 99, 71, -0.0001)\"><b>offered</b></span> <span style=\"background-color:rgba(255, 99, 71, -0.0004)\"><b>subscribers</b></span> <span style=\"background-color:rgba(255, 99, 71, -0.0004)\"><b>mac</b></span> <span style=\"background-color:rgba(124, 252, 0, 0.0002)\"><b>previously</b></span> <span style=\"background-color:rgba(255, 99, 71, -0.0004)\"><b>amount</b></span> <span style=\"background-color:rgba(255, 99, 71, -0.0004)\"><b>storage</b></span> <span style=\"background-color:rgba(255, 99, 71, -0.0004)\"><b>basic</b></span> <span style=\"background-color:rgba(255, 99, 71, -0.0004)\"><b>mac</b></span> <span style=\"background-color:rgba(255, 99, 71, -0.0004)\"><b>account</b></span> <span style=\"background-color:rgba(255, 99, 71, -0.0001)\"><b>was</b></span> <span style=\"background-color:rgba(124, 252, 0, 0.0)\"><b>100mb</b></span> <span style=\"background-color:rgba(255, 99, 71, -0.0004)\"><b>maximum</b></span> <span style=\"background-color:rgba(124, 252, 0, 0.0)\"><b>15mb</b></span> <span style=\"background-color:rgba(255, 99, 71, -0.0004)\"><b>e</b></span> <span style=\"background-color:rgba(255, 99, 71, -0.0004)\"><b>mail</b></span> <span style=\"background-color:rgba(255, 99, 71, -0.0004)\"><b>service</b></span> <span style=\"background-color:rgba(255, 99, 71, -0.0001)\"><b>'</b></span> <span style=\"background-color:rgba(255, 99, 71, -0.0004)\"><b>s</b></span> <span style=\"background-color:rgba(255, 99, 71, -0.0004)\"><b>base</b></span> <span style=\"background-color:rgba(255, 99, 71, -0.0004)\"><b>online</b></span> <span style=\"background-color:rgba(255, 99, 71, -0.0004)\"><b>storage</b></span> <span style=\"background-color:rgba(255, 99, 71, -0.0001)\"><b>has</b></span> <span style=\"background-color:rgba(255, 99, 71, -0.0001)\"><b>been</b></span> <span style=\"background-color:rgba(255, 99, 71, -0.0001)\"><b>increased</b></span> <span style=\"background-color:rgba(124, 252, 0, 0.0)\"><b>250mb</b></span> <span style=\"background-color:rgba(124, 252, 0, 0.0)\"><b>e</b></span> <span style=\"background-color:rgba(255, 99, 71, -0.0004)\"><b>mail</b></span> <span style=\"background-color:rgba(255, 99, 71, -0.0004)\"><b>service</b></span> <span style=\"background-color:rgba(255, 99, 71, -0.0001)\"><b>has</b></span> <span style=\"background-color:rgba(255, 99, 71, -0.0001)\"><b>been</b></span> <span style=\"background-color:rgba(255, 99, 71, -0.0001)\"><b>enhanced</b></span> <span style=\"background-color:rgba(255, 99, 71, -0.0004)\"><b>cost</b></span> <span style=\"background-color:rgba(255, 99, 71, -0.0004)\"><b>upgrading</b></span> <span style=\"background-color:rgba(255, 99, 71, -0.0001)\"><b>has</b></span> <span style=\"background-color:rgba(255, 99, 71, -0.0001)\"><b>been</b></span> <span style=\"background-color:rgba(255, 99, 71, -0.0001)\"><b>reduced</b></span> <span style=\"background-color:rgba(255, 99, 71, -0.0004)\"><b>mac</b></span> <span style=\"background-color:rgba(255, 99, 71, -0.0004)\"><b>s</b></span> <span style=\"background-color:rgba(255, 99, 71, -0.0004)\"><b>basic</b></span> <span style=\"background-color:rgba(255, 99, 71, -0.0004)\"><b>subscription</b></span> <span style=\"background-color:rgba(255, 99, 71, -0.0004)\"><b>price</b></span> <span style=\"background-color:rgba(255, 99, 71, -0.0001)\"><b>remains</b></span> <span style=\"background-color:rgba(255, 99, 71, -0.0004)\"><b>same</b></span> <span style=\"background-color:rgba(255, 99, 71, -0.0001)\"><b>us</b></span> <span style=\"background-color:rgba(255, 99, 71, -0.0004)\"><b>year</b></span> "
      ],
      "text/plain": [
       "<IPython.core.display.HTML object>"
      ]
     },
     "metadata": {},
     "output_type": "display_data"
    },
    {
     "data": {
      "text/html": [
       "(Features are highlighted in green if are positively influential for the predicted class, red otherwise. The intensity of the color is proportional to the nPIR score obtained by the word.) "
      ],
      "text/plain": [
       "<IPython.core.display.HTML object>"
      ]
     },
     "metadata": {},
     "output_type": "display_data"
    }
   ],
   "source": [
    "display(HTML('<h1>Parts-of-speech Features Summary</h1>'))\n",
    "display(HTML('<b>Predicted Class: {} </b>'.format(label_name(input_info[\"original_label\"]))))\n",
    "display(HTML('<b>Original Probability: {} </b>'.format(input_info[\"original_probabilities\"])))\n",
    "\n",
    "html_string = get_summary_string(pos_positions_tokens_score)\n",
    "display(HTML(html_string))\n",
    "\n",
    "display(HTML('(Features are highlighted in green if are positively influential for the predicted class, red otherwise. The intensity of the color is proportional to the nPIR score obtained by the word.) '))  \n"
   ]
  },
  {
   "cell_type": "markdown",
   "metadata": {},
   "source": [
    "# POS Most influential feature"
   ]
  },
  {
   "cell_type": "code",
   "execution_count": 13,
   "metadata": {},
   "outputs": [
    {
     "name": "stdout",
     "output_type": "stream",
     "text": [
      "LocalExplanationId: 7, FeatureId: 7\n",
      "feature type:  POS\n",
      "feature description:  Combination of Adjectives and Nouns\n",
      "feature (position,token):  {'10': 'maccentral', '13': 'maccentral', '35': 'basic', '55': 's', '85': 's', '86': 'basic', '91': 'same', '1': 'mac', '4': 'storage', '5': 'capacity', '8': 'mail', '15': 'apple', '19': 'services', '22': 'subscribers', '25': 'mac', '30': 'amount', '32': 'storage', '37': 'mac', '38': 'account', '44': 'maximum', '48': 'e', '50': 'mail', '53': 'service', '56': 'base', '57': 'online', '58': 'storage', '67': 'mail', '68': 'service', '75': 'cost', '77': 'upgrading', '83': 'mac', '87': 'subscription', '88': 'price', '96': 'year'}\n",
      "Perturbed Text:   . bumps up, improves ( ). - has improved the offered to of.. previously, the of for a. was 100mb, with a of 15mb for -. the ' has been increased to 250mb, e - has been enhanced, and the of has been reduced.. ' remains the - - us per.\n",
      "perturbed probabilities:  [0.00029112669290043414, 0.00011168943456141278, 0.0018802531994879246, 0.9977169036865234]\n",
      "nPIR Original Class:  0.004\n"
     ]
    },
    {
     "data": {
      "text/html": [
       "<span><b>.</b></span> <span style=\"background-color:rgba(0, 255, 255, 1)\"><b>mac</b></span> <span><b>bumps</b></span> <span><b>up</b></span> <span style=\"background-color:rgba(0, 255, 255, 1)\"><b>storage</b></span> <span style=\"background-color:rgba(0, 255, 255, 1)\"><b>capacity</b></span> <span><b>,</b></span> <span><b>improves</b></span> <span style=\"background-color:rgba(0, 255, 255, 1)\"><b>mail</b></span> <span><b>(</b></span> <span style=\"background-color:rgba(0, 255, 255, 1)\"><b>maccentral</b></span> <span><b>)</b></span> <span><b>.</b></span> <span style=\"background-color:rgba(0, 255, 255, 1)\"><b>maccentral</b></span> <span><b>-</b></span> <span style=\"background-color:rgba(0, 255, 255, 1)\"><b>apple</b></span> <span><b>has</b></span> <span><b>improved</b></span> <span><b>the</b></span> <span style=\"background-color:rgba(0, 255, 255, 1)\"><b>services</b></span> <span><b>offered</b></span> <span><b>to</b></span> <span style=\"background-color:rgba(0, 255, 255, 1)\"><b>subscribers</b></span> <span><b>of</b></span> <span><b>.</b></span> <span style=\"background-color:rgba(0, 255, 255, 1)\"><b>mac</b></span> <span><b>.</b></span> <span><b>previously</b></span> <span><b>,</b></span> <span><b>the</b></span> <span style=\"background-color:rgba(0, 255, 255, 1)\"><b>amount</b></span> <span><b>of</b></span> <span style=\"background-color:rgba(0, 255, 255, 1)\"><b>storage</b></span> <span><b>for</b></span> <span><b>a</b></span> <span style=\"background-color:rgba(0, 255, 255, 1)\"><b>basic</b></span> <span><b>.</b></span> <span style=\"background-color:rgba(0, 255, 255, 1)\"><b>mac</b></span> <span style=\"background-color:rgba(0, 255, 255, 1)\"><b>account</b></span> <span><b>was</b></span> <span><b>100mb</b></span> <span><b>,</b></span> <span><b>with</b></span> <span><b>a</b></span> <span style=\"background-color:rgba(0, 255, 255, 1)\"><b>maximum</b></span> <span><b>of</b></span> <span><b>15mb</b></span> <span><b>for</b></span> <span style=\"background-color:rgba(0, 255, 255, 1)\"><b>e</b></span> <span><b>-</b></span> <span style=\"background-color:rgba(0, 255, 255, 1)\"><b>mail</b></span> <span><b>.</b></span> <span><b>the</b></span> <span style=\"background-color:rgba(0, 255, 255, 1)\"><b>service</b></span> <span><b>'</b></span> <span style=\"background-color:rgba(0, 255, 255, 1)\"><b>s</b></span> <span style=\"background-color:rgba(0, 255, 255, 1)\"><b>base</b></span> <span style=\"background-color:rgba(0, 255, 255, 1)\"><b>online</b></span> <span style=\"background-color:rgba(0, 255, 255, 1)\"><b>storage</b></span> <span><b>has</b></span> <span><b>been</b></span> <span><b>increased</b></span> <span><b>to</b></span> <span><b>250mb</b></span> <span><b>,</b></span> <span><b>e</b></span> <span><b>-</b></span> <span style=\"background-color:rgba(0, 255, 255, 1)\"><b>mail</b></span> <span style=\"background-color:rgba(0, 255, 255, 1)\"><b>service</b></span> <span><b>has</b></span> <span><b>been</b></span> <span><b>enhanced</b></span> <span><b>,</b></span> <span><b>and</b></span> <span><b>the</b></span> <span style=\"background-color:rgba(0, 255, 255, 1)\"><b>cost</b></span> <span><b>of</b></span> <span style=\"background-color:rgba(0, 255, 255, 1)\"><b>upgrading</b></span> <span><b>has</b></span> <span><b>been</b></span> <span><b>reduced</b></span> <span><b>.</b></span> <span><b>.</b></span> <span style=\"background-color:rgba(0, 255, 255, 1)\"><b>mac</b></span> <span><b>'</b></span> <span style=\"background-color:rgba(0, 255, 255, 1)\"><b>s</b></span> <span style=\"background-color:rgba(0, 255, 255, 1)\"><b>basic</b></span> <span style=\"background-color:rgba(0, 255, 255, 1)\"><b>subscription</b></span> <span style=\"background-color:rgba(0, 255, 255, 1)\"><b>price</b></span> <span><b>remains</b></span> <span><b>the</b></span> <span style=\"background-color:rgba(0, 255, 255, 1)\"><b>same</b></span> <span><b>-</b></span> <span><b>-</b></span> <span><b>us</b></span> <span><b>per</b></span> <span style=\"background-color:rgba(0, 255, 255, 1)\"><b>year</b></span> <span><b>.</b></span> "
      ],
      "text/plain": [
       "<IPython.core.display.HTML object>"
      ]
     },
     "metadata": {},
     "output_type": "display_data"
    },
    {
     "name": "stdout",
     "output_type": "stream",
     "text": [
      "\n",
      "\n",
      "\n",
      "\n"
     ]
    }
   ],
   "source": [
    "most_influnetial_pos_feature =max(pos_local_explanations_comb, key= lambda le: le[\"nPIR_original_top_class\"])\n",
    "print_local_explanation(most_influnetial_pos_feature,input_positions_tokens)"
   ]
  },
  {
   "cell_type": "markdown",
   "metadata": {},
   "source": [
    "<h1>Query Parts-of-speech Features</h1>"
   ]
  },
  {
   "cell_type": "code",
   "execution_count": 14,
   "metadata": {
    "scrolled": false
   },
   "outputs": [
    {
     "name": "stdout",
     "output_type": "stream",
     "text": [
      "Original Probabilities: [0.00030222180066630244, 1.179747505375417e-05, 0.00014384924725163728, 0.9995421171188354]\n",
      "Original label: 3\n",
      "\n",
      "\n",
      "\n",
      "LocalExplanationId: 7, FeatureId: 7\n",
      "feature type:  POS\n",
      "feature description:  Combination of Adjectives and Nouns\n",
      "feature (position,token):  {'10': 'maccentral', '13': 'maccentral', '35': 'basic', '55': 's', '85': 's', '86': 'basic', '91': 'same', '1': 'mac', '4': 'storage', '5': 'capacity', '8': 'mail', '15': 'apple', '19': 'services', '22': 'subscribers', '25': 'mac', '30': 'amount', '32': 'storage', '37': 'mac', '38': 'account', '44': 'maximum', '48': 'e', '50': 'mail', '53': 'service', '56': 'base', '57': 'online', '58': 'storage', '67': 'mail', '68': 'service', '75': 'cost', '77': 'upgrading', '83': 'mac', '87': 'subscription', '88': 'price', '96': 'year'}\n",
      "Perturbed Text:   . bumps up, improves ( ). - has improved the offered to of.. previously, the of for a. was 100mb, with a of 15mb for -. the ' has been increased to 250mb, e - has been enhanced, and the of has been reduced.. ' remains the - - us per.\n",
      "perturbed probabilities:  [0.00029112669290043414, 0.00011168943456141278, 0.0018802531994879246, 0.9977169036865234]\n",
      "nPIR Original Class:  0.004\n"
     ]
    },
    {
     "data": {
      "text/html": [
       "<span><b>.</b></span> <span style=\"background-color:rgba(0, 255, 255, 1)\"><b>mac</b></span> <span><b>bumps</b></span> <span><b>up</b></span> <span style=\"background-color:rgba(0, 255, 255, 1)\"><b>storage</b></span> <span style=\"background-color:rgba(0, 255, 255, 1)\"><b>capacity</b></span> <span><b>,</b></span> <span><b>improves</b></span> <span style=\"background-color:rgba(0, 255, 255, 1)\"><b>mail</b></span> <span><b>(</b></span> <span style=\"background-color:rgba(0, 255, 255, 1)\"><b>maccentral</b></span> <span><b>)</b></span> <span><b>.</b></span> <span style=\"background-color:rgba(0, 255, 255, 1)\"><b>maccentral</b></span> <span><b>-</b></span> <span style=\"background-color:rgba(0, 255, 255, 1)\"><b>apple</b></span> <span><b>has</b></span> <span><b>improved</b></span> <span><b>the</b></span> <span style=\"background-color:rgba(0, 255, 255, 1)\"><b>services</b></span> <span><b>offered</b></span> <span><b>to</b></span> <span style=\"background-color:rgba(0, 255, 255, 1)\"><b>subscribers</b></span> <span><b>of</b></span> <span><b>.</b></span> <span style=\"background-color:rgba(0, 255, 255, 1)\"><b>mac</b></span> <span><b>.</b></span> <span><b>previously</b></span> <span><b>,</b></span> <span><b>the</b></span> <span style=\"background-color:rgba(0, 255, 255, 1)\"><b>amount</b></span> <span><b>of</b></span> <span style=\"background-color:rgba(0, 255, 255, 1)\"><b>storage</b></span> <span><b>for</b></span> <span><b>a</b></span> <span style=\"background-color:rgba(0, 255, 255, 1)\"><b>basic</b></span> <span><b>.</b></span> <span style=\"background-color:rgba(0, 255, 255, 1)\"><b>mac</b></span> <span style=\"background-color:rgba(0, 255, 255, 1)\"><b>account</b></span> <span><b>was</b></span> <span><b>100mb</b></span> <span><b>,</b></span> <span><b>with</b></span> <span><b>a</b></span> <span style=\"background-color:rgba(0, 255, 255, 1)\"><b>maximum</b></span> <span><b>of</b></span> <span><b>15mb</b></span> <span><b>for</b></span> <span style=\"background-color:rgba(0, 255, 255, 1)\"><b>e</b></span> <span><b>-</b></span> <span style=\"background-color:rgba(0, 255, 255, 1)\"><b>mail</b></span> <span><b>.</b></span> <span><b>the</b></span> <span style=\"background-color:rgba(0, 255, 255, 1)\"><b>service</b></span> <span><b>'</b></span> <span style=\"background-color:rgba(0, 255, 255, 1)\"><b>s</b></span> <span style=\"background-color:rgba(0, 255, 255, 1)\"><b>base</b></span> <span style=\"background-color:rgba(0, 255, 255, 1)\"><b>online</b></span> <span style=\"background-color:rgba(0, 255, 255, 1)\"><b>storage</b></span> <span><b>has</b></span> <span><b>been</b></span> <span><b>increased</b></span> <span><b>to</b></span> <span><b>250mb</b></span> <span><b>,</b></span> <span><b>e</b></span> <span><b>-</b></span> <span style=\"background-color:rgba(0, 255, 255, 1)\"><b>mail</b></span> <span style=\"background-color:rgba(0, 255, 255, 1)\"><b>service</b></span> <span><b>has</b></span> <span><b>been</b></span> <span><b>enhanced</b></span> <span><b>,</b></span> <span><b>and</b></span> <span><b>the</b></span> <span style=\"background-color:rgba(0, 255, 255, 1)\"><b>cost</b></span> <span><b>of</b></span> <span style=\"background-color:rgba(0, 255, 255, 1)\"><b>upgrading</b></span> <span><b>has</b></span> <span><b>been</b></span> <span><b>reduced</b></span> <span><b>.</b></span> <span><b>.</b></span> <span style=\"background-color:rgba(0, 255, 255, 1)\"><b>mac</b></span> <span><b>'</b></span> <span style=\"background-color:rgba(0, 255, 255, 1)\"><b>s</b></span> <span style=\"background-color:rgba(0, 255, 255, 1)\"><b>basic</b></span> <span style=\"background-color:rgba(0, 255, 255, 1)\"><b>subscription</b></span> <span style=\"background-color:rgba(0, 255, 255, 1)\"><b>price</b></span> <span><b>remains</b></span> <span><b>the</b></span> <span style=\"background-color:rgba(0, 255, 255, 1)\"><b>same</b></span> <span><b>-</b></span> <span><b>-</b></span> <span><b>us</b></span> <span><b>per</b></span> <span style=\"background-color:rgba(0, 255, 255, 1)\"><b>year</b></span> <span><b>.</b></span> "
      ],
      "text/plain": [
       "<IPython.core.display.HTML object>"
      ]
     },
     "metadata": {},
     "output_type": "display_data"
    },
    {
     "name": "stdout",
     "output_type": "stream",
     "text": [
      "\n",
      "\n",
      "\n",
      "\n",
      "LocalExplanationId: 17, FeatureId: 17\n",
      "feature type:  POS\n",
      "feature description:  Combination of Nouns and Others (Cardinal Numbers, Foreign Words, Symbols)\n",
      "feature (position,token):  {'1': 'mac', '4': 'storage', '5': 'capacity', '8': 'mail', '15': 'apple', '19': 'services', '22': 'subscribers', '25': 'mac', '30': 'amount', '32': 'storage', '37': 'mac', '38': 'account', '44': 'maximum', '48': 'e', '50': 'mail', '53': 'service', '56': 'base', '57': 'online', '58': 'storage', '67': 'mail', '68': 'service', '75': 'cost', '77': 'upgrading', '83': 'mac', '87': 'subscription', '88': 'price', '96': 'year', '40': '100mb', '46': '15mb', '63': '250mb', '65': 'e'}\n",
      "Perturbed Text:   . bumps up, improves ( maccentral ). maccentral - has improved the offered to of.. previously, the of for a basic. was, with a of for -. the ' s has been increased to, - has been enhanced, and the of has been reduced.. ' s basic remains the same - - us per.\n",
      "perturbed probabilities:  [0.0001159535750048235, 8.880724635673687e-05, 0.0006026166374795139, 0.9991926550865173]\n",
      "nPIR Original Class:  0.001\n"
     ]
    },
    {
     "data": {
      "text/html": [
       "<span><b>.</b></span> <span style=\"background-color:rgba(0, 255, 255, 1)\"><b>mac</b></span> <span><b>bumps</b></span> <span><b>up</b></span> <span style=\"background-color:rgba(0, 255, 255, 1)\"><b>storage</b></span> <span style=\"background-color:rgba(0, 255, 255, 1)\"><b>capacity</b></span> <span><b>,</b></span> <span><b>improves</b></span> <span style=\"background-color:rgba(0, 255, 255, 1)\"><b>mail</b></span> <span><b>(</b></span> <span><b>maccentral</b></span> <span><b>)</b></span> <span><b>.</b></span> <span><b>maccentral</b></span> <span><b>-</b></span> <span style=\"background-color:rgba(0, 255, 255, 1)\"><b>apple</b></span> <span><b>has</b></span> <span><b>improved</b></span> <span><b>the</b></span> <span style=\"background-color:rgba(0, 255, 255, 1)\"><b>services</b></span> <span><b>offered</b></span> <span><b>to</b></span> <span style=\"background-color:rgba(0, 255, 255, 1)\"><b>subscribers</b></span> <span><b>of</b></span> <span><b>.</b></span> <span style=\"background-color:rgba(0, 255, 255, 1)\"><b>mac</b></span> <span><b>.</b></span> <span><b>previously</b></span> <span><b>,</b></span> <span><b>the</b></span> <span style=\"background-color:rgba(0, 255, 255, 1)\"><b>amount</b></span> <span><b>of</b></span> <span style=\"background-color:rgba(0, 255, 255, 1)\"><b>storage</b></span> <span><b>for</b></span> <span><b>a</b></span> <span><b>basic</b></span> <span><b>.</b></span> <span style=\"background-color:rgba(0, 255, 255, 1)\"><b>mac</b></span> <span style=\"background-color:rgba(0, 255, 255, 1)\"><b>account</b></span> <span><b>was</b></span> <span style=\"background-color:rgba(0, 255, 255, 1)\"><b>100mb</b></span> <span><b>,</b></span> <span><b>with</b></span> <span><b>a</b></span> <span style=\"background-color:rgba(0, 255, 255, 1)\"><b>maximum</b></span> <span><b>of</b></span> <span style=\"background-color:rgba(0, 255, 255, 1)\"><b>15mb</b></span> <span><b>for</b></span> <span style=\"background-color:rgba(0, 255, 255, 1)\"><b>e</b></span> <span><b>-</b></span> <span style=\"background-color:rgba(0, 255, 255, 1)\"><b>mail</b></span> <span><b>.</b></span> <span><b>the</b></span> <span style=\"background-color:rgba(0, 255, 255, 1)\"><b>service</b></span> <span><b>'</b></span> <span><b>s</b></span> <span style=\"background-color:rgba(0, 255, 255, 1)\"><b>base</b></span> <span style=\"background-color:rgba(0, 255, 255, 1)\"><b>online</b></span> <span style=\"background-color:rgba(0, 255, 255, 1)\"><b>storage</b></span> <span><b>has</b></span> <span><b>been</b></span> <span><b>increased</b></span> <span><b>to</b></span> <span style=\"background-color:rgba(0, 255, 255, 1)\"><b>250mb</b></span> <span><b>,</b></span> <span style=\"background-color:rgba(0, 255, 255, 1)\"><b>e</b></span> <span><b>-</b></span> <span style=\"background-color:rgba(0, 255, 255, 1)\"><b>mail</b></span> <span style=\"background-color:rgba(0, 255, 255, 1)\"><b>service</b></span> <span><b>has</b></span> <span><b>been</b></span> <span><b>enhanced</b></span> <span><b>,</b></span> <span><b>and</b></span> <span><b>the</b></span> <span style=\"background-color:rgba(0, 255, 255, 1)\"><b>cost</b></span> <span><b>of</b></span> <span style=\"background-color:rgba(0, 255, 255, 1)\"><b>upgrading</b></span> <span><b>has</b></span> <span><b>been</b></span> <span><b>reduced</b></span> <span><b>.</b></span> <span><b>.</b></span> <span style=\"background-color:rgba(0, 255, 255, 1)\"><b>mac</b></span> <span><b>'</b></span> <span><b>s</b></span> <span><b>basic</b></span> <span style=\"background-color:rgba(0, 255, 255, 1)\"><b>subscription</b></span> <span style=\"background-color:rgba(0, 255, 255, 1)\"><b>price</b></span> <span><b>remains</b></span> <span><b>the</b></span> <span><b>same</b></span> <span><b>-</b></span> <span><b>-</b></span> <span><b>us</b></span> <span><b>per</b></span> <span style=\"background-color:rgba(0, 255, 255, 1)\"><b>year</b></span> <span><b>.</b></span> "
      ],
      "text/plain": [
       "<IPython.core.display.HTML object>"
      ]
     },
     "metadata": {},
     "output_type": "display_data"
    },
    {
     "name": "stdout",
     "output_type": "stream",
     "text": [
      "\n",
      "\n",
      "\n",
      "\n",
      "LocalExplanationId: 3, FeatureId: 3\n",
      "feature type:  POS\n",
      "feature description:  Adverbs, Modals\n",
      "feature (position,token):  {'27': 'previously'}\n",
      "Perturbed Text:   . mac bumps up storage capacity, improves mail ( maccentral ). maccentral - apple has improved the services offered to subscribers of. mac., the amount of storage for a basic. mac account was 100mb, with a maximum of 15mb for e - mail. the service ' s base online storage has been increased to 250mb, e - mail service has been enhanced, and the cost of upgrading has been reduced.. mac ' s basic subscription price remains the same - - us per year.\n",
      "perturbed probabilities:  [0.00041087844874709845, 1.4577299225493334e-05, 0.00014049802848603576, 0.9994340538978577]\n",
      "nPIR Original Class:  0.0\n"
     ]
    },
    {
     "data": {
      "text/html": [
       "<span><b>.</b></span> <span><b>mac</b></span> <span><b>bumps</b></span> <span><b>up</b></span> <span><b>storage</b></span> <span><b>capacity</b></span> <span><b>,</b></span> <span><b>improves</b></span> <span><b>mail</b></span> <span><b>(</b></span> <span><b>maccentral</b></span> <span><b>)</b></span> <span><b>.</b></span> <span><b>maccentral</b></span> <span><b>-</b></span> <span><b>apple</b></span> <span><b>has</b></span> <span><b>improved</b></span> <span><b>the</b></span> <span><b>services</b></span> <span><b>offered</b></span> <span><b>to</b></span> <span><b>subscribers</b></span> <span><b>of</b></span> <span><b>.</b></span> <span><b>mac</b></span> <span><b>.</b></span> <span style=\"background-color:rgba(0, 255, 255, 1)\"><b>previously</b></span> <span><b>,</b></span> <span><b>the</b></span> <span><b>amount</b></span> <span><b>of</b></span> <span><b>storage</b></span> <span><b>for</b></span> <span><b>a</b></span> <span><b>basic</b></span> <span><b>.</b></span> <span><b>mac</b></span> <span><b>account</b></span> <span><b>was</b></span> <span><b>100mb</b></span> <span><b>,</b></span> <span><b>with</b></span> <span><b>a</b></span> <span><b>maximum</b></span> <span><b>of</b></span> <span><b>15mb</b></span> <span><b>for</b></span> <span><b>e</b></span> <span><b>-</b></span> <span><b>mail</b></span> <span><b>.</b></span> <span><b>the</b></span> <span><b>service</b></span> <span><b>'</b></span> <span><b>s</b></span> <span><b>base</b></span> <span><b>online</b></span> <span><b>storage</b></span> <span><b>has</b></span> <span><b>been</b></span> <span><b>increased</b></span> <span><b>to</b></span> <span><b>250mb</b></span> <span><b>,</b></span> <span><b>e</b></span> <span><b>-</b></span> <span><b>mail</b></span> <span><b>service</b></span> <span><b>has</b></span> <span><b>been</b></span> <span><b>enhanced</b></span> <span><b>,</b></span> <span><b>and</b></span> <span><b>the</b></span> <span><b>cost</b></span> <span><b>of</b></span> <span><b>upgrading</b></span> <span><b>has</b></span> <span><b>been</b></span> <span><b>reduced</b></span> <span><b>.</b></span> <span><b>.</b></span> <span><b>mac</b></span> <span><b>'</b></span> <span><b>s</b></span> <span><b>basic</b></span> <span><b>subscription</b></span> <span><b>price</b></span> <span><b>remains</b></span> <span><b>the</b></span> <span><b>same</b></span> <span><b>-</b></span> <span><b>-</b></span> <span><b>us</b></span> <span><b>per</b></span> <span><b>year</b></span> <span><b>.</b></span> "
      ],
      "text/plain": [
       "<IPython.core.display.HTML object>"
      ]
     },
     "metadata": {},
     "output_type": "display_data"
    },
    {
     "name": "stdout",
     "output_type": "stream",
     "text": [
      "\n",
      "\n",
      "\n",
      "\n",
      "LocalExplanationId: 23, FeatureId: 23\n",
      "feature type:  POS\n",
      "feature description:  Combination of Adverbs, Modals and Interjections\n",
      "feature (position,token):  {'27': 'previously'}\n",
      "Perturbed Text:   . mac bumps up storage capacity, improves mail ( maccentral ). maccentral - apple has improved the services offered to subscribers of. mac., the amount of storage for a basic. mac account was 100mb, with a maximum of 15mb for e - mail. the service ' s base online storage has been increased to 250mb, e - mail service has been enhanced, and the cost of upgrading has been reduced.. mac ' s basic subscription price remains the same - - us per year.\n",
      "perturbed probabilities:  [0.00041087844874709845, 1.4577299225493334e-05, 0.00014049802848603576, 0.9994340538978577]\n",
      "nPIR Original Class:  0.0\n"
     ]
    },
    {
     "data": {
      "text/html": [
       "<span><b>.</b></span> <span><b>mac</b></span> <span><b>bumps</b></span> <span><b>up</b></span> <span><b>storage</b></span> <span><b>capacity</b></span> <span><b>,</b></span> <span><b>improves</b></span> <span><b>mail</b></span> <span><b>(</b></span> <span><b>maccentral</b></span> <span><b>)</b></span> <span><b>.</b></span> <span><b>maccentral</b></span> <span><b>-</b></span> <span><b>apple</b></span> <span><b>has</b></span> <span><b>improved</b></span> <span><b>the</b></span> <span><b>services</b></span> <span><b>offered</b></span> <span><b>to</b></span> <span><b>subscribers</b></span> <span><b>of</b></span> <span><b>.</b></span> <span><b>mac</b></span> <span><b>.</b></span> <span style=\"background-color:rgba(0, 255, 255, 1)\"><b>previously</b></span> <span><b>,</b></span> <span><b>the</b></span> <span><b>amount</b></span> <span><b>of</b></span> <span><b>storage</b></span> <span><b>for</b></span> <span><b>a</b></span> <span><b>basic</b></span> <span><b>.</b></span> <span><b>mac</b></span> <span><b>account</b></span> <span><b>was</b></span> <span><b>100mb</b></span> <span><b>,</b></span> <span><b>with</b></span> <span><b>a</b></span> <span><b>maximum</b></span> <span><b>of</b></span> <span><b>15mb</b></span> <span><b>for</b></span> <span><b>e</b></span> <span><b>-</b></span> <span><b>mail</b></span> <span><b>.</b></span> <span><b>the</b></span> <span><b>service</b></span> <span><b>'</b></span> <span><b>s</b></span> <span><b>base</b></span> <span><b>online</b></span> <span><b>storage</b></span> <span><b>has</b></span> <span><b>been</b></span> <span><b>increased</b></span> <span><b>to</b></span> <span><b>250mb</b></span> <span><b>,</b></span> <span><b>e</b></span> <span><b>-</b></span> <span><b>mail</b></span> <span><b>service</b></span> <span><b>has</b></span> <span><b>been</b></span> <span><b>enhanced</b></span> <span><b>,</b></span> <span><b>and</b></span> <span><b>the</b></span> <span><b>cost</b></span> <span><b>of</b></span> <span><b>upgrading</b></span> <span><b>has</b></span> <span><b>been</b></span> <span><b>reduced</b></span> <span><b>.</b></span> <span><b>.</b></span> <span><b>mac</b></span> <span><b>'</b></span> <span><b>s</b></span> <span><b>basic</b></span> <span><b>subscription</b></span> <span><b>price</b></span> <span><b>remains</b></span> <span><b>the</b></span> <span><b>same</b></span> <span><b>-</b></span> <span><b>-</b></span> <span><b>us</b></span> <span><b>per</b></span> <span><b>year</b></span> <span><b>.</b></span> "
      ],
      "text/plain": [
       "<IPython.core.display.HTML object>"
      ]
     },
     "metadata": {},
     "output_type": "display_data"
    },
    {
     "name": "stdout",
     "output_type": "stream",
     "text": [
      "\n",
      "\n",
      "\n",
      "\n",
      "LocalExplanationId: 24, FeatureId: 24\n",
      "feature type:  POS\n",
      "feature description:  Combination of Adverbs, Modals and Others (Cardinal Numbers, Foreign Words, Symbols)\n",
      "feature (position,token):  {'27': 'previously', '40': '100mb', '46': '15mb', '63': '250mb', '65': 'e'}\n",
      "Perturbed Text:   . mac bumps up storage capacity, improves mail ( maccentral ). maccentral - apple has improved the services offered to subscribers of. mac., the amount of storage for a basic. mac account was, with a maximum of for e - mail. the service ' s base online storage has been increased to, - mail service has been enhanced, and the cost of upgrading has been reduced.. mac ' s basic subscription price remains the same - - us per year.\n",
      "perturbed probabilities:  [0.00031249303719960153, 1.2490080735005904e-05, 0.00019359696307219565, 0.9994814991950989]\n",
      "nPIR Original Class:  0.0\n"
     ]
    },
    {
     "data": {
      "text/html": [
       "<span><b>.</b></span> <span><b>mac</b></span> <span><b>bumps</b></span> <span><b>up</b></span> <span><b>storage</b></span> <span><b>capacity</b></span> <span><b>,</b></span> <span><b>improves</b></span> <span><b>mail</b></span> <span><b>(</b></span> <span><b>maccentral</b></span> <span><b>)</b></span> <span><b>.</b></span> <span><b>maccentral</b></span> <span><b>-</b></span> <span><b>apple</b></span> <span><b>has</b></span> <span><b>improved</b></span> <span><b>the</b></span> <span><b>services</b></span> <span><b>offered</b></span> <span><b>to</b></span> <span><b>subscribers</b></span> <span><b>of</b></span> <span><b>.</b></span> <span><b>mac</b></span> <span><b>.</b></span> <span style=\"background-color:rgba(0, 255, 255, 1)\"><b>previously</b></span> <span><b>,</b></span> <span><b>the</b></span> <span><b>amount</b></span> <span><b>of</b></span> <span><b>storage</b></span> <span><b>for</b></span> <span><b>a</b></span> <span><b>basic</b></span> <span><b>.</b></span> <span><b>mac</b></span> <span><b>account</b></span> <span><b>was</b></span> <span style=\"background-color:rgba(0, 255, 255, 1)\"><b>100mb</b></span> <span><b>,</b></span> <span><b>with</b></span> <span><b>a</b></span> <span><b>maximum</b></span> <span><b>of</b></span> <span style=\"background-color:rgba(0, 255, 255, 1)\"><b>15mb</b></span> <span><b>for</b></span> <span><b>e</b></span> <span><b>-</b></span> <span><b>mail</b></span> <span><b>.</b></span> <span><b>the</b></span> <span><b>service</b></span> <span><b>'</b></span> <span><b>s</b></span> <span><b>base</b></span> <span><b>online</b></span> <span><b>storage</b></span> <span><b>has</b></span> <span><b>been</b></span> <span><b>increased</b></span> <span><b>to</b></span> <span style=\"background-color:rgba(0, 255, 255, 1)\"><b>250mb</b></span> <span><b>,</b></span> <span style=\"background-color:rgba(0, 255, 255, 1)\"><b>e</b></span> <span><b>-</b></span> <span><b>mail</b></span> <span><b>service</b></span> <span><b>has</b></span> <span><b>been</b></span> <span><b>enhanced</b></span> <span><b>,</b></span> <span><b>and</b></span> <span><b>the</b></span> <span><b>cost</b></span> <span><b>of</b></span> <span><b>upgrading</b></span> <span><b>has</b></span> <span><b>been</b></span> <span><b>reduced</b></span> <span><b>.</b></span> <span><b>.</b></span> <span><b>mac</b></span> <span><b>'</b></span> <span><b>s</b></span> <span><b>basic</b></span> <span><b>subscription</b></span> <span><b>price</b></span> <span><b>remains</b></span> <span><b>the</b></span> <span><b>same</b></span> <span><b>-</b></span> <span><b>-</b></span> <span><b>us</b></span> <span><b>per</b></span> <span><b>year</b></span> <span><b>.</b></span> "
      ],
      "text/plain": [
       "<IPython.core.display.HTML object>"
      ]
     },
     "metadata": {},
     "output_type": "display_data"
    },
    {
     "name": "stdout",
     "output_type": "stream",
     "text": [
      "\n",
      "\n",
      "\n",
      "\n",
      "LocalExplanationId: 22, FeatureId: 22\n",
      "feature type:  POS\n",
      "feature description:  Combination of Adverbs, Modals and Pronouns, Predeterminers, WH\n",
      "feature (position,token):  {'27': 'previously', '54': \"'\", '94': 'us'}\n",
      "Perturbed Text:   . mac bumps up storage capacity, improves mail ( maccentral ). maccentral - apple has improved the services offered to subscribers of. mac., the amount of storage for a basic. mac account was 100mb, with a maximum of 15mb for e - mail. the service s base online storage has been increased to 250mb, e - mail service has been enhanced, and the cost of upgrading has been reduced.. mac ' s basic subscription price remains the same - - per year.\n",
      "perturbed probabilities:  [0.0003529346431605518, 1.4252798791858368e-05, 0.00012802856508642435, 0.999504804611206]\n",
      "nPIR Original Class:  0.0\n"
     ]
    },
    {
     "data": {
      "text/html": [
       "<span><b>.</b></span> <span><b>mac</b></span> <span><b>bumps</b></span> <span><b>up</b></span> <span><b>storage</b></span> <span><b>capacity</b></span> <span><b>,</b></span> <span><b>improves</b></span> <span><b>mail</b></span> <span><b>(</b></span> <span><b>maccentral</b></span> <span><b>)</b></span> <span><b>.</b></span> <span><b>maccentral</b></span> <span><b>-</b></span> <span><b>apple</b></span> <span><b>has</b></span> <span><b>improved</b></span> <span><b>the</b></span> <span><b>services</b></span> <span><b>offered</b></span> <span><b>to</b></span> <span><b>subscribers</b></span> <span><b>of</b></span> <span><b>.</b></span> <span><b>mac</b></span> <span><b>.</b></span> <span style=\"background-color:rgba(0, 255, 255, 1)\"><b>previously</b></span> <span><b>,</b></span> <span><b>the</b></span> <span><b>amount</b></span> <span><b>of</b></span> <span><b>storage</b></span> <span><b>for</b></span> <span><b>a</b></span> <span><b>basic</b></span> <span><b>.</b></span> <span><b>mac</b></span> <span><b>account</b></span> <span><b>was</b></span> <span><b>100mb</b></span> <span><b>,</b></span> <span><b>with</b></span> <span><b>a</b></span> <span><b>maximum</b></span> <span><b>of</b></span> <span><b>15mb</b></span> <span><b>for</b></span> <span><b>e</b></span> <span><b>-</b></span> <span><b>mail</b></span> <span><b>.</b></span> <span><b>the</b></span> <span><b>service</b></span> <span style=\"background-color:rgba(0, 255, 255, 1)\"><b>'</b></span> <span><b>s</b></span> <span><b>base</b></span> <span><b>online</b></span> <span><b>storage</b></span> <span><b>has</b></span> <span><b>been</b></span> <span><b>increased</b></span> <span><b>to</b></span> <span><b>250mb</b></span> <span><b>,</b></span> <span><b>e</b></span> <span><b>-</b></span> <span><b>mail</b></span> <span><b>service</b></span> <span><b>has</b></span> <span><b>been</b></span> <span><b>enhanced</b></span> <span><b>,</b></span> <span><b>and</b></span> <span><b>the</b></span> <span><b>cost</b></span> <span><b>of</b></span> <span><b>upgrading</b></span> <span><b>has</b></span> <span><b>been</b></span> <span><b>reduced</b></span> <span><b>.</b></span> <span><b>.</b></span> <span><b>mac</b></span> <span><b>'</b></span> <span><b>s</b></span> <span><b>basic</b></span> <span><b>subscription</b></span> <span><b>price</b></span> <span><b>remains</b></span> <span><b>the</b></span> <span><b>same</b></span> <span><b>-</b></span> <span><b>-</b></span> <span style=\"background-color:rgba(0, 255, 255, 1)\"><b>us</b></span> <span><b>per</b></span> <span><b>year</b></span> <span><b>.</b></span> "
      ],
      "text/plain": [
       "<IPython.core.display.HTML object>"
      ]
     },
     "metadata": {},
     "output_type": "display_data"
    },
    {
     "name": "stdout",
     "output_type": "stream",
     "text": [
      "\n",
      "\n",
      "\n",
      "\n",
      "LocalExplanationId: 6, FeatureId: 6\n",
      "feature type:  POS\n",
      "feature description:  Others (Cardinal Numbers, Foreign Words, Symbols)\n",
      "feature (position,token):  {'40': '100mb', '46': '15mb', '63': '250mb', '65': 'e'}\n",
      "Perturbed Text:   . mac bumps up storage capacity, improves mail ( maccentral ). maccentral - apple has improved the services offered to subscribers of. mac. previously, the amount of storage for a basic. mac account was, with a maximum of for e - mail. the service ' s base online storage has been increased to, - mail service has been enhanced, and the cost of upgrading has been reduced.. mac ' s basic subscription price remains the same - - us per year.\n",
      "perturbed probabilities:  [0.0002690258843358606, 1.1308181456115562e-05, 0.00018195895245298743, 0.9995377063751221]\n",
      "nPIR Original Class:  0.0\n"
     ]
    },
    {
     "data": {
      "text/html": [
       "<span><b>.</b></span> <span><b>mac</b></span> <span><b>bumps</b></span> <span><b>up</b></span> <span><b>storage</b></span> <span><b>capacity</b></span> <span><b>,</b></span> <span><b>improves</b></span> <span><b>mail</b></span> <span><b>(</b></span> <span><b>maccentral</b></span> <span><b>)</b></span> <span><b>.</b></span> <span><b>maccentral</b></span> <span><b>-</b></span> <span><b>apple</b></span> <span><b>has</b></span> <span><b>improved</b></span> <span><b>the</b></span> <span><b>services</b></span> <span><b>offered</b></span> <span><b>to</b></span> <span><b>subscribers</b></span> <span><b>of</b></span> <span><b>.</b></span> <span><b>mac</b></span> <span><b>.</b></span> <span><b>previously</b></span> <span><b>,</b></span> <span><b>the</b></span> <span><b>amount</b></span> <span><b>of</b></span> <span><b>storage</b></span> <span><b>for</b></span> <span><b>a</b></span> <span><b>basic</b></span> <span><b>.</b></span> <span><b>mac</b></span> <span><b>account</b></span> <span><b>was</b></span> <span style=\"background-color:rgba(0, 255, 255, 1)\"><b>100mb</b></span> <span><b>,</b></span> <span><b>with</b></span> <span><b>a</b></span> <span><b>maximum</b></span> <span><b>of</b></span> <span style=\"background-color:rgba(0, 255, 255, 1)\"><b>15mb</b></span> <span><b>for</b></span> <span><b>e</b></span> <span><b>-</b></span> <span><b>mail</b></span> <span><b>.</b></span> <span><b>the</b></span> <span><b>service</b></span> <span><b>'</b></span> <span><b>s</b></span> <span><b>base</b></span> <span><b>online</b></span> <span><b>storage</b></span> <span><b>has</b></span> <span><b>been</b></span> <span><b>increased</b></span> <span><b>to</b></span> <span style=\"background-color:rgba(0, 255, 255, 1)\"><b>250mb</b></span> <span><b>,</b></span> <span style=\"background-color:rgba(0, 255, 255, 1)\"><b>e</b></span> <span><b>-</b></span> <span><b>mail</b></span> <span><b>service</b></span> <span><b>has</b></span> <span><b>been</b></span> <span><b>enhanced</b></span> <span><b>,</b></span> <span><b>and</b></span> <span><b>the</b></span> <span><b>cost</b></span> <span><b>of</b></span> <span><b>upgrading</b></span> <span><b>has</b></span> <span><b>been</b></span> <span><b>reduced</b></span> <span><b>.</b></span> <span><b>.</b></span> <span><b>mac</b></span> <span><b>'</b></span> <span><b>s</b></span> <span><b>basic</b></span> <span><b>subscription</b></span> <span><b>price</b></span> <span><b>remains</b></span> <span><b>the</b></span> <span><b>same</b></span> <span><b>-</b></span> <span><b>-</b></span> <span><b>us</b></span> <span><b>per</b></span> <span><b>year</b></span> <span><b>.</b></span> "
      ],
      "text/plain": [
       "<IPython.core.display.HTML object>"
      ]
     },
     "metadata": {},
     "output_type": "display_data"
    },
    {
     "name": "stdout",
     "output_type": "stream",
     "text": [
      "\n",
      "\n",
      "\n",
      "\n",
      "LocalExplanationId: 27, FeatureId: 27\n",
      "feature type:  POS\n",
      "feature description:  Combination of Interjections and Others (Cardinal Numbers, Foreign Words, Symbols)\n",
      "feature (position,token):  {'40': '100mb', '46': '15mb', '63': '250mb', '65': 'e'}\n",
      "Perturbed Text:   . mac bumps up storage capacity, improves mail ( maccentral ). maccentral - apple has improved the services offered to subscribers of. mac. previously, the amount of storage for a basic. mac account was, with a maximum of for e - mail. the service ' s base online storage has been increased to, - mail service has been enhanced, and the cost of upgrading has been reduced.. mac ' s basic subscription price remains the same - - us per year.\n",
      "perturbed probabilities:  [0.0002690258843358606, 1.1308181456115562e-05, 0.00018195895245298743, 0.9995377063751221]\n",
      "nPIR Original Class:  0.0\n"
     ]
    },
    {
     "data": {
      "text/html": [
       "<span><b>.</b></span> <span><b>mac</b></span> <span><b>bumps</b></span> <span><b>up</b></span> <span><b>storage</b></span> <span><b>capacity</b></span> <span><b>,</b></span> <span><b>improves</b></span> <span><b>mail</b></span> <span><b>(</b></span> <span><b>maccentral</b></span> <span><b>)</b></span> <span><b>.</b></span> <span><b>maccentral</b></span> <span><b>-</b></span> <span><b>apple</b></span> <span><b>has</b></span> <span><b>improved</b></span> <span><b>the</b></span> <span><b>services</b></span> <span><b>offered</b></span> <span><b>to</b></span> <span><b>subscribers</b></span> <span><b>of</b></span> <span><b>.</b></span> <span><b>mac</b></span> <span><b>.</b></span> <span><b>previously</b></span> <span><b>,</b></span> <span><b>the</b></span> <span><b>amount</b></span> <span><b>of</b></span> <span><b>storage</b></span> <span><b>for</b></span> <span><b>a</b></span> <span><b>basic</b></span> <span><b>.</b></span> <span><b>mac</b></span> <span><b>account</b></span> <span><b>was</b></span> <span style=\"background-color:rgba(0, 255, 255, 1)\"><b>100mb</b></span> <span><b>,</b></span> <span><b>with</b></span> <span><b>a</b></span> <span><b>maximum</b></span> <span><b>of</b></span> <span style=\"background-color:rgba(0, 255, 255, 1)\"><b>15mb</b></span> <span><b>for</b></span> <span><b>e</b></span> <span><b>-</b></span> <span><b>mail</b></span> <span><b>.</b></span> <span><b>the</b></span> <span><b>service</b></span> <span><b>'</b></span> <span><b>s</b></span> <span><b>base</b></span> <span><b>online</b></span> <span><b>storage</b></span> <span><b>has</b></span> <span><b>been</b></span> <span><b>increased</b></span> <span><b>to</b></span> <span style=\"background-color:rgba(0, 255, 255, 1)\"><b>250mb</b></span> <span><b>,</b></span> <span style=\"background-color:rgba(0, 255, 255, 1)\"><b>e</b></span> <span><b>-</b></span> <span><b>mail</b></span> <span><b>service</b></span> <span><b>has</b></span> <span><b>been</b></span> <span><b>enhanced</b></span> <span><b>,</b></span> <span><b>and</b></span> <span><b>the</b></span> <span><b>cost</b></span> <span><b>of</b></span> <span><b>upgrading</b></span> <span><b>has</b></span> <span><b>been</b></span> <span><b>reduced</b></span> <span><b>.</b></span> <span><b>.</b></span> <span><b>mac</b></span> <span><b>'</b></span> <span><b>s</b></span> <span><b>basic</b></span> <span><b>subscription</b></span> <span><b>price</b></span> <span><b>remains</b></span> <span><b>the</b></span> <span><b>same</b></span> <span><b>-</b></span> <span><b>-</b></span> <span><b>us</b></span> <span><b>per</b></span> <span><b>year</b></span> <span><b>.</b></span> "
      ],
      "text/plain": [
       "<IPython.core.display.HTML object>"
      ]
     },
     "metadata": {},
     "output_type": "display_data"
    },
    {
     "name": "stdout",
     "output_type": "stream",
     "text": [
      "\n",
      "\n",
      "\n",
      "\n",
      "LocalExplanationId: 26, FeatureId: 26\n",
      "feature type:  POS\n",
      "feature description:  Combination of Pronouns, Predeterminers, WH and Others (Cardinal Numbers, Foreign Words, Symbols)\n",
      "feature (position,token):  {'54': \"'\", '94': 'us', '40': '100mb', '46': '15mb', '63': '250mb', '65': 'e'}\n",
      "Perturbed Text:   . mac bumps up storage capacity, improves mail ( maccentral ). maccentral - apple has improved the services offered to subscribers of. mac. previously, the amount of storage for a basic. mac account was, with a maximum of for e - mail. the service s base online storage has been increased to, - mail service has been enhanced, and the cost of upgrading has been reduced.. mac ' s basic subscription price remains the same - - per year.\n",
      "perturbed probabilities:  [0.0002622715837787837, 1.18196521725622e-05, 0.00016072005382739007, 0.9995651841163635]\n",
      "nPIR Original Class:  -0.0\n"
     ]
    },
    {
     "data": {
      "text/html": [
       "<span><b>.</b></span> <span><b>mac</b></span> <span><b>bumps</b></span> <span><b>up</b></span> <span><b>storage</b></span> <span><b>capacity</b></span> <span><b>,</b></span> <span><b>improves</b></span> <span><b>mail</b></span> <span><b>(</b></span> <span><b>maccentral</b></span> <span><b>)</b></span> <span><b>.</b></span> <span><b>maccentral</b></span> <span><b>-</b></span> <span><b>apple</b></span> <span><b>has</b></span> <span><b>improved</b></span> <span><b>the</b></span> <span><b>services</b></span> <span><b>offered</b></span> <span><b>to</b></span> <span><b>subscribers</b></span> <span><b>of</b></span> <span><b>.</b></span> <span><b>mac</b></span> <span><b>.</b></span> <span><b>previously</b></span> <span><b>,</b></span> <span><b>the</b></span> <span><b>amount</b></span> <span><b>of</b></span> <span><b>storage</b></span> <span><b>for</b></span> <span><b>a</b></span> <span><b>basic</b></span> <span><b>.</b></span> <span><b>mac</b></span> <span><b>account</b></span> <span><b>was</b></span> <span style=\"background-color:rgba(0, 255, 255, 1)\"><b>100mb</b></span> <span><b>,</b></span> <span><b>with</b></span> <span><b>a</b></span> <span><b>maximum</b></span> <span><b>of</b></span> <span style=\"background-color:rgba(0, 255, 255, 1)\"><b>15mb</b></span> <span><b>for</b></span> <span><b>e</b></span> <span><b>-</b></span> <span><b>mail</b></span> <span><b>.</b></span> <span><b>the</b></span> <span><b>service</b></span> <span style=\"background-color:rgba(0, 255, 255, 1)\"><b>'</b></span> <span><b>s</b></span> <span><b>base</b></span> <span><b>online</b></span> <span><b>storage</b></span> <span><b>has</b></span> <span><b>been</b></span> <span><b>increased</b></span> <span><b>to</b></span> <span style=\"background-color:rgba(0, 255, 255, 1)\"><b>250mb</b></span> <span><b>,</b></span> <span style=\"background-color:rgba(0, 255, 255, 1)\"><b>e</b></span> <span><b>-</b></span> <span><b>mail</b></span> <span><b>service</b></span> <span><b>has</b></span> <span><b>been</b></span> <span><b>enhanced</b></span> <span><b>,</b></span> <span><b>and</b></span> <span><b>the</b></span> <span><b>cost</b></span> <span><b>of</b></span> <span><b>upgrading</b></span> <span><b>has</b></span> <span><b>been</b></span> <span><b>reduced</b></span> <span><b>.</b></span> <span><b>.</b></span> <span><b>mac</b></span> <span><b>'</b></span> <span><b>s</b></span> <span><b>basic</b></span> <span><b>subscription</b></span> <span><b>price</b></span> <span><b>remains</b></span> <span><b>the</b></span> <span><b>same</b></span> <span><b>-</b></span> <span><b>-</b></span> <span style=\"background-color:rgba(0, 255, 255, 1)\"><b>us</b></span> <span><b>per</b></span> <span><b>year</b></span> <span><b>.</b></span> "
      ],
      "text/plain": [
       "<IPython.core.display.HTML object>"
      ]
     },
     "metadata": {},
     "output_type": "display_data"
    },
    {
     "name": "stdout",
     "output_type": "stream",
     "text": [
      "\n",
      "\n",
      "\n",
      "\n",
      "LocalExplanationId: 4, FeatureId: 4\n",
      "feature type:  POS\n",
      "feature description:  Pronouns, Predeterminers, WH\n",
      "feature (position,token):  {'54': \"'\", '94': 'us'}\n",
      "Perturbed Text:   . mac bumps up storage capacity, improves mail ( maccentral ). maccentral - apple has improved the services offered to subscribers of. mac. previously, the amount of storage for a basic. mac account was 100mb, with a maximum of 15mb for e - mail. the service s base online storage has been increased to 250mb, e - mail service has been enhanced, and the cost of upgrading has been reduced.. mac ' s basic subscription price remains the same - - per year.\n",
      "perturbed probabilities:  [0.0002795053878799081, 1.2695245459326543e-05, 0.0001164447603514418, 0.9995914101600647]\n",
      "nPIR Original Class:  -0.0\n"
     ]
    },
    {
     "data": {
      "text/html": [
       "<span><b>.</b></span> <span><b>mac</b></span> <span><b>bumps</b></span> <span><b>up</b></span> <span><b>storage</b></span> <span><b>capacity</b></span> <span><b>,</b></span> <span><b>improves</b></span> <span><b>mail</b></span> <span><b>(</b></span> <span><b>maccentral</b></span> <span><b>)</b></span> <span><b>.</b></span> <span><b>maccentral</b></span> <span><b>-</b></span> <span><b>apple</b></span> <span><b>has</b></span> <span><b>improved</b></span> <span><b>the</b></span> <span><b>services</b></span> <span><b>offered</b></span> <span><b>to</b></span> <span><b>subscribers</b></span> <span><b>of</b></span> <span><b>.</b></span> <span><b>mac</b></span> <span><b>.</b></span> <span><b>previously</b></span> <span><b>,</b></span> <span><b>the</b></span> <span><b>amount</b></span> <span><b>of</b></span> <span><b>storage</b></span> <span><b>for</b></span> <span><b>a</b></span> <span><b>basic</b></span> <span><b>.</b></span> <span><b>mac</b></span> <span><b>account</b></span> <span><b>was</b></span> <span><b>100mb</b></span> <span><b>,</b></span> <span><b>with</b></span> <span><b>a</b></span> <span><b>maximum</b></span> <span><b>of</b></span> <span><b>15mb</b></span> <span><b>for</b></span> <span><b>e</b></span> <span><b>-</b></span> <span><b>mail</b></span> <span><b>.</b></span> <span><b>the</b></span> <span><b>service</b></span> <span style=\"background-color:rgba(0, 255, 255, 1)\"><b>'</b></span> <span><b>s</b></span> <span><b>base</b></span> <span><b>online</b></span> <span><b>storage</b></span> <span><b>has</b></span> <span><b>been</b></span> <span><b>increased</b></span> <span><b>to</b></span> <span><b>250mb</b></span> <span><b>,</b></span> <span><b>e</b></span> <span><b>-</b></span> <span><b>mail</b></span> <span><b>service</b></span> <span><b>has</b></span> <span><b>been</b></span> <span><b>enhanced</b></span> <span><b>,</b></span> <span><b>and</b></span> <span><b>the</b></span> <span><b>cost</b></span> <span><b>of</b></span> <span><b>upgrading</b></span> <span><b>has</b></span> <span><b>been</b></span> <span><b>reduced</b></span> <span><b>.</b></span> <span><b>.</b></span> <span><b>mac</b></span> <span><b>'</b></span> <span><b>s</b></span> <span><b>basic</b></span> <span><b>subscription</b></span> <span><b>price</b></span> <span><b>remains</b></span> <span><b>the</b></span> <span><b>same</b></span> <span><b>-</b></span> <span><b>-</b></span> <span style=\"background-color:rgba(0, 255, 255, 1)\"><b>us</b></span> <span><b>per</b></span> <span><b>year</b></span> <span><b>.</b></span> "
      ],
      "text/plain": [
       "<IPython.core.display.HTML object>"
      ]
     },
     "metadata": {},
     "output_type": "display_data"
    },
    {
     "name": "stdout",
     "output_type": "stream",
     "text": [
      "\n",
      "\n",
      "\n",
      "\n",
      "LocalExplanationId: 25, FeatureId: 25\n",
      "feature type:  POS\n",
      "feature description:  Combination of Pronouns, Predeterminers, WH and Interjections\n",
      "feature (position,token):  {'54': \"'\", '94': 'us'}\n",
      "Perturbed Text:   . mac bumps up storage capacity, improves mail ( maccentral ). maccentral - apple has improved the services offered to subscribers of. mac. previously, the amount of storage for a basic. mac account was 100mb, with a maximum of 15mb for e - mail. the service s base online storage has been increased to 250mb, e - mail service has been enhanced, and the cost of upgrading has been reduced.. mac ' s basic subscription price remains the same - - per year.\n",
      "perturbed probabilities:  [0.0002795053878799081, 1.2695245459326543e-05, 0.0001164447603514418, 0.9995914101600647]\n",
      "nPIR Original Class:  -0.0\n"
     ]
    },
    {
     "data": {
      "text/html": [
       "<span><b>.</b></span> <span><b>mac</b></span> <span><b>bumps</b></span> <span><b>up</b></span> <span><b>storage</b></span> <span><b>capacity</b></span> <span><b>,</b></span> <span><b>improves</b></span> <span><b>mail</b></span> <span><b>(</b></span> <span><b>maccentral</b></span> <span><b>)</b></span> <span><b>.</b></span> <span><b>maccentral</b></span> <span><b>-</b></span> <span><b>apple</b></span> <span><b>has</b></span> <span><b>improved</b></span> <span><b>the</b></span> <span><b>services</b></span> <span><b>offered</b></span> <span><b>to</b></span> <span><b>subscribers</b></span> <span><b>of</b></span> <span><b>.</b></span> <span><b>mac</b></span> <span><b>.</b></span> <span><b>previously</b></span> <span><b>,</b></span> <span><b>the</b></span> <span><b>amount</b></span> <span><b>of</b></span> <span><b>storage</b></span> <span><b>for</b></span> <span><b>a</b></span> <span><b>basic</b></span> <span><b>.</b></span> <span><b>mac</b></span> <span><b>account</b></span> <span><b>was</b></span> <span><b>100mb</b></span> <span><b>,</b></span> <span><b>with</b></span> <span><b>a</b></span> <span><b>maximum</b></span> <span><b>of</b></span> <span><b>15mb</b></span> <span><b>for</b></span> <span><b>e</b></span> <span><b>-</b></span> <span><b>mail</b></span> <span><b>.</b></span> <span><b>the</b></span> <span><b>service</b></span> <span style=\"background-color:rgba(0, 255, 255, 1)\"><b>'</b></span> <span><b>s</b></span> <span><b>base</b></span> <span><b>online</b></span> <span><b>storage</b></span> <span><b>has</b></span> <span><b>been</b></span> <span><b>increased</b></span> <span><b>to</b></span> <span><b>250mb</b></span> <span><b>,</b></span> <span><b>e</b></span> <span><b>-</b></span> <span><b>mail</b></span> <span><b>service</b></span> <span><b>has</b></span> <span><b>been</b></span> <span><b>enhanced</b></span> <span><b>,</b></span> <span><b>and</b></span> <span><b>the</b></span> <span><b>cost</b></span> <span><b>of</b></span> <span><b>upgrading</b></span> <span><b>has</b></span> <span><b>been</b></span> <span><b>reduced</b></span> <span><b>.</b></span> <span><b>.</b></span> <span><b>mac</b></span> <span><b>'</b></span> <span><b>s</b></span> <span><b>basic</b></span> <span><b>subscription</b></span> <span><b>price</b></span> <span><b>remains</b></span> <span><b>the</b></span> <span><b>same</b></span> <span><b>-</b></span> <span><b>-</b></span> <span style=\"background-color:rgba(0, 255, 255, 1)\"><b>us</b></span> <span><b>per</b></span> <span><b>year</b></span> <span><b>.</b></span> "
      ],
      "text/plain": [
       "<IPython.core.display.HTML object>"
      ]
     },
     "metadata": {},
     "output_type": "display_data"
    },
    {
     "name": "stdout",
     "output_type": "stream",
     "text": [
      "\n",
      "\n",
      "\n",
      "\n",
      "LocalExplanationId: 18, FeatureId: 18\n",
      "feature type:  POS\n",
      "feature description:  Combination of Verbs and Adverbs, Modals\n",
      "feature (position,token):  {'2': 'bumps', '3': 'up', '7': 'improves', '16': 'has', '17': 'improved', '20': 'offered', '39': 'was', '59': 'has', '60': 'been', '61': 'increased', '69': 'has', '70': 'been', '71': 'enhanced', '78': 'has', '79': 'been', '80': 'reduced', '89': 'remains', '27': 'previously'}\n",
      "Perturbed Text:   . mac storage capacity, mail ( maccentral ). maccentral - apple the services to subscribers of. mac., the amount of storage for a basic. mac account 100mb, with a maximum of 15mb for e - mail. the service ' s base online storage to 250mb, e - mail service, and the cost of upgrading.. mac ' s basic subscription price the same - - us per year.\n",
      "perturbed probabilities:  [0.00024657842004671693, 1.233676630363334e-05, 0.00012792307825293392, 0.9996132254600525]\n",
      "nPIR Original Class:  -0.0\n"
     ]
    },
    {
     "data": {
      "text/html": [
       "<span><b>.</b></span> <span><b>mac</b></span> <span style=\"background-color:rgba(0, 255, 255, 1)\"><b>bumps</b></span> <span style=\"background-color:rgba(0, 255, 255, 1)\"><b>up</b></span> <span><b>storage</b></span> <span><b>capacity</b></span> <span><b>,</b></span> <span style=\"background-color:rgba(0, 255, 255, 1)\"><b>improves</b></span> <span><b>mail</b></span> <span><b>(</b></span> <span><b>maccentral</b></span> <span><b>)</b></span> <span><b>.</b></span> <span><b>maccentral</b></span> <span><b>-</b></span> <span><b>apple</b></span> <span style=\"background-color:rgba(0, 255, 255, 1)\"><b>has</b></span> <span style=\"background-color:rgba(0, 255, 255, 1)\"><b>improved</b></span> <span><b>the</b></span> <span><b>services</b></span> <span style=\"background-color:rgba(0, 255, 255, 1)\"><b>offered</b></span> <span><b>to</b></span> <span><b>subscribers</b></span> <span><b>of</b></span> <span><b>.</b></span> <span><b>mac</b></span> <span><b>.</b></span> <span style=\"background-color:rgba(0, 255, 255, 1)\"><b>previously</b></span> <span><b>,</b></span> <span><b>the</b></span> <span><b>amount</b></span> <span><b>of</b></span> <span><b>storage</b></span> <span><b>for</b></span> <span><b>a</b></span> <span><b>basic</b></span> <span><b>.</b></span> <span><b>mac</b></span> <span><b>account</b></span> <span style=\"background-color:rgba(0, 255, 255, 1)\"><b>was</b></span> <span><b>100mb</b></span> <span><b>,</b></span> <span><b>with</b></span> <span><b>a</b></span> <span><b>maximum</b></span> <span><b>of</b></span> <span><b>15mb</b></span> <span><b>for</b></span> <span><b>e</b></span> <span><b>-</b></span> <span><b>mail</b></span> <span><b>.</b></span> <span><b>the</b></span> <span><b>service</b></span> <span><b>'</b></span> <span><b>s</b></span> <span><b>base</b></span> <span><b>online</b></span> <span><b>storage</b></span> <span style=\"background-color:rgba(0, 255, 255, 1)\"><b>has</b></span> <span style=\"background-color:rgba(0, 255, 255, 1)\"><b>been</b></span> <span style=\"background-color:rgba(0, 255, 255, 1)\"><b>increased</b></span> <span><b>to</b></span> <span><b>250mb</b></span> <span><b>,</b></span> <span><b>e</b></span> <span><b>-</b></span> <span><b>mail</b></span> <span><b>service</b></span> <span style=\"background-color:rgba(0, 255, 255, 1)\"><b>has</b></span> <span style=\"background-color:rgba(0, 255, 255, 1)\"><b>been</b></span> <span style=\"background-color:rgba(0, 255, 255, 1)\"><b>enhanced</b></span> <span><b>,</b></span> <span><b>and</b></span> <span><b>the</b></span> <span><b>cost</b></span> <span><b>of</b></span> <span><b>upgrading</b></span> <span style=\"background-color:rgba(0, 255, 255, 1)\"><b>has</b></span> <span style=\"background-color:rgba(0, 255, 255, 1)\"><b>been</b></span> <span style=\"background-color:rgba(0, 255, 255, 1)\"><b>reduced</b></span> <span><b>.</b></span> <span><b>.</b></span> <span><b>mac</b></span> <span><b>'</b></span> <span><b>s</b></span> <span><b>basic</b></span> <span><b>subscription</b></span> <span><b>price</b></span> <span style=\"background-color:rgba(0, 255, 255, 1)\"><b>remains</b></span> <span><b>the</b></span> <span><b>same</b></span> <span><b>-</b></span> <span><b>-</b></span> <span><b>us</b></span> <span><b>per</b></span> <span><b>year</b></span> <span><b>.</b></span> "
      ],
      "text/plain": [
       "<IPython.core.display.HTML object>"
      ]
     },
     "metadata": {},
     "output_type": "display_data"
    },
    {
     "name": "stdout",
     "output_type": "stream",
     "text": [
      "\n",
      "\n",
      "\n",
      "\n",
      "LocalExplanationId: 2, FeatureId: 2\n",
      "feature type:  POS\n",
      "feature description:  Verbs\n",
      "feature (position,token):  {'2': 'bumps', '3': 'up', '7': 'improves', '16': 'has', '17': 'improved', '20': 'offered', '39': 'was', '59': 'has', '60': 'been', '61': 'increased', '69': 'has', '70': 'been', '71': 'enhanced', '78': 'has', '79': 'been', '80': 'reduced', '89': 'remains'}\n",
      "Perturbed Text:   . mac storage capacity, mail ( maccentral ). maccentral - apple the services to subscribers of. mac. previously, the amount of storage for a basic. mac account 100mb, with a maximum of 15mb for e - mail. the service ' s base online storage to 250mb, e - mail service, and the cost of upgrading.. mac ' s basic subscription price the same - - us per year.\n",
      "perturbed probabilities:  [0.00025599636137485504, 1.35367836264777e-05, 0.00011436763452365994, 0.9996160268783569]\n",
      "nPIR Original Class:  -0.0\n"
     ]
    },
    {
     "data": {
      "text/html": [
       "<span><b>.</b></span> <span><b>mac</b></span> <span style=\"background-color:rgba(0, 255, 255, 1)\"><b>bumps</b></span> <span style=\"background-color:rgba(0, 255, 255, 1)\"><b>up</b></span> <span><b>storage</b></span> <span><b>capacity</b></span> <span><b>,</b></span> <span style=\"background-color:rgba(0, 255, 255, 1)\"><b>improves</b></span> <span><b>mail</b></span> <span><b>(</b></span> <span><b>maccentral</b></span> <span><b>)</b></span> <span><b>.</b></span> <span><b>maccentral</b></span> <span><b>-</b></span> <span><b>apple</b></span> <span style=\"background-color:rgba(0, 255, 255, 1)\"><b>has</b></span> <span style=\"background-color:rgba(0, 255, 255, 1)\"><b>improved</b></span> <span><b>the</b></span> <span><b>services</b></span> <span style=\"background-color:rgba(0, 255, 255, 1)\"><b>offered</b></span> <span><b>to</b></span> <span><b>subscribers</b></span> <span><b>of</b></span> <span><b>.</b></span> <span><b>mac</b></span> <span><b>.</b></span> <span><b>previously</b></span> <span><b>,</b></span> <span><b>the</b></span> <span><b>amount</b></span> <span><b>of</b></span> <span><b>storage</b></span> <span><b>for</b></span> <span><b>a</b></span> <span><b>basic</b></span> <span><b>.</b></span> <span><b>mac</b></span> <span><b>account</b></span> <span style=\"background-color:rgba(0, 255, 255, 1)\"><b>was</b></span> <span><b>100mb</b></span> <span><b>,</b></span> <span><b>with</b></span> <span><b>a</b></span> <span><b>maximum</b></span> <span><b>of</b></span> <span><b>15mb</b></span> <span><b>for</b></span> <span><b>e</b></span> <span><b>-</b></span> <span><b>mail</b></span> <span><b>.</b></span> <span><b>the</b></span> <span><b>service</b></span> <span><b>'</b></span> <span><b>s</b></span> <span><b>base</b></span> <span><b>online</b></span> <span><b>storage</b></span> <span style=\"background-color:rgba(0, 255, 255, 1)\"><b>has</b></span> <span style=\"background-color:rgba(0, 255, 255, 1)\"><b>been</b></span> <span style=\"background-color:rgba(0, 255, 255, 1)\"><b>increased</b></span> <span><b>to</b></span> <span><b>250mb</b></span> <span><b>,</b></span> <span><b>e</b></span> <span><b>-</b></span> <span><b>mail</b></span> <span><b>service</b></span> <span style=\"background-color:rgba(0, 255, 255, 1)\"><b>has</b></span> <span style=\"background-color:rgba(0, 255, 255, 1)\"><b>been</b></span> <span style=\"background-color:rgba(0, 255, 255, 1)\"><b>enhanced</b></span> <span><b>,</b></span> <span><b>and</b></span> <span><b>the</b></span> <span><b>cost</b></span> <span><b>of</b></span> <span><b>upgrading</b></span> <span style=\"background-color:rgba(0, 255, 255, 1)\"><b>has</b></span> <span style=\"background-color:rgba(0, 255, 255, 1)\"><b>been</b></span> <span style=\"background-color:rgba(0, 255, 255, 1)\"><b>reduced</b></span> <span><b>.</b></span> <span><b>.</b></span> <span><b>mac</b></span> <span><b>'</b></span> <span><b>s</b></span> <span><b>basic</b></span> <span><b>subscription</b></span> <span><b>price</b></span> <span style=\"background-color:rgba(0, 255, 255, 1)\"><b>remains</b></span> <span><b>the</b></span> <span><b>same</b></span> <span><b>-</b></span> <span><b>-</b></span> <span><b>us</b></span> <span><b>per</b></span> <span><b>year</b></span> <span><b>.</b></span> "
      ],
      "text/plain": [
       "<IPython.core.display.HTML object>"
      ]
     },
     "metadata": {},
     "output_type": "display_data"
    },
    {
     "name": "stdout",
     "output_type": "stream",
     "text": [
      "\n",
      "\n",
      "\n",
      "\n",
      "LocalExplanationId: 20, FeatureId: 20\n",
      "feature type:  POS\n",
      "feature description:  Combination of Verbs and Interjections\n",
      "feature (position,token):  {'2': 'bumps', '3': 'up', '7': 'improves', '16': 'has', '17': 'improved', '20': 'offered', '39': 'was', '59': 'has', '60': 'been', '61': 'increased', '69': 'has', '70': 'been', '71': 'enhanced', '78': 'has', '79': 'been', '80': 'reduced', '89': 'remains'}\n",
      "Perturbed Text:   . mac storage capacity, mail ( maccentral ). maccentral - apple the services to subscribers of. mac. previously, the amount of storage for a basic. mac account 100mb, with a maximum of 15mb for e - mail. the service ' s base online storage to 250mb, e - mail service, and the cost of upgrading.. mac ' s basic subscription price the same - - us per year.\n",
      "perturbed probabilities:  [0.00025599636137485504, 1.35367836264777e-05, 0.00011436763452365994, 0.9996160268783569]\n",
      "nPIR Original Class:  -0.0\n"
     ]
    },
    {
     "data": {
      "text/html": [
       "<span><b>.</b></span> <span><b>mac</b></span> <span style=\"background-color:rgba(0, 255, 255, 1)\"><b>bumps</b></span> <span style=\"background-color:rgba(0, 255, 255, 1)\"><b>up</b></span> <span><b>storage</b></span> <span><b>capacity</b></span> <span><b>,</b></span> <span style=\"background-color:rgba(0, 255, 255, 1)\"><b>improves</b></span> <span><b>mail</b></span> <span><b>(</b></span> <span><b>maccentral</b></span> <span><b>)</b></span> <span><b>.</b></span> <span><b>maccentral</b></span> <span><b>-</b></span> <span><b>apple</b></span> <span style=\"background-color:rgba(0, 255, 255, 1)\"><b>has</b></span> <span style=\"background-color:rgba(0, 255, 255, 1)\"><b>improved</b></span> <span><b>the</b></span> <span><b>services</b></span> <span style=\"background-color:rgba(0, 255, 255, 1)\"><b>offered</b></span> <span><b>to</b></span> <span><b>subscribers</b></span> <span><b>of</b></span> <span><b>.</b></span> <span><b>mac</b></span> <span><b>.</b></span> <span><b>previously</b></span> <span><b>,</b></span> <span><b>the</b></span> <span><b>amount</b></span> <span><b>of</b></span> <span><b>storage</b></span> <span><b>for</b></span> <span><b>a</b></span> <span><b>basic</b></span> <span><b>.</b></span> <span><b>mac</b></span> <span><b>account</b></span> <span style=\"background-color:rgba(0, 255, 255, 1)\"><b>was</b></span> <span><b>100mb</b></span> <span><b>,</b></span> <span><b>with</b></span> <span><b>a</b></span> <span><b>maximum</b></span> <span><b>of</b></span> <span><b>15mb</b></span> <span><b>for</b></span> <span><b>e</b></span> <span><b>-</b></span> <span><b>mail</b></span> <span><b>.</b></span> <span><b>the</b></span> <span><b>service</b></span> <span><b>'</b></span> <span><b>s</b></span> <span><b>base</b></span> <span><b>online</b></span> <span><b>storage</b></span> <span style=\"background-color:rgba(0, 255, 255, 1)\"><b>has</b></span> <span style=\"background-color:rgba(0, 255, 255, 1)\"><b>been</b></span> <span style=\"background-color:rgba(0, 255, 255, 1)\"><b>increased</b></span> <span><b>to</b></span> <span><b>250mb</b></span> <span><b>,</b></span> <span><b>e</b></span> <span><b>-</b></span> <span><b>mail</b></span> <span><b>service</b></span> <span style=\"background-color:rgba(0, 255, 255, 1)\"><b>has</b></span> <span style=\"background-color:rgba(0, 255, 255, 1)\"><b>been</b></span> <span style=\"background-color:rgba(0, 255, 255, 1)\"><b>enhanced</b></span> <span><b>,</b></span> <span><b>and</b></span> <span><b>the</b></span> <span><b>cost</b></span> <span><b>of</b></span> <span><b>upgrading</b></span> <span style=\"background-color:rgba(0, 255, 255, 1)\"><b>has</b></span> <span style=\"background-color:rgba(0, 255, 255, 1)\"><b>been</b></span> <span style=\"background-color:rgba(0, 255, 255, 1)\"><b>reduced</b></span> <span><b>.</b></span> <span><b>.</b></span> <span><b>mac</b></span> <span><b>'</b></span> <span><b>s</b></span> <span><b>basic</b></span> <span><b>subscription</b></span> <span><b>price</b></span> <span style=\"background-color:rgba(0, 255, 255, 1)\"><b>remains</b></span> <span><b>the</b></span> <span><b>same</b></span> <span><b>-</b></span> <span><b>-</b></span> <span><b>us</b></span> <span><b>per</b></span> <span><b>year</b></span> <span><b>.</b></span> "
      ],
      "text/plain": [
       "<IPython.core.display.HTML object>"
      ]
     },
     "metadata": {},
     "output_type": "display_data"
    },
    {
     "name": "stdout",
     "output_type": "stream",
     "text": [
      "\n",
      "\n",
      "\n",
      "\n",
      "LocalExplanationId: 19, FeatureId: 19\n",
      "feature type:  POS\n",
      "feature description:  Combination of Verbs and Pronouns, Predeterminers, WH\n",
      "feature (position,token):  {'2': 'bumps', '3': 'up', '7': 'improves', '16': 'has', '17': 'improved', '20': 'offered', '39': 'was', '59': 'has', '60': 'been', '61': 'increased', '69': 'has', '70': 'been', '71': 'enhanced', '78': 'has', '79': 'been', '80': 'reduced', '89': 'remains', '54': \"'\", '94': 'us'}\n",
      "Perturbed Text:   . mac storage capacity, mail ( maccentral ). maccentral - apple the services to subscribers of. mac. previously, the amount of storage for a basic. mac account 100mb, with a maximum of 15mb for e - mail. the service s base online storage to 250mb, e - mail service, and the cost of upgrading.. mac ' s basic subscription price the same - - per year.\n",
      "perturbed probabilities:  [0.00023765559308230877, 1.3368516192713287e-05, 0.00011283995991107076, 0.999636173248291]\n",
      "nPIR Original Class:  -0.0\n"
     ]
    },
    {
     "data": {
      "text/html": [
       "<span><b>.</b></span> <span><b>mac</b></span> <span style=\"background-color:rgba(0, 255, 255, 1)\"><b>bumps</b></span> <span style=\"background-color:rgba(0, 255, 255, 1)\"><b>up</b></span> <span><b>storage</b></span> <span><b>capacity</b></span> <span><b>,</b></span> <span style=\"background-color:rgba(0, 255, 255, 1)\"><b>improves</b></span> <span><b>mail</b></span> <span><b>(</b></span> <span><b>maccentral</b></span> <span><b>)</b></span> <span><b>.</b></span> <span><b>maccentral</b></span> <span><b>-</b></span> <span><b>apple</b></span> <span style=\"background-color:rgba(0, 255, 255, 1)\"><b>has</b></span> <span style=\"background-color:rgba(0, 255, 255, 1)\"><b>improved</b></span> <span><b>the</b></span> <span><b>services</b></span> <span style=\"background-color:rgba(0, 255, 255, 1)\"><b>offered</b></span> <span><b>to</b></span> <span><b>subscribers</b></span> <span><b>of</b></span> <span><b>.</b></span> <span><b>mac</b></span> <span><b>.</b></span> <span><b>previously</b></span> <span><b>,</b></span> <span><b>the</b></span> <span><b>amount</b></span> <span><b>of</b></span> <span><b>storage</b></span> <span><b>for</b></span> <span><b>a</b></span> <span><b>basic</b></span> <span><b>.</b></span> <span><b>mac</b></span> <span><b>account</b></span> <span style=\"background-color:rgba(0, 255, 255, 1)\"><b>was</b></span> <span><b>100mb</b></span> <span><b>,</b></span> <span><b>with</b></span> <span><b>a</b></span> <span><b>maximum</b></span> <span><b>of</b></span> <span><b>15mb</b></span> <span><b>for</b></span> <span><b>e</b></span> <span><b>-</b></span> <span><b>mail</b></span> <span><b>.</b></span> <span><b>the</b></span> <span><b>service</b></span> <span style=\"background-color:rgba(0, 255, 255, 1)\"><b>'</b></span> <span><b>s</b></span> <span><b>base</b></span> <span><b>online</b></span> <span><b>storage</b></span> <span style=\"background-color:rgba(0, 255, 255, 1)\"><b>has</b></span> <span style=\"background-color:rgba(0, 255, 255, 1)\"><b>been</b></span> <span style=\"background-color:rgba(0, 255, 255, 1)\"><b>increased</b></span> <span><b>to</b></span> <span><b>250mb</b></span> <span><b>,</b></span> <span><b>e</b></span> <span><b>-</b></span> <span><b>mail</b></span> <span><b>service</b></span> <span style=\"background-color:rgba(0, 255, 255, 1)\"><b>has</b></span> <span style=\"background-color:rgba(0, 255, 255, 1)\"><b>been</b></span> <span style=\"background-color:rgba(0, 255, 255, 1)\"><b>enhanced</b></span> <span><b>,</b></span> <span><b>and</b></span> <span><b>the</b></span> <span><b>cost</b></span> <span><b>of</b></span> <span><b>upgrading</b></span> <span style=\"background-color:rgba(0, 255, 255, 1)\"><b>has</b></span> <span style=\"background-color:rgba(0, 255, 255, 1)\"><b>been</b></span> <span style=\"background-color:rgba(0, 255, 255, 1)\"><b>reduced</b></span> <span><b>.</b></span> <span><b>.</b></span> <span><b>mac</b></span> <span><b>'</b></span> <span><b>s</b></span> <span><b>basic</b></span> <span><b>subscription</b></span> <span><b>price</b></span> <span style=\"background-color:rgba(0, 255, 255, 1)\"><b>remains</b></span> <span><b>the</b></span> <span><b>same</b></span> <span><b>-</b></span> <span><b>-</b></span> <span style=\"background-color:rgba(0, 255, 255, 1)\"><b>us</b></span> <span><b>per</b></span> <span><b>year</b></span> <span><b>.</b></span> "
      ],
      "text/plain": [
       "<IPython.core.display.HTML object>"
      ]
     },
     "metadata": {},
     "output_type": "display_data"
    },
    {
     "name": "stdout",
     "output_type": "stream",
     "text": [
      "\n",
      "\n",
      "\n",
      "\n",
      "LocalExplanationId: 21, FeatureId: 21\n",
      "feature type:  POS\n",
      "feature description:  Combination of Verbs and Others (Cardinal Numbers, Foreign Words, Symbols)\n",
      "feature (position,token):  {'2': 'bumps', '3': 'up', '7': 'improves', '16': 'has', '17': 'improved', '20': 'offered', '39': 'was', '59': 'has', '60': 'been', '61': 'increased', '69': 'has', '70': 'been', '71': 'enhanced', '78': 'has', '79': 'been', '80': 'reduced', '89': 'remains', '40': '100mb', '46': '15mb', '63': '250mb', '65': 'e'}\n",
      "Perturbed Text:   . mac storage capacity, mail ( maccentral ). maccentral - apple the services to subscribers of. mac. previously, the amount of storage for a basic. mac account, with a maximum of for e - mail. the service ' s base online storage to, - mail service, and the cost of upgrading.. mac ' s basic subscription price the same - - us per year.\n",
      "perturbed probabilities:  [0.0001814880670281127, 1.1052992704208009e-05, 0.00016591281746514142, 0.9996415376663208]\n",
      "nPIR Original Class:  -0.0\n"
     ]
    },
    {
     "data": {
      "text/html": [
       "<span><b>.</b></span> <span><b>mac</b></span> <span style=\"background-color:rgba(0, 255, 255, 1)\"><b>bumps</b></span> <span style=\"background-color:rgba(0, 255, 255, 1)\"><b>up</b></span> <span><b>storage</b></span> <span><b>capacity</b></span> <span><b>,</b></span> <span style=\"background-color:rgba(0, 255, 255, 1)\"><b>improves</b></span> <span><b>mail</b></span> <span><b>(</b></span> <span><b>maccentral</b></span> <span><b>)</b></span> <span><b>.</b></span> <span><b>maccentral</b></span> <span><b>-</b></span> <span><b>apple</b></span> <span style=\"background-color:rgba(0, 255, 255, 1)\"><b>has</b></span> <span style=\"background-color:rgba(0, 255, 255, 1)\"><b>improved</b></span> <span><b>the</b></span> <span><b>services</b></span> <span style=\"background-color:rgba(0, 255, 255, 1)\"><b>offered</b></span> <span><b>to</b></span> <span><b>subscribers</b></span> <span><b>of</b></span> <span><b>.</b></span> <span><b>mac</b></span> <span><b>.</b></span> <span><b>previously</b></span> <span><b>,</b></span> <span><b>the</b></span> <span><b>amount</b></span> <span><b>of</b></span> <span><b>storage</b></span> <span><b>for</b></span> <span><b>a</b></span> <span><b>basic</b></span> <span><b>.</b></span> <span><b>mac</b></span> <span><b>account</b></span> <span style=\"background-color:rgba(0, 255, 255, 1)\"><b>was</b></span> <span style=\"background-color:rgba(0, 255, 255, 1)\"><b>100mb</b></span> <span><b>,</b></span> <span><b>with</b></span> <span><b>a</b></span> <span><b>maximum</b></span> <span><b>of</b></span> <span style=\"background-color:rgba(0, 255, 255, 1)\"><b>15mb</b></span> <span><b>for</b></span> <span><b>e</b></span> <span><b>-</b></span> <span><b>mail</b></span> <span><b>.</b></span> <span><b>the</b></span> <span><b>service</b></span> <span><b>'</b></span> <span><b>s</b></span> <span><b>base</b></span> <span><b>online</b></span> <span><b>storage</b></span> <span style=\"background-color:rgba(0, 255, 255, 1)\"><b>has</b></span> <span style=\"background-color:rgba(0, 255, 255, 1)\"><b>been</b></span> <span style=\"background-color:rgba(0, 255, 255, 1)\"><b>increased</b></span> <span><b>to</b></span> <span style=\"background-color:rgba(0, 255, 255, 1)\"><b>250mb</b></span> <span><b>,</b></span> <span style=\"background-color:rgba(0, 255, 255, 1)\"><b>e</b></span> <span><b>-</b></span> <span><b>mail</b></span> <span><b>service</b></span> <span style=\"background-color:rgba(0, 255, 255, 1)\"><b>has</b></span> <span style=\"background-color:rgba(0, 255, 255, 1)\"><b>been</b></span> <span style=\"background-color:rgba(0, 255, 255, 1)\"><b>enhanced</b></span> <span><b>,</b></span> <span><b>and</b></span> <span><b>the</b></span> <span><b>cost</b></span> <span><b>of</b></span> <span><b>upgrading</b></span> <span style=\"background-color:rgba(0, 255, 255, 1)\"><b>has</b></span> <span style=\"background-color:rgba(0, 255, 255, 1)\"><b>been</b></span> <span style=\"background-color:rgba(0, 255, 255, 1)\"><b>reduced</b></span> <span><b>.</b></span> <span><b>.</b></span> <span><b>mac</b></span> <span><b>'</b></span> <span><b>s</b></span> <span><b>basic</b></span> <span><b>subscription</b></span> <span><b>price</b></span> <span style=\"background-color:rgba(0, 255, 255, 1)\"><b>remains</b></span> <span><b>the</b></span> <span><b>same</b></span> <span><b>-</b></span> <span><b>-</b></span> <span><b>us</b></span> <span><b>per</b></span> <span><b>year</b></span> <span><b>.</b></span> "
      ],
      "text/plain": [
       "<IPython.core.display.HTML object>"
      ]
     },
     "metadata": {},
     "output_type": "display_data"
    },
    {
     "name": "stdout",
     "output_type": "stream",
     "text": [
      "\n",
      "\n",
      "\n",
      "\n",
      "LocalExplanationId: 12, FeatureId: 12\n",
      "feature type:  POS\n",
      "feature description:  Combination of Adjectives and Others (Cardinal Numbers, Foreign Words, Symbols)\n",
      "feature (position,token):  {'10': 'maccentral', '13': 'maccentral', '35': 'basic', '55': 's', '85': 's', '86': 'basic', '91': 'same', '40': '100mb', '46': '15mb', '63': '250mb', '65': 'e'}\n",
      "Perturbed Text:   . mac bumps up storage capacity, improves mail ( ). - apple has improved the services offered to subscribers of. mac. previously, the amount of storage for a. mac account was, with a maximum of for e - mail. the service ' base online storage has been increased to, - mail service has been enhanced, and the cost of upgrading has been reduced.. mac ' subscription price remains the - - us per year.\n",
      "perturbed probabilities:  [5.722828791476786e-05, 4.409311713970965e-06, 0.00026355733280070126, 0.9996747970581055]\n",
      "nPIR Original Class:  -0.0\n"
     ]
    },
    {
     "data": {
      "text/html": [
       "<span><b>.</b></span> <span><b>mac</b></span> <span><b>bumps</b></span> <span><b>up</b></span> <span><b>storage</b></span> <span><b>capacity</b></span> <span><b>,</b></span> <span><b>improves</b></span> <span><b>mail</b></span> <span><b>(</b></span> <span style=\"background-color:rgba(0, 255, 255, 1)\"><b>maccentral</b></span> <span><b>)</b></span> <span><b>.</b></span> <span style=\"background-color:rgba(0, 255, 255, 1)\"><b>maccentral</b></span> <span><b>-</b></span> <span><b>apple</b></span> <span><b>has</b></span> <span><b>improved</b></span> <span><b>the</b></span> <span><b>services</b></span> <span><b>offered</b></span> <span><b>to</b></span> <span><b>subscribers</b></span> <span><b>of</b></span> <span><b>.</b></span> <span><b>mac</b></span> <span><b>.</b></span> <span><b>previously</b></span> <span><b>,</b></span> <span><b>the</b></span> <span><b>amount</b></span> <span><b>of</b></span> <span><b>storage</b></span> <span><b>for</b></span> <span><b>a</b></span> <span style=\"background-color:rgba(0, 255, 255, 1)\"><b>basic</b></span> <span><b>.</b></span> <span><b>mac</b></span> <span><b>account</b></span> <span><b>was</b></span> <span style=\"background-color:rgba(0, 255, 255, 1)\"><b>100mb</b></span> <span><b>,</b></span> <span><b>with</b></span> <span><b>a</b></span> <span><b>maximum</b></span> <span><b>of</b></span> <span style=\"background-color:rgba(0, 255, 255, 1)\"><b>15mb</b></span> <span><b>for</b></span> <span><b>e</b></span> <span><b>-</b></span> <span><b>mail</b></span> <span><b>.</b></span> <span><b>the</b></span> <span><b>service</b></span> <span><b>'</b></span> <span style=\"background-color:rgba(0, 255, 255, 1)\"><b>s</b></span> <span><b>base</b></span> <span><b>online</b></span> <span><b>storage</b></span> <span><b>has</b></span> <span><b>been</b></span> <span><b>increased</b></span> <span><b>to</b></span> <span style=\"background-color:rgba(0, 255, 255, 1)\"><b>250mb</b></span> <span><b>,</b></span> <span style=\"background-color:rgba(0, 255, 255, 1)\"><b>e</b></span> <span><b>-</b></span> <span><b>mail</b></span> <span><b>service</b></span> <span><b>has</b></span> <span><b>been</b></span> <span><b>enhanced</b></span> <span><b>,</b></span> <span><b>and</b></span> <span><b>the</b></span> <span><b>cost</b></span> <span><b>of</b></span> <span><b>upgrading</b></span> <span><b>has</b></span> <span><b>been</b></span> <span><b>reduced</b></span> <span><b>.</b></span> <span><b>.</b></span> <span><b>mac</b></span> <span><b>'</b></span> <span style=\"background-color:rgba(0, 255, 255, 1)\"><b>s</b></span> <span style=\"background-color:rgba(0, 255, 255, 1)\"><b>basic</b></span> <span><b>subscription</b></span> <span><b>price</b></span> <span><b>remains</b></span> <span><b>the</b></span> <span style=\"background-color:rgba(0, 255, 255, 1)\"><b>same</b></span> <span><b>-</b></span> <span><b>-</b></span> <span><b>us</b></span> <span><b>per</b></span> <span><b>year</b></span> <span><b>.</b></span> "
      ],
      "text/plain": [
       "<IPython.core.display.HTML object>"
      ]
     },
     "metadata": {},
     "output_type": "display_data"
    },
    {
     "name": "stdout",
     "output_type": "stream",
     "text": [
      "\n",
      "\n",
      "\n",
      "\n",
      "LocalExplanationId: 14, FeatureId: 14\n",
      "feature type:  POS\n",
      "feature description:  Combination of Nouns and Adverbs, Modals\n",
      "feature (position,token):  {'1': 'mac', '4': 'storage', '5': 'capacity', '8': 'mail', '15': 'apple', '19': 'services', '22': 'subscribers', '25': 'mac', '30': 'amount', '32': 'storage', '37': 'mac', '38': 'account', '44': 'maximum', '48': 'e', '50': 'mail', '53': 'service', '56': 'base', '57': 'online', '58': 'storage', '67': 'mail', '68': 'service', '75': 'cost', '77': 'upgrading', '83': 'mac', '87': 'subscription', '88': 'price', '96': 'year', '27': 'previously'}\n",
      "Perturbed Text:   . bumps up, improves ( maccentral ). maccentral - has improved the offered to of.., the of for a basic. was 100mb, with a of 15mb for -. the ' s has been increased to 250mb, e - has been enhanced, and the of has been reduced.. ' s basic remains the same - - us per.\n",
      "perturbed probabilities:  [6.415881944121793e-05, 1.5815823644516058e-05, 0.0002290800039190799, 0.9996910095214844]\n",
      "nPIR Original Class:  -0.0\n"
     ]
    },
    {
     "data": {
      "text/html": [
       "<span><b>.</b></span> <span style=\"background-color:rgba(0, 255, 255, 1)\"><b>mac</b></span> <span><b>bumps</b></span> <span><b>up</b></span> <span style=\"background-color:rgba(0, 255, 255, 1)\"><b>storage</b></span> <span style=\"background-color:rgba(0, 255, 255, 1)\"><b>capacity</b></span> <span><b>,</b></span> <span><b>improves</b></span> <span style=\"background-color:rgba(0, 255, 255, 1)\"><b>mail</b></span> <span><b>(</b></span> <span><b>maccentral</b></span> <span><b>)</b></span> <span><b>.</b></span> <span><b>maccentral</b></span> <span><b>-</b></span> <span style=\"background-color:rgba(0, 255, 255, 1)\"><b>apple</b></span> <span><b>has</b></span> <span><b>improved</b></span> <span><b>the</b></span> <span style=\"background-color:rgba(0, 255, 255, 1)\"><b>services</b></span> <span><b>offered</b></span> <span><b>to</b></span> <span style=\"background-color:rgba(0, 255, 255, 1)\"><b>subscribers</b></span> <span><b>of</b></span> <span><b>.</b></span> <span style=\"background-color:rgba(0, 255, 255, 1)\"><b>mac</b></span> <span><b>.</b></span> <span style=\"background-color:rgba(0, 255, 255, 1)\"><b>previously</b></span> <span><b>,</b></span> <span><b>the</b></span> <span style=\"background-color:rgba(0, 255, 255, 1)\"><b>amount</b></span> <span><b>of</b></span> <span style=\"background-color:rgba(0, 255, 255, 1)\"><b>storage</b></span> <span><b>for</b></span> <span><b>a</b></span> <span><b>basic</b></span> <span><b>.</b></span> <span style=\"background-color:rgba(0, 255, 255, 1)\"><b>mac</b></span> <span style=\"background-color:rgba(0, 255, 255, 1)\"><b>account</b></span> <span><b>was</b></span> <span><b>100mb</b></span> <span><b>,</b></span> <span><b>with</b></span> <span><b>a</b></span> <span style=\"background-color:rgba(0, 255, 255, 1)\"><b>maximum</b></span> <span><b>of</b></span> <span><b>15mb</b></span> <span><b>for</b></span> <span style=\"background-color:rgba(0, 255, 255, 1)\"><b>e</b></span> <span><b>-</b></span> <span style=\"background-color:rgba(0, 255, 255, 1)\"><b>mail</b></span> <span><b>.</b></span> <span><b>the</b></span> <span style=\"background-color:rgba(0, 255, 255, 1)\"><b>service</b></span> <span><b>'</b></span> <span><b>s</b></span> <span style=\"background-color:rgba(0, 255, 255, 1)\"><b>base</b></span> <span style=\"background-color:rgba(0, 255, 255, 1)\"><b>online</b></span> <span style=\"background-color:rgba(0, 255, 255, 1)\"><b>storage</b></span> <span><b>has</b></span> <span><b>been</b></span> <span><b>increased</b></span> <span><b>to</b></span> <span><b>250mb</b></span> <span><b>,</b></span> <span><b>e</b></span> <span><b>-</b></span> <span style=\"background-color:rgba(0, 255, 255, 1)\"><b>mail</b></span> <span style=\"background-color:rgba(0, 255, 255, 1)\"><b>service</b></span> <span><b>has</b></span> <span><b>been</b></span> <span><b>enhanced</b></span> <span><b>,</b></span> <span><b>and</b></span> <span><b>the</b></span> <span style=\"background-color:rgba(0, 255, 255, 1)\"><b>cost</b></span> <span><b>of</b></span> <span style=\"background-color:rgba(0, 255, 255, 1)\"><b>upgrading</b></span> <span><b>has</b></span> <span><b>been</b></span> <span><b>reduced</b></span> <span><b>.</b></span> <span><b>.</b></span> <span style=\"background-color:rgba(0, 255, 255, 1)\"><b>mac</b></span> <span><b>'</b></span> <span><b>s</b></span> <span><b>basic</b></span> <span style=\"background-color:rgba(0, 255, 255, 1)\"><b>subscription</b></span> <span style=\"background-color:rgba(0, 255, 255, 1)\"><b>price</b></span> <span><b>remains</b></span> <span><b>the</b></span> <span><b>same</b></span> <span><b>-</b></span> <span><b>-</b></span> <span><b>us</b></span> <span><b>per</b></span> <span style=\"background-color:rgba(0, 255, 255, 1)\"><b>year</b></span> <span><b>.</b></span> "
      ],
      "text/plain": [
       "<IPython.core.display.HTML object>"
      ]
     },
     "metadata": {},
     "output_type": "display_data"
    },
    {
     "name": "stdout",
     "output_type": "stream",
     "text": [
      "\n",
      "\n",
      "\n",
      "\n",
      "LocalExplanationId: 8, FeatureId: 8\n",
      "feature type:  POS\n",
      "feature description:  Combination of Adjectives and Verbs\n",
      "feature (position,token):  {'10': 'maccentral', '13': 'maccentral', '35': 'basic', '55': 's', '85': 's', '86': 'basic', '91': 'same', '2': 'bumps', '3': 'up', '7': 'improves', '16': 'has', '17': 'improved', '20': 'offered', '39': 'was', '59': 'has', '60': 'been', '61': 'increased', '69': 'has', '70': 'been', '71': 'enhanced', '78': 'has', '79': 'been', '80': 'reduced', '89': 'remains'}\n",
      "Perturbed Text:   . mac storage capacity, mail ( ). - apple the services to subscribers of. mac. previously, the amount of storage for a. mac account 100mb, with a maximum of 15mb for e - mail. the service ' base online storage to 250mb, e - mail service, and the cost of upgrading.. mac ' subscription price the - - us per year.\n",
      "perturbed probabilities:  [3.70676934835501e-05, 3.895989721058868e-06, 0.00024153522099368274, 0.9997175335884094]\n",
      "nPIR Original Class:  -0.0\n"
     ]
    },
    {
     "data": {
      "text/html": [
       "<span><b>.</b></span> <span><b>mac</b></span> <span style=\"background-color:rgba(0, 255, 255, 1)\"><b>bumps</b></span> <span style=\"background-color:rgba(0, 255, 255, 1)\"><b>up</b></span> <span><b>storage</b></span> <span><b>capacity</b></span> <span><b>,</b></span> <span style=\"background-color:rgba(0, 255, 255, 1)\"><b>improves</b></span> <span><b>mail</b></span> <span><b>(</b></span> <span style=\"background-color:rgba(0, 255, 255, 1)\"><b>maccentral</b></span> <span><b>)</b></span> <span><b>.</b></span> <span style=\"background-color:rgba(0, 255, 255, 1)\"><b>maccentral</b></span> <span><b>-</b></span> <span><b>apple</b></span> <span style=\"background-color:rgba(0, 255, 255, 1)\"><b>has</b></span> <span style=\"background-color:rgba(0, 255, 255, 1)\"><b>improved</b></span> <span><b>the</b></span> <span><b>services</b></span> <span style=\"background-color:rgba(0, 255, 255, 1)\"><b>offered</b></span> <span><b>to</b></span> <span><b>subscribers</b></span> <span><b>of</b></span> <span><b>.</b></span> <span><b>mac</b></span> <span><b>.</b></span> <span><b>previously</b></span> <span><b>,</b></span> <span><b>the</b></span> <span><b>amount</b></span> <span><b>of</b></span> <span><b>storage</b></span> <span><b>for</b></span> <span><b>a</b></span> <span style=\"background-color:rgba(0, 255, 255, 1)\"><b>basic</b></span> <span><b>.</b></span> <span><b>mac</b></span> <span><b>account</b></span> <span style=\"background-color:rgba(0, 255, 255, 1)\"><b>was</b></span> <span><b>100mb</b></span> <span><b>,</b></span> <span><b>with</b></span> <span><b>a</b></span> <span><b>maximum</b></span> <span><b>of</b></span> <span><b>15mb</b></span> <span><b>for</b></span> <span><b>e</b></span> <span><b>-</b></span> <span><b>mail</b></span> <span><b>.</b></span> <span><b>the</b></span> <span><b>service</b></span> <span><b>'</b></span> <span style=\"background-color:rgba(0, 255, 255, 1)\"><b>s</b></span> <span><b>base</b></span> <span><b>online</b></span> <span><b>storage</b></span> <span style=\"background-color:rgba(0, 255, 255, 1)\"><b>has</b></span> <span style=\"background-color:rgba(0, 255, 255, 1)\"><b>been</b></span> <span style=\"background-color:rgba(0, 255, 255, 1)\"><b>increased</b></span> <span><b>to</b></span> <span><b>250mb</b></span> <span><b>,</b></span> <span><b>e</b></span> <span><b>-</b></span> <span><b>mail</b></span> <span><b>service</b></span> <span style=\"background-color:rgba(0, 255, 255, 1)\"><b>has</b></span> <span style=\"background-color:rgba(0, 255, 255, 1)\"><b>been</b></span> <span style=\"background-color:rgba(0, 255, 255, 1)\"><b>enhanced</b></span> <span><b>,</b></span> <span><b>and</b></span> <span><b>the</b></span> <span><b>cost</b></span> <span><b>of</b></span> <span><b>upgrading</b></span> <span style=\"background-color:rgba(0, 255, 255, 1)\"><b>has</b></span> <span style=\"background-color:rgba(0, 255, 255, 1)\"><b>been</b></span> <span style=\"background-color:rgba(0, 255, 255, 1)\"><b>reduced</b></span> <span><b>.</b></span> <span><b>.</b></span> <span><b>mac</b></span> <span><b>'</b></span> <span style=\"background-color:rgba(0, 255, 255, 1)\"><b>s</b></span> <span style=\"background-color:rgba(0, 255, 255, 1)\"><b>basic</b></span> <span><b>subscription</b></span> <span><b>price</b></span> <span style=\"background-color:rgba(0, 255, 255, 1)\"><b>remains</b></span> <span><b>the</b></span> <span style=\"background-color:rgba(0, 255, 255, 1)\"><b>same</b></span> <span><b>-</b></span> <span><b>-</b></span> <span><b>us</b></span> <span><b>per</b></span> <span><b>year</b></span> <span><b>.</b></span> "
      ],
      "text/plain": [
       "<IPython.core.display.HTML object>"
      ]
     },
     "metadata": {},
     "output_type": "display_data"
    },
    {
     "name": "stdout",
     "output_type": "stream",
     "text": [
      "\n",
      "\n",
      "\n",
      "\n",
      "LocalExplanationId: 15, FeatureId: 15\n",
      "feature type:  POS\n",
      "feature description:  Combination of Nouns and Pronouns, Predeterminers, WH\n",
      "feature (position,token):  {'1': 'mac', '4': 'storage', '5': 'capacity', '8': 'mail', '15': 'apple', '19': 'services', '22': 'subscribers', '25': 'mac', '30': 'amount', '32': 'storage', '37': 'mac', '38': 'account', '44': 'maximum', '48': 'e', '50': 'mail', '53': 'service', '56': 'base', '57': 'online', '58': 'storage', '67': 'mail', '68': 'service', '75': 'cost', '77': 'upgrading', '83': 'mac', '87': 'subscription', '88': 'price', '96': 'year', '54': \"'\", '94': 'us'}\n",
      "Perturbed Text:   . bumps up, improves ( maccentral ). maccentral - has improved the offered to of.. previously, the of for a basic. was 100mb, with a of 15mb for -. the s has been increased to 250mb, e - has been enhanced, and the of has been reduced.. ' s basic remains the same - - per.\n",
      "perturbed probabilities:  [6.119337922427803e-05, 1.5042792256281245e-05, 0.00019287248142063618, 0.9997308850288391]\n",
      "nPIR Original Class:  -0.0\n"
     ]
    },
    {
     "data": {
      "text/html": [
       "<span><b>.</b></span> <span style=\"background-color:rgba(0, 255, 255, 1)\"><b>mac</b></span> <span><b>bumps</b></span> <span><b>up</b></span> <span style=\"background-color:rgba(0, 255, 255, 1)\"><b>storage</b></span> <span style=\"background-color:rgba(0, 255, 255, 1)\"><b>capacity</b></span> <span><b>,</b></span> <span><b>improves</b></span> <span style=\"background-color:rgba(0, 255, 255, 1)\"><b>mail</b></span> <span><b>(</b></span> <span><b>maccentral</b></span> <span><b>)</b></span> <span><b>.</b></span> <span><b>maccentral</b></span> <span><b>-</b></span> <span style=\"background-color:rgba(0, 255, 255, 1)\"><b>apple</b></span> <span><b>has</b></span> <span><b>improved</b></span> <span><b>the</b></span> <span style=\"background-color:rgba(0, 255, 255, 1)\"><b>services</b></span> <span><b>offered</b></span> <span><b>to</b></span> <span style=\"background-color:rgba(0, 255, 255, 1)\"><b>subscribers</b></span> <span><b>of</b></span> <span><b>.</b></span> <span style=\"background-color:rgba(0, 255, 255, 1)\"><b>mac</b></span> <span><b>.</b></span> <span><b>previously</b></span> <span><b>,</b></span> <span><b>the</b></span> <span style=\"background-color:rgba(0, 255, 255, 1)\"><b>amount</b></span> <span><b>of</b></span> <span style=\"background-color:rgba(0, 255, 255, 1)\"><b>storage</b></span> <span><b>for</b></span> <span><b>a</b></span> <span><b>basic</b></span> <span><b>.</b></span> <span style=\"background-color:rgba(0, 255, 255, 1)\"><b>mac</b></span> <span style=\"background-color:rgba(0, 255, 255, 1)\"><b>account</b></span> <span><b>was</b></span> <span><b>100mb</b></span> <span><b>,</b></span> <span><b>with</b></span> <span><b>a</b></span> <span style=\"background-color:rgba(0, 255, 255, 1)\"><b>maximum</b></span> <span><b>of</b></span> <span><b>15mb</b></span> <span><b>for</b></span> <span style=\"background-color:rgba(0, 255, 255, 1)\"><b>e</b></span> <span><b>-</b></span> <span style=\"background-color:rgba(0, 255, 255, 1)\"><b>mail</b></span> <span><b>.</b></span> <span><b>the</b></span> <span style=\"background-color:rgba(0, 255, 255, 1)\"><b>service</b></span> <span style=\"background-color:rgba(0, 255, 255, 1)\"><b>'</b></span> <span><b>s</b></span> <span style=\"background-color:rgba(0, 255, 255, 1)\"><b>base</b></span> <span style=\"background-color:rgba(0, 255, 255, 1)\"><b>online</b></span> <span style=\"background-color:rgba(0, 255, 255, 1)\"><b>storage</b></span> <span><b>has</b></span> <span><b>been</b></span> <span><b>increased</b></span> <span><b>to</b></span> <span><b>250mb</b></span> <span><b>,</b></span> <span><b>e</b></span> <span><b>-</b></span> <span style=\"background-color:rgba(0, 255, 255, 1)\"><b>mail</b></span> <span style=\"background-color:rgba(0, 255, 255, 1)\"><b>service</b></span> <span><b>has</b></span> <span><b>been</b></span> <span><b>enhanced</b></span> <span><b>,</b></span> <span><b>and</b></span> <span><b>the</b></span> <span style=\"background-color:rgba(0, 255, 255, 1)\"><b>cost</b></span> <span><b>of</b></span> <span style=\"background-color:rgba(0, 255, 255, 1)\"><b>upgrading</b></span> <span><b>has</b></span> <span><b>been</b></span> <span><b>reduced</b></span> <span><b>.</b></span> <span><b>.</b></span> <span style=\"background-color:rgba(0, 255, 255, 1)\"><b>mac</b></span> <span><b>'</b></span> <span><b>s</b></span> <span><b>basic</b></span> <span style=\"background-color:rgba(0, 255, 255, 1)\"><b>subscription</b></span> <span style=\"background-color:rgba(0, 255, 255, 1)\"><b>price</b></span> <span><b>remains</b></span> <span><b>the</b></span> <span><b>same</b></span> <span><b>-</b></span> <span><b>-</b></span> <span style=\"background-color:rgba(0, 255, 255, 1)\"><b>us</b></span> <span><b>per</b></span> <span style=\"background-color:rgba(0, 255, 255, 1)\"><b>year</b></span> <span><b>.</b></span> "
      ],
      "text/plain": [
       "<IPython.core.display.HTML object>"
      ]
     },
     "metadata": {},
     "output_type": "display_data"
    },
    {
     "name": "stdout",
     "output_type": "stream",
     "text": [
      "\n",
      "\n",
      "\n",
      "\n",
      "LocalExplanationId: 1, FeatureId: 1\n",
      "feature type:  POS\n",
      "feature description:  Nouns\n",
      "feature (position,token):  {'1': 'mac', '4': 'storage', '5': 'capacity', '8': 'mail', '15': 'apple', '19': 'services', '22': 'subscribers', '25': 'mac', '30': 'amount', '32': 'storage', '37': 'mac', '38': 'account', '44': 'maximum', '48': 'e', '50': 'mail', '53': 'service', '56': 'base', '57': 'online', '58': 'storage', '67': 'mail', '68': 'service', '75': 'cost', '77': 'upgrading', '83': 'mac', '87': 'subscription', '88': 'price', '96': 'year'}\n",
      "Perturbed Text:   . bumps up, improves ( maccentral ). maccentral - has improved the offered to of.. previously, the of for a basic. was 100mb, with a of 15mb for -. the ' s has been increased to 250mb, e - has been enhanced, and the of has been reduced.. ' s basic remains the same - - us per.\n",
      "perturbed probabilities:  [5.611097003566101e-05, 1.2525830243248492e-05, 0.00020011246670037508, 0.9997312426567078]\n",
      "nPIR Original Class:  -0.0\n"
     ]
    },
    {
     "data": {
      "text/html": [
       "<span><b>.</b></span> <span style=\"background-color:rgba(0, 255, 255, 1)\"><b>mac</b></span> <span><b>bumps</b></span> <span><b>up</b></span> <span style=\"background-color:rgba(0, 255, 255, 1)\"><b>storage</b></span> <span style=\"background-color:rgba(0, 255, 255, 1)\"><b>capacity</b></span> <span><b>,</b></span> <span><b>improves</b></span> <span style=\"background-color:rgba(0, 255, 255, 1)\"><b>mail</b></span> <span><b>(</b></span> <span><b>maccentral</b></span> <span><b>)</b></span> <span><b>.</b></span> <span><b>maccentral</b></span> <span><b>-</b></span> <span style=\"background-color:rgba(0, 255, 255, 1)\"><b>apple</b></span> <span><b>has</b></span> <span><b>improved</b></span> <span><b>the</b></span> <span style=\"background-color:rgba(0, 255, 255, 1)\"><b>services</b></span> <span><b>offered</b></span> <span><b>to</b></span> <span style=\"background-color:rgba(0, 255, 255, 1)\"><b>subscribers</b></span> <span><b>of</b></span> <span><b>.</b></span> <span style=\"background-color:rgba(0, 255, 255, 1)\"><b>mac</b></span> <span><b>.</b></span> <span><b>previously</b></span> <span><b>,</b></span> <span><b>the</b></span> <span style=\"background-color:rgba(0, 255, 255, 1)\"><b>amount</b></span> <span><b>of</b></span> <span style=\"background-color:rgba(0, 255, 255, 1)\"><b>storage</b></span> <span><b>for</b></span> <span><b>a</b></span> <span><b>basic</b></span> <span><b>.</b></span> <span style=\"background-color:rgba(0, 255, 255, 1)\"><b>mac</b></span> <span style=\"background-color:rgba(0, 255, 255, 1)\"><b>account</b></span> <span><b>was</b></span> <span><b>100mb</b></span> <span><b>,</b></span> <span><b>with</b></span> <span><b>a</b></span> <span style=\"background-color:rgba(0, 255, 255, 1)\"><b>maximum</b></span> <span><b>of</b></span> <span><b>15mb</b></span> <span><b>for</b></span> <span style=\"background-color:rgba(0, 255, 255, 1)\"><b>e</b></span> <span><b>-</b></span> <span style=\"background-color:rgba(0, 255, 255, 1)\"><b>mail</b></span> <span><b>.</b></span> <span><b>the</b></span> <span style=\"background-color:rgba(0, 255, 255, 1)\"><b>service</b></span> <span><b>'</b></span> <span><b>s</b></span> <span style=\"background-color:rgba(0, 255, 255, 1)\"><b>base</b></span> <span style=\"background-color:rgba(0, 255, 255, 1)\"><b>online</b></span> <span style=\"background-color:rgba(0, 255, 255, 1)\"><b>storage</b></span> <span><b>has</b></span> <span><b>been</b></span> <span><b>increased</b></span> <span><b>to</b></span> <span><b>250mb</b></span> <span><b>,</b></span> <span><b>e</b></span> <span><b>-</b></span> <span style=\"background-color:rgba(0, 255, 255, 1)\"><b>mail</b></span> <span style=\"background-color:rgba(0, 255, 255, 1)\"><b>service</b></span> <span><b>has</b></span> <span><b>been</b></span> <span><b>enhanced</b></span> <span><b>,</b></span> <span><b>and</b></span> <span><b>the</b></span> <span style=\"background-color:rgba(0, 255, 255, 1)\"><b>cost</b></span> <span><b>of</b></span> <span style=\"background-color:rgba(0, 255, 255, 1)\"><b>upgrading</b></span> <span><b>has</b></span> <span><b>been</b></span> <span><b>reduced</b></span> <span><b>.</b></span> <span><b>.</b></span> <span style=\"background-color:rgba(0, 255, 255, 1)\"><b>mac</b></span> <span><b>'</b></span> <span><b>s</b></span> <span><b>basic</b></span> <span style=\"background-color:rgba(0, 255, 255, 1)\"><b>subscription</b></span> <span style=\"background-color:rgba(0, 255, 255, 1)\"><b>price</b></span> <span><b>remains</b></span> <span><b>the</b></span> <span><b>same</b></span> <span><b>-</b></span> <span><b>-</b></span> <span><b>us</b></span> <span><b>per</b></span> <span style=\"background-color:rgba(0, 255, 255, 1)\"><b>year</b></span> <span><b>.</b></span> "
      ],
      "text/plain": [
       "<IPython.core.display.HTML object>"
      ]
     },
     "metadata": {},
     "output_type": "display_data"
    },
    {
     "name": "stdout",
     "output_type": "stream",
     "text": [
      "\n",
      "\n",
      "\n",
      "\n",
      "LocalExplanationId: 16, FeatureId: 16\n",
      "feature type:  POS\n",
      "feature description:  Combination of Nouns and Interjections\n",
      "feature (position,token):  {'1': 'mac', '4': 'storage', '5': 'capacity', '8': 'mail', '15': 'apple', '19': 'services', '22': 'subscribers', '25': 'mac', '30': 'amount', '32': 'storage', '37': 'mac', '38': 'account', '44': 'maximum', '48': 'e', '50': 'mail', '53': 'service', '56': 'base', '57': 'online', '58': 'storage', '67': 'mail', '68': 'service', '75': 'cost', '77': 'upgrading', '83': 'mac', '87': 'subscription', '88': 'price', '96': 'year'}\n",
      "Perturbed Text:   . bumps up, improves ( maccentral ). maccentral - has improved the offered to of.. previously, the of for a basic. was 100mb, with a of 15mb for -. the ' s has been increased to 250mb, e - has been enhanced, and the of has been reduced.. ' s basic remains the same - - us per.\n",
      "perturbed probabilities:  [5.611097003566101e-05, 1.2525830243248492e-05, 0.00020011246670037508, 0.9997312426567078]\n",
      "nPIR Original Class:  -0.0\n"
     ]
    },
    {
     "data": {
      "text/html": [
       "<span><b>.</b></span> <span style=\"background-color:rgba(0, 255, 255, 1)\"><b>mac</b></span> <span><b>bumps</b></span> <span><b>up</b></span> <span style=\"background-color:rgba(0, 255, 255, 1)\"><b>storage</b></span> <span style=\"background-color:rgba(0, 255, 255, 1)\"><b>capacity</b></span> <span><b>,</b></span> <span><b>improves</b></span> <span style=\"background-color:rgba(0, 255, 255, 1)\"><b>mail</b></span> <span><b>(</b></span> <span><b>maccentral</b></span> <span><b>)</b></span> <span><b>.</b></span> <span><b>maccentral</b></span> <span><b>-</b></span> <span style=\"background-color:rgba(0, 255, 255, 1)\"><b>apple</b></span> <span><b>has</b></span> <span><b>improved</b></span> <span><b>the</b></span> <span style=\"background-color:rgba(0, 255, 255, 1)\"><b>services</b></span> <span><b>offered</b></span> <span><b>to</b></span> <span style=\"background-color:rgba(0, 255, 255, 1)\"><b>subscribers</b></span> <span><b>of</b></span> <span><b>.</b></span> <span style=\"background-color:rgba(0, 255, 255, 1)\"><b>mac</b></span> <span><b>.</b></span> <span><b>previously</b></span> <span><b>,</b></span> <span><b>the</b></span> <span style=\"background-color:rgba(0, 255, 255, 1)\"><b>amount</b></span> <span><b>of</b></span> <span style=\"background-color:rgba(0, 255, 255, 1)\"><b>storage</b></span> <span><b>for</b></span> <span><b>a</b></span> <span><b>basic</b></span> <span><b>.</b></span> <span style=\"background-color:rgba(0, 255, 255, 1)\"><b>mac</b></span> <span style=\"background-color:rgba(0, 255, 255, 1)\"><b>account</b></span> <span><b>was</b></span> <span><b>100mb</b></span> <span><b>,</b></span> <span><b>with</b></span> <span><b>a</b></span> <span style=\"background-color:rgba(0, 255, 255, 1)\"><b>maximum</b></span> <span><b>of</b></span> <span><b>15mb</b></span> <span><b>for</b></span> <span style=\"background-color:rgba(0, 255, 255, 1)\"><b>e</b></span> <span><b>-</b></span> <span style=\"background-color:rgba(0, 255, 255, 1)\"><b>mail</b></span> <span><b>.</b></span> <span><b>the</b></span> <span style=\"background-color:rgba(0, 255, 255, 1)\"><b>service</b></span> <span><b>'</b></span> <span><b>s</b></span> <span style=\"background-color:rgba(0, 255, 255, 1)\"><b>base</b></span> <span style=\"background-color:rgba(0, 255, 255, 1)\"><b>online</b></span> <span style=\"background-color:rgba(0, 255, 255, 1)\"><b>storage</b></span> <span><b>has</b></span> <span><b>been</b></span> <span><b>increased</b></span> <span><b>to</b></span> <span><b>250mb</b></span> <span><b>,</b></span> <span><b>e</b></span> <span><b>-</b></span> <span style=\"background-color:rgba(0, 255, 255, 1)\"><b>mail</b></span> <span style=\"background-color:rgba(0, 255, 255, 1)\"><b>service</b></span> <span><b>has</b></span> <span><b>been</b></span> <span><b>enhanced</b></span> <span><b>,</b></span> <span><b>and</b></span> <span><b>the</b></span> <span style=\"background-color:rgba(0, 255, 255, 1)\"><b>cost</b></span> <span><b>of</b></span> <span style=\"background-color:rgba(0, 255, 255, 1)\"><b>upgrading</b></span> <span><b>has</b></span> <span><b>been</b></span> <span><b>reduced</b></span> <span><b>.</b></span> <span><b>.</b></span> <span style=\"background-color:rgba(0, 255, 255, 1)\"><b>mac</b></span> <span><b>'</b></span> <span><b>s</b></span> <span><b>basic</b></span> <span style=\"background-color:rgba(0, 255, 255, 1)\"><b>subscription</b></span> <span style=\"background-color:rgba(0, 255, 255, 1)\"><b>price</b></span> <span><b>remains</b></span> <span><b>the</b></span> <span><b>same</b></span> <span><b>-</b></span> <span><b>-</b></span> <span><b>us</b></span> <span><b>per</b></span> <span style=\"background-color:rgba(0, 255, 255, 1)\"><b>year</b></span> <span><b>.</b></span> "
      ],
      "text/plain": [
       "<IPython.core.display.HTML object>"
      ]
     },
     "metadata": {},
     "output_type": "display_data"
    },
    {
     "name": "stdout",
     "output_type": "stream",
     "text": [
      "\n",
      "\n",
      "\n",
      "\n",
      "LocalExplanationId: 10, FeatureId: 10\n",
      "feature type:  POS\n",
      "feature description:  Combination of Adjectives and Pronouns, Predeterminers, WH\n",
      "feature (position,token):  {'10': 'maccentral', '13': 'maccentral', '35': 'basic', '55': 's', '85': 's', '86': 'basic', '91': 'same', '54': \"'\", '94': 'us'}\n",
      "Perturbed Text:   . mac bumps up storage capacity, improves mail ( ). - apple has improved the services offered to subscribers of. mac. previously, the amount of storage for a. mac account was 100mb, with a maximum of 15mb for e - mail. the service base online storage has been increased to 250mb, e - mail service has been enhanced, and the cost of upgrading has been reduced.. mac ' subscription price remains the - - per year.\n",
      "perturbed probabilities:  [3.2226529583567753e-05, 3.6144508612778736e-06, 0.00022222546976990998, 0.9997419714927673]\n",
      "nPIR Original Class:  -0.0\n"
     ]
    },
    {
     "data": {
      "text/html": [
       "<span><b>.</b></span> <span><b>mac</b></span> <span><b>bumps</b></span> <span><b>up</b></span> <span><b>storage</b></span> <span><b>capacity</b></span> <span><b>,</b></span> <span><b>improves</b></span> <span><b>mail</b></span> <span><b>(</b></span> <span style=\"background-color:rgba(0, 255, 255, 1)\"><b>maccentral</b></span> <span><b>)</b></span> <span><b>.</b></span> <span style=\"background-color:rgba(0, 255, 255, 1)\"><b>maccentral</b></span> <span><b>-</b></span> <span><b>apple</b></span> <span><b>has</b></span> <span><b>improved</b></span> <span><b>the</b></span> <span><b>services</b></span> <span><b>offered</b></span> <span><b>to</b></span> <span><b>subscribers</b></span> <span><b>of</b></span> <span><b>.</b></span> <span><b>mac</b></span> <span><b>.</b></span> <span><b>previously</b></span> <span><b>,</b></span> <span><b>the</b></span> <span><b>amount</b></span> <span><b>of</b></span> <span><b>storage</b></span> <span><b>for</b></span> <span><b>a</b></span> <span style=\"background-color:rgba(0, 255, 255, 1)\"><b>basic</b></span> <span><b>.</b></span> <span><b>mac</b></span> <span><b>account</b></span> <span><b>was</b></span> <span><b>100mb</b></span> <span><b>,</b></span> <span><b>with</b></span> <span><b>a</b></span> <span><b>maximum</b></span> <span><b>of</b></span> <span><b>15mb</b></span> <span><b>for</b></span> <span><b>e</b></span> <span><b>-</b></span> <span><b>mail</b></span> <span><b>.</b></span> <span><b>the</b></span> <span><b>service</b></span> <span style=\"background-color:rgba(0, 255, 255, 1)\"><b>'</b></span> <span style=\"background-color:rgba(0, 255, 255, 1)\"><b>s</b></span> <span><b>base</b></span> <span><b>online</b></span> <span><b>storage</b></span> <span><b>has</b></span> <span><b>been</b></span> <span><b>increased</b></span> <span><b>to</b></span> <span><b>250mb</b></span> <span><b>,</b></span> <span><b>e</b></span> <span><b>-</b></span> <span><b>mail</b></span> <span><b>service</b></span> <span><b>has</b></span> <span><b>been</b></span> <span><b>enhanced</b></span> <span><b>,</b></span> <span><b>and</b></span> <span><b>the</b></span> <span><b>cost</b></span> <span><b>of</b></span> <span><b>upgrading</b></span> <span><b>has</b></span> <span><b>been</b></span> <span><b>reduced</b></span> <span><b>.</b></span> <span><b>.</b></span> <span><b>mac</b></span> <span><b>'</b></span> <span style=\"background-color:rgba(0, 255, 255, 1)\"><b>s</b></span> <span style=\"background-color:rgba(0, 255, 255, 1)\"><b>basic</b></span> <span><b>subscription</b></span> <span><b>price</b></span> <span><b>remains</b></span> <span><b>the</b></span> <span style=\"background-color:rgba(0, 255, 255, 1)\"><b>same</b></span> <span><b>-</b></span> <span><b>-</b></span> <span style=\"background-color:rgba(0, 255, 255, 1)\"><b>us</b></span> <span><b>per</b></span> <span><b>year</b></span> <span><b>.</b></span> "
      ],
      "text/plain": [
       "<IPython.core.display.HTML object>"
      ]
     },
     "metadata": {},
     "output_type": "display_data"
    },
    {
     "name": "stdout",
     "output_type": "stream",
     "text": [
      "\n",
      "\n",
      "\n",
      "\n",
      "LocalExplanationId: 0, FeatureId: 0\n",
      "feature type:  POS\n",
      "feature description:  Adjectives\n",
      "feature (position,token):  {'10': 'maccentral', '13': 'maccentral', '35': 'basic', '55': 's', '85': 's', '86': 'basic', '91': 'same'}\n",
      "Perturbed Text:   . mac bumps up storage capacity, improves mail ( ). - apple has improved the services offered to subscribers of. mac. previously, the amount of storage for a. mac account was 100mb, with a maximum of 15mb for e - mail. the service ' base online storage has been increased to 250mb, e - mail service has been enhanced, and the cost of upgrading has been reduced.. mac ' subscription price remains the - - us per year.\n",
      "perturbed probabilities:  [2.920807310147211e-05, 3.0988917387730908e-06, 0.00021043575543444604, 0.9997572302818298]\n",
      "nPIR Original Class:  -0.0\n"
     ]
    },
    {
     "data": {
      "text/html": [
       "<span><b>.</b></span> <span><b>mac</b></span> <span><b>bumps</b></span> <span><b>up</b></span> <span><b>storage</b></span> <span><b>capacity</b></span> <span><b>,</b></span> <span><b>improves</b></span> <span><b>mail</b></span> <span><b>(</b></span> <span style=\"background-color:rgba(0, 255, 255, 1)\"><b>maccentral</b></span> <span><b>)</b></span> <span><b>.</b></span> <span style=\"background-color:rgba(0, 255, 255, 1)\"><b>maccentral</b></span> <span><b>-</b></span> <span><b>apple</b></span> <span><b>has</b></span> <span><b>improved</b></span> <span><b>the</b></span> <span><b>services</b></span> <span><b>offered</b></span> <span><b>to</b></span> <span><b>subscribers</b></span> <span><b>of</b></span> <span><b>.</b></span> <span><b>mac</b></span> <span><b>.</b></span> <span><b>previously</b></span> <span><b>,</b></span> <span><b>the</b></span> <span><b>amount</b></span> <span><b>of</b></span> <span><b>storage</b></span> <span><b>for</b></span> <span><b>a</b></span> <span style=\"background-color:rgba(0, 255, 255, 1)\"><b>basic</b></span> <span><b>.</b></span> <span><b>mac</b></span> <span><b>account</b></span> <span><b>was</b></span> <span><b>100mb</b></span> <span><b>,</b></span> <span><b>with</b></span> <span><b>a</b></span> <span><b>maximum</b></span> <span><b>of</b></span> <span><b>15mb</b></span> <span><b>for</b></span> <span><b>e</b></span> <span><b>-</b></span> <span><b>mail</b></span> <span><b>.</b></span> <span><b>the</b></span> <span><b>service</b></span> <span><b>'</b></span> <span style=\"background-color:rgba(0, 255, 255, 1)\"><b>s</b></span> <span><b>base</b></span> <span><b>online</b></span> <span><b>storage</b></span> <span><b>has</b></span> <span><b>been</b></span> <span><b>increased</b></span> <span><b>to</b></span> <span><b>250mb</b></span> <span><b>,</b></span> <span><b>e</b></span> <span><b>-</b></span> <span><b>mail</b></span> <span><b>service</b></span> <span><b>has</b></span> <span><b>been</b></span> <span><b>enhanced</b></span> <span><b>,</b></span> <span><b>and</b></span> <span><b>the</b></span> <span><b>cost</b></span> <span><b>of</b></span> <span><b>upgrading</b></span> <span><b>has</b></span> <span><b>been</b></span> <span><b>reduced</b></span> <span><b>.</b></span> <span><b>.</b></span> <span><b>mac</b></span> <span><b>'</b></span> <span style=\"background-color:rgba(0, 255, 255, 1)\"><b>s</b></span> <span style=\"background-color:rgba(0, 255, 255, 1)\"><b>basic</b></span> <span><b>subscription</b></span> <span><b>price</b></span> <span><b>remains</b></span> <span><b>the</b></span> <span style=\"background-color:rgba(0, 255, 255, 1)\"><b>same</b></span> <span><b>-</b></span> <span><b>-</b></span> <span><b>us</b></span> <span><b>per</b></span> <span><b>year</b></span> <span><b>.</b></span> "
      ],
      "text/plain": [
       "<IPython.core.display.HTML object>"
      ]
     },
     "metadata": {},
     "output_type": "display_data"
    },
    {
     "name": "stdout",
     "output_type": "stream",
     "text": [
      "\n",
      "\n",
      "\n",
      "\n",
      "LocalExplanationId: 11, FeatureId: 11\n",
      "feature type:  POS\n",
      "feature description:  Combination of Adjectives and Interjections\n",
      "feature (position,token):  {'10': 'maccentral', '13': 'maccentral', '35': 'basic', '55': 's', '85': 's', '86': 'basic', '91': 'same'}\n",
      "Perturbed Text:   . mac bumps up storage capacity, improves mail ( ). - apple has improved the services offered to subscribers of. mac. previously, the amount of storage for a. mac account was 100mb, with a maximum of 15mb for e - mail. the service ' base online storage has been increased to 250mb, e - mail service has been enhanced, and the cost of upgrading has been reduced.. mac ' subscription price remains the - - us per year.\n",
      "perturbed probabilities:  [2.920807310147211e-05, 3.0988917387730908e-06, 0.00021043575543444604, 0.9997572302818298]\n",
      "nPIR Original Class:  -0.0\n"
     ]
    },
    {
     "data": {
      "text/html": [
       "<span><b>.</b></span> <span><b>mac</b></span> <span><b>bumps</b></span> <span><b>up</b></span> <span><b>storage</b></span> <span><b>capacity</b></span> <span><b>,</b></span> <span><b>improves</b></span> <span><b>mail</b></span> <span><b>(</b></span> <span style=\"background-color:rgba(0, 255, 255, 1)\"><b>maccentral</b></span> <span><b>)</b></span> <span><b>.</b></span> <span style=\"background-color:rgba(0, 255, 255, 1)\"><b>maccentral</b></span> <span><b>-</b></span> <span><b>apple</b></span> <span><b>has</b></span> <span><b>improved</b></span> <span><b>the</b></span> <span><b>services</b></span> <span><b>offered</b></span> <span><b>to</b></span> <span><b>subscribers</b></span> <span><b>of</b></span> <span><b>.</b></span> <span><b>mac</b></span> <span><b>.</b></span> <span><b>previously</b></span> <span><b>,</b></span> <span><b>the</b></span> <span><b>amount</b></span> <span><b>of</b></span> <span><b>storage</b></span> <span><b>for</b></span> <span><b>a</b></span> <span style=\"background-color:rgba(0, 255, 255, 1)\"><b>basic</b></span> <span><b>.</b></span> <span><b>mac</b></span> <span><b>account</b></span> <span><b>was</b></span> <span><b>100mb</b></span> <span><b>,</b></span> <span><b>with</b></span> <span><b>a</b></span> <span><b>maximum</b></span> <span><b>of</b></span> <span><b>15mb</b></span> <span><b>for</b></span> <span><b>e</b></span> <span><b>-</b></span> <span><b>mail</b></span> <span><b>.</b></span> <span><b>the</b></span> <span><b>service</b></span> <span><b>'</b></span> <span style=\"background-color:rgba(0, 255, 255, 1)\"><b>s</b></span> <span><b>base</b></span> <span><b>online</b></span> <span><b>storage</b></span> <span><b>has</b></span> <span><b>been</b></span> <span><b>increased</b></span> <span><b>to</b></span> <span><b>250mb</b></span> <span><b>,</b></span> <span><b>e</b></span> <span><b>-</b></span> <span><b>mail</b></span> <span><b>service</b></span> <span><b>has</b></span> <span><b>been</b></span> <span><b>enhanced</b></span> <span><b>,</b></span> <span><b>and</b></span> <span><b>the</b></span> <span><b>cost</b></span> <span><b>of</b></span> <span><b>upgrading</b></span> <span><b>has</b></span> <span><b>been</b></span> <span><b>reduced</b></span> <span><b>.</b></span> <span><b>.</b></span> <span><b>mac</b></span> <span><b>'</b></span> <span style=\"background-color:rgba(0, 255, 255, 1)\"><b>s</b></span> <span style=\"background-color:rgba(0, 255, 255, 1)\"><b>basic</b></span> <span><b>subscription</b></span> <span><b>price</b></span> <span><b>remains</b></span> <span><b>the</b></span> <span style=\"background-color:rgba(0, 255, 255, 1)\"><b>same</b></span> <span><b>-</b></span> <span><b>-</b></span> <span><b>us</b></span> <span><b>per</b></span> <span><b>year</b></span> <span><b>.</b></span> "
      ],
      "text/plain": [
       "<IPython.core.display.HTML object>"
      ]
     },
     "metadata": {},
     "output_type": "display_data"
    },
    {
     "name": "stdout",
     "output_type": "stream",
     "text": [
      "\n",
      "\n",
      "\n",
      "\n",
      "LocalExplanationId: 9, FeatureId: 9\n",
      "feature type:  POS\n",
      "feature description:  Combination of Adjectives and Adverbs, Modals\n",
      "feature (position,token):  {'10': 'maccentral', '13': 'maccentral', '35': 'basic', '55': 's', '85': 's', '86': 'basic', '91': 'same', '27': 'previously'}\n",
      "Perturbed Text:   . mac bumps up storage capacity, improves mail ( ). - apple has improved the services offered to subscribers of. mac., the amount of storage for a. mac account was 100mb, with a maximum of 15mb for e - mail. the service ' base online storage has been increased to 250mb, e - mail service has been enhanced, and the cost of upgrading has been reduced.. mac ' subscription price remains the - - us per year.\n",
      "perturbed probabilities:  [3.501841638353653e-05, 3.431309551160666e-06, 0.0001956576743395999, 0.999765932559967]\n",
      "nPIR Original Class:  -0.0\n"
     ]
    },
    {
     "data": {
      "text/html": [
       "<span><b>.</b></span> <span><b>mac</b></span> <span><b>bumps</b></span> <span><b>up</b></span> <span><b>storage</b></span> <span><b>capacity</b></span> <span><b>,</b></span> <span><b>improves</b></span> <span><b>mail</b></span> <span><b>(</b></span> <span style=\"background-color:rgba(0, 255, 255, 1)\"><b>maccentral</b></span> <span><b>)</b></span> <span><b>.</b></span> <span style=\"background-color:rgba(0, 255, 255, 1)\"><b>maccentral</b></span> <span><b>-</b></span> <span><b>apple</b></span> <span><b>has</b></span> <span><b>improved</b></span> <span><b>the</b></span> <span><b>services</b></span> <span><b>offered</b></span> <span><b>to</b></span> <span><b>subscribers</b></span> <span><b>of</b></span> <span><b>.</b></span> <span><b>mac</b></span> <span><b>.</b></span> <span style=\"background-color:rgba(0, 255, 255, 1)\"><b>previously</b></span> <span><b>,</b></span> <span><b>the</b></span> <span><b>amount</b></span> <span><b>of</b></span> <span><b>storage</b></span> <span><b>for</b></span> <span><b>a</b></span> <span style=\"background-color:rgba(0, 255, 255, 1)\"><b>basic</b></span> <span><b>.</b></span> <span><b>mac</b></span> <span><b>account</b></span> <span><b>was</b></span> <span><b>100mb</b></span> <span><b>,</b></span> <span><b>with</b></span> <span><b>a</b></span> <span><b>maximum</b></span> <span><b>of</b></span> <span><b>15mb</b></span> <span><b>for</b></span> <span><b>e</b></span> <span><b>-</b></span> <span><b>mail</b></span> <span><b>.</b></span> <span><b>the</b></span> <span><b>service</b></span> <span><b>'</b></span> <span style=\"background-color:rgba(0, 255, 255, 1)\"><b>s</b></span> <span><b>base</b></span> <span><b>online</b></span> <span><b>storage</b></span> <span><b>has</b></span> <span><b>been</b></span> <span><b>increased</b></span> <span><b>to</b></span> <span><b>250mb</b></span> <span><b>,</b></span> <span><b>e</b></span> <span><b>-</b></span> <span><b>mail</b></span> <span><b>service</b></span> <span><b>has</b></span> <span><b>been</b></span> <span><b>enhanced</b></span> <span><b>,</b></span> <span><b>and</b></span> <span><b>the</b></span> <span><b>cost</b></span> <span><b>of</b></span> <span><b>upgrading</b></span> <span><b>has</b></span> <span><b>been</b></span> <span><b>reduced</b></span> <span><b>.</b></span> <span><b>.</b></span> <span><b>mac</b></span> <span><b>'</b></span> <span style=\"background-color:rgba(0, 255, 255, 1)\"><b>s</b></span> <span style=\"background-color:rgba(0, 255, 255, 1)\"><b>basic</b></span> <span><b>subscription</b></span> <span><b>price</b></span> <span><b>remains</b></span> <span><b>the</b></span> <span style=\"background-color:rgba(0, 255, 255, 1)\"><b>same</b></span> <span><b>-</b></span> <span><b>-</b></span> <span><b>us</b></span> <span><b>per</b></span> <span><b>year</b></span> <span><b>.</b></span> "
      ],
      "text/plain": [
       "<IPython.core.display.HTML object>"
      ]
     },
     "metadata": {},
     "output_type": "display_data"
    },
    {
     "name": "stdout",
     "output_type": "stream",
     "text": [
      "\n",
      "\n",
      "\n",
      "\n",
      "LocalExplanationId: 13, FeatureId: 13\n",
      "feature type:  POS\n",
      "feature description:  Combination of Nouns and Verbs\n",
      "feature (position,token):  {'1': 'mac', '4': 'storage', '5': 'capacity', '8': 'mail', '15': 'apple', '19': 'services', '22': 'subscribers', '25': 'mac', '30': 'amount', '32': 'storage', '37': 'mac', '38': 'account', '44': 'maximum', '48': 'e', '50': 'mail', '53': 'service', '56': 'base', '57': 'online', '58': 'storage', '67': 'mail', '68': 'service', '75': 'cost', '77': 'upgrading', '83': 'mac', '87': 'subscription', '88': 'price', '96': 'year', '2': 'bumps', '3': 'up', '7': 'improves', '16': 'has', '17': 'improved', '20': 'offered', '39': 'was', '59': 'has', '60': 'been', '61': 'increased', '69': 'has', '70': 'been', '71': 'enhanced', '78': 'has', '79': 'been', '80': 'reduced', '89': 'remains'}\n",
      "Perturbed Text:   ., ( maccentral ). maccentral - the to of.. previously, the of for a basic. 100mb, with a of 15mb for -. the ' s to 250mb, e -, and the of.. ' s basic the same - - us per.\n",
      "perturbed probabilities:  [3.420717621338554e-05, 7.543520496255951e-06, 0.00014029354497324675, 0.9998180270195007]\n",
      "nPIR Original Class:  -0.001\n"
     ]
    },
    {
     "data": {
      "text/html": [
       "<span><b>.</b></span> <span style=\"background-color:rgba(0, 255, 255, 1)\"><b>mac</b></span> <span style=\"background-color:rgba(0, 255, 255, 1)\"><b>bumps</b></span> <span style=\"background-color:rgba(0, 255, 255, 1)\"><b>up</b></span> <span style=\"background-color:rgba(0, 255, 255, 1)\"><b>storage</b></span> <span style=\"background-color:rgba(0, 255, 255, 1)\"><b>capacity</b></span> <span><b>,</b></span> <span style=\"background-color:rgba(0, 255, 255, 1)\"><b>improves</b></span> <span style=\"background-color:rgba(0, 255, 255, 1)\"><b>mail</b></span> <span><b>(</b></span> <span><b>maccentral</b></span> <span><b>)</b></span> <span><b>.</b></span> <span><b>maccentral</b></span> <span><b>-</b></span> <span style=\"background-color:rgba(0, 255, 255, 1)\"><b>apple</b></span> <span style=\"background-color:rgba(0, 255, 255, 1)\"><b>has</b></span> <span style=\"background-color:rgba(0, 255, 255, 1)\"><b>improved</b></span> <span><b>the</b></span> <span style=\"background-color:rgba(0, 255, 255, 1)\"><b>services</b></span> <span style=\"background-color:rgba(0, 255, 255, 1)\"><b>offered</b></span> <span><b>to</b></span> <span style=\"background-color:rgba(0, 255, 255, 1)\"><b>subscribers</b></span> <span><b>of</b></span> <span><b>.</b></span> <span style=\"background-color:rgba(0, 255, 255, 1)\"><b>mac</b></span> <span><b>.</b></span> <span><b>previously</b></span> <span><b>,</b></span> <span><b>the</b></span> <span style=\"background-color:rgba(0, 255, 255, 1)\"><b>amount</b></span> <span><b>of</b></span> <span style=\"background-color:rgba(0, 255, 255, 1)\"><b>storage</b></span> <span><b>for</b></span> <span><b>a</b></span> <span><b>basic</b></span> <span><b>.</b></span> <span style=\"background-color:rgba(0, 255, 255, 1)\"><b>mac</b></span> <span style=\"background-color:rgba(0, 255, 255, 1)\"><b>account</b></span> <span style=\"background-color:rgba(0, 255, 255, 1)\"><b>was</b></span> <span><b>100mb</b></span> <span><b>,</b></span> <span><b>with</b></span> <span><b>a</b></span> <span style=\"background-color:rgba(0, 255, 255, 1)\"><b>maximum</b></span> <span><b>of</b></span> <span><b>15mb</b></span> <span><b>for</b></span> <span style=\"background-color:rgba(0, 255, 255, 1)\"><b>e</b></span> <span><b>-</b></span> <span style=\"background-color:rgba(0, 255, 255, 1)\"><b>mail</b></span> <span><b>.</b></span> <span><b>the</b></span> <span style=\"background-color:rgba(0, 255, 255, 1)\"><b>service</b></span> <span><b>'</b></span> <span><b>s</b></span> <span style=\"background-color:rgba(0, 255, 255, 1)\"><b>base</b></span> <span style=\"background-color:rgba(0, 255, 255, 1)\"><b>online</b></span> <span style=\"background-color:rgba(0, 255, 255, 1)\"><b>storage</b></span> <span style=\"background-color:rgba(0, 255, 255, 1)\"><b>has</b></span> <span style=\"background-color:rgba(0, 255, 255, 1)\"><b>been</b></span> <span style=\"background-color:rgba(0, 255, 255, 1)\"><b>increased</b></span> <span><b>to</b></span> <span><b>250mb</b></span> <span><b>,</b></span> <span><b>e</b></span> <span><b>-</b></span> <span style=\"background-color:rgba(0, 255, 255, 1)\"><b>mail</b></span> <span style=\"background-color:rgba(0, 255, 255, 1)\"><b>service</b></span> <span style=\"background-color:rgba(0, 255, 255, 1)\"><b>has</b></span> <span style=\"background-color:rgba(0, 255, 255, 1)\"><b>been</b></span> <span style=\"background-color:rgba(0, 255, 255, 1)\"><b>enhanced</b></span> <span><b>,</b></span> <span><b>and</b></span> <span><b>the</b></span> <span style=\"background-color:rgba(0, 255, 255, 1)\"><b>cost</b></span> <span><b>of</b></span> <span style=\"background-color:rgba(0, 255, 255, 1)\"><b>upgrading</b></span> <span style=\"background-color:rgba(0, 255, 255, 1)\"><b>has</b></span> <span style=\"background-color:rgba(0, 255, 255, 1)\"><b>been</b></span> <span style=\"background-color:rgba(0, 255, 255, 1)\"><b>reduced</b></span> <span><b>.</b></span> <span><b>.</b></span> <span style=\"background-color:rgba(0, 255, 255, 1)\"><b>mac</b></span> <span><b>'</b></span> <span><b>s</b></span> <span><b>basic</b></span> <span style=\"background-color:rgba(0, 255, 255, 1)\"><b>subscription</b></span> <span style=\"background-color:rgba(0, 255, 255, 1)\"><b>price</b></span> <span style=\"background-color:rgba(0, 255, 255, 1)\"><b>remains</b></span> <span><b>the</b></span> <span><b>same</b></span> <span><b>-</b></span> <span><b>-</b></span> <span><b>us</b></span> <span><b>per</b></span> <span style=\"background-color:rgba(0, 255, 255, 1)\"><b>year</b></span> <span><b>.</b></span> "
      ],
      "text/plain": [
       "<IPython.core.display.HTML object>"
      ]
     },
     "metadata": {},
     "output_type": "display_data"
    },
    {
     "name": "stdout",
     "output_type": "stream",
     "text": [
      "\n",
      "\n",
      "\n",
      "\n"
     ]
    }
   ],
   "source": [
    "print(\"Original Probabilities: {}\".format(input_info[\"original_probabilities\"]))\n",
    "print(\"Original label: {}\".format(input_info[\"original_label\"]))\n",
    "print(\"\\n\\n\")\n",
    "min_nPIR_pos = -1\n",
    "max_nPIR_pos = 1\n",
    "\n",
    "for le in sorted(pos_local_explanations_comb, key=lambda le: le[\"nPIR_original_top_class\"], reverse=True ):\n",
    "    if le[\"nPIR_original_top_class\"] >= min_nPIR_pos and le[\"nPIR_original_top_class\"] <= max_nPIR_pos:\n",
    "        print_local_explanation(le, input_positions_tokens)"
   ]
  },
  {
   "cell_type": "code",
   "execution_count": 15,
   "metadata": {
    "scrolled": false
   },
   "outputs": [
    {
     "data": {
      "text/html": [
       "<h1>Sentences Features Summary</h1>"
      ],
      "text/plain": [
       "<IPython.core.display.HTML object>"
      ]
     },
     "metadata": {},
     "output_type": "display_data"
    },
    {
     "data": {
      "text/html": [
       "<b>Predicted Class: Sci/Tech </b>"
      ],
      "text/plain": [
       "<IPython.core.display.HTML object>"
      ]
     },
     "metadata": {},
     "output_type": "display_data"
    },
    {
     "data": {
      "text/html": [
       "<b>Original Probability: [0.00030222180066630244, 1.179747505375417e-05, 0.00014384924725163728, 0.9995421171188354] </b>"
      ],
      "text/plain": [
       "<IPython.core.display.HTML object>"
      ]
     },
     "metadata": {},
     "output_type": "display_data"
    },
    {
     "data": {
      "text/html": [
       "<span style=\"background-color:rgba(124, 252, 0, 0.0008)\"><b>.</b></span> <span style=\"background-color:rgba(124, 252, 0, 0.0008)\"><b>mac</b></span> <span style=\"background-color:rgba(124, 252, 0, 0.0008)\"><b>bumps</b></span> <span style=\"background-color:rgba(124, 252, 0, 0.0008)\"><b>up</b></span> <span style=\"background-color:rgba(124, 252, 0, 0.0008)\"><b>storage</b></span> <span style=\"background-color:rgba(124, 252, 0, 0.0008)\"><b>capacity</b></span> <span style=\"background-color:rgba(124, 252, 0, 0.0008)\"><b>,</b></span> <span style=\"background-color:rgba(124, 252, 0, 0.0008)\"><b>improves</b></span> <span style=\"background-color:rgba(124, 252, 0, 0.0008)\"><b>mail</b></span> <span style=\"background-color:rgba(124, 252, 0, 0.0008)\"><b>(</b></span> <span style=\"background-color:rgba(124, 252, 0, 0.0008)\"><b>maccentral</b></span> <span style=\"background-color:rgba(124, 252, 0, 0.0008)\"><b>)</b></span> <span style=\"background-color:rgba(124, 252, 0, 0.0008)\"><b>.</b></span> <span style=\"background-color:rgba(124, 252, 0, 0.0004)\"><b>maccentral</b></span> <span style=\"background-color:rgba(124, 252, 0, 0.0004)\"><b>-</b></span> <span style=\"background-color:rgba(124, 252, 0, 0.0004)\"><b>apple</b></span> <span style=\"background-color:rgba(124, 252, 0, 0.0004)\"><b>has</b></span> <span style=\"background-color:rgba(124, 252, 0, 0.0004)\"><b>improved</b></span> <span style=\"background-color:rgba(124, 252, 0, 0.0004)\"><b>the</b></span> <span style=\"background-color:rgba(124, 252, 0, 0.0004)\"><b>services</b></span> <span style=\"background-color:rgba(124, 252, 0, 0.0004)\"><b>offered</b></span> <span style=\"background-color:rgba(124, 252, 0, 0.0004)\"><b>to</b></span> <span style=\"background-color:rgba(124, 252, 0, 0.0004)\"><b>subscribers</b></span> <span style=\"background-color:rgba(124, 252, 0, 0.0004)\"><b>of</b></span> <span style=\"background-color:rgba(124, 252, 0, 0.0004)\"><b>.</b></span> <span style=\"background-color:rgba(124, 252, 0, 0.0004)\"><b>mac</b></span> <span style=\"background-color:rgba(124, 252, 0, 0.0004)\"><b>.</b></span> <span style=\"background-color:rgba(124, 252, 0, 0.0003)\"><b>previously</b></span> <span style=\"background-color:rgba(124, 252, 0, 0.0003)\"><b>,</b></span> <span style=\"background-color:rgba(124, 252, 0, 0.0003)\"><b>the</b></span> <span style=\"background-color:rgba(124, 252, 0, 0.0003)\"><b>amount</b></span> <span style=\"background-color:rgba(124, 252, 0, 0.0003)\"><b>of</b></span> <span style=\"background-color:rgba(124, 252, 0, 0.0003)\"><b>storage</b></span> <span style=\"background-color:rgba(124, 252, 0, 0.0003)\"><b>for</b></span> <span style=\"background-color:rgba(124, 252, 0, 0.0003)\"><b>a</b></span> <span style=\"background-color:rgba(124, 252, 0, 0.0003)\"><b>basic</b></span> <span style=\"background-color:rgba(124, 252, 0, 0.0003)\"><b>.</b></span> <span style=\"background-color:rgba(124, 252, 0, 0.0003)\"><b>mac</b></span> <span style=\"background-color:rgba(124, 252, 0, 0.0003)\"><b>account</b></span> <span style=\"background-color:rgba(124, 252, 0, 0.0003)\"><b>was</b></span> <span style=\"background-color:rgba(124, 252, 0, 0.0003)\"><b>100mb</b></span> <span style=\"background-color:rgba(124, 252, 0, 0.0003)\"><b>,</b></span> <span style=\"background-color:rgba(124, 252, 0, 0.0003)\"><b>with</b></span> <span style=\"background-color:rgba(124, 252, 0, 0.0003)\"><b>a</b></span> <span style=\"background-color:rgba(124, 252, 0, 0.0003)\"><b>maximum</b></span> <span style=\"background-color:rgba(124, 252, 0, 0.0003)\"><b>of</b></span> <span style=\"background-color:rgba(124, 252, 0, 0.0003)\"><b>15mb</b></span> <span style=\"background-color:rgba(124, 252, 0, 0.0003)\"><b>for</b></span> <span style=\"background-color:rgba(124, 252, 0, 0.0003)\"><b>e</b></span> <span style=\"background-color:rgba(124, 252, 0, 0.0003)\"><b>-</b></span> <span style=\"background-color:rgba(124, 252, 0, 0.0003)\"><b>mail</b></span> <span style=\"background-color:rgba(124, 252, 0, 0.0003)\"><b>.</b></span> <span style=\"background-color:rgba(255, 99, 71, -0.0002)\"><b>the</b></span> <span style=\"background-color:rgba(255, 99, 71, -0.0002)\"><b>service</b></span> <span style=\"background-color:rgba(255, 99, 71, -0.0002)\"><b>'</b></span> <span style=\"background-color:rgba(255, 99, 71, -0.0002)\"><b>s</b></span> <span style=\"background-color:rgba(255, 99, 71, -0.0002)\"><b>base</b></span> <span style=\"background-color:rgba(255, 99, 71, -0.0002)\"><b>online</b></span> <span style=\"background-color:rgba(255, 99, 71, -0.0002)\"><b>storage</b></span> <span style=\"background-color:rgba(255, 99, 71, -0.0002)\"><b>has</b></span> <span style=\"background-color:rgba(255, 99, 71, -0.0002)\"><b>been</b></span> <span style=\"background-color:rgba(255, 99, 71, -0.0002)\"><b>increased</b></span> <span style=\"background-color:rgba(255, 99, 71, -0.0002)\"><b>to</b></span> <span style=\"background-color:rgba(255, 99, 71, -0.0002)\"><b>250mb</b></span> <span style=\"background-color:rgba(255, 99, 71, -0.0002)\"><b>,</b></span> <span style=\"background-color:rgba(255, 99, 71, -0.0002)\"><b>e</b></span> <span style=\"background-color:rgba(255, 99, 71, -0.0002)\"><b>-</b></span> <span style=\"background-color:rgba(255, 99, 71, -0.0002)\"><b>mail</b></span> <span style=\"background-color:rgba(255, 99, 71, -0.0002)\"><b>service</b></span> <span style=\"background-color:rgba(255, 99, 71, -0.0002)\"><b>has</b></span> <span style=\"background-color:rgba(255, 99, 71, -0.0002)\"><b>been</b></span> <span style=\"background-color:rgba(255, 99, 71, -0.0002)\"><b>enhanced</b></span> <span style=\"background-color:rgba(255, 99, 71, -0.0002)\"><b>,</b></span> <span style=\"background-color:rgba(255, 99, 71, -0.0002)\"><b>and</b></span> <span style=\"background-color:rgba(255, 99, 71, -0.0002)\"><b>the</b></span> <span style=\"background-color:rgba(255, 99, 71, -0.0002)\"><b>cost</b></span> <span style=\"background-color:rgba(255, 99, 71, -0.0002)\"><b>of</b></span> <span style=\"background-color:rgba(255, 99, 71, -0.0002)\"><b>upgrading</b></span> <span style=\"background-color:rgba(255, 99, 71, -0.0002)\"><b>has</b></span> <span style=\"background-color:rgba(255, 99, 71, -0.0002)\"><b>been</b></span> <span style=\"background-color:rgba(255, 99, 71, -0.0002)\"><b>reduced</b></span> <span style=\"background-color:rgba(255, 99, 71, -0.0002)\"><b>.</b></span> <span style=\"background-color:rgba(124, 252, 0, 0.0004)\"><b>.</b></span> <span style=\"background-color:rgba(124, 252, 0, 0.0004)\"><b>mac</b></span> <span style=\"background-color:rgba(124, 252, 0, 0.0004)\"><b>'</b></span> <span style=\"background-color:rgba(124, 252, 0, 0.0004)\"><b>s</b></span> <span style=\"background-color:rgba(124, 252, 0, 0.0004)\"><b>basic</b></span> <span style=\"background-color:rgba(124, 252, 0, 0.0004)\"><b>subscription</b></span> <span style=\"background-color:rgba(124, 252, 0, 0.0004)\"><b>price</b></span> <span style=\"background-color:rgba(124, 252, 0, 0.0004)\"><b>remains</b></span> <span style=\"background-color:rgba(124, 252, 0, 0.0004)\"><b>the</b></span> <span style=\"background-color:rgba(124, 252, 0, 0.0004)\"><b>same</b></span> <span style=\"background-color:rgba(124, 252, 0, 0.0004)\"><b>-</b></span> <span style=\"background-color:rgba(124, 252, 0, 0.0004)\"><b>-</b></span> <span style=\"background-color:rgba(124, 252, 0, 0.0004)\"><b>us</b></span> <span style=\"background-color:rgba(124, 252, 0, 0.0004)\"><b>per</b></span> <span style=\"background-color:rgba(124, 252, 0, 0.0004)\"><b>year</b></span> <span style=\"background-color:rgba(124, 252, 0, 0.0004)\"><b>.</b></span> "
      ],
      "text/plain": [
       "<IPython.core.display.HTML object>"
      ]
     },
     "metadata": {},
     "output_type": "display_data"
    },
    {
     "data": {
      "text/html": [
       "(Features are highlighted in green if are positively influential for the predicted class, red otherwise. The intensity of the color is proportional to the nPIR score obtained by the word.) "
      ],
      "text/plain": [
       "<IPython.core.display.HTML object>"
      ]
     },
     "metadata": {},
     "output_type": "display_data"
    }
   ],
   "source": [
    "display(HTML('<h1>Sentences Features Summary</h1>'))\n",
    "display(HTML('<b>Predicted Class: {} </b>'.format(label_name(input_info[\"original_label\"]))))\n",
    "display(HTML('<b>Original Probability: {} </b>'.format(input_info[\"original_probabilities\"])))\n",
    "\n",
    "html_sen_string = get_summary_string(sen_positions_tokens_score)\n",
    "        \n",
    "display(HTML(html_sen_string))\n",
    "\n",
    "display(HTML('(Features are highlighted in green if are positively influential for the predicted class, red otherwise. The intensity of the color is proportional to the nPIR score obtained by the word.) '))  \n"
   ]
  },
  {
   "cell_type": "markdown",
   "metadata": {},
   "source": [
    "# SEN Most influential feature"
   ]
  },
  {
   "cell_type": "code",
   "execution_count": 16,
   "metadata": {},
   "outputs": [
    {
     "name": "stdout",
     "output_type": "stream",
     "text": [
      "LocalExplanationId: 34, FeatureId: 6\n",
      "feature type:  SEN\n",
      "feature description:  Combination of 1° Sentence and 3° Sentence\n",
      "feature (position,token):  {'0': '.', '1': 'mac', '2': 'bumps', '3': 'up', '4': 'storage', '5': 'capacity', '6': ',', '7': 'improves', '8': 'mail', '9': '(', '10': 'maccentral', '11': ')', '12': '.', '27': 'previously', '28': ',', '29': 'the', '30': 'amount', '31': 'of', '32': 'storage', '33': 'for', '34': 'a', '35': 'basic', '36': '.', '37': 'mac', '38': 'account', '39': 'was', '40': '100mb', '41': ',', '42': 'with', '43': 'a', '44': 'maximum', '45': 'of', '46': '15mb', '47': 'for', '48': 'e', '49': '-', '50': 'mail', '51': '.'}\n",
      "Perturbed Text:   maccentral - apple has improved the services offered to subscribers of. mac. the service ' s base online storage has been increased to 250mb, e - mail service has been enhanced, and the cost of upgrading has been reduced.. mac ' s basic subscription price remains the same - - us per year.\n",
      "perturbed probabilities:  [0.00010646835289662704, 6.07394667895278e-06, 0.0009546615183353424, 0.9989327788352966]\n",
      "nPIR Original Class:  0.001\n"
     ]
    },
    {
     "data": {
      "text/html": [
       "<span style=\"background-color:rgba(0, 255, 255, 1)\"><b>.</b></span> <span style=\"background-color:rgba(0, 255, 255, 1)\"><b>mac</b></span> <span style=\"background-color:rgba(0, 255, 255, 1)\"><b>bumps</b></span> <span style=\"background-color:rgba(0, 255, 255, 1)\"><b>up</b></span> <span style=\"background-color:rgba(0, 255, 255, 1)\"><b>storage</b></span> <span style=\"background-color:rgba(0, 255, 255, 1)\"><b>capacity</b></span> <span style=\"background-color:rgba(0, 255, 255, 1)\"><b>,</b></span> <span style=\"background-color:rgba(0, 255, 255, 1)\"><b>improves</b></span> <span style=\"background-color:rgba(0, 255, 255, 1)\"><b>mail</b></span> <span style=\"background-color:rgba(0, 255, 255, 1)\"><b>(</b></span> <span style=\"background-color:rgba(0, 255, 255, 1)\"><b>maccentral</b></span> <span style=\"background-color:rgba(0, 255, 255, 1)\"><b>)</b></span> <span style=\"background-color:rgba(0, 255, 255, 1)\"><b>.</b></span> <span><b>maccentral</b></span> <span><b>-</b></span> <span><b>apple</b></span> <span><b>has</b></span> <span><b>improved</b></span> <span><b>the</b></span> <span><b>services</b></span> <span><b>offered</b></span> <span><b>to</b></span> <span><b>subscribers</b></span> <span><b>of</b></span> <span><b>.</b></span> <span><b>mac</b></span> <span><b>.</b></span> <span style=\"background-color:rgba(0, 255, 255, 1)\"><b>previously</b></span> <span style=\"background-color:rgba(0, 255, 255, 1)\"><b>,</b></span> <span style=\"background-color:rgba(0, 255, 255, 1)\"><b>the</b></span> <span style=\"background-color:rgba(0, 255, 255, 1)\"><b>amount</b></span> <span style=\"background-color:rgba(0, 255, 255, 1)\"><b>of</b></span> <span style=\"background-color:rgba(0, 255, 255, 1)\"><b>storage</b></span> <span style=\"background-color:rgba(0, 255, 255, 1)\"><b>for</b></span> <span style=\"background-color:rgba(0, 255, 255, 1)\"><b>a</b></span> <span style=\"background-color:rgba(0, 255, 255, 1)\"><b>basic</b></span> <span style=\"background-color:rgba(0, 255, 255, 1)\"><b>.</b></span> <span style=\"background-color:rgba(0, 255, 255, 1)\"><b>mac</b></span> <span style=\"background-color:rgba(0, 255, 255, 1)\"><b>account</b></span> <span style=\"background-color:rgba(0, 255, 255, 1)\"><b>was</b></span> <span style=\"background-color:rgba(0, 255, 255, 1)\"><b>100mb</b></span> <span style=\"background-color:rgba(0, 255, 255, 1)\"><b>,</b></span> <span style=\"background-color:rgba(0, 255, 255, 1)\"><b>with</b></span> <span style=\"background-color:rgba(0, 255, 255, 1)\"><b>a</b></span> <span style=\"background-color:rgba(0, 255, 255, 1)\"><b>maximum</b></span> <span style=\"background-color:rgba(0, 255, 255, 1)\"><b>of</b></span> <span style=\"background-color:rgba(0, 255, 255, 1)\"><b>15mb</b></span> <span style=\"background-color:rgba(0, 255, 255, 1)\"><b>for</b></span> <span style=\"background-color:rgba(0, 255, 255, 1)\"><b>e</b></span> <span style=\"background-color:rgba(0, 255, 255, 1)\"><b>-</b></span> <span style=\"background-color:rgba(0, 255, 255, 1)\"><b>mail</b></span> <span style=\"background-color:rgba(0, 255, 255, 1)\"><b>.</b></span> <span><b>the</b></span> <span><b>service</b></span> <span><b>'</b></span> <span><b>s</b></span> <span><b>base</b></span> <span><b>online</b></span> <span><b>storage</b></span> <span><b>has</b></span> <span><b>been</b></span> <span><b>increased</b></span> <span><b>to</b></span> <span><b>250mb</b></span> <span><b>,</b></span> <span><b>e</b></span> <span><b>-</b></span> <span><b>mail</b></span> <span><b>service</b></span> <span><b>has</b></span> <span><b>been</b></span> <span><b>enhanced</b></span> <span><b>,</b></span> <span><b>and</b></span> <span><b>the</b></span> <span><b>cost</b></span> <span><b>of</b></span> <span><b>upgrading</b></span> <span><b>has</b></span> <span><b>been</b></span> <span><b>reduced</b></span> <span><b>.</b></span> <span><b>.</b></span> <span><b>mac</b></span> <span><b>'</b></span> <span><b>s</b></span> <span><b>basic</b></span> <span><b>subscription</b></span> <span><b>price</b></span> <span><b>remains</b></span> <span><b>the</b></span> <span><b>same</b></span> <span><b>-</b></span> <span><b>-</b></span> <span><b>us</b></span> <span><b>per</b></span> <span><b>year</b></span> <span><b>.</b></span> "
      ],
      "text/plain": [
       "<IPython.core.display.HTML object>"
      ]
     },
     "metadata": {},
     "output_type": "display_data"
    },
    {
     "name": "stdout",
     "output_type": "stream",
     "text": [
      "\n",
      "\n",
      "\n",
      "\n"
     ]
    }
   ],
   "source": [
    "most_influnetial_sen_feature =max(sen_local_explanations_comb, key= lambda le: le[\"nPIR_original_top_class\"])\n",
    "print_local_explanation(most_influnetial_sen_feature,input_positions_tokens)"
   ]
  },
  {
   "cell_type": "markdown",
   "metadata": {},
   "source": [
    "<h1> Query Sentences Features</h1>"
   ]
  },
  {
   "cell_type": "code",
   "execution_count": 17,
   "metadata": {
    "scrolled": false
   },
   "outputs": [
    {
     "name": "stdout",
     "output_type": "stream",
     "text": [
      "Original Probabilities: [0.00030222180066630244, 1.179747505375417e-05, 0.00014384924725163728, 0.9995421171188354]\n",
      "Original label: 3\n",
      "\n",
      "\n",
      "\n",
      "LocalExplanationId: 34, FeatureId: 6\n",
      "feature type:  SEN\n",
      "feature description:  Combination of 1° Sentence and 3° Sentence\n",
      "feature (position,token):  {'0': '.', '1': 'mac', '2': 'bumps', '3': 'up', '4': 'storage', '5': 'capacity', '6': ',', '7': 'improves', '8': 'mail', '9': '(', '10': 'maccentral', '11': ')', '12': '.', '27': 'previously', '28': ',', '29': 'the', '30': 'amount', '31': 'of', '32': 'storage', '33': 'for', '34': 'a', '35': 'basic', '36': '.', '37': 'mac', '38': 'account', '39': 'was', '40': '100mb', '41': ',', '42': 'with', '43': 'a', '44': 'maximum', '45': 'of', '46': '15mb', '47': 'for', '48': 'e', '49': '-', '50': 'mail', '51': '.'}\n",
      "Perturbed Text:   maccentral - apple has improved the services offered to subscribers of. mac. the service ' s base online storage has been increased to 250mb, e - mail service has been enhanced, and the cost of upgrading has been reduced.. mac ' s basic subscription price remains the same - - us per year.\n",
      "perturbed probabilities:  [0.00010646835289662704, 6.07394667895278e-06, 0.0009546615183353424, 0.9989327788352966]\n",
      "nPIR Original Class:  0.001\n"
     ]
    },
    {
     "data": {
      "text/html": [
       "<span style=\"background-color:rgba(0, 255, 255, 1)\"><b>.</b></span> <span style=\"background-color:rgba(0, 255, 255, 1)\"><b>mac</b></span> <span style=\"background-color:rgba(0, 255, 255, 1)\"><b>bumps</b></span> <span style=\"background-color:rgba(0, 255, 255, 1)\"><b>up</b></span> <span style=\"background-color:rgba(0, 255, 255, 1)\"><b>storage</b></span> <span style=\"background-color:rgba(0, 255, 255, 1)\"><b>capacity</b></span> <span style=\"background-color:rgba(0, 255, 255, 1)\"><b>,</b></span> <span style=\"background-color:rgba(0, 255, 255, 1)\"><b>improves</b></span> <span style=\"background-color:rgba(0, 255, 255, 1)\"><b>mail</b></span> <span style=\"background-color:rgba(0, 255, 255, 1)\"><b>(</b></span> <span style=\"background-color:rgba(0, 255, 255, 1)\"><b>maccentral</b></span> <span style=\"background-color:rgba(0, 255, 255, 1)\"><b>)</b></span> <span style=\"background-color:rgba(0, 255, 255, 1)\"><b>.</b></span> <span><b>maccentral</b></span> <span><b>-</b></span> <span><b>apple</b></span> <span><b>has</b></span> <span><b>improved</b></span> <span><b>the</b></span> <span><b>services</b></span> <span><b>offered</b></span> <span><b>to</b></span> <span><b>subscribers</b></span> <span><b>of</b></span> <span><b>.</b></span> <span><b>mac</b></span> <span><b>.</b></span> <span style=\"background-color:rgba(0, 255, 255, 1)\"><b>previously</b></span> <span style=\"background-color:rgba(0, 255, 255, 1)\"><b>,</b></span> <span style=\"background-color:rgba(0, 255, 255, 1)\"><b>the</b></span> <span style=\"background-color:rgba(0, 255, 255, 1)\"><b>amount</b></span> <span style=\"background-color:rgba(0, 255, 255, 1)\"><b>of</b></span> <span style=\"background-color:rgba(0, 255, 255, 1)\"><b>storage</b></span> <span style=\"background-color:rgba(0, 255, 255, 1)\"><b>for</b></span> <span style=\"background-color:rgba(0, 255, 255, 1)\"><b>a</b></span> <span style=\"background-color:rgba(0, 255, 255, 1)\"><b>basic</b></span> <span style=\"background-color:rgba(0, 255, 255, 1)\"><b>.</b></span> <span style=\"background-color:rgba(0, 255, 255, 1)\"><b>mac</b></span> <span style=\"background-color:rgba(0, 255, 255, 1)\"><b>account</b></span> <span style=\"background-color:rgba(0, 255, 255, 1)\"><b>was</b></span> <span style=\"background-color:rgba(0, 255, 255, 1)\"><b>100mb</b></span> <span style=\"background-color:rgba(0, 255, 255, 1)\"><b>,</b></span> <span style=\"background-color:rgba(0, 255, 255, 1)\"><b>with</b></span> <span style=\"background-color:rgba(0, 255, 255, 1)\"><b>a</b></span> <span style=\"background-color:rgba(0, 255, 255, 1)\"><b>maximum</b></span> <span style=\"background-color:rgba(0, 255, 255, 1)\"><b>of</b></span> <span style=\"background-color:rgba(0, 255, 255, 1)\"><b>15mb</b></span> <span style=\"background-color:rgba(0, 255, 255, 1)\"><b>for</b></span> <span style=\"background-color:rgba(0, 255, 255, 1)\"><b>e</b></span> <span style=\"background-color:rgba(0, 255, 255, 1)\"><b>-</b></span> <span style=\"background-color:rgba(0, 255, 255, 1)\"><b>mail</b></span> <span style=\"background-color:rgba(0, 255, 255, 1)\"><b>.</b></span> <span><b>the</b></span> <span><b>service</b></span> <span><b>'</b></span> <span><b>s</b></span> <span><b>base</b></span> <span><b>online</b></span> <span><b>storage</b></span> <span><b>has</b></span> <span><b>been</b></span> <span><b>increased</b></span> <span><b>to</b></span> <span><b>250mb</b></span> <span><b>,</b></span> <span><b>e</b></span> <span><b>-</b></span> <span><b>mail</b></span> <span><b>service</b></span> <span><b>has</b></span> <span><b>been</b></span> <span><b>enhanced</b></span> <span><b>,</b></span> <span><b>and</b></span> <span><b>the</b></span> <span><b>cost</b></span> <span><b>of</b></span> <span><b>upgrading</b></span> <span><b>has</b></span> <span><b>been</b></span> <span><b>reduced</b></span> <span><b>.</b></span> <span><b>.</b></span> <span><b>mac</b></span> <span><b>'</b></span> <span><b>s</b></span> <span><b>basic</b></span> <span><b>subscription</b></span> <span><b>price</b></span> <span><b>remains</b></span> <span><b>the</b></span> <span><b>same</b></span> <span><b>-</b></span> <span><b>-</b></span> <span><b>us</b></span> <span><b>per</b></span> <span><b>year</b></span> <span><b>.</b></span> "
      ],
      "text/plain": [
       "<IPython.core.display.HTML object>"
      ]
     },
     "metadata": {},
     "output_type": "display_data"
    },
    {
     "name": "stdout",
     "output_type": "stream",
     "text": [
      "\n",
      "\n",
      "\n",
      "\n",
      "LocalExplanationId: 37, FeatureId: 9\n",
      "feature type:  SEN\n",
      "feature description:  Combination of 2° Sentence and 3° Sentence\n",
      "feature (position,token):  {'13': 'maccentral', '14': '-', '15': 'apple', '16': 'has', '17': 'improved', '18': 'the', '19': 'services', '20': 'offered', '21': 'to', '22': 'subscribers', '23': 'of', '24': '.', '25': 'mac', '26': '.', '27': 'previously', '28': ',', '29': 'the', '30': 'amount', '31': 'of', '32': 'storage', '33': 'for', '34': 'a', '35': 'basic', '36': '.', '37': 'mac', '38': 'account', '39': 'was', '40': '100mb', '41': ',', '42': 'with', '43': 'a', '44': 'maximum', '45': 'of', '46': '15mb', '47': 'for', '48': 'e', '49': '-', '50': 'mail', '51': '.'}\n",
      "Perturbed Text:   . mac bumps up storage capacity, improves mail ( maccentral ). the service ' s base online storage has been increased to 250mb, e - mail service has been enhanced, and the cost of upgrading has been reduced.. mac ' s basic subscription price remains the same - - us per year.\n",
      "perturbed probabilities:  [0.0005979323177598417, 1.4309192010841798e-05, 0.00039506552275270224, 0.9989927411079407]\n",
      "nPIR Original Class:  0.001\n"
     ]
    },
    {
     "data": {
      "text/html": [
       "<span><b>.</b></span> <span><b>mac</b></span> <span><b>bumps</b></span> <span><b>up</b></span> <span><b>storage</b></span> <span><b>capacity</b></span> <span><b>,</b></span> <span><b>improves</b></span> <span><b>mail</b></span> <span><b>(</b></span> <span><b>maccentral</b></span> <span><b>)</b></span> <span><b>.</b></span> <span style=\"background-color:rgba(0, 255, 255, 1)\"><b>maccentral</b></span> <span style=\"background-color:rgba(0, 255, 255, 1)\"><b>-</b></span> <span style=\"background-color:rgba(0, 255, 255, 1)\"><b>apple</b></span> <span style=\"background-color:rgba(0, 255, 255, 1)\"><b>has</b></span> <span style=\"background-color:rgba(0, 255, 255, 1)\"><b>improved</b></span> <span style=\"background-color:rgba(0, 255, 255, 1)\"><b>the</b></span> <span style=\"background-color:rgba(0, 255, 255, 1)\"><b>services</b></span> <span style=\"background-color:rgba(0, 255, 255, 1)\"><b>offered</b></span> <span style=\"background-color:rgba(0, 255, 255, 1)\"><b>to</b></span> <span style=\"background-color:rgba(0, 255, 255, 1)\"><b>subscribers</b></span> <span style=\"background-color:rgba(0, 255, 255, 1)\"><b>of</b></span> <span style=\"background-color:rgba(0, 255, 255, 1)\"><b>.</b></span> <span style=\"background-color:rgba(0, 255, 255, 1)\"><b>mac</b></span> <span style=\"background-color:rgba(0, 255, 255, 1)\"><b>.</b></span> <span style=\"background-color:rgba(0, 255, 255, 1)\"><b>previously</b></span> <span style=\"background-color:rgba(0, 255, 255, 1)\"><b>,</b></span> <span style=\"background-color:rgba(0, 255, 255, 1)\"><b>the</b></span> <span style=\"background-color:rgba(0, 255, 255, 1)\"><b>amount</b></span> <span style=\"background-color:rgba(0, 255, 255, 1)\"><b>of</b></span> <span style=\"background-color:rgba(0, 255, 255, 1)\"><b>storage</b></span> <span style=\"background-color:rgba(0, 255, 255, 1)\"><b>for</b></span> <span style=\"background-color:rgba(0, 255, 255, 1)\"><b>a</b></span> <span style=\"background-color:rgba(0, 255, 255, 1)\"><b>basic</b></span> <span style=\"background-color:rgba(0, 255, 255, 1)\"><b>.</b></span> <span style=\"background-color:rgba(0, 255, 255, 1)\"><b>mac</b></span> <span style=\"background-color:rgba(0, 255, 255, 1)\"><b>account</b></span> <span style=\"background-color:rgba(0, 255, 255, 1)\"><b>was</b></span> <span style=\"background-color:rgba(0, 255, 255, 1)\"><b>100mb</b></span> <span style=\"background-color:rgba(0, 255, 255, 1)\"><b>,</b></span> <span style=\"background-color:rgba(0, 255, 255, 1)\"><b>with</b></span> <span style=\"background-color:rgba(0, 255, 255, 1)\"><b>a</b></span> <span style=\"background-color:rgba(0, 255, 255, 1)\"><b>maximum</b></span> <span style=\"background-color:rgba(0, 255, 255, 1)\"><b>of</b></span> <span style=\"background-color:rgba(0, 255, 255, 1)\"><b>15mb</b></span> <span style=\"background-color:rgba(0, 255, 255, 1)\"><b>for</b></span> <span style=\"background-color:rgba(0, 255, 255, 1)\"><b>e</b></span> <span style=\"background-color:rgba(0, 255, 255, 1)\"><b>-</b></span> <span style=\"background-color:rgba(0, 255, 255, 1)\"><b>mail</b></span> <span style=\"background-color:rgba(0, 255, 255, 1)\"><b>.</b></span> <span><b>the</b></span> <span><b>service</b></span> <span><b>'</b></span> <span><b>s</b></span> <span><b>base</b></span> <span><b>online</b></span> <span><b>storage</b></span> <span><b>has</b></span> <span><b>been</b></span> <span><b>increased</b></span> <span><b>to</b></span> <span><b>250mb</b></span> <span><b>,</b></span> <span><b>e</b></span> <span><b>-</b></span> <span><b>mail</b></span> <span><b>service</b></span> <span><b>has</b></span> <span><b>been</b></span> <span><b>enhanced</b></span> <span><b>,</b></span> <span><b>and</b></span> <span><b>the</b></span> <span><b>cost</b></span> <span><b>of</b></span> <span><b>upgrading</b></span> <span><b>has</b></span> <span><b>been</b></span> <span><b>reduced</b></span> <span><b>.</b></span> <span><b>.</b></span> <span><b>mac</b></span> <span><b>'</b></span> <span><b>s</b></span> <span><b>basic</b></span> <span><b>subscription</b></span> <span><b>price</b></span> <span><b>remains</b></span> <span><b>the</b></span> <span><b>same</b></span> <span><b>-</b></span> <span><b>-</b></span> <span><b>us</b></span> <span><b>per</b></span> <span><b>year</b></span> <span><b>.</b></span> "
      ],
      "text/plain": [
       "<IPython.core.display.HTML object>"
      ]
     },
     "metadata": {},
     "output_type": "display_data"
    },
    {
     "name": "stdout",
     "output_type": "stream",
     "text": [
      "\n",
      "\n",
      "\n",
      "\n",
      "LocalExplanationId: 33, FeatureId: 5\n",
      "feature type:  SEN\n",
      "feature description:  Combination of 1° Sentence and 2° Sentence\n",
      "feature (position,token):  {'0': '.', '1': 'mac', '2': 'bumps', '3': 'up', '4': 'storage', '5': 'capacity', '6': ',', '7': 'improves', '8': 'mail', '9': '(', '10': 'maccentral', '11': ')', '12': '.', '13': 'maccentral', '14': '-', '15': 'apple', '16': 'has', '17': 'improved', '18': 'the', '19': 'services', '20': 'offered', '21': 'to', '22': 'subscribers', '23': 'of', '24': '.', '25': 'mac', '26': '.'}\n",
      "Perturbed Text:   previously, the amount of storage for a basic. mac account was 100mb, with a maximum of 15mb for e - mail. the service ' s base online storage has been increased to 250mb, e - mail service has been enhanced, and the cost of upgrading has been reduced.. mac ' s basic subscription price remains the same - - us per year.\n",
      "perturbed probabilities:  [6.192366709001362e-05, 6.71190127832233e-06, 0.000864101224578917, 0.9990672469139099]\n",
      "nPIR Original Class:  0.001\n"
     ]
    },
    {
     "data": {
      "text/html": [
       "<span style=\"background-color:rgba(0, 255, 255, 1)\"><b>.</b></span> <span style=\"background-color:rgba(0, 255, 255, 1)\"><b>mac</b></span> <span style=\"background-color:rgba(0, 255, 255, 1)\"><b>bumps</b></span> <span style=\"background-color:rgba(0, 255, 255, 1)\"><b>up</b></span> <span style=\"background-color:rgba(0, 255, 255, 1)\"><b>storage</b></span> <span style=\"background-color:rgba(0, 255, 255, 1)\"><b>capacity</b></span> <span style=\"background-color:rgba(0, 255, 255, 1)\"><b>,</b></span> <span style=\"background-color:rgba(0, 255, 255, 1)\"><b>improves</b></span> <span style=\"background-color:rgba(0, 255, 255, 1)\"><b>mail</b></span> <span style=\"background-color:rgba(0, 255, 255, 1)\"><b>(</b></span> <span style=\"background-color:rgba(0, 255, 255, 1)\"><b>maccentral</b></span> <span style=\"background-color:rgba(0, 255, 255, 1)\"><b>)</b></span> <span style=\"background-color:rgba(0, 255, 255, 1)\"><b>.</b></span> <span style=\"background-color:rgba(0, 255, 255, 1)\"><b>maccentral</b></span> <span style=\"background-color:rgba(0, 255, 255, 1)\"><b>-</b></span> <span style=\"background-color:rgba(0, 255, 255, 1)\"><b>apple</b></span> <span style=\"background-color:rgba(0, 255, 255, 1)\"><b>has</b></span> <span style=\"background-color:rgba(0, 255, 255, 1)\"><b>improved</b></span> <span style=\"background-color:rgba(0, 255, 255, 1)\"><b>the</b></span> <span style=\"background-color:rgba(0, 255, 255, 1)\"><b>services</b></span> <span style=\"background-color:rgba(0, 255, 255, 1)\"><b>offered</b></span> <span style=\"background-color:rgba(0, 255, 255, 1)\"><b>to</b></span> <span style=\"background-color:rgba(0, 255, 255, 1)\"><b>subscribers</b></span> <span style=\"background-color:rgba(0, 255, 255, 1)\"><b>of</b></span> <span style=\"background-color:rgba(0, 255, 255, 1)\"><b>.</b></span> <span style=\"background-color:rgba(0, 255, 255, 1)\"><b>mac</b></span> <span style=\"background-color:rgba(0, 255, 255, 1)\"><b>.</b></span> <span><b>previously</b></span> <span><b>,</b></span> <span><b>the</b></span> <span><b>amount</b></span> <span><b>of</b></span> <span><b>storage</b></span> <span><b>for</b></span> <span><b>a</b></span> <span><b>basic</b></span> <span><b>.</b></span> <span><b>mac</b></span> <span><b>account</b></span> <span><b>was</b></span> <span><b>100mb</b></span> <span><b>,</b></span> <span><b>with</b></span> <span><b>a</b></span> <span><b>maximum</b></span> <span><b>of</b></span> <span><b>15mb</b></span> <span><b>for</b></span> <span><b>e</b></span> <span><b>-</b></span> <span><b>mail</b></span> <span><b>.</b></span> <span><b>the</b></span> <span><b>service</b></span> <span><b>'</b></span> <span><b>s</b></span> <span><b>base</b></span> <span><b>online</b></span> <span><b>storage</b></span> <span><b>has</b></span> <span><b>been</b></span> <span><b>increased</b></span> <span><b>to</b></span> <span><b>250mb</b></span> <span><b>,</b></span> <span><b>e</b></span> <span><b>-</b></span> <span><b>mail</b></span> <span><b>service</b></span> <span><b>has</b></span> <span><b>been</b></span> <span><b>enhanced</b></span> <span><b>,</b></span> <span><b>and</b></span> <span><b>the</b></span> <span><b>cost</b></span> <span><b>of</b></span> <span><b>upgrading</b></span> <span><b>has</b></span> <span><b>been</b></span> <span><b>reduced</b></span> <span><b>.</b></span> <span><b>.</b></span> <span><b>mac</b></span> <span><b>'</b></span> <span><b>s</b></span> <span><b>basic</b></span> <span><b>subscription</b></span> <span><b>price</b></span> <span><b>remains</b></span> <span><b>the</b></span> <span><b>same</b></span> <span><b>-</b></span> <span><b>-</b></span> <span><b>us</b></span> <span><b>per</b></span> <span><b>year</b></span> <span><b>.</b></span> "
      ],
      "text/plain": [
       "<IPython.core.display.HTML object>"
      ]
     },
     "metadata": {},
     "output_type": "display_data"
    },
    {
     "name": "stdout",
     "output_type": "stream",
     "text": [
      "\n",
      "\n",
      "\n",
      "\n",
      "LocalExplanationId: 41, FeatureId: 13\n",
      "feature type:  SEN\n",
      "feature description:  Combination of 3° Sentence and 5° Sentence\n",
      "feature (position,token):  {'27': 'previously', '28': ',', '29': 'the', '30': 'amount', '31': 'of', '32': 'storage', '33': 'for', '34': 'a', '35': 'basic', '36': '.', '37': 'mac', '38': 'account', '39': 'was', '40': '100mb', '41': ',', '42': 'with', '43': 'a', '44': 'maximum', '45': 'of', '46': '15mb', '47': 'for', '48': 'e', '49': '-', '50': 'mail', '51': '.', '82': '.', '83': 'mac', '84': \"'\", '85': 's', '86': 'basic', '87': 'subscription', '88': 'price', '89': 'remains', '90': 'the', '91': 'same', '92': '-', '93': '-', '94': 'us', '95': 'per', '96': 'year', '97': '.'}\n",
      "Perturbed Text:   . mac bumps up storage capacity, improves mail ( maccentral ). maccentral - apple has improved the services offered to subscribers of. mac. the service ' s base online storage has been increased to 250mb, e - mail service has been enhanced, and the cost of upgrading has been reduced.\n",
      "perturbed probabilities:  [0.0007360676536336541, 1.8074810213875026e-05, 0.00017756351735442877, 0.9990683197975159]\n",
      "nPIR Original Class:  0.001\n"
     ]
    },
    {
     "data": {
      "text/html": [
       "<span><b>.</b></span> <span><b>mac</b></span> <span><b>bumps</b></span> <span><b>up</b></span> <span><b>storage</b></span> <span><b>capacity</b></span> <span><b>,</b></span> <span><b>improves</b></span> <span><b>mail</b></span> <span><b>(</b></span> <span><b>maccentral</b></span> <span><b>)</b></span> <span><b>.</b></span> <span><b>maccentral</b></span> <span><b>-</b></span> <span><b>apple</b></span> <span><b>has</b></span> <span><b>improved</b></span> <span><b>the</b></span> <span><b>services</b></span> <span><b>offered</b></span> <span><b>to</b></span> <span><b>subscribers</b></span> <span><b>of</b></span> <span><b>.</b></span> <span><b>mac</b></span> <span><b>.</b></span> <span style=\"background-color:rgba(0, 255, 255, 1)\"><b>previously</b></span> <span style=\"background-color:rgba(0, 255, 255, 1)\"><b>,</b></span> <span style=\"background-color:rgba(0, 255, 255, 1)\"><b>the</b></span> <span style=\"background-color:rgba(0, 255, 255, 1)\"><b>amount</b></span> <span style=\"background-color:rgba(0, 255, 255, 1)\"><b>of</b></span> <span style=\"background-color:rgba(0, 255, 255, 1)\"><b>storage</b></span> <span style=\"background-color:rgba(0, 255, 255, 1)\"><b>for</b></span> <span style=\"background-color:rgba(0, 255, 255, 1)\"><b>a</b></span> <span style=\"background-color:rgba(0, 255, 255, 1)\"><b>basic</b></span> <span style=\"background-color:rgba(0, 255, 255, 1)\"><b>.</b></span> <span style=\"background-color:rgba(0, 255, 255, 1)\"><b>mac</b></span> <span style=\"background-color:rgba(0, 255, 255, 1)\"><b>account</b></span> <span style=\"background-color:rgba(0, 255, 255, 1)\"><b>was</b></span> <span style=\"background-color:rgba(0, 255, 255, 1)\"><b>100mb</b></span> <span style=\"background-color:rgba(0, 255, 255, 1)\"><b>,</b></span> <span style=\"background-color:rgba(0, 255, 255, 1)\"><b>with</b></span> <span style=\"background-color:rgba(0, 255, 255, 1)\"><b>a</b></span> <span style=\"background-color:rgba(0, 255, 255, 1)\"><b>maximum</b></span> <span style=\"background-color:rgba(0, 255, 255, 1)\"><b>of</b></span> <span style=\"background-color:rgba(0, 255, 255, 1)\"><b>15mb</b></span> <span style=\"background-color:rgba(0, 255, 255, 1)\"><b>for</b></span> <span style=\"background-color:rgba(0, 255, 255, 1)\"><b>e</b></span> <span style=\"background-color:rgba(0, 255, 255, 1)\"><b>-</b></span> <span style=\"background-color:rgba(0, 255, 255, 1)\"><b>mail</b></span> <span style=\"background-color:rgba(0, 255, 255, 1)\"><b>.</b></span> <span><b>the</b></span> <span><b>service</b></span> <span><b>'</b></span> <span><b>s</b></span> <span><b>base</b></span> <span><b>online</b></span> <span><b>storage</b></span> <span><b>has</b></span> <span><b>been</b></span> <span><b>increased</b></span> <span><b>to</b></span> <span><b>250mb</b></span> <span><b>,</b></span> <span><b>e</b></span> <span><b>-</b></span> <span><b>mail</b></span> <span><b>service</b></span> <span><b>has</b></span> <span><b>been</b></span> <span><b>enhanced</b></span> <span><b>,</b></span> <span><b>and</b></span> <span><b>the</b></span> <span><b>cost</b></span> <span><b>of</b></span> <span><b>upgrading</b></span> <span><b>has</b></span> <span><b>been</b></span> <span><b>reduced</b></span> <span><b>.</b></span> <span style=\"background-color:rgba(0, 255, 255, 1)\"><b>.</b></span> <span style=\"background-color:rgba(0, 255, 255, 1)\"><b>mac</b></span> <span style=\"background-color:rgba(0, 255, 255, 1)\"><b>'</b></span> <span style=\"background-color:rgba(0, 255, 255, 1)\"><b>s</b></span> <span style=\"background-color:rgba(0, 255, 255, 1)\"><b>basic</b></span> <span style=\"background-color:rgba(0, 255, 255, 1)\"><b>subscription</b></span> <span style=\"background-color:rgba(0, 255, 255, 1)\"><b>price</b></span> <span style=\"background-color:rgba(0, 255, 255, 1)\"><b>remains</b></span> <span style=\"background-color:rgba(0, 255, 255, 1)\"><b>the</b></span> <span style=\"background-color:rgba(0, 255, 255, 1)\"><b>same</b></span> <span style=\"background-color:rgba(0, 255, 255, 1)\"><b>-</b></span> <span style=\"background-color:rgba(0, 255, 255, 1)\"><b>-</b></span> <span style=\"background-color:rgba(0, 255, 255, 1)\"><b>us</b></span> <span style=\"background-color:rgba(0, 255, 255, 1)\"><b>per</b></span> <span style=\"background-color:rgba(0, 255, 255, 1)\"><b>year</b></span> <span style=\"background-color:rgba(0, 255, 255, 1)\"><b>.</b></span> "
      ],
      "text/plain": [
       "<IPython.core.display.HTML object>"
      ]
     },
     "metadata": {},
     "output_type": "display_data"
    },
    {
     "name": "stdout",
     "output_type": "stream",
     "text": [
      "\n",
      "\n",
      "\n",
      "\n",
      "LocalExplanationId: 28, FeatureId: 0\n",
      "feature type:  SEN\n",
      "feature description:  1° Sentence\n",
      "feature (position,token):  {'0': '.', '1': 'mac', '2': 'bumps', '3': 'up', '4': 'storage', '5': 'capacity', '6': ',', '7': 'improves', '8': 'mail', '9': '(', '10': 'maccentral', '11': ')', '12': '.'}\n",
      "Perturbed Text:   maccentral - apple has improved the services offered to subscribers of. mac. previously, the amount of storage for a basic. mac account was 100mb, with a maximum of 15mb for e - mail. the service ' s base online storage has been increased to 250mb, e - mail service has been enhanced, and the cost of upgrading has been reduced.. mac ' s basic subscription price remains the same - - us per year.\n",
      "perturbed probabilities:  [5.6347074860241264e-05, 4.781167717737844e-06, 0.0007852500420995057, 0.9991536140441895]\n",
      "nPIR Original Class:  0.001\n"
     ]
    },
    {
     "data": {
      "text/html": [
       "<span style=\"background-color:rgba(0, 255, 255, 1)\"><b>.</b></span> <span style=\"background-color:rgba(0, 255, 255, 1)\"><b>mac</b></span> <span style=\"background-color:rgba(0, 255, 255, 1)\"><b>bumps</b></span> <span style=\"background-color:rgba(0, 255, 255, 1)\"><b>up</b></span> <span style=\"background-color:rgba(0, 255, 255, 1)\"><b>storage</b></span> <span style=\"background-color:rgba(0, 255, 255, 1)\"><b>capacity</b></span> <span style=\"background-color:rgba(0, 255, 255, 1)\"><b>,</b></span> <span style=\"background-color:rgba(0, 255, 255, 1)\"><b>improves</b></span> <span style=\"background-color:rgba(0, 255, 255, 1)\"><b>mail</b></span> <span style=\"background-color:rgba(0, 255, 255, 1)\"><b>(</b></span> <span style=\"background-color:rgba(0, 255, 255, 1)\"><b>maccentral</b></span> <span style=\"background-color:rgba(0, 255, 255, 1)\"><b>)</b></span> <span style=\"background-color:rgba(0, 255, 255, 1)\"><b>.</b></span> <span><b>maccentral</b></span> <span><b>-</b></span> <span><b>apple</b></span> <span><b>has</b></span> <span><b>improved</b></span> <span><b>the</b></span> <span><b>services</b></span> <span><b>offered</b></span> <span><b>to</b></span> <span><b>subscribers</b></span> <span><b>of</b></span> <span><b>.</b></span> <span><b>mac</b></span> <span><b>.</b></span> <span><b>previously</b></span> <span><b>,</b></span> <span><b>the</b></span> <span><b>amount</b></span> <span><b>of</b></span> <span><b>storage</b></span> <span><b>for</b></span> <span><b>a</b></span> <span><b>basic</b></span> <span><b>.</b></span> <span><b>mac</b></span> <span><b>account</b></span> <span><b>was</b></span> <span><b>100mb</b></span> <span><b>,</b></span> <span><b>with</b></span> <span><b>a</b></span> <span><b>maximum</b></span> <span><b>of</b></span> <span><b>15mb</b></span> <span><b>for</b></span> <span><b>e</b></span> <span><b>-</b></span> <span><b>mail</b></span> <span><b>.</b></span> <span><b>the</b></span> <span><b>service</b></span> <span><b>'</b></span> <span><b>s</b></span> <span><b>base</b></span> <span><b>online</b></span> <span><b>storage</b></span> <span><b>has</b></span> <span><b>been</b></span> <span><b>increased</b></span> <span><b>to</b></span> <span><b>250mb</b></span> <span><b>,</b></span> <span><b>e</b></span> <span><b>-</b></span> <span><b>mail</b></span> <span><b>service</b></span> <span><b>has</b></span> <span><b>been</b></span> <span><b>enhanced</b></span> <span><b>,</b></span> <span><b>and</b></span> <span><b>the</b></span> <span><b>cost</b></span> <span><b>of</b></span> <span><b>upgrading</b></span> <span><b>has</b></span> <span><b>been</b></span> <span><b>reduced</b></span> <span><b>.</b></span> <span><b>.</b></span> <span><b>mac</b></span> <span><b>'</b></span> <span><b>s</b></span> <span><b>basic</b></span> <span><b>subscription</b></span> <span><b>price</b></span> <span><b>remains</b></span> <span><b>the</b></span> <span><b>same</b></span> <span><b>-</b></span> <span><b>-</b></span> <span><b>us</b></span> <span><b>per</b></span> <span><b>year</b></span> <span><b>.</b></span> "
      ],
      "text/plain": [
       "<IPython.core.display.HTML object>"
      ]
     },
     "metadata": {},
     "output_type": "display_data"
    },
    {
     "name": "stdout",
     "output_type": "stream",
     "text": [
      "\n",
      "\n",
      "\n",
      "\n",
      "LocalExplanationId: 39, FeatureId: 11\n",
      "feature type:  SEN\n",
      "feature description:  Combination of 2° Sentence and 5° Sentence\n",
      "feature (position,token):  {'13': 'maccentral', '14': '-', '15': 'apple', '16': 'has', '17': 'improved', '18': 'the', '19': 'services', '20': 'offered', '21': 'to', '22': 'subscribers', '23': 'of', '24': '.', '25': 'mac', '26': '.', '82': '.', '83': 'mac', '84': \"'\", '85': 's', '86': 'basic', '87': 'subscription', '88': 'price', '89': 'remains', '90': 'the', '91': 'same', '92': '-', '93': '-', '94': 'us', '95': 'per', '96': 'year', '97': '.'}\n",
      "Perturbed Text:   . mac bumps up storage capacity, improves mail ( maccentral ). previously, the amount of storage for a basic. mac account was 100mb, with a maximum of 15mb for e - mail. the service ' s base online storage has been increased to 250mb, e - mail service has been enhanced, and the cost of upgrading has been reduced.\n",
      "perturbed probabilities:  [0.0005170574295334518, 1.5162658201006707e-05, 0.0002027882292168215, 0.9992650151252747]\n",
      "nPIR Original Class:  0.001\n"
     ]
    },
    {
     "data": {
      "text/html": [
       "<span><b>.</b></span> <span><b>mac</b></span> <span><b>bumps</b></span> <span><b>up</b></span> <span><b>storage</b></span> <span><b>capacity</b></span> <span><b>,</b></span> <span><b>improves</b></span> <span><b>mail</b></span> <span><b>(</b></span> <span><b>maccentral</b></span> <span><b>)</b></span> <span><b>.</b></span> <span style=\"background-color:rgba(0, 255, 255, 1)\"><b>maccentral</b></span> <span style=\"background-color:rgba(0, 255, 255, 1)\"><b>-</b></span> <span style=\"background-color:rgba(0, 255, 255, 1)\"><b>apple</b></span> <span style=\"background-color:rgba(0, 255, 255, 1)\"><b>has</b></span> <span style=\"background-color:rgba(0, 255, 255, 1)\"><b>improved</b></span> <span style=\"background-color:rgba(0, 255, 255, 1)\"><b>the</b></span> <span style=\"background-color:rgba(0, 255, 255, 1)\"><b>services</b></span> <span style=\"background-color:rgba(0, 255, 255, 1)\"><b>offered</b></span> <span style=\"background-color:rgba(0, 255, 255, 1)\"><b>to</b></span> <span style=\"background-color:rgba(0, 255, 255, 1)\"><b>subscribers</b></span> <span style=\"background-color:rgba(0, 255, 255, 1)\"><b>of</b></span> <span style=\"background-color:rgba(0, 255, 255, 1)\"><b>.</b></span> <span style=\"background-color:rgba(0, 255, 255, 1)\"><b>mac</b></span> <span style=\"background-color:rgba(0, 255, 255, 1)\"><b>.</b></span> <span><b>previously</b></span> <span><b>,</b></span> <span><b>the</b></span> <span><b>amount</b></span> <span><b>of</b></span> <span><b>storage</b></span> <span><b>for</b></span> <span><b>a</b></span> <span><b>basic</b></span> <span><b>.</b></span> <span><b>mac</b></span> <span><b>account</b></span> <span><b>was</b></span> <span><b>100mb</b></span> <span><b>,</b></span> <span><b>with</b></span> <span><b>a</b></span> <span><b>maximum</b></span> <span><b>of</b></span> <span><b>15mb</b></span> <span><b>for</b></span> <span><b>e</b></span> <span><b>-</b></span> <span><b>mail</b></span> <span><b>.</b></span> <span><b>the</b></span> <span><b>service</b></span> <span><b>'</b></span> <span><b>s</b></span> <span><b>base</b></span> <span><b>online</b></span> <span><b>storage</b></span> <span><b>has</b></span> <span><b>been</b></span> <span><b>increased</b></span> <span><b>to</b></span> <span><b>250mb</b></span> <span><b>,</b></span> <span><b>e</b></span> <span><b>-</b></span> <span><b>mail</b></span> <span><b>service</b></span> <span><b>has</b></span> <span><b>been</b></span> <span><b>enhanced</b></span> <span><b>,</b></span> <span><b>and</b></span> <span><b>the</b></span> <span><b>cost</b></span> <span><b>of</b></span> <span><b>upgrading</b></span> <span><b>has</b></span> <span><b>been</b></span> <span><b>reduced</b></span> <span><b>.</b></span> <span style=\"background-color:rgba(0, 255, 255, 1)\"><b>.</b></span> <span style=\"background-color:rgba(0, 255, 255, 1)\"><b>mac</b></span> <span style=\"background-color:rgba(0, 255, 255, 1)\"><b>'</b></span> <span style=\"background-color:rgba(0, 255, 255, 1)\"><b>s</b></span> <span style=\"background-color:rgba(0, 255, 255, 1)\"><b>basic</b></span> <span style=\"background-color:rgba(0, 255, 255, 1)\"><b>subscription</b></span> <span style=\"background-color:rgba(0, 255, 255, 1)\"><b>price</b></span> <span style=\"background-color:rgba(0, 255, 255, 1)\"><b>remains</b></span> <span style=\"background-color:rgba(0, 255, 255, 1)\"><b>the</b></span> <span style=\"background-color:rgba(0, 255, 255, 1)\"><b>same</b></span> <span style=\"background-color:rgba(0, 255, 255, 1)\"><b>-</b></span> <span style=\"background-color:rgba(0, 255, 255, 1)\"><b>-</b></span> <span style=\"background-color:rgba(0, 255, 255, 1)\"><b>us</b></span> <span style=\"background-color:rgba(0, 255, 255, 1)\"><b>per</b></span> <span style=\"background-color:rgba(0, 255, 255, 1)\"><b>year</b></span> <span style=\"background-color:rgba(0, 255, 255, 1)\"><b>.</b></span> "
      ],
      "text/plain": [
       "<IPython.core.display.HTML object>"
      ]
     },
     "metadata": {},
     "output_type": "display_data"
    },
    {
     "name": "stdout",
     "output_type": "stream",
     "text": [
      "\n",
      "\n",
      "\n",
      "\n",
      "LocalExplanationId: 32, FeatureId: 4\n",
      "feature type:  SEN\n",
      "feature description:  5° Sentence\n",
      "feature (position,token):  {'82': '.', '83': 'mac', '84': \"'\", '85': 's', '86': 'basic', '87': 'subscription', '88': 'price', '89': 'remains', '90': 'the', '91': 'same', '92': '-', '93': '-', '94': 'us', '95': 'per', '96': 'year', '97': '.'}\n",
      "Perturbed Text:   . mac bumps up storage capacity, improves mail ( maccentral ). maccentral - apple has improved the services offered to subscribers of. mac. previously, the amount of storage for a basic. mac account was 100mb, with a maximum of 15mb for e - mail. the service ' s base online storage has been increased to 250mb, e - mail service has been enhanced, and the cost of upgrading has been reduced.\n",
      "perturbed probabilities:  [0.0005298031610436738, 1.6518222764716484e-05, 0.00012871541548520327, 0.9993250370025635]\n",
      "nPIR Original Class:  0.0\n"
     ]
    },
    {
     "data": {
      "text/html": [
       "<span><b>.</b></span> <span><b>mac</b></span> <span><b>bumps</b></span> <span><b>up</b></span> <span><b>storage</b></span> <span><b>capacity</b></span> <span><b>,</b></span> <span><b>improves</b></span> <span><b>mail</b></span> <span><b>(</b></span> <span><b>maccentral</b></span> <span><b>)</b></span> <span><b>.</b></span> <span><b>maccentral</b></span> <span><b>-</b></span> <span><b>apple</b></span> <span><b>has</b></span> <span><b>improved</b></span> <span><b>the</b></span> <span><b>services</b></span> <span><b>offered</b></span> <span><b>to</b></span> <span><b>subscribers</b></span> <span><b>of</b></span> <span><b>.</b></span> <span><b>mac</b></span> <span><b>.</b></span> <span><b>previously</b></span> <span><b>,</b></span> <span><b>the</b></span> <span><b>amount</b></span> <span><b>of</b></span> <span><b>storage</b></span> <span><b>for</b></span> <span><b>a</b></span> <span><b>basic</b></span> <span><b>.</b></span> <span><b>mac</b></span> <span><b>account</b></span> <span><b>was</b></span> <span><b>100mb</b></span> <span><b>,</b></span> <span><b>with</b></span> <span><b>a</b></span> <span><b>maximum</b></span> <span><b>of</b></span> <span><b>15mb</b></span> <span><b>for</b></span> <span><b>e</b></span> <span><b>-</b></span> <span><b>mail</b></span> <span><b>.</b></span> <span><b>the</b></span> <span><b>service</b></span> <span><b>'</b></span> <span><b>s</b></span> <span><b>base</b></span> <span><b>online</b></span> <span><b>storage</b></span> <span><b>has</b></span> <span><b>been</b></span> <span><b>increased</b></span> <span><b>to</b></span> <span><b>250mb</b></span> <span><b>,</b></span> <span><b>e</b></span> <span><b>-</b></span> <span><b>mail</b></span> <span><b>service</b></span> <span><b>has</b></span> <span><b>been</b></span> <span><b>enhanced</b></span> <span><b>,</b></span> <span><b>and</b></span> <span><b>the</b></span> <span><b>cost</b></span> <span><b>of</b></span> <span><b>upgrading</b></span> <span><b>has</b></span> <span><b>been</b></span> <span><b>reduced</b></span> <span><b>.</b></span> <span style=\"background-color:rgba(0, 255, 255, 1)\"><b>.</b></span> <span style=\"background-color:rgba(0, 255, 255, 1)\"><b>mac</b></span> <span style=\"background-color:rgba(0, 255, 255, 1)\"><b>'</b></span> <span style=\"background-color:rgba(0, 255, 255, 1)\"><b>s</b></span> <span style=\"background-color:rgba(0, 255, 255, 1)\"><b>basic</b></span> <span style=\"background-color:rgba(0, 255, 255, 1)\"><b>subscription</b></span> <span style=\"background-color:rgba(0, 255, 255, 1)\"><b>price</b></span> <span style=\"background-color:rgba(0, 255, 255, 1)\"><b>remains</b></span> <span style=\"background-color:rgba(0, 255, 255, 1)\"><b>the</b></span> <span style=\"background-color:rgba(0, 255, 255, 1)\"><b>same</b></span> <span style=\"background-color:rgba(0, 255, 255, 1)\"><b>-</b></span> <span style=\"background-color:rgba(0, 255, 255, 1)\"><b>-</b></span> <span style=\"background-color:rgba(0, 255, 255, 1)\"><b>us</b></span> <span style=\"background-color:rgba(0, 255, 255, 1)\"><b>per</b></span> <span style=\"background-color:rgba(0, 255, 255, 1)\"><b>year</b></span> <span style=\"background-color:rgba(0, 255, 255, 1)\"><b>.</b></span> "
      ],
      "text/plain": [
       "<IPython.core.display.HTML object>"
      ]
     },
     "metadata": {},
     "output_type": "display_data"
    },
    {
     "name": "stdout",
     "output_type": "stream",
     "text": [
      "\n",
      "\n",
      "\n",
      "\n",
      "LocalExplanationId: 29, FeatureId: 1\n",
      "feature type:  SEN\n",
      "feature description:  2° Sentence\n",
      "feature (position,token):  {'13': 'maccentral', '14': '-', '15': 'apple', '16': 'has', '17': 'improved', '18': 'the', '19': 'services', '20': 'offered', '21': 'to', '22': 'subscribers', '23': 'of', '24': '.', '25': 'mac', '26': '.'}\n",
      "Perturbed Text:   . mac bumps up storage capacity, improves mail ( maccentral ). previously, the amount of storage for a basic. mac account was 100mb, with a maximum of 15mb for e - mail. the service ' s base online storage has been increased to 250mb, e - mail service has been enhanced, and the cost of upgrading has been reduced.. mac ' s basic subscription price remains the same - - us per year.\n",
      "perturbed probabilities:  [0.0003915913694072515, 1.3007861525693443e-05, 0.0002603692119009793, 0.999334990978241]\n",
      "nPIR Original Class:  0.0\n"
     ]
    },
    {
     "data": {
      "text/html": [
       "<span><b>.</b></span> <span><b>mac</b></span> <span><b>bumps</b></span> <span><b>up</b></span> <span><b>storage</b></span> <span><b>capacity</b></span> <span><b>,</b></span> <span><b>improves</b></span> <span><b>mail</b></span> <span><b>(</b></span> <span><b>maccentral</b></span> <span><b>)</b></span> <span><b>.</b></span> <span style=\"background-color:rgba(0, 255, 255, 1)\"><b>maccentral</b></span> <span style=\"background-color:rgba(0, 255, 255, 1)\"><b>-</b></span> <span style=\"background-color:rgba(0, 255, 255, 1)\"><b>apple</b></span> <span style=\"background-color:rgba(0, 255, 255, 1)\"><b>has</b></span> <span style=\"background-color:rgba(0, 255, 255, 1)\"><b>improved</b></span> <span style=\"background-color:rgba(0, 255, 255, 1)\"><b>the</b></span> <span style=\"background-color:rgba(0, 255, 255, 1)\"><b>services</b></span> <span style=\"background-color:rgba(0, 255, 255, 1)\"><b>offered</b></span> <span style=\"background-color:rgba(0, 255, 255, 1)\"><b>to</b></span> <span style=\"background-color:rgba(0, 255, 255, 1)\"><b>subscribers</b></span> <span style=\"background-color:rgba(0, 255, 255, 1)\"><b>of</b></span> <span style=\"background-color:rgba(0, 255, 255, 1)\"><b>.</b></span> <span style=\"background-color:rgba(0, 255, 255, 1)\"><b>mac</b></span> <span style=\"background-color:rgba(0, 255, 255, 1)\"><b>.</b></span> <span><b>previously</b></span> <span><b>,</b></span> <span><b>the</b></span> <span><b>amount</b></span> <span><b>of</b></span> <span><b>storage</b></span> <span><b>for</b></span> <span><b>a</b></span> <span><b>basic</b></span> <span><b>.</b></span> <span><b>mac</b></span> <span><b>account</b></span> <span><b>was</b></span> <span><b>100mb</b></span> <span><b>,</b></span> <span><b>with</b></span> <span><b>a</b></span> <span><b>maximum</b></span> <span><b>of</b></span> <span><b>15mb</b></span> <span><b>for</b></span> <span><b>e</b></span> <span><b>-</b></span> <span><b>mail</b></span> <span><b>.</b></span> <span><b>the</b></span> <span><b>service</b></span> <span><b>'</b></span> <span><b>s</b></span> <span><b>base</b></span> <span><b>online</b></span> <span><b>storage</b></span> <span><b>has</b></span> <span><b>been</b></span> <span><b>increased</b></span> <span><b>to</b></span> <span><b>250mb</b></span> <span><b>,</b></span> <span><b>e</b></span> <span><b>-</b></span> <span><b>mail</b></span> <span><b>service</b></span> <span><b>has</b></span> <span><b>been</b></span> <span><b>enhanced</b></span> <span><b>,</b></span> <span><b>and</b></span> <span><b>the</b></span> <span><b>cost</b></span> <span><b>of</b></span> <span><b>upgrading</b></span> <span><b>has</b></span> <span><b>been</b></span> <span><b>reduced</b></span> <span><b>.</b></span> <span><b>.</b></span> <span><b>mac</b></span> <span><b>'</b></span> <span><b>s</b></span> <span><b>basic</b></span> <span><b>subscription</b></span> <span><b>price</b></span> <span><b>remains</b></span> <span><b>the</b></span> <span><b>same</b></span> <span><b>-</b></span> <span><b>-</b></span> <span><b>us</b></span> <span><b>per</b></span> <span><b>year</b></span> <span><b>.</b></span> "
      ],
      "text/plain": [
       "<IPython.core.display.HTML object>"
      ]
     },
     "metadata": {},
     "output_type": "display_data"
    },
    {
     "name": "stdout",
     "output_type": "stream",
     "text": [
      "\n",
      "\n",
      "\n",
      "\n",
      "LocalExplanationId: 42, FeatureId: 14\n",
      "feature type:  SEN\n",
      "feature description:  Combination of 4° Sentence and 5° Sentence\n",
      "feature (position,token):  {'52': 'the', '53': 'service', '54': \"'\", '55': 's', '56': 'base', '57': 'online', '58': 'storage', '59': 'has', '60': 'been', '61': 'increased', '62': 'to', '63': '250mb', '64': ',', '65': 'e', '66': '-', '67': 'mail', '68': 'service', '69': 'has', '70': 'been', '71': 'enhanced', '72': ',', '73': 'and', '74': 'the', '75': 'cost', '76': 'of', '77': 'upgrading', '78': 'has', '79': 'been', '80': 'reduced', '81': '.', '82': '.', '83': 'mac', '84': \"'\", '85': 's', '86': 'basic', '87': 'subscription', '88': 'price', '89': 'remains', '90': 'the', '91': 'same', '92': '-', '93': '-', '94': 'us', '95': 'per', '96': 'year', '97': '.'}\n",
      "Perturbed Text:   . mac bumps up storage capacity, improves mail ( maccentral ). maccentral - apple has improved the services offered to subscribers of. mac. previously, the amount of storage for a basic. mac account was 100mb, with a maximum of 15mb for e - mail.\n",
      "perturbed probabilities:  [0.000542513735126704, 2.1842472051503137e-05, 7.156415813369676e-05, 0.9993640780448914]\n",
      "nPIR Original Class:  0.0\n"
     ]
    },
    {
     "data": {
      "text/html": [
       "<span><b>.</b></span> <span><b>mac</b></span> <span><b>bumps</b></span> <span><b>up</b></span> <span><b>storage</b></span> <span><b>capacity</b></span> <span><b>,</b></span> <span><b>improves</b></span> <span><b>mail</b></span> <span><b>(</b></span> <span><b>maccentral</b></span> <span><b>)</b></span> <span><b>.</b></span> <span><b>maccentral</b></span> <span><b>-</b></span> <span><b>apple</b></span> <span><b>has</b></span> <span><b>improved</b></span> <span><b>the</b></span> <span><b>services</b></span> <span><b>offered</b></span> <span><b>to</b></span> <span><b>subscribers</b></span> <span><b>of</b></span> <span><b>.</b></span> <span><b>mac</b></span> <span><b>.</b></span> <span><b>previously</b></span> <span><b>,</b></span> <span><b>the</b></span> <span><b>amount</b></span> <span><b>of</b></span> <span><b>storage</b></span> <span><b>for</b></span> <span><b>a</b></span> <span><b>basic</b></span> <span><b>.</b></span> <span><b>mac</b></span> <span><b>account</b></span> <span><b>was</b></span> <span><b>100mb</b></span> <span><b>,</b></span> <span><b>with</b></span> <span><b>a</b></span> <span><b>maximum</b></span> <span><b>of</b></span> <span><b>15mb</b></span> <span><b>for</b></span> <span><b>e</b></span> <span><b>-</b></span> <span><b>mail</b></span> <span><b>.</b></span> <span style=\"background-color:rgba(0, 255, 255, 1)\"><b>the</b></span> <span style=\"background-color:rgba(0, 255, 255, 1)\"><b>service</b></span> <span style=\"background-color:rgba(0, 255, 255, 1)\"><b>'</b></span> <span style=\"background-color:rgba(0, 255, 255, 1)\"><b>s</b></span> <span style=\"background-color:rgba(0, 255, 255, 1)\"><b>base</b></span> <span style=\"background-color:rgba(0, 255, 255, 1)\"><b>online</b></span> <span style=\"background-color:rgba(0, 255, 255, 1)\"><b>storage</b></span> <span style=\"background-color:rgba(0, 255, 255, 1)\"><b>has</b></span> <span style=\"background-color:rgba(0, 255, 255, 1)\"><b>been</b></span> <span style=\"background-color:rgba(0, 255, 255, 1)\"><b>increased</b></span> <span style=\"background-color:rgba(0, 255, 255, 1)\"><b>to</b></span> <span style=\"background-color:rgba(0, 255, 255, 1)\"><b>250mb</b></span> <span style=\"background-color:rgba(0, 255, 255, 1)\"><b>,</b></span> <span style=\"background-color:rgba(0, 255, 255, 1)\"><b>e</b></span> <span style=\"background-color:rgba(0, 255, 255, 1)\"><b>-</b></span> <span style=\"background-color:rgba(0, 255, 255, 1)\"><b>mail</b></span> <span style=\"background-color:rgba(0, 255, 255, 1)\"><b>service</b></span> <span style=\"background-color:rgba(0, 255, 255, 1)\"><b>has</b></span> <span style=\"background-color:rgba(0, 255, 255, 1)\"><b>been</b></span> <span style=\"background-color:rgba(0, 255, 255, 1)\"><b>enhanced</b></span> <span style=\"background-color:rgba(0, 255, 255, 1)\"><b>,</b></span> <span style=\"background-color:rgba(0, 255, 255, 1)\"><b>and</b></span> <span style=\"background-color:rgba(0, 255, 255, 1)\"><b>the</b></span> <span style=\"background-color:rgba(0, 255, 255, 1)\"><b>cost</b></span> <span style=\"background-color:rgba(0, 255, 255, 1)\"><b>of</b></span> <span style=\"background-color:rgba(0, 255, 255, 1)\"><b>upgrading</b></span> <span style=\"background-color:rgba(0, 255, 255, 1)\"><b>has</b></span> <span style=\"background-color:rgba(0, 255, 255, 1)\"><b>been</b></span> <span style=\"background-color:rgba(0, 255, 255, 1)\"><b>reduced</b></span> <span style=\"background-color:rgba(0, 255, 255, 1)\"><b>.</b></span> <span style=\"background-color:rgba(0, 255, 255, 1)\"><b>.</b></span> <span style=\"background-color:rgba(0, 255, 255, 1)\"><b>mac</b></span> <span style=\"background-color:rgba(0, 255, 255, 1)\"><b>'</b></span> <span style=\"background-color:rgba(0, 255, 255, 1)\"><b>s</b></span> <span style=\"background-color:rgba(0, 255, 255, 1)\"><b>basic</b></span> <span style=\"background-color:rgba(0, 255, 255, 1)\"><b>subscription</b></span> <span style=\"background-color:rgba(0, 255, 255, 1)\"><b>price</b></span> <span style=\"background-color:rgba(0, 255, 255, 1)\"><b>remains</b></span> <span style=\"background-color:rgba(0, 255, 255, 1)\"><b>the</b></span> <span style=\"background-color:rgba(0, 255, 255, 1)\"><b>same</b></span> <span style=\"background-color:rgba(0, 255, 255, 1)\"><b>-</b></span> <span style=\"background-color:rgba(0, 255, 255, 1)\"><b>-</b></span> <span style=\"background-color:rgba(0, 255, 255, 1)\"><b>us</b></span> <span style=\"background-color:rgba(0, 255, 255, 1)\"><b>per</b></span> <span style=\"background-color:rgba(0, 255, 255, 1)\"><b>year</b></span> <span style=\"background-color:rgba(0, 255, 255, 1)\"><b>.</b></span> "
      ],
      "text/plain": [
       "<IPython.core.display.HTML object>"
      ]
     },
     "metadata": {},
     "output_type": "display_data"
    },
    {
     "name": "stdout",
     "output_type": "stream",
     "text": [
      "\n",
      "\n",
      "\n",
      "\n",
      "LocalExplanationId: 30, FeatureId: 2\n",
      "feature type:  SEN\n",
      "feature description:  3° Sentence\n",
      "feature (position,token):  {'27': 'previously', '28': ',', '29': 'the', '30': 'amount', '31': 'of', '32': 'storage', '33': 'for', '34': 'a', '35': 'basic', '36': '.', '37': 'mac', '38': 'account', '39': 'was', '40': '100mb', '41': ',', '42': 'with', '43': 'a', '44': 'maximum', '45': 'of', '46': '15mb', '47': 'for', '48': 'e', '49': '-', '50': 'mail', '51': '.'}\n",
      "Perturbed Text:   . mac bumps up storage capacity, improves mail ( maccentral ). maccentral - apple has improved the services offered to subscribers of. mac. the service ' s base online storage has been increased to 250mb, e - mail service has been enhanced, and the cost of upgrading has been reduced.. mac ' s basic subscription price remains the same - - us per year.\n",
      "perturbed probabilities:  [0.0004038672486785799, 1.3443047464534175e-05, 0.0002021967520704493, 0.9993804693222046]\n",
      "nPIR Original Class:  0.0\n"
     ]
    },
    {
     "data": {
      "text/html": [
       "<span><b>.</b></span> <span><b>mac</b></span> <span><b>bumps</b></span> <span><b>up</b></span> <span><b>storage</b></span> <span><b>capacity</b></span> <span><b>,</b></span> <span><b>improves</b></span> <span><b>mail</b></span> <span><b>(</b></span> <span><b>maccentral</b></span> <span><b>)</b></span> <span><b>.</b></span> <span><b>maccentral</b></span> <span><b>-</b></span> <span><b>apple</b></span> <span><b>has</b></span> <span><b>improved</b></span> <span><b>the</b></span> <span><b>services</b></span> <span><b>offered</b></span> <span><b>to</b></span> <span><b>subscribers</b></span> <span><b>of</b></span> <span><b>.</b></span> <span><b>mac</b></span> <span><b>.</b></span> <span style=\"background-color:rgba(0, 255, 255, 1)\"><b>previously</b></span> <span style=\"background-color:rgba(0, 255, 255, 1)\"><b>,</b></span> <span style=\"background-color:rgba(0, 255, 255, 1)\"><b>the</b></span> <span style=\"background-color:rgba(0, 255, 255, 1)\"><b>amount</b></span> <span style=\"background-color:rgba(0, 255, 255, 1)\"><b>of</b></span> <span style=\"background-color:rgba(0, 255, 255, 1)\"><b>storage</b></span> <span style=\"background-color:rgba(0, 255, 255, 1)\"><b>for</b></span> <span style=\"background-color:rgba(0, 255, 255, 1)\"><b>a</b></span> <span style=\"background-color:rgba(0, 255, 255, 1)\"><b>basic</b></span> <span style=\"background-color:rgba(0, 255, 255, 1)\"><b>.</b></span> <span style=\"background-color:rgba(0, 255, 255, 1)\"><b>mac</b></span> <span style=\"background-color:rgba(0, 255, 255, 1)\"><b>account</b></span> <span style=\"background-color:rgba(0, 255, 255, 1)\"><b>was</b></span> <span style=\"background-color:rgba(0, 255, 255, 1)\"><b>100mb</b></span> <span style=\"background-color:rgba(0, 255, 255, 1)\"><b>,</b></span> <span style=\"background-color:rgba(0, 255, 255, 1)\"><b>with</b></span> <span style=\"background-color:rgba(0, 255, 255, 1)\"><b>a</b></span> <span style=\"background-color:rgba(0, 255, 255, 1)\"><b>maximum</b></span> <span style=\"background-color:rgba(0, 255, 255, 1)\"><b>of</b></span> <span style=\"background-color:rgba(0, 255, 255, 1)\"><b>15mb</b></span> <span style=\"background-color:rgba(0, 255, 255, 1)\"><b>for</b></span> <span style=\"background-color:rgba(0, 255, 255, 1)\"><b>e</b></span> <span style=\"background-color:rgba(0, 255, 255, 1)\"><b>-</b></span> <span style=\"background-color:rgba(0, 255, 255, 1)\"><b>mail</b></span> <span style=\"background-color:rgba(0, 255, 255, 1)\"><b>.</b></span> <span><b>the</b></span> <span><b>service</b></span> <span><b>'</b></span> <span><b>s</b></span> <span><b>base</b></span> <span><b>online</b></span> <span><b>storage</b></span> <span><b>has</b></span> <span><b>been</b></span> <span><b>increased</b></span> <span><b>to</b></span> <span><b>250mb</b></span> <span><b>,</b></span> <span><b>e</b></span> <span><b>-</b></span> <span><b>mail</b></span> <span><b>service</b></span> <span><b>has</b></span> <span><b>been</b></span> <span><b>enhanced</b></span> <span><b>,</b></span> <span><b>and</b></span> <span><b>the</b></span> <span><b>cost</b></span> <span><b>of</b></span> <span><b>upgrading</b></span> <span><b>has</b></span> <span><b>been</b></span> <span><b>reduced</b></span> <span><b>.</b></span> <span><b>.</b></span> <span><b>mac</b></span> <span><b>'</b></span> <span><b>s</b></span> <span><b>basic</b></span> <span><b>subscription</b></span> <span><b>price</b></span> <span><b>remains</b></span> <span><b>the</b></span> <span><b>same</b></span> <span><b>-</b></span> <span><b>-</b></span> <span><b>us</b></span> <span><b>per</b></span> <span><b>year</b></span> <span><b>.</b></span> "
      ],
      "text/plain": [
       "<IPython.core.display.HTML object>"
      ]
     },
     "metadata": {},
     "output_type": "display_data"
    },
    {
     "name": "stdout",
     "output_type": "stream",
     "text": [
      "\n",
      "\n",
      "\n",
      "\n",
      "LocalExplanationId: 35, FeatureId: 7\n",
      "feature type:  SEN\n",
      "feature description:  Combination of 1° Sentence and 4° Sentence\n",
      "feature (position,token):  {'0': '.', '1': 'mac', '2': 'bumps', '3': 'up', '4': 'storage', '5': 'capacity', '6': ',', '7': 'improves', '8': 'mail', '9': '(', '10': 'maccentral', '11': ')', '12': '.', '52': 'the', '53': 'service', '54': \"'\", '55': 's', '56': 'base', '57': 'online', '58': 'storage', '59': 'has', '60': 'been', '61': 'increased', '62': 'to', '63': '250mb', '64': ',', '65': 'e', '66': '-', '67': 'mail', '68': 'service', '69': 'has', '70': 'been', '71': 'enhanced', '72': ',', '73': 'and', '74': 'the', '75': 'cost', '76': 'of', '77': 'upgrading', '78': 'has', '79': 'been', '80': 'reduced', '81': '.'}\n",
      "Perturbed Text:   maccentral - apple has improved the services offered to subscribers of. mac. previously, the amount of storage for a basic. mac account was 100mb, with a maximum of 15mb for e - mail.. mac ' s basic subscription price remains the same - - us per year.\n",
      "perturbed probabilities:  [7.210597686935216e-05, 6.372533789544832e-06, 0.0005279835313558578, 0.9993935823440552]\n",
      "nPIR Original Class:  0.0\n"
     ]
    },
    {
     "data": {
      "text/html": [
       "<span style=\"background-color:rgba(0, 255, 255, 1)\"><b>.</b></span> <span style=\"background-color:rgba(0, 255, 255, 1)\"><b>mac</b></span> <span style=\"background-color:rgba(0, 255, 255, 1)\"><b>bumps</b></span> <span style=\"background-color:rgba(0, 255, 255, 1)\"><b>up</b></span> <span style=\"background-color:rgba(0, 255, 255, 1)\"><b>storage</b></span> <span style=\"background-color:rgba(0, 255, 255, 1)\"><b>capacity</b></span> <span style=\"background-color:rgba(0, 255, 255, 1)\"><b>,</b></span> <span style=\"background-color:rgba(0, 255, 255, 1)\"><b>improves</b></span> <span style=\"background-color:rgba(0, 255, 255, 1)\"><b>mail</b></span> <span style=\"background-color:rgba(0, 255, 255, 1)\"><b>(</b></span> <span style=\"background-color:rgba(0, 255, 255, 1)\"><b>maccentral</b></span> <span style=\"background-color:rgba(0, 255, 255, 1)\"><b>)</b></span> <span style=\"background-color:rgba(0, 255, 255, 1)\"><b>.</b></span> <span><b>maccentral</b></span> <span><b>-</b></span> <span><b>apple</b></span> <span><b>has</b></span> <span><b>improved</b></span> <span><b>the</b></span> <span><b>services</b></span> <span><b>offered</b></span> <span><b>to</b></span> <span><b>subscribers</b></span> <span><b>of</b></span> <span><b>.</b></span> <span><b>mac</b></span> <span><b>.</b></span> <span><b>previously</b></span> <span><b>,</b></span> <span><b>the</b></span> <span><b>amount</b></span> <span><b>of</b></span> <span><b>storage</b></span> <span><b>for</b></span> <span><b>a</b></span> <span><b>basic</b></span> <span><b>.</b></span> <span><b>mac</b></span> <span><b>account</b></span> <span><b>was</b></span> <span><b>100mb</b></span> <span><b>,</b></span> <span><b>with</b></span> <span><b>a</b></span> <span><b>maximum</b></span> <span><b>of</b></span> <span><b>15mb</b></span> <span><b>for</b></span> <span><b>e</b></span> <span><b>-</b></span> <span><b>mail</b></span> <span><b>.</b></span> <span style=\"background-color:rgba(0, 255, 255, 1)\"><b>the</b></span> <span style=\"background-color:rgba(0, 255, 255, 1)\"><b>service</b></span> <span style=\"background-color:rgba(0, 255, 255, 1)\"><b>'</b></span> <span style=\"background-color:rgba(0, 255, 255, 1)\"><b>s</b></span> <span style=\"background-color:rgba(0, 255, 255, 1)\"><b>base</b></span> <span style=\"background-color:rgba(0, 255, 255, 1)\"><b>online</b></span> <span style=\"background-color:rgba(0, 255, 255, 1)\"><b>storage</b></span> <span style=\"background-color:rgba(0, 255, 255, 1)\"><b>has</b></span> <span style=\"background-color:rgba(0, 255, 255, 1)\"><b>been</b></span> <span style=\"background-color:rgba(0, 255, 255, 1)\"><b>increased</b></span> <span style=\"background-color:rgba(0, 255, 255, 1)\"><b>to</b></span> <span style=\"background-color:rgba(0, 255, 255, 1)\"><b>250mb</b></span> <span style=\"background-color:rgba(0, 255, 255, 1)\"><b>,</b></span> <span style=\"background-color:rgba(0, 255, 255, 1)\"><b>e</b></span> <span style=\"background-color:rgba(0, 255, 255, 1)\"><b>-</b></span> <span style=\"background-color:rgba(0, 255, 255, 1)\"><b>mail</b></span> <span style=\"background-color:rgba(0, 255, 255, 1)\"><b>service</b></span> <span style=\"background-color:rgba(0, 255, 255, 1)\"><b>has</b></span> <span style=\"background-color:rgba(0, 255, 255, 1)\"><b>been</b></span> <span style=\"background-color:rgba(0, 255, 255, 1)\"><b>enhanced</b></span> <span style=\"background-color:rgba(0, 255, 255, 1)\"><b>,</b></span> <span style=\"background-color:rgba(0, 255, 255, 1)\"><b>and</b></span> <span style=\"background-color:rgba(0, 255, 255, 1)\"><b>the</b></span> <span style=\"background-color:rgba(0, 255, 255, 1)\"><b>cost</b></span> <span style=\"background-color:rgba(0, 255, 255, 1)\"><b>of</b></span> <span style=\"background-color:rgba(0, 255, 255, 1)\"><b>upgrading</b></span> <span style=\"background-color:rgba(0, 255, 255, 1)\"><b>has</b></span> <span style=\"background-color:rgba(0, 255, 255, 1)\"><b>been</b></span> <span style=\"background-color:rgba(0, 255, 255, 1)\"><b>reduced</b></span> <span style=\"background-color:rgba(0, 255, 255, 1)\"><b>.</b></span> <span><b>.</b></span> <span><b>mac</b></span> <span><b>'</b></span> <span><b>s</b></span> <span><b>basic</b></span> <span><b>subscription</b></span> <span><b>price</b></span> <span><b>remains</b></span> <span><b>the</b></span> <span><b>same</b></span> <span><b>-</b></span> <span><b>-</b></span> <span><b>us</b></span> <span><b>per</b></span> <span><b>year</b></span> <span><b>.</b></span> "
      ],
      "text/plain": [
       "<IPython.core.display.HTML object>"
      ]
     },
     "metadata": {},
     "output_type": "display_data"
    },
    {
     "name": "stdout",
     "output_type": "stream",
     "text": [
      "\n",
      "\n",
      "\n",
      "\n",
      "LocalExplanationId: 38, FeatureId: 10\n",
      "feature type:  SEN\n",
      "feature description:  Combination of 2° Sentence and 4° Sentence\n",
      "feature (position,token):  {'13': 'maccentral', '14': '-', '15': 'apple', '16': 'has', '17': 'improved', '18': 'the', '19': 'services', '20': 'offered', '21': 'to', '22': 'subscribers', '23': 'of', '24': '.', '25': 'mac', '26': '.', '52': 'the', '53': 'service', '54': \"'\", '55': 's', '56': 'base', '57': 'online', '58': 'storage', '59': 'has', '60': 'been', '61': 'increased', '62': 'to', '63': '250mb', '64': ',', '65': 'e', '66': '-', '67': 'mail', '68': 'service', '69': 'has', '70': 'been', '71': 'enhanced', '72': ',', '73': 'and', '74': 'the', '75': 'cost', '76': 'of', '77': 'upgrading', '78': 'has', '79': 'been', '80': 'reduced', '81': '.'}\n",
      "Perturbed Text:   . mac bumps up storage capacity, improves mail ( maccentral ). previously, the amount of storage for a basic. mac account was 100mb, with a maximum of 15mb for e - mail.. mac ' s basic subscription price remains the same - - us per year.\n",
      "perturbed probabilities:  [0.0004253162769600749, 1.6735059034544975e-05, 0.00016127005801536143, 0.9993966817855835]\n",
      "nPIR Original Class:  0.0\n"
     ]
    },
    {
     "data": {
      "text/html": [
       "<span><b>.</b></span> <span><b>mac</b></span> <span><b>bumps</b></span> <span><b>up</b></span> <span><b>storage</b></span> <span><b>capacity</b></span> <span><b>,</b></span> <span><b>improves</b></span> <span><b>mail</b></span> <span><b>(</b></span> <span><b>maccentral</b></span> <span><b>)</b></span> <span><b>.</b></span> <span style=\"background-color:rgba(0, 255, 255, 1)\"><b>maccentral</b></span> <span style=\"background-color:rgba(0, 255, 255, 1)\"><b>-</b></span> <span style=\"background-color:rgba(0, 255, 255, 1)\"><b>apple</b></span> <span style=\"background-color:rgba(0, 255, 255, 1)\"><b>has</b></span> <span style=\"background-color:rgba(0, 255, 255, 1)\"><b>improved</b></span> <span style=\"background-color:rgba(0, 255, 255, 1)\"><b>the</b></span> <span style=\"background-color:rgba(0, 255, 255, 1)\"><b>services</b></span> <span style=\"background-color:rgba(0, 255, 255, 1)\"><b>offered</b></span> <span style=\"background-color:rgba(0, 255, 255, 1)\"><b>to</b></span> <span style=\"background-color:rgba(0, 255, 255, 1)\"><b>subscribers</b></span> <span style=\"background-color:rgba(0, 255, 255, 1)\"><b>of</b></span> <span style=\"background-color:rgba(0, 255, 255, 1)\"><b>.</b></span> <span style=\"background-color:rgba(0, 255, 255, 1)\"><b>mac</b></span> <span style=\"background-color:rgba(0, 255, 255, 1)\"><b>.</b></span> <span><b>previously</b></span> <span><b>,</b></span> <span><b>the</b></span> <span><b>amount</b></span> <span><b>of</b></span> <span><b>storage</b></span> <span><b>for</b></span> <span><b>a</b></span> <span><b>basic</b></span> <span><b>.</b></span> <span><b>mac</b></span> <span><b>account</b></span> <span><b>was</b></span> <span><b>100mb</b></span> <span><b>,</b></span> <span><b>with</b></span> <span><b>a</b></span> <span><b>maximum</b></span> <span><b>of</b></span> <span><b>15mb</b></span> <span><b>for</b></span> <span><b>e</b></span> <span><b>-</b></span> <span><b>mail</b></span> <span><b>.</b></span> <span style=\"background-color:rgba(0, 255, 255, 1)\"><b>the</b></span> <span style=\"background-color:rgba(0, 255, 255, 1)\"><b>service</b></span> <span style=\"background-color:rgba(0, 255, 255, 1)\"><b>'</b></span> <span style=\"background-color:rgba(0, 255, 255, 1)\"><b>s</b></span> <span style=\"background-color:rgba(0, 255, 255, 1)\"><b>base</b></span> <span style=\"background-color:rgba(0, 255, 255, 1)\"><b>online</b></span> <span style=\"background-color:rgba(0, 255, 255, 1)\"><b>storage</b></span> <span style=\"background-color:rgba(0, 255, 255, 1)\"><b>has</b></span> <span style=\"background-color:rgba(0, 255, 255, 1)\"><b>been</b></span> <span style=\"background-color:rgba(0, 255, 255, 1)\"><b>increased</b></span> <span style=\"background-color:rgba(0, 255, 255, 1)\"><b>to</b></span> <span style=\"background-color:rgba(0, 255, 255, 1)\"><b>250mb</b></span> <span style=\"background-color:rgba(0, 255, 255, 1)\"><b>,</b></span> <span style=\"background-color:rgba(0, 255, 255, 1)\"><b>e</b></span> <span style=\"background-color:rgba(0, 255, 255, 1)\"><b>-</b></span> <span style=\"background-color:rgba(0, 255, 255, 1)\"><b>mail</b></span> <span style=\"background-color:rgba(0, 255, 255, 1)\"><b>service</b></span> <span style=\"background-color:rgba(0, 255, 255, 1)\"><b>has</b></span> <span style=\"background-color:rgba(0, 255, 255, 1)\"><b>been</b></span> <span style=\"background-color:rgba(0, 255, 255, 1)\"><b>enhanced</b></span> <span style=\"background-color:rgba(0, 255, 255, 1)\"><b>,</b></span> <span style=\"background-color:rgba(0, 255, 255, 1)\"><b>and</b></span> <span style=\"background-color:rgba(0, 255, 255, 1)\"><b>the</b></span> <span style=\"background-color:rgba(0, 255, 255, 1)\"><b>cost</b></span> <span style=\"background-color:rgba(0, 255, 255, 1)\"><b>of</b></span> <span style=\"background-color:rgba(0, 255, 255, 1)\"><b>upgrading</b></span> <span style=\"background-color:rgba(0, 255, 255, 1)\"><b>has</b></span> <span style=\"background-color:rgba(0, 255, 255, 1)\"><b>been</b></span> <span style=\"background-color:rgba(0, 255, 255, 1)\"><b>reduced</b></span> <span style=\"background-color:rgba(0, 255, 255, 1)\"><b>.</b></span> <span><b>.</b></span> <span><b>mac</b></span> <span><b>'</b></span> <span><b>s</b></span> <span><b>basic</b></span> <span><b>subscription</b></span> <span><b>price</b></span> <span><b>remains</b></span> <span><b>the</b></span> <span><b>same</b></span> <span><b>-</b></span> <span><b>-</b></span> <span><b>us</b></span> <span><b>per</b></span> <span><b>year</b></span> <span><b>.</b></span> "
      ],
      "text/plain": [
       "<IPython.core.display.HTML object>"
      ]
     },
     "metadata": {},
     "output_type": "display_data"
    },
    {
     "name": "stdout",
     "output_type": "stream",
     "text": [
      "\n",
      "\n",
      "\n",
      "\n",
      "LocalExplanationId: 36, FeatureId: 8\n",
      "feature type:  SEN\n",
      "feature description:  Combination of 1° Sentence and 5° Sentence\n",
      "feature (position,token):  {'0': '.', '1': 'mac', '2': 'bumps', '3': 'up', '4': 'storage', '5': 'capacity', '6': ',', '7': 'improves', '8': 'mail', '9': '(', '10': 'maccentral', '11': ')', '12': '.', '82': '.', '83': 'mac', '84': \"'\", '85': 's', '86': 'basic', '87': 'subscription', '88': 'price', '89': 'remains', '90': 'the', '91': 'same', '92': '-', '93': '-', '94': 'us', '95': 'per', '96': 'year', '97': '.'}\n",
      "Perturbed Text:   maccentral - apple has improved the services offered to subscribers of. mac. previously, the amount of storage for a basic. mac account was 100mb, with a maximum of 15mb for e - mail. the service ' s base online storage has been increased to 250mb, e - mail service has been enhanced, and the cost of upgrading has been reduced.\n",
      "perturbed probabilities:  [0.00016763078747317195, 8.756035640544724e-06, 0.000372912734746933, 0.9994507431983948]\n",
      "nPIR Original Class:  0.0\n"
     ]
    },
    {
     "data": {
      "text/html": [
       "<span style=\"background-color:rgba(0, 255, 255, 1)\"><b>.</b></span> <span style=\"background-color:rgba(0, 255, 255, 1)\"><b>mac</b></span> <span style=\"background-color:rgba(0, 255, 255, 1)\"><b>bumps</b></span> <span style=\"background-color:rgba(0, 255, 255, 1)\"><b>up</b></span> <span style=\"background-color:rgba(0, 255, 255, 1)\"><b>storage</b></span> <span style=\"background-color:rgba(0, 255, 255, 1)\"><b>capacity</b></span> <span style=\"background-color:rgba(0, 255, 255, 1)\"><b>,</b></span> <span style=\"background-color:rgba(0, 255, 255, 1)\"><b>improves</b></span> <span style=\"background-color:rgba(0, 255, 255, 1)\"><b>mail</b></span> <span style=\"background-color:rgba(0, 255, 255, 1)\"><b>(</b></span> <span style=\"background-color:rgba(0, 255, 255, 1)\"><b>maccentral</b></span> <span style=\"background-color:rgba(0, 255, 255, 1)\"><b>)</b></span> <span style=\"background-color:rgba(0, 255, 255, 1)\"><b>.</b></span> <span><b>maccentral</b></span> <span><b>-</b></span> <span><b>apple</b></span> <span><b>has</b></span> <span><b>improved</b></span> <span><b>the</b></span> <span><b>services</b></span> <span><b>offered</b></span> <span><b>to</b></span> <span><b>subscribers</b></span> <span><b>of</b></span> <span><b>.</b></span> <span><b>mac</b></span> <span><b>.</b></span> <span><b>previously</b></span> <span><b>,</b></span> <span><b>the</b></span> <span><b>amount</b></span> <span><b>of</b></span> <span><b>storage</b></span> <span><b>for</b></span> <span><b>a</b></span> <span><b>basic</b></span> <span><b>.</b></span> <span><b>mac</b></span> <span><b>account</b></span> <span><b>was</b></span> <span><b>100mb</b></span> <span><b>,</b></span> <span><b>with</b></span> <span><b>a</b></span> <span><b>maximum</b></span> <span><b>of</b></span> <span><b>15mb</b></span> <span><b>for</b></span> <span><b>e</b></span> <span><b>-</b></span> <span><b>mail</b></span> <span><b>.</b></span> <span><b>the</b></span> <span><b>service</b></span> <span><b>'</b></span> <span><b>s</b></span> <span><b>base</b></span> <span><b>online</b></span> <span><b>storage</b></span> <span><b>has</b></span> <span><b>been</b></span> <span><b>increased</b></span> <span><b>to</b></span> <span><b>250mb</b></span> <span><b>,</b></span> <span><b>e</b></span> <span><b>-</b></span> <span><b>mail</b></span> <span><b>service</b></span> <span><b>has</b></span> <span><b>been</b></span> <span><b>enhanced</b></span> <span><b>,</b></span> <span><b>and</b></span> <span><b>the</b></span> <span><b>cost</b></span> <span><b>of</b></span> <span><b>upgrading</b></span> <span><b>has</b></span> <span><b>been</b></span> <span><b>reduced</b></span> <span><b>.</b></span> <span style=\"background-color:rgba(0, 255, 255, 1)\"><b>.</b></span> <span style=\"background-color:rgba(0, 255, 255, 1)\"><b>mac</b></span> <span style=\"background-color:rgba(0, 255, 255, 1)\"><b>'</b></span> <span style=\"background-color:rgba(0, 255, 255, 1)\"><b>s</b></span> <span style=\"background-color:rgba(0, 255, 255, 1)\"><b>basic</b></span> <span style=\"background-color:rgba(0, 255, 255, 1)\"><b>subscription</b></span> <span style=\"background-color:rgba(0, 255, 255, 1)\"><b>price</b></span> <span style=\"background-color:rgba(0, 255, 255, 1)\"><b>remains</b></span> <span style=\"background-color:rgba(0, 255, 255, 1)\"><b>the</b></span> <span style=\"background-color:rgba(0, 255, 255, 1)\"><b>same</b></span> <span style=\"background-color:rgba(0, 255, 255, 1)\"><b>-</b></span> <span style=\"background-color:rgba(0, 255, 255, 1)\"><b>-</b></span> <span style=\"background-color:rgba(0, 255, 255, 1)\"><b>us</b></span> <span style=\"background-color:rgba(0, 255, 255, 1)\"><b>per</b></span> <span style=\"background-color:rgba(0, 255, 255, 1)\"><b>year</b></span> <span style=\"background-color:rgba(0, 255, 255, 1)\"><b>.</b></span> "
      ],
      "text/plain": [
       "<IPython.core.display.HTML object>"
      ]
     },
     "metadata": {},
     "output_type": "display_data"
    },
    {
     "name": "stdout",
     "output_type": "stream",
     "text": [
      "\n",
      "\n",
      "\n",
      "\n",
      "LocalExplanationId: 40, FeatureId: 12\n",
      "feature type:  SEN\n",
      "feature description:  Combination of 3° Sentence and 4° Sentence\n",
      "feature (position,token):  {'27': 'previously', '28': ',', '29': 'the', '30': 'amount', '31': 'of', '32': 'storage', '33': 'for', '34': 'a', '35': 'basic', '36': '.', '37': 'mac', '38': 'account', '39': 'was', '40': '100mb', '41': ',', '42': 'with', '43': 'a', '44': 'maximum', '45': 'of', '46': '15mb', '47': 'for', '48': 'e', '49': '-', '50': 'mail', '51': '.', '52': 'the', '53': 'service', '54': \"'\", '55': 's', '56': 'base', '57': 'online', '58': 'storage', '59': 'has', '60': 'been', '61': 'increased', '62': 'to', '63': '250mb', '64': ',', '65': 'e', '66': '-', '67': 'mail', '68': 'service', '69': 'has', '70': 'been', '71': 'enhanced', '72': ',', '73': 'and', '74': 'the', '75': 'cost', '76': 'of', '77': 'upgrading', '78': 'has', '79': 'been', '80': 'reduced', '81': '.'}\n",
      "Perturbed Text:   . mac bumps up storage capacity, improves mail ( maccentral ). maccentral - apple has improved the services offered to subscribers of. mac.. mac ' s basic subscription price remains the same - - us per year.\n",
      "perturbed probabilities:  [0.00042137334821745753, 1.5016084034868982e-05, 0.00010949043644359335, 0.9994540810585022]\n",
      "nPIR Original Class:  0.0\n"
     ]
    },
    {
     "data": {
      "text/html": [
       "<span><b>.</b></span> <span><b>mac</b></span> <span><b>bumps</b></span> <span><b>up</b></span> <span><b>storage</b></span> <span><b>capacity</b></span> <span><b>,</b></span> <span><b>improves</b></span> <span><b>mail</b></span> <span><b>(</b></span> <span><b>maccentral</b></span> <span><b>)</b></span> <span><b>.</b></span> <span><b>maccentral</b></span> <span><b>-</b></span> <span><b>apple</b></span> <span><b>has</b></span> <span><b>improved</b></span> <span><b>the</b></span> <span><b>services</b></span> <span><b>offered</b></span> <span><b>to</b></span> <span><b>subscribers</b></span> <span><b>of</b></span> <span><b>.</b></span> <span><b>mac</b></span> <span><b>.</b></span> <span style=\"background-color:rgba(0, 255, 255, 1)\"><b>previously</b></span> <span style=\"background-color:rgba(0, 255, 255, 1)\"><b>,</b></span> <span style=\"background-color:rgba(0, 255, 255, 1)\"><b>the</b></span> <span style=\"background-color:rgba(0, 255, 255, 1)\"><b>amount</b></span> <span style=\"background-color:rgba(0, 255, 255, 1)\"><b>of</b></span> <span style=\"background-color:rgba(0, 255, 255, 1)\"><b>storage</b></span> <span style=\"background-color:rgba(0, 255, 255, 1)\"><b>for</b></span> <span style=\"background-color:rgba(0, 255, 255, 1)\"><b>a</b></span> <span style=\"background-color:rgba(0, 255, 255, 1)\"><b>basic</b></span> <span style=\"background-color:rgba(0, 255, 255, 1)\"><b>.</b></span> <span style=\"background-color:rgba(0, 255, 255, 1)\"><b>mac</b></span> <span style=\"background-color:rgba(0, 255, 255, 1)\"><b>account</b></span> <span style=\"background-color:rgba(0, 255, 255, 1)\"><b>was</b></span> <span style=\"background-color:rgba(0, 255, 255, 1)\"><b>100mb</b></span> <span style=\"background-color:rgba(0, 255, 255, 1)\"><b>,</b></span> <span style=\"background-color:rgba(0, 255, 255, 1)\"><b>with</b></span> <span style=\"background-color:rgba(0, 255, 255, 1)\"><b>a</b></span> <span style=\"background-color:rgba(0, 255, 255, 1)\"><b>maximum</b></span> <span style=\"background-color:rgba(0, 255, 255, 1)\"><b>of</b></span> <span style=\"background-color:rgba(0, 255, 255, 1)\"><b>15mb</b></span> <span style=\"background-color:rgba(0, 255, 255, 1)\"><b>for</b></span> <span style=\"background-color:rgba(0, 255, 255, 1)\"><b>e</b></span> <span style=\"background-color:rgba(0, 255, 255, 1)\"><b>-</b></span> <span style=\"background-color:rgba(0, 255, 255, 1)\"><b>mail</b></span> <span style=\"background-color:rgba(0, 255, 255, 1)\"><b>.</b></span> <span style=\"background-color:rgba(0, 255, 255, 1)\"><b>the</b></span> <span style=\"background-color:rgba(0, 255, 255, 1)\"><b>service</b></span> <span style=\"background-color:rgba(0, 255, 255, 1)\"><b>'</b></span> <span style=\"background-color:rgba(0, 255, 255, 1)\"><b>s</b></span> <span style=\"background-color:rgba(0, 255, 255, 1)\"><b>base</b></span> <span style=\"background-color:rgba(0, 255, 255, 1)\"><b>online</b></span> <span style=\"background-color:rgba(0, 255, 255, 1)\"><b>storage</b></span> <span style=\"background-color:rgba(0, 255, 255, 1)\"><b>has</b></span> <span style=\"background-color:rgba(0, 255, 255, 1)\"><b>been</b></span> <span style=\"background-color:rgba(0, 255, 255, 1)\"><b>increased</b></span> <span style=\"background-color:rgba(0, 255, 255, 1)\"><b>to</b></span> <span style=\"background-color:rgba(0, 255, 255, 1)\"><b>250mb</b></span> <span style=\"background-color:rgba(0, 255, 255, 1)\"><b>,</b></span> <span style=\"background-color:rgba(0, 255, 255, 1)\"><b>e</b></span> <span style=\"background-color:rgba(0, 255, 255, 1)\"><b>-</b></span> <span style=\"background-color:rgba(0, 255, 255, 1)\"><b>mail</b></span> <span style=\"background-color:rgba(0, 255, 255, 1)\"><b>service</b></span> <span style=\"background-color:rgba(0, 255, 255, 1)\"><b>has</b></span> <span style=\"background-color:rgba(0, 255, 255, 1)\"><b>been</b></span> <span style=\"background-color:rgba(0, 255, 255, 1)\"><b>enhanced</b></span> <span style=\"background-color:rgba(0, 255, 255, 1)\"><b>,</b></span> <span style=\"background-color:rgba(0, 255, 255, 1)\"><b>and</b></span> <span style=\"background-color:rgba(0, 255, 255, 1)\"><b>the</b></span> <span style=\"background-color:rgba(0, 255, 255, 1)\"><b>cost</b></span> <span style=\"background-color:rgba(0, 255, 255, 1)\"><b>of</b></span> <span style=\"background-color:rgba(0, 255, 255, 1)\"><b>upgrading</b></span> <span style=\"background-color:rgba(0, 255, 255, 1)\"><b>has</b></span> <span style=\"background-color:rgba(0, 255, 255, 1)\"><b>been</b></span> <span style=\"background-color:rgba(0, 255, 255, 1)\"><b>reduced</b></span> <span style=\"background-color:rgba(0, 255, 255, 1)\"><b>.</b></span> <span><b>.</b></span> <span><b>mac</b></span> <span><b>'</b></span> <span><b>s</b></span> <span><b>basic</b></span> <span><b>subscription</b></span> <span><b>price</b></span> <span><b>remains</b></span> <span><b>the</b></span> <span><b>same</b></span> <span><b>-</b></span> <span><b>-</b></span> <span><b>us</b></span> <span><b>per</b></span> <span><b>year</b></span> <span><b>.</b></span> "
      ],
      "text/plain": [
       "<IPython.core.display.HTML object>"
      ]
     },
     "metadata": {},
     "output_type": "display_data"
    },
    {
     "name": "stdout",
     "output_type": "stream",
     "text": [
      "\n",
      "\n",
      "\n",
      "\n",
      "LocalExplanationId: 31, FeatureId: 3\n",
      "feature type:  SEN\n",
      "feature description:  4° Sentence\n",
      "feature (position,token):  {'52': 'the', '53': 'service', '54': \"'\", '55': 's', '56': 'base', '57': 'online', '58': 'storage', '59': 'has', '60': 'been', '61': 'increased', '62': 'to', '63': '250mb', '64': ',', '65': 'e', '66': '-', '67': 'mail', '68': 'service', '69': 'has', '70': 'been', '71': 'enhanced', '72': ',', '73': 'and', '74': 'the', '75': 'cost', '76': 'of', '77': 'upgrading', '78': 'has', '79': 'been', '80': 'reduced', '81': '.'}\n",
      "Perturbed Text:   . mac bumps up storage capacity, improves mail ( maccentral ). maccentral - apple has improved the services offered to subscribers of. mac. previously, the amount of storage for a basic. mac account was 100mb, with a maximum of 15mb for e - mail.. mac ' s basic subscription price remains the same - - us per year.\n",
      "perturbed probabilities:  [0.0002799734938889742, 1.4762285900360439e-05, 8.554979285690933e-05, 0.999619722366333]\n",
      "nPIR Original Class:  -0.0\n"
     ]
    },
    {
     "data": {
      "text/html": [
       "<span><b>.</b></span> <span><b>mac</b></span> <span><b>bumps</b></span> <span><b>up</b></span> <span><b>storage</b></span> <span><b>capacity</b></span> <span><b>,</b></span> <span><b>improves</b></span> <span><b>mail</b></span> <span><b>(</b></span> <span><b>maccentral</b></span> <span><b>)</b></span> <span><b>.</b></span> <span><b>maccentral</b></span> <span><b>-</b></span> <span><b>apple</b></span> <span><b>has</b></span> <span><b>improved</b></span> <span><b>the</b></span> <span><b>services</b></span> <span><b>offered</b></span> <span><b>to</b></span> <span><b>subscribers</b></span> <span><b>of</b></span> <span><b>.</b></span> <span><b>mac</b></span> <span><b>.</b></span> <span><b>previously</b></span> <span><b>,</b></span> <span><b>the</b></span> <span><b>amount</b></span> <span><b>of</b></span> <span><b>storage</b></span> <span><b>for</b></span> <span><b>a</b></span> <span><b>basic</b></span> <span><b>.</b></span> <span><b>mac</b></span> <span><b>account</b></span> <span><b>was</b></span> <span><b>100mb</b></span> <span><b>,</b></span> <span><b>with</b></span> <span><b>a</b></span> <span><b>maximum</b></span> <span><b>of</b></span> <span><b>15mb</b></span> <span><b>for</b></span> <span><b>e</b></span> <span><b>-</b></span> <span><b>mail</b></span> <span><b>.</b></span> <span style=\"background-color:rgba(0, 255, 255, 1)\"><b>the</b></span> <span style=\"background-color:rgba(0, 255, 255, 1)\"><b>service</b></span> <span style=\"background-color:rgba(0, 255, 255, 1)\"><b>'</b></span> <span style=\"background-color:rgba(0, 255, 255, 1)\"><b>s</b></span> <span style=\"background-color:rgba(0, 255, 255, 1)\"><b>base</b></span> <span style=\"background-color:rgba(0, 255, 255, 1)\"><b>online</b></span> <span style=\"background-color:rgba(0, 255, 255, 1)\"><b>storage</b></span> <span style=\"background-color:rgba(0, 255, 255, 1)\"><b>has</b></span> <span style=\"background-color:rgba(0, 255, 255, 1)\"><b>been</b></span> <span style=\"background-color:rgba(0, 255, 255, 1)\"><b>increased</b></span> <span style=\"background-color:rgba(0, 255, 255, 1)\"><b>to</b></span> <span style=\"background-color:rgba(0, 255, 255, 1)\"><b>250mb</b></span> <span style=\"background-color:rgba(0, 255, 255, 1)\"><b>,</b></span> <span style=\"background-color:rgba(0, 255, 255, 1)\"><b>e</b></span> <span style=\"background-color:rgba(0, 255, 255, 1)\"><b>-</b></span> <span style=\"background-color:rgba(0, 255, 255, 1)\"><b>mail</b></span> <span style=\"background-color:rgba(0, 255, 255, 1)\"><b>service</b></span> <span style=\"background-color:rgba(0, 255, 255, 1)\"><b>has</b></span> <span style=\"background-color:rgba(0, 255, 255, 1)\"><b>been</b></span> <span style=\"background-color:rgba(0, 255, 255, 1)\"><b>enhanced</b></span> <span style=\"background-color:rgba(0, 255, 255, 1)\"><b>,</b></span> <span style=\"background-color:rgba(0, 255, 255, 1)\"><b>and</b></span> <span style=\"background-color:rgba(0, 255, 255, 1)\"><b>the</b></span> <span style=\"background-color:rgba(0, 255, 255, 1)\"><b>cost</b></span> <span style=\"background-color:rgba(0, 255, 255, 1)\"><b>of</b></span> <span style=\"background-color:rgba(0, 255, 255, 1)\"><b>upgrading</b></span> <span style=\"background-color:rgba(0, 255, 255, 1)\"><b>has</b></span> <span style=\"background-color:rgba(0, 255, 255, 1)\"><b>been</b></span> <span style=\"background-color:rgba(0, 255, 255, 1)\"><b>reduced</b></span> <span style=\"background-color:rgba(0, 255, 255, 1)\"><b>.</b></span> <span><b>.</b></span> <span><b>mac</b></span> <span><b>'</b></span> <span><b>s</b></span> <span><b>basic</b></span> <span><b>subscription</b></span> <span><b>price</b></span> <span><b>remains</b></span> <span><b>the</b></span> <span><b>same</b></span> <span><b>-</b></span> <span><b>-</b></span> <span><b>us</b></span> <span><b>per</b></span> <span><b>year</b></span> <span><b>.</b></span> "
      ],
      "text/plain": [
       "<IPython.core.display.HTML object>"
      ]
     },
     "metadata": {},
     "output_type": "display_data"
    },
    {
     "name": "stdout",
     "output_type": "stream",
     "text": [
      "\n",
      "\n",
      "\n",
      "\n"
     ]
    }
   ],
   "source": [
    "print(\"Original Probabilities: {}\".format(input_info[\"original_probabilities\"]))\n",
    "print(\"Original label: {}\".format(input_info[\"original_label\"]))\n",
    "print(\"\\n\\n\")\n",
    "min_nPIR_sen = -1\n",
    "max_nPIR_sen = 1\n",
    "\n",
    "for le in sorted(sen_local_explanations_comb, key=lambda le: le[\"nPIR_original_top_class\"], reverse=True ):\n",
    "    if le[\"nPIR_original_top_class\"] >= min_nPIR_sen and le[\"nPIR_original_top_class\"] <= max_nPIR_sen:\n",
    "        print_local_explanation(le, input_positions_tokens)"
   ]
  },
  {
   "cell_type": "code",
   "execution_count": null,
   "metadata": {},
   "outputs": [],
   "source": []
  }
 ],
 "metadata": {
  "kernelspec": {
   "display_name": "Python 3",
   "language": "python",
   "name": "python3"
  },
  "language_info": {
   "codemirror_mode": {
    "name": "ipython",
    "version": 3
   },
   "file_extension": ".py",
   "mimetype": "text/x-python",
   "name": "python",
   "nbconvert_exporter": "python",
   "pygments_lexer": "ipython3",
   "version": "3.7.9"
  }
 },
 "nbformat": 4,
 "nbformat_minor": 4
}
