{
  "nbformat": 4,
  "nbformat_minor": 0,
  "metadata": {
    "colab": {
      "name": "T-EBANO_albert_ag_news.ipynb",
      "provenance": [],
      "collapsed_sections": []
    },
    "kernelspec": {
      "name": "python3",
      "display_name": "Python 3"
    },
    "accelerator": "GPU"
  },
  "cells": [
    {
      "cell_type": "markdown",
      "metadata": {
        "id": "XkkbQWVQQFx2"
      },
      "source": [
        "# Albert fine-tuned with Ag_News_Subset Colab\n",
        "\n",
        "This notebook load a pre-trained albert model from tf hub and run fine-tuning with ag_news_subset from tfds."
      ]
    },
    {
      "cell_type": "code",
      "metadata": {
        "id": "Mj1xJT9GilGr"
      },
      "source": [
        "import os\n",
        "import time\n",
        "import datetime\n",
        "import pandas as pd\n",
        "from tensorflow import keras\n",
        "import pickle\n",
        "import json\n",
        "import re\n",
        "import keras\n",
        "import matplotlib.pyplot as plt"
      ],
      "execution_count": 1,
      "outputs": []
    },
    {
      "cell_type": "code",
      "metadata": {
        "colab": {
          "base_uri": "https://localhost:8080/"
        },
        "id": "fQP9j1qHN86F",
        "outputId": "fafa42f6-e6f2-4605-c324-81ce633bb46e"
      },
      "source": [
        "!nvidia-smi"
      ],
      "execution_count": 2,
      "outputs": [
        {
          "output_type": "stream",
          "text": [
            "Mon Mar  1 19:48:39 2021       \n",
            "+-----------------------------------------------------------------------------+\n",
            "| NVIDIA-SMI 460.39       Driver Version: 460.32.03    CUDA Version: 11.2     |\n",
            "|-------------------------------+----------------------+----------------------+\n",
            "| GPU  Name        Persistence-M| Bus-Id        Disp.A | Volatile Uncorr. ECC |\n",
            "| Fan  Temp  Perf  Pwr:Usage/Cap|         Memory-Usage | GPU-Util  Compute M. |\n",
            "|                               |                      |               MIG M. |\n",
            "|===============================+======================+======================|\n",
            "|   0  Tesla P100-PCIE...  Off  | 00000000:00:04.0 Off |                    0 |\n",
            "| N/A   40C    P0    37W / 250W |      0MiB / 16280MiB |      0%      Default |\n",
            "|                               |                      |                  N/A |\n",
            "+-------------------------------+----------------------+----------------------+\n",
            "                                                                               \n",
            "+-----------------------------------------------------------------------------+\n",
            "| Processes:                                                                  |\n",
            "|  GPU   GI   CI        PID   Type   Process name                  GPU Memory |\n",
            "|        ID   ID                                                   Usage      |\n",
            "|=============================================================================|\n",
            "|  No running processes found                                                 |\n",
            "+-----------------------------------------------------------------------------+\n"
          ],
          "name": "stdout"
        }
      ]
    },
    {
      "cell_type": "markdown",
      "metadata": {
        "id": "3826MkooY6y5"
      },
      "source": [
        "## Install and import Tensrflow Modules"
      ]
    },
    {
      "cell_type": "markdown",
      "metadata": {
        "id": "CMo6Mg6UZXW9"
      },
      "source": [
        "Import TensorFlow and Tensorflow Hub"
      ]
    },
    {
      "cell_type": "code",
      "metadata": {
        "colab": {
          "base_uri": "https://localhost:8080/"
        },
        "id": "VGW6chMEGRyg",
        "outputId": "2565b8cf-7774-413c-d14f-8acfa71b1b2f"
      },
      "source": [
        "import tensorflow as tf\n",
        "import tensorflow_hub as hub\n",
        "print(tf.version.VERSION)"
      ],
      "execution_count": 3,
      "outputs": [
        {
          "output_type": "stream",
          "text": [
            "2.4.1\n"
          ],
          "name": "stdout"
        }
      ]
    },
    {
      "cell_type": "markdown",
      "metadata": {
        "id": "fXs79xVoZcAM"
      },
      "source": [
        "Install TensorFLow Official Models"
      ]
    },
    {
      "cell_type": "code",
      "metadata": {
        "id": "OHXoO4K04OBt"
      },
      "source": [
        "# pip install tf-models-official"
      ],
      "execution_count": 4,
      "outputs": []
    },
    {
      "cell_type": "markdown",
      "metadata": {
        "id": "pDBSGWYxPulS"
      },
      "source": [
        "## Ag_News_Subset Dataset"
      ]
    },
    {
      "cell_type": "markdown",
      "metadata": {
        "id": "jV-WeOwTQ0Cw"
      },
      "source": [
        "### Download dataset from TFDS\n",
        "\n",
        "Download the dataset from TFDS and split into train/dev/test or train/test."
      ]
    },
    {
      "cell_type": "code",
      "metadata": {
        "id": "OKcM9ZtrPRr0"
      },
      "source": [
        "import tensorflow_datasets as tfds\n",
        "\n",
        "# (train_data, test_data, dev_data), info = tfds.load('ag_news_subset',\n",
        "#                                                      split=['train[:83%]', 'train[83%:]', 'test[:100%]'],\n",
        "#                                                      as_supervised=True,\n",
        "#                                                      with_info=True\n",
        "#                                                      )\n",
        "\n",
        "(train_data, test_data), info = tfds.load('ag_news_subset',\n",
        "                                          split=['train[:100%]', 'test[:100%]'],\n",
        "                                          as_supervised=False,\n",
        "                                          with_info=True\n",
        "                                          )"
      ],
      "execution_count": 5,
      "outputs": []
    },
    {
      "cell_type": "markdown",
      "metadata": {
        "id": "MqhgvrEoRHiv"
      },
      "source": [
        "### Dataset Preprocessing"
      ]
    },
    {
      "cell_type": "markdown",
      "metadata": {
        "id": "jAH9cbwjRXxf"
      },
      "source": [
        "Convert Tensors to Pandas Dataframe"
      ]
    },
    {
      "cell_type": "code",
      "metadata": {
        "id": "qgctKUt_M6P0"
      },
      "source": [
        "df_train = tfds.as_dataframe(train_data, info)\n",
        "df_test = tfds.as_dataframe(test_data, info)"
      ],
      "execution_count": 6,
      "outputs": []
    },
    {
      "cell_type": "markdown",
      "metadata": {
        "id": "s01SBELXRpbC"
      },
      "source": [
        "Dataset Shapes and Labels Balancement"
      ]
    },
    {
      "cell_type": "code",
      "metadata": {
        "colab": {
          "base_uri": "https://localhost:8080/"
        },
        "id": "vGI_Tay_RwFG",
        "outputId": "a788e4bb-8187-4221-d848-8c72d0edd50b"
      },
      "source": [
        "df_train.shape"
      ],
      "execution_count": 7,
      "outputs": [
        {
          "output_type": "execute_result",
          "data": {
            "text/plain": [
              "(120000, 3)"
            ]
          },
          "metadata": {
            "tags": []
          },
          "execution_count": 7
        }
      ]
    },
    {
      "cell_type": "code",
      "metadata": {
        "colab": {
          "base_uri": "https://localhost:8080/",
          "height": 298
        },
        "id": "GmmAeNTSR4py",
        "outputId": "bd5796e1-c5fd-4c94-e35d-59fade0c3e7b"
      },
      "source": [
        "df_train.label.plot(kind='hist', title='Target Dristribution in Training Set')"
      ],
      "execution_count": 8,
      "outputs": [
        {
          "output_type": "execute_result",
          "data": {
            "text/plain": [
              "<matplotlib.axes._subplots.AxesSubplot at 0x7fa42d73a850>"
            ]
          },
          "metadata": {
            "tags": []
          },
          "execution_count": 8
        },
        {
          "output_type": "display_data",
          "data": {
            "image/png": "[encoded data removed]",
            "text/plain": [
              "<Figure size 432x288 with 1 Axes>"
            ]
          },
          "metadata": {
            "tags": [],
            "needs_background": "light"
          }
        }
      ]
    },
    {
      "cell_type": "code",
      "metadata": {
        "colab": {
          "base_uri": "https://localhost:8080/"
        },
        "id": "hpM-7bNsR7Nb",
        "outputId": "1c879cc3-ab5a-4dae-caa2-f1b48a5dbfd0"
      },
      "source": [
        "df_test.shape"
      ],
      "execution_count": 9,
      "outputs": [
        {
          "output_type": "execute_result",
          "data": {
            "text/plain": [
              "(7600, 3)"
            ]
          },
          "metadata": {
            "tags": []
          },
          "execution_count": 9
        }
      ]
    },
    {
      "cell_type": "code",
      "metadata": {
        "colab": {
          "base_uri": "https://localhost:8080/",
          "height": 298
        },
        "id": "hlJRwyvgSArz",
        "outputId": "86211629-0e2e-468f-f8aa-e0e6059b4142"
      },
      "source": [
        "df_test.label.plot(kind='hist', title='Target Dristribution in Test Set')"
      ],
      "execution_count": 10,
      "outputs": [
        {
          "output_type": "execute_result",
          "data": {
            "text/plain": [
              "<matplotlib.axes._subplots.AxesSubplot at 0x7fa42b958d90>"
            ]
          },
          "metadata": {
            "tags": []
          },
          "execution_count": 10
        },
        {
          "output_type": "display_data",
          "data": {
            "image/png": "[encoded data removed]",
            "text/plain": [
              "<Figure size 432x288 with 1 Axes>"
            ]
          },
          "metadata": {
            "tags": [],
            "needs_background": "light"
          }
        }
      ]
    },
    {
      "cell_type": "markdown",
      "metadata": {
        "id": "61H8BXVfSKgk"
      },
      "source": [
        "Decode `description` and `title` columns from Train and Test datasets"
      ]
    },
    {
      "cell_type": "code",
      "metadata": {
        "id": "4pQcbxxiSN2J"
      },
      "source": [
        "df_train['description'] = df_train['description'].str.decode('utf8')\n",
        "df_train['title'] = df_train['title'].str.decode('utf8')\n",
        "\n",
        "df_test['description'] = df_test['description'].str.decode('utf8')\n",
        "df_test['title'] = df_test['title'].str.decode('utf8')"
      ],
      "execution_count": 11,
      "outputs": []
    },
    {
      "cell_type": "markdown",
      "metadata": {
        "id": "4tOYWahYSwIL"
      },
      "source": [
        "Concatenate `description` and `title` columns into a new column named `text` from Train and Test datasets"
      ]
    },
    {
      "cell_type": "code",
      "metadata": {
        "id": "rYv9iygnSyJB"
      },
      "source": [
        "df_train['text'] = df_train['title'] + '. ' + df_train['description']\n",
        "df_test['text'] = df_test['title'] + '. ' + df_test['description']"
      ],
      "execution_count": 12,
      "outputs": []
    },
    {
      "cell_type": "markdown",
      "metadata": {
        "id": "d-TiJ7paTRbl"
      },
      "source": [
        "Add a new column named `id` as identifier of the input text"
      ]
    },
    {
      "cell_type": "code",
      "metadata": {
        "id": "DTgAnN2nTMhH"
      },
      "source": [
        "df_train['id'] = range(0, len(df_train))\n",
        "df_test['id'] = range(len(df_train),len(df_train)+len(df_test) )"
      ],
      "execution_count": 13,
      "outputs": []
    },
    {
      "cell_type": "markdown",
      "metadata": {
        "id": "8IaC6g13TZ5t"
      },
      "source": [
        "Select columns `id`, `text` and `label`"
      ]
    },
    {
      "cell_type": "code",
      "metadata": {
        "id": "IEO-ctDLTjpA"
      },
      "source": [
        "df_train = df_train[[\"id\",\"text\",\"label\"]]\n",
        "df_test = df_test[[\"id\",\"text\",\"label\"]]"
      ],
      "execution_count": 14,
      "outputs": []
    },
    {
      "cell_type": "markdown",
      "metadata": {
        "id": "eLqJEgh2Tyyr"
      },
      "source": [
        "Visualize first rows of the dataframe"
      ]
    },
    {
      "cell_type": "code",
      "metadata": {
        "colab": {
          "base_uri": "https://localhost:8080/",
          "height": 204
        },
        "id": "feXDJKaATy96",
        "outputId": "70928460-5396-433c-81b7-184f277e358a"
      },
      "source": [
        "df_train.head(5)"
      ],
      "execution_count": 15,
      "outputs": [
        {
          "output_type": "execute_result",
          "data": {
            "text/html": [
              "<div>\n",
              "<style scoped>\n",
              "    .dataframe tbody tr th:only-of-type {\n",
              "        vertical-align: middle;\n",
              "    }\n",
              "\n",
              "    .dataframe tbody tr th {\n",
              "        vertical-align: top;\n",
              "    }\n",
              "\n",
              "    .dataframe thead th {\n",
              "        text-align: right;\n",
              "    }\n",
              "</style>\n",
              "<table border=\"1\" class=\"dataframe\">\n",
              "  <thead>\n",
              "    <tr style=\"text-align: right;\">\n",
              "      <th></th>\n",
              "      <th>id</th>\n",
              "      <th>text</th>\n",
              "      <th>label</th>\n",
              "    </tr>\n",
              "  </thead>\n",
              "  <tbody>\n",
              "    <tr>\n",
              "      <th>0</th>\n",
              "      <td>0</td>\n",
              "      <td>AMD Debuts Dual-Core Opteron Processor. AMD #3...</td>\n",
              "      <td>3</td>\n",
              "    </tr>\n",
              "    <tr>\n",
              "      <th>1</th>\n",
              "      <td>1</td>\n",
              "      <td>Wood's Suspension Upheld (Reuters). Reuters - ...</td>\n",
              "      <td>1</td>\n",
              "    </tr>\n",
              "    <tr>\n",
              "      <th>2</th>\n",
              "      <td>2</td>\n",
              "      <td>Bush reform may have blue states seeing red. P...</td>\n",
              "      <td>2</td>\n",
              "    </tr>\n",
              "    <tr>\n",
              "      <th>3</th>\n",
              "      <td>3</td>\n",
              "      <td>'Halt science decline in schools'. Britain wil...</td>\n",
              "      <td>3</td>\n",
              "    </tr>\n",
              "    <tr>\n",
              "      <th>4</th>\n",
              "      <td>4</td>\n",
              "      <td>Gerrard leaves practice. London, England (Spor...</td>\n",
              "      <td>1</td>\n",
              "    </tr>\n",
              "  </tbody>\n",
              "</table>\n",
              "</div>"
            ],
            "text/plain": [
              "   id                                               text  label\n",
              "0   0  AMD Debuts Dual-Core Opteron Processor. AMD #3...      3\n",
              "1   1  Wood's Suspension Upheld (Reuters). Reuters - ...      1\n",
              "2   2  Bush reform may have blue states seeing red. P...      2\n",
              "3   3  'Halt science decline in schools'. Britain wil...      3\n",
              "4   4  Gerrard leaves practice. London, England (Spor...      1"
            ]
          },
          "metadata": {
            "tags": []
          },
          "execution_count": 15
        }
      ]
    },
    {
      "cell_type": "code",
      "metadata": {
        "colab": {
          "base_uri": "https://localhost:8080/",
          "height": 204
        },
        "id": "IZHotMnMT6Sw",
        "outputId": "7027c8c4-0926-4a33-9683-d3b07706eb86"
      },
      "source": [
        "df_test.head(5)"
      ],
      "execution_count": 16,
      "outputs": [
        {
          "output_type": "execute_result",
          "data": {
            "text/html": [
              "<div>\n",
              "<style scoped>\n",
              "    .dataframe tbody tr th:only-of-type {\n",
              "        vertical-align: middle;\n",
              "    }\n",
              "\n",
              "    .dataframe tbody tr th {\n",
              "        vertical-align: top;\n",
              "    }\n",
              "\n",
              "    .dataframe thead th {\n",
              "        text-align: right;\n",
              "    }\n",
              "</style>\n",
              "<table border=\"1\" class=\"dataframe\">\n",
              "  <thead>\n",
              "    <tr style=\"text-align: right;\">\n",
              "      <th></th>\n",
              "      <th>id</th>\n",
              "      <th>text</th>\n",
              "      <th>label</th>\n",
              "    </tr>\n",
              "  </thead>\n",
              "  <tbody>\n",
              "    <tr>\n",
              "      <th>0</th>\n",
              "      <td>120000</td>\n",
              "      <td>Carolina's Davis Done for the Season.  CHARLOT...</td>\n",
              "      <td>1</td>\n",
              "    </tr>\n",
              "    <tr>\n",
              "      <th>1</th>\n",
              "      <td>120001</td>\n",
              "      <td>Philippine Rebels Free Troops, Talks in Doubt....</td>\n",
              "      <td>0</td>\n",
              "    </tr>\n",
              "    <tr>\n",
              "      <th>2</th>\n",
              "      <td>120002</td>\n",
              "      <td>New Rainbow Six Franchise for Spring 2005. SAN...</td>\n",
              "      <td>3</td>\n",
              "    </tr>\n",
              "    <tr>\n",
              "      <th>3</th>\n",
              "      <td>120003</td>\n",
              "      <td>Kiwis heading for big win. DANIEL VETTORI spun...</td>\n",
              "      <td>1</td>\n",
              "    </tr>\n",
              "    <tr>\n",
              "      <th>4</th>\n",
              "      <td>120004</td>\n",
              "      <td>Shelling, shooting resumes in breakaway Georgi...</td>\n",
              "      <td>0</td>\n",
              "    </tr>\n",
              "  </tbody>\n",
              "</table>\n",
              "</div>"
            ],
            "text/plain": [
              "       id                                               text  label\n",
              "0  120000  Carolina's Davis Done for the Season.  CHARLOT...      1\n",
              "1  120001  Philippine Rebels Free Troops, Talks in Doubt....      0\n",
              "2  120002  New Rainbow Six Franchise for Spring 2005. SAN...      3\n",
              "3  120003  Kiwis heading for big win. DANIEL VETTORI spun...      1\n",
              "4  120004  Shelling, shooting resumes in breakaway Georgi...      0"
            ]
          },
          "metadata": {
            "tags": []
          },
          "execution_count": 16
        }
      ]
    },
    {
      "cell_type": "markdown",
      "metadata": {
        "id": "GDh3ZSyyVro7"
      },
      "source": [
        "Create a new dataframe as copy of the original datasets"
      ]
    },
    {
      "cell_type": "code",
      "metadata": {
        "id": "_chxObo7VvDE"
      },
      "source": [
        "df_train_cleaned = df_train.copy()\n",
        "df_test_cleaned = df_test.copy()"
      ],
      "execution_count": 17,
      "outputs": []
    },
    {
      "cell_type": "markdown",
      "metadata": {
        "id": "Q230f_edUYg7"
      },
      "source": [
        "Define a cleaning function to be applied to each input text"
      ]
    },
    {
      "cell_type": "code",
      "metadata": {
        "id": "bcEPmwqbUc2e"
      },
      "source": [
        "def clean_text(text):\n",
        "  text = re.sub(\"@\\S+\", \" \", text) # Remove Mentions\n",
        "  text = re.sub(\"https*\\S+\", \" \", text) # Remove URL\n",
        "  text = re.sub(\"#\\S+\", \" \", text) # Remove Hastags\n",
        "  text = re.sub('&lt;/?[a-z]+&gt;', '', text) # Remove special Charaters\n",
        "  text = re.sub('#39', ' ', text) # Remove special Charaters\n",
        "  text = re.sub('<.*?>', '', text) # Remove html\n",
        "  text = re.sub(' +', ' ', text) # Merge multiple blank spaces\n",
        "  return text"
      ],
      "execution_count": 18,
      "outputs": []
    },
    {
      "cell_type": "markdown",
      "metadata": {
        "id": "gP8LaeDTV6Cv"
      },
      "source": [
        "Clean the `text` column of the dataframe with the `cleaning_text` funcion defined before"
      ]
    },
    {
      "cell_type": "code",
      "metadata": {
        "id": "BTn9d2BCV38q"
      },
      "source": [
        "df_train_cleaned[\"text\"] = df_train_cleaned[\"text\"].apply(clean_text)\n",
        "df_test_cleaned[\"text\" ]= df_test_cleaned[\"text\"].apply(clean_text)"
      ],
      "execution_count": 19,
      "outputs": []
    },
    {
      "cell_type": "code",
      "metadata": {
        "colab": {
          "base_uri": "https://localhost:8080/",
          "height": 204
        },
        "id": "PZmc8ulE_ihx",
        "outputId": "39a8f484-df18-4963-fb21-0efce704a060"
      },
      "source": [
        "df_train_cleaned.head(5)"
      ],
      "execution_count": 20,
      "outputs": [
        {
          "output_type": "execute_result",
          "data": {
            "text/html": [
              "<div>\n",
              "<style scoped>\n",
              "    .dataframe tbody tr th:only-of-type {\n",
              "        vertical-align: middle;\n",
              "    }\n",
              "\n",
              "    .dataframe tbody tr th {\n",
              "        vertical-align: top;\n",
              "    }\n",
              "\n",
              "    .dataframe thead th {\n",
              "        text-align: right;\n",
              "    }\n",
              "</style>\n",
              "<table border=\"1\" class=\"dataframe\">\n",
              "  <thead>\n",
              "    <tr style=\"text-align: right;\">\n",
              "      <th></th>\n",
              "      <th>id</th>\n",
              "      <th>text</th>\n",
              "      <th>label</th>\n",
              "    </tr>\n",
              "  </thead>\n",
              "  <tbody>\n",
              "    <tr>\n",
              "      <th>0</th>\n",
              "      <td>0</td>\n",
              "      <td>AMD Debuts Dual-Core Opteron Processor. AMD ne...</td>\n",
              "      <td>3</td>\n",
              "    </tr>\n",
              "    <tr>\n",
              "      <th>1</th>\n",
              "      <td>1</td>\n",
              "      <td>Wood's Suspension Upheld (Reuters). Reuters - ...</td>\n",
              "      <td>1</td>\n",
              "    </tr>\n",
              "    <tr>\n",
              "      <th>2</th>\n",
              "      <td>2</td>\n",
              "      <td>Bush reform may have blue states seeing red. P...</td>\n",
              "      <td>2</td>\n",
              "    </tr>\n",
              "    <tr>\n",
              "      <th>3</th>\n",
              "      <td>3</td>\n",
              "      <td>'Halt science decline in schools'. Britain wil...</td>\n",
              "      <td>3</td>\n",
              "    </tr>\n",
              "    <tr>\n",
              "      <th>4</th>\n",
              "      <td>4</td>\n",
              "      <td>Gerrard leaves practice. London, England (Spor...</td>\n",
              "      <td>1</td>\n",
              "    </tr>\n",
              "  </tbody>\n",
              "</table>\n",
              "</div>"
            ],
            "text/plain": [
              "   id                                               text  label\n",
              "0   0  AMD Debuts Dual-Core Opteron Processor. AMD ne...      3\n",
              "1   1  Wood's Suspension Upheld (Reuters). Reuters - ...      1\n",
              "2   2  Bush reform may have blue states seeing red. P...      2\n",
              "3   3  'Halt science decline in schools'. Britain wil...      3\n",
              "4   4  Gerrard leaves practice. London, England (Spor...      1"
            ]
          },
          "metadata": {
            "tags": []
          },
          "execution_count": 20
        }
      ]
    },
    {
      "cell_type": "markdown",
      "metadata": {
        "id": "gYOrIkgsWdDK"
      },
      "source": [
        "Save the original dataset and the cleaned dataset"
      ]
    },
    {
      "cell_type": "code",
      "metadata": {
        "id": "L2nF6CnffV9Q"
      },
      "source": [
        "FINE_TUNING_DIR = \"/content/drive/MyDrive/saved_models/fine_tuned/ebano_albert_ag_news_subset\"\n",
        "\n",
        "DATASET_DIR = os.path.join(FINE_TUNING_DIR, \"dataset\")\n",
        "MODEL_DIR = os.path.join(FINE_TUNING_DIR, \"model\")"
      ],
      "execution_count": 21,
      "outputs": []
    },
    {
      "cell_type": "code",
      "metadata": {
        "colab": {
          "base_uri": "https://localhost:8080/"
        },
        "id": "4HDGj-MhfkyC",
        "outputId": "dd1fce64-3a35-4abb-8a08-5a90ec081c96"
      },
      "source": [
        "mkdir '$FINE_TUNING_DIR'"
      ],
      "execution_count": 22,
      "outputs": [
        {
          "output_type": "stream",
          "text": [
            "mkdir: cannot create directory ‘/content/drive/MyDrive/saved_models/fine_tuned/ebano_albert_ag_news_subset’: File exists\n"
          ],
          "name": "stdout"
        }
      ]
    },
    {
      "cell_type": "code",
      "metadata": {
        "colab": {
          "base_uri": "https://localhost:8080/"
        },
        "id": "W5pD3DmhfqmL",
        "outputId": "dabafbdb-6720-4b8d-fcf1-b130091ab31b"
      },
      "source": [
        "mkdir '$DATASET_DIR'"
      ],
      "execution_count": 23,
      "outputs": [
        {
          "output_type": "stream",
          "text": [
            "mkdir: cannot create directory ‘/content/drive/MyDrive/saved_models/fine_tuned/ebano_albert_ag_news_subset/dataset’: File exists\n"
          ],
          "name": "stdout"
        }
      ]
    },
    {
      "cell_type": "code",
      "metadata": {
        "colab": {
          "base_uri": "https://localhost:8080/"
        },
        "id": "_E4uilTCftdu",
        "outputId": "87ce170f-376b-4f40-bf98-191575d73a46"
      },
      "source": [
        "mkdir '$MODEL_DIR'"
      ],
      "execution_count": 24,
      "outputs": [
        {
          "output_type": "stream",
          "text": [
            "mkdir: cannot create directory ‘/content/drive/MyDrive/saved_models/fine_tuned/ebano_albert_ag_news_subset/model’: File exists\n"
          ],
          "name": "stdout"
        }
      ]
    },
    {
      "cell_type": "code",
      "metadata": {
        "id": "UyLm9xVyWgXr"
      },
      "source": [
        "df_train.to_csv(os.path.join(DATASET_DIR,\"df_train_original.csv\"))\n",
        "df_test.to_csv(os.path.join(DATASET_DIR,\"df_test_original.csv\"))\n",
        "\n",
        "df_train_cleaned.to_csv(os.path.join(DATASET_DIR,\"df_train_cleaned_.csv\"))\n",
        "df_test_cleaned.to_csv(os.path.join(DATASET_DIR,\"df_test_cleaned.csv\"))"
      ],
      "execution_count": 25,
      "outputs": []
    },
    {
      "cell_type": "markdown",
      "metadata": {
        "id": "p2qe9pSIW2zU"
      },
      "source": [
        "Convert train and test dataframe into tensors"
      ]
    },
    {
      "cell_type": "code",
      "metadata": {
        "id": "H0pCTtDOW8B_"
      },
      "source": [
        "train_data = tf.data.Dataset.from_tensor_slices((df_train_cleaned.text, df_train_cleaned.label))\n",
        "test_data = tf.data.Dataset.from_tensor_slices((df_test_cleaned.text, df_test_cleaned.label))"
      ],
      "execution_count": 26,
      "outputs": []
    },
    {
      "cell_type": "code",
      "metadata": {
        "id": "Ma3uFKuKr5RL"
      },
      "source": [
        "del df_train\n",
        "del df_test\n",
        "del df_train_cleaned\n",
        "del df_test_cleaned"
      ],
      "execution_count": 27,
      "outputs": []
    },
    {
      "cell_type": "markdown",
      "metadata": {
        "id": "2K8FpSvqYoZq"
      },
      "source": [
        "## AlbertModel Class"
      ]
    },
    {
      "cell_type": "code",
      "metadata": {
        "id": "n6IybfogJJ9E"
      },
      "source": [
        "from official.nlp.data import classifier_data_lib\n",
        "from official.nlp.bert import tokenization\n",
        "\n",
        "class AlbertModel:\n",
        "  def __init__(self):\n",
        "\n",
        "    self.pretrained_albert_layer = None\n",
        "    self.sp_model_file = None\n",
        "    self.tokenizer = None\n",
        "    self.num_classes = None\n",
        "    self.max_seq_length = None\n",
        "    self.label_list = None\n",
        "    self.TF_HUB_URL = \"https://tfhub.dev/tensorflow/albert_en_base/2\"\n",
        "\n",
        "\n",
        "    self.info_dict = {}\n",
        "    return\n",
        "\n",
        "  def load_pretrained_albert_tf_hub_from_url(self, url=None, trainable_flag=True):\n",
        "    if url is None:\n",
        "      url = self.TF_HUB_URL\n",
        "    self.pretrained_albert_layer = hub.KerasLayer(url, trainable=trainable_flag)\n",
        "    self.pretrained_albert_layer._name = \"albert_layer\"\n",
        "    \n",
        "    self.info_dict.update({\"trained_albert_weights\":trainable_flag})\n",
        "    return\n",
        "\n",
        "  def load_pretrained_albert_tf_hub_from_dir(self, tf_hub_model_dir):\n",
        "    self.pretrained_albert_layer = hub.KerasLayer(tf_hub_model_dir, trainable=trainable_flag)\n",
        "    self.pretrained_albert_layer._name = \"albert_layer\"\n",
        "\n",
        "    self.info_dict.update({\"trained_albert_weights\":trainable_flag})\n",
        "    return\n",
        "\n",
        "  \n",
        "  def load_model(self, model_directory):\n",
        "    # Load Tokenizer \n",
        "    with open(os.path.join(model_directory, \"albert_tokenizer.pickle\"), \"rb\") as tokenizer_file:\n",
        "        self.tokenizer = pickle.load(tokenizer_file)\n",
        "\n",
        "    # Load Model\n",
        "    self.model = keras.models.load_model(model_directory)\n",
        "\n",
        "    # Read from metadata file the max_seq_length\n",
        "    with open(os.path.join(model_directory, \"metadata\", \"experimenti_info.json\"), \"rb\") as metadata_file:\n",
        "      self.info_dict = json.load(metadata_file)\n",
        "      self.max_seq_length = self.info_dict[\"max_seq_length\"]\n",
        "\n",
        "    # Load the feature extractor (albert layer)\n",
        "    self.extractor = tf.keras.Model(inputs=self.model.inputs,\n",
        "                                    outputs=[self.model.get_layer(\"albert_layer\").output])\n",
        "\n",
        "    print(\"INFO: model loaded\")\n",
        "    self.model.summary()\n",
        "    print(\"INFO: features extractor loaded\")\n",
        "    self.extractor.summary()\n",
        "    return\n",
        "\n",
        "\n",
        "  def create_model(self, num_classes, label_list, label_names=None, dropout_percentage=0.2, max_seq_length=256):\n",
        "\n",
        "    self.num_classes = num_classes\n",
        "    self.max_seq_length = max_seq_length\n",
        "    self.label_list = label_list\n",
        "\n",
        "    if self.num_classes > 2:\n",
        "      activation_function = \"softmax\"\n",
        "    else:\n",
        "      activation_function = \"sigmoid\"\n",
        "\n",
        "    # Save parameters setting\n",
        "    self.info_dict.update({\"num_classes\":num_classes, \"label_list\":label_list, \"label_names\":label_names, \n",
        "                           \"dropout_percentage\":dropout_percentage, \"max_seq_length\":max_seq_length, \"output_activation\":activation_function})\n",
        "\n",
        "\n",
        "    # Define Albert inputs\n",
        "    input_ids = tf.keras.layers.Input(shape=(max_seq_length,), dtype=tf.int32,\n",
        "                                          name=\"input_ids\")\n",
        "    input_mask = tf.keras.layers.Input(shape=(max_seq_length,), dtype=tf.int32,\n",
        "                                      name=\"input_mask\")\n",
        "    segment_ids = tf.keras.layers.Input(shape=(max_seq_length,), dtype=tf.int32,\n",
        "                                        name=\"segment_ids\")\n",
        "    \n",
        "    albert_inputs = dict(input_word_ids=input_ids,\n",
        "                      input_mask=input_mask,\n",
        "                      input_type_ids=segment_ids)\n",
        "    \n",
        "    # Define Albert block\n",
        "    albert_outputs = self.pretrained_albert_layer(albert_inputs)\n",
        "\n",
        "    self.sp_model_file = self.pretrained_albert_layer.resolved_object.sp_model_file.asset_path.numpy()\n",
        "    self.tokenizer = tokenization.FullSentencePieceTokenizer(self.sp_model_file)\n",
        "\n",
        "    #pooled_output = albert_outputs[\"pooled_output\"]\n",
        "    #sequence_output = albert_outputs[\"sequence_output\"]\n",
        "\n",
        "    drop = tf.keras.layers.Dropout(dropout_percentage)(albert_outputs[\"pooled_output\"])\n",
        "\n",
        "    classification_output = tf.keras.layers.Dense(num_classes, activation=activation_function, name=\"classification\")(drop)\n",
        "\n",
        "    model = tf.keras.Model(\n",
        "        inputs=albert_inputs,\n",
        "        outputs=classification_output\n",
        "    )\n",
        "\n",
        "    self.model = model\n",
        "    \n",
        "    return\n",
        "\n",
        "  def fit(self, train_data, test_data, epochs, batch_size, shuffle_batch_size=10000, verbose=1, drop_remainder=False):\n",
        "\n",
        "    self.info_dict.update({\"epochs\":epochs, \"batch_size\":batch_size, \"shuffle_batch_size\":shuffle_batch_size})\n",
        "\n",
        "    with tf.device('/cpu:1'):\n",
        "          # train\n",
        "          train_data = (train_data.map(self.to_feature_map, num_parallel_calls=tf.data.experimental.AUTOTUNE)\n",
        "                                  .shuffle(shuffle_batch_size)\n",
        "                                  .batch(batch_size, drop_remainder=drop_remainder)\n",
        "                                  .prefetch(tf.data.experimental.AUTOTUNE))\n",
        "          # valid\n",
        "          test_data = (test_data.map(self.to_feature_map, num_parallel_calls=tf.data.experimental.AUTOTUNE)\n",
        "                                .batch(batch_size, drop_remainder=drop_remainder)\n",
        "                                .prefetch(tf.data.experimental.AUTOTUNE))\n",
        "\n",
        "    self.history = self.model.fit(train_data,\n",
        "                            validation_data=test_data,\n",
        "                            epochs=epochs,\n",
        "                            verbose=verbose)\n",
        "    \n",
        "    return self.history\n",
        "\n",
        "  def compile(self, learning_rate=2e-5, loss=\"Adam\", metrics=['accuracy']):\n",
        "    self.info_dict.update({\"learning_rate\":learning_rate, \"loss\":loss.__str__(), \"metrics\":metrics})\n",
        "\n",
        "    self.model.compile(optimizer=tf.keras.optimizers.Adam(learning_rate=learning_rate),\n",
        "                        loss=loss,\n",
        "                        metrics=metrics\n",
        "                        )\n",
        "\n",
        "\n",
        "    return\n",
        "\n",
        "  def to_feature(self, text, label):\n",
        "      example = classifier_data_lib.InputExample(guid=None,\n",
        "                                                  text_a=text.numpy(),\n",
        "                                                  text_b=None,\n",
        "                                                  label=label.numpy())\n",
        "\n",
        "      feature = classifier_data_lib.convert_single_example(0, example, self.label_list, self.max_seq_length, self.tokenizer)\n",
        "\n",
        "      return (feature.input_ids, feature.input_mask, feature.segment_ids, feature.label_id)\n",
        "\n",
        "  def to_feature_map(self, text, label):\n",
        "      input_ids, input_mask, segment_ids, label_id = tf.py_function(self.to_feature,\n",
        "                                                                    inp=[text, label],\n",
        "                                                                    Tout=[tf.int32, tf.int32, tf.int32, tf.int32])\n",
        "\n",
        "      input_ids.set_shape([self.max_seq_length])\n",
        "      input_mask.set_shape([self.max_seq_length])\n",
        "      segment_ids.set_shape([self.max_seq_length])\n",
        "      label_id.set_shape([])\n",
        "\n",
        "      x = {\n",
        "          'input_word_ids': input_ids,\n",
        "          'input_mask': input_mask,\n",
        "          'input_type_ids': segment_ids\n",
        "      }\n",
        "\n",
        "      return (x, label_id)\n",
        "\n",
        "  def save_model(self, folder_name, experiment_description=None):\n",
        "        if folder_name is None:\n",
        "            ts = time.time()\n",
        "            folder_name = datetime.datetime.fromtimestamp(ts).strftime('%Y%m%d_%H%M%S')\n",
        "\n",
        "        if experiment_description is None:\n",
        "            out_name = '{}_albert_model'.format(folder_name)\n",
        "        else:\n",
        "            out_name = '{}_albert_model_{}'.format(folder_name, experiment_description)\n",
        "\n",
        "        output_path = os.path.join(folder_name, out_name)\n",
        "        metadata_path = os.path.join(output_path, \"metadata\")\n",
        "        try:\n",
        "            os.mkdir(output_path)\n",
        "            os.mkdir(metadata_path)\n",
        "        except OSError:\n",
        "            print(\"Creation of the output directory %s failed\" % output_path)\n",
        "\n",
        "        # convert the history.history dict to a pandas DataFrame:\n",
        "        hist_df = pd.DataFrame(self.history.history)\n",
        "\n",
        "        # save to json:\n",
        "        hist_json_file = '{}_history.json'.format(folder_name)\n",
        "        hist_json_fie_path = os.path.join(metadata_path, hist_json_file)\n",
        "        with open(hist_json_fie_path, mode='w+') as f:\n",
        "            hist_df.to_json(f)\n",
        "\n",
        "        self.model.save(output_path)\n",
        "\n",
        "        with open(os.path.join(output_path, 'albert_tokenizer.pickle'), 'wb') as handle:\n",
        "            pickle.dump(self.tokenizer, handle, protocol=pickle.HIGHEST_PROTOCOL)\n",
        "\n",
        "        with open(os.path.join(output_path, 'metadata', 'experiment_info.json'), 'w') as fp:\n",
        "            json.dump(self.info_dict, fp)\n",
        "\n",
        "        print(\"INFO: Model saved in path: \", output_path)\n",
        "        return output_path\n",
        "\n",
        "\n",
        "  def summary(self):\n",
        "    self.model.summary()\n",
        "    return\n",
        "\n",
        "  def get_model(self):\n",
        "    return self.model\n",
        "\n",
        "  def get_tokenizer(self):\n",
        "    return self.tokenizer\n",
        "\n",
        "\n"
      ],
      "execution_count": 28,
      "outputs": []
    },
    {
      "cell_type": "markdown",
      "metadata": {
        "id": "N_ynd7ZKXTk2"
      },
      "source": [
        "## Create an instance of AlbertModel"
      ]
    },
    {
      "cell_type": "markdown",
      "metadata": {
        "id": "bmk42K7AXmVn"
      },
      "source": [
        "Define TF_HUB_URL and TF_HUB_DIR \n"
      ]
    },
    {
      "cell_type": "code",
      "metadata": {
        "id": "gi73ODYIXrll"
      },
      "source": [
        "TF_HUB_DIR = \"/content/drive/MyDrive/saved_models/pre_trained/albert_base/albert_en_base_2\"\n",
        "TF_HUB_URL = \"https://tfhub.dev/tensorflow/albert_en_base/2\""
      ],
      "execution_count": 29,
      "outputs": []
    },
    {
      "cell_type": "markdown",
      "metadata": {
        "id": "oOZg5kQAXdg2"
      },
      "source": [
        "### Optional: Download TF_HUB_MODULE\n",
        "\n",
        "Uncomment these lines if want to download and tar the TF Hub Module on local drive."
      ]
    },
    {
      "cell_type": "code",
      "metadata": {
        "id": "ydBk5ZqGXcvS"
      },
      "source": [
        "# !wget \"https://storage.googleapis.com/tfhub-modules/tensorflow/albert_en_base/2.tar.gz\""
      ],
      "execution_count": 30,
      "outputs": []
    },
    {
      "cell_type": "code",
      "metadata": {
        "id": "mo77vaLDYc2Y"
      },
      "source": [
        "# mkdir '$TF_HUB_DIR'"
      ],
      "execution_count": 31,
      "outputs": []
    },
    {
      "cell_type": "code",
      "metadata": {
        "id": "R7T2anQAYo8f"
      },
      "source": [
        "# !tar -xvf  '2.tar.gz' -C '$TF_HUB_DIR'\n"
      ],
      "execution_count": 32,
      "outputs": []
    },
    {
      "cell_type": "markdown",
      "metadata": {
        "id": "mFsmpQJWYKoM"
      },
      "source": [
        "### Define, Create and Load Model"
      ]
    },
    {
      "cell_type": "markdown",
      "metadata": {
        "id": "dQLkUoerZoSe"
      },
      "source": [
        "Define model parameters and settings"
      ]
    },
    {
      "cell_type": "code",
      "metadata": {
        "id": "DIxVeuWqZofh"
      },
      "source": [
        "LABEL_LIST = [0,1,2,3]\n",
        "LABEL_NAMES = [\"World\", \"Sport\", \"Business\", \"Sci/Tech\"]\n",
        "NUM_CLASSES = len(LABEL_LIST)\n",
        "max_seq_length = 128\n",
        "activation_function = \"softmax\"\n",
        "learning_rate = 1e-5\n",
        "dropout_perc = 0.25"
      ],
      "execution_count": 33,
      "outputs": []
    },
    {
      "cell_type": "markdown",
      "metadata": {
        "id": "uwHJYfxxZrxW"
      },
      "source": [
        "Create and instance of the AlbertModel Class"
      ]
    },
    {
      "cell_type": "code",
      "metadata": {
        "id": "sCemLL0IZ1_U"
      },
      "source": [
        "albert_model = AlbertModel()"
      ],
      "execution_count": 34,
      "outputs": []
    },
    {
      "cell_type": "markdown",
      "metadata": {
        "id": "hfku2CMpZ4Iv"
      },
      "source": [
        "Optional: Load tf_hub_module from local drive (only if previously have downloaded and unzipped in local drive)."
      ]
    },
    {
      "cell_type": "code",
      "metadata": {
        "id": "iQsfGLWUaFSp"
      },
      "source": [
        "# albert_model.load_pretrained_albert_tf_hub_from_dir(TF_HUB_DIR)"
      ],
      "execution_count": 35,
      "outputs": []
    },
    {
      "cell_type": "markdown",
      "metadata": {
        "id": "whg_7H0SaKn9"
      },
      "source": [
        "Load TF_HUB_MODULE from URL"
      ]
    },
    {
      "cell_type": "code",
      "metadata": {
        "id": "vSuJBpgKaQU6"
      },
      "source": [
        "albert_model.load_pretrained_albert_tf_hub_from_url(TF_HUB_URL)"
      ],
      "execution_count": 36,
      "outputs": []
    },
    {
      "cell_type": "markdown",
      "metadata": {
        "id": "HAi9EOOEaS1V"
      },
      "source": [
        "Create the full model and print the summary"
      ]
    },
    {
      "cell_type": "code",
      "metadata": {
        "colab": {
          "base_uri": "https://localhost:8080/"
        },
        "id": "G_9Q3TuE4ZdN",
        "outputId": "f586358b-56bc-4468-b1ea-902e8b436296"
      },
      "source": [
        "albert_model.create_model(num_classes=NUM_CLASSES, label_list=LABEL_LIST, label_names=LABEL_NAMES, dropout_percentage=dropout_percentage, max_seq_length=max_seq_length)\n",
        "albert_model.summary()"
      ],
      "execution_count": 37,
      "outputs": [
        {
          "output_type": "stream",
          "text": [
            "Model: \"model\"\n",
            "__________________________________________________________________________________________________\n",
            "Layer (type)                    Output Shape         Param #     Connected to                     \n",
            "==================================================================================================\n",
            "input_mask (InputLayer)         [(None, 256)]        0                                            \n",
            "__________________________________________________________________________________________________\n",
            "segment_ids (InputLayer)        [(None, 256)]        0                                            \n",
            "__________________________________________________________________________________________________\n",
            "input_ids (InputLayer)          [(None, 256)]        0                                            \n",
            "__________________________________________________________________________________________________\n",
            "albert_layer (KerasLayer)       {'pooled_output': (N 11683584    input_mask[0][0]                 \n",
            "                                                                 segment_ids[0][0]                \n",
            "                                                                 input_ids[0][0]                  \n",
            "__________________________________________________________________________________________________\n",
            "dropout (Dropout)               (None, 768)          0           albert_layer[0][13]              \n",
            "__________________________________________________________________________________________________\n",
            "classification (Dense)          (None, 4)            3076        dropout[0][0]                    \n",
            "==================================================================================================\n",
            "Total params: 11,686,660\n",
            "Trainable params: 11,686,660\n",
            "Non-trainable params: 0\n",
            "__________________________________________________________________________________________________\n"
          ],
          "name": "stdout"
        }
      ]
    },
    {
      "cell_type": "markdown",
      "metadata": {
        "id": "daRXuQgoag31"
      },
      "source": [
        "## Training"
      ]
    },
    {
      "cell_type": "markdown",
      "metadata": {
        "id": "Q_URxtdzajpa"
      },
      "source": [
        "### Compile the model\n",
        "Compile the model with sparse_categorical_crossentropy loss and Adam optimizer"
      ]
    },
    {
      "cell_type": "code",
      "metadata": {
        "id": "vSjTk-ZkPs7n"
      },
      "source": [
        "albert_model.compile(learning_rate=learning_rate, loss='sparse_categorical_crossentropy', metrics=['accuracy'])"
      ],
      "execution_count": 38,
      "outputs": []
    },
    {
      "cell_type": "markdown",
      "metadata": {
        "id": "omGT9b2WarhY"
      },
      "source": [
        "Define trainig parameters"
      ]
    },
    {
      "cell_type": "code",
      "metadata": {
        "id": "mlLZ0-GRavhf"
      },
      "source": [
        "EPOCHS = 3\n",
        "BATCH_SIZE = 16"
      ],
      "execution_count": 39,
      "outputs": []
    },
    {
      "cell_type": "markdown",
      "metadata": {
        "id": "_T1IpiqEayEU"
      },
      "source": [
        "### Run training\n",
        "Train the model"
      ]
    },
    {
      "cell_type": "code",
      "metadata": {
        "colab": {
          "base_uri": "https://localhost:8080/"
        },
        "id": "76oiPkJMPjMp",
        "outputId": "4afe75d3-a7f5-4934-9930-953b2af5a6b4"
      },
      "source": [
        "history = albert_model.fit(train_data, test_data, epochs=EPOCHS, batch_size=BATCH_SIZE, verbose=1)"
      ],
      "execution_count": 40,
      "outputs": [
        {
          "output_type": "stream",
          "text": [
            "Epoch 1/3\n",
            "7500/7500 [==============================] - 4584s 609ms/step - loss: 0.3986 - accuracy: 0.8642 - val_loss: 0.2919 - val_accuracy: 0.8978\n",
            "Epoch 2/3\n",
            "7500/7500 [==============================] - 4575s 609ms/step - loss: 0.2455 - accuracy: 0.9152 - val_loss: 0.3051 - val_accuracy: 0.8970\n",
            "Epoch 3/3\n",
            "7500/7500 [==============================] - 4574s 609ms/step - loss: 0.2348 - accuracy: 0.9197 - val_loss: 0.2351 - val_accuracy: 0.9203\n"
          ],
          "name": "stdout"
        }
      ]
    },
    {
      "cell_type": "markdown",
      "metadata": {
        "id": "8X-Qym8dbg22"
      },
      "source": [
        "### Plot loss and accuracy"
      ]
    },
    {
      "cell_type": "markdown",
      "metadata": {
        "id": "3jEdtZW-a3Uj"
      },
      "source": [
        "Define plot_history function"
      ]
    },
    {
      "cell_type": "code",
      "metadata": {
        "id": "KwrXnBj-a11_"
      },
      "source": [
        "def plot_history(history):\n",
        "  acc = history.history['accuracy']\n",
        "  val_acc = history.history['val_accuracy']\n",
        "  loss = history.history['loss']\n",
        "  val_loss = history.history['val_loss']\n",
        "\n",
        "  epochs = range(1,len(acc) +1)\n",
        "\n",
        "  plt.plot(epochs,acc, 'bo' , label=\"Training acc\")\n",
        "  plt.plot(epochs,val_acc, 'b' , label=\"Validation acc\")\n",
        "  plt.title(\"Training and validation accuracy\")\n",
        "  plt.legend()\n",
        "\n",
        "  plt.figure()\n",
        "\n",
        "  plt.plot(epochs,loss, 'bo' , label=\"Training loss\")\n",
        "  plt.plot(epochs,val_loss, 'b' , label=\"Validation loss\")\n",
        "  plt.title(\"Training and validation loss\")\n",
        "  plt.legend()\n",
        "\n",
        "  plt.show()\n",
        "  return"
      ],
      "execution_count": 41,
      "outputs": []
    },
    {
      "cell_type": "markdown",
      "metadata": {
        "id": "4jTy9Lf6bUPP"
      },
      "source": [
        "Plot accuracy and loss"
      ]
    },
    {
      "cell_type": "code",
      "metadata": {
        "colab": {
          "base_uri": "https://localhost:8080/",
          "height": 545
        },
        "id": "6N13gFwhbHjb",
        "outputId": "f6826767-6331-40df-d5a0-b48650b16b98"
      },
      "source": [
        "plot_history(history)"
      ],
      "execution_count": 42,
      "outputs": [
        {
          "output_type": "display_data",
          "data": {
            "image/png": "[encoded data removed]",
            "text/plain": [
              "<Figure size 432x288 with 1 Axes>"
            ]
          },
          "metadata": {
            "tags": [],
            "needs_background": "light"
          }
        },
        {
          "output_type": "display_data",
          "data": {
            "image/png": "[encoded data removed]",
            "text/plain": [
              "<Figure size 432x288 with 1 Axes>"
            ]
          },
          "metadata": {
            "tags": [],
            "needs_background": "light"
          }
        }
      ]
    },
    {
      "cell_type": "markdown",
      "metadata": {
        "id": "exArq8qfbbCY"
      },
      "source": [
        "## Save Model"
      ]
    },
    {
      "cell_type": "code",
      "metadata": {
        "colab": {
          "base_uri": "https://localhost:8080/",
          "height": 140
        },
        "id": "dk6u6nYVGqU3",
        "outputId": "a416e23e-8735-478c-f96e-879b6d5c599d"
      },
      "source": [
        "albert_model.save_model(MODEL_DIR)"
      ],
      "execution_count": 43,
      "outputs": [
        {
          "output_type": "stream",
          "text": [
            "WARNING:absl:Found untraced functions such as restored_function_body, restored_function_body, restored_function_body, restored_function_body, restored_function_body while saving (showing 5 of 85). These functions will not be directly callable after loading.\n",
            "WARNING:absl:Found untraced functions such as restored_function_body, restored_function_body, restored_function_body, restored_function_body, restored_function_body while saving (showing 5 of 85). These functions will not be directly callable after loading.\n"
          ],
          "name": "stderr"
        },
        {
          "output_type": "stream",
          "text": [
            "INFO:tensorflow:Assets written to: /content/drive/MyDrive/saved_models/fine_tuned/ebano_albert_ag_news_subset/model_albert_model/assets\n"
          ],
          "name": "stdout"
        },
        {
          "output_type": "stream",
          "text": [
            "INFO:tensorflow:Assets written to: /content/drive/MyDrive/saved_models/fine_tuned/ebano_albert_ag_news_subset/model_albert_model/assets\n"
          ],
          "name": "stderr"
        },
        {
          "output_type": "stream",
          "text": [
            "INFO: Model saved in path:  /content/drive/MyDrive/saved_models/fine_tuned/ebano_albert_ag_news_subset/model_albert_model\n"
          ],
          "name": "stdout"
        },
        {
          "output_type": "execute_result",
          "data": {
            "application/vnd.google.colaboratory.intrinsic+json": {
              "type": "string"
            },
            "text/plain": [
              "'/content/drive/MyDrive/saved_models/fine_tuned/ebano_albert_ag_news_subset/model_albert_model'"
            ]
          },
          "metadata": {
            "tags": []
          },
          "execution_count": 43
        }
      ]
    },
    {
      "cell_type": "code",
      "metadata": {
        "id": "GYY9b_r3g_QP"
      },
      "source": [
        ""
      ],
      "execution_count": 43,
      "outputs": []
    }
  ]
}