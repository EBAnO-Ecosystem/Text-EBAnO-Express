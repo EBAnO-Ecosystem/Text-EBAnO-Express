{
 "cells": [
  {
   "cell_type": "code",
   "execution_count": 1,
   "metadata": {},
   "outputs": [],
   "source": [
    "from IPython.display import display,HTML,clear_output\n",
    "import json"
   ]
  },
  {
   "cell_type": "markdown",
   "metadata": {},
   "source": [
    "# Read explanation report"
   ]
  },
  {
   "cell_type": "code",
   "execution_count": 2,
   "metadata": {},
   "outputs": [],
   "source": [
    "explanation_report_filepath = \"/Users/salvatore/PycharmProjects/T-EBAnO-Express/outputs/20201117_bert_model_imdb_reviews_exp_0/local_explanations_experiments/20201206_121122/local_explanations/local_explanation_report_4.json\""
   ]
  },
  {
   "cell_type": "code",
   "execution_count": 3,
   "metadata": {},
   "outputs": [],
   "source": [
    "with open(explanation_report_filepath) as json_file:\n",
    "    explanation_report = json.load(json_file)"
   ]
  },
  {
   "cell_type": "markdown",
   "metadata": {},
   "source": [
    "# Parse explanation report"
   ]
  },
  {
   "cell_type": "code",
   "execution_count": 4,
   "metadata": {},
   "outputs": [],
   "source": [
    "input_info = explanation_report[\"input_info\"]\n",
    "input_positions_tokens = input_info[\"positions_tokens\"]\n",
    "raw_text = input_info[\"raw_text\"]\n",
    "cleaned_text = input_info[\"cleaned_text\"]\n",
    "preprocessed_text = input_info[\"preprocessed_text\"]"
   ]
  },
  {
   "cell_type": "code",
   "execution_count": 5,
   "metadata": {},
   "outputs": [],
   "source": [
    "pos_local_explanations = []  # pos features without combinations\n",
    "sen_local_explanations = []  # sen features without combinations\n",
    "mlwe_local_explanations = []  # mlwe features without combinations\n",
    "pos_local_explanations_comb = []  # All pos features (also combinations)\n",
    "sen_local_explanations_comb = []  # All sen features (also combinations)\n",
    "mlwe_local_explanations_comb = []  # All mlwe features (also combinations)\n",
    "\n",
    "for le in explanation_report[\"local_explanations\"]:\n",
    "    if le[\"feature_type\"] == \"POS\" and le[\"combination\"] == 1:\n",
    "        pos_local_explanations.append(le)\n",
    "    if le[\"feature_type\"] == \"SEN\" and le[\"combination\"] == 1:\n",
    "        sen_local_explanations.append(le)\n",
    "    if le[\"feature_type\"] == \"MLWE\" and le[\"combination\"] == 1:\n",
    "        mlwe_local_explanations.append(le)\n",
    "    if le[\"feature_type\"] == \"POS\":\n",
    "        pos_local_explanations_comb.append(le)\n",
    "    if le[\"feature_type\"] == \"SEN\":  \n",
    "        sen_local_explanations_comb.append(le)\n",
    "    if le[\"feature_type\"] == \"MLWE\":\n",
    "        mlwe_local_explanations_comb.append(le)\n",
    "        "
   ]
  },
  {
   "cell_type": "code",
   "execution_count": 6,
   "metadata": {},
   "outputs": [],
   "source": [
    "pos_positions_tokens_score = {} # Dictionary for pos features with position as key and as value the tuple (token, nPIR)\n",
    "sen_positions_tokens_score = {}#  Dictionary for sen features with position as key and as value the tuple (token, nPIR)\n",
    "mlwe_positions_tokens_score = {} # Dictionary for mlwe features with position as key and as value the tuple (token, nPIR)\n",
    "\n",
    "for le in pos_local_explanations:\n",
    "    for position, token in le[\"positions_tokens\"].items():\n",
    "        pos_positions_tokens_score[position] = (token, round(le[\"nPIR_original_top_class\"],4))\n",
    "        \n",
    "for le in sen_local_explanations:\n",
    "    for position, token in le[\"positions_tokens\"].items():\n",
    "        sen_positions_tokens_score[position] = (token, round(le[\"nPIR_original_top_class\"],4))\n",
    "\n",
    "for le in mlwe_local_explanations:\n",
    "    for position, token in le[\"positions_tokens\"].items():\n",
    "        mlwe_positions_tokens_score[position] = (token, round(le[\"nPIR_original_top_class\"],4))\n",
    "    "
   ]
  },
  {
   "cell_type": "markdown",
   "metadata": {},
   "source": [
    "# Utility functions\n"
   ]
  },
  {
   "cell_type": "code",
   "execution_count": 7,
   "metadata": {},
   "outputs": [],
   "source": [
    " def label_name(label):\n",
    "    return [\"Negative\",\"Positive\"][label]\n",
    "\n",
    "def get_summary_string(position_token_score):\n",
    "    positive_color = \"background-color:#00FF00\"\n",
    "    negative_color = \"background-color:#FF00FF\"\n",
    "    html_string = \"\"\n",
    "\n",
    "    for position in sorted(position_token_score.keys(), key=lambda k: int(k)):\n",
    "        token_score = position_token_score[position]\n",
    "        if token_score[1] >= 0:\n",
    "            positive_color = \"background-color:rgba(124, 252, 0, {})\".format(token_score[1])\n",
    "            html_string = html_string + '<span style=\"{}\"><b>{}</b></span> '.format(positive_color,token_score[0])\n",
    "        else:\n",
    "            negative_color = \"background-color:rgba(255, 99, 71, {})\".format(token_score[1])\n",
    "            html_string = html_string + '<span style=\"{}\"><b>{}</b></span> '.format(negative_color,token_score[0])\n",
    "            \n",
    "    return html_string\n",
    "\n",
    "def get_feature_colored_html_string(input_positions_tokens, feature_positions_tokens):\n",
    "    html_string = \"\"\n",
    "    feature_color = \"background-color:rgba(0, 255, 255, 1)\"\n",
    "    for position in range(len(input_positions_tokens)):\n",
    "        if str(position) in feature_positions_tokens:\n",
    "            html_string = html_string + '<span style=\"{}\"><b>{}</b></span> '.format(feature_color,input_positions_tokens[position])\n",
    "        else:\n",
    "            html_string = html_string + '<span><b>{}</b></span> '.format(input_positions_tokens[position])\n",
    "    return html_string\n",
    "    \n",
    "\n",
    "def print_local_explanation(le, input_positions_tokens):\n",
    "    if len(le[\"positions_tokens\"]) == 0:\n",
    "        return\n",
    "    print(\"LocalExplanationId: {}, FeatureId: {}\".format(le[\"local_explanation_id\"], le[\"feature_id\"]))\n",
    "    print(\"feature type: \",le[\"feature_type\"])\n",
    "    print(\"feature description: \", le[\"feature_description\"])\n",
    "    print(\"feature (position,token): \" ,le[\"positions_tokens\"])\n",
    "    print(\"Perturbed Text:  \",le[\"perturbed_text\"])\n",
    "    print(\"perturbed probabilities: \",le[\"perturbed_probabilities\"])\n",
    "    print(\"nPIR Original Class: \" ,round(le[\"nPIR_original_top_class\"],3))\n",
    "    display(HTML(get_feature_colored_html_string(input_positions_tokens,le[\"positions_tokens\"])))\n",
    "    print(\"\\n\")\n",
    "    print(\"\\n\")\n",
    "    return"
   ]
  },
  {
   "cell_type": "code",
   "execution_count": 8,
   "metadata": {
    "scrolled": false
   },
   "outputs": [
    {
     "data": {
      "text/html": [
       "<h1>Input Text info</h1>"
      ],
      "text/plain": [
       "<IPython.core.display.HTML object>"
      ]
     },
     "metadata": {},
     "output_type": "display_data"
    },
    {
     "data": {
      "text/html": [
       "Raw Text:   <b>I saw this movie many years ago, and just for kicks decided to rent it and watch it again. The plot is a carbon copy from Fright Night. I did like the hairy vampire and the bug eating driver. Otherwise it was not good at all. </b>"
      ],
      "text/plain": [
       "<IPython.core.display.HTML object>"
      ]
     },
     "metadata": {},
     "output_type": "display_data"
    },
    {
     "data": {
      "text/html": [
       "Clean Text:   <b>I saw this movie many years ago, and just for kicks decided to rent it and watch it again. The plot is a carbon copy from Fright Night. I did like the hairy vampire and the bug eating driver. Otherwise it was not good at all. </b>"
      ],
      "text/plain": [
       "<IPython.core.display.HTML object>"
      ]
     },
     "metadata": {},
     "output_type": "display_data"
    },
    {
     "data": {
      "text/html": [
       "Preprocessed Text:   <b>i saw this movie many years ago , and just for kicks decided to rent it and watch it again . the plot is a carbon copy from fright night . i did like the hairy vampire and the bug eating driver . otherwise it was not good at all . </b>"
      ],
      "text/plain": [
       "<IPython.core.display.HTML object>"
      ]
     },
     "metadata": {},
     "output_type": "display_data"
    }
   ],
   "source": [
    "display(HTML('<h1>Input Text info</h1>'))\n",
    "display(HTML('Raw Text:   <b>{} </b>'.format(raw_text)))\n",
    "display(HTML('Clean Text:   <b>{} </b>'.format(cleaned_text)))\n",
    "display(HTML('Preprocessed Text:   <b>{} </b>'.format(preprocessed_text)))"
   ]
  },
  {
   "cell_type": "code",
   "execution_count": 9,
   "metadata": {
    "scrolled": false
   },
   "outputs": [
    {
     "data": {
      "text/html": [
       "<h1>Multi-Layer Word Embedding Features Summary</h1>"
      ],
      "text/plain": [
       "<IPython.core.display.HTML object>"
      ]
     },
     "metadata": {},
     "output_type": "display_data"
    },
    {
     "data": {
      "text/html": [
       "Predicted Class: <b>Negative </b>"
      ],
      "text/plain": [
       "<IPython.core.display.HTML object>"
      ]
     },
     "metadata": {},
     "output_type": "display_data"
    },
    {
     "data": {
      "text/html": [
       "Original Probability: <b>[0.9990951418876648, 0.0009048581123352051] </b>"
      ],
      "text/plain": [
       "<IPython.core.display.HTML object>"
      ]
     },
     "metadata": {},
     "output_type": "display_data"
    },
    {
     "data": {
      "text/html": [
       "<span style=\"background-color:rgba(124, 252, 0, 0.0006)\"><b>i</b></span> <span style=\"background-color:rgba(124, 252, 0, 0.0006)\"><b>saw</b></span> <span style=\"background-color:rgba(124, 252, 0, 0.9285)\"><b>this</b></span> <span style=\"background-color:rgba(124, 252, 0, 0.9285)\"><b>movie</b></span> <span style=\"background-color:rgba(124, 252, 0, 0.0006)\"><b>many</b></span> <span style=\"background-color:rgba(124, 252, 0, 0.0006)\"><b>years</b></span> <span style=\"background-color:rgba(124, 252, 0, 0.0006)\"><b>ago</b></span> <span style=\"background-color:rgba(124, 252, 0, 0.0006)\"><b>,</b></span> <span style=\"background-color:rgba(124, 252, 0, 0.0006)\"><b>and</b></span> <span style=\"background-color:rgba(124, 252, 0, 0.9285)\"><b>just</b></span> <span style=\"background-color:rgba(124, 252, 0, 0.9285)\"><b>for</b></span> <span style=\"background-color:rgba(124, 252, 0, 0.9285)\"><b>kicks</b></span> <span style=\"background-color:rgba(124, 252, 0, 0.9285)\"><b>decided</b></span> <span style=\"background-color:rgba(124, 252, 0, 0.9285)\"><b>to</b></span> <span style=\"background-color:rgba(124, 252, 0, 0.9285)\"><b>rent</b></span> <span style=\"background-color:rgba(124, 252, 0, 0.9285)\"><b>it</b></span> <span style=\"background-color:rgba(124, 252, 0, 0.9285)\"><b>and</b></span> <span style=\"background-color:rgba(124, 252, 0, 0.9285)\"><b>watch</b></span> <span style=\"background-color:rgba(124, 252, 0, 0.9285)\"><b>it</b></span> <span style=\"background-color:rgba(124, 252, 0, 0.0006)\"><b>again</b></span> <span style=\"background-color:rgba(124, 252, 0, 0.0006)\"><b>.</b></span> <span style=\"background-color:rgba(124, 252, 0, 0.9285)\"><b>the</b></span> <span style=\"background-color:rgba(124, 252, 0, 0.9285)\"><b>plot</b></span> <span style=\"background-color:rgba(124, 252, 0, 0.9285)\"><b>is</b></span> <span style=\"background-color:rgba(124, 252, 0, 0.9285)\"><b>a</b></span> <span style=\"background-color:rgba(124, 252, 0, 0.9285)\"><b>carbon</b></span> <span style=\"background-color:rgba(124, 252, 0, 0.9285)\"><b>copy</b></span> <span style=\"background-color:rgba(124, 252, 0, 0.9285)\"><b>from</b></span> <span style=\"background-color:rgba(124, 252, 0, 0.9285)\"><b>fright</b></span> <span style=\"background-color:rgba(255, 99, 71, -0.0003)\"><b>night</b></span> <span style=\"background-color:rgba(124, 252, 0, 0.0006)\"><b>.</b></span> <span style=\"background-color:rgba(124, 252, 0, 0.9285)\"><b>i</b></span> <span style=\"background-color:rgba(124, 252, 0, 0.9285)\"><b>did</b></span> <span style=\"background-color:rgba(124, 252, 0, 0.9285)\"><b>like</b></span> <span style=\"background-color:rgba(255, 99, 71, -0.0003)\"><b>the</b></span> <span style=\"background-color:rgba(255, 99, 71, -0.0003)\"><b>hairy</b></span> <span style=\"background-color:rgba(255, 99, 71, -0.0003)\"><b>vampire</b></span> <span style=\"background-color:rgba(255, 99, 71, -0.0003)\"><b>and</b></span> <span style=\"background-color:rgba(255, 99, 71, -0.0003)\"><b>the</b></span> <span style=\"background-color:rgba(255, 99, 71, -0.0003)\"><b>bug</b></span> <span style=\"background-color:rgba(255, 99, 71, -0.0003)\"><b>eating</b></span> <span style=\"background-color:rgba(255, 99, 71, -0.0003)\"><b>driver</b></span> <span style=\"background-color:rgba(124, 252, 0, 0.0006)\"><b>.</b></span> <span style=\"background-color:rgba(124, 252, 0, 0.9285)\"><b>otherwise</b></span> <span style=\"background-color:rgba(124, 252, 0, 0.9285)\"><b>it</b></span> <span style=\"background-color:rgba(124, 252, 0, 0.9285)\"><b>was</b></span> <span style=\"background-color:rgba(124, 252, 0, 0.9285)\"><b>not</b></span> <span style=\"background-color:rgba(124, 252, 0, 0.9285)\"><b>good</b></span> <span style=\"background-color:rgba(124, 252, 0, 0.9285)\"><b>at</b></span> <span style=\"background-color:rgba(124, 252, 0, 0.9285)\"><b>all</b></span> <span style=\"background-color:rgba(124, 252, 0, 0.0006)\"><b>.</b></span> "
      ],
      "text/plain": [
       "<IPython.core.display.HTML object>"
      ]
     },
     "metadata": {},
     "output_type": "display_data"
    },
    {
     "data": {
      "text/html": [
       "(Features are highlighted in green if are positively influential for the predicted class, red otherwise. The intensity of the color is proportional to the nPIR score obtained by the word.) "
      ],
      "text/plain": [
       "<IPython.core.display.HTML object>"
      ]
     },
     "metadata": {},
     "output_type": "display_data"
    }
   ],
   "source": [
    "display(HTML('<h1>Multi-Layer Word Embedding Features Summary</h1>'))\n",
    "display(HTML('Predicted Class: <b>{} </b>'.format(label_name(input_info[\"original_label\"]))))\n",
    "display(HTML('Original Probability: <b>{} </b>'.format(input_info[\"original_probabilities\"])))\n",
    "\n",
    "html_string = get_summary_string(mlwe_positions_tokens_score)\n",
    "        \n",
    "display(HTML(html_string))\n",
    "\n",
    "display(HTML('(Features are highlighted in green if are positively influential for the predicted class, red otherwise. The intensity of the color is proportional to the nPIR score obtained by the word.) '))  \n"
   ]
  },
  {
   "cell_type": "markdown",
   "metadata": {},
   "source": [
    "# MLWE Most influential feature\n",
    "\n",
    "Feature with highest nPIR "
   ]
  },
  {
   "cell_type": "code",
   "execution_count": 10,
   "metadata": {
    "scrolled": false
   },
   "outputs": [
    {
     "name": "stdout",
     "output_type": "stream",
     "text": [
      "LocalExplanationId: 41, FeatureId: 3\n",
      "feature type:  MLWE\n",
      "feature description:  Combination of Cluster 0 and Cluster 1\n",
      "feature (position,token):  {'2': 'this', '3': 'movie', '9': 'just', '10': 'for', '11': 'kicks', '12': 'decided', '13': 'to', '14': 'rent', '15': 'it', '16': 'and', '17': 'watch', '18': 'it', '21': 'the', '22': 'plot', '23': 'is', '24': 'a', '25': 'carbon', '26': 'copy', '27': 'from', '28': 'fright', '31': 'i', '32': 'did', '33': 'like', '43': 'otherwise', '44': 'it', '45': 'was', '46': 'not', '47': 'good', '48': 'at', '49': 'all', '29': 'night', '34': 'the', '35': 'hairy', '36': 'vampire', '37': 'and', '38': 'the', '39': 'bug', '40': 'eating', '41': 'driver'}\n",
      "Perturbed Text:   i saw many years ago, and again....\n",
      "perturbed probabilities:  [0.004752695560455322, 0.9952473044395447]\n",
      "nPIR Original Class:  0.995\n"
     ]
    },
    {
     "data": {
      "text/html": [
       "<span><b>i</b></span> <span><b>saw</b></span> <span style=\"background-color:rgba(0, 255, 255, 1)\"><b>this</b></span> <span style=\"background-color:rgba(0, 255, 255, 1)\"><b>movie</b></span> <span><b>many</b></span> <span><b>years</b></span> <span><b>ago</b></span> <span><b>,</b></span> <span><b>and</b></span> <span style=\"background-color:rgba(0, 255, 255, 1)\"><b>just</b></span> <span style=\"background-color:rgba(0, 255, 255, 1)\"><b>for</b></span> <span style=\"background-color:rgba(0, 255, 255, 1)\"><b>kicks</b></span> <span style=\"background-color:rgba(0, 255, 255, 1)\"><b>decided</b></span> <span style=\"background-color:rgba(0, 255, 255, 1)\"><b>to</b></span> <span style=\"background-color:rgba(0, 255, 255, 1)\"><b>rent</b></span> <span style=\"background-color:rgba(0, 255, 255, 1)\"><b>it</b></span> <span style=\"background-color:rgba(0, 255, 255, 1)\"><b>and</b></span> <span style=\"background-color:rgba(0, 255, 255, 1)\"><b>watch</b></span> <span style=\"background-color:rgba(0, 255, 255, 1)\"><b>it</b></span> <span><b>again</b></span> <span><b>.</b></span> <span style=\"background-color:rgba(0, 255, 255, 1)\"><b>the</b></span> <span style=\"background-color:rgba(0, 255, 255, 1)\"><b>plot</b></span> <span style=\"background-color:rgba(0, 255, 255, 1)\"><b>is</b></span> <span style=\"background-color:rgba(0, 255, 255, 1)\"><b>a</b></span> <span style=\"background-color:rgba(0, 255, 255, 1)\"><b>carbon</b></span> <span style=\"background-color:rgba(0, 255, 255, 1)\"><b>copy</b></span> <span style=\"background-color:rgba(0, 255, 255, 1)\"><b>from</b></span> <span style=\"background-color:rgba(0, 255, 255, 1)\"><b>fright</b></span> <span style=\"background-color:rgba(0, 255, 255, 1)\"><b>night</b></span> <span><b>.</b></span> <span style=\"background-color:rgba(0, 255, 255, 1)\"><b>i</b></span> <span style=\"background-color:rgba(0, 255, 255, 1)\"><b>did</b></span> <span style=\"background-color:rgba(0, 255, 255, 1)\"><b>like</b></span> <span style=\"background-color:rgba(0, 255, 255, 1)\"><b>the</b></span> <span style=\"background-color:rgba(0, 255, 255, 1)\"><b>hairy</b></span> <span style=\"background-color:rgba(0, 255, 255, 1)\"><b>vampire</b></span> <span style=\"background-color:rgba(0, 255, 255, 1)\"><b>and</b></span> <span style=\"background-color:rgba(0, 255, 255, 1)\"><b>the</b></span> <span style=\"background-color:rgba(0, 255, 255, 1)\"><b>bug</b></span> <span style=\"background-color:rgba(0, 255, 255, 1)\"><b>eating</b></span> <span style=\"background-color:rgba(0, 255, 255, 1)\"><b>driver</b></span> <span><b>.</b></span> <span style=\"background-color:rgba(0, 255, 255, 1)\"><b>otherwise</b></span> <span style=\"background-color:rgba(0, 255, 255, 1)\"><b>it</b></span> <span style=\"background-color:rgba(0, 255, 255, 1)\"><b>was</b></span> <span style=\"background-color:rgba(0, 255, 255, 1)\"><b>not</b></span> <span style=\"background-color:rgba(0, 255, 255, 1)\"><b>good</b></span> <span style=\"background-color:rgba(0, 255, 255, 1)\"><b>at</b></span> <span style=\"background-color:rgba(0, 255, 255, 1)\"><b>all</b></span> <span><b>.</b></span> "
      ],
      "text/plain": [
       "<IPython.core.display.HTML object>"
      ]
     },
     "metadata": {},
     "output_type": "display_data"
    },
    {
     "name": "stdout",
     "output_type": "stream",
     "text": [
      "\n",
      "\n",
      "\n",
      "\n"
     ]
    }
   ],
   "source": [
    "most_influnetial_mlwe_feature =max(mlwe_local_explanations_comb, key= lambda le: le[\"nPIR_original_top_class\"])\n",
    "print_local_explanation(most_influnetial_mlwe_feature,input_positions_tokens)"
   ]
  },
  {
   "cell_type": "markdown",
   "metadata": {},
   "source": [
    "<h2>Query Multi-Layer Word Embedding features</h2>"
   ]
  },
  {
   "cell_type": "code",
   "execution_count": 11,
   "metadata": {
    "scrolled": false
   },
   "outputs": [
    {
     "name": "stdout",
     "output_type": "stream",
     "text": [
      "Original Probabilities: [0.9990951418876648, 0.0009048581123352051]\n",
      "Original label: 0\n",
      "\n",
      "\n",
      "\n",
      "LocalExplanationId: 41, FeatureId: 3\n",
      "feature type:  MLWE\n",
      "feature description:  Combination of Cluster 0 and Cluster 1\n",
      "feature (position,token):  {'2': 'this', '3': 'movie', '9': 'just', '10': 'for', '11': 'kicks', '12': 'decided', '13': 'to', '14': 'rent', '15': 'it', '16': 'and', '17': 'watch', '18': 'it', '21': 'the', '22': 'plot', '23': 'is', '24': 'a', '25': 'carbon', '26': 'copy', '27': 'from', '28': 'fright', '31': 'i', '32': 'did', '33': 'like', '43': 'otherwise', '44': 'it', '45': 'was', '46': 'not', '47': 'good', '48': 'at', '49': 'all', '29': 'night', '34': 'the', '35': 'hairy', '36': 'vampire', '37': 'and', '38': 'the', '39': 'bug', '40': 'eating', '41': 'driver'}\n",
      "Perturbed Text:   i saw many years ago, and again....\n",
      "perturbed probabilities:  [0.004752695560455322, 0.9952473044395447]\n",
      "nPIR Original Class:  0.995\n"
     ]
    },
    {
     "data": {
      "text/html": [
       "<span><b>i</b></span> <span><b>saw</b></span> <span style=\"background-color:rgba(0, 255, 255, 1)\"><b>this</b></span> <span style=\"background-color:rgba(0, 255, 255, 1)\"><b>movie</b></span> <span><b>many</b></span> <span><b>years</b></span> <span><b>ago</b></span> <span><b>,</b></span> <span><b>and</b></span> <span style=\"background-color:rgba(0, 255, 255, 1)\"><b>just</b></span> <span style=\"background-color:rgba(0, 255, 255, 1)\"><b>for</b></span> <span style=\"background-color:rgba(0, 255, 255, 1)\"><b>kicks</b></span> <span style=\"background-color:rgba(0, 255, 255, 1)\"><b>decided</b></span> <span style=\"background-color:rgba(0, 255, 255, 1)\"><b>to</b></span> <span style=\"background-color:rgba(0, 255, 255, 1)\"><b>rent</b></span> <span style=\"background-color:rgba(0, 255, 255, 1)\"><b>it</b></span> <span style=\"background-color:rgba(0, 255, 255, 1)\"><b>and</b></span> <span style=\"background-color:rgba(0, 255, 255, 1)\"><b>watch</b></span> <span style=\"background-color:rgba(0, 255, 255, 1)\"><b>it</b></span> <span><b>again</b></span> <span><b>.</b></span> <span style=\"background-color:rgba(0, 255, 255, 1)\"><b>the</b></span> <span style=\"background-color:rgba(0, 255, 255, 1)\"><b>plot</b></span> <span style=\"background-color:rgba(0, 255, 255, 1)\"><b>is</b></span> <span style=\"background-color:rgba(0, 255, 255, 1)\"><b>a</b></span> <span style=\"background-color:rgba(0, 255, 255, 1)\"><b>carbon</b></span> <span style=\"background-color:rgba(0, 255, 255, 1)\"><b>copy</b></span> <span style=\"background-color:rgba(0, 255, 255, 1)\"><b>from</b></span> <span style=\"background-color:rgba(0, 255, 255, 1)\"><b>fright</b></span> <span style=\"background-color:rgba(0, 255, 255, 1)\"><b>night</b></span> <span><b>.</b></span> <span style=\"background-color:rgba(0, 255, 255, 1)\"><b>i</b></span> <span style=\"background-color:rgba(0, 255, 255, 1)\"><b>did</b></span> <span style=\"background-color:rgba(0, 255, 255, 1)\"><b>like</b></span> <span style=\"background-color:rgba(0, 255, 255, 1)\"><b>the</b></span> <span style=\"background-color:rgba(0, 255, 255, 1)\"><b>hairy</b></span> <span style=\"background-color:rgba(0, 255, 255, 1)\"><b>vampire</b></span> <span style=\"background-color:rgba(0, 255, 255, 1)\"><b>and</b></span> <span style=\"background-color:rgba(0, 255, 255, 1)\"><b>the</b></span> <span style=\"background-color:rgba(0, 255, 255, 1)\"><b>bug</b></span> <span style=\"background-color:rgba(0, 255, 255, 1)\"><b>eating</b></span> <span style=\"background-color:rgba(0, 255, 255, 1)\"><b>driver</b></span> <span><b>.</b></span> <span style=\"background-color:rgba(0, 255, 255, 1)\"><b>otherwise</b></span> <span style=\"background-color:rgba(0, 255, 255, 1)\"><b>it</b></span> <span style=\"background-color:rgba(0, 255, 255, 1)\"><b>was</b></span> <span style=\"background-color:rgba(0, 255, 255, 1)\"><b>not</b></span> <span style=\"background-color:rgba(0, 255, 255, 1)\"><b>good</b></span> <span style=\"background-color:rgba(0, 255, 255, 1)\"><b>at</b></span> <span style=\"background-color:rgba(0, 255, 255, 1)\"><b>all</b></span> <span><b>.</b></span> "
      ],
      "text/plain": [
       "<IPython.core.display.HTML object>"
      ]
     },
     "metadata": {},
     "output_type": "display_data"
    },
    {
     "name": "stdout",
     "output_type": "stream",
     "text": [
      "\n",
      "\n",
      "\n",
      "\n",
      "LocalExplanationId: 38, FeatureId: 0\n",
      "feature type:  MLWE\n",
      "feature description:  Cluster 0\n",
      "feature (position,token):  {'2': 'this', '3': 'movie', '9': 'just', '10': 'for', '11': 'kicks', '12': 'decided', '13': 'to', '14': 'rent', '15': 'it', '16': 'and', '17': 'watch', '18': 'it', '21': 'the', '22': 'plot', '23': 'is', '24': 'a', '25': 'carbon', '26': 'copy', '27': 'from', '28': 'fright', '31': 'i', '32': 'did', '33': 'like', '43': 'otherwise', '44': 'it', '45': 'was', '46': 'not', '47': 'good', '48': 'at', '49': 'all'}\n",
      "Perturbed Text:   i saw many years ago, and again. night. the hairy vampire and the bug eating driver..\n",
      "perturbed probabilities:  [0.07169586420059204, 0.928304135799408]\n",
      "nPIR Original Class:  0.929\n"
     ]
    },
    {
     "data": {
      "text/html": [
       "<span><b>i</b></span> <span><b>saw</b></span> <span style=\"background-color:rgba(0, 255, 255, 1)\"><b>this</b></span> <span style=\"background-color:rgba(0, 255, 255, 1)\"><b>movie</b></span> <span><b>many</b></span> <span><b>years</b></span> <span><b>ago</b></span> <span><b>,</b></span> <span><b>and</b></span> <span style=\"background-color:rgba(0, 255, 255, 1)\"><b>just</b></span> <span style=\"background-color:rgba(0, 255, 255, 1)\"><b>for</b></span> <span style=\"background-color:rgba(0, 255, 255, 1)\"><b>kicks</b></span> <span style=\"background-color:rgba(0, 255, 255, 1)\"><b>decided</b></span> <span style=\"background-color:rgba(0, 255, 255, 1)\"><b>to</b></span> <span style=\"background-color:rgba(0, 255, 255, 1)\"><b>rent</b></span> <span style=\"background-color:rgba(0, 255, 255, 1)\"><b>it</b></span> <span style=\"background-color:rgba(0, 255, 255, 1)\"><b>and</b></span> <span style=\"background-color:rgba(0, 255, 255, 1)\"><b>watch</b></span> <span style=\"background-color:rgba(0, 255, 255, 1)\"><b>it</b></span> <span><b>again</b></span> <span><b>.</b></span> <span style=\"background-color:rgba(0, 255, 255, 1)\"><b>the</b></span> <span style=\"background-color:rgba(0, 255, 255, 1)\"><b>plot</b></span> <span style=\"background-color:rgba(0, 255, 255, 1)\"><b>is</b></span> <span style=\"background-color:rgba(0, 255, 255, 1)\"><b>a</b></span> <span style=\"background-color:rgba(0, 255, 255, 1)\"><b>carbon</b></span> <span style=\"background-color:rgba(0, 255, 255, 1)\"><b>copy</b></span> <span style=\"background-color:rgba(0, 255, 255, 1)\"><b>from</b></span> <span style=\"background-color:rgba(0, 255, 255, 1)\"><b>fright</b></span> <span><b>night</b></span> <span><b>.</b></span> <span style=\"background-color:rgba(0, 255, 255, 1)\"><b>i</b></span> <span style=\"background-color:rgba(0, 255, 255, 1)\"><b>did</b></span> <span style=\"background-color:rgba(0, 255, 255, 1)\"><b>like</b></span> <span><b>the</b></span> <span><b>hairy</b></span> <span><b>vampire</b></span> <span><b>and</b></span> <span><b>the</b></span> <span><b>bug</b></span> <span><b>eating</b></span> <span><b>driver</b></span> <span><b>.</b></span> <span style=\"background-color:rgba(0, 255, 255, 1)\"><b>otherwise</b></span> <span style=\"background-color:rgba(0, 255, 255, 1)\"><b>it</b></span> <span style=\"background-color:rgba(0, 255, 255, 1)\"><b>was</b></span> <span style=\"background-color:rgba(0, 255, 255, 1)\"><b>not</b></span> <span style=\"background-color:rgba(0, 255, 255, 1)\"><b>good</b></span> <span style=\"background-color:rgba(0, 255, 255, 1)\"><b>at</b></span> <span style=\"background-color:rgba(0, 255, 255, 1)\"><b>all</b></span> <span><b>.</b></span> "
      ],
      "text/plain": [
       "<IPython.core.display.HTML object>"
      ]
     },
     "metadata": {},
     "output_type": "display_data"
    },
    {
     "name": "stdout",
     "output_type": "stream",
     "text": [
      "\n",
      "\n",
      "\n",
      "\n",
      "LocalExplanationId: 42, FeatureId: 4\n",
      "feature type:  MLWE\n",
      "feature description:  Combination of Cluster 0 and Cluster 2\n",
      "feature (position,token):  {'2': 'this', '3': 'movie', '9': 'just', '10': 'for', '11': 'kicks', '12': 'decided', '13': 'to', '14': 'rent', '15': 'it', '16': 'and', '17': 'watch', '18': 'it', '21': 'the', '22': 'plot', '23': 'is', '24': 'a', '25': 'carbon', '26': 'copy', '27': 'from', '28': 'fright', '31': 'i', '32': 'did', '33': 'like', '43': 'otherwise', '44': 'it', '45': 'was', '46': 'not', '47': 'good', '48': 'at', '49': 'all', '0': 'i', '1': 'saw', '4': 'many', '5': 'years', '6': 'ago', '7': ',', '8': 'and', '19': 'again', '20': '.', '30': '.', '42': '.', '50': '.'}\n",
      "Perturbed Text:   night the hairy vampire and the bug eating driver\n",
      "perturbed probabilities:  [0.5541527271270752, 0.4458473026752472]\n",
      "nPIR Original Class:  0.512\n"
     ]
    },
    {
     "data": {
      "text/html": [
       "<span style=\"background-color:rgba(0, 255, 255, 1)\"><b>i</b></span> <span style=\"background-color:rgba(0, 255, 255, 1)\"><b>saw</b></span> <span style=\"background-color:rgba(0, 255, 255, 1)\"><b>this</b></span> <span style=\"background-color:rgba(0, 255, 255, 1)\"><b>movie</b></span> <span style=\"background-color:rgba(0, 255, 255, 1)\"><b>many</b></span> <span style=\"background-color:rgba(0, 255, 255, 1)\"><b>years</b></span> <span style=\"background-color:rgba(0, 255, 255, 1)\"><b>ago</b></span> <span style=\"background-color:rgba(0, 255, 255, 1)\"><b>,</b></span> <span style=\"background-color:rgba(0, 255, 255, 1)\"><b>and</b></span> <span style=\"background-color:rgba(0, 255, 255, 1)\"><b>just</b></span> <span style=\"background-color:rgba(0, 255, 255, 1)\"><b>for</b></span> <span style=\"background-color:rgba(0, 255, 255, 1)\"><b>kicks</b></span> <span style=\"background-color:rgba(0, 255, 255, 1)\"><b>decided</b></span> <span style=\"background-color:rgba(0, 255, 255, 1)\"><b>to</b></span> <span style=\"background-color:rgba(0, 255, 255, 1)\"><b>rent</b></span> <span style=\"background-color:rgba(0, 255, 255, 1)\"><b>it</b></span> <span style=\"background-color:rgba(0, 255, 255, 1)\"><b>and</b></span> <span style=\"background-color:rgba(0, 255, 255, 1)\"><b>watch</b></span> <span style=\"background-color:rgba(0, 255, 255, 1)\"><b>it</b></span> <span style=\"background-color:rgba(0, 255, 255, 1)\"><b>again</b></span> <span style=\"background-color:rgba(0, 255, 255, 1)\"><b>.</b></span> <span style=\"background-color:rgba(0, 255, 255, 1)\"><b>the</b></span> <span style=\"background-color:rgba(0, 255, 255, 1)\"><b>plot</b></span> <span style=\"background-color:rgba(0, 255, 255, 1)\"><b>is</b></span> <span style=\"background-color:rgba(0, 255, 255, 1)\"><b>a</b></span> <span style=\"background-color:rgba(0, 255, 255, 1)\"><b>carbon</b></span> <span style=\"background-color:rgba(0, 255, 255, 1)\"><b>copy</b></span> <span style=\"background-color:rgba(0, 255, 255, 1)\"><b>from</b></span> <span style=\"background-color:rgba(0, 255, 255, 1)\"><b>fright</b></span> <span><b>night</b></span> <span style=\"background-color:rgba(0, 255, 255, 1)\"><b>.</b></span> <span style=\"background-color:rgba(0, 255, 255, 1)\"><b>i</b></span> <span style=\"background-color:rgba(0, 255, 255, 1)\"><b>did</b></span> <span style=\"background-color:rgba(0, 255, 255, 1)\"><b>like</b></span> <span><b>the</b></span> <span><b>hairy</b></span> <span><b>vampire</b></span> <span><b>and</b></span> <span><b>the</b></span> <span><b>bug</b></span> <span><b>eating</b></span> <span><b>driver</b></span> <span style=\"background-color:rgba(0, 255, 255, 1)\"><b>.</b></span> <span style=\"background-color:rgba(0, 255, 255, 1)\"><b>otherwise</b></span> <span style=\"background-color:rgba(0, 255, 255, 1)\"><b>it</b></span> <span style=\"background-color:rgba(0, 255, 255, 1)\"><b>was</b></span> <span style=\"background-color:rgba(0, 255, 255, 1)\"><b>not</b></span> <span style=\"background-color:rgba(0, 255, 255, 1)\"><b>good</b></span> <span style=\"background-color:rgba(0, 255, 255, 1)\"><b>at</b></span> <span style=\"background-color:rgba(0, 255, 255, 1)\"><b>all</b></span> <span style=\"background-color:rgba(0, 255, 255, 1)\"><b>.</b></span> "
      ],
      "text/plain": [
       "<IPython.core.display.HTML object>"
      ]
     },
     "metadata": {},
     "output_type": "display_data"
    },
    {
     "name": "stdout",
     "output_type": "stream",
     "text": [
      "\n",
      "\n",
      "\n",
      "\n",
      "LocalExplanationId: 43, FeatureId: 5\n",
      "feature type:  MLWE\n",
      "feature description:  Combination of Cluster 1 and Cluster 2\n",
      "feature (position,token):  {'29': 'night', '34': 'the', '35': 'hairy', '36': 'vampire', '37': 'and', '38': 'the', '39': 'bug', '40': 'eating', '41': 'driver', '0': 'i', '1': 'saw', '4': 'many', '5': 'years', '6': 'ago', '7': ',', '8': 'and', '19': 'again', '20': '.', '30': '.', '42': '.', '50': '.'}\n",
      "Perturbed Text:   this movie just for kicks decided to rent it and watch it the plot is a carbon copy from fright i did like otherwise it was not good at all\n",
      "perturbed probabilities:  [0.9985443353652954, 0.0014556348323822021]\n",
      "nPIR Original Class:  0.001\n"
     ]
    },
    {
     "data": {
      "text/html": [
       "<span style=\"background-color:rgba(0, 255, 255, 1)\"><b>i</b></span> <span style=\"background-color:rgba(0, 255, 255, 1)\"><b>saw</b></span> <span><b>this</b></span> <span><b>movie</b></span> <span style=\"background-color:rgba(0, 255, 255, 1)\"><b>many</b></span> <span style=\"background-color:rgba(0, 255, 255, 1)\"><b>years</b></span> <span style=\"background-color:rgba(0, 255, 255, 1)\"><b>ago</b></span> <span style=\"background-color:rgba(0, 255, 255, 1)\"><b>,</b></span> <span style=\"background-color:rgba(0, 255, 255, 1)\"><b>and</b></span> <span><b>just</b></span> <span><b>for</b></span> <span><b>kicks</b></span> <span><b>decided</b></span> <span><b>to</b></span> <span><b>rent</b></span> <span><b>it</b></span> <span><b>and</b></span> <span><b>watch</b></span> <span><b>it</b></span> <span style=\"background-color:rgba(0, 255, 255, 1)\"><b>again</b></span> <span style=\"background-color:rgba(0, 255, 255, 1)\"><b>.</b></span> <span><b>the</b></span> <span><b>plot</b></span> <span><b>is</b></span> <span><b>a</b></span> <span><b>carbon</b></span> <span><b>copy</b></span> <span><b>from</b></span> <span><b>fright</b></span> <span style=\"background-color:rgba(0, 255, 255, 1)\"><b>night</b></span> <span style=\"background-color:rgba(0, 255, 255, 1)\"><b>.</b></span> <span><b>i</b></span> <span><b>did</b></span> <span><b>like</b></span> <span style=\"background-color:rgba(0, 255, 255, 1)\"><b>the</b></span> <span style=\"background-color:rgba(0, 255, 255, 1)\"><b>hairy</b></span> <span style=\"background-color:rgba(0, 255, 255, 1)\"><b>vampire</b></span> <span style=\"background-color:rgba(0, 255, 255, 1)\"><b>and</b></span> <span style=\"background-color:rgba(0, 255, 255, 1)\"><b>the</b></span> <span style=\"background-color:rgba(0, 255, 255, 1)\"><b>bug</b></span> <span style=\"background-color:rgba(0, 255, 255, 1)\"><b>eating</b></span> <span style=\"background-color:rgba(0, 255, 255, 1)\"><b>driver</b></span> <span style=\"background-color:rgba(0, 255, 255, 1)\"><b>.</b></span> <span><b>otherwise</b></span> <span><b>it</b></span> <span><b>was</b></span> <span><b>not</b></span> <span><b>good</b></span> <span><b>at</b></span> <span><b>all</b></span> <span style=\"background-color:rgba(0, 255, 255, 1)\"><b>.</b></span> "
      ],
      "text/plain": [
       "<IPython.core.display.HTML object>"
      ]
     },
     "metadata": {},
     "output_type": "display_data"
    },
    {
     "name": "stdout",
     "output_type": "stream",
     "text": [
      "\n",
      "\n",
      "\n",
      "\n",
      "LocalExplanationId: 40, FeatureId: 2\n",
      "feature type:  MLWE\n",
      "feature description:  Cluster 2\n",
      "feature (position,token):  {'0': 'i', '1': 'saw', '4': 'many', '5': 'years', '6': 'ago', '7': ',', '8': 'and', '19': 'again', '20': '.', '30': '.', '42': '.', '50': '.'}\n",
      "Perturbed Text:   this movie just for kicks decided to rent it and watch it the plot is a carbon copy from fright night i did like the hairy vampire and the bug eating driver otherwise it was not good at all\n",
      "perturbed probabilities:  [0.9987757802009583, 0.001224219799041748]\n",
      "nPIR Original Class:  0.001\n"
     ]
    },
    {
     "data": {
      "text/html": [
       "<span style=\"background-color:rgba(0, 255, 255, 1)\"><b>i</b></span> <span style=\"background-color:rgba(0, 255, 255, 1)\"><b>saw</b></span> <span><b>this</b></span> <span><b>movie</b></span> <span style=\"background-color:rgba(0, 255, 255, 1)\"><b>many</b></span> <span style=\"background-color:rgba(0, 255, 255, 1)\"><b>years</b></span> <span style=\"background-color:rgba(0, 255, 255, 1)\"><b>ago</b></span> <span style=\"background-color:rgba(0, 255, 255, 1)\"><b>,</b></span> <span style=\"background-color:rgba(0, 255, 255, 1)\"><b>and</b></span> <span><b>just</b></span> <span><b>for</b></span> <span><b>kicks</b></span> <span><b>decided</b></span> <span><b>to</b></span> <span><b>rent</b></span> <span><b>it</b></span> <span><b>and</b></span> <span><b>watch</b></span> <span><b>it</b></span> <span style=\"background-color:rgba(0, 255, 255, 1)\"><b>again</b></span> <span style=\"background-color:rgba(0, 255, 255, 1)\"><b>.</b></span> <span><b>the</b></span> <span><b>plot</b></span> <span><b>is</b></span> <span><b>a</b></span> <span><b>carbon</b></span> <span><b>copy</b></span> <span><b>from</b></span> <span><b>fright</b></span> <span><b>night</b></span> <span style=\"background-color:rgba(0, 255, 255, 1)\"><b>.</b></span> <span><b>i</b></span> <span><b>did</b></span> <span><b>like</b></span> <span><b>the</b></span> <span><b>hairy</b></span> <span><b>vampire</b></span> <span><b>and</b></span> <span><b>the</b></span> <span><b>bug</b></span> <span><b>eating</b></span> <span><b>driver</b></span> <span style=\"background-color:rgba(0, 255, 255, 1)\"><b>.</b></span> <span><b>otherwise</b></span> <span><b>it</b></span> <span><b>was</b></span> <span><b>not</b></span> <span><b>good</b></span> <span><b>at</b></span> <span><b>all</b></span> <span style=\"background-color:rgba(0, 255, 255, 1)\"><b>.</b></span> "
      ],
      "text/plain": [
       "<IPython.core.display.HTML object>"
      ]
     },
     "metadata": {},
     "output_type": "display_data"
    },
    {
     "name": "stdout",
     "output_type": "stream",
     "text": [
      "\n",
      "\n",
      "\n",
      "\n",
      "LocalExplanationId: 39, FeatureId: 1\n",
      "feature type:  MLWE\n",
      "feature description:  Cluster 1\n",
      "feature (position,token):  {'29': 'night', '34': 'the', '35': 'hairy', '36': 'vampire', '37': 'and', '38': 'the', '39': 'bug', '40': 'eating', '41': 'driver'}\n",
      "Perturbed Text:   i saw this movie many years ago, and just for kicks decided to rent it and watch it again. the plot is a carbon copy from fright. i did like. otherwise it was not good at all.\n",
      "perturbed probabilities:  [0.999262809753418, 0.0007371902465820312]\n",
      "nPIR Original Class:  -0.0\n"
     ]
    },
    {
     "data": {
      "text/html": [
       "<span><b>i</b></span> <span><b>saw</b></span> <span><b>this</b></span> <span><b>movie</b></span> <span><b>many</b></span> <span><b>years</b></span> <span><b>ago</b></span> <span><b>,</b></span> <span><b>and</b></span> <span><b>just</b></span> <span><b>for</b></span> <span><b>kicks</b></span> <span><b>decided</b></span> <span><b>to</b></span> <span><b>rent</b></span> <span><b>it</b></span> <span><b>and</b></span> <span><b>watch</b></span> <span><b>it</b></span> <span><b>again</b></span> <span><b>.</b></span> <span><b>the</b></span> <span><b>plot</b></span> <span><b>is</b></span> <span><b>a</b></span> <span><b>carbon</b></span> <span><b>copy</b></span> <span><b>from</b></span> <span><b>fright</b></span> <span style=\"background-color:rgba(0, 255, 255, 1)\"><b>night</b></span> <span><b>.</b></span> <span><b>i</b></span> <span><b>did</b></span> <span><b>like</b></span> <span style=\"background-color:rgba(0, 255, 255, 1)\"><b>the</b></span> <span style=\"background-color:rgba(0, 255, 255, 1)\"><b>hairy</b></span> <span style=\"background-color:rgba(0, 255, 255, 1)\"><b>vampire</b></span> <span style=\"background-color:rgba(0, 255, 255, 1)\"><b>and</b></span> <span style=\"background-color:rgba(0, 255, 255, 1)\"><b>the</b></span> <span style=\"background-color:rgba(0, 255, 255, 1)\"><b>bug</b></span> <span style=\"background-color:rgba(0, 255, 255, 1)\"><b>eating</b></span> <span style=\"background-color:rgba(0, 255, 255, 1)\"><b>driver</b></span> <span><b>.</b></span> <span><b>otherwise</b></span> <span><b>it</b></span> <span><b>was</b></span> <span><b>not</b></span> <span><b>good</b></span> <span><b>at</b></span> <span><b>all</b></span> <span><b>.</b></span> "
      ],
      "text/plain": [
       "<IPython.core.display.HTML object>"
      ]
     },
     "metadata": {},
     "output_type": "display_data"
    },
    {
     "name": "stdout",
     "output_type": "stream",
     "text": [
      "\n",
      "\n",
      "\n",
      "\n"
     ]
    }
   ],
   "source": [
    "print(\"Original Probabilities: {}\".format(input_info[\"original_probabilities\"]))\n",
    "print(\"Original label: {}\".format(input_info[\"original_label\"]))\n",
    "print(\"\\n\\n\")\n",
    "min_nPIR_mlwe = -1\n",
    "max_nPIR_mlwe = 1\n",
    "\n",
    "for le in sorted(mlwe_local_explanations_comb, key=lambda le: le[\"nPIR_original_top_class\"], reverse=True ):\n",
    "    if le[\"nPIR_original_top_class\"] >= min_nPIR_mlwe and le[\"nPIR_original_top_class\"] <= max_nPIR_mlwe:\n",
    "        print_local_explanation(le, input_positions_tokens)\n",
    "        "
   ]
  },
  {
   "cell_type": "code",
   "execution_count": 12,
   "metadata": {
    "scrolled": false
   },
   "outputs": [
    {
     "data": {
      "text/html": [
       "<h1>Parts-of-speech Features Summary</h1>"
      ],
      "text/plain": [
       "<IPython.core.display.HTML object>"
      ]
     },
     "metadata": {},
     "output_type": "display_data"
    },
    {
     "data": {
      "text/html": [
       "<b>Predicted Class: Negative </b>"
      ],
      "text/plain": [
       "<IPython.core.display.HTML object>"
      ]
     },
     "metadata": {},
     "output_type": "display_data"
    },
    {
     "data": {
      "text/html": [
       "<b>Original Probability: [0.9990951418876648, 0.0009048581123352051] </b>"
      ],
      "text/plain": [
       "<IPython.core.display.HTML object>"
      ]
     },
     "metadata": {},
     "output_type": "display_data"
    },
    {
     "data": {
      "text/html": [
       "<span style=\"background-color:rgba(124, 252, 0, 0.0199)\"><b>i</b></span> <span style=\"background-color:rgba(255, 99, 71, -0.0006)\"><b>saw</b></span> <span style=\"background-color:rgba(124, 252, 0, 0.0199)\"><b>movie</b></span> <span style=\"background-color:rgba(124, 252, 0, 0.0049)\"><b>many</b></span> <span style=\"background-color:rgba(124, 252, 0, 0.0199)\"><b>years</b></span> <span style=\"background-color:rgba(124, 252, 0, 0.9351)\"><b>ago</b></span> <span style=\"background-color:rgba(124, 252, 0, 0.9351)\"><b>just</b></span> <span style=\"background-color:rgba(124, 252, 0, 0.0199)\"><b>kicks</b></span> <span style=\"background-color:rgba(255, 99, 71, -0.0006)\"><b>decided</b></span> <span style=\"background-color:rgba(255, 99, 71, -0.0006)\"><b>rent</b></span> <span style=\"background-color:rgba(124, 252, 0, 0.0007)\"><b>it</b></span> <span style=\"background-color:rgba(255, 99, 71, -0.0006)\"><b>watch</b></span> <span style=\"background-color:rgba(124, 252, 0, 0.0007)\"><b>it</b></span> <span style=\"background-color:rgba(124, 252, 0, 0.9351)\"><b>again</b></span> <span style=\"background-color:rgba(124, 252, 0, 0.0199)\"><b>plot</b></span> <span style=\"background-color:rgba(255, 99, 71, -0.0006)\"><b>is</b></span> <span style=\"background-color:rgba(124, 252, 0, 0.0199)\"><b>carbon</b></span> <span style=\"background-color:rgba(124, 252, 0, 0.0199)\"><b>copy</b></span> <span style=\"background-color:rgba(124, 252, 0, 0.0049)\"><b>fright</b></span> <span style=\"background-color:rgba(124, 252, 0, 0.0199)\"><b>night</b></span> <span style=\"background-color:rgba(124, 252, 0, 0.0199)\"><b>i</b></span> <span style=\"background-color:rgba(255, 99, 71, -0.0006)\"><b>did</b></span> <span style=\"background-color:rgba(124, 252, 0, 0.0199)\"><b>hairy</b></span> <span style=\"background-color:rgba(124, 252, 0, 0.0199)\"><b>vampire</b></span> <span style=\"background-color:rgba(124, 252, 0, 0.0199)\"><b>bug</b></span> <span style=\"background-color:rgba(255, 99, 71, -0.0006)\"><b>eating</b></span> <span style=\"background-color:rgba(124, 252, 0, 0.0199)\"><b>driver</b></span> <span style=\"background-color:rgba(255, 99, 71, -0.0006)\"><b>otherwise</b></span> <span style=\"background-color:rgba(124, 252, 0, 0.0007)\"><b>it</b></span> <span style=\"background-color:rgba(255, 99, 71, -0.0006)\"><b>was</b></span> <span style=\"background-color:rgba(124, 252, 0, 0.9351)\"><b>not</b></span> <span style=\"background-color:rgba(124, 252, 0, 0.0049)\"><b>good</b></span> "
      ],
      "text/plain": [
       "<IPython.core.display.HTML object>"
      ]
     },
     "metadata": {},
     "output_type": "display_data"
    },
    {
     "data": {
      "text/html": [
       "(Features are highlighted in green if are positively influential for the predicted class, red otherwise. The intensity of the color is proportional to the nPIR score obtained by the word.) "
      ],
      "text/plain": [
       "<IPython.core.display.HTML object>"
      ]
     },
     "metadata": {},
     "output_type": "display_data"
    }
   ],
   "source": [
    "display(HTML('<h1>Parts-of-speech Features Summary</h1>'))\n",
    "display(HTML('<b>Predicted Class: {} </b>'.format(label_name(input_info[\"original_label\"]))))\n",
    "display(HTML('<b>Original Probability: {} </b>'.format(input_info[\"original_probabilities\"])))\n",
    "\n",
    "html_string = get_summary_string(pos_positions_tokens_score)\n",
    "display(HTML(html_string))\n",
    "\n",
    "display(HTML('(Features are highlighted in green if are positively influential for the predicted class, red otherwise. The intensity of the color is proportional to the nPIR score obtained by the word.) '))  \n"
   ]
  },
  {
   "cell_type": "markdown",
   "metadata": {},
   "source": [
    "# POS Most influential feature"
   ]
  },
  {
   "cell_type": "code",
   "execution_count": 13,
   "metadata": {
    "scrolled": false
   },
   "outputs": [
    {
     "name": "stdout",
     "output_type": "stream",
     "text": [
      "LocalExplanationId: 14, FeatureId: 14\n",
      "feature type:  POS\n",
      "feature description:  Combination of Nouns and Adverbs, Modals\n",
      "feature (position,token):  {'0': 'i', '3': 'movie', '5': 'years', '11': 'kicks', '22': 'plot', '25': 'carbon', '26': 'copy', '29': 'night', '31': 'i', '35': 'hairy', '36': 'vampire', '39': 'bug', '41': 'driver', '6': 'ago', '9': 'just', '19': 'again', '46': 'not'}\n",
      "Perturbed Text:   saw this many, and for decided to rent it and watch it. the is a from fright. did like the and the eating. otherwise it was good at all.\n",
      "perturbed probabilities:  [0.003729104995727539, 0.9962708950042725]\n",
      "nPIR Original Class:  0.996\n"
     ]
    },
    {
     "data": {
      "text/html": [
       "<span style=\"background-color:rgba(0, 255, 255, 1)\"><b>i</b></span> <span><b>saw</b></span> <span><b>this</b></span> <span style=\"background-color:rgba(0, 255, 255, 1)\"><b>movie</b></span> <span><b>many</b></span> <span style=\"background-color:rgba(0, 255, 255, 1)\"><b>years</b></span> <span style=\"background-color:rgba(0, 255, 255, 1)\"><b>ago</b></span> <span><b>,</b></span> <span><b>and</b></span> <span style=\"background-color:rgba(0, 255, 255, 1)\"><b>just</b></span> <span><b>for</b></span> <span style=\"background-color:rgba(0, 255, 255, 1)\"><b>kicks</b></span> <span><b>decided</b></span> <span><b>to</b></span> <span><b>rent</b></span> <span><b>it</b></span> <span><b>and</b></span> <span><b>watch</b></span> <span><b>it</b></span> <span style=\"background-color:rgba(0, 255, 255, 1)\"><b>again</b></span> <span><b>.</b></span> <span><b>the</b></span> <span style=\"background-color:rgba(0, 255, 255, 1)\"><b>plot</b></span> <span><b>is</b></span> <span><b>a</b></span> <span style=\"background-color:rgba(0, 255, 255, 1)\"><b>carbon</b></span> <span style=\"background-color:rgba(0, 255, 255, 1)\"><b>copy</b></span> <span><b>from</b></span> <span><b>fright</b></span> <span style=\"background-color:rgba(0, 255, 255, 1)\"><b>night</b></span> <span><b>.</b></span> <span style=\"background-color:rgba(0, 255, 255, 1)\"><b>i</b></span> <span><b>did</b></span> <span><b>like</b></span> <span><b>the</b></span> <span style=\"background-color:rgba(0, 255, 255, 1)\"><b>hairy</b></span> <span style=\"background-color:rgba(0, 255, 255, 1)\"><b>vampire</b></span> <span><b>and</b></span> <span><b>the</b></span> <span style=\"background-color:rgba(0, 255, 255, 1)\"><b>bug</b></span> <span><b>eating</b></span> <span style=\"background-color:rgba(0, 255, 255, 1)\"><b>driver</b></span> <span><b>.</b></span> <span><b>otherwise</b></span> <span><b>it</b></span> <span><b>was</b></span> <span style=\"background-color:rgba(0, 255, 255, 1)\"><b>not</b></span> <span><b>good</b></span> <span><b>at</b></span> <span><b>all</b></span> <span><b>.</b></span> "
      ],
      "text/plain": [
       "<IPython.core.display.HTML object>"
      ]
     },
     "metadata": {},
     "output_type": "display_data"
    },
    {
     "name": "stdout",
     "output_type": "stream",
     "text": [
      "\n",
      "\n",
      "\n",
      "\n"
     ]
    }
   ],
   "source": [
    "most_influnetial_pos_feature =max(pos_local_explanations_comb, key= lambda le: le[\"nPIR_original_top_class\"])\n",
    "print_local_explanation(most_influnetial_pos_feature,input_positions_tokens)"
   ]
  },
  {
   "cell_type": "markdown",
   "metadata": {},
   "source": [
    "<h1>Query Parts-of-speech Features</h1>"
   ]
  },
  {
   "cell_type": "code",
   "execution_count": 14,
   "metadata": {
    "scrolled": false
   },
   "outputs": [
    {
     "name": "stdout",
     "output_type": "stream",
     "text": [
      "Original Probabilities: [0.9990951418876648, 0.0009048581123352051]\n",
      "Original label: 0\n",
      "\n",
      "\n",
      "\n",
      "LocalExplanationId: 14, FeatureId: 14\n",
      "feature type:  POS\n",
      "feature description:  Combination of Nouns and Adverbs, Modals\n",
      "feature (position,token):  {'0': 'i', '3': 'movie', '5': 'years', '11': 'kicks', '22': 'plot', '25': 'carbon', '26': 'copy', '29': 'night', '31': 'i', '35': 'hairy', '36': 'vampire', '39': 'bug', '41': 'driver', '6': 'ago', '9': 'just', '19': 'again', '46': 'not'}\n",
      "Perturbed Text:   saw this many, and for decided to rent it and watch it. the is a from fright. did like the and the eating. otherwise it was good at all.\n",
      "perturbed probabilities:  [0.003729104995727539, 0.9962708950042725]\n",
      "nPIR Original Class:  0.996\n"
     ]
    },
    {
     "data": {
      "text/html": [
       "<span style=\"background-color:rgba(0, 255, 255, 1)\"><b>i</b></span> <span><b>saw</b></span> <span><b>this</b></span> <span style=\"background-color:rgba(0, 255, 255, 1)\"><b>movie</b></span> <span><b>many</b></span> <span style=\"background-color:rgba(0, 255, 255, 1)\"><b>years</b></span> <span style=\"background-color:rgba(0, 255, 255, 1)\"><b>ago</b></span> <span><b>,</b></span> <span><b>and</b></span> <span style=\"background-color:rgba(0, 255, 255, 1)\"><b>just</b></span> <span><b>for</b></span> <span style=\"background-color:rgba(0, 255, 255, 1)\"><b>kicks</b></span> <span><b>decided</b></span> <span><b>to</b></span> <span><b>rent</b></span> <span><b>it</b></span> <span><b>and</b></span> <span><b>watch</b></span> <span><b>it</b></span> <span style=\"background-color:rgba(0, 255, 255, 1)\"><b>again</b></span> <span><b>.</b></span> <span><b>the</b></span> <span style=\"background-color:rgba(0, 255, 255, 1)\"><b>plot</b></span> <span><b>is</b></span> <span><b>a</b></span> <span style=\"background-color:rgba(0, 255, 255, 1)\"><b>carbon</b></span> <span style=\"background-color:rgba(0, 255, 255, 1)\"><b>copy</b></span> <span><b>from</b></span> <span><b>fright</b></span> <span style=\"background-color:rgba(0, 255, 255, 1)\"><b>night</b></span> <span><b>.</b></span> <span style=\"background-color:rgba(0, 255, 255, 1)\"><b>i</b></span> <span><b>did</b></span> <span><b>like</b></span> <span><b>the</b></span> <span style=\"background-color:rgba(0, 255, 255, 1)\"><b>hairy</b></span> <span style=\"background-color:rgba(0, 255, 255, 1)\"><b>vampire</b></span> <span><b>and</b></span> <span><b>the</b></span> <span style=\"background-color:rgba(0, 255, 255, 1)\"><b>bug</b></span> <span><b>eating</b></span> <span style=\"background-color:rgba(0, 255, 255, 1)\"><b>driver</b></span> <span><b>.</b></span> <span><b>otherwise</b></span> <span><b>it</b></span> <span><b>was</b></span> <span style=\"background-color:rgba(0, 255, 255, 1)\"><b>not</b></span> <span><b>good</b></span> <span><b>at</b></span> <span><b>all</b></span> <span><b>.</b></span> "
      ],
      "text/plain": [
       "<IPython.core.display.HTML object>"
      ]
     },
     "metadata": {},
     "output_type": "display_data"
    },
    {
     "name": "stdout",
     "output_type": "stream",
     "text": [
      "\n",
      "\n",
      "\n",
      "\n",
      "LocalExplanationId: 18, FeatureId: 18\n",
      "feature type:  POS\n",
      "feature description:  Combination of Verbs and Adverbs, Modals\n",
      "feature (position,token):  {'1': 'saw', '12': 'decided', '14': 'rent', '17': 'watch', '23': 'is', '32': 'did', '40': 'eating', '43': 'otherwise', '45': 'was', '6': 'ago', '9': 'just', '19': 'again', '46': 'not'}\n",
      "Perturbed Text:   i this movie many years, and for kicks to it and it. the plot a carbon copy from fright night. i like the hairy vampire and the bug driver. it good at all.\n",
      "perturbed probabilities:  [0.004296004772186279, 0.9957039952278137]\n",
      "nPIR Original Class:  0.996\n"
     ]
    },
    {
     "data": {
      "text/html": [
       "<span><b>i</b></span> <span style=\"background-color:rgba(0, 255, 255, 1)\"><b>saw</b></span> <span><b>this</b></span> <span><b>movie</b></span> <span><b>many</b></span> <span><b>years</b></span> <span style=\"background-color:rgba(0, 255, 255, 1)\"><b>ago</b></span> <span><b>,</b></span> <span><b>and</b></span> <span style=\"background-color:rgba(0, 255, 255, 1)\"><b>just</b></span> <span><b>for</b></span> <span><b>kicks</b></span> <span style=\"background-color:rgba(0, 255, 255, 1)\"><b>decided</b></span> <span><b>to</b></span> <span style=\"background-color:rgba(0, 255, 255, 1)\"><b>rent</b></span> <span><b>it</b></span> <span><b>and</b></span> <span style=\"background-color:rgba(0, 255, 255, 1)\"><b>watch</b></span> <span><b>it</b></span> <span style=\"background-color:rgba(0, 255, 255, 1)\"><b>again</b></span> <span><b>.</b></span> <span><b>the</b></span> <span><b>plot</b></span> <span style=\"background-color:rgba(0, 255, 255, 1)\"><b>is</b></span> <span><b>a</b></span> <span><b>carbon</b></span> <span><b>copy</b></span> <span><b>from</b></span> <span><b>fright</b></span> <span><b>night</b></span> <span><b>.</b></span> <span><b>i</b></span> <span style=\"background-color:rgba(0, 255, 255, 1)\"><b>did</b></span> <span><b>like</b></span> <span><b>the</b></span> <span><b>hairy</b></span> <span><b>vampire</b></span> <span><b>and</b></span> <span><b>the</b></span> <span><b>bug</b></span> <span style=\"background-color:rgba(0, 255, 255, 1)\"><b>eating</b></span> <span><b>driver</b></span> <span><b>.</b></span> <span style=\"background-color:rgba(0, 255, 255, 1)\"><b>otherwise</b></span> <span><b>it</b></span> <span style=\"background-color:rgba(0, 255, 255, 1)\"><b>was</b></span> <span style=\"background-color:rgba(0, 255, 255, 1)\"><b>not</b></span> <span><b>good</b></span> <span><b>at</b></span> <span><b>all</b></span> <span><b>.</b></span> "
      ],
      "text/plain": [
       "<IPython.core.display.HTML object>"
      ]
     },
     "metadata": {},
     "output_type": "display_data"
    },
    {
     "name": "stdout",
     "output_type": "stream",
     "text": [
      "\n",
      "\n",
      "\n",
      "\n",
      "LocalExplanationId: 3, FeatureId: 3\n",
      "feature type:  POS\n",
      "feature description:  Adverbs, Modals\n",
      "feature (position,token):  {'6': 'ago', '9': 'just', '19': 'again', '46': 'not'}\n",
      "Perturbed Text:   i saw this movie many years, and for kicks decided to rent it and watch it. the plot is a carbon copy from fright night. i did like the hairy vampire and the bug eating driver. otherwise it was good at all.\n",
      "perturbed probabilities:  [0.0650288462638855, 0.9349711537361145]\n",
      "nPIR Original Class:  0.935\n"
     ]
    },
    {
     "data": {
      "text/html": [
       "<span><b>i</b></span> <span><b>saw</b></span> <span><b>this</b></span> <span><b>movie</b></span> <span><b>many</b></span> <span><b>years</b></span> <span style=\"background-color:rgba(0, 255, 255, 1)\"><b>ago</b></span> <span><b>,</b></span> <span><b>and</b></span> <span style=\"background-color:rgba(0, 255, 255, 1)\"><b>just</b></span> <span><b>for</b></span> <span><b>kicks</b></span> <span><b>decided</b></span> <span><b>to</b></span> <span><b>rent</b></span> <span><b>it</b></span> <span><b>and</b></span> <span><b>watch</b></span> <span><b>it</b></span> <span style=\"background-color:rgba(0, 255, 255, 1)\"><b>again</b></span> <span><b>.</b></span> <span><b>the</b></span> <span><b>plot</b></span> <span><b>is</b></span> <span><b>a</b></span> <span><b>carbon</b></span> <span><b>copy</b></span> <span><b>from</b></span> <span><b>fright</b></span> <span><b>night</b></span> <span><b>.</b></span> <span><b>i</b></span> <span><b>did</b></span> <span><b>like</b></span> <span><b>the</b></span> <span><b>hairy</b></span> <span><b>vampire</b></span> <span><b>and</b></span> <span><b>the</b></span> <span><b>bug</b></span> <span><b>eating</b></span> <span><b>driver</b></span> <span><b>.</b></span> <span><b>otherwise</b></span> <span><b>it</b></span> <span><b>was</b></span> <span style=\"background-color:rgba(0, 255, 255, 1)\"><b>not</b></span> <span><b>good</b></span> <span><b>at</b></span> <span><b>all</b></span> <span><b>.</b></span> "
      ],
      "text/plain": [
       "<IPython.core.display.HTML object>"
      ]
     },
     "metadata": {},
     "output_type": "display_data"
    },
    {
     "name": "stdout",
     "output_type": "stream",
     "text": [
      "\n",
      "\n",
      "\n",
      "\n",
      "LocalExplanationId: 23, FeatureId: 23\n",
      "feature type:  POS\n",
      "feature description:  Combination of Adverbs, Modals and Interjections\n",
      "feature (position,token):  {'6': 'ago', '9': 'just', '19': 'again', '46': 'not'}\n",
      "Perturbed Text:   i saw this movie many years, and for kicks decided to rent it and watch it. the plot is a carbon copy from fright night. i did like the hairy vampire and the bug eating driver. otherwise it was good at all.\n",
      "perturbed probabilities:  [0.0650288462638855, 0.9349711537361145]\n",
      "nPIR Original Class:  0.935\n"
     ]
    },
    {
     "data": {
      "text/html": [
       "<span><b>i</b></span> <span><b>saw</b></span> <span><b>this</b></span> <span><b>movie</b></span> <span><b>many</b></span> <span><b>years</b></span> <span style=\"background-color:rgba(0, 255, 255, 1)\"><b>ago</b></span> <span><b>,</b></span> <span><b>and</b></span> <span style=\"background-color:rgba(0, 255, 255, 1)\"><b>just</b></span> <span><b>for</b></span> <span><b>kicks</b></span> <span><b>decided</b></span> <span><b>to</b></span> <span><b>rent</b></span> <span><b>it</b></span> <span><b>and</b></span> <span><b>watch</b></span> <span><b>it</b></span> <span style=\"background-color:rgba(0, 255, 255, 1)\"><b>again</b></span> <span><b>.</b></span> <span><b>the</b></span> <span><b>plot</b></span> <span><b>is</b></span> <span><b>a</b></span> <span><b>carbon</b></span> <span><b>copy</b></span> <span><b>from</b></span> <span><b>fright</b></span> <span><b>night</b></span> <span><b>.</b></span> <span><b>i</b></span> <span><b>did</b></span> <span><b>like</b></span> <span><b>the</b></span> <span><b>hairy</b></span> <span><b>vampire</b></span> <span><b>and</b></span> <span><b>the</b></span> <span><b>bug</b></span> <span><b>eating</b></span> <span><b>driver</b></span> <span><b>.</b></span> <span><b>otherwise</b></span> <span><b>it</b></span> <span><b>was</b></span> <span style=\"background-color:rgba(0, 255, 255, 1)\"><b>not</b></span> <span><b>good</b></span> <span><b>at</b></span> <span><b>all</b></span> <span><b>.</b></span> "
      ],
      "text/plain": [
       "<IPython.core.display.HTML object>"
      ]
     },
     "metadata": {},
     "output_type": "display_data"
    },
    {
     "name": "stdout",
     "output_type": "stream",
     "text": [
      "\n",
      "\n",
      "\n",
      "\n",
      "LocalExplanationId: 24, FeatureId: 24\n",
      "feature type:  POS\n",
      "feature description:  Combination of Adverbs, Modals and Others (Cardinal Numbers, Foreign Words, Symbols)\n",
      "feature (position,token):  {'6': 'ago', '9': 'just', '19': 'again', '46': 'not'}\n",
      "Perturbed Text:   i saw this movie many years, and for kicks decided to rent it and watch it. the plot is a carbon copy from fright night. i did like the hairy vampire and the bug eating driver. otherwise it was good at all.\n",
      "perturbed probabilities:  [0.0650288462638855, 0.9349711537361145]\n",
      "nPIR Original Class:  0.935\n"
     ]
    },
    {
     "data": {
      "text/html": [
       "<span><b>i</b></span> <span><b>saw</b></span> <span><b>this</b></span> <span><b>movie</b></span> <span><b>many</b></span> <span><b>years</b></span> <span style=\"background-color:rgba(0, 255, 255, 1)\"><b>ago</b></span> <span><b>,</b></span> <span><b>and</b></span> <span style=\"background-color:rgba(0, 255, 255, 1)\"><b>just</b></span> <span><b>for</b></span> <span><b>kicks</b></span> <span><b>decided</b></span> <span><b>to</b></span> <span><b>rent</b></span> <span><b>it</b></span> <span><b>and</b></span> <span><b>watch</b></span> <span><b>it</b></span> <span style=\"background-color:rgba(0, 255, 255, 1)\"><b>again</b></span> <span><b>.</b></span> <span><b>the</b></span> <span><b>plot</b></span> <span><b>is</b></span> <span><b>a</b></span> <span><b>carbon</b></span> <span><b>copy</b></span> <span><b>from</b></span> <span><b>fright</b></span> <span><b>night</b></span> <span><b>.</b></span> <span><b>i</b></span> <span><b>did</b></span> <span><b>like</b></span> <span><b>the</b></span> <span><b>hairy</b></span> <span><b>vampire</b></span> <span><b>and</b></span> <span><b>the</b></span> <span><b>bug</b></span> <span><b>eating</b></span> <span><b>driver</b></span> <span><b>.</b></span> <span><b>otherwise</b></span> <span><b>it</b></span> <span><b>was</b></span> <span style=\"background-color:rgba(0, 255, 255, 1)\"><b>not</b></span> <span><b>good</b></span> <span><b>at</b></span> <span><b>all</b></span> <span><b>.</b></span> "
      ],
      "text/plain": [
       "<IPython.core.display.HTML object>"
      ]
     },
     "metadata": {},
     "output_type": "display_data"
    },
    {
     "name": "stdout",
     "output_type": "stream",
     "text": [
      "\n",
      "\n",
      "\n",
      "\n",
      "LocalExplanationId: 13, FeatureId: 13\n",
      "feature type:  POS\n",
      "feature description:  Combination of Nouns and Verbs\n",
      "feature (position,token):  {'0': 'i', '3': 'movie', '5': 'years', '11': 'kicks', '22': 'plot', '25': 'carbon', '26': 'copy', '29': 'night', '31': 'i', '35': 'hairy', '36': 'vampire', '39': 'bug', '41': 'driver', '1': 'saw', '12': 'decided', '14': 'rent', '17': 'watch', '23': 'is', '32': 'did', '40': 'eating', '43': 'otherwise', '45': 'was'}\n",
      "Perturbed Text:   this many ago, and just for to it and it again. the a from fright. like the and the. it not good at all.\n",
      "perturbed probabilities:  [0.3486456871032715, 0.6513543128967285]\n",
      "nPIR Original Class:  0.676\n"
     ]
    },
    {
     "data": {
      "text/html": [
       "<span style=\"background-color:rgba(0, 255, 255, 1)\"><b>i</b></span> <span style=\"background-color:rgba(0, 255, 255, 1)\"><b>saw</b></span> <span><b>this</b></span> <span style=\"background-color:rgba(0, 255, 255, 1)\"><b>movie</b></span> <span><b>many</b></span> <span style=\"background-color:rgba(0, 255, 255, 1)\"><b>years</b></span> <span><b>ago</b></span> <span><b>,</b></span> <span><b>and</b></span> <span><b>just</b></span> <span><b>for</b></span> <span style=\"background-color:rgba(0, 255, 255, 1)\"><b>kicks</b></span> <span style=\"background-color:rgba(0, 255, 255, 1)\"><b>decided</b></span> <span><b>to</b></span> <span style=\"background-color:rgba(0, 255, 255, 1)\"><b>rent</b></span> <span><b>it</b></span> <span><b>and</b></span> <span style=\"background-color:rgba(0, 255, 255, 1)\"><b>watch</b></span> <span><b>it</b></span> <span><b>again</b></span> <span><b>.</b></span> <span><b>the</b></span> <span style=\"background-color:rgba(0, 255, 255, 1)\"><b>plot</b></span> <span style=\"background-color:rgba(0, 255, 255, 1)\"><b>is</b></span> <span><b>a</b></span> <span style=\"background-color:rgba(0, 255, 255, 1)\"><b>carbon</b></span> <span style=\"background-color:rgba(0, 255, 255, 1)\"><b>copy</b></span> <span><b>from</b></span> <span><b>fright</b></span> <span style=\"background-color:rgba(0, 255, 255, 1)\"><b>night</b></span> <span><b>.</b></span> <span style=\"background-color:rgba(0, 255, 255, 1)\"><b>i</b></span> <span style=\"background-color:rgba(0, 255, 255, 1)\"><b>did</b></span> <span><b>like</b></span> <span><b>the</b></span> <span style=\"background-color:rgba(0, 255, 255, 1)\"><b>hairy</b></span> <span style=\"background-color:rgba(0, 255, 255, 1)\"><b>vampire</b></span> <span><b>and</b></span> <span><b>the</b></span> <span style=\"background-color:rgba(0, 255, 255, 1)\"><b>bug</b></span> <span style=\"background-color:rgba(0, 255, 255, 1)\"><b>eating</b></span> <span style=\"background-color:rgba(0, 255, 255, 1)\"><b>driver</b></span> <span><b>.</b></span> <span style=\"background-color:rgba(0, 255, 255, 1)\"><b>otherwise</b></span> <span><b>it</b></span> <span style=\"background-color:rgba(0, 255, 255, 1)\"><b>was</b></span> <span><b>not</b></span> <span><b>good</b></span> <span><b>at</b></span> <span><b>all</b></span> <span><b>.</b></span> "
      ],
      "text/plain": [
       "<IPython.core.display.HTML object>"
      ]
     },
     "metadata": {},
     "output_type": "display_data"
    },
    {
     "name": "stdout",
     "output_type": "stream",
     "text": [
      "\n",
      "\n",
      "\n",
      "\n",
      "LocalExplanationId: 22, FeatureId: 22\n",
      "feature type:  POS\n",
      "feature description:  Combination of Adverbs, Modals and Pronouns, Predeterminers, WH\n",
      "feature (position,token):  {'6': 'ago', '9': 'just', '19': 'again', '46': 'not', '15': 'it', '18': 'it', '44': 'it'}\n",
      "Perturbed Text:   i saw this movie many years, and for kicks decided to rent and watch. the plot is a carbon copy from fright night. i did like the hairy vampire and the bug eating driver. otherwise was good at all.\n",
      "perturbed probabilities:  [0.7247442007064819, 0.27525582909584045]\n",
      "nPIR Original Class:  0.366\n"
     ]
    },
    {
     "data": {
      "text/html": [
       "<span><b>i</b></span> <span><b>saw</b></span> <span><b>this</b></span> <span><b>movie</b></span> <span><b>many</b></span> <span><b>years</b></span> <span style=\"background-color:rgba(0, 255, 255, 1)\"><b>ago</b></span> <span><b>,</b></span> <span><b>and</b></span> <span style=\"background-color:rgba(0, 255, 255, 1)\"><b>just</b></span> <span><b>for</b></span> <span><b>kicks</b></span> <span><b>decided</b></span> <span><b>to</b></span> <span><b>rent</b></span> <span style=\"background-color:rgba(0, 255, 255, 1)\"><b>it</b></span> <span><b>and</b></span> <span><b>watch</b></span> <span style=\"background-color:rgba(0, 255, 255, 1)\"><b>it</b></span> <span style=\"background-color:rgba(0, 255, 255, 1)\"><b>again</b></span> <span><b>.</b></span> <span><b>the</b></span> <span><b>plot</b></span> <span><b>is</b></span> <span><b>a</b></span> <span><b>carbon</b></span> <span><b>copy</b></span> <span><b>from</b></span> <span><b>fright</b></span> <span><b>night</b></span> <span><b>.</b></span> <span><b>i</b></span> <span><b>did</b></span> <span><b>like</b></span> <span><b>the</b></span> <span><b>hairy</b></span> <span><b>vampire</b></span> <span><b>and</b></span> <span><b>the</b></span> <span><b>bug</b></span> <span><b>eating</b></span> <span><b>driver</b></span> <span><b>.</b></span> <span><b>otherwise</b></span> <span style=\"background-color:rgba(0, 255, 255, 1)\"><b>it</b></span> <span><b>was</b></span> <span style=\"background-color:rgba(0, 255, 255, 1)\"><b>not</b></span> <span><b>good</b></span> <span><b>at</b></span> <span><b>all</b></span> <span><b>.</b></span> "
      ],
      "text/plain": [
       "<IPython.core.display.HTML object>"
      ]
     },
     "metadata": {},
     "output_type": "display_data"
    },
    {
     "name": "stdout",
     "output_type": "stream",
     "text": [
      "\n",
      "\n",
      "\n",
      "\n",
      "LocalExplanationId: 9, FeatureId: 9\n",
      "feature type:  POS\n",
      "feature description:  Combination of Adjectives and Adverbs, Modals\n",
      "feature (position,token):  {'4': 'many', '28': 'fright', '47': 'good', '6': 'ago', '9': 'just', '19': 'again', '46': 'not'}\n",
      "Perturbed Text:   i saw this movie years, and for kicks decided to rent it and watch it. the plot is a carbon copy from night. i did like the hairy vampire and the bug eating driver. otherwise it was at all.\n",
      "perturbed probabilities:  [0.9585013389587402, 0.04149863123893738]\n",
      "nPIR Original Class:  0.075\n"
     ]
    },
    {
     "data": {
      "text/html": [
       "<span><b>i</b></span> <span><b>saw</b></span> <span><b>this</b></span> <span><b>movie</b></span> <span style=\"background-color:rgba(0, 255, 255, 1)\"><b>many</b></span> <span><b>years</b></span> <span style=\"background-color:rgba(0, 255, 255, 1)\"><b>ago</b></span> <span><b>,</b></span> <span><b>and</b></span> <span style=\"background-color:rgba(0, 255, 255, 1)\"><b>just</b></span> <span><b>for</b></span> <span><b>kicks</b></span> <span><b>decided</b></span> <span><b>to</b></span> <span><b>rent</b></span> <span><b>it</b></span> <span><b>and</b></span> <span><b>watch</b></span> <span><b>it</b></span> <span style=\"background-color:rgba(0, 255, 255, 1)\"><b>again</b></span> <span><b>.</b></span> <span><b>the</b></span> <span><b>plot</b></span> <span><b>is</b></span> <span><b>a</b></span> <span><b>carbon</b></span> <span><b>copy</b></span> <span><b>from</b></span> <span style=\"background-color:rgba(0, 255, 255, 1)\"><b>fright</b></span> <span><b>night</b></span> <span><b>.</b></span> <span><b>i</b></span> <span><b>did</b></span> <span><b>like</b></span> <span><b>the</b></span> <span><b>hairy</b></span> <span><b>vampire</b></span> <span><b>and</b></span> <span><b>the</b></span> <span><b>bug</b></span> <span><b>eating</b></span> <span><b>driver</b></span> <span><b>.</b></span> <span><b>otherwise</b></span> <span><b>it</b></span> <span><b>was</b></span> <span style=\"background-color:rgba(0, 255, 255, 1)\"><b>not</b></span> <span style=\"background-color:rgba(0, 255, 255, 1)\"><b>good</b></span> <span><b>at</b></span> <span><b>all</b></span> <span><b>.</b></span> "
      ],
      "text/plain": [
       "<IPython.core.display.HTML object>"
      ]
     },
     "metadata": {},
     "output_type": "display_data"
    },
    {
     "name": "stdout",
     "output_type": "stream",
     "text": [
      "\n",
      "\n",
      "\n",
      "\n",
      "LocalExplanationId: 7, FeatureId: 7\n",
      "feature type:  POS\n",
      "feature description:  Combination of Adjectives and Nouns\n",
      "feature (position,token):  {'4': 'many', '28': 'fright', '47': 'good', '0': 'i', '3': 'movie', '5': 'years', '11': 'kicks', '22': 'plot', '25': 'carbon', '26': 'copy', '29': 'night', '31': 'i', '35': 'hairy', '36': 'vampire', '39': 'bug', '41': 'driver'}\n",
      "Perturbed Text:   saw this ago, and just for decided to rent it and watch it again. the is a from. did like the and the eating. otherwise it was not at all.\n",
      "perturbed probabilities:  [0.9613240361213684, 0.03867596387863159]\n",
      "nPIR Original Class:  0.07\n"
     ]
    },
    {
     "data": {
      "text/html": [
       "<span style=\"background-color:rgba(0, 255, 255, 1)\"><b>i</b></span> <span><b>saw</b></span> <span><b>this</b></span> <span style=\"background-color:rgba(0, 255, 255, 1)\"><b>movie</b></span> <span style=\"background-color:rgba(0, 255, 255, 1)\"><b>many</b></span> <span style=\"background-color:rgba(0, 255, 255, 1)\"><b>years</b></span> <span><b>ago</b></span> <span><b>,</b></span> <span><b>and</b></span> <span><b>just</b></span> <span><b>for</b></span> <span style=\"background-color:rgba(0, 255, 255, 1)\"><b>kicks</b></span> <span><b>decided</b></span> <span><b>to</b></span> <span><b>rent</b></span> <span><b>it</b></span> <span><b>and</b></span> <span><b>watch</b></span> <span><b>it</b></span> <span><b>again</b></span> <span><b>.</b></span> <span><b>the</b></span> <span style=\"background-color:rgba(0, 255, 255, 1)\"><b>plot</b></span> <span><b>is</b></span> <span><b>a</b></span> <span style=\"background-color:rgba(0, 255, 255, 1)\"><b>carbon</b></span> <span style=\"background-color:rgba(0, 255, 255, 1)\"><b>copy</b></span> <span><b>from</b></span> <span style=\"background-color:rgba(0, 255, 255, 1)\"><b>fright</b></span> <span style=\"background-color:rgba(0, 255, 255, 1)\"><b>night</b></span> <span><b>.</b></span> <span style=\"background-color:rgba(0, 255, 255, 1)\"><b>i</b></span> <span><b>did</b></span> <span><b>like</b></span> <span><b>the</b></span> <span style=\"background-color:rgba(0, 255, 255, 1)\"><b>hairy</b></span> <span style=\"background-color:rgba(0, 255, 255, 1)\"><b>vampire</b></span> <span><b>and</b></span> <span><b>the</b></span> <span style=\"background-color:rgba(0, 255, 255, 1)\"><b>bug</b></span> <span><b>eating</b></span> <span style=\"background-color:rgba(0, 255, 255, 1)\"><b>driver</b></span> <span><b>.</b></span> <span><b>otherwise</b></span> <span><b>it</b></span> <span><b>was</b></span> <span><b>not</b></span> <span style=\"background-color:rgba(0, 255, 255, 1)\"><b>good</b></span> <span><b>at</b></span> <span><b>all</b></span> <span><b>.</b></span> "
      ],
      "text/plain": [
       "<IPython.core.display.HTML object>"
      ]
     },
     "metadata": {},
     "output_type": "display_data"
    },
    {
     "name": "stdout",
     "output_type": "stream",
     "text": [
      "\n",
      "\n",
      "\n",
      "\n",
      "LocalExplanationId: 1, FeatureId: 1\n",
      "feature type:  POS\n",
      "feature description:  Nouns\n",
      "feature (position,token):  {'0': 'i', '3': 'movie', '5': 'years', '11': 'kicks', '22': 'plot', '25': 'carbon', '26': 'copy', '29': 'night', '31': 'i', '35': 'hairy', '36': 'vampire', '39': 'bug', '41': 'driver'}\n",
      "Perturbed Text:   saw this many ago, and just for decided to rent it and watch it again. the is a from fright. did like the and the eating. otherwise it was not good at all.\n",
      "perturbed probabilities:  [0.988929271697998, 0.01107075810432434]\n",
      "nPIR Original Class:  0.02\n"
     ]
    },
    {
     "data": {
      "text/html": [
       "<span style=\"background-color:rgba(0, 255, 255, 1)\"><b>i</b></span> <span><b>saw</b></span> <span><b>this</b></span> <span style=\"background-color:rgba(0, 255, 255, 1)\"><b>movie</b></span> <span><b>many</b></span> <span style=\"background-color:rgba(0, 255, 255, 1)\"><b>years</b></span> <span><b>ago</b></span> <span><b>,</b></span> <span><b>and</b></span> <span><b>just</b></span> <span><b>for</b></span> <span style=\"background-color:rgba(0, 255, 255, 1)\"><b>kicks</b></span> <span><b>decided</b></span> <span><b>to</b></span> <span><b>rent</b></span> <span><b>it</b></span> <span><b>and</b></span> <span><b>watch</b></span> <span><b>it</b></span> <span><b>again</b></span> <span><b>.</b></span> <span><b>the</b></span> <span style=\"background-color:rgba(0, 255, 255, 1)\"><b>plot</b></span> <span><b>is</b></span> <span><b>a</b></span> <span style=\"background-color:rgba(0, 255, 255, 1)\"><b>carbon</b></span> <span style=\"background-color:rgba(0, 255, 255, 1)\"><b>copy</b></span> <span><b>from</b></span> <span><b>fright</b></span> <span style=\"background-color:rgba(0, 255, 255, 1)\"><b>night</b></span> <span><b>.</b></span> <span style=\"background-color:rgba(0, 255, 255, 1)\"><b>i</b></span> <span><b>did</b></span> <span><b>like</b></span> <span><b>the</b></span> <span style=\"background-color:rgba(0, 255, 255, 1)\"><b>hairy</b></span> <span style=\"background-color:rgba(0, 255, 255, 1)\"><b>vampire</b></span> <span><b>and</b></span> <span><b>the</b></span> <span style=\"background-color:rgba(0, 255, 255, 1)\"><b>bug</b></span> <span><b>eating</b></span> <span style=\"background-color:rgba(0, 255, 255, 1)\"><b>driver</b></span> <span><b>.</b></span> <span><b>otherwise</b></span> <span><b>it</b></span> <span><b>was</b></span> <span><b>not</b></span> <span><b>good</b></span> <span><b>at</b></span> <span><b>all</b></span> <span><b>.</b></span> "
      ],
      "text/plain": [
       "<IPython.core.display.HTML object>"
      ]
     },
     "metadata": {},
     "output_type": "display_data"
    },
    {
     "name": "stdout",
     "output_type": "stream",
     "text": [
      "\n",
      "\n",
      "\n",
      "\n",
      "LocalExplanationId: 16, FeatureId: 16\n",
      "feature type:  POS\n",
      "feature description:  Combination of Nouns and Interjections\n",
      "feature (position,token):  {'0': 'i', '3': 'movie', '5': 'years', '11': 'kicks', '22': 'plot', '25': 'carbon', '26': 'copy', '29': 'night', '31': 'i', '35': 'hairy', '36': 'vampire', '39': 'bug', '41': 'driver'}\n",
      "Perturbed Text:   saw this many ago, and just for decided to rent it and watch it again. the is a from fright. did like the and the eating. otherwise it was not good at all.\n",
      "perturbed probabilities:  [0.988929271697998, 0.01107075810432434]\n",
      "nPIR Original Class:  0.02\n"
     ]
    },
    {
     "data": {
      "text/html": [
       "<span style=\"background-color:rgba(0, 255, 255, 1)\"><b>i</b></span> <span><b>saw</b></span> <span><b>this</b></span> <span style=\"background-color:rgba(0, 255, 255, 1)\"><b>movie</b></span> <span><b>many</b></span> <span style=\"background-color:rgba(0, 255, 255, 1)\"><b>years</b></span> <span><b>ago</b></span> <span><b>,</b></span> <span><b>and</b></span> <span><b>just</b></span> <span><b>for</b></span> <span style=\"background-color:rgba(0, 255, 255, 1)\"><b>kicks</b></span> <span><b>decided</b></span> <span><b>to</b></span> <span><b>rent</b></span> <span><b>it</b></span> <span><b>and</b></span> <span><b>watch</b></span> <span><b>it</b></span> <span><b>again</b></span> <span><b>.</b></span> <span><b>the</b></span> <span style=\"background-color:rgba(0, 255, 255, 1)\"><b>plot</b></span> <span><b>is</b></span> <span><b>a</b></span> <span style=\"background-color:rgba(0, 255, 255, 1)\"><b>carbon</b></span> <span style=\"background-color:rgba(0, 255, 255, 1)\"><b>copy</b></span> <span><b>from</b></span> <span><b>fright</b></span> <span style=\"background-color:rgba(0, 255, 255, 1)\"><b>night</b></span> <span><b>.</b></span> <span style=\"background-color:rgba(0, 255, 255, 1)\"><b>i</b></span> <span><b>did</b></span> <span><b>like</b></span> <span><b>the</b></span> <span style=\"background-color:rgba(0, 255, 255, 1)\"><b>hairy</b></span> <span style=\"background-color:rgba(0, 255, 255, 1)\"><b>vampire</b></span> <span><b>and</b></span> <span><b>the</b></span> <span style=\"background-color:rgba(0, 255, 255, 1)\"><b>bug</b></span> <span><b>eating</b></span> <span style=\"background-color:rgba(0, 255, 255, 1)\"><b>driver</b></span> <span><b>.</b></span> <span><b>otherwise</b></span> <span><b>it</b></span> <span><b>was</b></span> <span><b>not</b></span> <span><b>good</b></span> <span><b>at</b></span> <span><b>all</b></span> <span><b>.</b></span> "
      ],
      "text/plain": [
       "<IPython.core.display.HTML object>"
      ]
     },
     "metadata": {},
     "output_type": "display_data"
    },
    {
     "name": "stdout",
     "output_type": "stream",
     "text": [
      "\n",
      "\n",
      "\n",
      "\n",
      "LocalExplanationId: 17, FeatureId: 17\n",
      "feature type:  POS\n",
      "feature description:  Combination of Nouns and Others (Cardinal Numbers, Foreign Words, Symbols)\n",
      "feature (position,token):  {'0': 'i', '3': 'movie', '5': 'years', '11': 'kicks', '22': 'plot', '25': 'carbon', '26': 'copy', '29': 'night', '31': 'i', '35': 'hairy', '36': 'vampire', '39': 'bug', '41': 'driver'}\n",
      "Perturbed Text:   saw this many ago, and just for decided to rent it and watch it again. the is a from fright. did like the and the eating. otherwise it was not good at all.\n",
      "perturbed probabilities:  [0.988929271697998, 0.01107075810432434]\n",
      "nPIR Original Class:  0.02\n"
     ]
    },
    {
     "data": {
      "text/html": [
       "<span style=\"background-color:rgba(0, 255, 255, 1)\"><b>i</b></span> <span><b>saw</b></span> <span><b>this</b></span> <span style=\"background-color:rgba(0, 255, 255, 1)\"><b>movie</b></span> <span><b>many</b></span> <span style=\"background-color:rgba(0, 255, 255, 1)\"><b>years</b></span> <span><b>ago</b></span> <span><b>,</b></span> <span><b>and</b></span> <span><b>just</b></span> <span><b>for</b></span> <span style=\"background-color:rgba(0, 255, 255, 1)\"><b>kicks</b></span> <span><b>decided</b></span> <span><b>to</b></span> <span><b>rent</b></span> <span><b>it</b></span> <span><b>and</b></span> <span><b>watch</b></span> <span><b>it</b></span> <span><b>again</b></span> <span><b>.</b></span> <span><b>the</b></span> <span style=\"background-color:rgba(0, 255, 255, 1)\"><b>plot</b></span> <span><b>is</b></span> <span><b>a</b></span> <span style=\"background-color:rgba(0, 255, 255, 1)\"><b>carbon</b></span> <span style=\"background-color:rgba(0, 255, 255, 1)\"><b>copy</b></span> <span><b>from</b></span> <span><b>fright</b></span> <span style=\"background-color:rgba(0, 255, 255, 1)\"><b>night</b></span> <span><b>.</b></span> <span style=\"background-color:rgba(0, 255, 255, 1)\"><b>i</b></span> <span><b>did</b></span> <span><b>like</b></span> <span><b>the</b></span> <span style=\"background-color:rgba(0, 255, 255, 1)\"><b>hairy</b></span> <span style=\"background-color:rgba(0, 255, 255, 1)\"><b>vampire</b></span> <span><b>and</b></span> <span><b>the</b></span> <span style=\"background-color:rgba(0, 255, 255, 1)\"><b>bug</b></span> <span><b>eating</b></span> <span style=\"background-color:rgba(0, 255, 255, 1)\"><b>driver</b></span> <span><b>.</b></span> <span><b>otherwise</b></span> <span><b>it</b></span> <span><b>was</b></span> <span><b>not</b></span> <span><b>good</b></span> <span><b>at</b></span> <span><b>all</b></span> <span><b>.</b></span> "
      ],
      "text/plain": [
       "<IPython.core.display.HTML object>"
      ]
     },
     "metadata": {},
     "output_type": "display_data"
    },
    {
     "name": "stdout",
     "output_type": "stream",
     "text": [
      "\n",
      "\n",
      "\n",
      "\n",
      "LocalExplanationId: 10, FeatureId: 10\n",
      "feature type:  POS\n",
      "feature description:  Combination of Adjectives and Pronouns, Predeterminers, WH\n",
      "feature (position,token):  {'4': 'many', '28': 'fright', '47': 'good', '15': 'it', '18': 'it', '44': 'it'}\n",
      "Perturbed Text:   i saw this movie years ago, and just for kicks decided to rent and watch again. the plot is a carbon copy from night. i did like the hairy vampire and the bug eating driver. otherwise was not at all.\n",
      "perturbed probabilities:  [0.9891043901443481, 0.010895580053329468]\n",
      "nPIR Original Class:  0.02\n"
     ]
    },
    {
     "data": {
      "text/html": [
       "<span><b>i</b></span> <span><b>saw</b></span> <span><b>this</b></span> <span><b>movie</b></span> <span style=\"background-color:rgba(0, 255, 255, 1)\"><b>many</b></span> <span><b>years</b></span> <span><b>ago</b></span> <span><b>,</b></span> <span><b>and</b></span> <span><b>just</b></span> <span><b>for</b></span> <span><b>kicks</b></span> <span><b>decided</b></span> <span><b>to</b></span> <span><b>rent</b></span> <span style=\"background-color:rgba(0, 255, 255, 1)\"><b>it</b></span> <span><b>and</b></span> <span><b>watch</b></span> <span style=\"background-color:rgba(0, 255, 255, 1)\"><b>it</b></span> <span><b>again</b></span> <span><b>.</b></span> <span><b>the</b></span> <span><b>plot</b></span> <span><b>is</b></span> <span><b>a</b></span> <span><b>carbon</b></span> <span><b>copy</b></span> <span><b>from</b></span> <span style=\"background-color:rgba(0, 255, 255, 1)\"><b>fright</b></span> <span><b>night</b></span> <span><b>.</b></span> <span><b>i</b></span> <span><b>did</b></span> <span><b>like</b></span> <span><b>the</b></span> <span><b>hairy</b></span> <span><b>vampire</b></span> <span><b>and</b></span> <span><b>the</b></span> <span><b>bug</b></span> <span><b>eating</b></span> <span><b>driver</b></span> <span><b>.</b></span> <span><b>otherwise</b></span> <span style=\"background-color:rgba(0, 255, 255, 1)\"><b>it</b></span> <span><b>was</b></span> <span><b>not</b></span> <span style=\"background-color:rgba(0, 255, 255, 1)\"><b>good</b></span> <span><b>at</b></span> <span><b>all</b></span> <span><b>.</b></span> "
      ],
      "text/plain": [
       "<IPython.core.display.HTML object>"
      ]
     },
     "metadata": {},
     "output_type": "display_data"
    },
    {
     "name": "stdout",
     "output_type": "stream",
     "text": [
      "\n",
      "\n",
      "\n",
      "\n",
      "LocalExplanationId: 15, FeatureId: 15\n",
      "feature type:  POS\n",
      "feature description:  Combination of Nouns and Pronouns, Predeterminers, WH\n",
      "feature (position,token):  {'0': 'i', '3': 'movie', '5': 'years', '11': 'kicks', '22': 'plot', '25': 'carbon', '26': 'copy', '29': 'night', '31': 'i', '35': 'hairy', '36': 'vampire', '39': 'bug', '41': 'driver', '15': 'it', '18': 'it', '44': 'it'}\n",
      "Perturbed Text:   saw this many ago, and just for decided to rent and watch again. the is a from fright. did like the and the eating. otherwise was not good at all.\n",
      "perturbed probabilities:  [0.9928631782531738, 0.007136821746826172]\n",
      "nPIR Original Class:  0.012\n"
     ]
    },
    {
     "data": {
      "text/html": [
       "<span style=\"background-color:rgba(0, 255, 255, 1)\"><b>i</b></span> <span><b>saw</b></span> <span><b>this</b></span> <span style=\"background-color:rgba(0, 255, 255, 1)\"><b>movie</b></span> <span><b>many</b></span> <span style=\"background-color:rgba(0, 255, 255, 1)\"><b>years</b></span> <span><b>ago</b></span> <span><b>,</b></span> <span><b>and</b></span> <span><b>just</b></span> <span><b>for</b></span> <span style=\"background-color:rgba(0, 255, 255, 1)\"><b>kicks</b></span> <span><b>decided</b></span> <span><b>to</b></span> <span><b>rent</b></span> <span style=\"background-color:rgba(0, 255, 255, 1)\"><b>it</b></span> <span><b>and</b></span> <span><b>watch</b></span> <span style=\"background-color:rgba(0, 255, 255, 1)\"><b>it</b></span> <span><b>again</b></span> <span><b>.</b></span> <span><b>the</b></span> <span style=\"background-color:rgba(0, 255, 255, 1)\"><b>plot</b></span> <span><b>is</b></span> <span><b>a</b></span> <span style=\"background-color:rgba(0, 255, 255, 1)\"><b>carbon</b></span> <span style=\"background-color:rgba(0, 255, 255, 1)\"><b>copy</b></span> <span><b>from</b></span> <span><b>fright</b></span> <span style=\"background-color:rgba(0, 255, 255, 1)\"><b>night</b></span> <span><b>.</b></span> <span style=\"background-color:rgba(0, 255, 255, 1)\"><b>i</b></span> <span><b>did</b></span> <span><b>like</b></span> <span><b>the</b></span> <span style=\"background-color:rgba(0, 255, 255, 1)\"><b>hairy</b></span> <span style=\"background-color:rgba(0, 255, 255, 1)\"><b>vampire</b></span> <span><b>and</b></span> <span><b>the</b></span> <span style=\"background-color:rgba(0, 255, 255, 1)\"><b>bug</b></span> <span><b>eating</b></span> <span style=\"background-color:rgba(0, 255, 255, 1)\"><b>driver</b></span> <span><b>.</b></span> <span><b>otherwise</b></span> <span style=\"background-color:rgba(0, 255, 255, 1)\"><b>it</b></span> <span><b>was</b></span> <span><b>not</b></span> <span><b>good</b></span> <span><b>at</b></span> <span><b>all</b></span> <span><b>.</b></span> "
      ],
      "text/plain": [
       "<IPython.core.display.HTML object>"
      ]
     },
     "metadata": {},
     "output_type": "display_data"
    },
    {
     "name": "stdout",
     "output_type": "stream",
     "text": [
      "\n",
      "\n",
      "\n",
      "\n",
      "LocalExplanationId: 0, FeatureId: 0\n",
      "feature type:  POS\n",
      "feature description:  Adjectives\n",
      "feature (position,token):  {'4': 'many', '28': 'fright', '47': 'good'}\n",
      "Perturbed Text:   i saw this movie years ago, and just for kicks decided to rent it and watch it again. the plot is a carbon copy from night. i did like the hairy vampire and the bug eating driver. otherwise it was not at all.\n",
      "perturbed probabilities:  [0.9966400265693665, 0.003359973430633545]\n",
      "nPIR Original Class:  0.005\n"
     ]
    },
    {
     "data": {
      "text/html": [
       "<span><b>i</b></span> <span><b>saw</b></span> <span><b>this</b></span> <span><b>movie</b></span> <span style=\"background-color:rgba(0, 255, 255, 1)\"><b>many</b></span> <span><b>years</b></span> <span><b>ago</b></span> <span><b>,</b></span> <span><b>and</b></span> <span><b>just</b></span> <span><b>for</b></span> <span><b>kicks</b></span> <span><b>decided</b></span> <span><b>to</b></span> <span><b>rent</b></span> <span><b>it</b></span> <span><b>and</b></span> <span><b>watch</b></span> <span><b>it</b></span> <span><b>again</b></span> <span><b>.</b></span> <span><b>the</b></span> <span><b>plot</b></span> <span><b>is</b></span> <span><b>a</b></span> <span><b>carbon</b></span> <span><b>copy</b></span> <span><b>from</b></span> <span style=\"background-color:rgba(0, 255, 255, 1)\"><b>fright</b></span> <span><b>night</b></span> <span><b>.</b></span> <span><b>i</b></span> <span><b>did</b></span> <span><b>like</b></span> <span><b>the</b></span> <span><b>hairy</b></span> <span><b>vampire</b></span> <span><b>and</b></span> <span><b>the</b></span> <span><b>bug</b></span> <span><b>eating</b></span> <span><b>driver</b></span> <span><b>.</b></span> <span><b>otherwise</b></span> <span><b>it</b></span> <span><b>was</b></span> <span><b>not</b></span> <span style=\"background-color:rgba(0, 255, 255, 1)\"><b>good</b></span> <span><b>at</b></span> <span><b>all</b></span> <span><b>.</b></span> "
      ],
      "text/plain": [
       "<IPython.core.display.HTML object>"
      ]
     },
     "metadata": {},
     "output_type": "display_data"
    },
    {
     "name": "stdout",
     "output_type": "stream",
     "text": [
      "\n",
      "\n",
      "\n",
      "\n",
      "LocalExplanationId: 11, FeatureId: 11\n",
      "feature type:  POS\n",
      "feature description:  Combination of Adjectives and Interjections\n",
      "feature (position,token):  {'4': 'many', '28': 'fright', '47': 'good'}\n",
      "Perturbed Text:   i saw this movie years ago, and just for kicks decided to rent it and watch it again. the plot is a carbon copy from night. i did like the hairy vampire and the bug eating driver. otherwise it was not at all.\n",
      "perturbed probabilities:  [0.9966400265693665, 0.003359973430633545]\n",
      "nPIR Original Class:  0.005\n"
     ]
    },
    {
     "data": {
      "text/html": [
       "<span><b>i</b></span> <span><b>saw</b></span> <span><b>this</b></span> <span><b>movie</b></span> <span style=\"background-color:rgba(0, 255, 255, 1)\"><b>many</b></span> <span><b>years</b></span> <span><b>ago</b></span> <span><b>,</b></span> <span><b>and</b></span> <span><b>just</b></span> <span><b>for</b></span> <span><b>kicks</b></span> <span><b>decided</b></span> <span><b>to</b></span> <span><b>rent</b></span> <span><b>it</b></span> <span><b>and</b></span> <span><b>watch</b></span> <span><b>it</b></span> <span><b>again</b></span> <span><b>.</b></span> <span><b>the</b></span> <span><b>plot</b></span> <span><b>is</b></span> <span><b>a</b></span> <span><b>carbon</b></span> <span><b>copy</b></span> <span><b>from</b></span> <span style=\"background-color:rgba(0, 255, 255, 1)\"><b>fright</b></span> <span><b>night</b></span> <span><b>.</b></span> <span><b>i</b></span> <span><b>did</b></span> <span><b>like</b></span> <span><b>the</b></span> <span><b>hairy</b></span> <span><b>vampire</b></span> <span><b>and</b></span> <span><b>the</b></span> <span><b>bug</b></span> <span><b>eating</b></span> <span><b>driver</b></span> <span><b>.</b></span> <span><b>otherwise</b></span> <span><b>it</b></span> <span><b>was</b></span> <span><b>not</b></span> <span style=\"background-color:rgba(0, 255, 255, 1)\"><b>good</b></span> <span><b>at</b></span> <span><b>all</b></span> <span><b>.</b></span> "
      ],
      "text/plain": [
       "<IPython.core.display.HTML object>"
      ]
     },
     "metadata": {},
     "output_type": "display_data"
    },
    {
     "name": "stdout",
     "output_type": "stream",
     "text": [
      "\n",
      "\n",
      "\n",
      "\n",
      "LocalExplanationId: 12, FeatureId: 12\n",
      "feature type:  POS\n",
      "feature description:  Combination of Adjectives and Others (Cardinal Numbers, Foreign Words, Symbols)\n",
      "feature (position,token):  {'4': 'many', '28': 'fright', '47': 'good'}\n",
      "Perturbed Text:   i saw this movie years ago, and just for kicks decided to rent it and watch it again. the plot is a carbon copy from night. i did like the hairy vampire and the bug eating driver. otherwise it was not at all.\n",
      "perturbed probabilities:  [0.9966400265693665, 0.003359973430633545]\n",
      "nPIR Original Class:  0.005\n"
     ]
    },
    {
     "data": {
      "text/html": [
       "<span><b>i</b></span> <span><b>saw</b></span> <span><b>this</b></span> <span><b>movie</b></span> <span style=\"background-color:rgba(0, 255, 255, 1)\"><b>many</b></span> <span><b>years</b></span> <span><b>ago</b></span> <span><b>,</b></span> <span><b>and</b></span> <span><b>just</b></span> <span><b>for</b></span> <span><b>kicks</b></span> <span><b>decided</b></span> <span><b>to</b></span> <span><b>rent</b></span> <span><b>it</b></span> <span><b>and</b></span> <span><b>watch</b></span> <span><b>it</b></span> <span><b>again</b></span> <span><b>.</b></span> <span><b>the</b></span> <span><b>plot</b></span> <span><b>is</b></span> <span><b>a</b></span> <span><b>carbon</b></span> <span><b>copy</b></span> <span><b>from</b></span> <span style=\"background-color:rgba(0, 255, 255, 1)\"><b>fright</b></span> <span><b>night</b></span> <span><b>.</b></span> <span><b>i</b></span> <span><b>did</b></span> <span><b>like</b></span> <span><b>the</b></span> <span><b>hairy</b></span> <span><b>vampire</b></span> <span><b>and</b></span> <span><b>the</b></span> <span><b>bug</b></span> <span><b>eating</b></span> <span><b>driver</b></span> <span><b>.</b></span> <span><b>otherwise</b></span> <span><b>it</b></span> <span><b>was</b></span> <span><b>not</b></span> <span style=\"background-color:rgba(0, 255, 255, 1)\"><b>good</b></span> <span><b>at</b></span> <span><b>all</b></span> <span><b>.</b></span> "
      ],
      "text/plain": [
       "<IPython.core.display.HTML object>"
      ]
     },
     "metadata": {},
     "output_type": "display_data"
    },
    {
     "name": "stdout",
     "output_type": "stream",
     "text": [
      "\n",
      "\n",
      "\n",
      "\n",
      "LocalExplanationId: 8, FeatureId: 8\n",
      "feature type:  POS\n",
      "feature description:  Combination of Adjectives and Verbs\n",
      "feature (position,token):  {'4': 'many', '28': 'fright', '47': 'good', '1': 'saw', '12': 'decided', '14': 'rent', '17': 'watch', '23': 'is', '32': 'did', '40': 'eating', '43': 'otherwise', '45': 'was'}\n",
      "Perturbed Text:   i this movie years ago, and just for kicks to it and it again. the plot a carbon copy from night. i like the hairy vampire and the bug driver. it not at all.\n",
      "perturbed probabilities:  [0.9984253644943237, 0.0015746057033538818]\n",
      "nPIR Original Class:  0.001\n"
     ]
    },
    {
     "data": {
      "text/html": [
       "<span><b>i</b></span> <span style=\"background-color:rgba(0, 255, 255, 1)\"><b>saw</b></span> <span><b>this</b></span> <span><b>movie</b></span> <span style=\"background-color:rgba(0, 255, 255, 1)\"><b>many</b></span> <span><b>years</b></span> <span><b>ago</b></span> <span><b>,</b></span> <span><b>and</b></span> <span><b>just</b></span> <span><b>for</b></span> <span><b>kicks</b></span> <span style=\"background-color:rgba(0, 255, 255, 1)\"><b>decided</b></span> <span><b>to</b></span> <span style=\"background-color:rgba(0, 255, 255, 1)\"><b>rent</b></span> <span><b>it</b></span> <span><b>and</b></span> <span style=\"background-color:rgba(0, 255, 255, 1)\"><b>watch</b></span> <span><b>it</b></span> <span><b>again</b></span> <span><b>.</b></span> <span><b>the</b></span> <span><b>plot</b></span> <span style=\"background-color:rgba(0, 255, 255, 1)\"><b>is</b></span> <span><b>a</b></span> <span><b>carbon</b></span> <span><b>copy</b></span> <span><b>from</b></span> <span style=\"background-color:rgba(0, 255, 255, 1)\"><b>fright</b></span> <span><b>night</b></span> <span><b>.</b></span> <span><b>i</b></span> <span style=\"background-color:rgba(0, 255, 255, 1)\"><b>did</b></span> <span><b>like</b></span> <span><b>the</b></span> <span><b>hairy</b></span> <span><b>vampire</b></span> <span><b>and</b></span> <span><b>the</b></span> <span><b>bug</b></span> <span style=\"background-color:rgba(0, 255, 255, 1)\"><b>eating</b></span> <span><b>driver</b></span> <span><b>.</b></span> <span style=\"background-color:rgba(0, 255, 255, 1)\"><b>otherwise</b></span> <span><b>it</b></span> <span style=\"background-color:rgba(0, 255, 255, 1)\"><b>was</b></span> <span><b>not</b></span> <span style=\"background-color:rgba(0, 255, 255, 1)\"><b>good</b></span> <span><b>at</b></span> <span><b>all</b></span> <span><b>.</b></span> "
      ],
      "text/plain": [
       "<IPython.core.display.HTML object>"
      ]
     },
     "metadata": {},
     "output_type": "display_data"
    },
    {
     "name": "stdout",
     "output_type": "stream",
     "text": [
      "\n",
      "\n",
      "\n",
      "\n",
      "LocalExplanationId: 4, FeatureId: 4\n",
      "feature type:  POS\n",
      "feature description:  Pronouns, Predeterminers, WH\n",
      "feature (position,token):  {'15': 'it', '18': 'it', '44': 'it'}\n",
      "Perturbed Text:   i saw this movie many years ago, and just for kicks decided to rent and watch again. the plot is a carbon copy from fright night. i did like the hairy vampire and the bug eating driver. otherwise was not good at all.\n",
      "perturbed probabilities:  [0.9987318515777588, 0.0012681186199188232]\n",
      "nPIR Original Class:  0.001\n"
     ]
    },
    {
     "data": {
      "text/html": [
       "<span><b>i</b></span> <span><b>saw</b></span> <span><b>this</b></span> <span><b>movie</b></span> <span><b>many</b></span> <span><b>years</b></span> <span><b>ago</b></span> <span><b>,</b></span> <span><b>and</b></span> <span><b>just</b></span> <span><b>for</b></span> <span><b>kicks</b></span> <span><b>decided</b></span> <span><b>to</b></span> <span><b>rent</b></span> <span style=\"background-color:rgba(0, 255, 255, 1)\"><b>it</b></span> <span><b>and</b></span> <span><b>watch</b></span> <span style=\"background-color:rgba(0, 255, 255, 1)\"><b>it</b></span> <span><b>again</b></span> <span><b>.</b></span> <span><b>the</b></span> <span><b>plot</b></span> <span><b>is</b></span> <span><b>a</b></span> <span><b>carbon</b></span> <span><b>copy</b></span> <span><b>from</b></span> <span><b>fright</b></span> <span><b>night</b></span> <span><b>.</b></span> <span><b>i</b></span> <span><b>did</b></span> <span><b>like</b></span> <span><b>the</b></span> <span><b>hairy</b></span> <span><b>vampire</b></span> <span><b>and</b></span> <span><b>the</b></span> <span><b>bug</b></span> <span><b>eating</b></span> <span><b>driver</b></span> <span><b>.</b></span> <span><b>otherwise</b></span> <span style=\"background-color:rgba(0, 255, 255, 1)\"><b>it</b></span> <span><b>was</b></span> <span><b>not</b></span> <span><b>good</b></span> <span><b>at</b></span> <span><b>all</b></span> <span><b>.</b></span> "
      ],
      "text/plain": [
       "<IPython.core.display.HTML object>"
      ]
     },
     "metadata": {},
     "output_type": "display_data"
    },
    {
     "name": "stdout",
     "output_type": "stream",
     "text": [
      "\n",
      "\n",
      "\n",
      "\n",
      "LocalExplanationId: 25, FeatureId: 25\n",
      "feature type:  POS\n",
      "feature description:  Combination of Pronouns, Predeterminers, WH and Interjections\n",
      "feature (position,token):  {'15': 'it', '18': 'it', '44': 'it'}\n",
      "Perturbed Text:   i saw this movie many years ago, and just for kicks decided to rent and watch again. the plot is a carbon copy from fright night. i did like the hairy vampire and the bug eating driver. otherwise was not good at all.\n",
      "perturbed probabilities:  [0.9987318515777588, 0.0012681186199188232]\n",
      "nPIR Original Class:  0.001\n"
     ]
    },
    {
     "data": {
      "text/html": [
       "<span><b>i</b></span> <span><b>saw</b></span> <span><b>this</b></span> <span><b>movie</b></span> <span><b>many</b></span> <span><b>years</b></span> <span><b>ago</b></span> <span><b>,</b></span> <span><b>and</b></span> <span><b>just</b></span> <span><b>for</b></span> <span><b>kicks</b></span> <span><b>decided</b></span> <span><b>to</b></span> <span><b>rent</b></span> <span style=\"background-color:rgba(0, 255, 255, 1)\"><b>it</b></span> <span><b>and</b></span> <span><b>watch</b></span> <span style=\"background-color:rgba(0, 255, 255, 1)\"><b>it</b></span> <span><b>again</b></span> <span><b>.</b></span> <span><b>the</b></span> <span><b>plot</b></span> <span><b>is</b></span> <span><b>a</b></span> <span><b>carbon</b></span> <span><b>copy</b></span> <span><b>from</b></span> <span><b>fright</b></span> <span><b>night</b></span> <span><b>.</b></span> <span><b>i</b></span> <span><b>did</b></span> <span><b>like</b></span> <span><b>the</b></span> <span><b>hairy</b></span> <span><b>vampire</b></span> <span><b>and</b></span> <span><b>the</b></span> <span><b>bug</b></span> <span><b>eating</b></span> <span><b>driver</b></span> <span><b>.</b></span> <span><b>otherwise</b></span> <span style=\"background-color:rgba(0, 255, 255, 1)\"><b>it</b></span> <span><b>was</b></span> <span><b>not</b></span> <span><b>good</b></span> <span><b>at</b></span> <span><b>all</b></span> <span><b>.</b></span> "
      ],
      "text/plain": [
       "<IPython.core.display.HTML object>"
      ]
     },
     "metadata": {},
     "output_type": "display_data"
    },
    {
     "name": "stdout",
     "output_type": "stream",
     "text": [
      "\n",
      "\n",
      "\n",
      "\n",
      "LocalExplanationId: 26, FeatureId: 26\n",
      "feature type:  POS\n",
      "feature description:  Combination of Pronouns, Predeterminers, WH and Others (Cardinal Numbers, Foreign Words, Symbols)\n",
      "feature (position,token):  {'15': 'it', '18': 'it', '44': 'it'}\n",
      "Perturbed Text:   i saw this movie many years ago, and just for kicks decided to rent and watch again. the plot is a carbon copy from fright night. i did like the hairy vampire and the bug eating driver. otherwise was not good at all.\n",
      "perturbed probabilities:  [0.9987318515777588, 0.0012681186199188232]\n",
      "nPIR Original Class:  0.001\n"
     ]
    },
    {
     "data": {
      "text/html": [
       "<span><b>i</b></span> <span><b>saw</b></span> <span><b>this</b></span> <span><b>movie</b></span> <span><b>many</b></span> <span><b>years</b></span> <span><b>ago</b></span> <span><b>,</b></span> <span><b>and</b></span> <span><b>just</b></span> <span><b>for</b></span> <span><b>kicks</b></span> <span><b>decided</b></span> <span><b>to</b></span> <span><b>rent</b></span> <span style=\"background-color:rgba(0, 255, 255, 1)\"><b>it</b></span> <span><b>and</b></span> <span><b>watch</b></span> <span style=\"background-color:rgba(0, 255, 255, 1)\"><b>it</b></span> <span><b>again</b></span> <span><b>.</b></span> <span><b>the</b></span> <span><b>plot</b></span> <span><b>is</b></span> <span><b>a</b></span> <span><b>carbon</b></span> <span><b>copy</b></span> <span><b>from</b></span> <span><b>fright</b></span> <span><b>night</b></span> <span><b>.</b></span> <span><b>i</b></span> <span><b>did</b></span> <span><b>like</b></span> <span><b>the</b></span> <span><b>hairy</b></span> <span><b>vampire</b></span> <span><b>and</b></span> <span><b>the</b></span> <span><b>bug</b></span> <span><b>eating</b></span> <span><b>driver</b></span> <span><b>.</b></span> <span><b>otherwise</b></span> <span style=\"background-color:rgba(0, 255, 255, 1)\"><b>it</b></span> <span><b>was</b></span> <span><b>not</b></span> <span><b>good</b></span> <span><b>at</b></span> <span><b>all</b></span> <span><b>.</b></span> "
      ],
      "text/plain": [
       "<IPython.core.display.HTML object>"
      ]
     },
     "metadata": {},
     "output_type": "display_data"
    },
    {
     "name": "stdout",
     "output_type": "stream",
     "text": [
      "\n",
      "\n",
      "\n",
      "\n",
      "LocalExplanationId: 2, FeatureId: 2\n",
      "feature type:  POS\n",
      "feature description:  Verbs\n",
      "feature (position,token):  {'1': 'saw', '12': 'decided', '14': 'rent', '17': 'watch', '23': 'is', '32': 'did', '40': 'eating', '43': 'otherwise', '45': 'was'}\n",
      "Perturbed Text:   i this movie many years ago, and just for kicks to it and it again. the plot a carbon copy from fright night. i like the hairy vampire and the bug driver. it not good at all.\n",
      "perturbed probabilities:  [0.9994001984596252, 0.0005998015403747559]\n",
      "nPIR Original Class:  -0.001\n"
     ]
    },
    {
     "data": {
      "text/html": [
       "<span><b>i</b></span> <span style=\"background-color:rgba(0, 255, 255, 1)\"><b>saw</b></span> <span><b>this</b></span> <span><b>movie</b></span> <span><b>many</b></span> <span><b>years</b></span> <span><b>ago</b></span> <span><b>,</b></span> <span><b>and</b></span> <span><b>just</b></span> <span><b>for</b></span> <span><b>kicks</b></span> <span style=\"background-color:rgba(0, 255, 255, 1)\"><b>decided</b></span> <span><b>to</b></span> <span style=\"background-color:rgba(0, 255, 255, 1)\"><b>rent</b></span> <span><b>it</b></span> <span><b>and</b></span> <span style=\"background-color:rgba(0, 255, 255, 1)\"><b>watch</b></span> <span><b>it</b></span> <span><b>again</b></span> <span><b>.</b></span> <span><b>the</b></span> <span><b>plot</b></span> <span style=\"background-color:rgba(0, 255, 255, 1)\"><b>is</b></span> <span><b>a</b></span> <span><b>carbon</b></span> <span><b>copy</b></span> <span><b>from</b></span> <span><b>fright</b></span> <span><b>night</b></span> <span><b>.</b></span> <span><b>i</b></span> <span style=\"background-color:rgba(0, 255, 255, 1)\"><b>did</b></span> <span><b>like</b></span> <span><b>the</b></span> <span><b>hairy</b></span> <span><b>vampire</b></span> <span><b>and</b></span> <span><b>the</b></span> <span><b>bug</b></span> <span style=\"background-color:rgba(0, 255, 255, 1)\"><b>eating</b></span> <span><b>driver</b></span> <span><b>.</b></span> <span style=\"background-color:rgba(0, 255, 255, 1)\"><b>otherwise</b></span> <span><b>it</b></span> <span style=\"background-color:rgba(0, 255, 255, 1)\"><b>was</b></span> <span><b>not</b></span> <span><b>good</b></span> <span><b>at</b></span> <span><b>all</b></span> <span><b>.</b></span> "
      ],
      "text/plain": [
       "<IPython.core.display.HTML object>"
      ]
     },
     "metadata": {},
     "output_type": "display_data"
    },
    {
     "name": "stdout",
     "output_type": "stream",
     "text": [
      "\n",
      "\n",
      "\n",
      "\n",
      "LocalExplanationId: 20, FeatureId: 20\n",
      "feature type:  POS\n",
      "feature description:  Combination of Verbs and Interjections\n",
      "feature (position,token):  {'1': 'saw', '12': 'decided', '14': 'rent', '17': 'watch', '23': 'is', '32': 'did', '40': 'eating', '43': 'otherwise', '45': 'was'}\n",
      "Perturbed Text:   i this movie many years ago, and just for kicks to it and it again. the plot a carbon copy from fright night. i like the hairy vampire and the bug driver. it not good at all.\n",
      "perturbed probabilities:  [0.9994001984596252, 0.0005998015403747559]\n",
      "nPIR Original Class:  -0.001\n"
     ]
    },
    {
     "data": {
      "text/html": [
       "<span><b>i</b></span> <span style=\"background-color:rgba(0, 255, 255, 1)\"><b>saw</b></span> <span><b>this</b></span> <span><b>movie</b></span> <span><b>many</b></span> <span><b>years</b></span> <span><b>ago</b></span> <span><b>,</b></span> <span><b>and</b></span> <span><b>just</b></span> <span><b>for</b></span> <span><b>kicks</b></span> <span style=\"background-color:rgba(0, 255, 255, 1)\"><b>decided</b></span> <span><b>to</b></span> <span style=\"background-color:rgba(0, 255, 255, 1)\"><b>rent</b></span> <span><b>it</b></span> <span><b>and</b></span> <span style=\"background-color:rgba(0, 255, 255, 1)\"><b>watch</b></span> <span><b>it</b></span> <span><b>again</b></span> <span><b>.</b></span> <span><b>the</b></span> <span><b>plot</b></span> <span style=\"background-color:rgba(0, 255, 255, 1)\"><b>is</b></span> <span><b>a</b></span> <span><b>carbon</b></span> <span><b>copy</b></span> <span><b>from</b></span> <span><b>fright</b></span> <span><b>night</b></span> <span><b>.</b></span> <span><b>i</b></span> <span style=\"background-color:rgba(0, 255, 255, 1)\"><b>did</b></span> <span><b>like</b></span> <span><b>the</b></span> <span><b>hairy</b></span> <span><b>vampire</b></span> <span><b>and</b></span> <span><b>the</b></span> <span><b>bug</b></span> <span style=\"background-color:rgba(0, 255, 255, 1)\"><b>eating</b></span> <span><b>driver</b></span> <span><b>.</b></span> <span style=\"background-color:rgba(0, 255, 255, 1)\"><b>otherwise</b></span> <span><b>it</b></span> <span style=\"background-color:rgba(0, 255, 255, 1)\"><b>was</b></span> <span><b>not</b></span> <span><b>good</b></span> <span><b>at</b></span> <span><b>all</b></span> <span><b>.</b></span> "
      ],
      "text/plain": [
       "<IPython.core.display.HTML object>"
      ]
     },
     "metadata": {},
     "output_type": "display_data"
    },
    {
     "name": "stdout",
     "output_type": "stream",
     "text": [
      "\n",
      "\n",
      "\n",
      "\n",
      "LocalExplanationId: 21, FeatureId: 21\n",
      "feature type:  POS\n",
      "feature description:  Combination of Verbs and Others (Cardinal Numbers, Foreign Words, Symbols)\n",
      "feature (position,token):  {'1': 'saw', '12': 'decided', '14': 'rent', '17': 'watch', '23': 'is', '32': 'did', '40': 'eating', '43': 'otherwise', '45': 'was'}\n",
      "Perturbed Text:   i this movie many years ago, and just for kicks to it and it again. the plot a carbon copy from fright night. i like the hairy vampire and the bug driver. it not good at all.\n",
      "perturbed probabilities:  [0.9994001984596252, 0.0005998015403747559]\n",
      "nPIR Original Class:  -0.001\n"
     ]
    },
    {
     "data": {
      "text/html": [
       "<span><b>i</b></span> <span style=\"background-color:rgba(0, 255, 255, 1)\"><b>saw</b></span> <span><b>this</b></span> <span><b>movie</b></span> <span><b>many</b></span> <span><b>years</b></span> <span><b>ago</b></span> <span><b>,</b></span> <span><b>and</b></span> <span><b>just</b></span> <span><b>for</b></span> <span><b>kicks</b></span> <span style=\"background-color:rgba(0, 255, 255, 1)\"><b>decided</b></span> <span><b>to</b></span> <span style=\"background-color:rgba(0, 255, 255, 1)\"><b>rent</b></span> <span><b>it</b></span> <span><b>and</b></span> <span style=\"background-color:rgba(0, 255, 255, 1)\"><b>watch</b></span> <span><b>it</b></span> <span><b>again</b></span> <span><b>.</b></span> <span><b>the</b></span> <span><b>plot</b></span> <span style=\"background-color:rgba(0, 255, 255, 1)\"><b>is</b></span> <span><b>a</b></span> <span><b>carbon</b></span> <span><b>copy</b></span> <span><b>from</b></span> <span><b>fright</b></span> <span><b>night</b></span> <span><b>.</b></span> <span><b>i</b></span> <span style=\"background-color:rgba(0, 255, 255, 1)\"><b>did</b></span> <span><b>like</b></span> <span><b>the</b></span> <span><b>hairy</b></span> <span><b>vampire</b></span> <span><b>and</b></span> <span><b>the</b></span> <span><b>bug</b></span> <span style=\"background-color:rgba(0, 255, 255, 1)\"><b>eating</b></span> <span><b>driver</b></span> <span><b>.</b></span> <span style=\"background-color:rgba(0, 255, 255, 1)\"><b>otherwise</b></span> <span><b>it</b></span> <span style=\"background-color:rgba(0, 255, 255, 1)\"><b>was</b></span> <span><b>not</b></span> <span><b>good</b></span> <span><b>at</b></span> <span><b>all</b></span> <span><b>.</b></span> "
      ],
      "text/plain": [
       "<IPython.core.display.HTML object>"
      ]
     },
     "metadata": {},
     "output_type": "display_data"
    },
    {
     "name": "stdout",
     "output_type": "stream",
     "text": [
      "\n",
      "\n",
      "\n",
      "\n",
      "LocalExplanationId: 19, FeatureId: 19\n",
      "feature type:  POS\n",
      "feature description:  Combination of Verbs and Pronouns, Predeterminers, WH\n",
      "feature (position,token):  {'1': 'saw', '12': 'decided', '14': 'rent', '17': 'watch', '23': 'is', '32': 'did', '40': 'eating', '43': 'otherwise', '45': 'was', '15': 'it', '18': 'it', '44': 'it'}\n",
      "Perturbed Text:   i this movie many years ago, and just for kicks to and again. the plot a carbon copy from fright night. i like the hairy vampire and the bug driver. not good at all.\n",
      "perturbed probabilities:  [0.9994635581970215, 0.0005364716053009033]\n",
      "nPIR Original Class:  -0.001\n"
     ]
    },
    {
     "data": {
      "text/html": [
       "<span><b>i</b></span> <span style=\"background-color:rgba(0, 255, 255, 1)\"><b>saw</b></span> <span><b>this</b></span> <span><b>movie</b></span> <span><b>many</b></span> <span><b>years</b></span> <span><b>ago</b></span> <span><b>,</b></span> <span><b>and</b></span> <span><b>just</b></span> <span><b>for</b></span> <span><b>kicks</b></span> <span style=\"background-color:rgba(0, 255, 255, 1)\"><b>decided</b></span> <span><b>to</b></span> <span style=\"background-color:rgba(0, 255, 255, 1)\"><b>rent</b></span> <span style=\"background-color:rgba(0, 255, 255, 1)\"><b>it</b></span> <span><b>and</b></span> <span style=\"background-color:rgba(0, 255, 255, 1)\"><b>watch</b></span> <span style=\"background-color:rgba(0, 255, 255, 1)\"><b>it</b></span> <span><b>again</b></span> <span><b>.</b></span> <span><b>the</b></span> <span><b>plot</b></span> <span style=\"background-color:rgba(0, 255, 255, 1)\"><b>is</b></span> <span><b>a</b></span> <span><b>carbon</b></span> <span><b>copy</b></span> <span><b>from</b></span> <span><b>fright</b></span> <span><b>night</b></span> <span><b>.</b></span> <span><b>i</b></span> <span style=\"background-color:rgba(0, 255, 255, 1)\"><b>did</b></span> <span><b>like</b></span> <span><b>the</b></span> <span><b>hairy</b></span> <span><b>vampire</b></span> <span><b>and</b></span> <span><b>the</b></span> <span><b>bug</b></span> <span style=\"background-color:rgba(0, 255, 255, 1)\"><b>eating</b></span> <span><b>driver</b></span> <span><b>.</b></span> <span style=\"background-color:rgba(0, 255, 255, 1)\"><b>otherwise</b></span> <span style=\"background-color:rgba(0, 255, 255, 1)\"><b>it</b></span> <span style=\"background-color:rgba(0, 255, 255, 1)\"><b>was</b></span> <span><b>not</b></span> <span><b>good</b></span> <span><b>at</b></span> <span><b>all</b></span> <span><b>.</b></span> "
      ],
      "text/plain": [
       "<IPython.core.display.HTML object>"
      ]
     },
     "metadata": {},
     "output_type": "display_data"
    },
    {
     "name": "stdout",
     "output_type": "stream",
     "text": [
      "\n",
      "\n",
      "\n",
      "\n"
     ]
    }
   ],
   "source": [
    "print(\"Original Probabilities: {}\".format(input_info[\"original_probabilities\"]))\n",
    "print(\"Original label: {}\".format(input_info[\"original_label\"]))\n",
    "print(\"\\n\\n\")\n",
    "min_nPIR_pos = -1\n",
    "max_nPIR_pos = 1\n",
    "\n",
    "for le in sorted(pos_local_explanations_comb, key=lambda le: le[\"nPIR_original_top_class\"], reverse=True ):\n",
    "    if le[\"nPIR_original_top_class\"] >= min_nPIR_pos and le[\"nPIR_original_top_class\"] <= max_nPIR_pos:\n",
    "        print_local_explanation(le, input_positions_tokens)"
   ]
  },
  {
   "cell_type": "code",
   "execution_count": 15,
   "metadata": {
    "scrolled": false
   },
   "outputs": [
    {
     "data": {
      "text/html": [
       "<h1>Sentences Features Summary</h1>"
      ],
      "text/plain": [
       "<IPython.core.display.HTML object>"
      ]
     },
     "metadata": {},
     "output_type": "display_data"
    },
    {
     "data": {
      "text/html": [
       "<b>Predicted Class: Negative </b>"
      ],
      "text/plain": [
       "<IPython.core.display.HTML object>"
      ]
     },
     "metadata": {},
     "output_type": "display_data"
    },
    {
     "data": {
      "text/html": [
       "<b>Original Probability: [0.9990951418876648, 0.0009048581123352051] </b>"
      ],
      "text/plain": [
       "<IPython.core.display.HTML object>"
      ]
     },
     "metadata": {},
     "output_type": "display_data"
    },
    {
     "data": {
      "text/html": [
       "<span style=\"background-color:rgba(255, 99, 71, -0.0007)\"><b>i</b></span> <span style=\"background-color:rgba(255, 99, 71, -0.0007)\"><b>saw</b></span> <span style=\"background-color:rgba(255, 99, 71, -0.0007)\"><b>this</b></span> <span style=\"background-color:rgba(255, 99, 71, -0.0007)\"><b>movie</b></span> <span style=\"background-color:rgba(255, 99, 71, -0.0007)\"><b>many</b></span> <span style=\"background-color:rgba(255, 99, 71, -0.0007)\"><b>years</b></span> <span style=\"background-color:rgba(255, 99, 71, -0.0007)\"><b>ago</b></span> <span style=\"background-color:rgba(255, 99, 71, -0.0007)\"><b>,</b></span> <span style=\"background-color:rgba(255, 99, 71, -0.0007)\"><b>and</b></span> <span style=\"background-color:rgba(255, 99, 71, -0.0007)\"><b>just</b></span> <span style=\"background-color:rgba(255, 99, 71, -0.0007)\"><b>for</b></span> <span style=\"background-color:rgba(255, 99, 71, -0.0007)\"><b>kicks</b></span> <span style=\"background-color:rgba(255, 99, 71, -0.0007)\"><b>decided</b></span> <span style=\"background-color:rgba(255, 99, 71, -0.0007)\"><b>to</b></span> <span style=\"background-color:rgba(255, 99, 71, -0.0007)\"><b>rent</b></span> <span style=\"background-color:rgba(255, 99, 71, -0.0007)\"><b>it</b></span> <span style=\"background-color:rgba(255, 99, 71, -0.0007)\"><b>and</b></span> <span style=\"background-color:rgba(255, 99, 71, -0.0007)\"><b>watch</b></span> <span style=\"background-color:rgba(255, 99, 71, -0.0007)\"><b>it</b></span> <span style=\"background-color:rgba(255, 99, 71, -0.0007)\"><b>again</b></span> <span style=\"background-color:rgba(255, 99, 71, -0.0007)\"><b>.</b></span> <span style=\"background-color:rgba(124, 252, 0, 0.0004)\"><b>the</b></span> <span style=\"background-color:rgba(124, 252, 0, 0.0004)\"><b>plot</b></span> <span style=\"background-color:rgba(124, 252, 0, 0.0004)\"><b>is</b></span> <span style=\"background-color:rgba(124, 252, 0, 0.0004)\"><b>a</b></span> <span style=\"background-color:rgba(124, 252, 0, 0.0004)\"><b>carbon</b></span> <span style=\"background-color:rgba(124, 252, 0, 0.0004)\"><b>copy</b></span> <span style=\"background-color:rgba(124, 252, 0, 0.0004)\"><b>from</b></span> <span style=\"background-color:rgba(124, 252, 0, 0.0004)\"><b>fright</b></span> <span style=\"background-color:rgba(124, 252, 0, 0.0004)\"><b>night</b></span> <span style=\"background-color:rgba(124, 252, 0, 0.0004)\"><b>.</b></span> <span style=\"background-color:rgba(255, 99, 71, -0.0005)\"><b>i</b></span> <span style=\"background-color:rgba(255, 99, 71, -0.0005)\"><b>did</b></span> <span style=\"background-color:rgba(255, 99, 71, -0.0005)\"><b>like</b></span> <span style=\"background-color:rgba(255, 99, 71, -0.0005)\"><b>the</b></span> <span style=\"background-color:rgba(255, 99, 71, -0.0005)\"><b>hairy</b></span> <span style=\"background-color:rgba(255, 99, 71, -0.0005)\"><b>vampire</b></span> <span style=\"background-color:rgba(255, 99, 71, -0.0005)\"><b>and</b></span> <span style=\"background-color:rgba(255, 99, 71, -0.0005)\"><b>the</b></span> <span style=\"background-color:rgba(255, 99, 71, -0.0005)\"><b>bug</b></span> <span style=\"background-color:rgba(255, 99, 71, -0.0005)\"><b>eating</b></span> <span style=\"background-color:rgba(255, 99, 71, -0.0005)\"><b>driver</b></span> <span style=\"background-color:rgba(255, 99, 71, -0.0005)\"><b>.</b></span> <span style=\"background-color:rgba(124, 252, 0, 0.4351)\"><b>otherwise</b></span> <span style=\"background-color:rgba(124, 252, 0, 0.4351)\"><b>it</b></span> <span style=\"background-color:rgba(124, 252, 0, 0.4351)\"><b>was</b></span> <span style=\"background-color:rgba(124, 252, 0, 0.4351)\"><b>not</b></span> <span style=\"background-color:rgba(124, 252, 0, 0.4351)\"><b>good</b></span> <span style=\"background-color:rgba(124, 252, 0, 0.4351)\"><b>at</b></span> <span style=\"background-color:rgba(124, 252, 0, 0.4351)\"><b>all</b></span> <span style=\"background-color:rgba(124, 252, 0, 0.4351)\"><b>.</b></span> "
      ],
      "text/plain": [
       "<IPython.core.display.HTML object>"
      ]
     },
     "metadata": {},
     "output_type": "display_data"
    },
    {
     "data": {
      "text/html": [
       "(Features are highlighted in green if are positively influential for the predicted class, red otherwise. The intensity of the color is proportional to the nPIR score obtained by the word.) "
      ],
      "text/plain": [
       "<IPython.core.display.HTML object>"
      ]
     },
     "metadata": {},
     "output_type": "display_data"
    }
   ],
   "source": [
    "display(HTML('<h1>Sentences Features Summary</h1>'))\n",
    "display(HTML('<b>Predicted Class: {} </b>'.format(label_name(input_info[\"original_label\"]))))\n",
    "display(HTML('<b>Original Probability: {} </b>'.format(input_info[\"original_probabilities\"])))\n",
    "\n",
    "html_sen_string = get_summary_string(sen_positions_tokens_score)\n",
    "        \n",
    "display(HTML(html_sen_string))\n",
    "\n",
    "display(HTML('(Features are highlighted in green if are positively influential for the predicted class, red otherwise. The intensity of the color is proportional to the nPIR score obtained by the word.) '))  \n"
   ]
  },
  {
   "cell_type": "markdown",
   "metadata": {},
   "source": [
    "# SEN Most influential feature"
   ]
  },
  {
   "cell_type": "code",
   "execution_count": 16,
   "metadata": {
    "scrolled": false
   },
   "outputs": [
    {
     "name": "stdout",
     "output_type": "stream",
     "text": [
      "LocalExplanationId: 36, FeatureId: 8\n",
      "feature type:  SEN\n",
      "feature description:  Combination of 2° Sentence and 4° Sentence\n",
      "feature (position,token):  {'21': 'the', '22': 'plot', '23': 'is', '24': 'a', '25': 'carbon', '26': 'copy', '27': 'from', '28': 'fright', '29': 'night', '30': '.', '43': 'otherwise', '44': 'it', '45': 'was', '46': 'not', '47': 'good', '48': 'at', '49': 'all', '50': '.'}\n",
      "Perturbed Text:   i saw this movie many years ago, and just for kicks decided to rent it and watch it again. i did like the hairy vampire and the bug eating driver.\n",
      "perturbed probabilities:  [0.009644746780395508, 0.9903552532196045]\n",
      "nPIR Original Class:  0.99\n"
     ]
    },
    {
     "data": {
      "text/html": [
       "<span><b>i</b></span> <span><b>saw</b></span> <span><b>this</b></span> <span><b>movie</b></span> <span><b>many</b></span> <span><b>years</b></span> <span><b>ago</b></span> <span><b>,</b></span> <span><b>and</b></span> <span><b>just</b></span> <span><b>for</b></span> <span><b>kicks</b></span> <span><b>decided</b></span> <span><b>to</b></span> <span><b>rent</b></span> <span><b>it</b></span> <span><b>and</b></span> <span><b>watch</b></span> <span><b>it</b></span> <span><b>again</b></span> <span><b>.</b></span> <span style=\"background-color:rgba(0, 255, 255, 1)\"><b>the</b></span> <span style=\"background-color:rgba(0, 255, 255, 1)\"><b>plot</b></span> <span style=\"background-color:rgba(0, 255, 255, 1)\"><b>is</b></span> <span style=\"background-color:rgba(0, 255, 255, 1)\"><b>a</b></span> <span style=\"background-color:rgba(0, 255, 255, 1)\"><b>carbon</b></span> <span style=\"background-color:rgba(0, 255, 255, 1)\"><b>copy</b></span> <span style=\"background-color:rgba(0, 255, 255, 1)\"><b>from</b></span> <span style=\"background-color:rgba(0, 255, 255, 1)\"><b>fright</b></span> <span style=\"background-color:rgba(0, 255, 255, 1)\"><b>night</b></span> <span style=\"background-color:rgba(0, 255, 255, 1)\"><b>.</b></span> <span><b>i</b></span> <span><b>did</b></span> <span><b>like</b></span> <span><b>the</b></span> <span><b>hairy</b></span> <span><b>vampire</b></span> <span><b>and</b></span> <span><b>the</b></span> <span><b>bug</b></span> <span><b>eating</b></span> <span><b>driver</b></span> <span><b>.</b></span> <span style=\"background-color:rgba(0, 255, 255, 1)\"><b>otherwise</b></span> <span style=\"background-color:rgba(0, 255, 255, 1)\"><b>it</b></span> <span style=\"background-color:rgba(0, 255, 255, 1)\"><b>was</b></span> <span style=\"background-color:rgba(0, 255, 255, 1)\"><b>not</b></span> <span style=\"background-color:rgba(0, 255, 255, 1)\"><b>good</b></span> <span style=\"background-color:rgba(0, 255, 255, 1)\"><b>at</b></span> <span style=\"background-color:rgba(0, 255, 255, 1)\"><b>all</b></span> <span style=\"background-color:rgba(0, 255, 255, 1)\"><b>.</b></span> "
      ],
      "text/plain": [
       "<IPython.core.display.HTML object>"
      ]
     },
     "metadata": {},
     "output_type": "display_data"
    },
    {
     "name": "stdout",
     "output_type": "stream",
     "text": [
      "\n",
      "\n",
      "\n",
      "\n"
     ]
    }
   ],
   "source": [
    "most_influnetial_sen_feature =max(sen_local_explanations_comb, key= lambda le: le[\"nPIR_original_top_class\"])\n",
    "print_local_explanation(most_influnetial_sen_feature,input_positions_tokens)"
   ]
  },
  {
   "cell_type": "markdown",
   "metadata": {},
   "source": [
    "<h1> Query Sentences Features</h1>"
   ]
  },
  {
   "cell_type": "code",
   "execution_count": 17,
   "metadata": {
    "scrolled": false
   },
   "outputs": [
    {
     "name": "stdout",
     "output_type": "stream",
     "text": [
      "Original Probabilities: [0.9990951418876648, 0.0009048581123352051]\n",
      "Original label: 0\n",
      "\n",
      "\n",
      "\n",
      "LocalExplanationId: 36, FeatureId: 8\n",
      "feature type:  SEN\n",
      "feature description:  Combination of 2° Sentence and 4° Sentence\n",
      "feature (position,token):  {'21': 'the', '22': 'plot', '23': 'is', '24': 'a', '25': 'carbon', '26': 'copy', '27': 'from', '28': 'fright', '29': 'night', '30': '.', '43': 'otherwise', '44': 'it', '45': 'was', '46': 'not', '47': 'good', '48': 'at', '49': 'all', '50': '.'}\n",
      "Perturbed Text:   i saw this movie many years ago, and just for kicks decided to rent it and watch it again. i did like the hairy vampire and the bug eating driver.\n",
      "perturbed probabilities:  [0.009644746780395508, 0.9903552532196045]\n",
      "nPIR Original Class:  0.99\n"
     ]
    },
    {
     "data": {
      "text/html": [
       "<span><b>i</b></span> <span><b>saw</b></span> <span><b>this</b></span> <span><b>movie</b></span> <span><b>many</b></span> <span><b>years</b></span> <span><b>ago</b></span> <span><b>,</b></span> <span><b>and</b></span> <span><b>just</b></span> <span><b>for</b></span> <span><b>kicks</b></span> <span><b>decided</b></span> <span><b>to</b></span> <span><b>rent</b></span> <span><b>it</b></span> <span><b>and</b></span> <span><b>watch</b></span> <span><b>it</b></span> <span><b>again</b></span> <span><b>.</b></span> <span style=\"background-color:rgba(0, 255, 255, 1)\"><b>the</b></span> <span style=\"background-color:rgba(0, 255, 255, 1)\"><b>plot</b></span> <span style=\"background-color:rgba(0, 255, 255, 1)\"><b>is</b></span> <span style=\"background-color:rgba(0, 255, 255, 1)\"><b>a</b></span> <span style=\"background-color:rgba(0, 255, 255, 1)\"><b>carbon</b></span> <span style=\"background-color:rgba(0, 255, 255, 1)\"><b>copy</b></span> <span style=\"background-color:rgba(0, 255, 255, 1)\"><b>from</b></span> <span style=\"background-color:rgba(0, 255, 255, 1)\"><b>fright</b></span> <span style=\"background-color:rgba(0, 255, 255, 1)\"><b>night</b></span> <span style=\"background-color:rgba(0, 255, 255, 1)\"><b>.</b></span> <span><b>i</b></span> <span><b>did</b></span> <span><b>like</b></span> <span><b>the</b></span> <span><b>hairy</b></span> <span><b>vampire</b></span> <span><b>and</b></span> <span><b>the</b></span> <span><b>bug</b></span> <span><b>eating</b></span> <span><b>driver</b></span> <span><b>.</b></span> <span style=\"background-color:rgba(0, 255, 255, 1)\"><b>otherwise</b></span> <span style=\"background-color:rgba(0, 255, 255, 1)\"><b>it</b></span> <span style=\"background-color:rgba(0, 255, 255, 1)\"><b>was</b></span> <span style=\"background-color:rgba(0, 255, 255, 1)\"><b>not</b></span> <span style=\"background-color:rgba(0, 255, 255, 1)\"><b>good</b></span> <span style=\"background-color:rgba(0, 255, 255, 1)\"><b>at</b></span> <span style=\"background-color:rgba(0, 255, 255, 1)\"><b>all</b></span> <span style=\"background-color:rgba(0, 255, 255, 1)\"><b>.</b></span> "
      ],
      "text/plain": [
       "<IPython.core.display.HTML object>"
      ]
     },
     "metadata": {},
     "output_type": "display_data"
    },
    {
     "name": "stdout",
     "output_type": "stream",
     "text": [
      "\n",
      "\n",
      "\n",
      "\n",
      "LocalExplanationId: 37, FeatureId: 9\n",
      "feature type:  SEN\n",
      "feature description:  Combination of 3° Sentence and 4° Sentence\n",
      "feature (position,token):  {'31': 'i', '32': 'did', '33': 'like', '34': 'the', '35': 'hairy', '36': 'vampire', '37': 'and', '38': 'the', '39': 'bug', '40': 'eating', '41': 'driver', '42': '.', '43': 'otherwise', '44': 'it', '45': 'was', '46': 'not', '47': 'good', '48': 'at', '49': 'all', '50': '.'}\n",
      "Perturbed Text:   i saw this movie many years ago, and just for kicks decided to rent it and watch it again. the plot is a carbon copy from fright night.\n",
      "perturbed probabilities:  [0.608443558216095, 0.39155644178390503]\n",
      "nPIR Original Class:  0.468\n"
     ]
    },
    {
     "data": {
      "text/html": [
       "<span><b>i</b></span> <span><b>saw</b></span> <span><b>this</b></span> <span><b>movie</b></span> <span><b>many</b></span> <span><b>years</b></span> <span><b>ago</b></span> <span><b>,</b></span> <span><b>and</b></span> <span><b>just</b></span> <span><b>for</b></span> <span><b>kicks</b></span> <span><b>decided</b></span> <span><b>to</b></span> <span><b>rent</b></span> <span><b>it</b></span> <span><b>and</b></span> <span><b>watch</b></span> <span><b>it</b></span> <span><b>again</b></span> <span><b>.</b></span> <span><b>the</b></span> <span><b>plot</b></span> <span><b>is</b></span> <span><b>a</b></span> <span><b>carbon</b></span> <span><b>copy</b></span> <span><b>from</b></span> <span><b>fright</b></span> <span><b>night</b></span> <span><b>.</b></span> <span style=\"background-color:rgba(0, 255, 255, 1)\"><b>i</b></span> <span style=\"background-color:rgba(0, 255, 255, 1)\"><b>did</b></span> <span style=\"background-color:rgba(0, 255, 255, 1)\"><b>like</b></span> <span style=\"background-color:rgba(0, 255, 255, 1)\"><b>the</b></span> <span style=\"background-color:rgba(0, 255, 255, 1)\"><b>hairy</b></span> <span style=\"background-color:rgba(0, 255, 255, 1)\"><b>vampire</b></span> <span style=\"background-color:rgba(0, 255, 255, 1)\"><b>and</b></span> <span style=\"background-color:rgba(0, 255, 255, 1)\"><b>the</b></span> <span style=\"background-color:rgba(0, 255, 255, 1)\"><b>bug</b></span> <span style=\"background-color:rgba(0, 255, 255, 1)\"><b>eating</b></span> <span style=\"background-color:rgba(0, 255, 255, 1)\"><b>driver</b></span> <span style=\"background-color:rgba(0, 255, 255, 1)\"><b>.</b></span> <span style=\"background-color:rgba(0, 255, 255, 1)\"><b>otherwise</b></span> <span style=\"background-color:rgba(0, 255, 255, 1)\"><b>it</b></span> <span style=\"background-color:rgba(0, 255, 255, 1)\"><b>was</b></span> <span style=\"background-color:rgba(0, 255, 255, 1)\"><b>not</b></span> <span style=\"background-color:rgba(0, 255, 255, 1)\"><b>good</b></span> <span style=\"background-color:rgba(0, 255, 255, 1)\"><b>at</b></span> <span style=\"background-color:rgba(0, 255, 255, 1)\"><b>all</b></span> <span style=\"background-color:rgba(0, 255, 255, 1)\"><b>.</b></span> "
      ],
      "text/plain": [
       "<IPython.core.display.HTML object>"
      ]
     },
     "metadata": {},
     "output_type": "display_data"
    },
    {
     "name": "stdout",
     "output_type": "stream",
     "text": [
      "\n",
      "\n",
      "\n",
      "\n",
      "LocalExplanationId: 31, FeatureId: 3\n",
      "feature type:  SEN\n",
      "feature description:  4° Sentence\n",
      "feature (position,token):  {'43': 'otherwise', '44': 'it', '45': 'was', '46': 'not', '47': 'good', '48': 'at', '49': 'all', '50': '.'}\n",
      "Perturbed Text:   i saw this movie many years ago, and just for kicks decided to rent it and watch it again. the plot is a carbon copy from fright night. i did like the hairy vampire and the bug eating driver.\n",
      "perturbed probabilities:  [0.6475638151168823, 0.3524361848831177]\n",
      "nPIR Original Class:  0.435\n"
     ]
    },
    {
     "data": {
      "text/html": [
       "<span><b>i</b></span> <span><b>saw</b></span> <span><b>this</b></span> <span><b>movie</b></span> <span><b>many</b></span> <span><b>years</b></span> <span><b>ago</b></span> <span><b>,</b></span> <span><b>and</b></span> <span><b>just</b></span> <span><b>for</b></span> <span><b>kicks</b></span> <span><b>decided</b></span> <span><b>to</b></span> <span><b>rent</b></span> <span><b>it</b></span> <span><b>and</b></span> <span><b>watch</b></span> <span><b>it</b></span> <span><b>again</b></span> <span><b>.</b></span> <span><b>the</b></span> <span><b>plot</b></span> <span><b>is</b></span> <span><b>a</b></span> <span><b>carbon</b></span> <span><b>copy</b></span> <span><b>from</b></span> <span><b>fright</b></span> <span><b>night</b></span> <span><b>.</b></span> <span><b>i</b></span> <span><b>did</b></span> <span><b>like</b></span> <span><b>the</b></span> <span><b>hairy</b></span> <span><b>vampire</b></span> <span><b>and</b></span> <span><b>the</b></span> <span><b>bug</b></span> <span><b>eating</b></span> <span><b>driver</b></span> <span><b>.</b></span> <span style=\"background-color:rgba(0, 255, 255, 1)\"><b>otherwise</b></span> <span style=\"background-color:rgba(0, 255, 255, 1)\"><b>it</b></span> <span style=\"background-color:rgba(0, 255, 255, 1)\"><b>was</b></span> <span style=\"background-color:rgba(0, 255, 255, 1)\"><b>not</b></span> <span style=\"background-color:rgba(0, 255, 255, 1)\"><b>good</b></span> <span style=\"background-color:rgba(0, 255, 255, 1)\"><b>at</b></span> <span style=\"background-color:rgba(0, 255, 255, 1)\"><b>all</b></span> <span style=\"background-color:rgba(0, 255, 255, 1)\"><b>.</b></span> "
      ],
      "text/plain": [
       "<IPython.core.display.HTML object>"
      ]
     },
     "metadata": {},
     "output_type": "display_data"
    },
    {
     "name": "stdout",
     "output_type": "stream",
     "text": [
      "\n",
      "\n",
      "\n",
      "\n",
      "LocalExplanationId: 34, FeatureId: 6\n",
      "feature type:  SEN\n",
      "feature description:  Combination of 1° Sentence and 4° Sentence\n",
      "feature (position,token):  {'0': 'i', '1': 'saw', '2': 'this', '3': 'movie', '4': 'many', '5': 'years', '6': 'ago', '7': ',', '8': 'and', '9': 'just', '10': 'for', '11': 'kicks', '12': 'decided', '13': 'to', '14': 'rent', '15': 'it', '16': 'and', '17': 'watch', '18': 'it', '19': 'again', '20': '.', '43': 'otherwise', '44': 'it', '45': 'was', '46': 'not', '47': 'good', '48': 'at', '49': 'all', '50': '.'}\n",
      "Perturbed Text:   the plot is a carbon copy from fright night. i did like the hairy vampire and the bug eating driver.\n",
      "perturbed probabilities:  [0.6767352819442749, 0.3232647180557251]\n",
      "nPIR Original Class:  0.41\n"
     ]
    },
    {
     "data": {
      "text/html": [
       "<span style=\"background-color:rgba(0, 255, 255, 1)\"><b>i</b></span> <span style=\"background-color:rgba(0, 255, 255, 1)\"><b>saw</b></span> <span style=\"background-color:rgba(0, 255, 255, 1)\"><b>this</b></span> <span style=\"background-color:rgba(0, 255, 255, 1)\"><b>movie</b></span> <span style=\"background-color:rgba(0, 255, 255, 1)\"><b>many</b></span> <span style=\"background-color:rgba(0, 255, 255, 1)\"><b>years</b></span> <span style=\"background-color:rgba(0, 255, 255, 1)\"><b>ago</b></span> <span style=\"background-color:rgba(0, 255, 255, 1)\"><b>,</b></span> <span style=\"background-color:rgba(0, 255, 255, 1)\"><b>and</b></span> <span style=\"background-color:rgba(0, 255, 255, 1)\"><b>just</b></span> <span style=\"background-color:rgba(0, 255, 255, 1)\"><b>for</b></span> <span style=\"background-color:rgba(0, 255, 255, 1)\"><b>kicks</b></span> <span style=\"background-color:rgba(0, 255, 255, 1)\"><b>decided</b></span> <span style=\"background-color:rgba(0, 255, 255, 1)\"><b>to</b></span> <span style=\"background-color:rgba(0, 255, 255, 1)\"><b>rent</b></span> <span style=\"background-color:rgba(0, 255, 255, 1)\"><b>it</b></span> <span style=\"background-color:rgba(0, 255, 255, 1)\"><b>and</b></span> <span style=\"background-color:rgba(0, 255, 255, 1)\"><b>watch</b></span> <span style=\"background-color:rgba(0, 255, 255, 1)\"><b>it</b></span> <span style=\"background-color:rgba(0, 255, 255, 1)\"><b>again</b></span> <span style=\"background-color:rgba(0, 255, 255, 1)\"><b>.</b></span> <span><b>the</b></span> <span><b>plot</b></span> <span><b>is</b></span> <span><b>a</b></span> <span><b>carbon</b></span> <span><b>copy</b></span> <span><b>from</b></span> <span><b>fright</b></span> <span><b>night</b></span> <span><b>.</b></span> <span><b>i</b></span> <span><b>did</b></span> <span><b>like</b></span> <span><b>the</b></span> <span><b>hairy</b></span> <span><b>vampire</b></span> <span><b>and</b></span> <span><b>the</b></span> <span><b>bug</b></span> <span><b>eating</b></span> <span><b>driver</b></span> <span><b>.</b></span> <span style=\"background-color:rgba(0, 255, 255, 1)\"><b>otherwise</b></span> <span style=\"background-color:rgba(0, 255, 255, 1)\"><b>it</b></span> <span style=\"background-color:rgba(0, 255, 255, 1)\"><b>was</b></span> <span style=\"background-color:rgba(0, 255, 255, 1)\"><b>not</b></span> <span style=\"background-color:rgba(0, 255, 255, 1)\"><b>good</b></span> <span style=\"background-color:rgba(0, 255, 255, 1)\"><b>at</b></span> <span style=\"background-color:rgba(0, 255, 255, 1)\"><b>all</b></span> <span style=\"background-color:rgba(0, 255, 255, 1)\"><b>.</b></span> "
      ],
      "text/plain": [
       "<IPython.core.display.HTML object>"
      ]
     },
     "metadata": {},
     "output_type": "display_data"
    },
    {
     "name": "stdout",
     "output_type": "stream",
     "text": [
      "\n",
      "\n",
      "\n",
      "\n",
      "LocalExplanationId: 32, FeatureId: 4\n",
      "feature type:  SEN\n",
      "feature description:  Combination of 1° Sentence and 2° Sentence\n",
      "feature (position,token):  {'0': 'i', '1': 'saw', '2': 'this', '3': 'movie', '4': 'many', '5': 'years', '6': 'ago', '7': ',', '8': 'and', '9': 'just', '10': 'for', '11': 'kicks', '12': 'decided', '13': 'to', '14': 'rent', '15': 'it', '16': 'and', '17': 'watch', '18': 'it', '19': 'again', '20': '.', '21': 'the', '22': 'plot', '23': 'is', '24': 'a', '25': 'carbon', '26': 'copy', '27': 'from', '28': 'fright', '29': 'night', '30': '.'}\n",
      "Perturbed Text:   i did like the hairy vampire and the bug eating driver. otherwise it was not good at all.\n",
      "perturbed probabilities:  [0.9869811534881592, 0.013018876314163208]\n",
      "nPIR Original Class:  0.024\n"
     ]
    },
    {
     "data": {
      "text/html": [
       "<span style=\"background-color:rgba(0, 255, 255, 1)\"><b>i</b></span> <span style=\"background-color:rgba(0, 255, 255, 1)\"><b>saw</b></span> <span style=\"background-color:rgba(0, 255, 255, 1)\"><b>this</b></span> <span style=\"background-color:rgba(0, 255, 255, 1)\"><b>movie</b></span> <span style=\"background-color:rgba(0, 255, 255, 1)\"><b>many</b></span> <span style=\"background-color:rgba(0, 255, 255, 1)\"><b>years</b></span> <span style=\"background-color:rgba(0, 255, 255, 1)\"><b>ago</b></span> <span style=\"background-color:rgba(0, 255, 255, 1)\"><b>,</b></span> <span style=\"background-color:rgba(0, 255, 255, 1)\"><b>and</b></span> <span style=\"background-color:rgba(0, 255, 255, 1)\"><b>just</b></span> <span style=\"background-color:rgba(0, 255, 255, 1)\"><b>for</b></span> <span style=\"background-color:rgba(0, 255, 255, 1)\"><b>kicks</b></span> <span style=\"background-color:rgba(0, 255, 255, 1)\"><b>decided</b></span> <span style=\"background-color:rgba(0, 255, 255, 1)\"><b>to</b></span> <span style=\"background-color:rgba(0, 255, 255, 1)\"><b>rent</b></span> <span style=\"background-color:rgba(0, 255, 255, 1)\"><b>it</b></span> <span style=\"background-color:rgba(0, 255, 255, 1)\"><b>and</b></span> <span style=\"background-color:rgba(0, 255, 255, 1)\"><b>watch</b></span> <span style=\"background-color:rgba(0, 255, 255, 1)\"><b>it</b></span> <span style=\"background-color:rgba(0, 255, 255, 1)\"><b>again</b></span> <span style=\"background-color:rgba(0, 255, 255, 1)\"><b>.</b></span> <span style=\"background-color:rgba(0, 255, 255, 1)\"><b>the</b></span> <span style=\"background-color:rgba(0, 255, 255, 1)\"><b>plot</b></span> <span style=\"background-color:rgba(0, 255, 255, 1)\"><b>is</b></span> <span style=\"background-color:rgba(0, 255, 255, 1)\"><b>a</b></span> <span style=\"background-color:rgba(0, 255, 255, 1)\"><b>carbon</b></span> <span style=\"background-color:rgba(0, 255, 255, 1)\"><b>copy</b></span> <span style=\"background-color:rgba(0, 255, 255, 1)\"><b>from</b></span> <span style=\"background-color:rgba(0, 255, 255, 1)\"><b>fright</b></span> <span style=\"background-color:rgba(0, 255, 255, 1)\"><b>night</b></span> <span style=\"background-color:rgba(0, 255, 255, 1)\"><b>.</b></span> <span><b>i</b></span> <span><b>did</b></span> <span><b>like</b></span> <span><b>the</b></span> <span><b>hairy</b></span> <span><b>vampire</b></span> <span><b>and</b></span> <span><b>the</b></span> <span><b>bug</b></span> <span><b>eating</b></span> <span><b>driver</b></span> <span><b>.</b></span> <span><b>otherwise</b></span> <span><b>it</b></span> <span><b>was</b></span> <span><b>not</b></span> <span><b>good</b></span> <span><b>at</b></span> <span><b>all</b></span> <span><b>.</b></span> "
      ],
      "text/plain": [
       "<IPython.core.display.HTML object>"
      ]
     },
     "metadata": {},
     "output_type": "display_data"
    },
    {
     "name": "stdout",
     "output_type": "stream",
     "text": [
      "\n",
      "\n",
      "\n",
      "\n",
      "LocalExplanationId: 29, FeatureId: 1\n",
      "feature type:  SEN\n",
      "feature description:  2° Sentence\n",
      "feature (position,token):  {'21': 'the', '22': 'plot', '23': 'is', '24': 'a', '25': 'carbon', '26': 'copy', '27': 'from', '28': 'fright', '29': 'night', '30': '.'}\n",
      "Perturbed Text:   i saw this movie many years ago, and just for kicks decided to rent it and watch it again. i did like the hairy vampire and the bug eating driver. otherwise it was not good at all.\n",
      "perturbed probabilities:  [0.9988975524902344, 0.0011024177074432373]\n",
      "nPIR Original Class:  0.0\n"
     ]
    },
    {
     "data": {
      "text/html": [
       "<span><b>i</b></span> <span><b>saw</b></span> <span><b>this</b></span> <span><b>movie</b></span> <span><b>many</b></span> <span><b>years</b></span> <span><b>ago</b></span> <span><b>,</b></span> <span><b>and</b></span> <span><b>just</b></span> <span><b>for</b></span> <span><b>kicks</b></span> <span><b>decided</b></span> <span><b>to</b></span> <span><b>rent</b></span> <span><b>it</b></span> <span><b>and</b></span> <span><b>watch</b></span> <span><b>it</b></span> <span><b>again</b></span> <span><b>.</b></span> <span style=\"background-color:rgba(0, 255, 255, 1)\"><b>the</b></span> <span style=\"background-color:rgba(0, 255, 255, 1)\"><b>plot</b></span> <span style=\"background-color:rgba(0, 255, 255, 1)\"><b>is</b></span> <span style=\"background-color:rgba(0, 255, 255, 1)\"><b>a</b></span> <span style=\"background-color:rgba(0, 255, 255, 1)\"><b>carbon</b></span> <span style=\"background-color:rgba(0, 255, 255, 1)\"><b>copy</b></span> <span style=\"background-color:rgba(0, 255, 255, 1)\"><b>from</b></span> <span style=\"background-color:rgba(0, 255, 255, 1)\"><b>fright</b></span> <span style=\"background-color:rgba(0, 255, 255, 1)\"><b>night</b></span> <span style=\"background-color:rgba(0, 255, 255, 1)\"><b>.</b></span> <span><b>i</b></span> <span><b>did</b></span> <span><b>like</b></span> <span><b>the</b></span> <span><b>hairy</b></span> <span><b>vampire</b></span> <span><b>and</b></span> <span><b>the</b></span> <span><b>bug</b></span> <span><b>eating</b></span> <span><b>driver</b></span> <span><b>.</b></span> <span><b>otherwise</b></span> <span><b>it</b></span> <span><b>was</b></span> <span><b>not</b></span> <span><b>good</b></span> <span><b>at</b></span> <span><b>all</b></span> <span><b>.</b></span> "
      ],
      "text/plain": [
       "<IPython.core.display.HTML object>"
      ]
     },
     "metadata": {},
     "output_type": "display_data"
    },
    {
     "name": "stdout",
     "output_type": "stream",
     "text": [
      "\n",
      "\n",
      "\n",
      "\n",
      "LocalExplanationId: 35, FeatureId: 7\n",
      "feature type:  SEN\n",
      "feature description:  Combination of 2° Sentence and 3° Sentence\n",
      "feature (position,token):  {'21': 'the', '22': 'plot', '23': 'is', '24': 'a', '25': 'carbon', '26': 'copy', '27': 'from', '28': 'fright', '29': 'night', '30': '.', '31': 'i', '32': 'did', '33': 'like', '34': 'the', '35': 'hairy', '36': 'vampire', '37': 'and', '38': 'the', '39': 'bug', '40': 'eating', '41': 'driver', '42': '.'}\n",
      "Perturbed Text:   i saw this movie many years ago, and just for kicks decided to rent it and watch it again. otherwise it was not good at all.\n",
      "perturbed probabilities:  [0.998989462852478, 0.001010507345199585]\n",
      "nPIR Original Class:  0.0\n"
     ]
    },
    {
     "data": {
      "text/html": [
       "<span><b>i</b></span> <span><b>saw</b></span> <span><b>this</b></span> <span><b>movie</b></span> <span><b>many</b></span> <span><b>years</b></span> <span><b>ago</b></span> <span><b>,</b></span> <span><b>and</b></span> <span><b>just</b></span> <span><b>for</b></span> <span><b>kicks</b></span> <span><b>decided</b></span> <span><b>to</b></span> <span><b>rent</b></span> <span><b>it</b></span> <span><b>and</b></span> <span><b>watch</b></span> <span><b>it</b></span> <span><b>again</b></span> <span><b>.</b></span> <span style=\"background-color:rgba(0, 255, 255, 1)\"><b>the</b></span> <span style=\"background-color:rgba(0, 255, 255, 1)\"><b>plot</b></span> <span style=\"background-color:rgba(0, 255, 255, 1)\"><b>is</b></span> <span style=\"background-color:rgba(0, 255, 255, 1)\"><b>a</b></span> <span style=\"background-color:rgba(0, 255, 255, 1)\"><b>carbon</b></span> <span style=\"background-color:rgba(0, 255, 255, 1)\"><b>copy</b></span> <span style=\"background-color:rgba(0, 255, 255, 1)\"><b>from</b></span> <span style=\"background-color:rgba(0, 255, 255, 1)\"><b>fright</b></span> <span style=\"background-color:rgba(0, 255, 255, 1)\"><b>night</b></span> <span style=\"background-color:rgba(0, 255, 255, 1)\"><b>.</b></span> <span style=\"background-color:rgba(0, 255, 255, 1)\"><b>i</b></span> <span style=\"background-color:rgba(0, 255, 255, 1)\"><b>did</b></span> <span style=\"background-color:rgba(0, 255, 255, 1)\"><b>like</b></span> <span style=\"background-color:rgba(0, 255, 255, 1)\"><b>the</b></span> <span style=\"background-color:rgba(0, 255, 255, 1)\"><b>hairy</b></span> <span style=\"background-color:rgba(0, 255, 255, 1)\"><b>vampire</b></span> <span style=\"background-color:rgba(0, 255, 255, 1)\"><b>and</b></span> <span style=\"background-color:rgba(0, 255, 255, 1)\"><b>the</b></span> <span style=\"background-color:rgba(0, 255, 255, 1)\"><b>bug</b></span> <span style=\"background-color:rgba(0, 255, 255, 1)\"><b>eating</b></span> <span style=\"background-color:rgba(0, 255, 255, 1)\"><b>driver</b></span> <span style=\"background-color:rgba(0, 255, 255, 1)\"><b>.</b></span> <span><b>otherwise</b></span> <span><b>it</b></span> <span><b>was</b></span> <span><b>not</b></span> <span><b>good</b></span> <span><b>at</b></span> <span><b>all</b></span> <span><b>.</b></span> "
      ],
      "text/plain": [
       "<IPython.core.display.HTML object>"
      ]
     },
     "metadata": {},
     "output_type": "display_data"
    },
    {
     "name": "stdout",
     "output_type": "stream",
     "text": [
      "\n",
      "\n",
      "\n",
      "\n",
      "LocalExplanationId: 33, FeatureId: 5\n",
      "feature type:  SEN\n",
      "feature description:  Combination of 1° Sentence and 3° Sentence\n",
      "feature (position,token):  {'0': 'i', '1': 'saw', '2': 'this', '3': 'movie', '4': 'many', '5': 'years', '6': 'ago', '7': ',', '8': 'and', '9': 'just', '10': 'for', '11': 'kicks', '12': 'decided', '13': 'to', '14': 'rent', '15': 'it', '16': 'and', '17': 'watch', '18': 'it', '19': 'again', '20': '.', '31': 'i', '32': 'did', '33': 'like', '34': 'the', '35': 'hairy', '36': 'vampire', '37': 'and', '38': 'the', '39': 'bug', '40': 'eating', '41': 'driver', '42': '.'}\n",
      "Perturbed Text:   the plot is a carbon copy from fright night. otherwise it was not good at all.\n",
      "perturbed probabilities:  [0.9991543292999268, 0.0008456707000732422]\n",
      "nPIR Original Class:  -0.0\n"
     ]
    },
    {
     "data": {
      "text/html": [
       "<span style=\"background-color:rgba(0, 255, 255, 1)\"><b>i</b></span> <span style=\"background-color:rgba(0, 255, 255, 1)\"><b>saw</b></span> <span style=\"background-color:rgba(0, 255, 255, 1)\"><b>this</b></span> <span style=\"background-color:rgba(0, 255, 255, 1)\"><b>movie</b></span> <span style=\"background-color:rgba(0, 255, 255, 1)\"><b>many</b></span> <span style=\"background-color:rgba(0, 255, 255, 1)\"><b>years</b></span> <span style=\"background-color:rgba(0, 255, 255, 1)\"><b>ago</b></span> <span style=\"background-color:rgba(0, 255, 255, 1)\"><b>,</b></span> <span style=\"background-color:rgba(0, 255, 255, 1)\"><b>and</b></span> <span style=\"background-color:rgba(0, 255, 255, 1)\"><b>just</b></span> <span style=\"background-color:rgba(0, 255, 255, 1)\"><b>for</b></span> <span style=\"background-color:rgba(0, 255, 255, 1)\"><b>kicks</b></span> <span style=\"background-color:rgba(0, 255, 255, 1)\"><b>decided</b></span> <span style=\"background-color:rgba(0, 255, 255, 1)\"><b>to</b></span> <span style=\"background-color:rgba(0, 255, 255, 1)\"><b>rent</b></span> <span style=\"background-color:rgba(0, 255, 255, 1)\"><b>it</b></span> <span style=\"background-color:rgba(0, 255, 255, 1)\"><b>and</b></span> <span style=\"background-color:rgba(0, 255, 255, 1)\"><b>watch</b></span> <span style=\"background-color:rgba(0, 255, 255, 1)\"><b>it</b></span> <span style=\"background-color:rgba(0, 255, 255, 1)\"><b>again</b></span> <span style=\"background-color:rgba(0, 255, 255, 1)\"><b>.</b></span> <span><b>the</b></span> <span><b>plot</b></span> <span><b>is</b></span> <span><b>a</b></span> <span><b>carbon</b></span> <span><b>copy</b></span> <span><b>from</b></span> <span><b>fright</b></span> <span><b>night</b></span> <span><b>.</b></span> <span style=\"background-color:rgba(0, 255, 255, 1)\"><b>i</b></span> <span style=\"background-color:rgba(0, 255, 255, 1)\"><b>did</b></span> <span style=\"background-color:rgba(0, 255, 255, 1)\"><b>like</b></span> <span style=\"background-color:rgba(0, 255, 255, 1)\"><b>the</b></span> <span style=\"background-color:rgba(0, 255, 255, 1)\"><b>hairy</b></span> <span style=\"background-color:rgba(0, 255, 255, 1)\"><b>vampire</b></span> <span style=\"background-color:rgba(0, 255, 255, 1)\"><b>and</b></span> <span style=\"background-color:rgba(0, 255, 255, 1)\"><b>the</b></span> <span style=\"background-color:rgba(0, 255, 255, 1)\"><b>bug</b></span> <span style=\"background-color:rgba(0, 255, 255, 1)\"><b>eating</b></span> <span style=\"background-color:rgba(0, 255, 255, 1)\"><b>driver</b></span> <span style=\"background-color:rgba(0, 255, 255, 1)\"><b>.</b></span> <span><b>otherwise</b></span> <span><b>it</b></span> <span><b>was</b></span> <span><b>not</b></span> <span><b>good</b></span> <span><b>at</b></span> <span><b>all</b></span> <span><b>.</b></span> "
      ],
      "text/plain": [
       "<IPython.core.display.HTML object>"
      ]
     },
     "metadata": {},
     "output_type": "display_data"
    },
    {
     "name": "stdout",
     "output_type": "stream",
     "text": [
      "\n",
      "\n",
      "\n",
      "\n",
      "LocalExplanationId: 30, FeatureId: 2\n",
      "feature type:  SEN\n",
      "feature description:  3° Sentence\n",
      "feature (position,token):  {'31': 'i', '32': 'did', '33': 'like', '34': 'the', '35': 'hairy', '36': 'vampire', '37': 'and', '38': 'the', '39': 'bug', '40': 'eating', '41': 'driver', '42': '.'}\n",
      "Perturbed Text:   i saw this movie many years ago, and just for kicks decided to rent it and watch it again. the plot is a carbon copy from fright night. otherwise it was not good at all.\n",
      "perturbed probabilities:  [0.9993358254432678, 0.0006641745567321777]\n",
      "nPIR Original Class:  -0.0\n"
     ]
    },
    {
     "data": {
      "text/html": [
       "<span><b>i</b></span> <span><b>saw</b></span> <span><b>this</b></span> <span><b>movie</b></span> <span><b>many</b></span> <span><b>years</b></span> <span><b>ago</b></span> <span><b>,</b></span> <span><b>and</b></span> <span><b>just</b></span> <span><b>for</b></span> <span><b>kicks</b></span> <span><b>decided</b></span> <span><b>to</b></span> <span><b>rent</b></span> <span><b>it</b></span> <span><b>and</b></span> <span><b>watch</b></span> <span><b>it</b></span> <span><b>again</b></span> <span><b>.</b></span> <span><b>the</b></span> <span><b>plot</b></span> <span><b>is</b></span> <span><b>a</b></span> <span><b>carbon</b></span> <span><b>copy</b></span> <span><b>from</b></span> <span><b>fright</b></span> <span><b>night</b></span> <span><b>.</b></span> <span style=\"background-color:rgba(0, 255, 255, 1)\"><b>i</b></span> <span style=\"background-color:rgba(0, 255, 255, 1)\"><b>did</b></span> <span style=\"background-color:rgba(0, 255, 255, 1)\"><b>like</b></span> <span style=\"background-color:rgba(0, 255, 255, 1)\"><b>the</b></span> <span style=\"background-color:rgba(0, 255, 255, 1)\"><b>hairy</b></span> <span style=\"background-color:rgba(0, 255, 255, 1)\"><b>vampire</b></span> <span style=\"background-color:rgba(0, 255, 255, 1)\"><b>and</b></span> <span style=\"background-color:rgba(0, 255, 255, 1)\"><b>the</b></span> <span style=\"background-color:rgba(0, 255, 255, 1)\"><b>bug</b></span> <span style=\"background-color:rgba(0, 255, 255, 1)\"><b>eating</b></span> <span style=\"background-color:rgba(0, 255, 255, 1)\"><b>driver</b></span> <span style=\"background-color:rgba(0, 255, 255, 1)\"><b>.</b></span> <span><b>otherwise</b></span> <span><b>it</b></span> <span><b>was</b></span> <span><b>not</b></span> <span><b>good</b></span> <span><b>at</b></span> <span><b>all</b></span> <span><b>.</b></span> "
      ],
      "text/plain": [
       "<IPython.core.display.HTML object>"
      ]
     },
     "metadata": {},
     "output_type": "display_data"
    },
    {
     "name": "stdout",
     "output_type": "stream",
     "text": [
      "\n",
      "\n",
      "\n",
      "\n",
      "LocalExplanationId: 28, FeatureId: 0\n",
      "feature type:  SEN\n",
      "feature description:  1° Sentence\n",
      "feature (position,token):  {'0': 'i', '1': 'saw', '2': 'this', '3': 'movie', '4': 'many', '5': 'years', '6': 'ago', '7': ',', '8': 'and', '9': 'just', '10': 'for', '11': 'kicks', '12': 'decided', '13': 'to', '14': 'rent', '15': 'it', '16': 'and', '17': 'watch', '18': 'it', '19': 'again', '20': '.'}\n",
      "Perturbed Text:   the plot is a carbon copy from fright night. i did like the hairy vampire and the bug eating driver. otherwise it was not good at all.\n",
      "perturbed probabilities:  [0.9994235038757324, 0.0005764961242675781]\n",
      "nPIR Original Class:  -0.001\n"
     ]
    },
    {
     "data": {
      "text/html": [
       "<span style=\"background-color:rgba(0, 255, 255, 1)\"><b>i</b></span> <span style=\"background-color:rgba(0, 255, 255, 1)\"><b>saw</b></span> <span style=\"background-color:rgba(0, 255, 255, 1)\"><b>this</b></span> <span style=\"background-color:rgba(0, 255, 255, 1)\"><b>movie</b></span> <span style=\"background-color:rgba(0, 255, 255, 1)\"><b>many</b></span> <span style=\"background-color:rgba(0, 255, 255, 1)\"><b>years</b></span> <span style=\"background-color:rgba(0, 255, 255, 1)\"><b>ago</b></span> <span style=\"background-color:rgba(0, 255, 255, 1)\"><b>,</b></span> <span style=\"background-color:rgba(0, 255, 255, 1)\"><b>and</b></span> <span style=\"background-color:rgba(0, 255, 255, 1)\"><b>just</b></span> <span style=\"background-color:rgba(0, 255, 255, 1)\"><b>for</b></span> <span style=\"background-color:rgba(0, 255, 255, 1)\"><b>kicks</b></span> <span style=\"background-color:rgba(0, 255, 255, 1)\"><b>decided</b></span> <span style=\"background-color:rgba(0, 255, 255, 1)\"><b>to</b></span> <span style=\"background-color:rgba(0, 255, 255, 1)\"><b>rent</b></span> <span style=\"background-color:rgba(0, 255, 255, 1)\"><b>it</b></span> <span style=\"background-color:rgba(0, 255, 255, 1)\"><b>and</b></span> <span style=\"background-color:rgba(0, 255, 255, 1)\"><b>watch</b></span> <span style=\"background-color:rgba(0, 255, 255, 1)\"><b>it</b></span> <span style=\"background-color:rgba(0, 255, 255, 1)\"><b>again</b></span> <span style=\"background-color:rgba(0, 255, 255, 1)\"><b>.</b></span> <span><b>the</b></span> <span><b>plot</b></span> <span><b>is</b></span> <span><b>a</b></span> <span><b>carbon</b></span> <span><b>copy</b></span> <span><b>from</b></span> <span><b>fright</b></span> <span><b>night</b></span> <span><b>.</b></span> <span><b>i</b></span> <span><b>did</b></span> <span><b>like</b></span> <span><b>the</b></span> <span><b>hairy</b></span> <span><b>vampire</b></span> <span><b>and</b></span> <span><b>the</b></span> <span><b>bug</b></span> <span><b>eating</b></span> <span><b>driver</b></span> <span><b>.</b></span> <span><b>otherwise</b></span> <span><b>it</b></span> <span><b>was</b></span> <span><b>not</b></span> <span><b>good</b></span> <span><b>at</b></span> <span><b>all</b></span> <span><b>.</b></span> "
      ],
      "text/plain": [
       "<IPython.core.display.HTML object>"
      ]
     },
     "metadata": {},
     "output_type": "display_data"
    },
    {
     "name": "stdout",
     "output_type": "stream",
     "text": [
      "\n",
      "\n",
      "\n",
      "\n"
     ]
    }
   ],
   "source": [
    "print(\"Original Probabilities: {}\".format(input_info[\"original_probabilities\"]))\n",
    "print(\"Original label: {}\".format(input_info[\"original_label\"]))\n",
    "print(\"\\n\\n\")\n",
    "min_nPIR_sen = -1\n",
    "max_nPIR_sen = 1\n",
    "\n",
    "for le in sorted(sen_local_explanations_comb, key=lambda le: le[\"nPIR_original_top_class\"], reverse=True ):\n",
    "    if le[\"nPIR_original_top_class\"] >= min_nPIR_sen and le[\"nPIR_original_top_class\"] <= max_nPIR_sen:\n",
    "        print_local_explanation(le, input_positions_tokens)"
   ]
  },
  {
   "cell_type": "code",
   "execution_count": null,
   "metadata": {},
   "outputs": [],
   "source": []
  },
  {
   "cell_type": "code",
   "execution_count": null,
   "metadata": {},
   "outputs": [],
   "source": []
  }
 ],
 "metadata": {
  "kernelspec": {
   "display_name": "Python 3",
   "language": "python",
   "name": "python3"
  },
  "language_info": {
   "codemirror_mode": {
    "name": "ipython",
    "version": 3
   },
   "file_extension": ".py",
   "mimetype": "text/x-python",
   "name": "python",
   "nbconvert_exporter": "python",
   "pygments_lexer": "ipython3",
   "version": "3.7.9"
  }
 },
 "nbformat": 4,
 "nbformat_minor": 4
}
