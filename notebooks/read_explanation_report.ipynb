{
 "cells": [
  {
   "cell_type": "code",
   "execution_count": 1,
   "metadata": {},
   "outputs": [],
   "source": [
    "from IPython.display import display,HTML,clear_output\n",
    "import json"
   ]
  },
  {
   "cell_type": "markdown",
   "metadata": {},
   "source": [
    "# Read explanation report"
   ]
  },
  {
   "cell_type": "code",
   "execution_count": 2,
   "metadata": {},
   "outputs": [],
   "source": [
    "explanation_report_filepath = \"/Users/salvatore/PycharmProjects/T-EBAnO-Express/outputs/20201117_bert_model_imdb_reviews_exp_0/local_explanations_experiments/20201204_105147/local_explanations/local_explanation_report_0.json\"\n"
   ]
  },
  {
   "cell_type": "code",
   "execution_count": 3,
   "metadata": {},
   "outputs": [],
   "source": [
    "with open(explanation_report_filepath) as json_file:\n",
    "    explanation_report = json.load(json_file)"
   ]
  },
  {
   "cell_type": "markdown",
   "metadata": {},
   "source": [
    "# Parse explanation report"
   ]
  },
  {
   "cell_type": "code",
   "execution_count": 5,
   "metadata": {},
   "outputs": [],
   "source": [
    "input_info = explanation_report[\"input_info\"]\n",
    "input_positions_tokens = input_info[\"positions_tokens\"]\n",
    "raw_text = input_info[\"raw_text\"]\n",
    "cleaned_text = input_info[\"cleaned_text\"]\n",
    "preprocessed_text = input_info[\"preprocessed_text\"]"
   ]
  },
  {
   "cell_type": "code",
   "execution_count": 6,
   "metadata": {},
   "outputs": [],
   "source": [
    "pos_local_explanations = []  # pos features without combinations\n",
    "sen_local_explanations = []  # sen features without combinations\n",
    "mlwe_local_explanations = []  # mlwe features without combinations\n",
    "pos_local_explanations_comb = []  # All pos features (also combinations)\n",
    "sen_local_explanations_comb = []  # All sen features (also combinations)\n",
    "mlwe_local_explanations_comb = []  # All mlwe features (also combinations)\n",
    "\n",
    "for le in explanation_report[\"local_explanations\"]:\n",
    "    if le[\"feature_type\"] == \"POS\" and le[\"combination\"] == 1:\n",
    "        pos_local_explanations.append(le)\n",
    "    if le[\"feature_type\"] == \"SEN\" and le[\"combination\"] == 1:\n",
    "        sen_local_explanations.append(le)\n",
    "    if le[\"feature_type\"] == \"MLWE\" and le[\"combination\"] == 1:\n",
    "        mlwe_local_explanations.append(le)\n",
    "    if le[\"feature_type\"] == \"POS\":\n",
    "        pos_local_explanations_comb.append(le)\n",
    "    if le[\"feature_type\"] == \"SEN\":  \n",
    "        sen_local_explanations_comb.append(le)\n",
    "    if le[\"feature_type\"] == \"MLWE\":\n",
    "        mlwe_local_explanations_comb.append(le)\n",
    "        "
   ]
  },
  {
   "cell_type": "code",
   "execution_count": 7,
   "metadata": {},
   "outputs": [],
   "source": [
    "pos_positions_tokens_score = {} # Dictionary for pos features with position as key and as value the tuple (token, nPIR)\n",
    "sen_positions_tokens_score = {}#  Dictionary for sen features with position as key and as value the tuple (token, nPIR)\n",
    "mlwe_positions_tokens_score = {} # Dictionary for mlwe features with position as key and as value the tuple (token, nPIR)\n",
    "\n",
    "for le in pos_local_explanations:\n",
    "    for position, token in le[\"positions_tokens\"].items():\n",
    "        pos_position_token_score[position] = (token, round(le[\"nPIR_original_top_class\"],4))\n",
    "        \n",
    "for le in sen_local_explanations:\n",
    "    for position, token in le[\"positions_tokens\"].items():\n",
    "        sen_position_token_score[position] = (token, round(le[\"nPIR_original_top_class\"],4))\n",
    "\n",
    "for le in mlwe_local_explanations:\n",
    "    for position, token in le[\"positions_tokens\"].items():\n",
    "        mlwe_position_token_score[position] = (token, round(le[\"nPIR_original_top_class\"],4))\n",
    "    "
   ]
  },
  {
   "cell_type": "markdown",
   "metadata": {},
   "source": [
    "# Utility functions\n"
   ]
  },
  {
   "cell_type": "code",
   "execution_count": 8,
   "metadata": {},
   "outputs": [],
   "source": [
    "def label_name(label):\n",
    "    return [\"Negative\",\"Positive\"][label]\n",
    "\n",
    "def get_summary_string(position_token_score):\n",
    "    positive_color = \"background-color:#00FF00\"\n",
    "    negative_color = \"background-color:#FF00FF\"\n",
    "    html_string = \"\"\n",
    "\n",
    "    for position in sorted(position_token_score.keys(), key=lambda k: int(k)):\n",
    "        token_score = position_token_score[position]\n",
    "        if token_score[1] >= 0:\n",
    "            positive_color = \"background-color:rgba(124, 252, 0, {})\".format(token_score[1])\n",
    "            html_string = html_string + '<span style=\"{}\"><b>{}</b></span> '.format(positive_color,token_score[0])\n",
    "        else:\n",
    "            negative_color = \"background-color:rgba(255, 99, 71, {})\".format(token_score[1])\n",
    "            html_string = html_string + '<span style=\"{}\"><b>{}</b></span> '.format(negative_color,token_score[0])\n",
    "            \n",
    "    return html_string\n",
    "\n",
    "def get_feature_colored_html_string(input_positions_tokens, feature_positions_tokens):\n",
    "    html_string = \"\"\n",
    "    feature_color = \"background-color:rgba(0, 255, 255, 1)\"\n",
    "    for position in range(len(input_positions_tokens)):\n",
    "        if str(position) in feature_positions_tokens:\n",
    "            html_string = html_string + '<span style=\"{}\"><b>{}</b></span> '.format(feature_color,input_positions_tokens[position])\n",
    "        else:\n",
    "            html_string = html_string + '<span><b>{}</b></span> '.format(input_positions_tokens[position])\n",
    "    return html_string\n",
    "    \n",
    "\n",
    "def print_local_explanation(le, input_positions_tokens):\n",
    "    if len(le[\"position_token\"]) == 0:\n",
    "        return\n",
    "    print(\"LocalExplanationId: {}, FeatureId: {}\".format(le[\"local_explanation_id\"], le[\"feature_id\"]))\n",
    "    print(\"feature type: \",le[\"feature_type\"])\n",
    "    print(\"feature description: \", le[\"feature_description\"])\n",
    "    print(\"feature (position,token): \" ,le[\"positions_tokens\"])\n",
    "    print(\"Perturbed Text:  \",le[\"perturbed_text\"])\n",
    "    print(\"perturbed probabilities: \",le[\"perturbed_probabilities\"])\n",
    "    print(\"nPIR Original Class: \" ,round(le[\"nPIR_original_top_class\"],3))\n",
    "    display(HTML(get_feature_colored_html_string(input_position_tokens,le[\"positions_tokens\"])))\n",
    "    print(\"\\n\")\n",
    "    print(\"\\n\")\n",
    "    return"
   ]
  },
  {
   "cell_type": "code",
   "execution_count": 9,
   "metadata": {},
   "outputs": [
    {
     "data": {
      "text/html": [
       "<h1>Input Text info</h1>"
      ],
      "text/plain": [
       "<IPython.core.display.HTML object>"
      ]
     },
     "metadata": {},
     "output_type": "display_data"
    },
    {
     "data": {
      "text/html": [
       "Raw Text:   <b>This film is very awful. I have never seen such a bad movie. </b>"
      ],
      "text/plain": [
       "<IPython.core.display.HTML object>"
      ]
     },
     "metadata": {},
     "output_type": "display_data"
    },
    {
     "data": {
      "text/html": [
       "Clean Text:   <b>This film is very awful. I have never seen such a bad movie. </b>"
      ],
      "text/plain": [
       "<IPython.core.display.HTML object>"
      ]
     },
     "metadata": {},
     "output_type": "display_data"
    },
    {
     "data": {
      "text/html": [
       "Preprocessed Text:   <b>this film is very awful . i have never seen such a bad movie . </b>"
      ],
      "text/plain": [
       "<IPython.core.display.HTML object>"
      ]
     },
     "metadata": {},
     "output_type": "display_data"
    }
   ],
   "source": [
    "display(HTML('<h1>Input Text info</h1>'))\n",
    "display(HTML('Raw Text:   <b>{} </b>'.format(raw_text)))\n",
    "display(HTML('Clean Text:   <b>{} </b>'.format(cleaned_text)))\n",
    "display(HTML('Preprocessed Text:   <b>{} </b>'.format(preprocessed_text)))"
   ]
  },
  {
   "cell_type": "code",
   "execution_count": 10,
   "metadata": {
    "scrolled": false
   },
   "outputs": [
    {
     "data": {
      "text/html": [
       "<h1>Multi-Layer Word Embedding Features Summary</h1>"
      ],
      "text/plain": [
       "<IPython.core.display.HTML object>"
      ]
     },
     "metadata": {},
     "output_type": "display_data"
    },
    {
     "data": {
      "text/html": [
       "Predicted Class: <b>Negative </b>"
      ],
      "text/plain": [
       "<IPython.core.display.HTML object>"
      ]
     },
     "metadata": {},
     "output_type": "display_data"
    },
    {
     "data": {
      "text/html": [
       "Original Probability: <b>[0.9983175992965698, 0.001682370901107788] </b>"
      ],
      "text/plain": [
       "<IPython.core.display.HTML object>"
      ]
     },
     "metadata": {},
     "output_type": "display_data"
    },
    {
     "data": {
      "text/html": [
       "<span style=\"background-color:rgba(124, 252, 0, 0.9516)\"><b>this</b></span> <span style=\"background-color:rgba(124, 252, 0, 0.9516)\"><b>film</b></span> <span style=\"background-color:rgba(124, 252, 0, 0.9516)\"><b>is</b></span> <span style=\"background-color:rgba(124, 252, 0, 0.9516)\"><b>very</b></span> <span style=\"background-color:rgba(124, 252, 0, 0.9516)\"><b>awful</b></span> <span style=\"background-color:rgba(124, 252, 0, 0.9516)\"><b>.</b></span> <span style=\"background-color:rgba(124, 252, 0, 0.9516)\"><b>i</b></span> <span style=\"background-color:rgba(255, 99, 71, -0.0014)\"><b>have</b></span> <span style=\"background-color:rgba(255, 99, 71, -0.0014)\"><b>never</b></span> <span style=\"background-color:rgba(255, 99, 71, -0.0014)\"><b>seen</b></span> <span style=\"background-color:rgba(255, 99, 71, -0.0014)\"><b>such</b></span> <span style=\"background-color:rgba(124, 252, 0, 0.9516)\"><b>a</b></span> <span style=\"background-color:rgba(124, 252, 0, 0.9516)\"><b>bad</b></span> <span style=\"background-color:rgba(124, 252, 0, 0.9516)\"><b>movie</b></span> <span style=\"background-color:rgba(124, 252, 0, 0.9516)\"><b>.</b></span> "
      ],
      "text/plain": [
       "<IPython.core.display.HTML object>"
      ]
     },
     "metadata": {},
     "output_type": "display_data"
    },
    {
     "data": {
      "text/html": [
       "(Features are highlighted in green if are positively influential for the predicted class, red otherwise. The intensity of the color is proportional to the nPIR score obtained by the word.) "
      ],
      "text/plain": [
       "<IPython.core.display.HTML object>"
      ]
     },
     "metadata": {},
     "output_type": "display_data"
    }
   ],
   "source": [
    "display(HTML('<h1>Multi-Layer Word Embedding Features Summary</h1>'))\n",
    "display(HTML('Predicted Class: <b>{} </b>'.format(label_name(input_info[\"original_label\"]))))\n",
    "display(HTML('Original Probability: <b>{} </b>'.format(input_info[\"original_probabilities\"])))\n",
    "\n",
    "html_string = get_summary_string(mlwe_position_token_score)\n",
    "        \n",
    "display(HTML(html_string))\n",
    "\n",
    "display(HTML('(Features are highlighted in green if are positively influential for the predicted class, red otherwise. The intensity of the color is proportional to the nPIR score obtained by the word.) '))  \n"
   ]
  },
  {
   "cell_type": "markdown",
   "metadata": {},
   "source": [
    "# MLWE Most influential feature\n",
    "\n",
    "Feature with highest nPIR "
   ]
  },
  {
   "cell_type": "code",
   "execution_count": 12,
   "metadata": {
    "scrolled": true
   },
   "outputs": [
    {
     "ename": "KeyError",
     "evalue": "'position_token'",
     "output_type": "error",
     "traceback": [
      "\u001b[0;31m---------------------------------------------------------------------------\u001b[0m",
      "\u001b[0;31mKeyError\u001b[0m                                  Traceback (most recent call last)",
      "\u001b[0;32m<ipython-input-12-afa5ca707149>\u001b[0m in \u001b[0;36m<module>\u001b[0;34m\u001b[0m\n\u001b[1;32m      1\u001b[0m \u001b[0mmost_influnetial_mlwe_feature\u001b[0m \u001b[0;34m=\u001b[0m\u001b[0mmax\u001b[0m\u001b[0;34m(\u001b[0m\u001b[0mmlwe_local_explanations_comb\u001b[0m\u001b[0;34m,\u001b[0m \u001b[0mkey\u001b[0m\u001b[0;34m=\u001b[0m \u001b[0;32mlambda\u001b[0m \u001b[0mle\u001b[0m\u001b[0;34m:\u001b[0m \u001b[0mle\u001b[0m\u001b[0;34m[\u001b[0m\u001b[0;34m\"nPIR_original_top_class\"\u001b[0m\u001b[0;34m]\u001b[0m\u001b[0;34m)\u001b[0m\u001b[0;34m\u001b[0m\u001b[0;34m\u001b[0m\u001b[0m\n\u001b[0;32m----> 2\u001b[0;31m \u001b[0mprint_local_explanation\u001b[0m\u001b[0;34m(\u001b[0m\u001b[0mmost_influnetial_mlwe_feature\u001b[0m\u001b[0;34m,\u001b[0m\u001b[0minput_positions_tokens\u001b[0m\u001b[0;34m)\u001b[0m\u001b[0;34m\u001b[0m\u001b[0;34m\u001b[0m\u001b[0m\n\u001b[0m",
      "\u001b[0;32m<ipython-input-8-86d04218f629>\u001b[0m in \u001b[0;36mprint_local_explanation\u001b[0;34m(le, input_position_tokens)\u001b[0m\n\u001b[1;32m     30\u001b[0m \u001b[0;34m\u001b[0m\u001b[0m\n\u001b[1;32m     31\u001b[0m \u001b[0;32mdef\u001b[0m \u001b[0mprint_local_explanation\u001b[0m\u001b[0;34m(\u001b[0m\u001b[0mle\u001b[0m\u001b[0;34m,\u001b[0m \u001b[0minput_position_tokens\u001b[0m\u001b[0;34m)\u001b[0m\u001b[0;34m:\u001b[0m\u001b[0;34m\u001b[0m\u001b[0;34m\u001b[0m\u001b[0m\n\u001b[0;32m---> 32\u001b[0;31m     \u001b[0;32mif\u001b[0m \u001b[0mlen\u001b[0m\u001b[0;34m(\u001b[0m\u001b[0mle\u001b[0m\u001b[0;34m[\u001b[0m\u001b[0;34m\"position_token\"\u001b[0m\u001b[0;34m]\u001b[0m\u001b[0;34m)\u001b[0m \u001b[0;34m==\u001b[0m \u001b[0;36m0\u001b[0m\u001b[0;34m:\u001b[0m\u001b[0;34m\u001b[0m\u001b[0;34m\u001b[0m\u001b[0m\n\u001b[0m\u001b[1;32m     33\u001b[0m         \u001b[0;32mreturn\u001b[0m\u001b[0;34m\u001b[0m\u001b[0;34m\u001b[0m\u001b[0m\n\u001b[1;32m     34\u001b[0m     \u001b[0mprint\u001b[0m\u001b[0;34m(\u001b[0m\u001b[0;34m\"LocalExplanationId: {}, FeatureId: {}\"\u001b[0m\u001b[0;34m.\u001b[0m\u001b[0mformat\u001b[0m\u001b[0;34m(\u001b[0m\u001b[0mle\u001b[0m\u001b[0;34m[\u001b[0m\u001b[0;34m\"local_explanation_id\"\u001b[0m\u001b[0;34m]\u001b[0m\u001b[0;34m,\u001b[0m \u001b[0mle\u001b[0m\u001b[0;34m[\u001b[0m\u001b[0;34m\"feature_id\"\u001b[0m\u001b[0;34m]\u001b[0m\u001b[0;34m)\u001b[0m\u001b[0;34m)\u001b[0m\u001b[0;34m\u001b[0m\u001b[0;34m\u001b[0m\u001b[0m\n",
      "\u001b[0;31mKeyError\u001b[0m: 'position_token'"
     ]
    }
   ],
   "source": [
    "most_influnetial_mlwe_feature =max(mlwe_local_explanations_comb, key= lambda le: le[\"nPIR_original_top_class\"])\n",
    "print_local_explanation(most_influnetial_mlwe_feature,input_positions_tokens)"
   ]
  },
  {
   "cell_type": "markdown",
   "metadata": {},
   "source": [
    "<h2>Query Multi-Layer Word Embedding features</h2>"
   ]
  },
  {
   "cell_type": "code",
   "execution_count": 140,
   "metadata": {
    "scrolled": false
   },
   "outputs": [
    {
     "name": "stdout",
     "output_type": "stream",
     "text": [
      "Original Probabilities: [0.9941796660423279, 0.005820333957672119]\n",
      "Original label: 0\n",
      "\n",
      "\n",
      "\n",
      "LocalExplanationId: 43, FeatureId: 9\n",
      "feature type:  MLWE\n",
      "feature description:  Combination of Cluster 1 and Cluster 2\n",
      "feature (position,token):  {'0': 'the', '7': 'film', '8': 'instead', '10': 'not', '11': 'as', '18': 'expected', '19': 'more', '20': 'for', '21': 'this', '22': 'movie', '23': '.', '6': 'the', '9': 'is', '17': 'i'}\n",
      "Perturbed Text:   book is very nice. good as the book.\n",
      "perturbed probabilities:  [0.0017904043197631836, 0.9982095956802368]\n",
      "nPIR Original Class:  0.998\n"
     ]
    },
    {
     "data": {
      "text/html": [
       "<span style=\"background-color:rgba(0, 255, 255, 1)\"><b>the</b></span> <span><b>book</b></span> <span><b>is</b></span> <span><b>very</b></span> <span><b>nice</b></span> <span><b>.</b></span> <span style=\"background-color:rgba(0, 255, 255, 1)\"><b>the</b></span> <span style=\"background-color:rgba(0, 255, 255, 1)\"><b>film</b></span> <span style=\"background-color:rgba(0, 255, 255, 1)\"><b>instead</b></span> <span style=\"background-color:rgba(0, 255, 255, 1)\"><b>is</b></span> <span style=\"background-color:rgba(0, 255, 255, 1)\"><b>not</b></span> <span style=\"background-color:rgba(0, 255, 255, 1)\"><b>as</b></span> <span><b>good</b></span> <span><b>as</b></span> <span><b>the</b></span> <span><b>book</b></span> <span><b>.</b></span> <span style=\"background-color:rgba(0, 255, 255, 1)\"><b>i</b></span> <span style=\"background-color:rgba(0, 255, 255, 1)\"><b>expected</b></span> <span style=\"background-color:rgba(0, 255, 255, 1)\"><b>more</b></span> <span style=\"background-color:rgba(0, 255, 255, 1)\"><b>for</b></span> <span style=\"background-color:rgba(0, 255, 255, 1)\"><b>this</b></span> <span style=\"background-color:rgba(0, 255, 255, 1)\"><b>movie</b></span> <span style=\"background-color:rgba(0, 255, 255, 1)\"><b>.</b></span> "
      ],
      "text/plain": [
       "<IPython.core.display.HTML object>"
      ]
     },
     "metadata": {},
     "output_type": "display_data"
    },
    {
     "name": "stdout",
     "output_type": "stream",
     "text": [
      "\n",
      "\n",
      "\n",
      "\n",
      "LocalExplanationId: 35, FeatureId: 1\n",
      "feature type:  MLWE\n",
      "feature description:  Cluster 1\n",
      "feature (position,token):  {'0': 'the', '7': 'film', '8': 'instead', '10': 'not', '11': 'as', '18': 'expected', '19': 'more', '20': 'for', '21': 'this', '22': 'movie', '23': '.'}\n",
      "Perturbed Text:   book is very nice. the is good as the book. i\n",
      "perturbed probabilities:  [0.0025101304054260254, 0.997489869594574]\n",
      "nPIR Original Class:  0.997\n"
     ]
    },
    {
     "data": {
      "text/html": [
       "<span style=\"background-color:rgba(0, 255, 255, 1)\"><b>the</b></span> <span><b>book</b></span> <span><b>is</b></span> <span><b>very</b></span> <span><b>nice</b></span> <span><b>.</b></span> <span><b>the</b></span> <span style=\"background-color:rgba(0, 255, 255, 1)\"><b>film</b></span> <span style=\"background-color:rgba(0, 255, 255, 1)\"><b>instead</b></span> <span><b>is</b></span> <span style=\"background-color:rgba(0, 255, 255, 1)\"><b>not</b></span> <span style=\"background-color:rgba(0, 255, 255, 1)\"><b>as</b></span> <span><b>good</b></span> <span><b>as</b></span> <span><b>the</b></span> <span><b>book</b></span> <span><b>.</b></span> <span><b>i</b></span> <span style=\"background-color:rgba(0, 255, 255, 1)\"><b>expected</b></span> <span style=\"background-color:rgba(0, 255, 255, 1)\"><b>more</b></span> <span style=\"background-color:rgba(0, 255, 255, 1)\"><b>for</b></span> <span style=\"background-color:rgba(0, 255, 255, 1)\"><b>this</b></span> <span style=\"background-color:rgba(0, 255, 255, 1)\"><b>movie</b></span> <span style=\"background-color:rgba(0, 255, 255, 1)\"><b>.</b></span> "
      ],
      "text/plain": [
       "<IPython.core.display.HTML object>"
      ]
     },
     "metadata": {},
     "output_type": "display_data"
    },
    {
     "name": "stdout",
     "output_type": "stream",
     "text": [
      "\n",
      "\n",
      "\n",
      "\n",
      "LocalExplanationId: 45, FeatureId: 11\n",
      "feature type:  MLWE\n",
      "feature description:  Combination of Cluster 1 and Cluster 4\n",
      "feature (position,token):  {'0': 'the', '7': 'film', '8': 'instead', '10': 'not', '11': 'as', '18': 'expected', '19': 'more', '20': 'for', '21': 'this', '22': 'movie', '23': '.', '2': 'is', '16': '.'}\n",
      "Perturbed Text:   book very nice. the is good as the book i\n",
      "perturbed probabilities:  [0.002787947654724121, 0.9972120523452759]\n",
      "nPIR Original Class:  0.997\n"
     ]
    },
    {
     "data": {
      "text/html": [
       "<span style=\"background-color:rgba(0, 255, 255, 1)\"><b>the</b></span> <span><b>book</b></span> <span style=\"background-color:rgba(0, 255, 255, 1)\"><b>is</b></span> <span><b>very</b></span> <span><b>nice</b></span> <span><b>.</b></span> <span><b>the</b></span> <span style=\"background-color:rgba(0, 255, 255, 1)\"><b>film</b></span> <span style=\"background-color:rgba(0, 255, 255, 1)\"><b>instead</b></span> <span><b>is</b></span> <span style=\"background-color:rgba(0, 255, 255, 1)\"><b>not</b></span> <span style=\"background-color:rgba(0, 255, 255, 1)\"><b>as</b></span> <span><b>good</b></span> <span><b>as</b></span> <span><b>the</b></span> <span><b>book</b></span> <span style=\"background-color:rgba(0, 255, 255, 1)\"><b>.</b></span> <span><b>i</b></span> <span style=\"background-color:rgba(0, 255, 255, 1)\"><b>expected</b></span> <span style=\"background-color:rgba(0, 255, 255, 1)\"><b>more</b></span> <span style=\"background-color:rgba(0, 255, 255, 1)\"><b>for</b></span> <span style=\"background-color:rgba(0, 255, 255, 1)\"><b>this</b></span> <span style=\"background-color:rgba(0, 255, 255, 1)\"><b>movie</b></span> <span style=\"background-color:rgba(0, 255, 255, 1)\"><b>.</b></span> "
      ],
      "text/plain": [
       "<IPython.core.display.HTML object>"
      ]
     },
     "metadata": {},
     "output_type": "display_data"
    },
    {
     "name": "stdout",
     "output_type": "stream",
     "text": [
      "\n",
      "\n",
      "\n",
      "\n",
      "LocalExplanationId: 44, FeatureId: 10\n",
      "feature type:  MLWE\n",
      "feature description:  Combination of Cluster 1 and Cluster 3\n",
      "feature (position,token):  {'0': 'the', '7': 'film', '8': 'instead', '10': 'not', '11': 'as', '18': 'expected', '19': 'more', '20': 'for', '21': 'this', '22': 'movie', '23': '.', '12': 'good', '13': 'as', '14': 'the'}\n",
      "Perturbed Text:   book is very nice. the is book. i\n",
      "perturbed probabilities:  [0.003794372081756592, 0.9962056279182434]\n",
      "nPIR Original Class:  0.996\n"
     ]
    },
    {
     "data": {
      "text/html": [
       "<span style=\"background-color:rgba(0, 255, 255, 1)\"><b>the</b></span> <span><b>book</b></span> <span><b>is</b></span> <span><b>very</b></span> <span><b>nice</b></span> <span><b>.</b></span> <span><b>the</b></span> <span style=\"background-color:rgba(0, 255, 255, 1)\"><b>film</b></span> <span style=\"background-color:rgba(0, 255, 255, 1)\"><b>instead</b></span> <span><b>is</b></span> <span style=\"background-color:rgba(0, 255, 255, 1)\"><b>not</b></span> <span style=\"background-color:rgba(0, 255, 255, 1)\"><b>as</b></span> <span style=\"background-color:rgba(0, 255, 255, 1)\"><b>good</b></span> <span style=\"background-color:rgba(0, 255, 255, 1)\"><b>as</b></span> <span style=\"background-color:rgba(0, 255, 255, 1)\"><b>the</b></span> <span><b>book</b></span> <span><b>.</b></span> <span><b>i</b></span> <span style=\"background-color:rgba(0, 255, 255, 1)\"><b>expected</b></span> <span style=\"background-color:rgba(0, 255, 255, 1)\"><b>more</b></span> <span style=\"background-color:rgba(0, 255, 255, 1)\"><b>for</b></span> <span style=\"background-color:rgba(0, 255, 255, 1)\"><b>this</b></span> <span style=\"background-color:rgba(0, 255, 255, 1)\"><b>movie</b></span> <span style=\"background-color:rgba(0, 255, 255, 1)\"><b>.</b></span> "
      ],
      "text/plain": [
       "<IPython.core.display.HTML object>"
      ]
     },
     "metadata": {},
     "output_type": "display_data"
    },
    {
     "name": "stdout",
     "output_type": "stream",
     "text": [
      "\n",
      "\n",
      "\n",
      "\n",
      "LocalExplanationId: 39, FeatureId: 5\n",
      "feature type:  MLWE\n",
      "feature description:  Combination of Cluster 0 and Cluster 1\n",
      "feature (position,token):  {'1': 'book', '3': 'very', '4': 'nice', '5': '.', '15': 'book', '0': 'the', '7': 'film', '8': 'instead', '10': 'not', '11': 'as', '18': 'expected', '19': 'more', '20': 'for', '21': 'this', '22': 'movie', '23': '.'}\n",
      "Perturbed Text:   is the is good as the. i\n",
      "perturbed probabilities:  [0.024663448333740234, 0.9753365516662598]\n",
      "nPIR Original Class:  0.975\n"
     ]
    },
    {
     "data": {
      "text/html": [
       "<span style=\"background-color:rgba(0, 255, 255, 1)\"><b>the</b></span> <span style=\"background-color:rgba(0, 255, 255, 1)\"><b>book</b></span> <span><b>is</b></span> <span style=\"background-color:rgba(0, 255, 255, 1)\"><b>very</b></span> <span style=\"background-color:rgba(0, 255, 255, 1)\"><b>nice</b></span> <span style=\"background-color:rgba(0, 255, 255, 1)\"><b>.</b></span> <span><b>the</b></span> <span style=\"background-color:rgba(0, 255, 255, 1)\"><b>film</b></span> <span style=\"background-color:rgba(0, 255, 255, 1)\"><b>instead</b></span> <span><b>is</b></span> <span style=\"background-color:rgba(0, 255, 255, 1)\"><b>not</b></span> <span style=\"background-color:rgba(0, 255, 255, 1)\"><b>as</b></span> <span><b>good</b></span> <span><b>as</b></span> <span><b>the</b></span> <span style=\"background-color:rgba(0, 255, 255, 1)\"><b>book</b></span> <span><b>.</b></span> <span><b>i</b></span> <span style=\"background-color:rgba(0, 255, 255, 1)\"><b>expected</b></span> <span style=\"background-color:rgba(0, 255, 255, 1)\"><b>more</b></span> <span style=\"background-color:rgba(0, 255, 255, 1)\"><b>for</b></span> <span style=\"background-color:rgba(0, 255, 255, 1)\"><b>this</b></span> <span style=\"background-color:rgba(0, 255, 255, 1)\"><b>movie</b></span> <span style=\"background-color:rgba(0, 255, 255, 1)\"><b>.</b></span> "
      ],
      "text/plain": [
       "<IPython.core.display.HTML object>"
      ]
     },
     "metadata": {},
     "output_type": "display_data"
    },
    {
     "name": "stdout",
     "output_type": "stream",
     "text": [
      "\n",
      "\n",
      "\n",
      "\n",
      "LocalExplanationId: 41, FeatureId: 7\n",
      "feature type:  MLWE\n",
      "feature description:  Combination of Cluster 0 and Cluster 3\n",
      "feature (position,token):  {'1': 'book', '3': 'very', '4': 'nice', '5': '.', '15': 'book', '12': 'good', '13': 'as', '14': 'the'}\n",
      "Perturbed Text:   the is the film instead is not as. i expected more for this movie.\n",
      "perturbed probabilities:  [0.5600845813751221, 0.43991538882255554]\n",
      "nPIR Original Class:  0.504\n"
     ]
    },
    {
     "data": {
      "text/html": [
       "<span><b>the</b></span> <span style=\"background-color:rgba(0, 255, 255, 1)\"><b>book</b></span> <span><b>is</b></span> <span style=\"background-color:rgba(0, 255, 255, 1)\"><b>very</b></span> <span style=\"background-color:rgba(0, 255, 255, 1)\"><b>nice</b></span> <span style=\"background-color:rgba(0, 255, 255, 1)\"><b>.</b></span> <span><b>the</b></span> <span><b>film</b></span> <span><b>instead</b></span> <span><b>is</b></span> <span><b>not</b></span> <span><b>as</b></span> <span style=\"background-color:rgba(0, 255, 255, 1)\"><b>good</b></span> <span style=\"background-color:rgba(0, 255, 255, 1)\"><b>as</b></span> <span style=\"background-color:rgba(0, 255, 255, 1)\"><b>the</b></span> <span style=\"background-color:rgba(0, 255, 255, 1)\"><b>book</b></span> <span><b>.</b></span> <span><b>i</b></span> <span><b>expected</b></span> <span><b>more</b></span> <span><b>for</b></span> <span><b>this</b></span> <span><b>movie</b></span> <span><b>.</b></span> "
      ],
      "text/plain": [
       "<IPython.core.display.HTML object>"
      ]
     },
     "metadata": {},
     "output_type": "display_data"
    },
    {
     "name": "stdout",
     "output_type": "stream",
     "text": [
      "\n",
      "\n",
      "\n",
      "\n",
      "LocalExplanationId: 42, FeatureId: 8\n",
      "feature type:  MLWE\n",
      "feature description:  Combination of Cluster 0 and Cluster 4\n",
      "feature (position,token):  {'1': 'book', '3': 'very', '4': 'nice', '5': '.', '15': 'book', '2': 'is', '16': '.'}\n",
      "Perturbed Text:   the the film instead is not as good as the i expected more for this movie.\n",
      "perturbed probabilities:  [0.9411532878875732, 0.05884668231010437]\n",
      "nPIR Original Class:  0.096\n"
     ]
    },
    {
     "data": {
      "text/html": [
       "<span><b>the</b></span> <span style=\"background-color:rgba(0, 255, 255, 1)\"><b>book</b></span> <span style=\"background-color:rgba(0, 255, 255, 1)\"><b>is</b></span> <span style=\"background-color:rgba(0, 255, 255, 1)\"><b>very</b></span> <span style=\"background-color:rgba(0, 255, 255, 1)\"><b>nice</b></span> <span style=\"background-color:rgba(0, 255, 255, 1)\"><b>.</b></span> <span><b>the</b></span> <span><b>film</b></span> <span><b>instead</b></span> <span><b>is</b></span> <span><b>not</b></span> <span><b>as</b></span> <span><b>good</b></span> <span><b>as</b></span> <span><b>the</b></span> <span style=\"background-color:rgba(0, 255, 255, 1)\"><b>book</b></span> <span style=\"background-color:rgba(0, 255, 255, 1)\"><b>.</b></span> <span><b>i</b></span> <span><b>expected</b></span> <span><b>more</b></span> <span><b>for</b></span> <span><b>this</b></span> <span><b>movie</b></span> <span><b>.</b></span> "
      ],
      "text/plain": [
       "<IPython.core.display.HTML object>"
      ]
     },
     "metadata": {},
     "output_type": "display_data"
    },
    {
     "name": "stdout",
     "output_type": "stream",
     "text": [
      "\n",
      "\n",
      "\n",
      "\n",
      "LocalExplanationId: 38, FeatureId: 4\n",
      "feature type:  MLWE\n",
      "feature description:  Cluster 4\n",
      "feature (position,token):  {'2': 'is', '16': '.'}\n",
      "Perturbed Text:   the book very nice. the film instead is not as good as the book i expected more for this movie.\n",
      "perturbed probabilities:  [0.966144323348999, 0.03385567665100098]\n",
      "nPIR Original Class:  0.053\n"
     ]
    },
    {
     "data": {
      "text/html": [
       "<span><b>the</b></span> <span><b>book</b></span> <span style=\"background-color:rgba(0, 255, 255, 1)\"><b>is</b></span> <span><b>very</b></span> <span><b>nice</b></span> <span><b>.</b></span> <span><b>the</b></span> <span><b>film</b></span> <span><b>instead</b></span> <span><b>is</b></span> <span><b>not</b></span> <span><b>as</b></span> <span><b>good</b></span> <span><b>as</b></span> <span><b>the</b></span> <span><b>book</b></span> <span style=\"background-color:rgba(0, 255, 255, 1)\"><b>.</b></span> <span><b>i</b></span> <span><b>expected</b></span> <span><b>more</b></span> <span><b>for</b></span> <span><b>this</b></span> <span><b>movie</b></span> <span><b>.</b></span> "
      ],
      "text/plain": [
       "<IPython.core.display.HTML object>"
      ]
     },
     "metadata": {},
     "output_type": "display_data"
    },
    {
     "name": "stdout",
     "output_type": "stream",
     "text": [
      "\n",
      "\n",
      "\n",
      "\n",
      "LocalExplanationId: 40, FeatureId: 6\n",
      "feature type:  MLWE\n",
      "feature description:  Combination of Cluster 0 and Cluster 2\n",
      "feature (position,token):  {'1': 'book', '3': 'very', '4': 'nice', '5': '.', '15': 'book', '6': 'the', '9': 'is', '17': 'i'}\n",
      "Perturbed Text:   the is film instead not as good as the. expected more for this movie.\n",
      "perturbed probabilities:  [0.9671838879585266, 0.03281611204147339]\n",
      "nPIR Original Class:  0.051\n"
     ]
    },
    {
     "data": {
      "text/html": [
       "<span><b>the</b></span> <span style=\"background-color:rgba(0, 255, 255, 1)\"><b>book</b></span> <span><b>is</b></span> <span style=\"background-color:rgba(0, 255, 255, 1)\"><b>very</b></span> <span style=\"background-color:rgba(0, 255, 255, 1)\"><b>nice</b></span> <span style=\"background-color:rgba(0, 255, 255, 1)\"><b>.</b></span> <span style=\"background-color:rgba(0, 255, 255, 1)\"><b>the</b></span> <span><b>film</b></span> <span><b>instead</b></span> <span style=\"background-color:rgba(0, 255, 255, 1)\"><b>is</b></span> <span><b>not</b></span> <span><b>as</b></span> <span><b>good</b></span> <span><b>as</b></span> <span><b>the</b></span> <span style=\"background-color:rgba(0, 255, 255, 1)\"><b>book</b></span> <span><b>.</b></span> <span style=\"background-color:rgba(0, 255, 255, 1)\"><b>i</b></span> <span><b>expected</b></span> <span><b>more</b></span> <span><b>for</b></span> <span><b>this</b></span> <span><b>movie</b></span> <span><b>.</b></span> "
      ],
      "text/plain": [
       "<IPython.core.display.HTML object>"
      ]
     },
     "metadata": {},
     "output_type": "display_data"
    },
    {
     "name": "stdout",
     "output_type": "stream",
     "text": [
      "\n",
      "\n",
      "\n",
      "\n",
      "LocalExplanationId: 34, FeatureId: 0\n",
      "feature type:  MLWE\n",
      "feature description:  Cluster 0\n",
      "feature (position,token):  {'1': 'book', '3': 'very', '4': 'nice', '5': '.', '15': 'book'}\n",
      "Perturbed Text:   the is the film instead is not as good as the. i expected more for this movie.\n",
      "perturbed probabilities:  [0.9819790720939636, 0.018020927906036377]\n",
      "nPIR Original Class:  0.024\n"
     ]
    },
    {
     "data": {
      "text/html": [
       "<span><b>the</b></span> <span style=\"background-color:rgba(0, 255, 255, 1)\"><b>book</b></span> <span><b>is</b></span> <span style=\"background-color:rgba(0, 255, 255, 1)\"><b>very</b></span> <span style=\"background-color:rgba(0, 255, 255, 1)\"><b>nice</b></span> <span style=\"background-color:rgba(0, 255, 255, 1)\"><b>.</b></span> <span><b>the</b></span> <span><b>film</b></span> <span><b>instead</b></span> <span><b>is</b></span> <span><b>not</b></span> <span><b>as</b></span> <span><b>good</b></span> <span><b>as</b></span> <span><b>the</b></span> <span style=\"background-color:rgba(0, 255, 255, 1)\"><b>book</b></span> <span><b>.</b></span> <span><b>i</b></span> <span><b>expected</b></span> <span><b>more</b></span> <span><b>for</b></span> <span><b>this</b></span> <span><b>movie</b></span> <span><b>.</b></span> "
      ],
      "text/plain": [
       "<IPython.core.display.HTML object>"
      ]
     },
     "metadata": {},
     "output_type": "display_data"
    },
    {
     "name": "stdout",
     "output_type": "stream",
     "text": [
      "\n",
      "\n",
      "\n",
      "\n",
      "LocalExplanationId: 47, FeatureId: 13\n",
      "feature type:  MLWE\n",
      "feature description:  Combination of Cluster 2 and Cluster 4\n",
      "feature (position,token):  {'6': 'the', '9': 'is', '17': 'i', '2': 'is', '16': '.'}\n",
      "Perturbed Text:   the book very nice. film instead not as good as the book expected more for this movie.\n",
      "perturbed probabilities:  [0.9910808801651001, 0.008919119834899902]\n",
      "nPIR Original Class:  0.006\n"
     ]
    },
    {
     "data": {
      "text/html": [
       "<span><b>the</b></span> <span><b>book</b></span> <span style=\"background-color:rgba(0, 255, 255, 1)\"><b>is</b></span> <span><b>very</b></span> <span><b>nice</b></span> <span><b>.</b></span> <span style=\"background-color:rgba(0, 255, 255, 1)\"><b>the</b></span> <span><b>film</b></span> <span><b>instead</b></span> <span style=\"background-color:rgba(0, 255, 255, 1)\"><b>is</b></span> <span><b>not</b></span> <span><b>as</b></span> <span><b>good</b></span> <span><b>as</b></span> <span><b>the</b></span> <span><b>book</b></span> <span style=\"background-color:rgba(0, 255, 255, 1)\"><b>.</b></span> <span style=\"background-color:rgba(0, 255, 255, 1)\"><b>i</b></span> <span><b>expected</b></span> <span><b>more</b></span> <span><b>for</b></span> <span><b>this</b></span> <span><b>movie</b></span> <span><b>.</b></span> "
      ],
      "text/plain": [
       "<IPython.core.display.HTML object>"
      ]
     },
     "metadata": {},
     "output_type": "display_data"
    },
    {
     "name": "stdout",
     "output_type": "stream",
     "text": [
      "\n",
      "\n",
      "\n",
      "\n",
      "LocalExplanationId: 48, FeatureId: 14\n",
      "feature type:  MLWE\n",
      "feature description:  Combination of Cluster 3 and Cluster 4\n",
      "feature (position,token):  {'12': 'good', '13': 'as', '14': 'the', '2': 'is', '16': '.'}\n",
      "Perturbed Text:   the book very nice. the film instead is not as book i expected more for this movie.\n",
      "perturbed probabilities:  [0.992160439491272, 0.007839560508728027]\n",
      "nPIR Original Class:  0.004\n"
     ]
    },
    {
     "data": {
      "text/html": [
       "<span><b>the</b></span> <span><b>book</b></span> <span style=\"background-color:rgba(0, 255, 255, 1)\"><b>is</b></span> <span><b>very</b></span> <span><b>nice</b></span> <span><b>.</b></span> <span><b>the</b></span> <span><b>film</b></span> <span><b>instead</b></span> <span><b>is</b></span> <span><b>not</b></span> <span><b>as</b></span> <span style=\"background-color:rgba(0, 255, 255, 1)\"><b>good</b></span> <span style=\"background-color:rgba(0, 255, 255, 1)\"><b>as</b></span> <span style=\"background-color:rgba(0, 255, 255, 1)\"><b>the</b></span> <span><b>book</b></span> <span style=\"background-color:rgba(0, 255, 255, 1)\"><b>.</b></span> <span><b>i</b></span> <span><b>expected</b></span> <span><b>more</b></span> <span><b>for</b></span> <span><b>this</b></span> <span><b>movie</b></span> <span><b>.</b></span> "
      ],
      "text/plain": [
       "<IPython.core.display.HTML object>"
      ]
     },
     "metadata": {},
     "output_type": "display_data"
    },
    {
     "name": "stdout",
     "output_type": "stream",
     "text": [
      "\n",
      "\n",
      "\n",
      "\n",
      "LocalExplanationId: 46, FeatureId: 12\n",
      "feature type:  MLWE\n",
      "feature description:  Combination of Cluster 2 and Cluster 3\n",
      "feature (position,token):  {'6': 'the', '9': 'is', '17': 'i', '12': 'good', '13': 'as', '14': 'the'}\n",
      "Perturbed Text:   the book is very nice. film instead not as book. expected more for this movie.\n",
      "perturbed probabilities:  [0.9925110340118408, 0.007488936185836792]\n",
      "nPIR Original Class:  0.003\n"
     ]
    },
    {
     "data": {
      "text/html": [
       "<span><b>the</b></span> <span><b>book</b></span> <span><b>is</b></span> <span><b>very</b></span> <span><b>nice</b></span> <span><b>.</b></span> <span style=\"background-color:rgba(0, 255, 255, 1)\"><b>the</b></span> <span><b>film</b></span> <span><b>instead</b></span> <span style=\"background-color:rgba(0, 255, 255, 1)\"><b>is</b></span> <span><b>not</b></span> <span><b>as</b></span> <span style=\"background-color:rgba(0, 255, 255, 1)\"><b>good</b></span> <span style=\"background-color:rgba(0, 255, 255, 1)\"><b>as</b></span> <span style=\"background-color:rgba(0, 255, 255, 1)\"><b>the</b></span> <span><b>book</b></span> <span><b>.</b></span> <span style=\"background-color:rgba(0, 255, 255, 1)\"><b>i</b></span> <span><b>expected</b></span> <span><b>more</b></span> <span><b>for</b></span> <span><b>this</b></span> <span><b>movie</b></span> <span><b>.</b></span> "
      ],
      "text/plain": [
       "<IPython.core.display.HTML object>"
      ]
     },
     "metadata": {},
     "output_type": "display_data"
    },
    {
     "name": "stdout",
     "output_type": "stream",
     "text": [
      "\n",
      "\n",
      "\n",
      "\n",
      "LocalExplanationId: 37, FeatureId: 3\n",
      "feature type:  MLWE\n",
      "feature description:  Cluster 3\n",
      "feature (position,token):  {'12': 'good', '13': 'as', '14': 'the'}\n",
      "Perturbed Text:   the book is very nice. the film instead is not as book. i expected more for this movie.\n",
      "perturbed probabilities:  [0.995774507522583, 0.0042254626750946045]\n",
      "nPIR Original Class:  -0.003\n"
     ]
    },
    {
     "data": {
      "text/html": [
       "<span><b>the</b></span> <span><b>book</b></span> <span><b>is</b></span> <span><b>very</b></span> <span><b>nice</b></span> <span><b>.</b></span> <span><b>the</b></span> <span><b>film</b></span> <span><b>instead</b></span> <span><b>is</b></span> <span><b>not</b></span> <span><b>as</b></span> <span style=\"background-color:rgba(0, 255, 255, 1)\"><b>good</b></span> <span style=\"background-color:rgba(0, 255, 255, 1)\"><b>as</b></span> <span style=\"background-color:rgba(0, 255, 255, 1)\"><b>the</b></span> <span><b>book</b></span> <span><b>.</b></span> <span><b>i</b></span> <span><b>expected</b></span> <span><b>more</b></span> <span><b>for</b></span> <span><b>this</b></span> <span><b>movie</b></span> <span><b>.</b></span> "
      ],
      "text/plain": [
       "<IPython.core.display.HTML object>"
      ]
     },
     "metadata": {},
     "output_type": "display_data"
    },
    {
     "name": "stdout",
     "output_type": "stream",
     "text": [
      "\n",
      "\n",
      "\n",
      "\n",
      "LocalExplanationId: 36, FeatureId: 2\n",
      "feature type:  MLWE\n",
      "feature description:  Cluster 2\n",
      "feature (position,token):  {'6': 'the', '9': 'is', '17': 'i'}\n",
      "Perturbed Text:   the book is very nice. film instead not as good as the book. expected more for this movie.\n",
      "perturbed probabilities:  [0.9970859289169312, 0.00291404128074646]\n",
      "nPIR Original Class:  -0.006\n"
     ]
    },
    {
     "data": {
      "text/html": [
       "<span><b>the</b></span> <span><b>book</b></span> <span><b>is</b></span> <span><b>very</b></span> <span><b>nice</b></span> <span><b>.</b></span> <span style=\"background-color:rgba(0, 255, 255, 1)\"><b>the</b></span> <span><b>film</b></span> <span><b>instead</b></span> <span style=\"background-color:rgba(0, 255, 255, 1)\"><b>is</b></span> <span><b>not</b></span> <span><b>as</b></span> <span><b>good</b></span> <span><b>as</b></span> <span><b>the</b></span> <span><b>book</b></span> <span><b>.</b></span> <span style=\"background-color:rgba(0, 255, 255, 1)\"><b>i</b></span> <span><b>expected</b></span> <span><b>more</b></span> <span><b>for</b></span> <span><b>this</b></span> <span><b>movie</b></span> <span><b>.</b></span> "
      ],
      "text/plain": [
       "<IPython.core.display.HTML object>"
      ]
     },
     "metadata": {},
     "output_type": "display_data"
    },
    {
     "name": "stdout",
     "output_type": "stream",
     "text": [
      "\n",
      "\n",
      "\n",
      "\n"
     ]
    }
   ],
   "source": [
    "print(\"Original Probabilities: {}\".format(input_info[\"original_probabilities\"]))\n",
    "print(\"Original label: {}\".format(input_info[\"original_label\"]))\n",
    "print(\"\\n\\n\")\n",
    "min_nPIR_mlwe = -1\n",
    "max_nPIR_mlwe = 1\n",
    "\n",
    "for le in sorted(mlwe_local_explanations_comb, key=lambda le: le[\"nPIR_original_top_class\"], reverse=True ):\n",
    "    if le[\"nPIR_original_top_class\"] >= min_nPIR_mlwe and le[\"nPIR_original_top_class\"] <= max_nPIR_mlwe:\n",
    "        print_local_explanation(le, input_positions_tokens)\n",
    "        "
   ]
  },
  {
   "cell_type": "code",
   "execution_count": 141,
   "metadata": {
    "scrolled": false
   },
   "outputs": [
    {
     "data": {
      "text/html": [
       "<h1>Parts-of-speech Features Summary</h1>"
      ],
      "text/plain": [
       "<IPython.core.display.HTML object>"
      ]
     },
     "metadata": {},
     "output_type": "display_data"
    },
    {
     "data": {
      "text/html": [
       "<b>Predicted Class: Negative </b>"
      ],
      "text/plain": [
       "<IPython.core.display.HTML object>"
      ]
     },
     "metadata": {},
     "output_type": "display_data"
    },
    {
     "data": {
      "text/html": [
       "<b>Original Probability: [0.9941796660423279, 0.005820333957672119] </b>"
      ],
      "text/plain": [
       "<IPython.core.display.HTML object>"
      ]
     },
     "metadata": {},
     "output_type": "display_data"
    },
    {
     "data": {
      "text/html": [
       "<span style=\"background-color:rgba(124, 252, 0, 0.1258)\"><b>book</b></span> <span style=\"background-color:rgba(124, 252, 0, 0.2391)\"><b>is</b></span> <span style=\"background-color:rgba(124, 252, 0, 0.9981)\"><b>very</b></span> <span style=\"background-color:rgba(124, 252, 0, 0.0254)\"><b>nice</b></span> <span style=\"background-color:rgba(124, 252, 0, 0.1258)\"><b>film</b></span> <span style=\"background-color:rgba(124, 252, 0, 0.9981)\"><b>instead</b></span> <span style=\"background-color:rgba(124, 252, 0, 0.2391)\"><b>is</b></span> <span style=\"background-color:rgba(124, 252, 0, 0.9981)\"><b>not</b></span> <span style=\"background-color:rgba(124, 252, 0, 0.9981)\"><b>as</b></span> <span style=\"background-color:rgba(124, 252, 0, 0.0254)\"><b>good</b></span> <span style=\"background-color:rgba(124, 252, 0, 0.1258)\"><b>book</b></span> <span style=\"background-color:rgba(124, 252, 0, 0.1258)\"><b>i</b></span> <span style=\"background-color:rgba(124, 252, 0, 0.2391)\"><b>expected</b></span> <span style=\"background-color:rgba(124, 252, 0, 0.0254)\"><b>more</b></span> <span style=\"background-color:rgba(124, 252, 0, 0.1258)\"><b>movie</b></span> "
      ],
      "text/plain": [
       "<IPython.core.display.HTML object>"
      ]
     },
     "metadata": {},
     "output_type": "display_data"
    },
    {
     "data": {
      "text/html": [
       "(Features are highlighted in green if are positively influential for the predicted class, red otherwise. The intensity of the color is proportional to the nPIR score obtained by the word.) "
      ],
      "text/plain": [
       "<IPython.core.display.HTML object>"
      ]
     },
     "metadata": {},
     "output_type": "display_data"
    }
   ],
   "source": [
    "display(HTML('<h1>Parts-of-speech Features Summary</h1>'))\n",
    "display(HTML('<b>Predicted Class: {} </b>'.format(label_name(input_info[\"original_label\"]))))\n",
    "display(HTML('<b>Original Probability: {} </b>'.format(input_info[\"original_probabilities\"])))\n",
    "\n",
    "html_string = get_summary_string(pos_position_token_score)\n",
    "display(HTML(html_string))\n",
    "\n",
    "display(HTML('(Features are highlighted in green if are positively influential for the predicted class, red otherwise. The intensity of the color is proportional to the nPIR score obtained by the word.) '))  \n"
   ]
  },
  {
   "cell_type": "markdown",
   "metadata": {},
   "source": [
    "# POS Most influential feature"
   ]
  },
  {
   "cell_type": "code",
   "execution_count": 142,
   "metadata": {},
   "outputs": [
    {
     "name": "stdout",
     "output_type": "stream",
     "text": [
      "LocalExplanationId: 3, FeatureId: 3\n",
      "feature type:  POS\n",
      "feature description:  Adverbs, Modals\n",
      "feature (position,token):  {'3': 'very', '8': 'instead', '10': 'not', '11': 'as'}\n",
      "Perturbed Text:   the book is nice. the film is good as the book. i expected more for this movie.\n",
      "perturbed probabilities:  [0.001850426197052002, 0.998149573802948]\n",
      "nPIR Original Class:  0.998\n"
     ]
    },
    {
     "data": {
      "text/html": [
       "<span><b>the</b></span> <span><b>book</b></span> <span><b>is</b></span> <span style=\"background-color:rgba(0, 255, 255, 1)\"><b>very</b></span> <span><b>nice</b></span> <span><b>.</b></span> <span><b>the</b></span> <span><b>film</b></span> <span style=\"background-color:rgba(0, 255, 255, 1)\"><b>instead</b></span> <span><b>is</b></span> <span style=\"background-color:rgba(0, 255, 255, 1)\"><b>not</b></span> <span style=\"background-color:rgba(0, 255, 255, 1)\"><b>as</b></span> <span><b>good</b></span> <span><b>as</b></span> <span><b>the</b></span> <span><b>book</b></span> <span><b>.</b></span> <span><b>i</b></span> <span><b>expected</b></span> <span><b>more</b></span> <span><b>for</b></span> <span><b>this</b></span> <span><b>movie</b></span> <span><b>.</b></span> "
      ],
      "text/plain": [
       "<IPython.core.display.HTML object>"
      ]
     },
     "metadata": {},
     "output_type": "display_data"
    },
    {
     "name": "stdout",
     "output_type": "stream",
     "text": [
      "\n",
      "\n",
      "\n",
      "\n"
     ]
    }
   ],
   "source": [
    "most_influnetial_pos_feature =max(pos_local_explanations_comb, key= lambda le: le[\"nPIR_original_top_class\"])\n",
    "print_local_explanation(most_influnetial_pos_feature,input_position_tokens)"
   ]
  },
  {
   "cell_type": "markdown",
   "metadata": {},
   "source": [
    "<h1>Query Parts-of-speech Features</h1>"
   ]
  },
  {
   "cell_type": "code",
   "execution_count": 143,
   "metadata": {
    "scrolled": false
   },
   "outputs": [
    {
     "name": "stdout",
     "output_type": "stream",
     "text": [
      "Original Probabilities: [0.9941796660423279, 0.005820333957672119]\n",
      "Original label: 0\n",
      "\n",
      "\n",
      "\n",
      "LocalExplanationId: 3, FeatureId: 3\n",
      "feature type:  POS\n",
      "feature description:  Adverbs, Modals\n",
      "feature (position,token):  {'3': 'very', '8': 'instead', '10': 'not', '11': 'as'}\n",
      "Perturbed Text:   the book is nice. the film is good as the book. i expected more for this movie.\n",
      "perturbed probabilities:  [0.001850426197052002, 0.998149573802948]\n",
      "nPIR Original Class:  0.998\n"
     ]
    },
    {
     "data": {
      "text/html": [
       "<span><b>the</b></span> <span><b>book</b></span> <span><b>is</b></span> <span style=\"background-color:rgba(0, 255, 255, 1)\"><b>very</b></span> <span><b>nice</b></span> <span><b>.</b></span> <span><b>the</b></span> <span><b>film</b></span> <span style=\"background-color:rgba(0, 255, 255, 1)\"><b>instead</b></span> <span><b>is</b></span> <span style=\"background-color:rgba(0, 255, 255, 1)\"><b>not</b></span> <span style=\"background-color:rgba(0, 255, 255, 1)\"><b>as</b></span> <span><b>good</b></span> <span><b>as</b></span> <span><b>the</b></span> <span><b>book</b></span> <span><b>.</b></span> <span><b>i</b></span> <span><b>expected</b></span> <span><b>more</b></span> <span><b>for</b></span> <span><b>this</b></span> <span><b>movie</b></span> <span><b>.</b></span> "
      ],
      "text/plain": [
       "<IPython.core.display.HTML object>"
      ]
     },
     "metadata": {},
     "output_type": "display_data"
    },
    {
     "name": "stdout",
     "output_type": "stream",
     "text": [
      "\n",
      "\n",
      "\n",
      "\n",
      "LocalExplanationId: 22, FeatureId: 22\n",
      "feature type:  POS\n",
      "feature description:  Combination of Adverbs, Modals and Pronouns, Predeterminers, WH\n",
      "feature (position,token):  {'3': 'very', '8': 'instead', '10': 'not', '11': 'as'}\n",
      "Perturbed Text:   the book is nice. the film is good as the book. i expected more for this movie.\n",
      "perturbed probabilities:  [0.001850426197052002, 0.998149573802948]\n",
      "nPIR Original Class:  0.998\n"
     ]
    },
    {
     "data": {
      "text/html": [
       "<span><b>the</b></span> <span><b>book</b></span> <span><b>is</b></span> <span style=\"background-color:rgba(0, 255, 255, 1)\"><b>very</b></span> <span><b>nice</b></span> <span><b>.</b></span> <span><b>the</b></span> <span><b>film</b></span> <span style=\"background-color:rgba(0, 255, 255, 1)\"><b>instead</b></span> <span><b>is</b></span> <span style=\"background-color:rgba(0, 255, 255, 1)\"><b>not</b></span> <span style=\"background-color:rgba(0, 255, 255, 1)\"><b>as</b></span> <span><b>good</b></span> <span><b>as</b></span> <span><b>the</b></span> <span><b>book</b></span> <span><b>.</b></span> <span><b>i</b></span> <span><b>expected</b></span> <span><b>more</b></span> <span><b>for</b></span> <span><b>this</b></span> <span><b>movie</b></span> <span><b>.</b></span> "
      ],
      "text/plain": [
       "<IPython.core.display.HTML object>"
      ]
     },
     "metadata": {},
     "output_type": "display_data"
    },
    {
     "name": "stdout",
     "output_type": "stream",
     "text": [
      "\n",
      "\n",
      "\n",
      "\n",
      "LocalExplanationId: 23, FeatureId: 23\n",
      "feature type:  POS\n",
      "feature description:  Combination of Adverbs, Modals and Interjections\n",
      "feature (position,token):  {'3': 'very', '8': 'instead', '10': 'not', '11': 'as'}\n",
      "Perturbed Text:   the book is nice. the film is good as the book. i expected more for this movie.\n",
      "perturbed probabilities:  [0.001850426197052002, 0.998149573802948]\n",
      "nPIR Original Class:  0.998\n"
     ]
    },
    {
     "data": {
      "text/html": [
       "<span><b>the</b></span> <span><b>book</b></span> <span><b>is</b></span> <span style=\"background-color:rgba(0, 255, 255, 1)\"><b>very</b></span> <span><b>nice</b></span> <span><b>.</b></span> <span><b>the</b></span> <span><b>film</b></span> <span style=\"background-color:rgba(0, 255, 255, 1)\"><b>instead</b></span> <span><b>is</b></span> <span style=\"background-color:rgba(0, 255, 255, 1)\"><b>not</b></span> <span style=\"background-color:rgba(0, 255, 255, 1)\"><b>as</b></span> <span><b>good</b></span> <span><b>as</b></span> <span><b>the</b></span> <span><b>book</b></span> <span><b>.</b></span> <span><b>i</b></span> <span><b>expected</b></span> <span><b>more</b></span> <span><b>for</b></span> <span><b>this</b></span> <span><b>movie</b></span> <span><b>.</b></span> "
      ],
      "text/plain": [
       "<IPython.core.display.HTML object>"
      ]
     },
     "metadata": {},
     "output_type": "display_data"
    },
    {
     "name": "stdout",
     "output_type": "stream",
     "text": [
      "\n",
      "\n",
      "\n",
      "\n",
      "LocalExplanationId: 24, FeatureId: 24\n",
      "feature type:  POS\n",
      "feature description:  Combination of Adverbs, Modals and Others (Cardinal Numbers, Foreign Words, Symbols)\n",
      "feature (position,token):  {'3': 'very', '8': 'instead', '10': 'not', '11': 'as'}\n",
      "Perturbed Text:   the book is nice. the film is good as the book. i expected more for this movie.\n",
      "perturbed probabilities:  [0.001850426197052002, 0.998149573802948]\n",
      "nPIR Original Class:  0.998\n"
     ]
    },
    {
     "data": {
      "text/html": [
       "<span><b>the</b></span> <span><b>book</b></span> <span><b>is</b></span> <span style=\"background-color:rgba(0, 255, 255, 1)\"><b>very</b></span> <span><b>nice</b></span> <span><b>.</b></span> <span><b>the</b></span> <span><b>film</b></span> <span style=\"background-color:rgba(0, 255, 255, 1)\"><b>instead</b></span> <span><b>is</b></span> <span style=\"background-color:rgba(0, 255, 255, 1)\"><b>not</b></span> <span style=\"background-color:rgba(0, 255, 255, 1)\"><b>as</b></span> <span><b>good</b></span> <span><b>as</b></span> <span><b>the</b></span> <span><b>book</b></span> <span><b>.</b></span> <span><b>i</b></span> <span><b>expected</b></span> <span><b>more</b></span> <span><b>for</b></span> <span><b>this</b></span> <span><b>movie</b></span> <span><b>.</b></span> "
      ],
      "text/plain": [
       "<IPython.core.display.HTML object>"
      ]
     },
     "metadata": {},
     "output_type": "display_data"
    },
    {
     "name": "stdout",
     "output_type": "stream",
     "text": [
      "\n",
      "\n",
      "\n",
      "\n",
      "LocalExplanationId: 18, FeatureId: 18\n",
      "feature type:  POS\n",
      "feature description:  Combination of Verbs and Adverbs, Modals\n",
      "feature (position,token):  {'2': 'is', '9': 'is', '18': 'expected', '3': 'very', '8': 'instead', '10': 'not', '11': 'as'}\n",
      "Perturbed Text:   the book nice. the film good as the book. i more for this movie.\n",
      "perturbed probabilities:  [0.0022974014282226562, 0.9977025985717773]\n",
      "nPIR Original Class:  0.998\n"
     ]
    },
    {
     "data": {
      "text/html": [
       "<span><b>the</b></span> <span><b>book</b></span> <span style=\"background-color:rgba(0, 255, 255, 1)\"><b>is</b></span> <span style=\"background-color:rgba(0, 255, 255, 1)\"><b>very</b></span> <span><b>nice</b></span> <span><b>.</b></span> <span><b>the</b></span> <span><b>film</b></span> <span style=\"background-color:rgba(0, 255, 255, 1)\"><b>instead</b></span> <span style=\"background-color:rgba(0, 255, 255, 1)\"><b>is</b></span> <span style=\"background-color:rgba(0, 255, 255, 1)\"><b>not</b></span> <span style=\"background-color:rgba(0, 255, 255, 1)\"><b>as</b></span> <span><b>good</b></span> <span><b>as</b></span> <span><b>the</b></span> <span><b>book</b></span> <span><b>.</b></span> <span><b>i</b></span> <span style=\"background-color:rgba(0, 255, 255, 1)\"><b>expected</b></span> <span><b>more</b></span> <span><b>for</b></span> <span><b>this</b></span> <span><b>movie</b></span> <span><b>.</b></span> "
      ],
      "text/plain": [
       "<IPython.core.display.HTML object>"
      ]
     },
     "metadata": {},
     "output_type": "display_data"
    },
    {
     "name": "stdout",
     "output_type": "stream",
     "text": [
      "\n",
      "\n",
      "\n",
      "\n",
      "LocalExplanationId: 14, FeatureId: 14\n",
      "feature type:  POS\n",
      "feature description:  Combination of Nouns and Adverbs, Modals\n",
      "feature (position,token):  {'1': 'book', '7': 'film', '15': 'book', '17': 'i', '22': 'movie', '3': 'very', '8': 'instead', '10': 'not', '11': 'as'}\n",
      "Perturbed Text:   the is nice. the is good as the. expected more for this.\n",
      "perturbed probabilities:  [0.004017949104309082, 0.9959820508956909]\n",
      "nPIR Original Class:  0.996\n"
     ]
    },
    {
     "data": {
      "text/html": [
       "<span><b>the</b></span> <span style=\"background-color:rgba(0, 255, 255, 1)\"><b>book</b></span> <span><b>is</b></span> <span style=\"background-color:rgba(0, 255, 255, 1)\"><b>very</b></span> <span><b>nice</b></span> <span><b>.</b></span> <span><b>the</b></span> <span style=\"background-color:rgba(0, 255, 255, 1)\"><b>film</b></span> <span style=\"background-color:rgba(0, 255, 255, 1)\"><b>instead</b></span> <span><b>is</b></span> <span style=\"background-color:rgba(0, 255, 255, 1)\"><b>not</b></span> <span style=\"background-color:rgba(0, 255, 255, 1)\"><b>as</b></span> <span><b>good</b></span> <span><b>as</b></span> <span><b>the</b></span> <span style=\"background-color:rgba(0, 255, 255, 1)\"><b>book</b></span> <span><b>.</b></span> <span style=\"background-color:rgba(0, 255, 255, 1)\"><b>i</b></span> <span><b>expected</b></span> <span><b>more</b></span> <span><b>for</b></span> <span><b>this</b></span> <span style=\"background-color:rgba(0, 255, 255, 1)\"><b>movie</b></span> <span><b>.</b></span> "
      ],
      "text/plain": [
       "<IPython.core.display.HTML object>"
      ]
     },
     "metadata": {},
     "output_type": "display_data"
    },
    {
     "name": "stdout",
     "output_type": "stream",
     "text": [
      "\n",
      "\n",
      "\n",
      "\n",
      "LocalExplanationId: 9, FeatureId: 9\n",
      "feature type:  POS\n",
      "feature description:  Combination of Adjectives and Adverbs, Modals\n",
      "feature (position,token):  {'4': 'nice', '12': 'good', '19': 'more', '3': 'very', '8': 'instead', '10': 'not', '11': 'as'}\n",
      "Perturbed Text:   the book is. the film is as the book. i expected for this movie.\n",
      "perturbed probabilities:  [0.18259286880493164, 0.8174071311950684]\n",
      "nPIR Original Class:  0.82\n"
     ]
    },
    {
     "data": {
      "text/html": [
       "<span><b>the</b></span> <span><b>book</b></span> <span><b>is</b></span> <span style=\"background-color:rgba(0, 255, 255, 1)\"><b>very</b></span> <span style=\"background-color:rgba(0, 255, 255, 1)\"><b>nice</b></span> <span><b>.</b></span> <span><b>the</b></span> <span><b>film</b></span> <span style=\"background-color:rgba(0, 255, 255, 1)\"><b>instead</b></span> <span><b>is</b></span> <span style=\"background-color:rgba(0, 255, 255, 1)\"><b>not</b></span> <span style=\"background-color:rgba(0, 255, 255, 1)\"><b>as</b></span> <span style=\"background-color:rgba(0, 255, 255, 1)\"><b>good</b></span> <span><b>as</b></span> <span><b>the</b></span> <span><b>book</b></span> <span><b>.</b></span> <span><b>i</b></span> <span><b>expected</b></span> <span style=\"background-color:rgba(0, 255, 255, 1)\"><b>more</b></span> <span><b>for</b></span> <span><b>this</b></span> <span><b>movie</b></span> <span><b>.</b></span> "
      ],
      "text/plain": [
       "<IPython.core.display.HTML object>"
      ]
     },
     "metadata": {},
     "output_type": "display_data"
    },
    {
     "name": "stdout",
     "output_type": "stream",
     "text": [
      "\n",
      "\n",
      "\n",
      "\n",
      "LocalExplanationId: 13, FeatureId: 13\n",
      "feature type:  POS\n",
      "feature description:  Combination of Nouns and Verbs\n",
      "feature (position,token):  {'1': 'book', '7': 'film', '15': 'book', '17': 'i', '22': 'movie', '2': 'is', '9': 'is', '18': 'expected'}\n",
      "Perturbed Text:   the very nice. the instead not as good as the. more for this.\n",
      "perturbed probabilities:  [0.5016361474990845, 0.4983638525009155]\n",
      "nPIR Original Class:  0.55\n"
     ]
    },
    {
     "data": {
      "text/html": [
       "<span><b>the</b></span> <span style=\"background-color:rgba(0, 255, 255, 1)\"><b>book</b></span> <span style=\"background-color:rgba(0, 255, 255, 1)\"><b>is</b></span> <span><b>very</b></span> <span><b>nice</b></span> <span><b>.</b></span> <span><b>the</b></span> <span style=\"background-color:rgba(0, 255, 255, 1)\"><b>film</b></span> <span><b>instead</b></span> <span style=\"background-color:rgba(0, 255, 255, 1)\"><b>is</b></span> <span><b>not</b></span> <span><b>as</b></span> <span><b>good</b></span> <span><b>as</b></span> <span><b>the</b></span> <span style=\"background-color:rgba(0, 255, 255, 1)\"><b>book</b></span> <span><b>.</b></span> <span style=\"background-color:rgba(0, 255, 255, 1)\"><b>i</b></span> <span style=\"background-color:rgba(0, 255, 255, 1)\"><b>expected</b></span> <span><b>more</b></span> <span><b>for</b></span> <span><b>this</b></span> <span style=\"background-color:rgba(0, 255, 255, 1)\"><b>movie</b></span> <span><b>.</b></span> "
      ],
      "text/plain": [
       "<IPython.core.display.HTML object>"
      ]
     },
     "metadata": {},
     "output_type": "display_data"
    },
    {
     "name": "stdout",
     "output_type": "stream",
     "text": [
      "\n",
      "\n",
      "\n",
      "\n",
      "LocalExplanationId: 7, FeatureId: 7\n",
      "feature type:  POS\n",
      "feature description:  Combination of Adjectives and Nouns\n",
      "feature (position,token):  {'4': 'nice', '12': 'good', '19': 'more', '1': 'book', '7': 'film', '15': 'book', '17': 'i', '22': 'movie'}\n",
      "Perturbed Text:   the is very. the instead is not as as the. expected for this.\n",
      "perturbed probabilities:  [0.5462900400161743, 0.45370998978614807]\n",
      "nPIR Original Class:  0.515\n"
     ]
    },
    {
     "data": {
      "text/html": [
       "<span><b>the</b></span> <span style=\"background-color:rgba(0, 255, 255, 1)\"><b>book</b></span> <span><b>is</b></span> <span><b>very</b></span> <span style=\"background-color:rgba(0, 255, 255, 1)\"><b>nice</b></span> <span><b>.</b></span> <span><b>the</b></span> <span style=\"background-color:rgba(0, 255, 255, 1)\"><b>film</b></span> <span><b>instead</b></span> <span><b>is</b></span> <span><b>not</b></span> <span><b>as</b></span> <span style=\"background-color:rgba(0, 255, 255, 1)\"><b>good</b></span> <span><b>as</b></span> <span><b>the</b></span> <span style=\"background-color:rgba(0, 255, 255, 1)\"><b>book</b></span> <span><b>.</b></span> <span style=\"background-color:rgba(0, 255, 255, 1)\"><b>i</b></span> <span><b>expected</b></span> <span style=\"background-color:rgba(0, 255, 255, 1)\"><b>more</b></span> <span><b>for</b></span> <span><b>this</b></span> <span style=\"background-color:rgba(0, 255, 255, 1)\"><b>movie</b></span> <span><b>.</b></span> "
      ],
      "text/plain": [
       "<IPython.core.display.HTML object>"
      ]
     },
     "metadata": {},
     "output_type": "display_data"
    },
    {
     "name": "stdout",
     "output_type": "stream",
     "text": [
      "\n",
      "\n",
      "\n",
      "\n",
      "LocalExplanationId: 2, FeatureId: 2\n",
      "feature type:  POS\n",
      "feature description:  Verbs\n",
      "feature (position,token):  {'2': 'is', '9': 'is', '18': 'expected'}\n",
      "Perturbed Text:   the book very nice. the film instead not as good as the book. i more for this movie.\n",
      "perturbed probabilities:  [0.8392546772956848, 0.16074532270431519]\n",
      "nPIR Original Class:  0.239\n"
     ]
    },
    {
     "data": {
      "text/html": [
       "<span><b>the</b></span> <span><b>book</b></span> <span style=\"background-color:rgba(0, 255, 255, 1)\"><b>is</b></span> <span><b>very</b></span> <span><b>nice</b></span> <span><b>.</b></span> <span><b>the</b></span> <span><b>film</b></span> <span><b>instead</b></span> <span style=\"background-color:rgba(0, 255, 255, 1)\"><b>is</b></span> <span><b>not</b></span> <span><b>as</b></span> <span><b>good</b></span> <span><b>as</b></span> <span><b>the</b></span> <span><b>book</b></span> <span><b>.</b></span> <span><b>i</b></span> <span style=\"background-color:rgba(0, 255, 255, 1)\"><b>expected</b></span> <span><b>more</b></span> <span><b>for</b></span> <span><b>this</b></span> <span><b>movie</b></span> <span><b>.</b></span> "
      ],
      "text/plain": [
       "<IPython.core.display.HTML object>"
      ]
     },
     "metadata": {},
     "output_type": "display_data"
    },
    {
     "name": "stdout",
     "output_type": "stream",
     "text": [
      "\n",
      "\n",
      "\n",
      "\n",
      "LocalExplanationId: 19, FeatureId: 19\n",
      "feature type:  POS\n",
      "feature description:  Combination of Verbs and Pronouns, Predeterminers, WH\n",
      "feature (position,token):  {'2': 'is', '9': 'is', '18': 'expected'}\n",
      "Perturbed Text:   the book very nice. the film instead not as good as the book. i more for this movie.\n",
      "perturbed probabilities:  [0.8392546772956848, 0.16074532270431519]\n",
      "nPIR Original Class:  0.239\n"
     ]
    },
    {
     "data": {
      "text/html": [
       "<span><b>the</b></span> <span><b>book</b></span> <span style=\"background-color:rgba(0, 255, 255, 1)\"><b>is</b></span> <span><b>very</b></span> <span><b>nice</b></span> <span><b>.</b></span> <span><b>the</b></span> <span><b>film</b></span> <span><b>instead</b></span> <span style=\"background-color:rgba(0, 255, 255, 1)\"><b>is</b></span> <span><b>not</b></span> <span><b>as</b></span> <span><b>good</b></span> <span><b>as</b></span> <span><b>the</b></span> <span><b>book</b></span> <span><b>.</b></span> <span><b>i</b></span> <span style=\"background-color:rgba(0, 255, 255, 1)\"><b>expected</b></span> <span><b>more</b></span> <span><b>for</b></span> <span><b>this</b></span> <span><b>movie</b></span> <span><b>.</b></span> "
      ],
      "text/plain": [
       "<IPython.core.display.HTML object>"
      ]
     },
     "metadata": {},
     "output_type": "display_data"
    },
    {
     "name": "stdout",
     "output_type": "stream",
     "text": [
      "\n",
      "\n",
      "\n",
      "\n",
      "LocalExplanationId: 20, FeatureId: 20\n",
      "feature type:  POS\n",
      "feature description:  Combination of Verbs and Interjections\n",
      "feature (position,token):  {'2': 'is', '9': 'is', '18': 'expected'}\n",
      "Perturbed Text:   the book very nice. the film instead not as good as the book. i more for this movie.\n",
      "perturbed probabilities:  [0.8392546772956848, 0.16074532270431519]\n",
      "nPIR Original Class:  0.239\n"
     ]
    },
    {
     "data": {
      "text/html": [
       "<span><b>the</b></span> <span><b>book</b></span> <span style=\"background-color:rgba(0, 255, 255, 1)\"><b>is</b></span> <span><b>very</b></span> <span><b>nice</b></span> <span><b>.</b></span> <span><b>the</b></span> <span><b>film</b></span> <span><b>instead</b></span> <span style=\"background-color:rgba(0, 255, 255, 1)\"><b>is</b></span> <span><b>not</b></span> <span><b>as</b></span> <span><b>good</b></span> <span><b>as</b></span> <span><b>the</b></span> <span><b>book</b></span> <span><b>.</b></span> <span><b>i</b></span> <span style=\"background-color:rgba(0, 255, 255, 1)\"><b>expected</b></span> <span><b>more</b></span> <span><b>for</b></span> <span><b>this</b></span> <span><b>movie</b></span> <span><b>.</b></span> "
      ],
      "text/plain": [
       "<IPython.core.display.HTML object>"
      ]
     },
     "metadata": {},
     "output_type": "display_data"
    },
    {
     "name": "stdout",
     "output_type": "stream",
     "text": [
      "\n",
      "\n",
      "\n",
      "\n",
      "LocalExplanationId: 21, FeatureId: 21\n",
      "feature type:  POS\n",
      "feature description:  Combination of Verbs and Others (Cardinal Numbers, Foreign Words, Symbols)\n",
      "feature (position,token):  {'2': 'is', '9': 'is', '18': 'expected'}\n",
      "Perturbed Text:   the book very nice. the film instead not as good as the book. i more for this movie.\n",
      "perturbed probabilities:  [0.8392546772956848, 0.16074532270431519]\n",
      "nPIR Original Class:  0.239\n"
     ]
    },
    {
     "data": {
      "text/html": [
       "<span><b>the</b></span> <span><b>book</b></span> <span style=\"background-color:rgba(0, 255, 255, 1)\"><b>is</b></span> <span><b>very</b></span> <span><b>nice</b></span> <span><b>.</b></span> <span><b>the</b></span> <span><b>film</b></span> <span><b>instead</b></span> <span style=\"background-color:rgba(0, 255, 255, 1)\"><b>is</b></span> <span><b>not</b></span> <span><b>as</b></span> <span><b>good</b></span> <span><b>as</b></span> <span><b>the</b></span> <span><b>book</b></span> <span><b>.</b></span> <span><b>i</b></span> <span style=\"background-color:rgba(0, 255, 255, 1)\"><b>expected</b></span> <span><b>more</b></span> <span><b>for</b></span> <span><b>this</b></span> <span><b>movie</b></span> <span><b>.</b></span> "
      ],
      "text/plain": [
       "<IPython.core.display.HTML object>"
      ]
     },
     "metadata": {},
     "output_type": "display_data"
    },
    {
     "name": "stdout",
     "output_type": "stream",
     "text": [
      "\n",
      "\n",
      "\n",
      "\n",
      "LocalExplanationId: 8, FeatureId: 8\n",
      "feature type:  POS\n",
      "feature description:  Combination of Adjectives and Verbs\n",
      "feature (position,token):  {'4': 'nice', '12': 'good', '19': 'more', '2': 'is', '9': 'is', '18': 'expected'}\n",
      "Perturbed Text:   the book very. the film instead not as as the book. i for this movie.\n",
      "perturbed probabilities:  [0.8849215507507324, 0.11507844924926758]\n",
      "nPIR Original Class:  0.18\n"
     ]
    },
    {
     "data": {
      "text/html": [
       "<span><b>the</b></span> <span><b>book</b></span> <span style=\"background-color:rgba(0, 255, 255, 1)\"><b>is</b></span> <span><b>very</b></span> <span style=\"background-color:rgba(0, 255, 255, 1)\"><b>nice</b></span> <span><b>.</b></span> <span><b>the</b></span> <span><b>film</b></span> <span><b>instead</b></span> <span style=\"background-color:rgba(0, 255, 255, 1)\"><b>is</b></span> <span><b>not</b></span> <span><b>as</b></span> <span style=\"background-color:rgba(0, 255, 255, 1)\"><b>good</b></span> <span><b>as</b></span> <span><b>the</b></span> <span><b>book</b></span> <span><b>.</b></span> <span><b>i</b></span> <span style=\"background-color:rgba(0, 255, 255, 1)\"><b>expected</b></span> <span style=\"background-color:rgba(0, 255, 255, 1)\"><b>more</b></span> <span><b>for</b></span> <span><b>this</b></span> <span><b>movie</b></span> <span><b>.</b></span> "
      ],
      "text/plain": [
       "<IPython.core.display.HTML object>"
      ]
     },
     "metadata": {},
     "output_type": "display_data"
    },
    {
     "name": "stdout",
     "output_type": "stream",
     "text": [
      "\n",
      "\n",
      "\n",
      "\n",
      "LocalExplanationId: 1, FeatureId: 1\n",
      "feature type:  POS\n",
      "feature description:  Nouns\n",
      "feature (position,token):  {'1': 'book', '7': 'film', '15': 'book', '17': 'i', '22': 'movie'}\n",
      "Perturbed Text:   the is very nice. the instead is not as good as the. expected more for this.\n",
      "perturbed probabilities:  [0.9224529266357422, 0.0775471031665802]\n",
      "nPIR Original Class:  0.126\n"
     ]
    },
    {
     "data": {
      "text/html": [
       "<span><b>the</b></span> <span style=\"background-color:rgba(0, 255, 255, 1)\"><b>book</b></span> <span><b>is</b></span> <span><b>very</b></span> <span><b>nice</b></span> <span><b>.</b></span> <span><b>the</b></span> <span style=\"background-color:rgba(0, 255, 255, 1)\"><b>film</b></span> <span><b>instead</b></span> <span><b>is</b></span> <span><b>not</b></span> <span><b>as</b></span> <span><b>good</b></span> <span><b>as</b></span> <span><b>the</b></span> <span style=\"background-color:rgba(0, 255, 255, 1)\"><b>book</b></span> <span><b>.</b></span> <span style=\"background-color:rgba(0, 255, 255, 1)\"><b>i</b></span> <span><b>expected</b></span> <span><b>more</b></span> <span><b>for</b></span> <span><b>this</b></span> <span style=\"background-color:rgba(0, 255, 255, 1)\"><b>movie</b></span> <span><b>.</b></span> "
      ],
      "text/plain": [
       "<IPython.core.display.HTML object>"
      ]
     },
     "metadata": {},
     "output_type": "display_data"
    },
    {
     "name": "stdout",
     "output_type": "stream",
     "text": [
      "\n",
      "\n",
      "\n",
      "\n",
      "LocalExplanationId: 15, FeatureId: 15\n",
      "feature type:  POS\n",
      "feature description:  Combination of Nouns and Pronouns, Predeterminers, WH\n",
      "feature (position,token):  {'1': 'book', '7': 'film', '15': 'book', '17': 'i', '22': 'movie'}\n",
      "Perturbed Text:   the is very nice. the instead is not as good as the. expected more for this.\n",
      "perturbed probabilities:  [0.9224529266357422, 0.0775471031665802]\n",
      "nPIR Original Class:  0.126\n"
     ]
    },
    {
     "data": {
      "text/html": [
       "<span><b>the</b></span> <span style=\"background-color:rgba(0, 255, 255, 1)\"><b>book</b></span> <span><b>is</b></span> <span><b>very</b></span> <span><b>nice</b></span> <span><b>.</b></span> <span><b>the</b></span> <span style=\"background-color:rgba(0, 255, 255, 1)\"><b>film</b></span> <span><b>instead</b></span> <span><b>is</b></span> <span><b>not</b></span> <span><b>as</b></span> <span><b>good</b></span> <span><b>as</b></span> <span><b>the</b></span> <span style=\"background-color:rgba(0, 255, 255, 1)\"><b>book</b></span> <span><b>.</b></span> <span style=\"background-color:rgba(0, 255, 255, 1)\"><b>i</b></span> <span><b>expected</b></span> <span><b>more</b></span> <span><b>for</b></span> <span><b>this</b></span> <span style=\"background-color:rgba(0, 255, 255, 1)\"><b>movie</b></span> <span><b>.</b></span> "
      ],
      "text/plain": [
       "<IPython.core.display.HTML object>"
      ]
     },
     "metadata": {},
     "output_type": "display_data"
    },
    {
     "name": "stdout",
     "output_type": "stream",
     "text": [
      "\n",
      "\n",
      "\n",
      "\n",
      "LocalExplanationId: 16, FeatureId: 16\n",
      "feature type:  POS\n",
      "feature description:  Combination of Nouns and Interjections\n",
      "feature (position,token):  {'1': 'book', '7': 'film', '15': 'book', '17': 'i', '22': 'movie'}\n",
      "Perturbed Text:   the is very nice. the instead is not as good as the. expected more for this.\n",
      "perturbed probabilities:  [0.9224529266357422, 0.0775471031665802]\n",
      "nPIR Original Class:  0.126\n"
     ]
    },
    {
     "data": {
      "text/html": [
       "<span><b>the</b></span> <span style=\"background-color:rgba(0, 255, 255, 1)\"><b>book</b></span> <span><b>is</b></span> <span><b>very</b></span> <span><b>nice</b></span> <span><b>.</b></span> <span><b>the</b></span> <span style=\"background-color:rgba(0, 255, 255, 1)\"><b>film</b></span> <span><b>instead</b></span> <span><b>is</b></span> <span><b>not</b></span> <span><b>as</b></span> <span><b>good</b></span> <span><b>as</b></span> <span><b>the</b></span> <span style=\"background-color:rgba(0, 255, 255, 1)\"><b>book</b></span> <span><b>.</b></span> <span style=\"background-color:rgba(0, 255, 255, 1)\"><b>i</b></span> <span><b>expected</b></span> <span><b>more</b></span> <span><b>for</b></span> <span><b>this</b></span> <span style=\"background-color:rgba(0, 255, 255, 1)\"><b>movie</b></span> <span><b>.</b></span> "
      ],
      "text/plain": [
       "<IPython.core.display.HTML object>"
      ]
     },
     "metadata": {},
     "output_type": "display_data"
    },
    {
     "name": "stdout",
     "output_type": "stream",
     "text": [
      "\n",
      "\n",
      "\n",
      "\n",
      "LocalExplanationId: 17, FeatureId: 17\n",
      "feature type:  POS\n",
      "feature description:  Combination of Nouns and Others (Cardinal Numbers, Foreign Words, Symbols)\n",
      "feature (position,token):  {'1': 'book', '7': 'film', '15': 'book', '17': 'i', '22': 'movie'}\n",
      "Perturbed Text:   the is very nice. the instead is not as good as the. expected more for this.\n",
      "perturbed probabilities:  [0.9224529266357422, 0.0775471031665802]\n",
      "nPIR Original Class:  0.126\n"
     ]
    },
    {
     "data": {
      "text/html": [
       "<span><b>the</b></span> <span style=\"background-color:rgba(0, 255, 255, 1)\"><b>book</b></span> <span><b>is</b></span> <span><b>very</b></span> <span><b>nice</b></span> <span><b>.</b></span> <span><b>the</b></span> <span style=\"background-color:rgba(0, 255, 255, 1)\"><b>film</b></span> <span><b>instead</b></span> <span><b>is</b></span> <span><b>not</b></span> <span><b>as</b></span> <span><b>good</b></span> <span><b>as</b></span> <span><b>the</b></span> <span style=\"background-color:rgba(0, 255, 255, 1)\"><b>book</b></span> <span><b>.</b></span> <span style=\"background-color:rgba(0, 255, 255, 1)\"><b>i</b></span> <span><b>expected</b></span> <span><b>more</b></span> <span><b>for</b></span> <span><b>this</b></span> <span style=\"background-color:rgba(0, 255, 255, 1)\"><b>movie</b></span> <span><b>.</b></span> "
      ],
      "text/plain": [
       "<IPython.core.display.HTML object>"
      ]
     },
     "metadata": {},
     "output_type": "display_data"
    },
    {
     "name": "stdout",
     "output_type": "stream",
     "text": [
      "\n",
      "\n",
      "\n",
      "\n",
      "LocalExplanationId: 0, FeatureId: 0\n",
      "feature type:  POS\n",
      "feature description:  Adjectives\n",
      "feature (position,token):  {'4': 'nice', '12': 'good', '19': 'more'}\n",
      "Perturbed Text:   the book is very. the film instead is not as as the book. i expected for this movie.\n",
      "perturbed probabilities:  [0.9811475872993469, 0.018852412700653076]\n",
      "nPIR Original Class:  0.025\n"
     ]
    },
    {
     "data": {
      "text/html": [
       "<span><b>the</b></span> <span><b>book</b></span> <span><b>is</b></span> <span><b>very</b></span> <span style=\"background-color:rgba(0, 255, 255, 1)\"><b>nice</b></span> <span><b>.</b></span> <span><b>the</b></span> <span><b>film</b></span> <span><b>instead</b></span> <span><b>is</b></span> <span><b>not</b></span> <span><b>as</b></span> <span style=\"background-color:rgba(0, 255, 255, 1)\"><b>good</b></span> <span><b>as</b></span> <span><b>the</b></span> <span><b>book</b></span> <span><b>.</b></span> <span><b>i</b></span> <span><b>expected</b></span> <span style=\"background-color:rgba(0, 255, 255, 1)\"><b>more</b></span> <span><b>for</b></span> <span><b>this</b></span> <span><b>movie</b></span> <span><b>.</b></span> "
      ],
      "text/plain": [
       "<IPython.core.display.HTML object>"
      ]
     },
     "metadata": {},
     "output_type": "display_data"
    },
    {
     "name": "stdout",
     "output_type": "stream",
     "text": [
      "\n",
      "\n",
      "\n",
      "\n",
      "LocalExplanationId: 10, FeatureId: 10\n",
      "feature type:  POS\n",
      "feature description:  Combination of Adjectives and Pronouns, Predeterminers, WH\n",
      "feature (position,token):  {'4': 'nice', '12': 'good', '19': 'more'}\n",
      "Perturbed Text:   the book is very. the film instead is not as as the book. i expected for this movie.\n",
      "perturbed probabilities:  [0.9811475872993469, 0.018852412700653076]\n",
      "nPIR Original Class:  0.025\n"
     ]
    },
    {
     "data": {
      "text/html": [
       "<span><b>the</b></span> <span><b>book</b></span> <span><b>is</b></span> <span><b>very</b></span> <span style=\"background-color:rgba(0, 255, 255, 1)\"><b>nice</b></span> <span><b>.</b></span> <span><b>the</b></span> <span><b>film</b></span> <span><b>instead</b></span> <span><b>is</b></span> <span><b>not</b></span> <span><b>as</b></span> <span style=\"background-color:rgba(0, 255, 255, 1)\"><b>good</b></span> <span><b>as</b></span> <span><b>the</b></span> <span><b>book</b></span> <span><b>.</b></span> <span><b>i</b></span> <span><b>expected</b></span> <span style=\"background-color:rgba(0, 255, 255, 1)\"><b>more</b></span> <span><b>for</b></span> <span><b>this</b></span> <span><b>movie</b></span> <span><b>.</b></span> "
      ],
      "text/plain": [
       "<IPython.core.display.HTML object>"
      ]
     },
     "metadata": {},
     "output_type": "display_data"
    },
    {
     "name": "stdout",
     "output_type": "stream",
     "text": [
      "\n",
      "\n",
      "\n",
      "\n",
      "LocalExplanationId: 11, FeatureId: 11\n",
      "feature type:  POS\n",
      "feature description:  Combination of Adjectives and Interjections\n",
      "feature (position,token):  {'4': 'nice', '12': 'good', '19': 'more'}\n",
      "Perturbed Text:   the book is very. the film instead is not as as the book. i expected for this movie.\n",
      "perturbed probabilities:  [0.9811475872993469, 0.018852412700653076]\n",
      "nPIR Original Class:  0.025\n"
     ]
    },
    {
     "data": {
      "text/html": [
       "<span><b>the</b></span> <span><b>book</b></span> <span><b>is</b></span> <span><b>very</b></span> <span style=\"background-color:rgba(0, 255, 255, 1)\"><b>nice</b></span> <span><b>.</b></span> <span><b>the</b></span> <span><b>film</b></span> <span><b>instead</b></span> <span><b>is</b></span> <span><b>not</b></span> <span><b>as</b></span> <span style=\"background-color:rgba(0, 255, 255, 1)\"><b>good</b></span> <span><b>as</b></span> <span><b>the</b></span> <span><b>book</b></span> <span><b>.</b></span> <span><b>i</b></span> <span><b>expected</b></span> <span style=\"background-color:rgba(0, 255, 255, 1)\"><b>more</b></span> <span><b>for</b></span> <span><b>this</b></span> <span><b>movie</b></span> <span><b>.</b></span> "
      ],
      "text/plain": [
       "<IPython.core.display.HTML object>"
      ]
     },
     "metadata": {},
     "output_type": "display_data"
    },
    {
     "name": "stdout",
     "output_type": "stream",
     "text": [
      "\n",
      "\n",
      "\n",
      "\n",
      "LocalExplanationId: 12, FeatureId: 12\n",
      "feature type:  POS\n",
      "feature description:  Combination of Adjectives and Others (Cardinal Numbers, Foreign Words, Symbols)\n",
      "feature (position,token):  {'4': 'nice', '12': 'good', '19': 'more'}\n",
      "Perturbed Text:   the book is very. the film instead is not as as the book. i expected for this movie.\n",
      "perturbed probabilities:  [0.9811475872993469, 0.018852412700653076]\n",
      "nPIR Original Class:  0.025\n"
     ]
    },
    {
     "data": {
      "text/html": [
       "<span><b>the</b></span> <span><b>book</b></span> <span><b>is</b></span> <span><b>very</b></span> <span style=\"background-color:rgba(0, 255, 255, 1)\"><b>nice</b></span> <span><b>.</b></span> <span><b>the</b></span> <span><b>film</b></span> <span><b>instead</b></span> <span><b>is</b></span> <span><b>not</b></span> <span><b>as</b></span> <span style=\"background-color:rgba(0, 255, 255, 1)\"><b>good</b></span> <span><b>as</b></span> <span><b>the</b></span> <span><b>book</b></span> <span><b>.</b></span> <span><b>i</b></span> <span><b>expected</b></span> <span style=\"background-color:rgba(0, 255, 255, 1)\"><b>more</b></span> <span><b>for</b></span> <span><b>this</b></span> <span><b>movie</b></span> <span><b>.</b></span> "
      ],
      "text/plain": [
       "<IPython.core.display.HTML object>"
      ]
     },
     "metadata": {},
     "output_type": "display_data"
    },
    {
     "name": "stdout",
     "output_type": "stream",
     "text": [
      "\n",
      "\n",
      "\n",
      "\n"
     ]
    }
   ],
   "source": [
    "print(\"Original Probabilities: {}\".format(input_info[\"original_probabilities\"]))\n",
    "print(\"Original label: {}\".format(input_info[\"original_label\"]))\n",
    "print(\"\\n\\n\")\n",
    "min_nPIR_pos = -1\n",
    "max_nPIR_pos = 1\n",
    "\n",
    "for le in sorted(pos_local_explanations_comb, key=lambda le: le[\"nPIR_original_top_class\"], reverse=True ):\n",
    "    if le[\"nPIR_original_top_class\"] >= min_nPIR_pos and le[\"nPIR_original_top_class\"] <= max_nPIR_pos:\n",
    "        print_local_explanation(le, input_position_tokens)"
   ]
  },
  {
   "cell_type": "code",
   "execution_count": 144,
   "metadata": {
    "scrolled": false
   },
   "outputs": [
    {
     "data": {
      "text/html": [
       "<h1>Sentences Features Summary</h1>"
      ],
      "text/plain": [
       "<IPython.core.display.HTML object>"
      ]
     },
     "metadata": {},
     "output_type": "display_data"
    },
    {
     "data": {
      "text/html": [
       "<b>Predicted Class: Negative </b>"
      ],
      "text/plain": [
       "<IPython.core.display.HTML object>"
      ]
     },
     "metadata": {},
     "output_type": "display_data"
    },
    {
     "data": {
      "text/html": [
       "<b>Original Probability: [0.9941796660423279, 0.005820333957672119] </b>"
      ],
      "text/plain": [
       "<IPython.core.display.HTML object>"
      ]
     },
     "metadata": {},
     "output_type": "display_data"
    },
    {
     "data": {
      "text/html": [
       "<span style=\"background-color:rgba(124, 252, 0, 0.0622)\"><b>the</b></span> <span style=\"background-color:rgba(124, 252, 0, 0.0622)\"><b>book</b></span> <span style=\"background-color:rgba(124, 252, 0, 0.0622)\"><b>is</b></span> <span style=\"background-color:rgba(124, 252, 0, 0.0622)\"><b>very</b></span> <span style=\"background-color:rgba(124, 252, 0, 0.0622)\"><b>nice</b></span> <span style=\"background-color:rgba(124, 252, 0, 0.0622)\"><b>.</b></span> <span style=\"background-color:rgba(124, 252, 0, 0.9631)\"><b>the</b></span> <span style=\"background-color:rgba(124, 252, 0, 0.9631)\"><b>film</b></span> <span style=\"background-color:rgba(124, 252, 0, 0.9631)\"><b>instead</b></span> <span style=\"background-color:rgba(124, 252, 0, 0.9631)\"><b>is</b></span> <span style=\"background-color:rgba(124, 252, 0, 0.9631)\"><b>not</b></span> <span style=\"background-color:rgba(124, 252, 0, 0.9631)\"><b>as</b></span> <span style=\"background-color:rgba(124, 252, 0, 0.9631)\"><b>good</b></span> <span style=\"background-color:rgba(124, 252, 0, 0.9631)\"><b>as</b></span> <span style=\"background-color:rgba(124, 252, 0, 0.9631)\"><b>the</b></span> <span style=\"background-color:rgba(124, 252, 0, 0.9631)\"><b>book</b></span> <span style=\"background-color:rgba(124, 252, 0, 0.9631)\"><b>.</b></span> <span style=\"background-color:rgba(124, 252, 0, 0.0125)\"><b>i</b></span> <span style=\"background-color:rgba(124, 252, 0, 0.0125)\"><b>expected</b></span> <span style=\"background-color:rgba(124, 252, 0, 0.0125)\"><b>more</b></span> <span style=\"background-color:rgba(124, 252, 0, 0.0125)\"><b>for</b></span> <span style=\"background-color:rgba(124, 252, 0, 0.0125)\"><b>this</b></span> <span style=\"background-color:rgba(124, 252, 0, 0.0125)\"><b>movie</b></span> <span style=\"background-color:rgba(124, 252, 0, 0.0125)\"><b>.</b></span> "
      ],
      "text/plain": [
       "<IPython.core.display.HTML object>"
      ]
     },
     "metadata": {},
     "output_type": "display_data"
    },
    {
     "data": {
      "text/html": [
       "(Features are highlighted in green if are positively influential for the predicted class, red otherwise. The intensity of the color is proportional to the nPIR score obtained by the word.) "
      ],
      "text/plain": [
       "<IPython.core.display.HTML object>"
      ]
     },
     "metadata": {},
     "output_type": "display_data"
    }
   ],
   "source": [
    "display(HTML('<h1>Sentences Features Summary</h1>'))\n",
    "display(HTML('<b>Predicted Class: {} </b>'.format(label_name(input_info[\"original_label\"]))))\n",
    "display(HTML('<b>Original Probability: {} </b>'.format(input_info[\"original_probabilities\"])))\n",
    "\n",
    "html_sen_string = get_summary_string(sen_position_token_score)\n",
    "        \n",
    "display(HTML(html_sen_string))\n",
    "\n",
    "display(HTML('(Features are highlighted in green if are positively influential for the predicted class, red otherwise. The intensity of the color is proportional to the nPIR score obtained by the word.) '))  \n"
   ]
  },
  {
   "cell_type": "markdown",
   "metadata": {},
   "source": [
    "# SEN Most influential feature"
   ]
  },
  {
   "cell_type": "code",
   "execution_count": 145,
   "metadata": {},
   "outputs": [
    {
     "name": "stdout",
     "output_type": "stream",
     "text": [
      "LocalExplanationId: 33, FeatureId: 5\n",
      "feature type:  SEN\n",
      "feature description:  Combination of 2° Sentence and 3° Sentence\n",
      "feature (position,token):  {'6': 'the', '7': 'film', '8': 'instead', '9': 'is', '10': 'not', '11': 'as', '12': 'good', '13': 'as', '14': 'the', '15': 'book', '16': '.', '17': 'i', '18': 'expected', '19': 'more', '20': 'for', '21': 'this', '22': 'movie', '23': '.'}\n",
      "Perturbed Text:   the book is very nice.\n",
      "perturbed probabilities:  [0.001116335391998291, 0.9988836646080017]\n",
      "nPIR Original Class:  0.999\n"
     ]
    },
    {
     "data": {
      "text/html": [
       "<span><b>the</b></span> <span><b>book</b></span> <span><b>is</b></span> <span><b>very</b></span> <span><b>nice</b></span> <span><b>.</b></span> <span style=\"background-color:rgba(0, 255, 255, 1)\"><b>the</b></span> <span style=\"background-color:rgba(0, 255, 255, 1)\"><b>film</b></span> <span style=\"background-color:rgba(0, 255, 255, 1)\"><b>instead</b></span> <span style=\"background-color:rgba(0, 255, 255, 1)\"><b>is</b></span> <span style=\"background-color:rgba(0, 255, 255, 1)\"><b>not</b></span> <span style=\"background-color:rgba(0, 255, 255, 1)\"><b>as</b></span> <span style=\"background-color:rgba(0, 255, 255, 1)\"><b>good</b></span> <span style=\"background-color:rgba(0, 255, 255, 1)\"><b>as</b></span> <span style=\"background-color:rgba(0, 255, 255, 1)\"><b>the</b></span> <span style=\"background-color:rgba(0, 255, 255, 1)\"><b>book</b></span> <span style=\"background-color:rgba(0, 255, 255, 1)\"><b>.</b></span> <span style=\"background-color:rgba(0, 255, 255, 1)\"><b>i</b></span> <span style=\"background-color:rgba(0, 255, 255, 1)\"><b>expected</b></span> <span style=\"background-color:rgba(0, 255, 255, 1)\"><b>more</b></span> <span style=\"background-color:rgba(0, 255, 255, 1)\"><b>for</b></span> <span style=\"background-color:rgba(0, 255, 255, 1)\"><b>this</b></span> <span style=\"background-color:rgba(0, 255, 255, 1)\"><b>movie</b></span> <span style=\"background-color:rgba(0, 255, 255, 1)\"><b>.</b></span> "
      ],
      "text/plain": [
       "<IPython.core.display.HTML object>"
      ]
     },
     "metadata": {},
     "output_type": "display_data"
    },
    {
     "name": "stdout",
     "output_type": "stream",
     "text": [
      "\n",
      "\n",
      "\n",
      "\n"
     ]
    }
   ],
   "source": [
    "most_influnetial_sen_feature =max(sen_local_explanations_comb, key= lambda le: le[\"nPIR_original_top_class\"])\n",
    "print_local_explanation(most_influnetial_sen_feature,input_positions_tokens)"
   ]
  },
  {
   "cell_type": "markdown",
   "metadata": {},
   "source": [
    "<h1> Query Sentences Features</h1>"
   ]
  },
  {
   "cell_type": "code",
   "execution_count": 146,
   "metadata": {
    "scrolled": false
   },
   "outputs": [
    {
     "name": "stdout",
     "output_type": "stream",
     "text": [
      "Original Probabilities: [0.9941796660423279, 0.005820333957672119]\n",
      "Original label: 0\n",
      "\n",
      "\n",
      "\n",
      "LocalExplanationId: 33, FeatureId: 5\n",
      "feature type:  SEN\n",
      "feature description:  Combination of 2° Sentence and 3° Sentence\n",
      "feature (position,token):  {'6': 'the', '7': 'film', '8': 'instead', '9': 'is', '10': 'not', '11': 'as', '12': 'good', '13': 'as', '14': 'the', '15': 'book', '16': '.', '17': 'i', '18': 'expected', '19': 'more', '20': 'for', '21': 'this', '22': 'movie', '23': '.'}\n",
      "Perturbed Text:   the book is very nice.\n",
      "perturbed probabilities:  [0.001116335391998291, 0.9988836646080017]\n",
      "nPIR Original Class:  0.999\n"
     ]
    },
    {
     "data": {
      "text/html": [
       "<span><b>the</b></span> <span><b>book</b></span> <span><b>is</b></span> <span><b>very</b></span> <span><b>nice</b></span> <span><b>.</b></span> <span style=\"background-color:rgba(0, 255, 255, 1)\"><b>the</b></span> <span style=\"background-color:rgba(0, 255, 255, 1)\"><b>film</b></span> <span style=\"background-color:rgba(0, 255, 255, 1)\"><b>instead</b></span> <span style=\"background-color:rgba(0, 255, 255, 1)\"><b>is</b></span> <span style=\"background-color:rgba(0, 255, 255, 1)\"><b>not</b></span> <span style=\"background-color:rgba(0, 255, 255, 1)\"><b>as</b></span> <span style=\"background-color:rgba(0, 255, 255, 1)\"><b>good</b></span> <span style=\"background-color:rgba(0, 255, 255, 1)\"><b>as</b></span> <span style=\"background-color:rgba(0, 255, 255, 1)\"><b>the</b></span> <span style=\"background-color:rgba(0, 255, 255, 1)\"><b>book</b></span> <span style=\"background-color:rgba(0, 255, 255, 1)\"><b>.</b></span> <span style=\"background-color:rgba(0, 255, 255, 1)\"><b>i</b></span> <span style=\"background-color:rgba(0, 255, 255, 1)\"><b>expected</b></span> <span style=\"background-color:rgba(0, 255, 255, 1)\"><b>more</b></span> <span style=\"background-color:rgba(0, 255, 255, 1)\"><b>for</b></span> <span style=\"background-color:rgba(0, 255, 255, 1)\"><b>this</b></span> <span style=\"background-color:rgba(0, 255, 255, 1)\"><b>movie</b></span> <span style=\"background-color:rgba(0, 255, 255, 1)\"><b>.</b></span> "
      ],
      "text/plain": [
       "<IPython.core.display.HTML object>"
      ]
     },
     "metadata": {},
     "output_type": "display_data"
    },
    {
     "name": "stdout",
     "output_type": "stream",
     "text": [
      "\n",
      "\n",
      "\n",
      "\n",
      "LocalExplanationId: 29, FeatureId: 1\n",
      "feature type:  SEN\n",
      "feature description:  2° Sentence\n",
      "feature (position,token):  {'6': 'the', '7': 'film', '8': 'instead', '9': 'is', '10': 'not', '11': 'as', '12': 'good', '13': 'as', '14': 'the', '15': 'book', '16': '.'}\n",
      "Perturbed Text:   the book is very nice. i expected more for this movie.\n",
      "perturbed probabilities:  [0.03649163246154785, 0.9635083675384521]\n",
      "nPIR Original Class:  0.963\n"
     ]
    },
    {
     "data": {
      "text/html": [
       "<span><b>the</b></span> <span><b>book</b></span> <span><b>is</b></span> <span><b>very</b></span> <span><b>nice</b></span> <span><b>.</b></span> <span style=\"background-color:rgba(0, 255, 255, 1)\"><b>the</b></span> <span style=\"background-color:rgba(0, 255, 255, 1)\"><b>film</b></span> <span style=\"background-color:rgba(0, 255, 255, 1)\"><b>instead</b></span> <span style=\"background-color:rgba(0, 255, 255, 1)\"><b>is</b></span> <span style=\"background-color:rgba(0, 255, 255, 1)\"><b>not</b></span> <span style=\"background-color:rgba(0, 255, 255, 1)\"><b>as</b></span> <span style=\"background-color:rgba(0, 255, 255, 1)\"><b>good</b></span> <span style=\"background-color:rgba(0, 255, 255, 1)\"><b>as</b></span> <span style=\"background-color:rgba(0, 255, 255, 1)\"><b>the</b></span> <span style=\"background-color:rgba(0, 255, 255, 1)\"><b>book</b></span> <span style=\"background-color:rgba(0, 255, 255, 1)\"><b>.</b></span> <span><b>i</b></span> <span><b>expected</b></span> <span><b>more</b></span> <span><b>for</b></span> <span><b>this</b></span> <span><b>movie</b></span> <span><b>.</b></span> "
      ],
      "text/plain": [
       "<IPython.core.display.HTML object>"
      ]
     },
     "metadata": {},
     "output_type": "display_data"
    },
    {
     "name": "stdout",
     "output_type": "stream",
     "text": [
      "\n",
      "\n",
      "\n",
      "\n",
      "LocalExplanationId: 32, FeatureId: 4\n",
      "feature type:  SEN\n",
      "feature description:  Combination of 1° Sentence and 3° Sentence\n",
      "feature (position,token):  {'0': 'the', '1': 'book', '2': 'is', '3': 'very', '4': 'nice', '5': '.', '17': 'i', '18': 'expected', '19': 'more', '20': 'for', '21': 'this', '22': 'movie', '23': '.'}\n",
      "Perturbed Text:   the film instead is not as good as the book.\n",
      "perturbed probabilities:  [0.8644679188728333, 0.13553208112716675]\n",
      "nPIR Original Class:  0.208\n"
     ]
    },
    {
     "data": {
      "text/html": [
       "<span style=\"background-color:rgba(0, 255, 255, 1)\"><b>the</b></span> <span style=\"background-color:rgba(0, 255, 255, 1)\"><b>book</b></span> <span style=\"background-color:rgba(0, 255, 255, 1)\"><b>is</b></span> <span style=\"background-color:rgba(0, 255, 255, 1)\"><b>very</b></span> <span style=\"background-color:rgba(0, 255, 255, 1)\"><b>nice</b></span> <span style=\"background-color:rgba(0, 255, 255, 1)\"><b>.</b></span> <span><b>the</b></span> <span><b>film</b></span> <span><b>instead</b></span> <span><b>is</b></span> <span><b>not</b></span> <span><b>as</b></span> <span><b>good</b></span> <span><b>as</b></span> <span><b>the</b></span> <span><b>book</b></span> <span><b>.</b></span> <span style=\"background-color:rgba(0, 255, 255, 1)\"><b>i</b></span> <span style=\"background-color:rgba(0, 255, 255, 1)\"><b>expected</b></span> <span style=\"background-color:rgba(0, 255, 255, 1)\"><b>more</b></span> <span style=\"background-color:rgba(0, 255, 255, 1)\"><b>for</b></span> <span style=\"background-color:rgba(0, 255, 255, 1)\"><b>this</b></span> <span style=\"background-color:rgba(0, 255, 255, 1)\"><b>movie</b></span> <span style=\"background-color:rgba(0, 255, 255, 1)\"><b>.</b></span> "
      ],
      "text/plain": [
       "<IPython.core.display.HTML object>"
      ]
     },
     "metadata": {},
     "output_type": "display_data"
    },
    {
     "name": "stdout",
     "output_type": "stream",
     "text": [
      "\n",
      "\n",
      "\n",
      "\n",
      "LocalExplanationId: 31, FeatureId: 3\n",
      "feature type:  SEN\n",
      "feature description:  Combination of 1° Sentence and 2° Sentence\n",
      "feature (position,token):  {'0': 'the', '1': 'book', '2': 'is', '3': 'very', '4': 'nice', '5': '.', '6': 'the', '7': 'film', '8': 'instead', '9': 'is', '10': 'not', '11': 'as', '12': 'good', '13': 'as', '14': 'the', '15': 'book', '16': '.'}\n",
      "Perturbed Text:   i expected more for this movie.\n",
      "perturbed probabilities:  [0.8858973383903503, 0.11410266160964966]\n",
      "nPIR Original Class:  0.179\n"
     ]
    },
    {
     "data": {
      "text/html": [
       "<span style=\"background-color:rgba(0, 255, 255, 1)\"><b>the</b></span> <span style=\"background-color:rgba(0, 255, 255, 1)\"><b>book</b></span> <span style=\"background-color:rgba(0, 255, 255, 1)\"><b>is</b></span> <span style=\"background-color:rgba(0, 255, 255, 1)\"><b>very</b></span> <span style=\"background-color:rgba(0, 255, 255, 1)\"><b>nice</b></span> <span style=\"background-color:rgba(0, 255, 255, 1)\"><b>.</b></span> <span style=\"background-color:rgba(0, 255, 255, 1)\"><b>the</b></span> <span style=\"background-color:rgba(0, 255, 255, 1)\"><b>film</b></span> <span style=\"background-color:rgba(0, 255, 255, 1)\"><b>instead</b></span> <span style=\"background-color:rgba(0, 255, 255, 1)\"><b>is</b></span> <span style=\"background-color:rgba(0, 255, 255, 1)\"><b>not</b></span> <span style=\"background-color:rgba(0, 255, 255, 1)\"><b>as</b></span> <span style=\"background-color:rgba(0, 255, 255, 1)\"><b>good</b></span> <span style=\"background-color:rgba(0, 255, 255, 1)\"><b>as</b></span> <span style=\"background-color:rgba(0, 255, 255, 1)\"><b>the</b></span> <span style=\"background-color:rgba(0, 255, 255, 1)\"><b>book</b></span> <span style=\"background-color:rgba(0, 255, 255, 1)\"><b>.</b></span> <span><b>i</b></span> <span><b>expected</b></span> <span><b>more</b></span> <span><b>for</b></span> <span><b>this</b></span> <span><b>movie</b></span> <span><b>.</b></span> "
      ],
      "text/plain": [
       "<IPython.core.display.HTML object>"
      ]
     },
     "metadata": {},
     "output_type": "display_data"
    },
    {
     "name": "stdout",
     "output_type": "stream",
     "text": [
      "\n",
      "\n",
      "\n",
      "\n",
      "LocalExplanationId: 28, FeatureId: 0\n",
      "feature type:  SEN\n",
      "feature description:  1° Sentence\n",
      "feature (position,token):  {'0': 'the', '1': 'book', '2': 'is', '3': 'very', '4': 'nice', '5': '.'}\n",
      "Perturbed Text:   the film instead is not as good as the book. i expected more for this movie.\n",
      "perturbed probabilities:  [0.9610356092453003, 0.038964420557022095]\n",
      "nPIR Original Class:  0.062\n"
     ]
    },
    {
     "data": {
      "text/html": [
       "<span style=\"background-color:rgba(0, 255, 255, 1)\"><b>the</b></span> <span style=\"background-color:rgba(0, 255, 255, 1)\"><b>book</b></span> <span style=\"background-color:rgba(0, 255, 255, 1)\"><b>is</b></span> <span style=\"background-color:rgba(0, 255, 255, 1)\"><b>very</b></span> <span style=\"background-color:rgba(0, 255, 255, 1)\"><b>nice</b></span> <span style=\"background-color:rgba(0, 255, 255, 1)\"><b>.</b></span> <span><b>the</b></span> <span><b>film</b></span> <span><b>instead</b></span> <span><b>is</b></span> <span><b>not</b></span> <span><b>as</b></span> <span><b>good</b></span> <span><b>as</b></span> <span><b>the</b></span> <span><b>book</b></span> <span><b>.</b></span> <span><b>i</b></span> <span><b>expected</b></span> <span><b>more</b></span> <span><b>for</b></span> <span><b>this</b></span> <span><b>movie</b></span> <span><b>.</b></span> "
      ],
      "text/plain": [
       "<IPython.core.display.HTML object>"
      ]
     },
     "metadata": {},
     "output_type": "display_data"
    },
    {
     "name": "stdout",
     "output_type": "stream",
     "text": [
      "\n",
      "\n",
      "\n",
      "\n",
      "LocalExplanationId: 30, FeatureId: 2\n",
      "feature type:  SEN\n",
      "feature description:  3° Sentence\n",
      "feature (position,token):  {'17': 'i', '18': 'expected', '19': 'more', '20': 'for', '21': 'this', '22': 'movie', '23': '.'}\n",
      "Perturbed Text:   the book is very nice. the film instead is not as good as the book.\n",
      "perturbed probabilities:  [0.9878309965133667, 0.012169033288955688]\n",
      "nPIR Original Class:  0.013\n"
     ]
    },
    {
     "data": {
      "text/html": [
       "<span><b>the</b></span> <span><b>book</b></span> <span><b>is</b></span> <span><b>very</b></span> <span><b>nice</b></span> <span><b>.</b></span> <span><b>the</b></span> <span><b>film</b></span> <span><b>instead</b></span> <span><b>is</b></span> <span><b>not</b></span> <span><b>as</b></span> <span><b>good</b></span> <span><b>as</b></span> <span><b>the</b></span> <span><b>book</b></span> <span><b>.</b></span> <span style=\"background-color:rgba(0, 255, 255, 1)\"><b>i</b></span> <span style=\"background-color:rgba(0, 255, 255, 1)\"><b>expected</b></span> <span style=\"background-color:rgba(0, 255, 255, 1)\"><b>more</b></span> <span style=\"background-color:rgba(0, 255, 255, 1)\"><b>for</b></span> <span style=\"background-color:rgba(0, 255, 255, 1)\"><b>this</b></span> <span style=\"background-color:rgba(0, 255, 255, 1)\"><b>movie</b></span> <span style=\"background-color:rgba(0, 255, 255, 1)\"><b>.</b></span> "
      ],
      "text/plain": [
       "<IPython.core.display.HTML object>"
      ]
     },
     "metadata": {},
     "output_type": "display_data"
    },
    {
     "name": "stdout",
     "output_type": "stream",
     "text": [
      "\n",
      "\n",
      "\n",
      "\n"
     ]
    }
   ],
   "source": [
    "print(\"Original Probabilities: {}\".format(input_info[\"original_probabilities\"]))\n",
    "print(\"Original label: {}\".format(input_info[\"original_label\"]))\n",
    "print(\"\\n\\n\")\n",
    "min_nPIR_sen = -1\n",
    "max_nPIR_sen = 1\n",
    "\n",
    "for le in sorted(sen_local_explanations_comb, key=lambda le: le[\"nPIR_original_top_class\"], reverse=True ):\n",
    "    if le[\"nPIR_original_top_class\"] >= min_nPIR_sen and le[\"nPIR_original_top_class\"] <= max_nPIR_sen:\n",
    "        print_local_explanation(le, input_positions_tokens)"
   ]
  },
  {
   "cell_type": "code",
   "execution_count": null,
   "metadata": {},
   "outputs": [],
   "source": []
  }
 ],
 "metadata": {
  "kernelspec": {
   "display_name": "Python 3",
   "language": "python",
   "name": "python3"
  },
  "language_info": {
   "codemirror_mode": {
    "name": "ipython",
    "version": 3
   },
   "file_extension": ".py",
   "mimetype": "text/x-python",
   "name": "python",
   "nbconvert_exporter": "python",
   "pygments_lexer": "ipython3",
   "version": "3.7.9"
  }
 },
 "nbformat": 4,
 "nbformat_minor": 4
}
