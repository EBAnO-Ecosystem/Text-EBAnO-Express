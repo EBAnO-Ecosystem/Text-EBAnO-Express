{
 "cells": [
  {
   "cell_type": "code",
   "execution_count": 1,
   "metadata": {},
   "outputs": [],
   "source": [
    "from IPython.display import display,HTML,clear_output\n",
    "import json"
   ]
  },
  {
   "cell_type": "markdown",
   "metadata": {},
   "source": [
    "# Read explanation report"
   ]
  },
  {
   "cell_type": "code",
   "execution_count": 2,
   "metadata": {},
   "outputs": [],
   "source": [
    "explanation_report_filepath = \"/Users/salvatore/PycharmProjects/T-EBAnO-Express/outputs/20201117_bert_model_imdb_reviews_exp_0/local_explanations_experiments/20201204_105147/local_explanations/local_explanation_report_0.json\"\n"
   ]
  },
  {
   "cell_type": "code",
   "execution_count": 3,
   "metadata": {},
   "outputs": [],
   "source": [
    "with open(explanation_report_filepath) as json_file:\n",
    "    explanation_report = json.load(json_file)"
   ]
  },
  {
   "cell_type": "markdown",
   "metadata": {},
   "source": [
    "# Parse explanation report"
   ]
  },
  {
   "cell_type": "code",
   "execution_count": 4,
   "metadata": {},
   "outputs": [],
   "source": [
    "input_info = explanation_report[\"input_info\"]\n",
    "input_positions_tokens = input_info[\"positions_tokens\"]\n",
    "raw_text = input_info[\"raw_text\"]\n",
    "cleaned_text = input_info[\"cleaned_text\"]\n",
    "preprocessed_text = input_info[\"preprocessed_text\"]"
   ]
  },
  {
   "cell_type": "code",
   "execution_count": 5,
   "metadata": {},
   "outputs": [],
   "source": [
    "pos_local_explanations = []  # pos features without combinations\n",
    "sen_local_explanations = []  # sen features without combinations\n",
    "mlwe_local_explanations = []  # mlwe features without combinations\n",
    "pos_local_explanations_comb = []  # All pos features (also combinations)\n",
    "sen_local_explanations_comb = []  # All sen features (also combinations)\n",
    "mlwe_local_explanations_comb = []  # All mlwe features (also combinations)\n",
    "\n",
    "for le in explanation_report[\"local_explanations\"]:\n",
    "    if le[\"feature_type\"] == \"POS\" and le[\"combination\"] == 1:\n",
    "        pos_local_explanations.append(le)\n",
    "    if le[\"feature_type\"] == \"SEN\" and le[\"combination\"] == 1:\n",
    "        sen_local_explanations.append(le)\n",
    "    if le[\"feature_type\"] == \"MLWE\" and le[\"combination\"] == 1:\n",
    "        mlwe_local_explanations.append(le)\n",
    "    if le[\"feature_type\"] == \"POS\":\n",
    "        pos_local_explanations_comb.append(le)\n",
    "    if le[\"feature_type\"] == \"SEN\":  \n",
    "        sen_local_explanations_comb.append(le)\n",
    "    if le[\"feature_type\"] == \"MLWE\":\n",
    "        mlwe_local_explanations_comb.append(le)\n",
    "        "
   ]
  },
  {
   "cell_type": "code",
   "execution_count": 6,
   "metadata": {},
   "outputs": [],
   "source": [
    "pos_positions_tokens_score = {} # Dictionary for pos features with position as key and as value the tuple (token, nPIR)\n",
    "sen_positions_tokens_score = {}#  Dictionary for sen features with position as key and as value the tuple (token, nPIR)\n",
    "mlwe_positions_tokens_score = {} # Dictionary for mlwe features with position as key and as value the tuple (token, nPIR)\n",
    "\n",
    "for le in pos_local_explanations:\n",
    "    for position, token in le[\"positions_tokens\"].items():\n",
    "        pos_positions_tokens_score[position] = (token, round(le[\"nPIR_original_top_class\"],4))\n",
    "        \n",
    "for le in sen_local_explanations:\n",
    "    for position, token in le[\"positions_tokens\"].items():\n",
    "        sen_positions_tokens_score[position] = (token, round(le[\"nPIR_original_top_class\"],4))\n",
    "\n",
    "for le in mlwe_local_explanations:\n",
    "    for position, token in le[\"positions_tokens\"].items():\n",
    "        mlwe_positions_tokens_score[position] = (token, round(le[\"nPIR_original_top_class\"],4))\n",
    "    "
   ]
  },
  {
   "cell_type": "markdown",
   "metadata": {},
   "source": [
    "# Utility functions\n"
   ]
  },
  {
   "cell_type": "code",
   "execution_count": 7,
   "metadata": {},
   "outputs": [],
   "source": [
    "def label_name(label):\n",
    "    return [\"Negative\",\"Positive\"][label]\n",
    "\n",
    "def get_summary_string(position_token_score):\n",
    "    positive_color = \"background-color:#00FF00\"\n",
    "    negative_color = \"background-color:#FF00FF\"\n",
    "    html_string = \"\"\n",
    "\n",
    "    for position in sorted(position_token_score.keys(), key=lambda k: int(k)):\n",
    "        token_score = position_token_score[position]\n",
    "        if token_score[1] >= 0:\n",
    "            positive_color = \"background-color:rgba(124, 252, 0, {})\".format(token_score[1])\n",
    "            html_string = html_string + '<span style=\"{}\"><b>{}</b></span> '.format(positive_color,token_score[0])\n",
    "        else:\n",
    "            negative_color = \"background-color:rgba(255, 99, 71, {})\".format(token_score[1])\n",
    "            html_string = html_string + '<span style=\"{}\"><b>{}</b></span> '.format(negative_color,token_score[0])\n",
    "            \n",
    "    return html_string\n",
    "\n",
    "def get_feature_colored_html_string(input_positions_tokens, feature_positions_tokens):\n",
    "    html_string = \"\"\n",
    "    feature_color = \"background-color:rgba(0, 255, 255, 1)\"\n",
    "    for position in range(len(input_positions_tokens)):\n",
    "        if str(position) in feature_positions_tokens:\n",
    "            html_string = html_string + '<span style=\"{}\"><b>{}</b></span> '.format(feature_color,input_positions_tokens[position])\n",
    "        else:\n",
    "            html_string = html_string + '<span><b>{}</b></span> '.format(input_positions_tokens[position])\n",
    "    return html_string\n",
    "    \n",
    "\n",
    "def print_local_explanation(le, input_positions_tokens):\n",
    "    if len(le[\"positions_tokens\"]) == 0:\n",
    "        return\n",
    "    print(\"LocalExplanationId: {}, FeatureId: {}\".format(le[\"local_explanation_id\"], le[\"feature_id\"]))\n",
    "    print(\"feature type: \",le[\"feature_type\"])\n",
    "    print(\"feature description: \", le[\"feature_description\"])\n",
    "    print(\"feature (position,token): \" ,le[\"positions_tokens\"])\n",
    "    print(\"Perturbed Text:  \",le[\"perturbed_text\"])\n",
    "    print(\"perturbed probabilities: \",le[\"perturbed_probabilities\"])\n",
    "    print(\"nPIR Original Class: \" ,round(le[\"nPIR_original_top_class\"],3))\n",
    "    display(HTML(get_feature_colored_html_string(input_positions_tokens,le[\"positions_tokens\"])))\n",
    "    print(\"\\n\")\n",
    "    print(\"\\n\")\n",
    "    return"
   ]
  },
  {
   "cell_type": "code",
   "execution_count": 8,
   "metadata": {},
   "outputs": [
    {
     "data": {
      "text/html": [
       "<h1>Input Text info</h1>"
      ],
      "text/plain": [
       "<IPython.core.display.HTML object>"
      ]
     },
     "metadata": {},
     "output_type": "display_data"
    },
    {
     "data": {
      "text/html": [
       "Raw Text:   <b>This film is very awful. I have never seen such a bad movie. </b>"
      ],
      "text/plain": [
       "<IPython.core.display.HTML object>"
      ]
     },
     "metadata": {},
     "output_type": "display_data"
    },
    {
     "data": {
      "text/html": [
       "Clean Text:   <b>This film is very awful. I have never seen such a bad movie. </b>"
      ],
      "text/plain": [
       "<IPython.core.display.HTML object>"
      ]
     },
     "metadata": {},
     "output_type": "display_data"
    },
    {
     "data": {
      "text/html": [
       "Preprocessed Text:   <b>this film is very awful . i have never seen such a bad movie . </b>"
      ],
      "text/plain": [
       "<IPython.core.display.HTML object>"
      ]
     },
     "metadata": {},
     "output_type": "display_data"
    }
   ],
   "source": [
    "display(HTML('<h1>Input Text info</h1>'))\n",
    "display(HTML('Raw Text:   <b>{} </b>'.format(raw_text)))\n",
    "display(HTML('Clean Text:   <b>{} </b>'.format(cleaned_text)))\n",
    "display(HTML('Preprocessed Text:   <b>{} </b>'.format(preprocessed_text)))"
   ]
  },
  {
   "cell_type": "code",
   "execution_count": 9,
   "metadata": {
    "scrolled": false
   },
   "outputs": [
    {
     "data": {
      "text/html": [
       "<h1>Multi-Layer Word Embedding Features Summary</h1>"
      ],
      "text/plain": [
       "<IPython.core.display.HTML object>"
      ]
     },
     "metadata": {},
     "output_type": "display_data"
    },
    {
     "data": {
      "text/html": [
       "Predicted Class: <b>Negative </b>"
      ],
      "text/plain": [
       "<IPython.core.display.HTML object>"
      ]
     },
     "metadata": {},
     "output_type": "display_data"
    },
    {
     "data": {
      "text/html": [
       "Original Probability: <b>[0.9983175992965698, 0.001682370901107788] </b>"
      ],
      "text/plain": [
       "<IPython.core.display.HTML object>"
      ]
     },
     "metadata": {},
     "output_type": "display_data"
    },
    {
     "data": {
      "text/html": [
       "<span style=\"background-color:rgba(124, 252, 0, 0.9516)\"><b>this</b></span> <span style=\"background-color:rgba(124, 252, 0, 0.9516)\"><b>film</b></span> <span style=\"background-color:rgba(124, 252, 0, 0.9516)\"><b>is</b></span> <span style=\"background-color:rgba(124, 252, 0, 0.9516)\"><b>very</b></span> <span style=\"background-color:rgba(124, 252, 0, 0.9516)\"><b>awful</b></span> <span style=\"background-color:rgba(124, 252, 0, 0.9516)\"><b>.</b></span> <span style=\"background-color:rgba(124, 252, 0, 0.9516)\"><b>i</b></span> <span style=\"background-color:rgba(255, 99, 71, -0.0014)\"><b>have</b></span> <span style=\"background-color:rgba(255, 99, 71, -0.0014)\"><b>never</b></span> <span style=\"background-color:rgba(255, 99, 71, -0.0014)\"><b>seen</b></span> <span style=\"background-color:rgba(255, 99, 71, -0.0014)\"><b>such</b></span> <span style=\"background-color:rgba(124, 252, 0, 0.9516)\"><b>a</b></span> <span style=\"background-color:rgba(124, 252, 0, 0.9516)\"><b>bad</b></span> <span style=\"background-color:rgba(124, 252, 0, 0.9516)\"><b>movie</b></span> <span style=\"background-color:rgba(124, 252, 0, 0.9516)\"><b>.</b></span> "
      ],
      "text/plain": [
       "<IPython.core.display.HTML object>"
      ]
     },
     "metadata": {},
     "output_type": "display_data"
    },
    {
     "data": {
      "text/html": [
       "(Features are highlighted in green if are positively influential for the predicted class, red otherwise. The intensity of the color is proportional to the nPIR score obtained by the word.) "
      ],
      "text/plain": [
       "<IPython.core.display.HTML object>"
      ]
     },
     "metadata": {},
     "output_type": "display_data"
    }
   ],
   "source": [
    "display(HTML('<h1>Multi-Layer Word Embedding Features Summary</h1>'))\n",
    "display(HTML('Predicted Class: <b>{} </b>'.format(label_name(input_info[\"original_label\"]))))\n",
    "display(HTML('Original Probability: <b>{} </b>'.format(input_info[\"original_probabilities\"])))\n",
    "\n",
    "html_string = get_summary_string(mlwe_positions_tokens_score)\n",
    "        \n",
    "display(HTML(html_string))\n",
    "\n",
    "display(HTML('(Features are highlighted in green if are positively influential for the predicted class, red otherwise. The intensity of the color is proportional to the nPIR score obtained by the word.) '))  \n"
   ]
  },
  {
   "cell_type": "markdown",
   "metadata": {},
   "source": [
    "# MLWE Most influential feature\n",
    "\n",
    "Feature with highest nPIR "
   ]
  },
  {
   "cell_type": "code",
   "execution_count": 10,
   "metadata": {
    "scrolled": true
   },
   "outputs": [
    {
     "name": "stdout",
     "output_type": "stream",
     "text": [
      "LocalExplanationId: 32, FeatureId: 1\n",
      "feature type:  MLWE\n",
      "feature description:  Cluster 1\n",
      "feature (position,token):  {'0': 'this', '1': 'film', '2': 'is', '3': 'very', '4': 'awful', '5': '.', '6': 'i', '11': 'a', '12': 'bad', '13': 'movie', '14': '.'}\n",
      "Perturbed Text:   have never seen such\n",
      "perturbed probabilities:  [0.0483090877532959, 0.9516909122467041]\n",
      "nPIR Original Class:  0.952\n"
     ]
    },
    {
     "data": {
      "text/html": [
       "<span style=\"background-color:rgba(0, 255, 255, 1)\"><b>this</b></span> <span style=\"background-color:rgba(0, 255, 255, 1)\"><b>film</b></span> <span style=\"background-color:rgba(0, 255, 255, 1)\"><b>is</b></span> <span style=\"background-color:rgba(0, 255, 255, 1)\"><b>very</b></span> <span style=\"background-color:rgba(0, 255, 255, 1)\"><b>awful</b></span> <span style=\"background-color:rgba(0, 255, 255, 1)\"><b>.</b></span> <span style=\"background-color:rgba(0, 255, 255, 1)\"><b>i</b></span> <span><b>have</b></span> <span><b>never</b></span> <span><b>seen</b></span> <span><b>such</b></span> <span style=\"background-color:rgba(0, 255, 255, 1)\"><b>a</b></span> <span style=\"background-color:rgba(0, 255, 255, 1)\"><b>bad</b></span> <span style=\"background-color:rgba(0, 255, 255, 1)\"><b>movie</b></span> <span style=\"background-color:rgba(0, 255, 255, 1)\"><b>.</b></span> "
      ],
      "text/plain": [
       "<IPython.core.display.HTML object>"
      ]
     },
     "metadata": {},
     "output_type": "display_data"
    },
    {
     "name": "stdout",
     "output_type": "stream",
     "text": [
      "\n",
      "\n",
      "\n",
      "\n"
     ]
    }
   ],
   "source": [
    "most_influnetial_mlwe_feature =max(mlwe_local_explanations_comb, key= lambda le: le[\"nPIR_original_top_class\"])\n",
    "print_local_explanation(most_influnetial_mlwe_feature,input_positions_tokens)"
   ]
  },
  {
   "cell_type": "markdown",
   "metadata": {},
   "source": [
    "<h2>Query Multi-Layer Word Embedding features</h2>"
   ]
  },
  {
   "cell_type": "code",
   "execution_count": 11,
   "metadata": {
    "scrolled": false
   },
   "outputs": [
    {
     "name": "stdout",
     "output_type": "stream",
     "text": [
      "Original Probabilities: [0.9983175992965698, 0.001682370901107788]\n",
      "Original label: 0\n",
      "\n",
      "\n",
      "\n",
      "LocalExplanationId: 32, FeatureId: 1\n",
      "feature type:  MLWE\n",
      "feature description:  Cluster 1\n",
      "feature (position,token):  {'0': 'this', '1': 'film', '2': 'is', '3': 'very', '4': 'awful', '5': '.', '6': 'i', '11': 'a', '12': 'bad', '13': 'movie', '14': '.'}\n",
      "Perturbed Text:   have never seen such\n",
      "perturbed probabilities:  [0.0483090877532959, 0.9516909122467041]\n",
      "nPIR Original Class:  0.952\n"
     ]
    },
    {
     "data": {
      "text/html": [
       "<span style=\"background-color:rgba(0, 255, 255, 1)\"><b>this</b></span> <span style=\"background-color:rgba(0, 255, 255, 1)\"><b>film</b></span> <span style=\"background-color:rgba(0, 255, 255, 1)\"><b>is</b></span> <span style=\"background-color:rgba(0, 255, 255, 1)\"><b>very</b></span> <span style=\"background-color:rgba(0, 255, 255, 1)\"><b>awful</b></span> <span style=\"background-color:rgba(0, 255, 255, 1)\"><b>.</b></span> <span style=\"background-color:rgba(0, 255, 255, 1)\"><b>i</b></span> <span><b>have</b></span> <span><b>never</b></span> <span><b>seen</b></span> <span><b>such</b></span> <span style=\"background-color:rgba(0, 255, 255, 1)\"><b>a</b></span> <span style=\"background-color:rgba(0, 255, 255, 1)\"><b>bad</b></span> <span style=\"background-color:rgba(0, 255, 255, 1)\"><b>movie</b></span> <span style=\"background-color:rgba(0, 255, 255, 1)\"><b>.</b></span> "
      ],
      "text/plain": [
       "<IPython.core.display.HTML object>"
      ]
     },
     "metadata": {},
     "output_type": "display_data"
    },
    {
     "name": "stdout",
     "output_type": "stream",
     "text": [
      "\n",
      "\n",
      "\n",
      "\n",
      "LocalExplanationId: 33, FeatureId: 2\n",
      "feature type:  MLWE\n",
      "feature description:  Combination of Cluster 0 and Cluster 1\n",
      "feature (position,token):  {'7': 'have', '8': 'never', '9': 'seen', '10': 'such', '0': 'this', '1': 'film', '2': 'is', '3': 'very', '4': 'awful', '5': '.', '6': 'i', '11': 'a', '12': 'bad', '13': 'movie', '14': '.'}\n",
      "Perturbed Text:   \n",
      "perturbed probabilities:  [0.4176056981086731, 0.5823943018913269]\n",
      "nPIR Original Class:  0.62\n"
     ]
    },
    {
     "data": {
      "text/html": [
       "<span style=\"background-color:rgba(0, 255, 255, 1)\"><b>this</b></span> <span style=\"background-color:rgba(0, 255, 255, 1)\"><b>film</b></span> <span style=\"background-color:rgba(0, 255, 255, 1)\"><b>is</b></span> <span style=\"background-color:rgba(0, 255, 255, 1)\"><b>very</b></span> <span style=\"background-color:rgba(0, 255, 255, 1)\"><b>awful</b></span> <span style=\"background-color:rgba(0, 255, 255, 1)\"><b>.</b></span> <span style=\"background-color:rgba(0, 255, 255, 1)\"><b>i</b></span> <span style=\"background-color:rgba(0, 255, 255, 1)\"><b>have</b></span> <span style=\"background-color:rgba(0, 255, 255, 1)\"><b>never</b></span> <span style=\"background-color:rgba(0, 255, 255, 1)\"><b>seen</b></span> <span style=\"background-color:rgba(0, 255, 255, 1)\"><b>such</b></span> <span style=\"background-color:rgba(0, 255, 255, 1)\"><b>a</b></span> <span style=\"background-color:rgba(0, 255, 255, 1)\"><b>bad</b></span> <span style=\"background-color:rgba(0, 255, 255, 1)\"><b>movie</b></span> <span style=\"background-color:rgba(0, 255, 255, 1)\"><b>.</b></span> "
      ],
      "text/plain": [
       "<IPython.core.display.HTML object>"
      ]
     },
     "metadata": {},
     "output_type": "display_data"
    },
    {
     "name": "stdout",
     "output_type": "stream",
     "text": [
      "\n",
      "\n",
      "\n",
      "\n",
      "LocalExplanationId: 31, FeatureId: 0\n",
      "feature type:  MLWE\n",
      "feature description:  Cluster 0\n",
      "feature (position,token):  {'7': 'have', '8': 'never', '9': 'seen', '10': 'such'}\n",
      "Perturbed Text:   this film is very awful. i a bad movie.\n",
      "perturbed probabilities:  [0.9990434646606445, 0.0009565651416778564]\n",
      "nPIR Original Class:  -0.001\n"
     ]
    },
    {
     "data": {
      "text/html": [
       "<span><b>this</b></span> <span><b>film</b></span> <span><b>is</b></span> <span><b>very</b></span> <span><b>awful</b></span> <span><b>.</b></span> <span><b>i</b></span> <span style=\"background-color:rgba(0, 255, 255, 1)\"><b>have</b></span> <span style=\"background-color:rgba(0, 255, 255, 1)\"><b>never</b></span> <span style=\"background-color:rgba(0, 255, 255, 1)\"><b>seen</b></span> <span style=\"background-color:rgba(0, 255, 255, 1)\"><b>such</b></span> <span><b>a</b></span> <span><b>bad</b></span> <span><b>movie</b></span> <span><b>.</b></span> "
      ],
      "text/plain": [
       "<IPython.core.display.HTML object>"
      ]
     },
     "metadata": {},
     "output_type": "display_data"
    },
    {
     "name": "stdout",
     "output_type": "stream",
     "text": [
      "\n",
      "\n",
      "\n",
      "\n"
     ]
    }
   ],
   "source": [
    "print(\"Original Probabilities: {}\".format(input_info[\"original_probabilities\"]))\n",
    "print(\"Original label: {}\".format(input_info[\"original_label\"]))\n",
    "print(\"\\n\\n\")\n",
    "min_nPIR_mlwe = -1\n",
    "max_nPIR_mlwe = 1\n",
    "\n",
    "for le in sorted(mlwe_local_explanations_comb, key=lambda le: le[\"nPIR_original_top_class\"], reverse=True ):\n",
    "    if le[\"nPIR_original_top_class\"] >= min_nPIR_mlwe and le[\"nPIR_original_top_class\"] <= max_nPIR_mlwe:\n",
    "        print_local_explanation(le, input_positions_tokens)\n",
    "        "
   ]
  },
  {
   "cell_type": "code",
   "execution_count": 12,
   "metadata": {
    "scrolled": false
   },
   "outputs": [
    {
     "data": {
      "text/html": [
       "<h1>Parts-of-speech Features Summary</h1>"
      ],
      "text/plain": [
       "<IPython.core.display.HTML object>"
      ]
     },
     "metadata": {},
     "output_type": "display_data"
    },
    {
     "data": {
      "text/html": [
       "<b>Predicted Class: Negative </b>"
      ],
      "text/plain": [
       "<IPython.core.display.HTML object>"
      ]
     },
     "metadata": {},
     "output_type": "display_data"
    },
    {
     "data": {
      "text/html": [
       "<b>Original Probability: [0.9983175992965698, 0.001682370901107788] </b>"
      ],
      "text/plain": [
       "<IPython.core.display.HTML object>"
      ]
     },
     "metadata": {},
     "output_type": "display_data"
    },
    {
     "data": {
      "text/html": [
       "<span style=\"background-color:rgba(124, 252, 0, 0.0287)\"><b>film</b></span> <span style=\"background-color:rgba(255, 99, 71, -0.0015)\"><b>is</b></span> <span style=\"background-color:rgba(255, 99, 71, -0.0015)\"><b>very</b></span> <span style=\"background-color:rgba(124, 252, 0, 0.9989)\"><b>awful</b></span> <span style=\"background-color:rgba(124, 252, 0, 0.0287)\"><b>i</b></span> <span style=\"background-color:rgba(255, 99, 71, -0.0015)\"><b>have</b></span> <span style=\"background-color:rgba(255, 99, 71, -0.0015)\"><b>never</b></span> <span style=\"background-color:rgba(255, 99, 71, -0.0015)\"><b>seen</b></span> <span style=\"background-color:rgba(124, 252, 0, 0.0005)\"><b>such</b></span> <span style=\"background-color:rgba(124, 252, 0, 0.9989)\"><b>bad</b></span> <span style=\"background-color:rgba(124, 252, 0, 0.0287)\"><b>movie</b></span> "
      ],
      "text/plain": [
       "<IPython.core.display.HTML object>"
      ]
     },
     "metadata": {},
     "output_type": "display_data"
    },
    {
     "data": {
      "text/html": [
       "(Features are highlighted in green if are positively influential for the predicted class, red otherwise. The intensity of the color is proportional to the nPIR score obtained by the word.) "
      ],
      "text/plain": [
       "<IPython.core.display.HTML object>"
      ]
     },
     "metadata": {},
     "output_type": "display_data"
    }
   ],
   "source": [
    "display(HTML('<h1>Parts-of-speech Features Summary</h1>'))\n",
    "display(HTML('<b>Predicted Class: {} </b>'.format(label_name(input_info[\"original_label\"]))))\n",
    "display(HTML('<b>Original Probability: {} </b>'.format(input_info[\"original_probabilities\"])))\n",
    "\n",
    "html_string = get_summary_string(pos_positions_tokens_score)\n",
    "display(HTML(html_string))\n",
    "\n",
    "display(HTML('(Features are highlighted in green if are positively influential for the predicted class, red otherwise. The intensity of the color is proportional to the nPIR score obtained by the word.) '))  \n"
   ]
  },
  {
   "cell_type": "markdown",
   "metadata": {},
   "source": [
    "# POS Most influential feature"
   ]
  },
  {
   "cell_type": "code",
   "execution_count": 13,
   "metadata": {},
   "outputs": [
    {
     "name": "stdout",
     "output_type": "stream",
     "text": [
      "LocalExplanationId: 8, FeatureId: 8\n",
      "feature type:  POS\n",
      "feature description:  Combination of Adjectives and Verbs\n",
      "feature (position,token):  {'4': 'awful', '12': 'bad', '2': 'is', '7': 'have', '9': 'seen'}\n",
      "Perturbed Text:   this film very. i never such a movie.\n",
      "perturbed probabilities:  [0.0010079145431518555, 0.9989920854568481]\n",
      "nPIR Original Class:  0.999\n"
     ]
    },
    {
     "data": {
      "text/html": [
       "<span><b>this</b></span> <span><b>film</b></span> <span style=\"background-color:rgba(0, 255, 255, 1)\"><b>is</b></span> <span><b>very</b></span> <span style=\"background-color:rgba(0, 255, 255, 1)\"><b>awful</b></span> <span><b>.</b></span> <span><b>i</b></span> <span style=\"background-color:rgba(0, 255, 255, 1)\"><b>have</b></span> <span><b>never</b></span> <span style=\"background-color:rgba(0, 255, 255, 1)\"><b>seen</b></span> <span><b>such</b></span> <span><b>a</b></span> <span style=\"background-color:rgba(0, 255, 255, 1)\"><b>bad</b></span> <span><b>movie</b></span> <span><b>.</b></span> "
      ],
      "text/plain": [
       "<IPython.core.display.HTML object>"
      ]
     },
     "metadata": {},
     "output_type": "display_data"
    },
    {
     "name": "stdout",
     "output_type": "stream",
     "text": [
      "\n",
      "\n",
      "\n",
      "\n"
     ]
    }
   ],
   "source": [
    "most_influnetial_pos_feature =max(pos_local_explanations_comb, key= lambda le: le[\"nPIR_original_top_class\"])\n",
    "print_local_explanation(most_influnetial_pos_feature,input_positions_tokens)"
   ]
  },
  {
   "cell_type": "markdown",
   "metadata": {},
   "source": [
    "<h1>Query Parts-of-speech Features</h1>"
   ]
  },
  {
   "cell_type": "code",
   "execution_count": 14,
   "metadata": {
    "scrolled": false
   },
   "outputs": [
    {
     "name": "stdout",
     "output_type": "stream",
     "text": [
      "Original Probabilities: [0.9983175992965698, 0.001682370901107788]\n",
      "Original label: 0\n",
      "\n",
      "\n",
      "\n",
      "LocalExplanationId: 8, FeatureId: 8\n",
      "feature type:  POS\n",
      "feature description:  Combination of Adjectives and Verbs\n",
      "feature (position,token):  {'4': 'awful', '12': 'bad', '2': 'is', '7': 'have', '9': 'seen'}\n",
      "Perturbed Text:   this film very. i never such a movie.\n",
      "perturbed probabilities:  [0.0010079145431518555, 0.9989920854568481]\n",
      "nPIR Original Class:  0.999\n"
     ]
    },
    {
     "data": {
      "text/html": [
       "<span><b>this</b></span> <span><b>film</b></span> <span style=\"background-color:rgba(0, 255, 255, 1)\"><b>is</b></span> <span><b>very</b></span> <span style=\"background-color:rgba(0, 255, 255, 1)\"><b>awful</b></span> <span><b>.</b></span> <span><b>i</b></span> <span style=\"background-color:rgba(0, 255, 255, 1)\"><b>have</b></span> <span><b>never</b></span> <span style=\"background-color:rgba(0, 255, 255, 1)\"><b>seen</b></span> <span><b>such</b></span> <span><b>a</b></span> <span style=\"background-color:rgba(0, 255, 255, 1)\"><b>bad</b></span> <span><b>movie</b></span> <span><b>.</b></span> "
      ],
      "text/plain": [
       "<IPython.core.display.HTML object>"
      ]
     },
     "metadata": {},
     "output_type": "display_data"
    },
    {
     "name": "stdout",
     "output_type": "stream",
     "text": [
      "\n",
      "\n",
      "\n",
      "\n",
      "LocalExplanationId: 0, FeatureId: 0\n",
      "feature type:  POS\n",
      "feature description:  Adjectives\n",
      "feature (position,token):  {'4': 'awful', '12': 'bad'}\n",
      "Perturbed Text:   this film is very. i have never seen such a movie.\n",
      "perturbed probabilities:  [0.0010830163955688477, 0.9989169836044312]\n",
      "nPIR Original Class:  0.999\n"
     ]
    },
    {
     "data": {
      "text/html": [
       "<span><b>this</b></span> <span><b>film</b></span> <span><b>is</b></span> <span><b>very</b></span> <span style=\"background-color:rgba(0, 255, 255, 1)\"><b>awful</b></span> <span><b>.</b></span> <span><b>i</b></span> <span><b>have</b></span> <span><b>never</b></span> <span><b>seen</b></span> <span><b>such</b></span> <span><b>a</b></span> <span style=\"background-color:rgba(0, 255, 255, 1)\"><b>bad</b></span> <span><b>movie</b></span> <span><b>.</b></span> "
      ],
      "text/plain": [
       "<IPython.core.display.HTML object>"
      ]
     },
     "metadata": {},
     "output_type": "display_data"
    },
    {
     "name": "stdout",
     "output_type": "stream",
     "text": [
      "\n",
      "\n",
      "\n",
      "\n",
      "LocalExplanationId: 11, FeatureId: 11\n",
      "feature type:  POS\n",
      "feature description:  Combination of Adjectives and Interjections\n",
      "feature (position,token):  {'4': 'awful', '12': 'bad'}\n",
      "Perturbed Text:   this film is very. i have never seen such a movie.\n",
      "perturbed probabilities:  [0.0010830163955688477, 0.9989169836044312]\n",
      "nPIR Original Class:  0.999\n"
     ]
    },
    {
     "data": {
      "text/html": [
       "<span><b>this</b></span> <span><b>film</b></span> <span><b>is</b></span> <span><b>very</b></span> <span style=\"background-color:rgba(0, 255, 255, 1)\"><b>awful</b></span> <span><b>.</b></span> <span><b>i</b></span> <span><b>have</b></span> <span><b>never</b></span> <span><b>seen</b></span> <span><b>such</b></span> <span><b>a</b></span> <span style=\"background-color:rgba(0, 255, 255, 1)\"><b>bad</b></span> <span><b>movie</b></span> <span><b>.</b></span> "
      ],
      "text/plain": [
       "<IPython.core.display.HTML object>"
      ]
     },
     "metadata": {},
     "output_type": "display_data"
    },
    {
     "name": "stdout",
     "output_type": "stream",
     "text": [
      "\n",
      "\n",
      "\n",
      "\n",
      "LocalExplanationId: 12, FeatureId: 12\n",
      "feature type:  POS\n",
      "feature description:  Combination of Adjectives and Others (Cardinal Numbers, Foreign Words, Symbols)\n",
      "feature (position,token):  {'4': 'awful', '12': 'bad'}\n",
      "Perturbed Text:   this film is very. i have never seen such a movie.\n",
      "perturbed probabilities:  [0.0010830163955688477, 0.9989169836044312]\n",
      "nPIR Original Class:  0.999\n"
     ]
    },
    {
     "data": {
      "text/html": [
       "<span><b>this</b></span> <span><b>film</b></span> <span><b>is</b></span> <span><b>very</b></span> <span style=\"background-color:rgba(0, 255, 255, 1)\"><b>awful</b></span> <span><b>.</b></span> <span><b>i</b></span> <span><b>have</b></span> <span><b>never</b></span> <span><b>seen</b></span> <span><b>such</b></span> <span><b>a</b></span> <span style=\"background-color:rgba(0, 255, 255, 1)\"><b>bad</b></span> <span><b>movie</b></span> <span><b>.</b></span> "
      ],
      "text/plain": [
       "<IPython.core.display.HTML object>"
      ]
     },
     "metadata": {},
     "output_type": "display_data"
    },
    {
     "name": "stdout",
     "output_type": "stream",
     "text": [
      "\n",
      "\n",
      "\n",
      "\n",
      "LocalExplanationId: 10, FeatureId: 10\n",
      "feature type:  POS\n",
      "feature description:  Combination of Adjectives and Pronouns, Predeterminers, WH\n",
      "feature (position,token):  {'4': 'awful', '12': 'bad', '10': 'such'}\n",
      "Perturbed Text:   this film is very. i have never seen a movie.\n",
      "perturbed probabilities:  [0.0014573335647583008, 0.9985426664352417]\n",
      "nPIR Original Class:  0.999\n"
     ]
    },
    {
     "data": {
      "text/html": [
       "<span><b>this</b></span> <span><b>film</b></span> <span><b>is</b></span> <span><b>very</b></span> <span style=\"background-color:rgba(0, 255, 255, 1)\"><b>awful</b></span> <span><b>.</b></span> <span><b>i</b></span> <span><b>have</b></span> <span><b>never</b></span> <span><b>seen</b></span> <span style=\"background-color:rgba(0, 255, 255, 1)\"><b>such</b></span> <span><b>a</b></span> <span style=\"background-color:rgba(0, 255, 255, 1)\"><b>bad</b></span> <span><b>movie</b></span> <span><b>.</b></span> "
      ],
      "text/plain": [
       "<IPython.core.display.HTML object>"
      ]
     },
     "metadata": {},
     "output_type": "display_data"
    },
    {
     "name": "stdout",
     "output_type": "stream",
     "text": [
      "\n",
      "\n",
      "\n",
      "\n",
      "LocalExplanationId: 9, FeatureId: 9\n",
      "feature type:  POS\n",
      "feature description:  Combination of Adjectives and Adverbs, Modals\n",
      "feature (position,token):  {'4': 'awful', '12': 'bad', '3': 'very', '8': 'never'}\n",
      "Perturbed Text:   this film is. i have seen such a movie.\n",
      "perturbed probabilities:  [0.001716315746307373, 0.9982836842536926]\n",
      "nPIR Original Class:  0.998\n"
     ]
    },
    {
     "data": {
      "text/html": [
       "<span><b>this</b></span> <span><b>film</b></span> <span><b>is</b></span> <span style=\"background-color:rgba(0, 255, 255, 1)\"><b>very</b></span> <span style=\"background-color:rgba(0, 255, 255, 1)\"><b>awful</b></span> <span><b>.</b></span> <span><b>i</b></span> <span><b>have</b></span> <span style=\"background-color:rgba(0, 255, 255, 1)\"><b>never</b></span> <span><b>seen</b></span> <span><b>such</b></span> <span><b>a</b></span> <span style=\"background-color:rgba(0, 255, 255, 1)\"><b>bad</b></span> <span><b>movie</b></span> <span><b>.</b></span> "
      ],
      "text/plain": [
       "<IPython.core.display.HTML object>"
      ]
     },
     "metadata": {},
     "output_type": "display_data"
    },
    {
     "name": "stdout",
     "output_type": "stream",
     "text": [
      "\n",
      "\n",
      "\n",
      "\n",
      "LocalExplanationId: 7, FeatureId: 7\n",
      "feature type:  POS\n",
      "feature description:  Combination of Adjectives and Nouns\n",
      "feature (position,token):  {'4': 'awful', '12': 'bad', '1': 'film', '6': 'i', '13': 'movie'}\n",
      "Perturbed Text:   this is very. have never seen such a.\n",
      "perturbed probabilities:  [0.003764033317565918, 0.9962359666824341]\n",
      "nPIR Original Class:  0.996\n"
     ]
    },
    {
     "data": {
      "text/html": [
       "<span><b>this</b></span> <span style=\"background-color:rgba(0, 255, 255, 1)\"><b>film</b></span> <span><b>is</b></span> <span><b>very</b></span> <span style=\"background-color:rgba(0, 255, 255, 1)\"><b>awful</b></span> <span><b>.</b></span> <span style=\"background-color:rgba(0, 255, 255, 1)\"><b>i</b></span> <span><b>have</b></span> <span><b>never</b></span> <span><b>seen</b></span> <span><b>such</b></span> <span><b>a</b></span> <span style=\"background-color:rgba(0, 255, 255, 1)\"><b>bad</b></span> <span style=\"background-color:rgba(0, 255, 255, 1)\"><b>movie</b></span> <span><b>.</b></span> "
      ],
      "text/plain": [
       "<IPython.core.display.HTML object>"
      ]
     },
     "metadata": {},
     "output_type": "display_data"
    },
    {
     "name": "stdout",
     "output_type": "stream",
     "text": [
      "\n",
      "\n",
      "\n",
      "\n",
      "LocalExplanationId: 15, FeatureId: 15\n",
      "feature type:  POS\n",
      "feature description:  Combination of Nouns and Pronouns, Predeterminers, WH\n",
      "feature (position,token):  {'1': 'film', '6': 'i', '13': 'movie', '10': 'such'}\n",
      "Perturbed Text:   this is very awful. have never seen a bad.\n",
      "perturbed probabilities:  [0.9641438126564026, 0.03585618734359741]\n",
      "nPIR Original Class:  0.064\n"
     ]
    },
    {
     "data": {
      "text/html": [
       "<span><b>this</b></span> <span style=\"background-color:rgba(0, 255, 255, 1)\"><b>film</b></span> <span><b>is</b></span> <span><b>very</b></span> <span><b>awful</b></span> <span><b>.</b></span> <span style=\"background-color:rgba(0, 255, 255, 1)\"><b>i</b></span> <span><b>have</b></span> <span><b>never</b></span> <span><b>seen</b></span> <span style=\"background-color:rgba(0, 255, 255, 1)\"><b>such</b></span> <span><b>a</b></span> <span><b>bad</b></span> <span style=\"background-color:rgba(0, 255, 255, 1)\"><b>movie</b></span> <span><b>.</b></span> "
      ],
      "text/plain": [
       "<IPython.core.display.HTML object>"
      ]
     },
     "metadata": {},
     "output_type": "display_data"
    },
    {
     "name": "stdout",
     "output_type": "stream",
     "text": [
      "\n",
      "\n",
      "\n",
      "\n",
      "LocalExplanationId: 13, FeatureId: 13\n",
      "feature type:  POS\n",
      "feature description:  Combination of Nouns and Verbs\n",
      "feature (position,token):  {'1': 'film', '6': 'i', '13': 'movie', '2': 'is', '7': 'have', '9': 'seen'}\n",
      "Perturbed Text:   this very awful. never such a bad.\n",
      "perturbed probabilities:  [0.9829344749450684, 0.01706555485725403]\n",
      "nPIR Original Class:  0.03\n"
     ]
    },
    {
     "data": {
      "text/html": [
       "<span><b>this</b></span> <span style=\"background-color:rgba(0, 255, 255, 1)\"><b>film</b></span> <span style=\"background-color:rgba(0, 255, 255, 1)\"><b>is</b></span> <span><b>very</b></span> <span><b>awful</b></span> <span><b>.</b></span> <span style=\"background-color:rgba(0, 255, 255, 1)\"><b>i</b></span> <span style=\"background-color:rgba(0, 255, 255, 1)\"><b>have</b></span> <span><b>never</b></span> <span style=\"background-color:rgba(0, 255, 255, 1)\"><b>seen</b></span> <span><b>such</b></span> <span><b>a</b></span> <span><b>bad</b></span> <span style=\"background-color:rgba(0, 255, 255, 1)\"><b>movie</b></span> <span><b>.</b></span> "
      ],
      "text/plain": [
       "<IPython.core.display.HTML object>"
      ]
     },
     "metadata": {},
     "output_type": "display_data"
    },
    {
     "name": "stdout",
     "output_type": "stream",
     "text": [
      "\n",
      "\n",
      "\n",
      "\n",
      "LocalExplanationId: 1, FeatureId: 1\n",
      "feature type:  POS\n",
      "feature description:  Nouns\n",
      "feature (position,token):  {'1': 'film', '6': 'i', '13': 'movie'}\n",
      "Perturbed Text:   this is very awful. have never seen such a bad.\n",
      "perturbed probabilities:  [0.9835245013237, 0.01647549867630005]\n",
      "nPIR Original Class:  0.029\n"
     ]
    },
    {
     "data": {
      "text/html": [
       "<span><b>this</b></span> <span style=\"background-color:rgba(0, 255, 255, 1)\"><b>film</b></span> <span><b>is</b></span> <span><b>very</b></span> <span><b>awful</b></span> <span><b>.</b></span> <span style=\"background-color:rgba(0, 255, 255, 1)\"><b>i</b></span> <span><b>have</b></span> <span><b>never</b></span> <span><b>seen</b></span> <span><b>such</b></span> <span><b>a</b></span> <span><b>bad</b></span> <span style=\"background-color:rgba(0, 255, 255, 1)\"><b>movie</b></span> <span><b>.</b></span> "
      ],
      "text/plain": [
       "<IPython.core.display.HTML object>"
      ]
     },
     "metadata": {},
     "output_type": "display_data"
    },
    {
     "name": "stdout",
     "output_type": "stream",
     "text": [
      "\n",
      "\n",
      "\n",
      "\n",
      "LocalExplanationId: 16, FeatureId: 16\n",
      "feature type:  POS\n",
      "feature description:  Combination of Nouns and Interjections\n",
      "feature (position,token):  {'1': 'film', '6': 'i', '13': 'movie'}\n",
      "Perturbed Text:   this is very awful. have never seen such a bad.\n",
      "perturbed probabilities:  [0.9835245013237, 0.01647549867630005]\n",
      "nPIR Original Class:  0.029\n"
     ]
    },
    {
     "data": {
      "text/html": [
       "<span><b>this</b></span> <span style=\"background-color:rgba(0, 255, 255, 1)\"><b>film</b></span> <span><b>is</b></span> <span><b>very</b></span> <span><b>awful</b></span> <span><b>.</b></span> <span style=\"background-color:rgba(0, 255, 255, 1)\"><b>i</b></span> <span><b>have</b></span> <span><b>never</b></span> <span><b>seen</b></span> <span><b>such</b></span> <span><b>a</b></span> <span><b>bad</b></span> <span style=\"background-color:rgba(0, 255, 255, 1)\"><b>movie</b></span> <span><b>.</b></span> "
      ],
      "text/plain": [
       "<IPython.core.display.HTML object>"
      ]
     },
     "metadata": {},
     "output_type": "display_data"
    },
    {
     "name": "stdout",
     "output_type": "stream",
     "text": [
      "\n",
      "\n",
      "\n",
      "\n",
      "LocalExplanationId: 17, FeatureId: 17\n",
      "feature type:  POS\n",
      "feature description:  Combination of Nouns and Others (Cardinal Numbers, Foreign Words, Symbols)\n",
      "feature (position,token):  {'1': 'film', '6': 'i', '13': 'movie'}\n",
      "Perturbed Text:   this is very awful. have never seen such a bad.\n",
      "perturbed probabilities:  [0.9835245013237, 0.01647549867630005]\n",
      "nPIR Original Class:  0.029\n"
     ]
    },
    {
     "data": {
      "text/html": [
       "<span><b>this</b></span> <span style=\"background-color:rgba(0, 255, 255, 1)\"><b>film</b></span> <span><b>is</b></span> <span><b>very</b></span> <span><b>awful</b></span> <span><b>.</b></span> <span style=\"background-color:rgba(0, 255, 255, 1)\"><b>i</b></span> <span><b>have</b></span> <span><b>never</b></span> <span><b>seen</b></span> <span><b>such</b></span> <span><b>a</b></span> <span><b>bad</b></span> <span style=\"background-color:rgba(0, 255, 255, 1)\"><b>movie</b></span> <span><b>.</b></span> "
      ],
      "text/plain": [
       "<IPython.core.display.HTML object>"
      ]
     },
     "metadata": {},
     "output_type": "display_data"
    },
    {
     "name": "stdout",
     "output_type": "stream",
     "text": [
      "\n",
      "\n",
      "\n",
      "\n",
      "LocalExplanationId: 14, FeatureId: 14\n",
      "feature type:  POS\n",
      "feature description:  Combination of Nouns and Adverbs, Modals\n",
      "feature (position,token):  {'1': 'film', '6': 'i', '13': 'movie', '3': 'very', '8': 'never'}\n",
      "Perturbed Text:   this is awful. have seen such a bad.\n",
      "perturbed probabilities:  [0.9926325082778931, 0.007367521524429321]\n",
      "nPIR Original Class:  0.011\n"
     ]
    },
    {
     "data": {
      "text/html": [
       "<span><b>this</b></span> <span style=\"background-color:rgba(0, 255, 255, 1)\"><b>film</b></span> <span><b>is</b></span> <span style=\"background-color:rgba(0, 255, 255, 1)\"><b>very</b></span> <span><b>awful</b></span> <span><b>.</b></span> <span style=\"background-color:rgba(0, 255, 255, 1)\"><b>i</b></span> <span><b>have</b></span> <span style=\"background-color:rgba(0, 255, 255, 1)\"><b>never</b></span> <span><b>seen</b></span> <span><b>such</b></span> <span><b>a</b></span> <span><b>bad</b></span> <span style=\"background-color:rgba(0, 255, 255, 1)\"><b>movie</b></span> <span><b>.</b></span> "
      ],
      "text/plain": [
       "<IPython.core.display.HTML object>"
      ]
     },
     "metadata": {},
     "output_type": "display_data"
    },
    {
     "name": "stdout",
     "output_type": "stream",
     "text": [
      "\n",
      "\n",
      "\n",
      "\n",
      "LocalExplanationId: 4, FeatureId: 4\n",
      "feature type:  POS\n",
      "feature description:  Pronouns, Predeterminers, WH\n",
      "feature (position,token):  {'10': 'such'}\n",
      "Perturbed Text:   this film is very awful. i have never seen a bad movie.\n",
      "perturbed probabilities:  [0.998046875, 0.0019531548023223877]\n",
      "nPIR Original Class:  0.001\n"
     ]
    },
    {
     "data": {
      "text/html": [
       "<span><b>this</b></span> <span><b>film</b></span> <span><b>is</b></span> <span><b>very</b></span> <span><b>awful</b></span> <span><b>.</b></span> <span><b>i</b></span> <span><b>have</b></span> <span><b>never</b></span> <span><b>seen</b></span> <span style=\"background-color:rgba(0, 255, 255, 1)\"><b>such</b></span> <span><b>a</b></span> <span><b>bad</b></span> <span><b>movie</b></span> <span><b>.</b></span> "
      ],
      "text/plain": [
       "<IPython.core.display.HTML object>"
      ]
     },
     "metadata": {},
     "output_type": "display_data"
    },
    {
     "name": "stdout",
     "output_type": "stream",
     "text": [
      "\n",
      "\n",
      "\n",
      "\n",
      "LocalExplanationId: 25, FeatureId: 25\n",
      "feature type:  POS\n",
      "feature description:  Combination of Pronouns, Predeterminers, WH and Interjections\n",
      "feature (position,token):  {'10': 'such'}\n",
      "Perturbed Text:   this film is very awful. i have never seen a bad movie.\n",
      "perturbed probabilities:  [0.998046875, 0.0019531548023223877]\n",
      "nPIR Original Class:  0.001\n"
     ]
    },
    {
     "data": {
      "text/html": [
       "<span><b>this</b></span> <span><b>film</b></span> <span><b>is</b></span> <span><b>very</b></span> <span><b>awful</b></span> <span><b>.</b></span> <span><b>i</b></span> <span><b>have</b></span> <span><b>never</b></span> <span><b>seen</b></span> <span style=\"background-color:rgba(0, 255, 255, 1)\"><b>such</b></span> <span><b>a</b></span> <span><b>bad</b></span> <span><b>movie</b></span> <span><b>.</b></span> "
      ],
      "text/plain": [
       "<IPython.core.display.HTML object>"
      ]
     },
     "metadata": {},
     "output_type": "display_data"
    },
    {
     "name": "stdout",
     "output_type": "stream",
     "text": [
      "\n",
      "\n",
      "\n",
      "\n",
      "LocalExplanationId: 26, FeatureId: 26\n",
      "feature type:  POS\n",
      "feature description:  Combination of Pronouns, Predeterminers, WH and Others (Cardinal Numbers, Foreign Words, Symbols)\n",
      "feature (position,token):  {'10': 'such'}\n",
      "Perturbed Text:   this film is very awful. i have never seen a bad movie.\n",
      "perturbed probabilities:  [0.998046875, 0.0019531548023223877]\n",
      "nPIR Original Class:  0.001\n"
     ]
    },
    {
     "data": {
      "text/html": [
       "<span><b>this</b></span> <span><b>film</b></span> <span><b>is</b></span> <span><b>very</b></span> <span><b>awful</b></span> <span><b>.</b></span> <span><b>i</b></span> <span><b>have</b></span> <span><b>never</b></span> <span><b>seen</b></span> <span style=\"background-color:rgba(0, 255, 255, 1)\"><b>such</b></span> <span><b>a</b></span> <span><b>bad</b></span> <span><b>movie</b></span> <span><b>.</b></span> "
      ],
      "text/plain": [
       "<IPython.core.display.HTML object>"
      ]
     },
     "metadata": {},
     "output_type": "display_data"
    },
    {
     "name": "stdout",
     "output_type": "stream",
     "text": [
      "\n",
      "\n",
      "\n",
      "\n",
      "LocalExplanationId: 22, FeatureId: 22\n",
      "feature type:  POS\n",
      "feature description:  Combination of Adverbs, Modals and Pronouns, Predeterminers, WH\n",
      "feature (position,token):  {'3': 'very', '8': 'never', '10': 'such'}\n",
      "Perturbed Text:   this film is awful. i have seen a bad movie.\n",
      "perturbed probabilities:  [0.9987342357635498, 0.001265794038772583]\n",
      "nPIR Original Class:  -0.001\n"
     ]
    },
    {
     "data": {
      "text/html": [
       "<span><b>this</b></span> <span><b>film</b></span> <span><b>is</b></span> <span style=\"background-color:rgba(0, 255, 255, 1)\"><b>very</b></span> <span><b>awful</b></span> <span><b>.</b></span> <span><b>i</b></span> <span><b>have</b></span> <span style=\"background-color:rgba(0, 255, 255, 1)\"><b>never</b></span> <span><b>seen</b></span> <span style=\"background-color:rgba(0, 255, 255, 1)\"><b>such</b></span> <span><b>a</b></span> <span><b>bad</b></span> <span><b>movie</b></span> <span><b>.</b></span> "
      ],
      "text/plain": [
       "<IPython.core.display.HTML object>"
      ]
     },
     "metadata": {},
     "output_type": "display_data"
    },
    {
     "name": "stdout",
     "output_type": "stream",
     "text": [
      "\n",
      "\n",
      "\n",
      "\n",
      "LocalExplanationId: 18, FeatureId: 18\n",
      "feature type:  POS\n",
      "feature description:  Combination of Verbs and Adverbs, Modals\n",
      "feature (position,token):  {'2': 'is', '7': 'have', '9': 'seen', '3': 'very', '8': 'never'}\n",
      "Perturbed Text:   this film awful. i such a bad movie.\n",
      "perturbed probabilities:  [0.9989974498748779, 0.0010025203227996826]\n",
      "nPIR Original Class:  -0.001\n"
     ]
    },
    {
     "data": {
      "text/html": [
       "<span><b>this</b></span> <span><b>film</b></span> <span style=\"background-color:rgba(0, 255, 255, 1)\"><b>is</b></span> <span style=\"background-color:rgba(0, 255, 255, 1)\"><b>very</b></span> <span><b>awful</b></span> <span><b>.</b></span> <span><b>i</b></span> <span style=\"background-color:rgba(0, 255, 255, 1)\"><b>have</b></span> <span style=\"background-color:rgba(0, 255, 255, 1)\"><b>never</b></span> <span style=\"background-color:rgba(0, 255, 255, 1)\"><b>seen</b></span> <span><b>such</b></span> <span><b>a</b></span> <span><b>bad</b></span> <span><b>movie</b></span> <span><b>.</b></span> "
      ],
      "text/plain": [
       "<IPython.core.display.HTML object>"
      ]
     },
     "metadata": {},
     "output_type": "display_data"
    },
    {
     "name": "stdout",
     "output_type": "stream",
     "text": [
      "\n",
      "\n",
      "\n",
      "\n",
      "LocalExplanationId: 19, FeatureId: 19\n",
      "feature type:  POS\n",
      "feature description:  Combination of Verbs and Pronouns, Predeterminers, WH\n",
      "feature (position,token):  {'2': 'is', '7': 'have', '9': 'seen', '10': 'such'}\n",
      "Perturbed Text:   this film very awful. i never a bad movie.\n",
      "perturbed probabilities:  [0.9990313053131104, 0.0009687244892120361]\n",
      "nPIR Original Class:  -0.001\n"
     ]
    },
    {
     "data": {
      "text/html": [
       "<span><b>this</b></span> <span><b>film</b></span> <span style=\"background-color:rgba(0, 255, 255, 1)\"><b>is</b></span> <span><b>very</b></span> <span><b>awful</b></span> <span><b>.</b></span> <span><b>i</b></span> <span style=\"background-color:rgba(0, 255, 255, 1)\"><b>have</b></span> <span><b>never</b></span> <span style=\"background-color:rgba(0, 255, 255, 1)\"><b>seen</b></span> <span style=\"background-color:rgba(0, 255, 255, 1)\"><b>such</b></span> <span><b>a</b></span> <span><b>bad</b></span> <span><b>movie</b></span> <span><b>.</b></span> "
      ],
      "text/plain": [
       "<IPython.core.display.HTML object>"
      ]
     },
     "metadata": {},
     "output_type": "display_data"
    },
    {
     "name": "stdout",
     "output_type": "stream",
     "text": [
      "\n",
      "\n",
      "\n",
      "\n",
      "LocalExplanationId: 2, FeatureId: 2\n",
      "feature type:  POS\n",
      "feature description:  Verbs\n",
      "feature (position,token):  {'2': 'is', '7': 'have', '9': 'seen'}\n",
      "Perturbed Text:   this film very awful. i never such a bad movie.\n",
      "perturbed probabilities:  [0.9990600943565369, 0.0009399056434631348]\n",
      "nPIR Original Class:  -0.001\n"
     ]
    },
    {
     "data": {
      "text/html": [
       "<span><b>this</b></span> <span><b>film</b></span> <span style=\"background-color:rgba(0, 255, 255, 1)\"><b>is</b></span> <span><b>very</b></span> <span><b>awful</b></span> <span><b>.</b></span> <span><b>i</b></span> <span style=\"background-color:rgba(0, 255, 255, 1)\"><b>have</b></span> <span><b>never</b></span> <span style=\"background-color:rgba(0, 255, 255, 1)\"><b>seen</b></span> <span><b>such</b></span> <span><b>a</b></span> <span><b>bad</b></span> <span><b>movie</b></span> <span><b>.</b></span> "
      ],
      "text/plain": [
       "<IPython.core.display.HTML object>"
      ]
     },
     "metadata": {},
     "output_type": "display_data"
    },
    {
     "name": "stdout",
     "output_type": "stream",
     "text": [
      "\n",
      "\n",
      "\n",
      "\n",
      "LocalExplanationId: 20, FeatureId: 20\n",
      "feature type:  POS\n",
      "feature description:  Combination of Verbs and Interjections\n",
      "feature (position,token):  {'2': 'is', '7': 'have', '9': 'seen'}\n",
      "Perturbed Text:   this film very awful. i never such a bad movie.\n",
      "perturbed probabilities:  [0.9990600943565369, 0.0009399056434631348]\n",
      "nPIR Original Class:  -0.001\n"
     ]
    },
    {
     "data": {
      "text/html": [
       "<span><b>this</b></span> <span><b>film</b></span> <span style=\"background-color:rgba(0, 255, 255, 1)\"><b>is</b></span> <span><b>very</b></span> <span><b>awful</b></span> <span><b>.</b></span> <span><b>i</b></span> <span style=\"background-color:rgba(0, 255, 255, 1)\"><b>have</b></span> <span><b>never</b></span> <span style=\"background-color:rgba(0, 255, 255, 1)\"><b>seen</b></span> <span><b>such</b></span> <span><b>a</b></span> <span><b>bad</b></span> <span><b>movie</b></span> <span><b>.</b></span> "
      ],
      "text/plain": [
       "<IPython.core.display.HTML object>"
      ]
     },
     "metadata": {},
     "output_type": "display_data"
    },
    {
     "name": "stdout",
     "output_type": "stream",
     "text": [
      "\n",
      "\n",
      "\n",
      "\n",
      "LocalExplanationId: 21, FeatureId: 21\n",
      "feature type:  POS\n",
      "feature description:  Combination of Verbs and Others (Cardinal Numbers, Foreign Words, Symbols)\n",
      "feature (position,token):  {'2': 'is', '7': 'have', '9': 'seen'}\n",
      "Perturbed Text:   this film very awful. i never such a bad movie.\n",
      "perturbed probabilities:  [0.9990600943565369, 0.0009399056434631348]\n",
      "nPIR Original Class:  -0.001\n"
     ]
    },
    {
     "data": {
      "text/html": [
       "<span><b>this</b></span> <span><b>film</b></span> <span style=\"background-color:rgba(0, 255, 255, 1)\"><b>is</b></span> <span><b>very</b></span> <span><b>awful</b></span> <span><b>.</b></span> <span><b>i</b></span> <span style=\"background-color:rgba(0, 255, 255, 1)\"><b>have</b></span> <span><b>never</b></span> <span style=\"background-color:rgba(0, 255, 255, 1)\"><b>seen</b></span> <span><b>such</b></span> <span><b>a</b></span> <span><b>bad</b></span> <span><b>movie</b></span> <span><b>.</b></span> "
      ],
      "text/plain": [
       "<IPython.core.display.HTML object>"
      ]
     },
     "metadata": {},
     "output_type": "display_data"
    },
    {
     "name": "stdout",
     "output_type": "stream",
     "text": [
      "\n",
      "\n",
      "\n",
      "\n",
      "LocalExplanationId: 3, FeatureId: 3\n",
      "feature type:  POS\n",
      "feature description:  Adverbs, Modals\n",
      "feature (position,token):  {'3': 'very', '8': 'never'}\n",
      "Perturbed Text:   this film is awful. i have seen such a bad movie.\n",
      "perturbed probabilities:  [0.999068021774292, 0.0009319484233856201]\n",
      "nPIR Original Class:  -0.001\n"
     ]
    },
    {
     "data": {
      "text/html": [
       "<span><b>this</b></span> <span><b>film</b></span> <span><b>is</b></span> <span style=\"background-color:rgba(0, 255, 255, 1)\"><b>very</b></span> <span><b>awful</b></span> <span><b>.</b></span> <span><b>i</b></span> <span><b>have</b></span> <span style=\"background-color:rgba(0, 255, 255, 1)\"><b>never</b></span> <span><b>seen</b></span> <span><b>such</b></span> <span><b>a</b></span> <span><b>bad</b></span> <span><b>movie</b></span> <span><b>.</b></span> "
      ],
      "text/plain": [
       "<IPython.core.display.HTML object>"
      ]
     },
     "metadata": {},
     "output_type": "display_data"
    },
    {
     "name": "stdout",
     "output_type": "stream",
     "text": [
      "\n",
      "\n",
      "\n",
      "\n",
      "LocalExplanationId: 23, FeatureId: 23\n",
      "feature type:  POS\n",
      "feature description:  Combination of Adverbs, Modals and Interjections\n",
      "feature (position,token):  {'3': 'very', '8': 'never'}\n",
      "Perturbed Text:   this film is awful. i have seen such a bad movie.\n",
      "perturbed probabilities:  [0.999068021774292, 0.0009319484233856201]\n",
      "nPIR Original Class:  -0.001\n"
     ]
    },
    {
     "data": {
      "text/html": [
       "<span><b>this</b></span> <span><b>film</b></span> <span><b>is</b></span> <span style=\"background-color:rgba(0, 255, 255, 1)\"><b>very</b></span> <span><b>awful</b></span> <span><b>.</b></span> <span><b>i</b></span> <span><b>have</b></span> <span style=\"background-color:rgba(0, 255, 255, 1)\"><b>never</b></span> <span><b>seen</b></span> <span><b>such</b></span> <span><b>a</b></span> <span><b>bad</b></span> <span><b>movie</b></span> <span><b>.</b></span> "
      ],
      "text/plain": [
       "<IPython.core.display.HTML object>"
      ]
     },
     "metadata": {},
     "output_type": "display_data"
    },
    {
     "name": "stdout",
     "output_type": "stream",
     "text": [
      "\n",
      "\n",
      "\n",
      "\n",
      "LocalExplanationId: 24, FeatureId: 24\n",
      "feature type:  POS\n",
      "feature description:  Combination of Adverbs, Modals and Others (Cardinal Numbers, Foreign Words, Symbols)\n",
      "feature (position,token):  {'3': 'very', '8': 'never'}\n",
      "Perturbed Text:   this film is awful. i have seen such a bad movie.\n",
      "perturbed probabilities:  [0.999068021774292, 0.0009319484233856201]\n",
      "nPIR Original Class:  -0.001\n"
     ]
    },
    {
     "data": {
      "text/html": [
       "<span><b>this</b></span> <span><b>film</b></span> <span><b>is</b></span> <span style=\"background-color:rgba(0, 255, 255, 1)\"><b>very</b></span> <span><b>awful</b></span> <span><b>.</b></span> <span><b>i</b></span> <span><b>have</b></span> <span style=\"background-color:rgba(0, 255, 255, 1)\"><b>never</b></span> <span><b>seen</b></span> <span><b>such</b></span> <span><b>a</b></span> <span><b>bad</b></span> <span><b>movie</b></span> <span><b>.</b></span> "
      ],
      "text/plain": [
       "<IPython.core.display.HTML object>"
      ]
     },
     "metadata": {},
     "output_type": "display_data"
    },
    {
     "name": "stdout",
     "output_type": "stream",
     "text": [
      "\n",
      "\n",
      "\n",
      "\n"
     ]
    }
   ],
   "source": [
    "print(\"Original Probabilities: {}\".format(input_info[\"original_probabilities\"]))\n",
    "print(\"Original label: {}\".format(input_info[\"original_label\"]))\n",
    "print(\"\\n\\n\")\n",
    "min_nPIR_pos = -1\n",
    "max_nPIR_pos = 1\n",
    "\n",
    "for le in sorted(pos_local_explanations_comb, key=lambda le: le[\"nPIR_original_top_class\"], reverse=True ):\n",
    "    if le[\"nPIR_original_top_class\"] >= min_nPIR_pos and le[\"nPIR_original_top_class\"] <= max_nPIR_pos:\n",
    "        print_local_explanation(le, input_positions_tokens)"
   ]
  },
  {
   "cell_type": "code",
   "execution_count": 15,
   "metadata": {
    "scrolled": false
   },
   "outputs": [
    {
     "data": {
      "text/html": [
       "<h1>Sentences Features Summary</h1>"
      ],
      "text/plain": [
       "<IPython.core.display.HTML object>"
      ]
     },
     "metadata": {},
     "output_type": "display_data"
    },
    {
     "data": {
      "text/html": [
       "<b>Predicted Class: Negative </b>"
      ],
      "text/plain": [
       "<IPython.core.display.HTML object>"
      ]
     },
     "metadata": {},
     "output_type": "display_data"
    },
    {
     "data": {
      "text/html": [
       "<b>Original Probability: [0.9983175992965698, 0.001682370901107788] </b>"
      ],
      "text/plain": [
       "<IPython.core.display.HTML object>"
      ]
     },
     "metadata": {},
     "output_type": "display_data"
    },
    {
     "data": {
      "text/html": [
       "<span style=\"background-color:rgba(124, 252, 0, 0.0327)\"><b>this</b></span> <span style=\"background-color:rgba(124, 252, 0, 0.0327)\"><b>film</b></span> <span style=\"background-color:rgba(124, 252, 0, 0.0327)\"><b>is</b></span> <span style=\"background-color:rgba(124, 252, 0, 0.0327)\"><b>very</b></span> <span style=\"background-color:rgba(124, 252, 0, 0.0327)\"><b>awful</b></span> <span style=\"background-color:rgba(124, 252, 0, 0.0327)\"><b>.</b></span> <span style=\"background-color:rgba(255, 99, 71, -0.0013)\"><b>i</b></span> <span style=\"background-color:rgba(255, 99, 71, -0.0013)\"><b>have</b></span> <span style=\"background-color:rgba(255, 99, 71, -0.0013)\"><b>never</b></span> <span style=\"background-color:rgba(255, 99, 71, -0.0013)\"><b>seen</b></span> <span style=\"background-color:rgba(255, 99, 71, -0.0013)\"><b>such</b></span> <span style=\"background-color:rgba(255, 99, 71, -0.0013)\"><b>a</b></span> <span style=\"background-color:rgba(255, 99, 71, -0.0013)\"><b>bad</b></span> <span style=\"background-color:rgba(255, 99, 71, -0.0013)\"><b>movie</b></span> <span style=\"background-color:rgba(255, 99, 71, -0.0013)\"><b>.</b></span> "
      ],
      "text/plain": [
       "<IPython.core.display.HTML object>"
      ]
     },
     "metadata": {},
     "output_type": "display_data"
    },
    {
     "data": {
      "text/html": [
       "(Features are highlighted in green if are positively influential for the predicted class, red otherwise. The intensity of the color is proportional to the nPIR score obtained by the word.) "
      ],
      "text/plain": [
       "<IPython.core.display.HTML object>"
      ]
     },
     "metadata": {},
     "output_type": "display_data"
    }
   ],
   "source": [
    "display(HTML('<h1>Sentences Features Summary</h1>'))\n",
    "display(HTML('<b>Predicted Class: {} </b>'.format(label_name(input_info[\"original_label\"]))))\n",
    "display(HTML('<b>Original Probability: {} </b>'.format(input_info[\"original_probabilities\"])))\n",
    "\n",
    "html_sen_string = get_summary_string(sen_positions_tokens_score)\n",
    "        \n",
    "display(HTML(html_sen_string))\n",
    "\n",
    "display(HTML('(Features are highlighted in green if are positively influential for the predicted class, red otherwise. The intensity of the color is proportional to the nPIR score obtained by the word.) '))  \n"
   ]
  },
  {
   "cell_type": "markdown",
   "metadata": {},
   "source": [
    "# SEN Most influential feature"
   ]
  },
  {
   "cell_type": "code",
   "execution_count": 16,
   "metadata": {},
   "outputs": [
    {
     "name": "stdout",
     "output_type": "stream",
     "text": [
      "LocalExplanationId: 30, FeatureId: 2\n",
      "feature type:  SEN\n",
      "feature description:  Combination of 1° Sentence and 2° Sentence\n",
      "feature (position,token):  {'0': 'this', '1': 'film', '2': 'is', '3': 'very', '4': 'awful', '5': '.', '6': 'i', '7': 'have', '8': 'never', '9': 'seen', '10': 'such', '11': 'a', '12': 'bad', '13': 'movie', '14': '.'}\n",
      "Perturbed Text:   \n",
      "perturbed probabilities:  [0.4176056981086731, 0.5823943018913269]\n",
      "nPIR Original Class:  0.62\n"
     ]
    },
    {
     "data": {
      "text/html": [
       "<span style=\"background-color:rgba(0, 255, 255, 1)\"><b>this</b></span> <span style=\"background-color:rgba(0, 255, 255, 1)\"><b>film</b></span> <span style=\"background-color:rgba(0, 255, 255, 1)\"><b>is</b></span> <span style=\"background-color:rgba(0, 255, 255, 1)\"><b>very</b></span> <span style=\"background-color:rgba(0, 255, 255, 1)\"><b>awful</b></span> <span style=\"background-color:rgba(0, 255, 255, 1)\"><b>.</b></span> <span style=\"background-color:rgba(0, 255, 255, 1)\"><b>i</b></span> <span style=\"background-color:rgba(0, 255, 255, 1)\"><b>have</b></span> <span style=\"background-color:rgba(0, 255, 255, 1)\"><b>never</b></span> <span style=\"background-color:rgba(0, 255, 255, 1)\"><b>seen</b></span> <span style=\"background-color:rgba(0, 255, 255, 1)\"><b>such</b></span> <span style=\"background-color:rgba(0, 255, 255, 1)\"><b>a</b></span> <span style=\"background-color:rgba(0, 255, 255, 1)\"><b>bad</b></span> <span style=\"background-color:rgba(0, 255, 255, 1)\"><b>movie</b></span> <span style=\"background-color:rgba(0, 255, 255, 1)\"><b>.</b></span> "
      ],
      "text/plain": [
       "<IPython.core.display.HTML object>"
      ]
     },
     "metadata": {},
     "output_type": "display_data"
    },
    {
     "name": "stdout",
     "output_type": "stream",
     "text": [
      "\n",
      "\n",
      "\n",
      "\n"
     ]
    }
   ],
   "source": [
    "most_influnetial_sen_feature =max(sen_local_explanations_comb, key= lambda le: le[\"nPIR_original_top_class\"])\n",
    "print_local_explanation(most_influnetial_sen_feature,input_positions_tokens)"
   ]
  },
  {
   "cell_type": "markdown",
   "metadata": {},
   "source": [
    "<h1> Query Sentences Features</h1>"
   ]
  },
  {
   "cell_type": "code",
   "execution_count": 17,
   "metadata": {
    "scrolled": false
   },
   "outputs": [
    {
     "name": "stdout",
     "output_type": "stream",
     "text": [
      "Original Probabilities: [0.9983175992965698, 0.001682370901107788]\n",
      "Original label: 0\n",
      "\n",
      "\n",
      "\n",
      "LocalExplanationId: 30, FeatureId: 2\n",
      "feature type:  SEN\n",
      "feature description:  Combination of 1° Sentence and 2° Sentence\n",
      "feature (position,token):  {'0': 'this', '1': 'film', '2': 'is', '3': 'very', '4': 'awful', '5': '.', '6': 'i', '7': 'have', '8': 'never', '9': 'seen', '10': 'such', '11': 'a', '12': 'bad', '13': 'movie', '14': '.'}\n",
      "Perturbed Text:   \n",
      "perturbed probabilities:  [0.4176056981086731, 0.5823943018913269]\n",
      "nPIR Original Class:  0.62\n"
     ]
    },
    {
     "data": {
      "text/html": [
       "<span style=\"background-color:rgba(0, 255, 255, 1)\"><b>this</b></span> <span style=\"background-color:rgba(0, 255, 255, 1)\"><b>film</b></span> <span style=\"background-color:rgba(0, 255, 255, 1)\"><b>is</b></span> <span style=\"background-color:rgba(0, 255, 255, 1)\"><b>very</b></span> <span style=\"background-color:rgba(0, 255, 255, 1)\"><b>awful</b></span> <span style=\"background-color:rgba(0, 255, 255, 1)\"><b>.</b></span> <span style=\"background-color:rgba(0, 255, 255, 1)\"><b>i</b></span> <span style=\"background-color:rgba(0, 255, 255, 1)\"><b>have</b></span> <span style=\"background-color:rgba(0, 255, 255, 1)\"><b>never</b></span> <span style=\"background-color:rgba(0, 255, 255, 1)\"><b>seen</b></span> <span style=\"background-color:rgba(0, 255, 255, 1)\"><b>such</b></span> <span style=\"background-color:rgba(0, 255, 255, 1)\"><b>a</b></span> <span style=\"background-color:rgba(0, 255, 255, 1)\"><b>bad</b></span> <span style=\"background-color:rgba(0, 255, 255, 1)\"><b>movie</b></span> <span style=\"background-color:rgba(0, 255, 255, 1)\"><b>.</b></span> "
      ],
      "text/plain": [
       "<IPython.core.display.HTML object>"
      ]
     },
     "metadata": {},
     "output_type": "display_data"
    },
    {
     "name": "stdout",
     "output_type": "stream",
     "text": [
      "\n",
      "\n",
      "\n",
      "\n",
      "LocalExplanationId: 28, FeatureId: 0\n",
      "feature type:  SEN\n",
      "feature description:  1° Sentence\n",
      "feature (position,token):  {'0': 'this', '1': 'film', '2': 'is', '3': 'very', '4': 'awful', '5': '.'}\n",
      "Perturbed Text:   i have never seen such a bad movie.\n",
      "perturbed probabilities:  [0.9814319610595703, 0.0185680091381073]\n",
      "nPIR Original Class:  0.033\n"
     ]
    },
    {
     "data": {
      "text/html": [
       "<span style=\"background-color:rgba(0, 255, 255, 1)\"><b>this</b></span> <span style=\"background-color:rgba(0, 255, 255, 1)\"><b>film</b></span> <span style=\"background-color:rgba(0, 255, 255, 1)\"><b>is</b></span> <span style=\"background-color:rgba(0, 255, 255, 1)\"><b>very</b></span> <span style=\"background-color:rgba(0, 255, 255, 1)\"><b>awful</b></span> <span style=\"background-color:rgba(0, 255, 255, 1)\"><b>.</b></span> <span><b>i</b></span> <span><b>have</b></span> <span><b>never</b></span> <span><b>seen</b></span> <span><b>such</b></span> <span><b>a</b></span> <span><b>bad</b></span> <span><b>movie</b></span> <span><b>.</b></span> "
      ],
      "text/plain": [
       "<IPython.core.display.HTML object>"
      ]
     },
     "metadata": {},
     "output_type": "display_data"
    },
    {
     "name": "stdout",
     "output_type": "stream",
     "text": [
      "\n",
      "\n",
      "\n",
      "\n",
      "LocalExplanationId: 29, FeatureId: 1\n",
      "feature type:  SEN\n",
      "feature description:  2° Sentence\n",
      "feature (position,token):  {'6': 'i', '7': 'have', '8': 'never', '9': 'seen', '10': 'such', '11': 'a', '12': 'bad', '13': 'movie', '14': '.'}\n",
      "Perturbed Text:   this film is very awful.\n",
      "perturbed probabilities:  [0.9989479780197144, 0.0010520219802856445]\n",
      "nPIR Original Class:  -0.001\n"
     ]
    },
    {
     "data": {
      "text/html": [
       "<span><b>this</b></span> <span><b>film</b></span> <span><b>is</b></span> <span><b>very</b></span> <span><b>awful</b></span> <span><b>.</b></span> <span style=\"background-color:rgba(0, 255, 255, 1)\"><b>i</b></span> <span style=\"background-color:rgba(0, 255, 255, 1)\"><b>have</b></span> <span style=\"background-color:rgba(0, 255, 255, 1)\"><b>never</b></span> <span style=\"background-color:rgba(0, 255, 255, 1)\"><b>seen</b></span> <span style=\"background-color:rgba(0, 255, 255, 1)\"><b>such</b></span> <span style=\"background-color:rgba(0, 255, 255, 1)\"><b>a</b></span> <span style=\"background-color:rgba(0, 255, 255, 1)\"><b>bad</b></span> <span style=\"background-color:rgba(0, 255, 255, 1)\"><b>movie</b></span> <span style=\"background-color:rgba(0, 255, 255, 1)\"><b>.</b></span> "
      ],
      "text/plain": [
       "<IPython.core.display.HTML object>"
      ]
     },
     "metadata": {},
     "output_type": "display_data"
    },
    {
     "name": "stdout",
     "output_type": "stream",
     "text": [
      "\n",
      "\n",
      "\n",
      "\n"
     ]
    }
   ],
   "source": [
    "print(\"Original Probabilities: {}\".format(input_info[\"original_probabilities\"]))\n",
    "print(\"Original label: {}\".format(input_info[\"original_label\"]))\n",
    "print(\"\\n\\n\")\n",
    "min_nPIR_sen = -1\n",
    "max_nPIR_sen = 1\n",
    "\n",
    "for le in sorted(sen_local_explanations_comb, key=lambda le: le[\"nPIR_original_top_class\"], reverse=True ):\n",
    "    if le[\"nPIR_original_top_class\"] >= min_nPIR_sen and le[\"nPIR_original_top_class\"] <= max_nPIR_sen:\n",
    "        print_local_explanation(le, input_positions_tokens)"
   ]
  },
  {
   "cell_type": "code",
   "execution_count": null,
   "metadata": {},
   "outputs": [],
   "source": []
  }
 ],
 "metadata": {
  "kernelspec": {
   "display_name": "Python 3",
   "language": "python",
   "name": "python3"
  },
  "language_info": {
   "codemirror_mode": {
    "name": "ipython",
    "version": 3
   },
   "file_extension": ".py",
   "mimetype": "text/x-python",
   "name": "python",
   "nbconvert_exporter": "python",
   "pygments_lexer": "ipython3",
   "version": "3.7.9"
  }
 },
 "nbformat": 4,
 "nbformat_minor": 4
}
