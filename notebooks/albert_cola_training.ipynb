{
  "nbformat": 4,
  "nbformat_minor": 0,
  "metadata": {
    "colab": {
      "name": "T-EBANO_albert_cola.ipynb",
      "provenance": [],
      "collapsed_sections": [],
      "toc_visible": true
    },
    "kernelspec": {
      "name": "python3",
      "display_name": "Python 3"
    },
    "accelerator": "GPU"
  },
  "cells": [
    {
      "cell_type": "markdown",
      "metadata": {
        "id": "XkkbQWVQQFx2"
      },
      "source": [
        "# Albert fine-tuned with Ag_News_Subset Colab\n",
        "\n",
        "This notebook load a pre-trained albert model from tf hub and run fine-tuning with ag_news_subset from tfds."
      ]
    },
    {
      "cell_type": "code",
      "metadata": {
        "id": "Mj1xJT9GilGr"
      },
      "source": [
        "import os\n",
        "import time\n",
        "import datetime\n",
        "import pandas as pd\n",
        "from tensorflow import keras\n",
        "import pickle\n",
        "import json\n",
        "import re\n",
        "import keras\n",
        "import matplotlib.pyplot as plt"
      ],
      "execution_count": 1,
      "outputs": []
    },
    {
      "cell_type": "code",
      "metadata": {
        "colab": {
          "base_uri": "https://localhost:8080/"
        },
        "id": "fQP9j1qHN86F",
        "outputId": "3aaf8c55-ec9f-4f9d-c030-c2919595f768"
      },
      "source": [
        "!nvidia-smi"
      ],
      "execution_count": 2,
      "outputs": [
        {
          "output_type": "stream",
          "text": [
            "Tue Mar  2 10:43:31 2021       \n",
            "+-----------------------------------------------------------------------------+\n",
            "| NVIDIA-SMI 460.39       Driver Version: 460.32.03    CUDA Version: 11.2     |\n",
            "|-------------------------------+----------------------+----------------------+\n",
            "| GPU  Name        Persistence-M| Bus-Id        Disp.A | Volatile Uncorr. ECC |\n",
            "| Fan  Temp  Perf  Pwr:Usage/Cap|         Memory-Usage | GPU-Util  Compute M. |\n",
            "|                               |                      |               MIG M. |\n",
            "|===============================+======================+======================|\n",
            "|   0  Tesla K80           Off  | 00000000:00:04.0 Off |                    0 |\n",
            "| N/A   72C    P8    33W / 149W |      0MiB / 11441MiB |      0%      Default |\n",
            "|                               |                      |                  N/A |\n",
            "+-------------------------------+----------------------+----------------------+\n",
            "                                                                               \n",
            "+-----------------------------------------------------------------------------+\n",
            "| Processes:                                                                  |\n",
            "|  GPU   GI   CI        PID   Type   Process name                  GPU Memory |\n",
            "|        ID   ID                                                   Usage      |\n",
            "|=============================================================================|\n",
            "|  No running processes found                                                 |\n",
            "+-----------------------------------------------------------------------------+\n"
          ],
          "name": "stdout"
        }
      ]
    },
    {
      "cell_type": "markdown",
      "metadata": {
        "id": "3826MkooY6y5"
      },
      "source": [
        "## Install and import Tensrflow Modules"
      ]
    },
    {
      "cell_type": "markdown",
      "metadata": {
        "id": "CMo6Mg6UZXW9"
      },
      "source": [
        "Import TensorFlow and Tensorflow Hub"
      ]
    },
    {
      "cell_type": "code",
      "metadata": {
        "colab": {
          "base_uri": "https://localhost:8080/"
        },
        "id": "VGW6chMEGRyg",
        "outputId": "265cafb7-0619-4e8e-c4b5-ec4ad44eb963"
      },
      "source": [
        "import tensorflow as tf\n",
        "import tensorflow_hub as hub\n",
        "print(tf.version.VERSION)"
      ],
      "execution_count": 3,
      "outputs": [
        {
          "output_type": "stream",
          "text": [
            "2.4.1\n"
          ],
          "name": "stdout"
        }
      ]
    },
    {
      "cell_type": "markdown",
      "metadata": {
        "id": "fXs79xVoZcAM"
      },
      "source": [
        "Install TensorFLow Official Models"
      ]
    },
    {
      "cell_type": "code",
      "metadata": {
        "id": "OHXoO4K04OBt"
      },
      "source": [
        "# pip install tf-models-official"
      ],
      "execution_count": 4,
      "outputs": []
    },
    {
      "cell_type": "code",
      "metadata": {
        "id": "0zoEExYpEWl9"
      },
      "source": [
        "# pip install tfds-nightly"
      ],
      "execution_count": 5,
      "outputs": []
    },
    {
      "cell_type": "markdown",
      "metadata": {
        "id": "pDBSGWYxPulS"
      },
      "source": [
        "## Cola Dataset"
      ]
    },
    {
      "cell_type": "markdown",
      "metadata": {
        "id": "jV-WeOwTQ0Cw"
      },
      "source": [
        "### Download dataset from TFDS\n",
        "\n",
        "Download the dataset from TFDS and split into train/dev/test or train/test."
      ]
    },
    {
      "cell_type": "code",
      "metadata": {
        "id": "OKcM9ZtrPRr0"
      },
      "source": [
        "import tensorflow_datasets as tfds\n",
        "\n",
        "# (train_data, test_data, dev_data), info = tfds.load('ag_news_subset',\n",
        "#                                                      split=['train[:83%]', 'train[83%:]', 'test[:100%]'],\n",
        "#                                                      as_supervised=True,\n",
        "#                                                      with_info=True\n",
        "#                                                      )\n",
        "\n",
        "(train_data, test_data, val_data), info = tfds.load('glue/cola',\n",
        "                                          split=['train[:100%]', 'test[:100%]','validation[:100%]'],\n",
        "                                          as_supervised=False,\n",
        "                                          with_info=True\n",
        "                                          )"
      ],
      "execution_count": 6,
      "outputs": []
    },
    {
      "cell_type": "code",
      "metadata": {
        "colab": {
          "base_uri": "https://localhost:8080/"
        },
        "id": "0AHMW4jWJL48",
        "outputId": "e56b21b1-f107-42df-adc6-8a44c998ee2a"
      },
      "source": [
        "print(info)"
      ],
      "execution_count": 7,
      "outputs": [
        {
          "output_type": "stream",
          "text": [
            "tfds.core.DatasetInfo(\n",
            "    name='glue',\n",
            "    full_name='glue/cola/1.0.0',\n",
            "    description=\"\"\"\n",
            "    GLUE, the General Language Understanding Evaluation benchmark\n",
            "    (https://gluebenchmark.com/) is a collection of resources for training,\n",
            "    evaluating, and analyzing natural language understanding systems.\n",
            "    \"\"\",\n",
            "    config_description=\"\"\"\n",
            "    The Corpus of Linguistic Acceptability consists of English\n",
            "    acceptability judgments drawn from books and journal articles on\n",
            "    linguistic theory. Each example is a sequence of words annotated\n",
            "    with whether it is a grammatical English sentence.\n",
            "    \"\"\",\n",
            "    homepage='https://nyu-mll.github.io/CoLA/',\n",
            "    data_path='/root/tensorflow_datasets/glue/cola/1.0.0',\n",
            "    download_size=368.14 KiB,\n",
            "    dataset_size=965.49 KiB,\n",
            "    features=FeaturesDict({\n",
            "        'idx': tf.int32,\n",
            "        'label': ClassLabel(shape=(), dtype=tf.int64, num_classes=2),\n",
            "        'sentence': Text(shape=(), dtype=tf.string),\n",
            "    }),\n",
            "    supervised_keys=None,\n",
            "    splits={\n",
            "        'test': <SplitInfo num_examples=1063, num_shards=1>,\n",
            "        'train': <SplitInfo num_examples=8551, num_shards=1>,\n",
            "        'validation': <SplitInfo num_examples=1043, num_shards=1>,\n",
            "    },\n",
            "    citation=\"\"\"@article{warstadt2018neural,\n",
            "      title={Neural Network Acceptability Judgments},\n",
            "      author={Warstadt, Alex and Singh, Amanpreet and Bowman, Samuel R},\n",
            "      journal={arXiv preprint arXiv:1805.12471},\n",
            "      year={2018}\n",
            "    }\n",
            "    @inproceedings{wang2019glue,\n",
            "      title={{GLUE}: A Multi-Task Benchmark and Analysis Platform for Natural Language Understanding},\n",
            "      author={Wang, Alex and Singh, Amanpreet and Michael, Julian and Hill, Felix and Levy, Omer and Bowman, Samuel R.},\n",
            "      note={In the Proceedings of ICLR.},\n",
            "      year={2019}\n",
            "    }\n",
            "    \n",
            "    Note that each GLUE dataset has its own citation. Please see the source to see\n",
            "    the correct citation for each contained dataset.\"\"\",\n",
            ")\n"
          ],
          "name": "stdout"
        }
      ]
    },
    {
      "cell_type": "markdown",
      "metadata": {
        "id": "MqhgvrEoRHiv"
      },
      "source": [
        "### Dataset Preprocessing"
      ]
    },
    {
      "cell_type": "markdown",
      "metadata": {
        "id": "jAH9cbwjRXxf"
      },
      "source": [
        "Convert Tensors to Pandas Dataframe"
      ]
    },
    {
      "cell_type": "code",
      "metadata": {
        "id": "qgctKUt_M6P0"
      },
      "source": [
        "df_train = tfds.as_dataframe(train_data, info)\n",
        "df_test = tfds.as_dataframe(test_data, info)\n",
        "df_val = tfds.as_dataframe(val_data, info)"
      ],
      "execution_count": 8,
      "outputs": []
    },
    {
      "cell_type": "markdown",
      "metadata": {
        "id": "s01SBELXRpbC"
      },
      "source": [
        "Dataset Shapes and Labels Balancement"
      ]
    },
    {
      "cell_type": "code",
      "metadata": {
        "colab": {
          "base_uri": "https://localhost:8080/"
        },
        "id": "vGI_Tay_RwFG",
        "outputId": "55d8a6a1-18f2-41c4-de59-7c9aaa63bac5"
      },
      "source": [
        "df_train.shape"
      ],
      "execution_count": 9,
      "outputs": [
        {
          "output_type": "execute_result",
          "data": {
            "text/plain": [
              "(8551, 3)"
            ]
          },
          "metadata": {
            "tags": []
          },
          "execution_count": 9
        }
      ]
    },
    {
      "cell_type": "code",
      "metadata": {
        "colab": {
          "base_uri": "https://localhost:8080/",
          "height": 298
        },
        "id": "GmmAeNTSR4py",
        "outputId": "9456f5bf-685e-4368-b31c-f01adc73d9cb"
      },
      "source": [
        "df_train.label.plot(kind='hist', title='Target Dristribution in Training Set')"
      ],
      "execution_count": 10,
      "outputs": [
        {
          "output_type": "execute_result",
          "data": {
            "text/plain": [
              "<matplotlib.axes._subplots.AxesSubplot at 0x7ff7004f3990>"
            ]
          },
          "metadata": {
            "tags": []
          },
          "execution_count": 10
        },
        {
          "output_type": "display_data",
          "data": {
            "image/png": "[encoded data removed]",
            "text/plain": [
              "<Figure size 432x288 with 1 Axes>"
            ]
          },
          "metadata": {
            "tags": [],
            "needs_background": "light"
          }
        }
      ]
    },
    {
      "cell_type": "code",
      "metadata": {
        "colab": {
          "base_uri": "https://localhost:8080/"
        },
        "id": "PjVCshdxJZoq",
        "outputId": "b3b5e65d-e286-4a58-903c-f3834bb9f41c"
      },
      "source": [
        "df_val.shape"
      ],
      "execution_count": 11,
      "outputs": [
        {
          "output_type": "execute_result",
          "data": {
            "text/plain": [
              "(1043, 3)"
            ]
          },
          "metadata": {
            "tags": []
          },
          "execution_count": 11
        }
      ]
    },
    {
      "cell_type": "code",
      "metadata": {
        "colab": {
          "base_uri": "https://localhost:8080/",
          "height": 298
        },
        "id": "PlyZvSR7JbZE",
        "outputId": "c8386883-ca1a-441a-adf4-67a8818eaa71"
      },
      "source": [
        "df_val.label.plot(kind='hist', title='Target Dristribution in Validation Set')"
      ],
      "execution_count": 12,
      "outputs": [
        {
          "output_type": "execute_result",
          "data": {
            "text/plain": [
              "<matplotlib.axes._subplots.AxesSubplot at 0x7ff700259510>"
            ]
          },
          "metadata": {
            "tags": []
          },
          "execution_count": 12
        },
        {
          "output_type": "display_data",
          "data": {
            "image/png": "[encoded data removed]",
            "text/plain": [
              "<Figure size 432x288 with 1 Axes>"
            ]
          },
          "metadata": {
            "tags": [],
            "needs_background": "light"
          }
        }
      ]
    },
    {
      "cell_type": "code",
      "metadata": {
        "colab": {
          "base_uri": "https://localhost:8080/"
        },
        "id": "hpM-7bNsR7Nb",
        "outputId": "53814267-b7db-4e8e-df03-067cc2a0b60f"
      },
      "source": [
        "df_test.shape"
      ],
      "execution_count": 13,
      "outputs": [
        {
          "output_type": "execute_result",
          "data": {
            "text/plain": [
              "(1063, 3)"
            ]
          },
          "metadata": {
            "tags": []
          },
          "execution_count": 13
        }
      ]
    },
    {
      "cell_type": "code",
      "metadata": {
        "colab": {
          "base_uri": "https://localhost:8080/",
          "height": 298
        },
        "id": "hlJRwyvgSArz",
        "outputId": "334a0e94-1a9d-47f0-de35-3f3ce4bc0b2d"
      },
      "source": [
        "df_test.label.plot(kind='hist', title='Target Dristribution in Test Set')"
      ],
      "execution_count": 14,
      "outputs": [
        {
          "output_type": "execute_result",
          "data": {
            "text/plain": [
              "<matplotlib.axes._subplots.AxesSubplot at 0x7ff70034eed0>"
            ]
          },
          "metadata": {
            "tags": []
          },
          "execution_count": 14
        },
        {
          "output_type": "display_data",
          "data": {
            "image/png": "[encoded data removed]",
            "text/plain": [
              "<Figure size 432x288 with 1 Axes>"
            ]
          },
          "metadata": {
            "tags": [],
            "needs_background": "light"
          }
        }
      ]
    },
    {
      "cell_type": "code",
      "metadata": {
        "colab": {
          "base_uri": "https://localhost:8080/",
          "height": 204
        },
        "id": "gvtUKvgyH_Qm",
        "outputId": "4b0bd987-4ad7-4b77-a2cd-bac72b300dee"
      },
      "source": [
        "df_train.head()"
      ],
      "execution_count": 15,
      "outputs": [
        {
          "output_type": "execute_result",
          "data": {
            "text/html": [
              "<div>\n",
              "<style scoped>\n",
              "    .dataframe tbody tr th:only-of-type {\n",
              "        vertical-align: middle;\n",
              "    }\n",
              "\n",
              "    .dataframe tbody tr th {\n",
              "        vertical-align: top;\n",
              "    }\n",
              "\n",
              "    .dataframe thead th {\n",
              "        text-align: right;\n",
              "    }\n",
              "</style>\n",
              "<table border=\"1\" class=\"dataframe\">\n",
              "  <thead>\n",
              "    <tr style=\"text-align: right;\">\n",
              "      <th></th>\n",
              "      <th>idx</th>\n",
              "      <th>label</th>\n",
              "      <th>sentence</th>\n",
              "    </tr>\n",
              "  </thead>\n",
              "  <tbody>\n",
              "    <tr>\n",
              "      <th>0</th>\n",
              "      <td>1680</td>\n",
              "      <td>1</td>\n",
              "      <td>b'It is this hat that it is certain that he wa...</td>\n",
              "    </tr>\n",
              "    <tr>\n",
              "      <th>1</th>\n",
              "      <td>1456</td>\n",
              "      <td>1</td>\n",
              "      <td>b'Her efficient looking up of the answer pleas...</td>\n",
              "    </tr>\n",
              "    <tr>\n",
              "      <th>2</th>\n",
              "      <td>4223</td>\n",
              "      <td>1</td>\n",
              "      <td>b'Both the workers will wear carnations.'</td>\n",
              "    </tr>\n",
              "    <tr>\n",
              "      <th>3</th>\n",
              "      <td>4093</td>\n",
              "      <td>1</td>\n",
              "      <td>b'John enjoyed drawing trees for his syntax ho...</td>\n",
              "    </tr>\n",
              "    <tr>\n",
              "      <th>4</th>\n",
              "      <td>7111</td>\n",
              "      <td>1</td>\n",
              "      <td>b'We consider Leslie rather foolish, and Lou a...</td>\n",
              "    </tr>\n",
              "  </tbody>\n",
              "</table>\n",
              "</div>"
            ],
            "text/plain": [
              "    idx  label                                           sentence\n",
              "0  1680      1  b'It is this hat that it is certain that he wa...\n",
              "1  1456      1  b'Her efficient looking up of the answer pleas...\n",
              "2  4223      1          b'Both the workers will wear carnations.'\n",
              "3  4093      1  b'John enjoyed drawing trees for his syntax ho...\n",
              "4  7111      1  b'We consider Leslie rather foolish, and Lou a..."
            ]
          },
          "metadata": {
            "tags": []
          },
          "execution_count": 15
        }
      ]
    },
    {
      "cell_type": "markdown",
      "metadata": {
        "id": "61H8BXVfSKgk"
      },
      "source": [
        "Decode `sentence` column from Train and Test datasets"
      ]
    },
    {
      "cell_type": "code",
      "metadata": {
        "id": "4pQcbxxiSN2J"
      },
      "source": [
        "df_train['sentence'] = df_train['sentence'].str.decode('utf8')\n",
        "df_val['sentence'] = df_val['sentence'].str.decode('utf8')\n",
        "df_test['sentence'] = df_test['sentence'].str.decode('utf8')"
      ],
      "execution_count": 16,
      "outputs": []
    },
    {
      "cell_type": "markdown",
      "metadata": {
        "id": "eLqJEgh2Tyyr"
      },
      "source": [
        "Visualize first rows of the dataframe"
      ]
    },
    {
      "cell_type": "code",
      "metadata": {
        "colab": {
          "base_uri": "https://localhost:8080/",
          "height": 204
        },
        "id": "feXDJKaATy96",
        "outputId": "d0c14121-bc49-42bb-8e4c-db18a5fcb17e"
      },
      "source": [
        "df_train.head(5)"
      ],
      "execution_count": 17,
      "outputs": [
        {
          "output_type": "execute_result",
          "data": {
            "text/html": [
              "<div>\n",
              "<style scoped>\n",
              "    .dataframe tbody tr th:only-of-type {\n",
              "        vertical-align: middle;\n",
              "    }\n",
              "\n",
              "    .dataframe tbody tr th {\n",
              "        vertical-align: top;\n",
              "    }\n",
              "\n",
              "    .dataframe thead th {\n",
              "        text-align: right;\n",
              "    }\n",
              "</style>\n",
              "<table border=\"1\" class=\"dataframe\">\n",
              "  <thead>\n",
              "    <tr style=\"text-align: right;\">\n",
              "      <th></th>\n",
              "      <th>idx</th>\n",
              "      <th>label</th>\n",
              "      <th>sentence</th>\n",
              "    </tr>\n",
              "  </thead>\n",
              "  <tbody>\n",
              "    <tr>\n",
              "      <th>0</th>\n",
              "      <td>1680</td>\n",
              "      <td>1</td>\n",
              "      <td>It is this hat that it is certain that he was ...</td>\n",
              "    </tr>\n",
              "    <tr>\n",
              "      <th>1</th>\n",
              "      <td>1456</td>\n",
              "      <td>1</td>\n",
              "      <td>Her efficient looking up of the answer pleased...</td>\n",
              "    </tr>\n",
              "    <tr>\n",
              "      <th>2</th>\n",
              "      <td>4223</td>\n",
              "      <td>1</td>\n",
              "      <td>Both the workers will wear carnations.</td>\n",
              "    </tr>\n",
              "    <tr>\n",
              "      <th>3</th>\n",
              "      <td>4093</td>\n",
              "      <td>1</td>\n",
              "      <td>John enjoyed drawing trees for his syntax home...</td>\n",
              "    </tr>\n",
              "    <tr>\n",
              "      <th>4</th>\n",
              "      <td>7111</td>\n",
              "      <td>1</td>\n",
              "      <td>We consider Leslie rather foolish, and Lou a c...</td>\n",
              "    </tr>\n",
              "  </tbody>\n",
              "</table>\n",
              "</div>"
            ],
            "text/plain": [
              "    idx  label                                           sentence\n",
              "0  1680      1  It is this hat that it is certain that he was ...\n",
              "1  1456      1  Her efficient looking up of the answer pleased...\n",
              "2  4223      1             Both the workers will wear carnations.\n",
              "3  4093      1  John enjoyed drawing trees for his syntax home...\n",
              "4  7111      1  We consider Leslie rather foolish, and Lou a c..."
            ]
          },
          "metadata": {
            "tags": []
          },
          "execution_count": 17
        }
      ]
    },
    {
      "cell_type": "code",
      "metadata": {
        "colab": {
          "base_uri": "https://localhost:8080/",
          "height": 204
        },
        "id": "EKD1HbTQJpbF",
        "outputId": "c926c306-4d54-42dc-ac94-e6f5cb75e213"
      },
      "source": [
        "df_val.head(5)"
      ],
      "execution_count": 18,
      "outputs": [
        {
          "output_type": "execute_result",
          "data": {
            "text/html": [
              "<div>\n",
              "<style scoped>\n",
              "    .dataframe tbody tr th:only-of-type {\n",
              "        vertical-align: middle;\n",
              "    }\n",
              "\n",
              "    .dataframe tbody tr th {\n",
              "        vertical-align: top;\n",
              "    }\n",
              "\n",
              "    .dataframe thead th {\n",
              "        text-align: right;\n",
              "    }\n",
              "</style>\n",
              "<table border=\"1\" class=\"dataframe\">\n",
              "  <thead>\n",
              "    <tr style=\"text-align: right;\">\n",
              "      <th></th>\n",
              "      <th>idx</th>\n",
              "      <th>label</th>\n",
              "      <th>sentence</th>\n",
              "    </tr>\n",
              "  </thead>\n",
              "  <tbody>\n",
              "    <tr>\n",
              "      <th>0</th>\n",
              "      <td>878</td>\n",
              "      <td>1</td>\n",
              "      <td>That picture of Susan offended her.</td>\n",
              "    </tr>\n",
              "    <tr>\n",
              "      <th>1</th>\n",
              "      <td>787</td>\n",
              "      <td>0</td>\n",
              "      <td>I noticed the.</td>\n",
              "    </tr>\n",
              "    <tr>\n",
              "      <th>2</th>\n",
              "      <td>458</td>\n",
              "      <td>0</td>\n",
              "      <td>Mary revealed himself to John.</td>\n",
              "    </tr>\n",
              "    <tr>\n",
              "      <th>3</th>\n",
              "      <td>423</td>\n",
              "      <td>1</td>\n",
              "      <td>Frank Churchill crossed the street.</td>\n",
              "    </tr>\n",
              "    <tr>\n",
              "      <th>4</th>\n",
              "      <td>466</td>\n",
              "      <td>0</td>\n",
              "      <td>Everyone hopes everyone to sleep.</td>\n",
              "    </tr>\n",
              "  </tbody>\n",
              "</table>\n",
              "</div>"
            ],
            "text/plain": [
              "   idx  label                             sentence\n",
              "0  878      1  That picture of Susan offended her.\n",
              "1  787      0                       I noticed the.\n",
              "2  458      0       Mary revealed himself to John.\n",
              "3  423      1  Frank Churchill crossed the street.\n",
              "4  466      0    Everyone hopes everyone to sleep."
            ]
          },
          "metadata": {
            "tags": []
          },
          "execution_count": 18
        }
      ]
    },
    {
      "cell_type": "code",
      "metadata": {
        "colab": {
          "base_uri": "https://localhost:8080/",
          "height": 204
        },
        "id": "IZHotMnMT6Sw",
        "outputId": "edada5d9-1d92-468a-97a9-34543de4bdba"
      },
      "source": [
        "df_test.head(5)"
      ],
      "execution_count": 19,
      "outputs": [
        {
          "output_type": "execute_result",
          "data": {
            "text/html": [
              "<div>\n",
              "<style scoped>\n",
              "    .dataframe tbody tr th:only-of-type {\n",
              "        vertical-align: middle;\n",
              "    }\n",
              "\n",
              "    .dataframe tbody tr th {\n",
              "        vertical-align: top;\n",
              "    }\n",
              "\n",
              "    .dataframe thead th {\n",
              "        text-align: right;\n",
              "    }\n",
              "</style>\n",
              "<table border=\"1\" class=\"dataframe\">\n",
              "  <thead>\n",
              "    <tr style=\"text-align: right;\">\n",
              "      <th></th>\n",
              "      <th>idx</th>\n",
              "      <th>label</th>\n",
              "      <th>sentence</th>\n",
              "    </tr>\n",
              "  </thead>\n",
              "  <tbody>\n",
              "    <tr>\n",
              "      <th>0</th>\n",
              "      <td>163</td>\n",
              "      <td>-1</td>\n",
              "      <td>Brian was wiping behind the stove.</td>\n",
              "    </tr>\n",
              "    <tr>\n",
              "      <th>1</th>\n",
              "      <td>131</td>\n",
              "      <td>-1</td>\n",
              "      <td>You could give a headache to a Tylenol.</td>\n",
              "    </tr>\n",
              "    <tr>\n",
              "      <th>2</th>\n",
              "      <td>1021</td>\n",
              "      <td>-1</td>\n",
              "      <td>I want to meet at 6.</td>\n",
              "    </tr>\n",
              "    <tr>\n",
              "      <th>3</th>\n",
              "      <td>166</td>\n",
              "      <td>-1</td>\n",
              "      <td>Packages carry easily.</td>\n",
              "    </tr>\n",
              "    <tr>\n",
              "      <th>4</th>\n",
              "      <td>1039</td>\n",
              "      <td>-1</td>\n",
              "      <td>Many people said they were sick who weren't.</td>\n",
              "    </tr>\n",
              "  </tbody>\n",
              "</table>\n",
              "</div>"
            ],
            "text/plain": [
              "    idx  label                                      sentence\n",
              "0   163     -1            Brian was wiping behind the stove.\n",
              "1   131     -1       You could give a headache to a Tylenol.\n",
              "2  1021     -1                          I want to meet at 6.\n",
              "3   166     -1                        Packages carry easily.\n",
              "4  1039     -1  Many people said they were sick who weren't."
            ]
          },
          "metadata": {
            "tags": []
          },
          "execution_count": 19
        }
      ]
    },
    {
      "cell_type": "markdown",
      "metadata": {
        "id": "gYOrIkgsWdDK"
      },
      "source": [
        "Save the original dataset and the cleaned dataset"
      ]
    },
    {
      "cell_type": "code",
      "metadata": {
        "id": "L2nF6CnffV9Q"
      },
      "source": [
        "FINE_TUNING_DIR = \"/content/drive/MyDrive/saved_models/fine_tuned/ebano_albert_cola\"\n",
        "\n",
        "DATASET_DIR = os.path.join(FINE_TUNING_DIR, \"dataset\")\n",
        "MODEL_DIR = os.path.join(FINE_TUNING_DIR, \"model\")"
      ],
      "execution_count": 20,
      "outputs": []
    },
    {
      "cell_type": "code",
      "metadata": {
        "colab": {
          "base_uri": "https://localhost:8080/"
        },
        "id": "4HDGj-MhfkyC",
        "outputId": "abc95a49-e894-4008-93fc-c6c1a7be7e27"
      },
      "source": [
        "mkdir '$FINE_TUNING_DIR'"
      ],
      "execution_count": 21,
      "outputs": [
        {
          "output_type": "stream",
          "text": [
            "mkdir: cannot create directory ‘/content/drive/MyDrive/saved_models/fine_tuned/ebano_albert_cola’: File exists\n"
          ],
          "name": "stdout"
        }
      ]
    },
    {
      "cell_type": "code",
      "metadata": {
        "colab": {
          "base_uri": "https://localhost:8080/"
        },
        "id": "W5pD3DmhfqmL",
        "outputId": "9759a3fd-286b-49c4-c246-181a864bd156"
      },
      "source": [
        "mkdir '$DATASET_DIR'"
      ],
      "execution_count": 22,
      "outputs": [
        {
          "output_type": "stream",
          "text": [
            "mkdir: cannot create directory ‘/content/drive/MyDrive/saved_models/fine_tuned/ebano_albert_cola/dataset’: File exists\n"
          ],
          "name": "stdout"
        }
      ]
    },
    {
      "cell_type": "code",
      "metadata": {
        "colab": {
          "base_uri": "https://localhost:8080/"
        },
        "id": "_E4uilTCftdu",
        "outputId": "acbe4132-39c7-4aae-8626-1c155d8cb948"
      },
      "source": [
        "mkdir '$MODEL_DIR'"
      ],
      "execution_count": 23,
      "outputs": [
        {
          "output_type": "stream",
          "text": [
            "mkdir: cannot create directory ‘/content/drive/MyDrive/saved_models/fine_tuned/ebano_albert_cola/model’: File exists\n"
          ],
          "name": "stdout"
        }
      ]
    },
    {
      "cell_type": "code",
      "metadata": {
        "id": "UyLm9xVyWgXr"
      },
      "source": [
        "df_train.to_csv(os.path.join(DATASET_DIR,\"df_train.csv\"))\n",
        "df_val.to_csv(os.path.join(DATASET_DIR,\"df_val.csv\"))\n",
        "df_test.to_csv(os.path.join(DATASET_DIR,\"df_test.csv\"))"
      ],
      "execution_count": 24,
      "outputs": []
    },
    {
      "cell_type": "markdown",
      "metadata": {
        "id": "p2qe9pSIW2zU"
      },
      "source": [
        "Convert train and test dataframe into tensors"
      ]
    },
    {
      "cell_type": "code",
      "metadata": {
        "id": "H0pCTtDOW8B_"
      },
      "source": [
        "train_data = tf.data.Dataset.from_tensor_slices((df_train.sentence, df_train.label))\n",
        "val_data = tf.data.Dataset.from_tensor_slices((df_val.sentence, df_val.label))\n",
        "test_data = tf.data.Dataset.from_tensor_slices((df_test.sentence, df_test.label))"
      ],
      "execution_count": 25,
      "outputs": []
    },
    {
      "cell_type": "code",
      "metadata": {
        "id": "Ma3uFKuKr5RL"
      },
      "source": [
        "del df_train\n",
        "del df_test\n",
        "del df_val"
      ],
      "execution_count": 26,
      "outputs": []
    },
    {
      "cell_type": "markdown",
      "metadata": {
        "id": "2K8FpSvqYoZq"
      },
      "source": [
        "## AlbertModel Class"
      ]
    },
    {
      "cell_type": "code",
      "metadata": {
        "id": "n6IybfogJJ9E"
      },
      "source": [
        "from official.nlp.data import classifier_data_lib\n",
        "from official.nlp.bert import tokenization\n",
        "import tensorflow_addons as tfa\n",
        "\n",
        "class AlbertModel:\n",
        "  def __init__(self):\n",
        "\n",
        "    self.pretrained_albert_layer = None\n",
        "    self.sp_model_file = None\n",
        "    self.tokenizer = None\n",
        "    self.num_classes = None\n",
        "    self.max_seq_length = None\n",
        "    self.label_list = None\n",
        "    self.TF_HUB_URL = \"https://tfhub.dev/tensorflow/albert_en_base/2\"\n",
        "\n",
        "\n",
        "    self.info_dict = {}\n",
        "    return\n",
        "\n",
        "  def load_pretrained_albert_tf_hub_from_url(self, url=None, trainable_flag=True):\n",
        "    if url is None:\n",
        "      url = self.TF_HUB_URL\n",
        "    self.pretrained_albert_layer = hub.KerasLayer(url, trainable=trainable_flag)\n",
        "    self.pretrained_albert_layer._name = \"albert_layer\"\n",
        "    \n",
        "    self.info_dict.update({\"trained_albert_weights\":trainable_flag})\n",
        "    return\n",
        "\n",
        "  def load_pretrained_albert_tf_hub_from_dir(self, tf_hub_model_dir):\n",
        "    self.pretrained_albert_layer = hub.KerasLayer(tf_hub_model_dir, trainable=trainable_flag)\n",
        "    self.pretrained_albert_layer._name = \"albert_layer\"\n",
        "\n",
        "    self.info_dict.update({\"trained_albert_weights\":trainable_flag})\n",
        "    return\n",
        "\n",
        "  \n",
        "  def load_model(self, model_directory):\n",
        "    # Load Tokenizer \n",
        "    with open(os.path.join(model_directory, \"albert_tokenizer.pickle\"), \"rb\") as tokenizer_file:\n",
        "        self.tokenizer = pickle.load(tokenizer_file)\n",
        "\n",
        "    # Load Model\n",
        "    self.model = keras.models.load_model(model_directory)\n",
        "\n",
        "    # Read from metadata file the max_seq_length\n",
        "    with open(os.path.join(model_directory, \"metadata\", \"experimenti_info.json\"), \"rb\") as metadata_file:\n",
        "      self.info_dict = json.load(metadata_file)\n",
        "      self.max_seq_length = self.info_dict[\"max_seq_length\"]\n",
        "\n",
        "    # Load the feature extractor (albert layer)\n",
        "    self.extractor = tf.keras.Model(inputs=self.model.inputs,\n",
        "                                    outputs=[self.model.get_layer(\"albert_layer\").output])\n",
        "\n",
        "    print(\"INFO: model loaded\")\n",
        "    self.model.summary()\n",
        "    print(\"INFO: features extractor loaded\")\n",
        "    self.extractor.summary()\n",
        "    return\n",
        "\n",
        "\n",
        "  def create_model(self, num_classes, label_list, label_names=None, dropout_percentage=0.2, max_seq_length=256):\n",
        "\n",
        "    self.num_classes = num_classes\n",
        "    self.max_seq_length = max_seq_length\n",
        "    self.label_list = label_list\n",
        "\n",
        "    if self.num_classes > 2:\n",
        "      activation_function = \"softmax\"\n",
        "    else:\n",
        "      activation_function = \"sigmoid\"\n",
        "\n",
        "    # Save parameters setting\n",
        "    self.info_dict.update({\"num_classes\":num_classes, \"label_list\":label_list, \"label_names\":label_names, \n",
        "                           \"dropout_percentage\":dropout_percentage, \"max_seq_length\":max_seq_length, \"output_activation\":activation_function})\n",
        "\n",
        "\n",
        "    # Define Albert inputs\n",
        "    input_ids = tf.keras.layers.Input(shape=(max_seq_length,), dtype=tf.int32,\n",
        "                                          name=\"input_ids\")\n",
        "    input_mask = tf.keras.layers.Input(shape=(max_seq_length,), dtype=tf.int32,\n",
        "                                      name=\"input_mask\")\n",
        "    segment_ids = tf.keras.layers.Input(shape=(max_seq_length,), dtype=tf.int32,\n",
        "                                        name=\"segment_ids\")\n",
        "    \n",
        "    albert_inputs = dict(input_word_ids=input_ids,\n",
        "                      input_mask=input_mask,\n",
        "                      input_type_ids=segment_ids)\n",
        "    \n",
        "    # Define Albert block\n",
        "    albert_outputs = self.pretrained_albert_layer(albert_inputs)\n",
        "\n",
        "    self.sp_model_file = self.pretrained_albert_layer.resolved_object.sp_model_file.asset_path.numpy()\n",
        "    self.tokenizer = tokenization.FullSentencePieceTokenizer(self.sp_model_file)\n",
        "\n",
        "    #pooled_output = albert_outputs[\"pooled_output\"]\n",
        "    #sequence_output = albert_outputs[\"sequence_output\"]\n",
        "\n",
        "    drop = tf.keras.layers.Dropout(dropout_percentage)(albert_outputs[\"pooled_output\"])\n",
        "\n",
        "    classification_output = tf.keras.layers.Dense(num_classes, activation=activation_function, name=\"classification\")(drop)\n",
        "\n",
        "    model = tf.keras.Model(\n",
        "        inputs=albert_inputs,\n",
        "        outputs=classification_output\n",
        "    )\n",
        "\n",
        "    self.model = model\n",
        "    \n",
        "    return\n",
        "\n",
        "  def fit(self, train_data, test_data, epochs, batch_size, shuffle_batch_size=10000, verbose=1, drop_remainder=False):\n",
        "\n",
        "    self.info_dict.update({\"epochs\":epochs, \"batch_size\":batch_size, \"shuffle_batch_size\":shuffle_batch_size})\n",
        "\n",
        "    with tf.device('/cpu:1'):\n",
        "          # train\n",
        "          train_data = (train_data.map(self.to_feature_map, num_parallel_calls=tf.data.experimental.AUTOTUNE)\n",
        "                                  .shuffle(shuffle_batch_size)\n",
        "                                  .batch(batch_size, drop_remainder=drop_remainder)\n",
        "                                  .prefetch(tf.data.experimental.AUTOTUNE))\n",
        "          # valid\n",
        "          test_data = (test_data.map(self.to_feature_map, num_parallel_calls=tf.data.experimental.AUTOTUNE)\n",
        "                                .batch(batch_size, drop_remainder=drop_remainder)\n",
        "                                .prefetch(tf.data.experimental.AUTOTUNE))\n",
        "\n",
        "    self.history = self.model.fit(train_data,\n",
        "                            validation_data=test_data,\n",
        "                            epochs=epochs,\n",
        "                            verbose=verbose)\n",
        "    \n",
        "    return self.history\n",
        "\n",
        "  def compile(self, learning_rate=2e-5, loss=\"sparse_categorical_crossentropy\", metrics=['accuracy']):\n",
        "    self.info_dict.update({\"learning_rate\":learning_rate, \"loss\":loss.__str__(), \"metrics\":metrics})\n",
        "\n",
        "    self.model.compile(optimizer=tf.keras.optimizers.Adam(learning_rate=learning_rate),\n",
        "    #self.model.compile(optimizer=tfa.optimizers.AdamW(learning_rate=learning_rate),\n",
        "                        loss=loss,\n",
        "                        metrics=metrics\n",
        "                        )\n",
        "\n",
        "\n",
        "    return\n",
        "\n",
        "  def to_feature(self, text, label):\n",
        "      example = classifier_data_lib.InputExample(guid=None,\n",
        "                                                  text_a=text.numpy(),\n",
        "                                                  text_b=None,\n",
        "                                                  label=label.numpy())\n",
        "\n",
        "      feature = classifier_data_lib.convert_single_example(0, example, self.label_list, self.max_seq_length, self.tokenizer)\n",
        "\n",
        "      return (feature.input_ids, feature.input_mask, feature.segment_ids, feature.label_id)\n",
        "\n",
        "  def to_feature_map(self, text, label):\n",
        "      input_ids, input_mask, segment_ids, label_id = tf.py_function(self.to_feature,\n",
        "                                                                    inp=[text, label],\n",
        "                                                                    Tout=[tf.int32, tf.int32, tf.int32, tf.int32])\n",
        "\n",
        "      input_ids.set_shape([self.max_seq_length])\n",
        "      input_mask.set_shape([self.max_seq_length])\n",
        "      segment_ids.set_shape([self.max_seq_length])\n",
        "      label_id.set_shape([])\n",
        "\n",
        "      x = {\n",
        "          'input_word_ids': input_ids,\n",
        "          'input_mask': input_mask,\n",
        "          'input_type_ids': segment_ids\n",
        "      }\n",
        "\n",
        "      return (x, label_id)\n",
        "\n",
        "  def save_model(self, folder_name, experiment_description=None):\n",
        "        if folder_name is None:\n",
        "            ts = time.time()\n",
        "            folder_name = datetime.datetime.fromtimestamp(ts).strftime('%Y%m%d_%H%M%S')\n",
        "\n",
        "        if experiment_description is None:\n",
        "            out_name = '{}_albert_model'.format(folder_name)\n",
        "        else:\n",
        "            out_name = '{}_albert_model_{}'.format(folder_name, experiment_description)\n",
        "\n",
        "        output_path = os.path.join(folder_name, out_name)\n",
        "        metadata_path = os.path.join(output_path, \"metadata\")\n",
        "        try:\n",
        "            os.mkdir(output_path)\n",
        "            os.mkdir(metadata_path)\n",
        "        except OSError:\n",
        "            print(\"Creation of the output directory %s failed\" % output_path)\n",
        "\n",
        "        # convert the history.history dict to a pandas DataFrame:\n",
        "        hist_df = pd.DataFrame(self.history.history)\n",
        "\n",
        "        # save to json:\n",
        "        hist_json_file = '{}_history.json'.format(folder_name)\n",
        "        hist_json_fie_path = os.path.join(metadata_path, hist_json_file)\n",
        "        with open(hist_json_fie_path, mode='w+') as f:\n",
        "            hist_df.to_json(f)\n",
        "\n",
        "        self.model.save(output_path)\n",
        "\n",
        "        with open(os.path.join(output_path, 'albert_tokenizer.pickle'), 'wb') as handle:\n",
        "            pickle.dump(self.tokenizer, handle, protocol=pickle.HIGHEST_PROTOCOL)\n",
        "\n",
        "        with open(os.path.join(output_path, 'metadata', 'experiment_info.json'), 'w') as fp:\n",
        "            json.dump(self.info_dict, fp)\n",
        "\n",
        "        print(\"INFO: Model saved in path: \", output_path)\n",
        "        return output_path\n",
        "\n",
        "\n",
        "  def summary(self):\n",
        "    self.model.summary()\n",
        "    return\n",
        "\n",
        "  def get_model(self):\n",
        "    return self.model\n",
        "\n",
        "  def get_tokenizer(self):\n",
        "    return self.tokenizer\n",
        "\n",
        "\n"
      ],
      "execution_count": 27,
      "outputs": []
    },
    {
      "cell_type": "markdown",
      "metadata": {
        "id": "N_ynd7ZKXTk2"
      },
      "source": [
        "## Create an instance of AlbertModel"
      ]
    },
    {
      "cell_type": "markdown",
      "metadata": {
        "id": "bmk42K7AXmVn"
      },
      "source": [
        "Define TF_HUB_URL and TF_HUB_DIR \n"
      ]
    },
    {
      "cell_type": "code",
      "metadata": {
        "id": "gi73ODYIXrll"
      },
      "source": [
        "TF_HUB_DIR = \"/content/drive/MyDrive/saved_models/pre_trained/albert_base/albert_en_base_2\"\n",
        "TF_HUB_URL = \"https://tfhub.dev/tensorflow/albert_en_base/2\""
      ],
      "execution_count": 28,
      "outputs": []
    },
    {
      "cell_type": "markdown",
      "metadata": {
        "id": "oOZg5kQAXdg2"
      },
      "source": [
        "### Optional: Download TF_HUB_MODULE\n",
        "\n",
        "Uncomment these lines if want to download and tar the TF Hub Module on local drive."
      ]
    },
    {
      "cell_type": "code",
      "metadata": {
        "id": "ydBk5ZqGXcvS"
      },
      "source": [
        "# !wget \"https://storage.googleapis.com/tfhub-modules/tensorflow/albert_en_base/2.tar.gz\""
      ],
      "execution_count": 29,
      "outputs": []
    },
    {
      "cell_type": "code",
      "metadata": {
        "id": "mo77vaLDYc2Y"
      },
      "source": [
        "# mkdir '$TF_HUB_DIR'"
      ],
      "execution_count": 30,
      "outputs": []
    },
    {
      "cell_type": "code",
      "metadata": {
        "id": "R7T2anQAYo8f"
      },
      "source": [
        "# !tar -xvf  '2.tar.gz' -C '$TF_HUB_DIR'\n"
      ],
      "execution_count": 31,
      "outputs": []
    },
    {
      "cell_type": "markdown",
      "metadata": {
        "id": "mFsmpQJWYKoM"
      },
      "source": [
        "### Define, Create and Load Model"
      ]
    },
    {
      "cell_type": "markdown",
      "metadata": {
        "id": "dQLkUoerZoSe"
      },
      "source": [
        "Define model parameters and settings"
      ]
    },
    {
      "cell_type": "code",
      "metadata": {
        "id": "DIxVeuWqZofh"
      },
      "source": [
        "LABEL_LIST = [0,1]\n",
        "LABEL_NAMES = [\"Unacceptable\", \"Acceptable\"]\n",
        "NUM_CLASSES = len(LABEL_LIST)\n",
        "max_seq_length = 128\n",
        "activation_function = \"sigmoid\"\n",
        "learning_rate = 1e-5\n",
        "dropout_perc = 0.2"
      ],
      "execution_count": 32,
      "outputs": []
    },
    {
      "cell_type": "markdown",
      "metadata": {
        "id": "uwHJYfxxZrxW"
      },
      "source": [
        "Create and instance of the AlbertModel Class"
      ]
    },
    {
      "cell_type": "code",
      "metadata": {
        "id": "sCemLL0IZ1_U"
      },
      "source": [
        "albert_model = AlbertModel()"
      ],
      "execution_count": 33,
      "outputs": []
    },
    {
      "cell_type": "markdown",
      "metadata": {
        "id": "hfku2CMpZ4Iv"
      },
      "source": [
        "Optional: Load tf_hub_module from local drive (only if previously have downloaded and unzipped in local drive)."
      ]
    },
    {
      "cell_type": "code",
      "metadata": {
        "id": "iQsfGLWUaFSp"
      },
      "source": [
        "# albert_model.load_pretrained_albert_tf_hub_from_dir(TF_HUB_DIR)"
      ],
      "execution_count": 34,
      "outputs": []
    },
    {
      "cell_type": "markdown",
      "metadata": {
        "id": "whg_7H0SaKn9"
      },
      "source": [
        "Load TF_HUB_MODULE from URL"
      ]
    },
    {
      "cell_type": "code",
      "metadata": {
        "id": "vSuJBpgKaQU6"
      },
      "source": [
        "albert_model.load_pretrained_albert_tf_hub_from_url(TF_HUB_URL)"
      ],
      "execution_count": 35,
      "outputs": []
    },
    {
      "cell_type": "markdown",
      "metadata": {
        "id": "HAi9EOOEaS1V"
      },
      "source": [
        "Create the full model and print the summary"
      ]
    },
    {
      "cell_type": "code",
      "metadata": {
        "colab": {
          "base_uri": "https://localhost:8080/"
        },
        "id": "G_9Q3TuE4ZdN",
        "outputId": "1d4dd3a4-26ac-4061-977a-cdd5e31a52fa"
      },
      "source": [
        "albert_model.create_model(num_classes=NUM_CLASSES, label_list=LABEL_LIST, label_names=LABEL_NAMES, dropout_percentage=dropout_perc, max_seq_length=max_seq_length)\n",
        "albert_model.summary()"
      ],
      "execution_count": 36,
      "outputs": [
        {
          "output_type": "stream",
          "text": [
            "Model: \"model\"\n",
            "__________________________________________________________________________________________________\n",
            "Layer (type)                    Output Shape         Param #     Connected to                     \n",
            "==================================================================================================\n",
            "input_mask (InputLayer)         [(None, 128)]        0                                            \n",
            "__________________________________________________________________________________________________\n",
            "segment_ids (InputLayer)        [(None, 128)]        0                                            \n",
            "__________________________________________________________________________________________________\n",
            "input_ids (InputLayer)          [(None, 128)]        0                                            \n",
            "__________________________________________________________________________________________________\n",
            "albert_layer (KerasLayer)       {'pooled_output': (N 11683584    input_mask[0][0]                 \n",
            "                                                                 segment_ids[0][0]                \n",
            "                                                                 input_ids[0][0]                  \n",
            "__________________________________________________________________________________________________\n",
            "dropout (Dropout)               (None, 768)          0           albert_layer[0][13]              \n",
            "__________________________________________________________________________________________________\n",
            "classification (Dense)          (None, 2)            1538        dropout[0][0]                    \n",
            "==================================================================================================\n",
            "Total params: 11,685,122\n",
            "Trainable params: 11,685,122\n",
            "Non-trainable params: 0\n",
            "__________________________________________________________________________________________________\n"
          ],
          "name": "stdout"
        }
      ]
    },
    {
      "cell_type": "markdown",
      "metadata": {
        "id": "daRXuQgoag31"
      },
      "source": [
        "## Training"
      ]
    },
    {
      "cell_type": "markdown",
      "metadata": {
        "id": "Q_URxtdzajpa"
      },
      "source": [
        "### Compile the model\n",
        "Compile the model with sparse_categorical_crossentropy loss and Adam optimizer"
      ]
    },
    {
      "cell_type": "code",
      "metadata": {
        "id": "vSjTk-ZkPs7n"
      },
      "source": [
        "metrics = ['accuracy']\n",
        "loss = tf.keras.losses.SparseCategoricalCrossentropy(from_logits=True)\n",
        "albert_model.compile(learning_rate=learning_rate, loss=loss, metrics=metrics)"
      ],
      "execution_count": 37,
      "outputs": []
    },
    {
      "cell_type": "markdown",
      "metadata": {
        "id": "omGT9b2WarhY"
      },
      "source": [
        "Define trainig parameters"
      ]
    },
    {
      "cell_type": "code",
      "metadata": {
        "id": "mlLZ0-GRavhf"
      },
      "source": [
        "EPOCHS = 4\n",
        "BATCH_SIZE = 8"
      ],
      "execution_count": 38,
      "outputs": []
    },
    {
      "cell_type": "markdown",
      "metadata": {
        "id": "_T1IpiqEayEU"
      },
      "source": [
        "### Run training\n",
        "Train the model"
      ]
    },
    {
      "cell_type": "code",
      "metadata": {
        "colab": {
          "base_uri": "https://localhost:8080/"
        },
        "id": "76oiPkJMPjMp",
        "outputId": "8ea841d8-b78d-4552-a729-155364527cb9"
      },
      "source": [
        "history = albert_model.fit(train_data, val_data, epochs=EPOCHS, batch_size=BATCH_SIZE, verbose=1)"
      ],
      "execution_count": 39,
      "outputs": [
        {
          "output_type": "stream",
          "text": [
            "Epoch 1/4\n",
            "1069/1069 [==============================] - 566s 511ms/step - loss: 0.6575 - accuracy: 0.6706 - val_loss: 0.5617 - val_accuracy: 0.7076\n",
            "Epoch 2/4\n",
            "1069/1069 [==============================] - 552s 510ms/step - loss: 0.5408 - accuracy: 0.7411 - val_loss: 0.5000 - val_accuracy: 0.7565\n",
            "Epoch 3/4\n",
            "1069/1069 [==============================] - 552s 510ms/step - loss: 0.4151 - accuracy: 0.8235 - val_loss: 0.4783 - val_accuracy: 0.7728\n",
            "Epoch 4/4\n",
            "1069/1069 [==============================] - 552s 510ms/step - loss: 0.2845 - accuracy: 0.8848 - val_loss: 0.5245 - val_accuracy: 0.7632\n"
          ],
          "name": "stdout"
        }
      ]
    },
    {
      "cell_type": "markdown",
      "metadata": {
        "id": "8X-Qym8dbg22"
      },
      "source": [
        "### Plot loss and accuracy"
      ]
    },
    {
      "cell_type": "markdown",
      "metadata": {
        "id": "3jEdtZW-a3Uj"
      },
      "source": [
        "Define plot_history function"
      ]
    },
    {
      "cell_type": "code",
      "metadata": {
        "id": "KwrXnBj-a11_"
      },
      "source": [
        "def plot_history(history):\n",
        "  acc = history.history['accuracy']\n",
        "  val_acc = history.history['val_accuracy']\n",
        "  loss = history.history['loss']\n",
        "  val_loss = history.history['val_loss']\n",
        "\n",
        "  epochs = range(1,len(acc) +1)\n",
        "\n",
        "  plt.plot(epochs,acc, 'bo' , label=\"Training acc\")\n",
        "  plt.plot(epochs,val_acc, 'b' , label=\"Validation acc\")\n",
        "  plt.title(\"Training and validation accuracy\")\n",
        "  plt.legend()\n",
        "\n",
        "  plt.figure()\n",
        "\n",
        "  plt.plot(epochs,loss, 'bo' , label=\"Training loss\")\n",
        "  plt.plot(epochs,val_loss, 'b' , label=\"Validation loss\")\n",
        "  plt.title(\"Training and validation loss\")\n",
        "  plt.legend()\n",
        "\n",
        "  plt.show()\n",
        "  return"
      ],
      "execution_count": 40,
      "outputs": []
    },
    {
      "cell_type": "markdown",
      "metadata": {
        "id": "4jTy9Lf6bUPP"
      },
      "source": [
        "Plot accuracy and loss"
      ]
    },
    {
      "cell_type": "code",
      "metadata": {
        "colab": {
          "base_uri": "https://localhost:8080/",
          "height": 545
        },
        "id": "6N13gFwhbHjb",
        "outputId": "56f760d4-f182-4b36-cc98-6bcc0a613ff9"
      },
      "source": [
        "plot_history(history)"
      ],
      "execution_count": 41,
      "outputs": [
        {
          "output_type": "display_data",
          "data": {
            "image/png": "[encoded data removed]",
            "text/plain": [
              "<Figure size 432x288 with 1 Axes>"
            ]
          },
          "metadata": {
            "tags": [],
            "needs_background": "light"
          }
        },
        {
          "output_type": "display_data",
          "data": {
            "image/png": "[encoded data removed]",
            "text/plain": [
              "<Figure size 432x288 with 1 Axes>"
            ]
          },
          "metadata": {
            "tags": [],
            "needs_background": "light"
          }
        }
      ]
    },
    {
      "cell_type": "markdown",
      "metadata": {
        "id": "exArq8qfbbCY"
      },
      "source": [
        "## Save Model"
      ]
    },
    {
      "cell_type": "code",
      "metadata": {
        "colab": {
          "base_uri": "https://localhost:8080/",
          "height": 140
        },
        "id": "dk6u6nYVGqU3",
        "outputId": "6123ed5a-be41-4be2-ba0e-55a0f7b0ad0d"
      },
      "source": [
        "albert_model.save_model(MODEL_DIR)"
      ],
      "execution_count": 42,
      "outputs": [
        {
          "output_type": "stream",
          "text": [
            "WARNING:absl:Found untraced functions such as restored_function_body, restored_function_body, restored_function_body, restored_function_body, restored_function_body while saving (showing 5 of 85). These functions will not be directly callable after loading.\n",
            "WARNING:absl:Found untraced functions such as restored_function_body, restored_function_body, restored_function_body, restored_function_body, restored_function_body while saving (showing 5 of 85). These functions will not be directly callable after loading.\n"
          ],
          "name": "stderr"
        },
        {
          "output_type": "stream",
          "text": [
            "INFO:tensorflow:Assets written to: /content/drive/MyDrive/saved_models/fine_tuned/ebano_albert_cola/model_albert_model/assets\n"
          ],
          "name": "stdout"
        },
        {
          "output_type": "stream",
          "text": [
            "INFO:tensorflow:Assets written to: /content/drive/MyDrive/saved_models/fine_tuned/ebano_albert_cola/model_albert_model/assets\n"
          ],
          "name": "stderr"
        },
        {
          "output_type": "stream",
          "text": [
            "INFO: Model saved in path:  /content/drive/MyDrive/saved_models/fine_tuned/ebano_albert_cola/model_albert_model\n"
          ],
          "name": "stdout"
        },
        {
          "output_type": "execute_result",
          "data": {
            "application/vnd.google.colaboratory.intrinsic+json": {
              "type": "string"
            },
            "text/plain": [
              "'/content/drive/MyDrive/saved_models/fine_tuned/ebano_albert_cola/model_albert_model'"
            ]
          },
          "metadata": {
            "tags": []
          },
          "execution_count": 42
        }
      ]
    },
    {
      "cell_type": "code",
      "metadata": {
        "id": "GYY9b_r3g_QP"
      },
      "source": [
        ""
      ],
      "execution_count": 42,
      "outputs": []
    }
  ]
}